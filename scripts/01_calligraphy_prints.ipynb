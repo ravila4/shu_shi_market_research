{
 "cells": [
  {
   "cell_type": "code",
   "execution_count": 1,
   "metadata": {},
   "outputs": [],
   "source": [
    "import glob\n",
    "\n",
    "import pandas as pd\n",
    "import numpy as np\n",
    "import matplotlib.pyplot as plt\n",
    "import seaborn"
   ]
  },
  {
   "cell_type": "code",
   "execution_count": 7,
   "metadata": {},
   "outputs": [],
   "source": [
    "config = {\n",
    "    \"data_folder\": \"../data/products/\",\n",
    "    \"output_folder\": \"../output/\",\n",
    "}"
   ]
  },
  {
   "cell_type": "code",
   "execution_count": 17,
   "metadata": {},
   "outputs": [],
   "source": [
    "def get_product_names():\n",
    "    \"\"\"Get the product names from the folders in the data folder.\"\"\"\n",
    "    folders = glob.glob(config[\"data_folder\"] + \"*/\")\n",
    "    product_names = [\" \".join(folder.rstrip(\"/\").split(\"_\")[1:]) for folder in folders]\n",
    "    return product_names"
   ]
  },
  {
   "cell_type": "code",
   "execution_count": 18,
   "metadata": {},
   "outputs": [
    {
     "name": "stdout",
     "output_type": "stream",
     "text": [
      "['bead bracelets and necklaces', 'chinese mid autumn gift sets', 'chinese pottery', 'chinese incense', 'chinese magnets', 'paper lanterns', 'chinese bamboo art', 'chinese washi tape', 'chinese art stickers', 'brushes and calligraphy tools', 'calligraphy prints', 'chinese bookmarks', 'name seals']\n"
     ]
    }
   ],
   "source": [
    "products = get_product_names()\n",
    "print(products)"
   ]
  },
  {
   "cell_type": "code",
   "execution_count": null,
   "metadata": {},
   "outputs": [],
   "source": []
  }
 ],
 "metadata": {
  "kernelspec": {
   "display_name": "venv",
   "language": "python",
   "name": "python3"
  },
  "language_info": {
   "codemirror_mode": {
    "name": "ipython",
    "version": 3
   },
   "file_extension": ".py",
   "mimetype": "text/x-python",
   "name": "python",
   "nbconvert_exporter": "python",
   "pygments_lexer": "ipython3",
   "version": "3.12.0"
  }
 },
 "nbformat": 4,
 "nbformat_minor": 2
}
