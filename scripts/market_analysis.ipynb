{
 "cells": [
  {
   "cell_type": "code",
   "execution_count": 350,
   "metadata": {},
   "outputs": [],
   "source": [
    "import glob\n",
    "import io\n",
    "import logging\n",
    "import random\n",
    "import os\n",
    "import time\n",
    "from typing import Dict, List\n",
    "\n",
    "import matplotlib.pyplot as plt\n",
    "import numpy as np\n",
    "import pandas as pd\n",
    "import plotly.graph_objects as go\n",
    "import requests\n",
    "import seaborn\n",
    "from bs4 import BeautifulSoup\n",
    "from IPython.display import HTML, Image, display\n",
    "from PIL import Image\n",
    "from plotly.io import to_image\n",
    "from plotly.offline import plot\n",
    "from plotly.subplots import make_subplots\n",
    "from tenacity import retry, stop_after_attempt, wait_fixed, wait_random\n",
    "from tqdm import tqdm\n",
    "\n",
    "\n",
    "logging.basicConfig(\n",
    "    level=logging.INFO, format=\"%(asctime)s - %(levelname)s - %(message)s\"\n",
    ")\n",
    "\n",
    "tqdm.pandas()"
   ]
  },
  {
   "cell_type": "code",
   "execution_count": 351,
   "metadata": {},
   "outputs": [],
   "source": [
    "config = {\n",
    "    \"data_folder\": \"../data/products/\",\n",
    "    \"output_folder\": \"../output/\",\n",
    "}"
   ]
  },
  {
   "cell_type": "code",
   "execution_count": 352,
   "metadata": {},
   "outputs": [],
   "source": [
    "def get_product_names():\n",
    "    \"\"\"Get the product names from the folders in the data folder.\"\"\"\n",
    "    folders = glob.glob(config[\"data_folder\"] + \"*/\")\n",
    "    product_names = [\n",
    "        (folder, \" \".join(folder.rstrip(\"/\").split(\"_\")[1:])) for folder in folders\n",
    "    ]\n",
    "    return product_names"
   ]
  },
  {
   "cell_type": "code",
   "execution_count": 353,
   "metadata": {},
   "outputs": [
    {
     "name": "stdout",
     "output_type": "stream",
     "text": [
      "[('../data/products/03_bead_bracelets_and_necklaces/', 'bead bracelets and necklaces'), ('../data/products/08_chinese_mid_autumn_gift_sets/', 'chinese mid autumn gift sets'), ('../data/products/12_chinese_pottery/', 'chinese pottery'), ('../data/products/07_chinese_incense/', 'chinese incense'), ('../data/products/13_chinese_magnets/', 'chinese magnets'), ('../data/products/04_paper_lanterns/', 'paper lanterns'), ('../data/products/06_chinese_bamboo_art/', 'chinese bamboo art'), ('../data/products/11_chinese_washi_tape/', 'chinese washi tape'), ('../data/products/10_chinese_art_stickers/', 'chinese art stickers'), ('../data/products/05_brushes_and_calligraphy_tools/', 'brushes and calligraphy tools'), ('../data/products/01_calligraphy_prints/', 'calligraphy prints'), ('../data/products/09_chinese_bookmarks/', 'chinese bookmarks'), ('../data/products/02_name_seals/', 'name seals')]\n"
     ]
    }
   ],
   "source": [
    "products = get_product_names()\n",
    "print(products)"
   ]
  },
  {
   "cell_type": "code",
   "execution_count": 354,
   "metadata": {},
   "outputs": [],
   "source": [
    "chinese_translations = {\n",
    "    \"bead bracelets and necklaces\": \"珠子手链和项链\",\n",
    "    \"chinese mid autumn gift sets\": \"中秋节礼品套装\",\n",
    "    \"chinese pottery\": \"中国陶器\",\n",
    "    \"chinese incense\": \"中国香\",\n",
    "    \"chinese magnets\": \"中国冰箱贴\",\n",
    "    \"paper lanterns\": \"纸灯笼\",\n",
    "    \"chinese bamboo art\": \"中国竹艺\",\n",
    "    \"chinese washi tape\": \"中国和纸胶带\",\n",
    "    \"chinese art stickers\": \"中国艺术贴纸\",\n",
    "    \"brushes and calligraphy tools\": \"笔和书法工具\",\n",
    "    \"calligraphy prints\": \"书法印刷品\",\n",
    "    \"chinese bookmarks\": \"中国书签\",\n",
    "    \"name seals\": \"印章\",\n",
    "}"
   ]
  },
  {
   "cell_type": "code",
   "execution_count": 355,
   "metadata": {},
   "outputs": [],
   "source": [
    "def get_search_term_from_file_name(file_name: str) -> str:\n",
    "    \"\"\"Get the search term from the file name.\"\"\"\n",
    "    return file_name.replace(\"_product_detail.csv\", \"\").replace(\"_\", \" \")\n",
    "\n",
    "\n",
    "def get_product_data(data_folder: str, product_name: str) -> pd.DataFrame:\n",
    "    \"\"\"Get the data for a product, loaded into a Polars DataFrame.\"\"\"\n",
    "    files = glob.glob(data_folder + \"/*.csv\")\n",
    "    dataframes = []\n",
    "    for file in files:\n",
    "        df = pd.read_csv(file)\n",
    "        # Add the search term and product name to the dataframe\n",
    "        df[\"search_term\"] = get_search_term_from_file_name(os.path.basename(file))\n",
    "        df[\"product_name\"] = product_name\n",
    "        df[\"Tags\"] = df[\"Tags\"].apply(lambda x: x.split(\",\"))\n",
    "        df['Price(\"$\")'] = df['Price(\"$\")'].astype(str)\n",
    "        df[\"price\"] = df['Price(\"$\")'].str.replace(\",\", \"\").astype(float)\n",
    "        df[\"proceeds\"] = df[\"price\"] * df[\"Total Sales\"]\n",
    "        df[\"has_sales\"] = df[\"Total Sales\"] > 0\n",
    "        df[\"product_name_chinese_name\"] = (\n",
    "            df[\"product_name\"]\n",
    "            + \" (\"\n",
    "            + df[\"product_name\"].map(chinese_translations)\n",
    "            + \")\"\n",
    "        )\n",
    "        dataframes.append(df)\n",
    "\n",
    "    # Concatenate the dataframes\n",
    "    joined_df = pd.concat(dataframes)\n",
    "    # Drop duplicates by URL\n",
    "    joined_df = joined_df.drop_duplicates(subset=[\"Product URL\"])\n",
    "    return joined_df\n",
    "\n",
    "\n",
    "def get_all_product_data(products: List[str]) -> pd.DataFrame:\n",
    "    \"\"\"Get all the product data for a list of products.\"\"\"\n",
    "    dataframes = []\n",
    "    for product in products:\n",
    "        dataframes.append(get_product_data(product[0], product[1]))\n",
    "    return pd.concat(dataframes)"
   ]
  },
  {
   "cell_type": "code",
   "execution_count": 356,
   "metadata": {},
   "outputs": [],
   "source": [
    "all_product_data = get_all_product_data(products)"
   ]
  },
  {
   "cell_type": "code",
   "execution_count": 357,
   "metadata": {},
   "outputs": [],
   "source": [
    "# Remove the chinese magnets that are not actually magnets\n",
    "all_product_data = all_product_data[\n",
    "    ~(\n",
    "        (all_product_data[\"product_name\"] == \"chinese magnets\")\n",
    "        & ~all_product_data[\"Product URL\"].str.contains(\"magnet\")\n",
    "    )\n",
    "]\n",
    "\n",
    "# Remove washi tape that is not actually tape\n",
    "all_product_data = all_product_data[\n",
    "    ~(\n",
    "        (all_product_data[\"product_name\"] == \"chinese washi tape\")\n",
    "        & ~all_product_data[\"Product URL\"].str.contains(\"tape\")\n",
    "    )\n",
    "]"
   ]
  },
  {
   "cell_type": "code",
   "execution_count": 358,
   "metadata": {},
   "outputs": [
    {
     "data": {
      "text/html": [
       "<div>\n",
       "<style scoped>\n",
       "    .dataframe tbody tr th:only-of-type {\n",
       "        vertical-align: middle;\n",
       "    }\n",
       "\n",
       "    .dataframe tbody tr th {\n",
       "        vertical-align: top;\n",
       "    }\n",
       "\n",
       "    .dataframe thead th {\n",
       "        text-align: right;\n",
       "    }\n",
       "</style>\n",
       "<table border=\"1\" class=\"dataframe\">\n",
       "  <thead>\n",
       "    <tr style=\"text-align: right;\">\n",
       "      <th></th>\n",
       "      <th>Title</th>\n",
       "      <th>Category</th>\n",
       "      <th>Price(\"$\")</th>\n",
       "      <th>7-day sales</th>\n",
       "      <th>Total Sales</th>\n",
       "      <th>Total Reviews</th>\n",
       "      <th>7-day Reviews</th>\n",
       "      <th>Total Favorites</th>\n",
       "      <th>7-day Favorites</th>\n",
       "      <th>Tags</th>\n",
       "      <th>...</th>\n",
       "      <th>Raving</th>\n",
       "      <th>Store Name</th>\n",
       "      <th>Product URL</th>\n",
       "      <th>Image URL</th>\n",
       "      <th>search_term</th>\n",
       "      <th>product_name</th>\n",
       "      <th>price</th>\n",
       "      <th>proceeds</th>\n",
       "      <th>has_sales</th>\n",
       "      <th>product_name_chinese_name</th>\n",
       "    </tr>\n",
       "  </thead>\n",
       "  <tbody>\n",
       "    <tr>\n",
       "      <th>0</th>\n",
       "      <td>Jade Plate, Type A Genuine Jade, Customizable Jadeite, Loose Gemstones, Fine Jadeite, Wholesale Gemstones, Curved Jade, Gifts for Friends</td>\n",
       "      <td>Craft Supplies &amp; Tools</td>\n",
       "      <td>176.12</td>\n",
       "      <td>0</td>\n",
       "      <td>0</td>\n",
       "      <td>0</td>\n",
       "      <td>0</td>\n",
       "      <td>0</td>\n",
       "      <td>0</td>\n",
       "      <td>[Jade, Handmade, Traditional, Loose Stone, Loose Gemstone, Jade Bead, Jade Loose Beads, Jewelry Supplies, Custom Jewelry, Jade Square, Green Bead, Gift of Her, Gifts for Girlfriend, Gifts for Mom, Gifts for Sister, Gifts for Wife, Anniversary Gifts, Birthday Gifts, Christmas Gifts, Gifts for Friends, Gifts for Her, Personalized Gifts, Gifts]</td>\n",
       "      <td>...</td>\n",
       "      <td>False</td>\n",
       "      <td>GranskyJewellery</td>\n",
       "      <td>https://www.etsy.com/listing/1632492895/jade-plate-type-a-genuine-jade</td>\n",
       "      <td>Upgrade Pro to Unlock</td>\n",
       "      <td>traditional stone bead jewelry</td>\n",
       "      <td>bead bracelets and necklaces</td>\n",
       "      <td>176.12</td>\n",
       "      <td>0.00</td>\n",
       "      <td>False</td>\n",
       "      <td>bead bracelets and necklaces (珠子手链和项链)</td>\n",
       "    </tr>\n",
       "    <tr>\n",
       "      <th>1</th>\n",
       "      <td>Green/Pink Bangle set, 22k Gold Plated, White CZ Bangles Set, Kadas, Mix n Match bangles</td>\n",
       "      <td>Jewelry &gt; Bracelets &gt; Bangles</td>\n",
       "      <td>59.0</td>\n",
       "      <td>0</td>\n",
       "      <td>7</td>\n",
       "      <td>0</td>\n",
       "      <td>0</td>\n",
       "      <td>16</td>\n",
       "      <td>0</td>\n",
       "      <td>[Bangles Set, Indian Bangles, Traditional Bangles, Wedding Bangles, Gold Plated Bangles, Kadas, Gold Bangles, Bracelet Bangles, Indian Jewelry, Black Stone Bangles, Brides Bangles, Black Bead Bangles, Gifts for Girlfriend, Gifts for Mom, Gifts for Sister, Gifts for Wife, Anniversary Gifts, Birthday Gifts, Christmas Gifts, Gifts for Her, Housewarming Gifts, Personalized Gifts, Gifts]</td>\n",
       "      <td>...</td>\n",
       "      <td>False</td>\n",
       "      <td>NemaliJewelry</td>\n",
       "      <td>https://www.etsy.com/listing/762738828/greenpink-bangle-set-22k-gold-plated</td>\n",
       "      <td>Upgrade Pro to Unlock</td>\n",
       "      <td>traditional stone bead jewelry</td>\n",
       "      <td>bead bracelets and necklaces</td>\n",
       "      <td>59.00</td>\n",
       "      <td>413.00</td>\n",
       "      <td>True</td>\n",
       "      <td>bead bracelets and necklaces (珠子手链和项链)</td>\n",
       "    </tr>\n",
       "    <tr>\n",
       "      <th>2</th>\n",
       "      <td>Catholic Rosary Beads. Semi Precious Turquoise Jasper Stone Beads. Traditional Rosary. 5 Decade Catholic Rosary. Catholic Gift.</td>\n",
       "      <td>Home &amp; Living &gt; Spirituality &amp; Religion &gt; Prayer Beads &amp; Charms &gt; Rosaries</td>\n",
       "      <td>59.99</td>\n",
       "      <td>0</td>\n",
       "      <td>0</td>\n",
       "      <td>0</td>\n",
       "      <td>0</td>\n",
       "      <td>44</td>\n",
       "      <td>0</td>\n",
       "      <td>[Miraculous Mary, Womans Rosary, Catholic Gifts, Catholic Jewelry, Catholic Prayer Bead, Catholic, Jasper Stone Beads, Rosary Catholic, Catholic Gift, 5 Decade Rosary, Traditional Rosary, Jasper Beads, 5 Decade, Gifts]</td>\n",
       "      <td>...</td>\n",
       "      <td>False</td>\n",
       "      <td>RosariesByHeidi</td>\n",
       "      <td>https://www.etsy.com/listing/587645665/catholic-rosary-beads-semi-precious</td>\n",
       "      <td>Upgrade Pro to Unlock</td>\n",
       "      <td>traditional stone bead jewelry</td>\n",
       "      <td>bead bracelets and necklaces</td>\n",
       "      <td>59.99</td>\n",
       "      <td>0.00</td>\n",
       "      <td>False</td>\n",
       "      <td>bead bracelets and necklaces (珠子手链和项链)</td>\n",
       "    </tr>\n",
       "    <tr>\n",
       "      <th>3</th>\n",
       "      <td>Seed Bead Stitching - Creative Variations On Traditional Techniques By Beth Stone Paperback Beaded Jewelry Pattern Book 2007</td>\n",
       "      <td>Craft Supplies &amp; Tools</td>\n",
       "      <td>8.75</td>\n",
       "      <td>0</td>\n",
       "      <td>5</td>\n",
       "      <td>0</td>\n",
       "      <td>0</td>\n",
       "      <td>4</td>\n",
       "      <td>0</td>\n",
       "      <td>[Beading Book, Beaded Necklace, Making Jewelry, Beaded Jewelry, Beaded Bracelet, Beaded Earrings, Daisy Chain, Brick Stitch, Peyote Stitch, Beth Stone, Russian Stitches, Seed Bead Stitching, Spiral Rope Stitch]</td>\n",
       "      <td>...</td>\n",
       "      <td>False</td>\n",
       "      <td>NeedANeedle</td>\n",
       "      <td>https://www.etsy.com/listing/1024845656/seed-bead-stitching-creative-variations</td>\n",
       "      <td>Upgrade Pro to Unlock</td>\n",
       "      <td>traditional stone bead jewelry</td>\n",
       "      <td>bead bracelets and necklaces</td>\n",
       "      <td>8.75</td>\n",
       "      <td>43.75</td>\n",
       "      <td>True</td>\n",
       "      <td>bead bracelets and necklaces (珠子手链和项链)</td>\n",
       "    </tr>\n",
       "    <tr>\n",
       "      <th>4</th>\n",
       "      <td>Jade Plate, Type A Genuine Jade, Customizable Jadeite, Loose Gemstones, Fine Jadeite, Wholesale Gemstones, Curved Jade, Father's Day Gifts</td>\n",
       "      <td>Jewelry &gt; Necklaces &gt; Charm Necklaces</td>\n",
       "      <td>251.88</td>\n",
       "      <td>0</td>\n",
       "      <td>0</td>\n",
       "      <td>0</td>\n",
       "      <td>0</td>\n",
       "      <td>3</td>\n",
       "      <td>0</td>\n",
       "      <td>[Jade, Handmade, Traditional, Gemstones, Loose Stone, Loose Gemstone, Jade Bead, Jewelry Supplies, Custom Jewelry, Jade Square, Green Bead, Jade Loose Beads, Gift of Her, Gifts for Boyfriend, Gifts for Dad, Gifts for Girlfriend, Gifts for Husband, Gifts for Mom, Gifts for Sister, Gifts for Wife, Anniversary Gifts, Birthday Gifts, Christmas Gifts, Gifts for Friends, Gifts for Her, Gifts for Him, Housewarming Gifts, Personalized Gifts, Gifts]</td>\n",
       "      <td>...</td>\n",
       "      <td>False</td>\n",
       "      <td>GranskyJewellery</td>\n",
       "      <td>https://www.etsy.com/listing/1475770717/jade-plate-type-a-genuine-jade</td>\n",
       "      <td>Upgrade Pro to Unlock</td>\n",
       "      <td>traditional stone bead jewelry</td>\n",
       "      <td>bead bracelets and necklaces</td>\n",
       "      <td>251.88</td>\n",
       "      <td>0.00</td>\n",
       "      <td>False</td>\n",
       "      <td>bead bracelets and necklaces (珠子手链和项链)</td>\n",
       "    </tr>\n",
       "    <tr>\n",
       "      <th>...</th>\n",
       "      <td>...</td>\n",
       "      <td>...</td>\n",
       "      <td>...</td>\n",
       "      <td>...</td>\n",
       "      <td>...</td>\n",
       "      <td>...</td>\n",
       "      <td>...</td>\n",
       "      <td>...</td>\n",
       "      <td>...</td>\n",
       "      <td>...</td>\n",
       "      <td>...</td>\n",
       "      <td>...</td>\n",
       "      <td>...</td>\n",
       "      <td>...</td>\n",
       "      <td>...</td>\n",
       "      <td>...</td>\n",
       "      <td>...</td>\n",
       "      <td>...</td>\n",
       "      <td>...</td>\n",
       "      <td>...</td>\n",
       "      <td>...</td>\n",
       "    </tr>\n",
       "    <tr>\n",
       "      <th>93</th>\n",
       "      <td>Vintage Boxed Pair of Chinese Stone Chop Seals Hand Carved Chinese Painting Oriental Calligraphy Oriental Home Decor</td>\n",
       "      <td>Home &amp; Living &gt; Home Decor &gt; Ornaments &amp; Accents &gt; Ornaments</td>\n",
       "      <td>63.27</td>\n",
       "      <td>0</td>\n",
       "      <td>3</td>\n",
       "      <td>0</td>\n",
       "      <td>0</td>\n",
       "      <td>12</td>\n",
       "      <td>0</td>\n",
       "      <td>[False]</td>\n",
       "      <td>...</td>\n",
       "      <td>False</td>\n",
       "      <td>VintageVarietyStudio</td>\n",
       "      <td>https://www.etsy.com/listing/1292904295/vintage-boxed-pair-of-chinese-stone-chop</td>\n",
       "      <td>Upgrade Pro to Unlock</td>\n",
       "      <td>chinese calligraphy seals</td>\n",
       "      <td>name seals</td>\n",
       "      <td>63.27</td>\n",
       "      <td>189.81</td>\n",
       "      <td>True</td>\n",
       "      <td>name seals (印章)</td>\n",
       "    </tr>\n",
       "    <tr>\n",
       "      <th>94</th>\n",
       "      <td>Craft Chinese Chop Cinnabar Stamp Ink Pad</td>\n",
       "      <td>Craft Supplies &amp; Tools</td>\n",
       "      <td>9.0</td>\n",
       "      <td>0</td>\n",
       "      <td>0</td>\n",
       "      <td>0</td>\n",
       "      <td>0</td>\n",
       "      <td>0</td>\n",
       "      <td>0</td>\n",
       "      <td>[Craft Supplies &amp; Tools, Stamps &amp; Seals, Stamps, Red ink, Chinese art, Chinese Calligraphy, Cinnabar Red Ink, Chinese Stamp chop, World of Bacara, gift idea, birthday present, christmas gift, new years present, home decor, Bamboo Design, blue white porcelain]</td>\n",
       "      <td>...</td>\n",
       "      <td>False</td>\n",
       "      <td>WorldofBacara</td>\n",
       "      <td>https://www.etsy.com/listing/1533034599/craft-chinese-chop-cinnabar-stamp-ink</td>\n",
       "      <td>Upgrade Pro to Unlock</td>\n",
       "      <td>chinese calligraphy seals</td>\n",
       "      <td>name seals</td>\n",
       "      <td>9.00</td>\n",
       "      <td>0.00</td>\n",
       "      <td>False</td>\n",
       "      <td>name seals (印章)</td>\n",
       "    </tr>\n",
       "    <tr>\n",
       "      <th>43</th>\n",
       "      <td>Personalized Korean Name Stamp Dojang Customize  Korean Stamps Handmade Personalized Korean Dojang Chinese Stone Name Stamp Seal</td>\n",
       "      <td>Craft Supplies &amp; Tools</td>\n",
       "      <td>45.99</td>\n",
       "      <td>0</td>\n",
       "      <td>16</td>\n",
       "      <td>0</td>\n",
       "      <td>0</td>\n",
       "      <td>65</td>\n",
       "      <td>0</td>\n",
       "      <td>[Square, Korean Name Stamp, Dojang, Korean Stamps, Korean Dojang, Name Stamp, Personalized Gifts]</td>\n",
       "      <td>...</td>\n",
       "      <td>False</td>\n",
       "      <td>SemliCalligraphy</td>\n",
       "      <td>https://www.etsy.com/listing/703128950/personalized-korean-name-stamp-dojang</td>\n",
       "      <td>Upgrade Pro to Unlock</td>\n",
       "      <td>chinese name stamps</td>\n",
       "      <td>name seals</td>\n",
       "      <td>45.99</td>\n",
       "      <td>735.84</td>\n",
       "      <td>True</td>\n",
       "      <td>name seals (印章)</td>\n",
       "    </tr>\n",
       "    <tr>\n",
       "      <th>215</th>\n",
       "      <td>Customized Chinese name stone seal (Oval)/ Chinese seal/ Chinese name stamp/ japanese name stamp/ mandarin name/ soap stone/ personalised</td>\n",
       "      <td>Craft Supplies &amp; Tools</td>\n",
       "      <td>53.21</td>\n",
       "      <td>0</td>\n",
       "      <td>0</td>\n",
       "      <td>4</td>\n",
       "      <td>0</td>\n",
       "      <td>94</td>\n",
       "      <td>0</td>\n",
       "      <td>[Stone Seal, Seal, Stamps, Chinese, Oriental, Customize, Personalise, Name, Asian, Traditional, Chinese Name Stamp, Personlize, Personalized Gifts]</td>\n",
       "      <td>...</td>\n",
       "      <td>False</td>\n",
       "      <td>Baisimu</td>\n",
       "      <td>https://www.etsy.com/listing/603844244/customized-chinese-name-stone-seal-oval</td>\n",
       "      <td>Upgrade Pro to Unlock</td>\n",
       "      <td>chinese name stamps</td>\n",
       "      <td>name seals</td>\n",
       "      <td>53.21</td>\n",
       "      <td>0.00</td>\n",
       "      <td>False</td>\n",
       "      <td>name seals (印章)</td>\n",
       "    </tr>\n",
       "    <tr>\n",
       "      <th>227</th>\n",
       "      <td>Personal Name Seal / Seal Carving / Stone Seal Stamp / Chinese White Square Seal With Your Name Hand Engraved / Custom Made Seal Set</td>\n",
       "      <td>Art &amp; Collectibles</td>\n",
       "      <td>25.95</td>\n",
       "      <td>0</td>\n",
       "      <td>0</td>\n",
       "      <td>25</td>\n",
       "      <td>0</td>\n",
       "      <td>408</td>\n",
       "      <td>0</td>\n",
       "      <td>[Chinese Seal, Personal Seal, Name Seal, Seal Carving, Stone Seal Stamp, Personal Name Stamp, Character Chop, Chinese Stamp Seal, Personal Name Seal, Personal Name Chop, Chinese Stone Chops, Chinese Chop Stamps, Personalized Chops, Personalized Gifts]</td>\n",
       "      <td>...</td>\n",
       "      <td>False</td>\n",
       "      <td>CalligraphyforGod</td>\n",
       "      <td>https://www.etsy.com/listing/623856696/personal-name-seal-seal-carving-stone</td>\n",
       "      <td>Upgrade Pro to Unlock</td>\n",
       "      <td>chinese name stamps</td>\n",
       "      <td>name seals</td>\n",
       "      <td>25.95</td>\n",
       "      <td>0.00</td>\n",
       "      <td>False</td>\n",
       "      <td>name seals (印章)</td>\n",
       "    </tr>\n",
       "  </tbody>\n",
       "</table>\n",
       "<p>3578 rows × 24 columns</p>\n",
       "</div>"
      ],
      "text/plain": [
       "                                                                                                                                           Title  \\\n",
       "0     Jade Plate, Type A Genuine Jade, Customizable Jadeite, Loose Gemstones, Fine Jadeite, Wholesale Gemstones, Curved Jade, Gifts for Friends    \n",
       "1                                                      Green/Pink Bangle set, 22k Gold Plated, White CZ Bangles Set, Kadas, Mix n Match bangles    \n",
       "2               Catholic Rosary Beads. Semi Precious Turquoise Jasper Stone Beads. Traditional Rosary. 5 Decade Catholic Rosary. Catholic Gift.    \n",
       "3                  Seed Bead Stitching - Creative Variations On Traditional Techniques By Beth Stone Paperback Beaded Jewelry Pattern Book 2007    \n",
       "4    Jade Plate, Type A Genuine Jade, Customizable Jadeite, Loose Gemstones, Fine Jadeite, Wholesale Gemstones, Curved Jade, Father's Day Gifts    \n",
       "..                                                                                                                                           ...   \n",
       "93                         Vintage Boxed Pair of Chinese Stone Chop Seals Hand Carved Chinese Painting Oriental Calligraphy Oriental Home Decor    \n",
       "94                                                                                                    Craft Chinese Chop Cinnabar Stamp Ink Pad    \n",
       "43             Personalized Korean Name Stamp Dojang Customize  Korean Stamps Handmade Personalized Korean Dojang Chinese Stone Name Stamp Seal    \n",
       "215   Customized Chinese name stone seal (Oval)/ Chinese seal/ Chinese name stamp/ japanese name stamp/ mandarin name/ soap stone/ personalised    \n",
       "227        Personal Name Seal / Seal Carving / Stone Seal Stamp / Chinese White Square Seal With Your Name Hand Engraved / Custom Made Seal Set    \n",
       "\n",
       "                                                                       Category  \\\n",
       "0                                                        Craft Supplies & Tools   \n",
       "1                                                 Jewelry > Bracelets > Bangles   \n",
       "2    Home & Living > Spirituality & Religion > Prayer Beads & Charms > Rosaries   \n",
       "3                                                        Craft Supplies & Tools   \n",
       "4                                         Jewelry > Necklaces > Charm Necklaces   \n",
       "..                                                                          ...   \n",
       "93                 Home & Living > Home Decor > Ornaments & Accents > Ornaments   \n",
       "94                                                       Craft Supplies & Tools   \n",
       "43                                                       Craft Supplies & Tools   \n",
       "215                                                      Craft Supplies & Tools   \n",
       "227                                                          Art & Collectibles   \n",
       "\n",
       "    Price(\"$\")  7-day sales  Total Sales  Total Reviews  7-day Reviews  \\\n",
       "0       176.12            0            0              0              0   \n",
       "1         59.0            0            7              0              0   \n",
       "2        59.99            0            0              0              0   \n",
       "3         8.75            0            5              0              0   \n",
       "4       251.88            0            0              0              0   \n",
       "..         ...          ...          ...            ...            ...   \n",
       "93       63.27            0            3              0              0   \n",
       "94         9.0            0            0              0              0   \n",
       "43       45.99            0           16              0              0   \n",
       "215      53.21            0            0              4              0   \n",
       "227      25.95            0            0             25              0   \n",
       "\n",
       "     Total Favorites  7-day Favorites  \\\n",
       "0                  0                0   \n",
       "1                 16                0   \n",
       "2                 44                0   \n",
       "3                  4                0   \n",
       "4                  3                0   \n",
       "..               ...              ...   \n",
       "93                12                0   \n",
       "94                 0                0   \n",
       "43                65                0   \n",
       "215               94                0   \n",
       "227              408                0   \n",
       "\n",
       "                                                                                                                                                                                                                                                                                                                                                                                                                                                             Tags  \\\n",
       "0                                                                                                         [Jade, Handmade, Traditional, Loose Stone, Loose Gemstone, Jade Bead, Jade Loose Beads, Jewelry Supplies, Custom Jewelry, Jade Square, Green Bead, Gift of Her, Gifts for Girlfriend, Gifts for Mom, Gifts for Sister, Gifts for Wife, Anniversary Gifts, Birthday Gifts, Christmas Gifts, Gifts for Friends, Gifts for Her, Personalized Gifts, Gifts]   \n",
       "1                                                               [Bangles Set, Indian Bangles, Traditional Bangles, Wedding Bangles, Gold Plated Bangles, Kadas, Gold Bangles, Bracelet Bangles, Indian Jewelry, Black Stone Bangles, Brides Bangles, Black Bead Bangles, Gifts for Girlfriend, Gifts for Mom, Gifts for Sister, Gifts for Wife, Anniversary Gifts, Birthday Gifts, Christmas Gifts, Gifts for Her, Housewarming Gifts, Personalized Gifts, Gifts]   \n",
       "2                                                                                                                                                                                                                                      [Miraculous Mary, Womans Rosary, Catholic Gifts, Catholic Jewelry, Catholic Prayer Bead, Catholic, Jasper Stone Beads, Rosary Catholic, Catholic Gift, 5 Decade Rosary, Traditional Rosary, Jasper Beads, 5 Decade, Gifts]   \n",
       "3                                                                                                                                                                                                                                              [Beading Book, Beaded Necklace, Making Jewelry, Beaded Jewelry, Beaded Bracelet, Beaded Earrings, Daisy Chain, Brick Stitch, Peyote Stitch, Beth Stone, Russian Stitches, Seed Bead Stitching, Spiral Rope Stitch]   \n",
       "4    [Jade, Handmade, Traditional, Gemstones, Loose Stone, Loose Gemstone, Jade Bead, Jewelry Supplies, Custom Jewelry, Jade Square, Green Bead, Jade Loose Beads, Gift of Her, Gifts for Boyfriend, Gifts for Dad, Gifts for Girlfriend, Gifts for Husband, Gifts for Mom, Gifts for Sister, Gifts for Wife, Anniversary Gifts, Birthday Gifts, Christmas Gifts, Gifts for Friends, Gifts for Her, Gifts for Him, Housewarming Gifts, Personalized Gifts, Gifts]   \n",
       "..                                                                                                                                                                                                                                                                                                                                                                                                                                                            ...   \n",
       "93                                                                                                                                                                                                                                                                                                                                                                                                                                                        [False]   \n",
       "94                                                                                                                                                                                            [Craft Supplies & Tools, Stamps & Seals, Stamps, Red ink, Chinese art, Chinese Calligraphy, Cinnabar Red Ink, Chinese Stamp chop, World of Bacara, gift idea, birthday present, christmas gift, new years present, home decor, Bamboo Design, blue white porcelain]   \n",
       "43                                                                                                                                                                                                                                                                                                                                                              [Square, Korean Name Stamp, Dojang, Korean Stamps, Korean Dojang, Name Stamp, Personalized Gifts]   \n",
       "215                                                                                                                                                                                                                                                                                                           [Stone Seal, Seal, Stamps, Chinese, Oriental, Customize, Personalise, Name, Asian, Traditional, Chinese Name Stamp, Personlize, Personalized Gifts]   \n",
       "227                                                                                                                                                                                                   [Chinese Seal, Personal Seal, Name Seal, Seal Carving, Stone Seal Stamp, Personal Name Stamp, Character Chop, Chinese Stamp Seal, Personal Name Seal, Personal Name Chop, Chinese Stone Chops, Chinese Chop Stamps, Personalized Chops, Personalized Gifts]   \n",
       "\n",
       "     ... Raving            Store Name  \\\n",
       "0    ...  False      GranskyJewellery   \n",
       "1    ...  False         NemaliJewelry   \n",
       "2    ...  False       RosariesByHeidi   \n",
       "3    ...  False           NeedANeedle   \n",
       "4    ...  False      GranskyJewellery   \n",
       "..   ...    ...                   ...   \n",
       "93   ...  False  VintageVarietyStudio   \n",
       "94   ...  False         WorldofBacara   \n",
       "43   ...  False      SemliCalligraphy   \n",
       "215  ...  False               Baisimu   \n",
       "227  ...  False     CalligraphyforGod   \n",
       "\n",
       "                                                                          Product URL  \\\n",
       "0              https://www.etsy.com/listing/1632492895/jade-plate-type-a-genuine-jade   \n",
       "1         https://www.etsy.com/listing/762738828/greenpink-bangle-set-22k-gold-plated   \n",
       "2          https://www.etsy.com/listing/587645665/catholic-rosary-beads-semi-precious   \n",
       "3     https://www.etsy.com/listing/1024845656/seed-bead-stitching-creative-variations   \n",
       "4              https://www.etsy.com/listing/1475770717/jade-plate-type-a-genuine-jade   \n",
       "..                                                                                ...   \n",
       "93   https://www.etsy.com/listing/1292904295/vintage-boxed-pair-of-chinese-stone-chop   \n",
       "94      https://www.etsy.com/listing/1533034599/craft-chinese-chop-cinnabar-stamp-ink   \n",
       "43       https://www.etsy.com/listing/703128950/personalized-korean-name-stamp-dojang   \n",
       "215    https://www.etsy.com/listing/603844244/customized-chinese-name-stone-seal-oval   \n",
       "227      https://www.etsy.com/listing/623856696/personal-name-seal-seal-carving-stone   \n",
       "\n",
       "                 Image URL                     search_term  \\\n",
       "0    Upgrade Pro to Unlock  traditional stone bead jewelry   \n",
       "1    Upgrade Pro to Unlock  traditional stone bead jewelry   \n",
       "2    Upgrade Pro to Unlock  traditional stone bead jewelry   \n",
       "3    Upgrade Pro to Unlock  traditional stone bead jewelry   \n",
       "4    Upgrade Pro to Unlock  traditional stone bead jewelry   \n",
       "..                     ...                             ...   \n",
       "93   Upgrade Pro to Unlock       chinese calligraphy seals   \n",
       "94   Upgrade Pro to Unlock       chinese calligraphy seals   \n",
       "43   Upgrade Pro to Unlock             chinese name stamps   \n",
       "215  Upgrade Pro to Unlock             chinese name stamps   \n",
       "227  Upgrade Pro to Unlock             chinese name stamps   \n",
       "\n",
       "                     product_name   price proceeds has_sales  \\\n",
       "0    bead bracelets and necklaces  176.12     0.00     False   \n",
       "1    bead bracelets and necklaces   59.00   413.00      True   \n",
       "2    bead bracelets and necklaces   59.99     0.00     False   \n",
       "3    bead bracelets and necklaces    8.75    43.75      True   \n",
       "4    bead bracelets and necklaces  251.88     0.00     False   \n",
       "..                            ...     ...      ...       ...   \n",
       "93                     name seals   63.27   189.81      True   \n",
       "94                     name seals    9.00     0.00     False   \n",
       "43                     name seals   45.99   735.84      True   \n",
       "215                    name seals   53.21     0.00     False   \n",
       "227                    name seals   25.95     0.00     False   \n",
       "\n",
       "                  product_name_chinese_name  \n",
       "0    bead bracelets and necklaces (珠子手链和项链)  \n",
       "1    bead bracelets and necklaces (珠子手链和项链)  \n",
       "2    bead bracelets and necklaces (珠子手链和项链)  \n",
       "3    bead bracelets and necklaces (珠子手链和项链)  \n",
       "4    bead bracelets and necklaces (珠子手链和项链)  \n",
       "..                                      ...  \n",
       "93                          name seals (印章)  \n",
       "94                          name seals (印章)  \n",
       "43                          name seals (印章)  \n",
       "215                         name seals (印章)  \n",
       "227                         name seals (印章)  \n",
       "\n",
       "[3578 rows x 24 columns]"
      ]
     },
     "execution_count": 358,
     "metadata": {},
     "output_type": "execute_result"
    }
   ],
   "source": [
    "all_product_data"
   ]
  },
  {
   "cell_type": "code",
   "execution_count": 305,
   "metadata": {},
   "outputs": [],
   "source": [
    "# Output the data to a CSV file\n",
    "all_product_data.to_csv(config[\"output_folder\"] + \"all_product_data.csv\", index=False)"
   ]
  },
  {
   "cell_type": "code",
   "execution_count": 306,
   "metadata": {},
   "outputs": [],
   "source": [
    "def to_html(fig, file_name: str):\n",
    "    \"\"\"Save a Plotly figure to an HTML file.\"\"\"\n",
    "    plot(fig, filename=file_name)\n",
    "\n",
    "\n",
    "def format_col_for_title(col: str) -> str:\n",
    "    \"\"\"Format a column name for a title.\"\"\"\n",
    "    return \" \".join(col.split(\"_\")).title()\n",
    "\n",
    "\n",
    "def plot_violin_plotly(data, x, y, remove_outliers=False):\n",
    "    if remove_outliers:\n",
    "        # Calculate the 1st and 3rd quartiles\n",
    "        q1 = data[x].quantile(0.25)\n",
    "        q3 = data[x].quantile(0.75)\n",
    "\n",
    "        # Calculate the interquartile range (IQR)\n",
    "        iqr = q3 - q1\n",
    "\n",
    "        # Define the lower and upper bounds for outliers\n",
    "        lower_bound = q1 - 1.5 * iqr\n",
    "        upper_bound = q3 + 1.5 * iqr\n",
    "\n",
    "        # Filter the data to remove outliers\n",
    "        data = data[(data[x] >= lower_bound) & (data[x] <= upper_bound)]\n",
    "\n",
    "    fig = go.Figure(\n",
    "        data=go.Violin(\n",
    "            x=data[x],\n",
    "            y=data[y],\n",
    "            orientation=\"h\",\n",
    "            box_visible=True,\n",
    "            meanline_visible=True,\n",
    "            points=None,\n",
    "            spanmode=\"hard\",\n",
    "        )\n",
    "    )\n",
    "\n",
    "    x_label = format_col_for_title(x)\n",
    "    y_label = format_col_for_title(y)\n",
    "\n",
    "    fig.update_layout(\n",
    "        title=f\"Violin Plot of {x_label} by {y_label}\",\n",
    "        xaxis_title=x_label,\n",
    "        yaxis_title=y_label,\n",
    "        template=\"simple_white\",\n",
    "    )\n",
    "\n",
    "    return fig\n",
    "\n",
    "\n",
    "def plot_bar_chart_plotly(\n",
    "    data, x, y, sorted=True, title=None, x_label=None, y_label=None\n",
    "):\n",
    "    if sorted:\n",
    "        data = data.sort_values(by=y, ascending=False)\n",
    "    fig = go.Figure(\n",
    "        go.Bar(\n",
    "            x=data[x],\n",
    "            y=data[y],\n",
    "            name=format_col_for_title(y),\n",
    "            text=data[y],\n",
    "            textposition=\"auto\",\n",
    "        )\n",
    "    )\n",
    "    fig.update_layout(\n",
    "        title=f\"Bar Chart of {format_col_for_title(y)} by {format_col_for_title(x)}\",\n",
    "        xaxis_title=format_col_for_title(x) if x_label is None else x_label,\n",
    "        yaxis_title=format_col_for_title(y) if y_label is None else y_label,\n",
    "        template=\"simple_white\",\n",
    "    )\n",
    "    if title:\n",
    "        fig.update_layout(title=title)\n",
    "\n",
    "    fig.update_traces(texttemplate=\"%{text:.2f}\")\n",
    "    return fig\n",
    "\n",
    "\n",
    "def plot_bar_chart_plotly_with_dropdown(\n",
    "    data_list, x, y, labels, sorted=True, title=None, x_label=None, y_label=None\n",
    "):\n",
    "    traces = []\n",
    "    for data, label in zip(data_list, labels):\n",
    "        if sorted:\n",
    "            data = data.sort_values(by=y, ascending=False)\n",
    "        trace = go.Bar(\n",
    "            x=data[x],\n",
    "            y=data[y],\n",
    "            name=label,\n",
    "            text=data[y],\n",
    "            textposition=\"auto\",\n",
    "            visible=True if label == labels[0] else False,\n",
    "        )\n",
    "        traces.append(trace)\n",
    "\n",
    "    fig = go.Figure(data=traces)\n",
    "\n",
    "    # Add the dropdown menu\n",
    "    fig.update_layout(\n",
    "        updatemenus=[\n",
    "            dict(\n",
    "                buttons=[\n",
    "                    dict(\n",
    "                        args=[{\"visible\": [label == selected for label in labels]}],\n",
    "                        label=selected,\n",
    "                        method=\"update\",\n",
    "                    )\n",
    "                    for selected in labels\n",
    "                ],\n",
    "                direction=\"down\",\n",
    "                pad={\"r\": 2, \"t\": 12},\n",
    "                showactive=True,\n",
    "                x=0,\n",
    "                xanchor=\"left\",\n",
    "                y=1.3,\n",
    "                yanchor=\"top\",\n",
    "            )\n",
    "        ]\n",
    "    )\n",
    "\n",
    "    fig.update_layout(\n",
    "        title=(\n",
    "            f\"Bar Chart of {format_col_for_title(y)} by {format_col_for_title(x)}\"\n",
    "            if title is None\n",
    "            else title\n",
    "        ),\n",
    "        xaxis_title=format_col_for_title(x) if x_label is None else x_label,\n",
    "        yaxis_title=format_col_for_title(y) if y_label is None else y_label,\n",
    "        template=\"simple_white\",\n",
    "    )\n",
    "\n",
    "    fig.update_traces(texttemplate=\"%{text:.2f}\")\n",
    "\n",
    "    return fig"
   ]
  },
  {
   "cell_type": "code",
   "execution_count": 307,
   "metadata": {},
   "outputs": [
    {
     "data": {
      "application/vnd.plotly.v1+json": {
       "config": {
        "plotlyServerURL": "https://plot.ly"
       },
       "data": [
        {
         "name": "Price",
         "text": [
          52.25,
          38,
          31.99,
          31.82,
          29.75,
          27.47,
          21.52,
          21.29,
          21.25,
          15.235,
          8,
          4.72,
          3.98
         ],
         "textposition": "auto",
         "texttemplate": "%{text:.2f}",
         "type": "bar",
         "x": [
          "chinese pottery (中国陶器)",
          "bead bracelets and necklaces (珠子手链和项链)",
          "name seals (印章)",
          "calligraphy prints (书法印刷品)",
          "chinese incense (中国香)",
          "brushes and calligraphy tools (笔和书法工具)",
          "chinese mid autumn gift sets (中秋节礼品套装)",
          "paper lanterns (纸灯笼)",
          "chinese bamboo art (中国竹艺)",
          "chinese bookmarks (中国书签)",
          "chinese magnets (中国冰箱贴)",
          "chinese art stickers (中国艺术贴纸)",
          "chinese washi tape (中国和纸胶带)"
         ],
         "y": [
          52.25,
          38,
          31.99,
          31.82,
          29.75,
          27.47,
          21.52,
          21.29,
          21.25,
          15.235,
          8,
          4.72,
          3.98
         ]
        }
       ],
       "layout": {
        "template": {
         "data": {
          "bar": [
           {
            "error_x": {
             "color": "rgb(36,36,36)"
            },
            "error_y": {
             "color": "rgb(36,36,36)"
            },
            "marker": {
             "line": {
              "color": "white",
              "width": 0.5
             },
             "pattern": {
              "fillmode": "overlay",
              "size": 10,
              "solidity": 0.2
             }
            },
            "type": "bar"
           }
          ],
          "barpolar": [
           {
            "marker": {
             "line": {
              "color": "white",
              "width": 0.5
             },
             "pattern": {
              "fillmode": "overlay",
              "size": 10,
              "solidity": 0.2
             }
            },
            "type": "barpolar"
           }
          ],
          "carpet": [
           {
            "aaxis": {
             "endlinecolor": "rgb(36,36,36)",
             "gridcolor": "white",
             "linecolor": "white",
             "minorgridcolor": "white",
             "startlinecolor": "rgb(36,36,36)"
            },
            "baxis": {
             "endlinecolor": "rgb(36,36,36)",
             "gridcolor": "white",
             "linecolor": "white",
             "minorgridcolor": "white",
             "startlinecolor": "rgb(36,36,36)"
            },
            "type": "carpet"
           }
          ],
          "choropleth": [
           {
            "colorbar": {
             "outlinewidth": 1,
             "tickcolor": "rgb(36,36,36)",
             "ticks": "outside"
            },
            "type": "choropleth"
           }
          ],
          "contour": [
           {
            "colorbar": {
             "outlinewidth": 1,
             "tickcolor": "rgb(36,36,36)",
             "ticks": "outside"
            },
            "colorscale": [
             [
              0,
              "#440154"
             ],
             [
              0.1111111111111111,
              "#482878"
             ],
             [
              0.2222222222222222,
              "#3e4989"
             ],
             [
              0.3333333333333333,
              "#31688e"
             ],
             [
              0.4444444444444444,
              "#26828e"
             ],
             [
              0.5555555555555556,
              "#1f9e89"
             ],
             [
              0.6666666666666666,
              "#35b779"
             ],
             [
              0.7777777777777778,
              "#6ece58"
             ],
             [
              0.8888888888888888,
              "#b5de2b"
             ],
             [
              1,
              "#fde725"
             ]
            ],
            "type": "contour"
           }
          ],
          "contourcarpet": [
           {
            "colorbar": {
             "outlinewidth": 1,
             "tickcolor": "rgb(36,36,36)",
             "ticks": "outside"
            },
            "type": "contourcarpet"
           }
          ],
          "heatmap": [
           {
            "colorbar": {
             "outlinewidth": 1,
             "tickcolor": "rgb(36,36,36)",
             "ticks": "outside"
            },
            "colorscale": [
             [
              0,
              "#440154"
             ],
             [
              0.1111111111111111,
              "#482878"
             ],
             [
              0.2222222222222222,
              "#3e4989"
             ],
             [
              0.3333333333333333,
              "#31688e"
             ],
             [
              0.4444444444444444,
              "#26828e"
             ],
             [
              0.5555555555555556,
              "#1f9e89"
             ],
             [
              0.6666666666666666,
              "#35b779"
             ],
             [
              0.7777777777777778,
              "#6ece58"
             ],
             [
              0.8888888888888888,
              "#b5de2b"
             ],
             [
              1,
              "#fde725"
             ]
            ],
            "type": "heatmap"
           }
          ],
          "heatmapgl": [
           {
            "colorbar": {
             "outlinewidth": 1,
             "tickcolor": "rgb(36,36,36)",
             "ticks": "outside"
            },
            "colorscale": [
             [
              0,
              "#440154"
             ],
             [
              0.1111111111111111,
              "#482878"
             ],
             [
              0.2222222222222222,
              "#3e4989"
             ],
             [
              0.3333333333333333,
              "#31688e"
             ],
             [
              0.4444444444444444,
              "#26828e"
             ],
             [
              0.5555555555555556,
              "#1f9e89"
             ],
             [
              0.6666666666666666,
              "#35b779"
             ],
             [
              0.7777777777777778,
              "#6ece58"
             ],
             [
              0.8888888888888888,
              "#b5de2b"
             ],
             [
              1,
              "#fde725"
             ]
            ],
            "type": "heatmapgl"
           }
          ],
          "histogram": [
           {
            "marker": {
             "line": {
              "color": "white",
              "width": 0.6
             }
            },
            "type": "histogram"
           }
          ],
          "histogram2d": [
           {
            "colorbar": {
             "outlinewidth": 1,
             "tickcolor": "rgb(36,36,36)",
             "ticks": "outside"
            },
            "colorscale": [
             [
              0,
              "#440154"
             ],
             [
              0.1111111111111111,
              "#482878"
             ],
             [
              0.2222222222222222,
              "#3e4989"
             ],
             [
              0.3333333333333333,
              "#31688e"
             ],
             [
              0.4444444444444444,
              "#26828e"
             ],
             [
              0.5555555555555556,
              "#1f9e89"
             ],
             [
              0.6666666666666666,
              "#35b779"
             ],
             [
              0.7777777777777778,
              "#6ece58"
             ],
             [
              0.8888888888888888,
              "#b5de2b"
             ],
             [
              1,
              "#fde725"
             ]
            ],
            "type": "histogram2d"
           }
          ],
          "histogram2dcontour": [
           {
            "colorbar": {
             "outlinewidth": 1,
             "tickcolor": "rgb(36,36,36)",
             "ticks": "outside"
            },
            "colorscale": [
             [
              0,
              "#440154"
             ],
             [
              0.1111111111111111,
              "#482878"
             ],
             [
              0.2222222222222222,
              "#3e4989"
             ],
             [
              0.3333333333333333,
              "#31688e"
             ],
             [
              0.4444444444444444,
              "#26828e"
             ],
             [
              0.5555555555555556,
              "#1f9e89"
             ],
             [
              0.6666666666666666,
              "#35b779"
             ],
             [
              0.7777777777777778,
              "#6ece58"
             ],
             [
              0.8888888888888888,
              "#b5de2b"
             ],
             [
              1,
              "#fde725"
             ]
            ],
            "type": "histogram2dcontour"
           }
          ],
          "mesh3d": [
           {
            "colorbar": {
             "outlinewidth": 1,
             "tickcolor": "rgb(36,36,36)",
             "ticks": "outside"
            },
            "type": "mesh3d"
           }
          ],
          "parcoords": [
           {
            "line": {
             "colorbar": {
              "outlinewidth": 1,
              "tickcolor": "rgb(36,36,36)",
              "ticks": "outside"
             }
            },
            "type": "parcoords"
           }
          ],
          "pie": [
           {
            "automargin": true,
            "type": "pie"
           }
          ],
          "scatter": [
           {
            "fillpattern": {
             "fillmode": "overlay",
             "size": 10,
             "solidity": 0.2
            },
            "type": "scatter"
           }
          ],
          "scatter3d": [
           {
            "line": {
             "colorbar": {
              "outlinewidth": 1,
              "tickcolor": "rgb(36,36,36)",
              "ticks": "outside"
             }
            },
            "marker": {
             "colorbar": {
              "outlinewidth": 1,
              "tickcolor": "rgb(36,36,36)",
              "ticks": "outside"
             }
            },
            "type": "scatter3d"
           }
          ],
          "scattercarpet": [
           {
            "marker": {
             "colorbar": {
              "outlinewidth": 1,
              "tickcolor": "rgb(36,36,36)",
              "ticks": "outside"
             }
            },
            "type": "scattercarpet"
           }
          ],
          "scattergeo": [
           {
            "marker": {
             "colorbar": {
              "outlinewidth": 1,
              "tickcolor": "rgb(36,36,36)",
              "ticks": "outside"
             }
            },
            "type": "scattergeo"
           }
          ],
          "scattergl": [
           {
            "marker": {
             "colorbar": {
              "outlinewidth": 1,
              "tickcolor": "rgb(36,36,36)",
              "ticks": "outside"
             }
            },
            "type": "scattergl"
           }
          ],
          "scattermapbox": [
           {
            "marker": {
             "colorbar": {
              "outlinewidth": 1,
              "tickcolor": "rgb(36,36,36)",
              "ticks": "outside"
             }
            },
            "type": "scattermapbox"
           }
          ],
          "scatterpolar": [
           {
            "marker": {
             "colorbar": {
              "outlinewidth": 1,
              "tickcolor": "rgb(36,36,36)",
              "ticks": "outside"
             }
            },
            "type": "scatterpolar"
           }
          ],
          "scatterpolargl": [
           {
            "marker": {
             "colorbar": {
              "outlinewidth": 1,
              "tickcolor": "rgb(36,36,36)",
              "ticks": "outside"
             }
            },
            "type": "scatterpolargl"
           }
          ],
          "scatterternary": [
           {
            "marker": {
             "colorbar": {
              "outlinewidth": 1,
              "tickcolor": "rgb(36,36,36)",
              "ticks": "outside"
             }
            },
            "type": "scatterternary"
           }
          ],
          "surface": [
           {
            "colorbar": {
             "outlinewidth": 1,
             "tickcolor": "rgb(36,36,36)",
             "ticks": "outside"
            },
            "colorscale": [
             [
              0,
              "#440154"
             ],
             [
              0.1111111111111111,
              "#482878"
             ],
             [
              0.2222222222222222,
              "#3e4989"
             ],
             [
              0.3333333333333333,
              "#31688e"
             ],
             [
              0.4444444444444444,
              "#26828e"
             ],
             [
              0.5555555555555556,
              "#1f9e89"
             ],
             [
              0.6666666666666666,
              "#35b779"
             ],
             [
              0.7777777777777778,
              "#6ece58"
             ],
             [
              0.8888888888888888,
              "#b5de2b"
             ],
             [
              1,
              "#fde725"
             ]
            ],
            "type": "surface"
           }
          ],
          "table": [
           {
            "cells": {
             "fill": {
              "color": "rgb(237,237,237)"
             },
             "line": {
              "color": "white"
             }
            },
            "header": {
             "fill": {
              "color": "rgb(217,217,217)"
             },
             "line": {
              "color": "white"
             }
            },
            "type": "table"
           }
          ]
         },
         "layout": {
          "annotationdefaults": {
           "arrowhead": 0,
           "arrowwidth": 1
          },
          "autotypenumbers": "strict",
          "coloraxis": {
           "colorbar": {
            "outlinewidth": 1,
            "tickcolor": "rgb(36,36,36)",
            "ticks": "outside"
           }
          },
          "colorscale": {
           "diverging": [
            [
             0,
             "rgb(103,0,31)"
            ],
            [
             0.1,
             "rgb(178,24,43)"
            ],
            [
             0.2,
             "rgb(214,96,77)"
            ],
            [
             0.3,
             "rgb(244,165,130)"
            ],
            [
             0.4,
             "rgb(253,219,199)"
            ],
            [
             0.5,
             "rgb(247,247,247)"
            ],
            [
             0.6,
             "rgb(209,229,240)"
            ],
            [
             0.7,
             "rgb(146,197,222)"
            ],
            [
             0.8,
             "rgb(67,147,195)"
            ],
            [
             0.9,
             "rgb(33,102,172)"
            ],
            [
             1,
             "rgb(5,48,97)"
            ]
           ],
           "sequential": [
            [
             0,
             "#440154"
            ],
            [
             0.1111111111111111,
             "#482878"
            ],
            [
             0.2222222222222222,
             "#3e4989"
            ],
            [
             0.3333333333333333,
             "#31688e"
            ],
            [
             0.4444444444444444,
             "#26828e"
            ],
            [
             0.5555555555555556,
             "#1f9e89"
            ],
            [
             0.6666666666666666,
             "#35b779"
            ],
            [
             0.7777777777777778,
             "#6ece58"
            ],
            [
             0.8888888888888888,
             "#b5de2b"
            ],
            [
             1,
             "#fde725"
            ]
           ],
           "sequentialminus": [
            [
             0,
             "#440154"
            ],
            [
             0.1111111111111111,
             "#482878"
            ],
            [
             0.2222222222222222,
             "#3e4989"
            ],
            [
             0.3333333333333333,
             "#31688e"
            ],
            [
             0.4444444444444444,
             "#26828e"
            ],
            [
             0.5555555555555556,
             "#1f9e89"
            ],
            [
             0.6666666666666666,
             "#35b779"
            ],
            [
             0.7777777777777778,
             "#6ece58"
            ],
            [
             0.8888888888888888,
             "#b5de2b"
            ],
            [
             1,
             "#fde725"
            ]
           ]
          },
          "colorway": [
           "#1F77B4",
           "#FF7F0E",
           "#2CA02C",
           "#D62728",
           "#9467BD",
           "#8C564B",
           "#E377C2",
           "#7F7F7F",
           "#BCBD22",
           "#17BECF"
          ],
          "font": {
           "color": "rgb(36,36,36)"
          },
          "geo": {
           "bgcolor": "white",
           "lakecolor": "white",
           "landcolor": "white",
           "showlakes": true,
           "showland": true,
           "subunitcolor": "white"
          },
          "hoverlabel": {
           "align": "left"
          },
          "hovermode": "closest",
          "mapbox": {
           "style": "light"
          },
          "paper_bgcolor": "white",
          "plot_bgcolor": "white",
          "polar": {
           "angularaxis": {
            "gridcolor": "rgb(232,232,232)",
            "linecolor": "rgb(36,36,36)",
            "showgrid": false,
            "showline": true,
            "ticks": "outside"
           },
           "bgcolor": "white",
           "radialaxis": {
            "gridcolor": "rgb(232,232,232)",
            "linecolor": "rgb(36,36,36)",
            "showgrid": false,
            "showline": true,
            "ticks": "outside"
           }
          },
          "scene": {
           "xaxis": {
            "backgroundcolor": "white",
            "gridcolor": "rgb(232,232,232)",
            "gridwidth": 2,
            "linecolor": "rgb(36,36,36)",
            "showbackground": true,
            "showgrid": false,
            "showline": true,
            "ticks": "outside",
            "zeroline": false,
            "zerolinecolor": "rgb(36,36,36)"
           },
           "yaxis": {
            "backgroundcolor": "white",
            "gridcolor": "rgb(232,232,232)",
            "gridwidth": 2,
            "linecolor": "rgb(36,36,36)",
            "showbackground": true,
            "showgrid": false,
            "showline": true,
            "ticks": "outside",
            "zeroline": false,
            "zerolinecolor": "rgb(36,36,36)"
           },
           "zaxis": {
            "backgroundcolor": "white",
            "gridcolor": "rgb(232,232,232)",
            "gridwidth": 2,
            "linecolor": "rgb(36,36,36)",
            "showbackground": true,
            "showgrid": false,
            "showline": true,
            "ticks": "outside",
            "zeroline": false,
            "zerolinecolor": "rgb(36,36,36)"
           }
          },
          "shapedefaults": {
           "fillcolor": "black",
           "line": {
            "width": 0
           },
           "opacity": 0.3
          },
          "ternary": {
           "aaxis": {
            "gridcolor": "rgb(232,232,232)",
            "linecolor": "rgb(36,36,36)",
            "showgrid": false,
            "showline": true,
            "ticks": "outside"
           },
           "baxis": {
            "gridcolor": "rgb(232,232,232)",
            "linecolor": "rgb(36,36,36)",
            "showgrid": false,
            "showline": true,
            "ticks": "outside"
           },
           "bgcolor": "white",
           "caxis": {
            "gridcolor": "rgb(232,232,232)",
            "linecolor": "rgb(36,36,36)",
            "showgrid": false,
            "showline": true,
            "ticks": "outside"
           }
          },
          "title": {
           "x": 0.05
          },
          "xaxis": {
           "automargin": true,
           "gridcolor": "rgb(232,232,232)",
           "linecolor": "rgb(36,36,36)",
           "showgrid": false,
           "showline": true,
           "ticks": "outside",
           "title": {
            "standoff": 15
           },
           "zeroline": false,
           "zerolinecolor": "rgb(36,36,36)"
          },
          "yaxis": {
           "automargin": true,
           "gridcolor": "rgb(232,232,232)",
           "linecolor": "rgb(36,36,36)",
           "showgrid": false,
           "showline": true,
           "ticks": "outside",
           "title": {
            "standoff": 15
           },
           "zeroline": false,
           "zerolinecolor": "rgb(36,36,36)"
          }
         }
        },
        "title": {
         "text": "Median Price by Product （产品价格中位数）"
        },
        "xaxis": {
         "title": {
          "text": "Product Name"
         }
        },
        "yaxis": {
         "title": {
          "text": "Median Price ($)"
         }
        }
       }
      }
     },
     "metadata": {},
     "output_type": "display_data"
    }
   ],
   "source": [
    "# Median price by product\n",
    "fig = plot_bar_chart_plotly(\n",
    "    all_product_data.groupby(\"product_name_chinese_name\")\n",
    "    .agg({\"price\": \"median\"})\n",
    "    .reset_index(),\n",
    "    x=\"product_name_chinese_name\",\n",
    "    y=\"price\",\n",
    "    title=\"Median Price by Product （产品价格中位数）\",\n",
    "    x_label=\"Product Name\",\n",
    "    y_label=\"Median Price ($)\",\n",
    ")\n",
    "\n",
    "fig.show()"
   ]
  },
  {
   "cell_type": "code",
   "execution_count": 308,
   "metadata": {},
   "outputs": [
    {
     "data": {
      "application/vnd.plotly.v1+json": {
       "config": {
        "plotlyServerURL": "https://plot.ly"
       },
       "data": [
        {
         "name": "All Products",
         "text": [
          4,
          3,
          2,
          1.5,
          1,
          1,
          0,
          0,
          0,
          0,
          0,
          0,
          0
         ],
         "textposition": "auto",
         "texttemplate": "%{text:.2f}",
         "type": "bar",
         "visible": true,
         "x": [
          "chinese washi tape (中国和纸胶带)",
          "chinese mid autumn gift sets (中秋节礼品套装)",
          "chinese art stickers (中国艺术贴纸)",
          "chinese bookmarks (中国书签)",
          "brushes and calligraphy tools (笔和书法工具)",
          "name seals (印章)",
          "bead bracelets and necklaces (珠子手链和项链)",
          "calligraphy prints (书法印刷品)",
          "chinese bamboo art (中国竹艺)",
          "chinese incense (中国香)",
          "chinese magnets (中国冰箱贴)",
          "chinese pottery (中国陶器)",
          "paper lanterns (纸灯笼)"
         ],
         "y": [
          4,
          3,
          2,
          1.5,
          1,
          1,
          0,
          0,
          0,
          0,
          0,
          0,
          0
         ]
        },
        {
         "name": "Products with Sales",
         "text": [
          10,
          7,
          6.5,
          6,
          6,
          5.5,
          5,
          5,
          4,
          4,
          4,
          3,
          2
         ],
         "textposition": "auto",
         "texttemplate": "%{text:.2f}",
         "type": "bar",
         "visible": false,
         "x": [
          "chinese washi tape (中国和纸胶带)",
          "chinese mid autumn gift sets (中秋节礼品套装)",
          "chinese art stickers (中国艺术贴纸)",
          "brushes and calligraphy tools (笔和书法工具)",
          "name seals (印章)",
          "chinese magnets (中国冰箱贴)",
          "chinese bookmarks (中国书签)",
          "paper lanterns (纸灯笼)",
          "calligraphy prints (书法印刷品)",
          "chinese incense (中国香)",
          "chinese pottery (中国陶器)",
          "chinese bamboo art (中国竹艺)",
          "bead bracelets and necklaces (珠子手链和项链)"
         ],
         "y": [
          10,
          7,
          6.5,
          6,
          6,
          5.5,
          5,
          5,
          4,
          4,
          4,
          3,
          2
         ]
        }
       ],
       "layout": {
        "template": {
         "data": {
          "bar": [
           {
            "error_x": {
             "color": "rgb(36,36,36)"
            },
            "error_y": {
             "color": "rgb(36,36,36)"
            },
            "marker": {
             "line": {
              "color": "white",
              "width": 0.5
             },
             "pattern": {
              "fillmode": "overlay",
              "size": 10,
              "solidity": 0.2
             }
            },
            "type": "bar"
           }
          ],
          "barpolar": [
           {
            "marker": {
             "line": {
              "color": "white",
              "width": 0.5
             },
             "pattern": {
              "fillmode": "overlay",
              "size": 10,
              "solidity": 0.2
             }
            },
            "type": "barpolar"
           }
          ],
          "carpet": [
           {
            "aaxis": {
             "endlinecolor": "rgb(36,36,36)",
             "gridcolor": "white",
             "linecolor": "white",
             "minorgridcolor": "white",
             "startlinecolor": "rgb(36,36,36)"
            },
            "baxis": {
             "endlinecolor": "rgb(36,36,36)",
             "gridcolor": "white",
             "linecolor": "white",
             "minorgridcolor": "white",
             "startlinecolor": "rgb(36,36,36)"
            },
            "type": "carpet"
           }
          ],
          "choropleth": [
           {
            "colorbar": {
             "outlinewidth": 1,
             "tickcolor": "rgb(36,36,36)",
             "ticks": "outside"
            },
            "type": "choropleth"
           }
          ],
          "contour": [
           {
            "colorbar": {
             "outlinewidth": 1,
             "tickcolor": "rgb(36,36,36)",
             "ticks": "outside"
            },
            "colorscale": [
             [
              0,
              "#440154"
             ],
             [
              0.1111111111111111,
              "#482878"
             ],
             [
              0.2222222222222222,
              "#3e4989"
             ],
             [
              0.3333333333333333,
              "#31688e"
             ],
             [
              0.4444444444444444,
              "#26828e"
             ],
             [
              0.5555555555555556,
              "#1f9e89"
             ],
             [
              0.6666666666666666,
              "#35b779"
             ],
             [
              0.7777777777777778,
              "#6ece58"
             ],
             [
              0.8888888888888888,
              "#b5de2b"
             ],
             [
              1,
              "#fde725"
             ]
            ],
            "type": "contour"
           }
          ],
          "contourcarpet": [
           {
            "colorbar": {
             "outlinewidth": 1,
             "tickcolor": "rgb(36,36,36)",
             "ticks": "outside"
            },
            "type": "contourcarpet"
           }
          ],
          "heatmap": [
           {
            "colorbar": {
             "outlinewidth": 1,
             "tickcolor": "rgb(36,36,36)",
             "ticks": "outside"
            },
            "colorscale": [
             [
              0,
              "#440154"
             ],
             [
              0.1111111111111111,
              "#482878"
             ],
             [
              0.2222222222222222,
              "#3e4989"
             ],
             [
              0.3333333333333333,
              "#31688e"
             ],
             [
              0.4444444444444444,
              "#26828e"
             ],
             [
              0.5555555555555556,
              "#1f9e89"
             ],
             [
              0.6666666666666666,
              "#35b779"
             ],
             [
              0.7777777777777778,
              "#6ece58"
             ],
             [
              0.8888888888888888,
              "#b5de2b"
             ],
             [
              1,
              "#fde725"
             ]
            ],
            "type": "heatmap"
           }
          ],
          "heatmapgl": [
           {
            "colorbar": {
             "outlinewidth": 1,
             "tickcolor": "rgb(36,36,36)",
             "ticks": "outside"
            },
            "colorscale": [
             [
              0,
              "#440154"
             ],
             [
              0.1111111111111111,
              "#482878"
             ],
             [
              0.2222222222222222,
              "#3e4989"
             ],
             [
              0.3333333333333333,
              "#31688e"
             ],
             [
              0.4444444444444444,
              "#26828e"
             ],
             [
              0.5555555555555556,
              "#1f9e89"
             ],
             [
              0.6666666666666666,
              "#35b779"
             ],
             [
              0.7777777777777778,
              "#6ece58"
             ],
             [
              0.8888888888888888,
              "#b5de2b"
             ],
             [
              1,
              "#fde725"
             ]
            ],
            "type": "heatmapgl"
           }
          ],
          "histogram": [
           {
            "marker": {
             "line": {
              "color": "white",
              "width": 0.6
             }
            },
            "type": "histogram"
           }
          ],
          "histogram2d": [
           {
            "colorbar": {
             "outlinewidth": 1,
             "tickcolor": "rgb(36,36,36)",
             "ticks": "outside"
            },
            "colorscale": [
             [
              0,
              "#440154"
             ],
             [
              0.1111111111111111,
              "#482878"
             ],
             [
              0.2222222222222222,
              "#3e4989"
             ],
             [
              0.3333333333333333,
              "#31688e"
             ],
             [
              0.4444444444444444,
              "#26828e"
             ],
             [
              0.5555555555555556,
              "#1f9e89"
             ],
             [
              0.6666666666666666,
              "#35b779"
             ],
             [
              0.7777777777777778,
              "#6ece58"
             ],
             [
              0.8888888888888888,
              "#b5de2b"
             ],
             [
              1,
              "#fde725"
             ]
            ],
            "type": "histogram2d"
           }
          ],
          "histogram2dcontour": [
           {
            "colorbar": {
             "outlinewidth": 1,
             "tickcolor": "rgb(36,36,36)",
             "ticks": "outside"
            },
            "colorscale": [
             [
              0,
              "#440154"
             ],
             [
              0.1111111111111111,
              "#482878"
             ],
             [
              0.2222222222222222,
              "#3e4989"
             ],
             [
              0.3333333333333333,
              "#31688e"
             ],
             [
              0.4444444444444444,
              "#26828e"
             ],
             [
              0.5555555555555556,
              "#1f9e89"
             ],
             [
              0.6666666666666666,
              "#35b779"
             ],
             [
              0.7777777777777778,
              "#6ece58"
             ],
             [
              0.8888888888888888,
              "#b5de2b"
             ],
             [
              1,
              "#fde725"
             ]
            ],
            "type": "histogram2dcontour"
           }
          ],
          "mesh3d": [
           {
            "colorbar": {
             "outlinewidth": 1,
             "tickcolor": "rgb(36,36,36)",
             "ticks": "outside"
            },
            "type": "mesh3d"
           }
          ],
          "parcoords": [
           {
            "line": {
             "colorbar": {
              "outlinewidth": 1,
              "tickcolor": "rgb(36,36,36)",
              "ticks": "outside"
             }
            },
            "type": "parcoords"
           }
          ],
          "pie": [
           {
            "automargin": true,
            "type": "pie"
           }
          ],
          "scatter": [
           {
            "fillpattern": {
             "fillmode": "overlay",
             "size": 10,
             "solidity": 0.2
            },
            "type": "scatter"
           }
          ],
          "scatter3d": [
           {
            "line": {
             "colorbar": {
              "outlinewidth": 1,
              "tickcolor": "rgb(36,36,36)",
              "ticks": "outside"
             }
            },
            "marker": {
             "colorbar": {
              "outlinewidth": 1,
              "tickcolor": "rgb(36,36,36)",
              "ticks": "outside"
             }
            },
            "type": "scatter3d"
           }
          ],
          "scattercarpet": [
           {
            "marker": {
             "colorbar": {
              "outlinewidth": 1,
              "tickcolor": "rgb(36,36,36)",
              "ticks": "outside"
             }
            },
            "type": "scattercarpet"
           }
          ],
          "scattergeo": [
           {
            "marker": {
             "colorbar": {
              "outlinewidth": 1,
              "tickcolor": "rgb(36,36,36)",
              "ticks": "outside"
             }
            },
            "type": "scattergeo"
           }
          ],
          "scattergl": [
           {
            "marker": {
             "colorbar": {
              "outlinewidth": 1,
              "tickcolor": "rgb(36,36,36)",
              "ticks": "outside"
             }
            },
            "type": "scattergl"
           }
          ],
          "scattermapbox": [
           {
            "marker": {
             "colorbar": {
              "outlinewidth": 1,
              "tickcolor": "rgb(36,36,36)",
              "ticks": "outside"
             }
            },
            "type": "scattermapbox"
           }
          ],
          "scatterpolar": [
           {
            "marker": {
             "colorbar": {
              "outlinewidth": 1,
              "tickcolor": "rgb(36,36,36)",
              "ticks": "outside"
             }
            },
            "type": "scatterpolar"
           }
          ],
          "scatterpolargl": [
           {
            "marker": {
             "colorbar": {
              "outlinewidth": 1,
              "tickcolor": "rgb(36,36,36)",
              "ticks": "outside"
             }
            },
            "type": "scatterpolargl"
           }
          ],
          "scatterternary": [
           {
            "marker": {
             "colorbar": {
              "outlinewidth": 1,
              "tickcolor": "rgb(36,36,36)",
              "ticks": "outside"
             }
            },
            "type": "scatterternary"
           }
          ],
          "surface": [
           {
            "colorbar": {
             "outlinewidth": 1,
             "tickcolor": "rgb(36,36,36)",
             "ticks": "outside"
            },
            "colorscale": [
             [
              0,
              "#440154"
             ],
             [
              0.1111111111111111,
              "#482878"
             ],
             [
              0.2222222222222222,
              "#3e4989"
             ],
             [
              0.3333333333333333,
              "#31688e"
             ],
             [
              0.4444444444444444,
              "#26828e"
             ],
             [
              0.5555555555555556,
              "#1f9e89"
             ],
             [
              0.6666666666666666,
              "#35b779"
             ],
             [
              0.7777777777777778,
              "#6ece58"
             ],
             [
              0.8888888888888888,
              "#b5de2b"
             ],
             [
              1,
              "#fde725"
             ]
            ],
            "type": "surface"
           }
          ],
          "table": [
           {
            "cells": {
             "fill": {
              "color": "rgb(237,237,237)"
             },
             "line": {
              "color": "white"
             }
            },
            "header": {
             "fill": {
              "color": "rgb(217,217,217)"
             },
             "line": {
              "color": "white"
             }
            },
            "type": "table"
           }
          ]
         },
         "layout": {
          "annotationdefaults": {
           "arrowhead": 0,
           "arrowwidth": 1
          },
          "autotypenumbers": "strict",
          "coloraxis": {
           "colorbar": {
            "outlinewidth": 1,
            "tickcolor": "rgb(36,36,36)",
            "ticks": "outside"
           }
          },
          "colorscale": {
           "diverging": [
            [
             0,
             "rgb(103,0,31)"
            ],
            [
             0.1,
             "rgb(178,24,43)"
            ],
            [
             0.2,
             "rgb(214,96,77)"
            ],
            [
             0.3,
             "rgb(244,165,130)"
            ],
            [
             0.4,
             "rgb(253,219,199)"
            ],
            [
             0.5,
             "rgb(247,247,247)"
            ],
            [
             0.6,
             "rgb(209,229,240)"
            ],
            [
             0.7,
             "rgb(146,197,222)"
            ],
            [
             0.8,
             "rgb(67,147,195)"
            ],
            [
             0.9,
             "rgb(33,102,172)"
            ],
            [
             1,
             "rgb(5,48,97)"
            ]
           ],
           "sequential": [
            [
             0,
             "#440154"
            ],
            [
             0.1111111111111111,
             "#482878"
            ],
            [
             0.2222222222222222,
             "#3e4989"
            ],
            [
             0.3333333333333333,
             "#31688e"
            ],
            [
             0.4444444444444444,
             "#26828e"
            ],
            [
             0.5555555555555556,
             "#1f9e89"
            ],
            [
             0.6666666666666666,
             "#35b779"
            ],
            [
             0.7777777777777778,
             "#6ece58"
            ],
            [
             0.8888888888888888,
             "#b5de2b"
            ],
            [
             1,
             "#fde725"
            ]
           ],
           "sequentialminus": [
            [
             0,
             "#440154"
            ],
            [
             0.1111111111111111,
             "#482878"
            ],
            [
             0.2222222222222222,
             "#3e4989"
            ],
            [
             0.3333333333333333,
             "#31688e"
            ],
            [
             0.4444444444444444,
             "#26828e"
            ],
            [
             0.5555555555555556,
             "#1f9e89"
            ],
            [
             0.6666666666666666,
             "#35b779"
            ],
            [
             0.7777777777777778,
             "#6ece58"
            ],
            [
             0.8888888888888888,
             "#b5de2b"
            ],
            [
             1,
             "#fde725"
            ]
           ]
          },
          "colorway": [
           "#1F77B4",
           "#FF7F0E",
           "#2CA02C",
           "#D62728",
           "#9467BD",
           "#8C564B",
           "#E377C2",
           "#7F7F7F",
           "#BCBD22",
           "#17BECF"
          ],
          "font": {
           "color": "rgb(36,36,36)"
          },
          "geo": {
           "bgcolor": "white",
           "lakecolor": "white",
           "landcolor": "white",
           "showlakes": true,
           "showland": true,
           "subunitcolor": "white"
          },
          "hoverlabel": {
           "align": "left"
          },
          "hovermode": "closest",
          "mapbox": {
           "style": "light"
          },
          "paper_bgcolor": "white",
          "plot_bgcolor": "white",
          "polar": {
           "angularaxis": {
            "gridcolor": "rgb(232,232,232)",
            "linecolor": "rgb(36,36,36)",
            "showgrid": false,
            "showline": true,
            "ticks": "outside"
           },
           "bgcolor": "white",
           "radialaxis": {
            "gridcolor": "rgb(232,232,232)",
            "linecolor": "rgb(36,36,36)",
            "showgrid": false,
            "showline": true,
            "ticks": "outside"
           }
          },
          "scene": {
           "xaxis": {
            "backgroundcolor": "white",
            "gridcolor": "rgb(232,232,232)",
            "gridwidth": 2,
            "linecolor": "rgb(36,36,36)",
            "showbackground": true,
            "showgrid": false,
            "showline": true,
            "ticks": "outside",
            "zeroline": false,
            "zerolinecolor": "rgb(36,36,36)"
           },
           "yaxis": {
            "backgroundcolor": "white",
            "gridcolor": "rgb(232,232,232)",
            "gridwidth": 2,
            "linecolor": "rgb(36,36,36)",
            "showbackground": true,
            "showgrid": false,
            "showline": true,
            "ticks": "outside",
            "zeroline": false,
            "zerolinecolor": "rgb(36,36,36)"
           },
           "zaxis": {
            "backgroundcolor": "white",
            "gridcolor": "rgb(232,232,232)",
            "gridwidth": 2,
            "linecolor": "rgb(36,36,36)",
            "showbackground": true,
            "showgrid": false,
            "showline": true,
            "ticks": "outside",
            "zeroline": false,
            "zerolinecolor": "rgb(36,36,36)"
           }
          },
          "shapedefaults": {
           "fillcolor": "black",
           "line": {
            "width": 0
           },
           "opacity": 0.3
          },
          "ternary": {
           "aaxis": {
            "gridcolor": "rgb(232,232,232)",
            "linecolor": "rgb(36,36,36)",
            "showgrid": false,
            "showline": true,
            "ticks": "outside"
           },
           "baxis": {
            "gridcolor": "rgb(232,232,232)",
            "linecolor": "rgb(36,36,36)",
            "showgrid": false,
            "showline": true,
            "ticks": "outside"
           },
           "bgcolor": "white",
           "caxis": {
            "gridcolor": "rgb(232,232,232)",
            "linecolor": "rgb(36,36,36)",
            "showgrid": false,
            "showline": true,
            "ticks": "outside"
           }
          },
          "title": {
           "x": 0.05
          },
          "xaxis": {
           "automargin": true,
           "gridcolor": "rgb(232,232,232)",
           "linecolor": "rgb(36,36,36)",
           "showgrid": false,
           "showline": true,
           "ticks": "outside",
           "title": {
            "standoff": 15
           },
           "zeroline": false,
           "zerolinecolor": "rgb(36,36,36)"
          },
          "yaxis": {
           "automargin": true,
           "gridcolor": "rgb(232,232,232)",
           "linecolor": "rgb(36,36,36)",
           "showgrid": false,
           "showline": true,
           "ticks": "outside",
           "title": {
            "standoff": 15
           },
           "zeroline": false,
           "zerolinecolor": "rgb(36,36,36)"
          }
         }
        },
        "title": {
         "text": "Median Total Sales by Product（产品平均销售量）"
        },
        "updatemenus": [
         {
          "buttons": [
           {
            "args": [
             {
              "visible": [
               true,
               false
              ]
             }
            ],
            "label": "All Products",
            "method": "update"
           },
           {
            "args": [
             {
              "visible": [
               false,
               true
              ]
             }
            ],
            "label": "Products with Sales",
            "method": "update"
           }
          ],
          "direction": "down",
          "pad": {
           "r": 2,
           "t": 12
          },
          "showactive": true,
          "x": 0,
          "xanchor": "left",
          "y": 1.3,
          "yanchor": "top"
         }
        ],
        "xaxis": {
         "title": {
          "text": "Product Name"
         }
        },
        "yaxis": {
         "title": {
          "text": "Median Total Sales"
         }
        }
       }
      }
     },
     "metadata": {},
     "output_type": "display_data"
    }
   ],
   "source": [
    "data_list = [\n",
    "    all_product_data.groupby(\"product_name_chinese_name\")[\"Total Sales\"]\n",
    "    .median()\n",
    "    .reset_index(),\n",
    "    all_product_data[all_product_data[\"has_sales\"] == True]\n",
    "    .groupby(\"product_name_chinese_name\")[\"Total Sales\"]\n",
    "    .median()\n",
    "    .reset_index(),\n",
    "]\n",
    "\n",
    "# Median total sales by product\n",
    "fig = plot_bar_chart_plotly_with_dropdown(\n",
    "    data_list,\n",
    "    labels=[\"All Products\", \"Products with Sales\"],\n",
    "    x=\"product_name_chinese_name\",\n",
    "    y=\"Total Sales\",\n",
    "    title=\"Median Total Sales by Product（产品平均销售量）\",\n",
    "    x_label=\"Product Name\",\n",
    "    y_label=\"Median Total Sales\",\n",
    ")\n",
    "\n",
    "fig.show()"
   ]
  },
  {
   "cell_type": "code",
   "execution_count": 309,
   "metadata": {},
   "outputs": [
    {
     "data": {
      "application/vnd.plotly.v1+json": {
       "config": {
        "plotlyServerURL": "https://plot.ly"
       },
       "data": [
        {
         "name": "Total Sales",
         "text": [
          13197,
          6276,
          2853,
          1885,
          1752,
          1595,
          1328,
          903,
          885,
          661,
          391,
          286,
          84
         ],
         "textposition": "auto",
         "texttemplate": "%{text:.2f}",
         "type": "bar",
         "x": [
          "name seals (印章)",
          "calligraphy prints (书法印刷品)",
          "paper lanterns (纸灯笼)",
          "chinese pottery (中国陶器)",
          "brushes and calligraphy tools (笔和书法工具)",
          "chinese mid autumn gift sets (中秋节礼品套装)",
          "chinese art stickers (中国艺术贴纸)",
          "chinese washi tape (中国和纸胶带)",
          "bead bracelets and necklaces (珠子手链和项链)",
          "chinese bookmarks (中国书签)",
          "chinese magnets (中国冰箱贴)",
          "chinese incense (中国香)",
          "chinese bamboo art (中国竹艺)"
         ],
         "y": [
          13197,
          6276,
          2853,
          1885,
          1752,
          1595,
          1328,
          903,
          885,
          661,
          391,
          286,
          84
         ]
        }
       ],
       "layout": {
        "template": {
         "data": {
          "bar": [
           {
            "error_x": {
             "color": "rgb(36,36,36)"
            },
            "error_y": {
             "color": "rgb(36,36,36)"
            },
            "marker": {
             "line": {
              "color": "white",
              "width": 0.5
             },
             "pattern": {
              "fillmode": "overlay",
              "size": 10,
              "solidity": 0.2
             }
            },
            "type": "bar"
           }
          ],
          "barpolar": [
           {
            "marker": {
             "line": {
              "color": "white",
              "width": 0.5
             },
             "pattern": {
              "fillmode": "overlay",
              "size": 10,
              "solidity": 0.2
             }
            },
            "type": "barpolar"
           }
          ],
          "carpet": [
           {
            "aaxis": {
             "endlinecolor": "rgb(36,36,36)",
             "gridcolor": "white",
             "linecolor": "white",
             "minorgridcolor": "white",
             "startlinecolor": "rgb(36,36,36)"
            },
            "baxis": {
             "endlinecolor": "rgb(36,36,36)",
             "gridcolor": "white",
             "linecolor": "white",
             "minorgridcolor": "white",
             "startlinecolor": "rgb(36,36,36)"
            },
            "type": "carpet"
           }
          ],
          "choropleth": [
           {
            "colorbar": {
             "outlinewidth": 1,
             "tickcolor": "rgb(36,36,36)",
             "ticks": "outside"
            },
            "type": "choropleth"
           }
          ],
          "contour": [
           {
            "colorbar": {
             "outlinewidth": 1,
             "tickcolor": "rgb(36,36,36)",
             "ticks": "outside"
            },
            "colorscale": [
             [
              0,
              "#440154"
             ],
             [
              0.1111111111111111,
              "#482878"
             ],
             [
              0.2222222222222222,
              "#3e4989"
             ],
             [
              0.3333333333333333,
              "#31688e"
             ],
             [
              0.4444444444444444,
              "#26828e"
             ],
             [
              0.5555555555555556,
              "#1f9e89"
             ],
             [
              0.6666666666666666,
              "#35b779"
             ],
             [
              0.7777777777777778,
              "#6ece58"
             ],
             [
              0.8888888888888888,
              "#b5de2b"
             ],
             [
              1,
              "#fde725"
             ]
            ],
            "type": "contour"
           }
          ],
          "contourcarpet": [
           {
            "colorbar": {
             "outlinewidth": 1,
             "tickcolor": "rgb(36,36,36)",
             "ticks": "outside"
            },
            "type": "contourcarpet"
           }
          ],
          "heatmap": [
           {
            "colorbar": {
             "outlinewidth": 1,
             "tickcolor": "rgb(36,36,36)",
             "ticks": "outside"
            },
            "colorscale": [
             [
              0,
              "#440154"
             ],
             [
              0.1111111111111111,
              "#482878"
             ],
             [
              0.2222222222222222,
              "#3e4989"
             ],
             [
              0.3333333333333333,
              "#31688e"
             ],
             [
              0.4444444444444444,
              "#26828e"
             ],
             [
              0.5555555555555556,
              "#1f9e89"
             ],
             [
              0.6666666666666666,
              "#35b779"
             ],
             [
              0.7777777777777778,
              "#6ece58"
             ],
             [
              0.8888888888888888,
              "#b5de2b"
             ],
             [
              1,
              "#fde725"
             ]
            ],
            "type": "heatmap"
           }
          ],
          "heatmapgl": [
           {
            "colorbar": {
             "outlinewidth": 1,
             "tickcolor": "rgb(36,36,36)",
             "ticks": "outside"
            },
            "colorscale": [
             [
              0,
              "#440154"
             ],
             [
              0.1111111111111111,
              "#482878"
             ],
             [
              0.2222222222222222,
              "#3e4989"
             ],
             [
              0.3333333333333333,
              "#31688e"
             ],
             [
              0.4444444444444444,
              "#26828e"
             ],
             [
              0.5555555555555556,
              "#1f9e89"
             ],
             [
              0.6666666666666666,
              "#35b779"
             ],
             [
              0.7777777777777778,
              "#6ece58"
             ],
             [
              0.8888888888888888,
              "#b5de2b"
             ],
             [
              1,
              "#fde725"
             ]
            ],
            "type": "heatmapgl"
           }
          ],
          "histogram": [
           {
            "marker": {
             "line": {
              "color": "white",
              "width": 0.6
             }
            },
            "type": "histogram"
           }
          ],
          "histogram2d": [
           {
            "colorbar": {
             "outlinewidth": 1,
             "tickcolor": "rgb(36,36,36)",
             "ticks": "outside"
            },
            "colorscale": [
             [
              0,
              "#440154"
             ],
             [
              0.1111111111111111,
              "#482878"
             ],
             [
              0.2222222222222222,
              "#3e4989"
             ],
             [
              0.3333333333333333,
              "#31688e"
             ],
             [
              0.4444444444444444,
              "#26828e"
             ],
             [
              0.5555555555555556,
              "#1f9e89"
             ],
             [
              0.6666666666666666,
              "#35b779"
             ],
             [
              0.7777777777777778,
              "#6ece58"
             ],
             [
              0.8888888888888888,
              "#b5de2b"
             ],
             [
              1,
              "#fde725"
             ]
            ],
            "type": "histogram2d"
           }
          ],
          "histogram2dcontour": [
           {
            "colorbar": {
             "outlinewidth": 1,
             "tickcolor": "rgb(36,36,36)",
             "ticks": "outside"
            },
            "colorscale": [
             [
              0,
              "#440154"
             ],
             [
              0.1111111111111111,
              "#482878"
             ],
             [
              0.2222222222222222,
              "#3e4989"
             ],
             [
              0.3333333333333333,
              "#31688e"
             ],
             [
              0.4444444444444444,
              "#26828e"
             ],
             [
              0.5555555555555556,
              "#1f9e89"
             ],
             [
              0.6666666666666666,
              "#35b779"
             ],
             [
              0.7777777777777778,
              "#6ece58"
             ],
             [
              0.8888888888888888,
              "#b5de2b"
             ],
             [
              1,
              "#fde725"
             ]
            ],
            "type": "histogram2dcontour"
           }
          ],
          "mesh3d": [
           {
            "colorbar": {
             "outlinewidth": 1,
             "tickcolor": "rgb(36,36,36)",
             "ticks": "outside"
            },
            "type": "mesh3d"
           }
          ],
          "parcoords": [
           {
            "line": {
             "colorbar": {
              "outlinewidth": 1,
              "tickcolor": "rgb(36,36,36)",
              "ticks": "outside"
             }
            },
            "type": "parcoords"
           }
          ],
          "pie": [
           {
            "automargin": true,
            "type": "pie"
           }
          ],
          "scatter": [
           {
            "fillpattern": {
             "fillmode": "overlay",
             "size": 10,
             "solidity": 0.2
            },
            "type": "scatter"
           }
          ],
          "scatter3d": [
           {
            "line": {
             "colorbar": {
              "outlinewidth": 1,
              "tickcolor": "rgb(36,36,36)",
              "ticks": "outside"
             }
            },
            "marker": {
             "colorbar": {
              "outlinewidth": 1,
              "tickcolor": "rgb(36,36,36)",
              "ticks": "outside"
             }
            },
            "type": "scatter3d"
           }
          ],
          "scattercarpet": [
           {
            "marker": {
             "colorbar": {
              "outlinewidth": 1,
              "tickcolor": "rgb(36,36,36)",
              "ticks": "outside"
             }
            },
            "type": "scattercarpet"
           }
          ],
          "scattergeo": [
           {
            "marker": {
             "colorbar": {
              "outlinewidth": 1,
              "tickcolor": "rgb(36,36,36)",
              "ticks": "outside"
             }
            },
            "type": "scattergeo"
           }
          ],
          "scattergl": [
           {
            "marker": {
             "colorbar": {
              "outlinewidth": 1,
              "tickcolor": "rgb(36,36,36)",
              "ticks": "outside"
             }
            },
            "type": "scattergl"
           }
          ],
          "scattermapbox": [
           {
            "marker": {
             "colorbar": {
              "outlinewidth": 1,
              "tickcolor": "rgb(36,36,36)",
              "ticks": "outside"
             }
            },
            "type": "scattermapbox"
           }
          ],
          "scatterpolar": [
           {
            "marker": {
             "colorbar": {
              "outlinewidth": 1,
              "tickcolor": "rgb(36,36,36)",
              "ticks": "outside"
             }
            },
            "type": "scatterpolar"
           }
          ],
          "scatterpolargl": [
           {
            "marker": {
             "colorbar": {
              "outlinewidth": 1,
              "tickcolor": "rgb(36,36,36)",
              "ticks": "outside"
             }
            },
            "type": "scatterpolargl"
           }
          ],
          "scatterternary": [
           {
            "marker": {
             "colorbar": {
              "outlinewidth": 1,
              "tickcolor": "rgb(36,36,36)",
              "ticks": "outside"
             }
            },
            "type": "scatterternary"
           }
          ],
          "surface": [
           {
            "colorbar": {
             "outlinewidth": 1,
             "tickcolor": "rgb(36,36,36)",
             "ticks": "outside"
            },
            "colorscale": [
             [
              0,
              "#440154"
             ],
             [
              0.1111111111111111,
              "#482878"
             ],
             [
              0.2222222222222222,
              "#3e4989"
             ],
             [
              0.3333333333333333,
              "#31688e"
             ],
             [
              0.4444444444444444,
              "#26828e"
             ],
             [
              0.5555555555555556,
              "#1f9e89"
             ],
             [
              0.6666666666666666,
              "#35b779"
             ],
             [
              0.7777777777777778,
              "#6ece58"
             ],
             [
              0.8888888888888888,
              "#b5de2b"
             ],
             [
              1,
              "#fde725"
             ]
            ],
            "type": "surface"
           }
          ],
          "table": [
           {
            "cells": {
             "fill": {
              "color": "rgb(237,237,237)"
             },
             "line": {
              "color": "white"
             }
            },
            "header": {
             "fill": {
              "color": "rgb(217,217,217)"
             },
             "line": {
              "color": "white"
             }
            },
            "type": "table"
           }
          ]
         },
         "layout": {
          "annotationdefaults": {
           "arrowhead": 0,
           "arrowwidth": 1
          },
          "autotypenumbers": "strict",
          "coloraxis": {
           "colorbar": {
            "outlinewidth": 1,
            "tickcolor": "rgb(36,36,36)",
            "ticks": "outside"
           }
          },
          "colorscale": {
           "diverging": [
            [
             0,
             "rgb(103,0,31)"
            ],
            [
             0.1,
             "rgb(178,24,43)"
            ],
            [
             0.2,
             "rgb(214,96,77)"
            ],
            [
             0.3,
             "rgb(244,165,130)"
            ],
            [
             0.4,
             "rgb(253,219,199)"
            ],
            [
             0.5,
             "rgb(247,247,247)"
            ],
            [
             0.6,
             "rgb(209,229,240)"
            ],
            [
             0.7,
             "rgb(146,197,222)"
            ],
            [
             0.8,
             "rgb(67,147,195)"
            ],
            [
             0.9,
             "rgb(33,102,172)"
            ],
            [
             1,
             "rgb(5,48,97)"
            ]
           ],
           "sequential": [
            [
             0,
             "#440154"
            ],
            [
             0.1111111111111111,
             "#482878"
            ],
            [
             0.2222222222222222,
             "#3e4989"
            ],
            [
             0.3333333333333333,
             "#31688e"
            ],
            [
             0.4444444444444444,
             "#26828e"
            ],
            [
             0.5555555555555556,
             "#1f9e89"
            ],
            [
             0.6666666666666666,
             "#35b779"
            ],
            [
             0.7777777777777778,
             "#6ece58"
            ],
            [
             0.8888888888888888,
             "#b5de2b"
            ],
            [
             1,
             "#fde725"
            ]
           ],
           "sequentialminus": [
            [
             0,
             "#440154"
            ],
            [
             0.1111111111111111,
             "#482878"
            ],
            [
             0.2222222222222222,
             "#3e4989"
            ],
            [
             0.3333333333333333,
             "#31688e"
            ],
            [
             0.4444444444444444,
             "#26828e"
            ],
            [
             0.5555555555555556,
             "#1f9e89"
            ],
            [
             0.6666666666666666,
             "#35b779"
            ],
            [
             0.7777777777777778,
             "#6ece58"
            ],
            [
             0.8888888888888888,
             "#b5de2b"
            ],
            [
             1,
             "#fde725"
            ]
           ]
          },
          "colorway": [
           "#1F77B4",
           "#FF7F0E",
           "#2CA02C",
           "#D62728",
           "#9467BD",
           "#8C564B",
           "#E377C2",
           "#7F7F7F",
           "#BCBD22",
           "#17BECF"
          ],
          "font": {
           "color": "rgb(36,36,36)"
          },
          "geo": {
           "bgcolor": "white",
           "lakecolor": "white",
           "landcolor": "white",
           "showlakes": true,
           "showland": true,
           "subunitcolor": "white"
          },
          "hoverlabel": {
           "align": "left"
          },
          "hovermode": "closest",
          "mapbox": {
           "style": "light"
          },
          "paper_bgcolor": "white",
          "plot_bgcolor": "white",
          "polar": {
           "angularaxis": {
            "gridcolor": "rgb(232,232,232)",
            "linecolor": "rgb(36,36,36)",
            "showgrid": false,
            "showline": true,
            "ticks": "outside"
           },
           "bgcolor": "white",
           "radialaxis": {
            "gridcolor": "rgb(232,232,232)",
            "linecolor": "rgb(36,36,36)",
            "showgrid": false,
            "showline": true,
            "ticks": "outside"
           }
          },
          "scene": {
           "xaxis": {
            "backgroundcolor": "white",
            "gridcolor": "rgb(232,232,232)",
            "gridwidth": 2,
            "linecolor": "rgb(36,36,36)",
            "showbackground": true,
            "showgrid": false,
            "showline": true,
            "ticks": "outside",
            "zeroline": false,
            "zerolinecolor": "rgb(36,36,36)"
           },
           "yaxis": {
            "backgroundcolor": "white",
            "gridcolor": "rgb(232,232,232)",
            "gridwidth": 2,
            "linecolor": "rgb(36,36,36)",
            "showbackground": true,
            "showgrid": false,
            "showline": true,
            "ticks": "outside",
            "zeroline": false,
            "zerolinecolor": "rgb(36,36,36)"
           },
           "zaxis": {
            "backgroundcolor": "white",
            "gridcolor": "rgb(232,232,232)",
            "gridwidth": 2,
            "linecolor": "rgb(36,36,36)",
            "showbackground": true,
            "showgrid": false,
            "showline": true,
            "ticks": "outside",
            "zeroline": false,
            "zerolinecolor": "rgb(36,36,36)"
           }
          },
          "shapedefaults": {
           "fillcolor": "black",
           "line": {
            "width": 0
           },
           "opacity": 0.3
          },
          "ternary": {
           "aaxis": {
            "gridcolor": "rgb(232,232,232)",
            "linecolor": "rgb(36,36,36)",
            "showgrid": false,
            "showline": true,
            "ticks": "outside"
           },
           "baxis": {
            "gridcolor": "rgb(232,232,232)",
            "linecolor": "rgb(36,36,36)",
            "showgrid": false,
            "showline": true,
            "ticks": "outside"
           },
           "bgcolor": "white",
           "caxis": {
            "gridcolor": "rgb(232,232,232)",
            "linecolor": "rgb(36,36,36)",
            "showgrid": false,
            "showline": true,
            "ticks": "outside"
           }
          },
          "title": {
           "x": 0.05
          },
          "xaxis": {
           "automargin": true,
           "gridcolor": "rgb(232,232,232)",
           "linecolor": "rgb(36,36,36)",
           "showgrid": false,
           "showline": true,
           "ticks": "outside",
           "title": {
            "standoff": 15
           },
           "zeroline": false,
           "zerolinecolor": "rgb(36,36,36)"
          },
          "yaxis": {
           "automargin": true,
           "gridcolor": "rgb(232,232,232)",
           "linecolor": "rgb(36,36,36)",
           "showgrid": false,
           "showline": true,
           "ticks": "outside",
           "title": {
            "standoff": 15
           },
           "zeroline": false,
           "zerolinecolor": "rgb(36,36,36)"
          }
         }
        },
        "title": {
         "text": "Total Sales by Product（产品总销售量）"
        },
        "xaxis": {
         "title": {
          "text": "Product Name"
         }
        },
        "yaxis": {
         "title": {
          "text": "Total Sales"
         }
        }
       }
      }
     },
     "metadata": {},
     "output_type": "display_data"
    }
   ],
   "source": [
    "data_list = [\n",
    "    all_product_data.groupby(\"product_name_chinese_name\")[\"Total Sales\"]\n",
    "    .sum()\n",
    "    .reset_index()\n",
    "]\n",
    "\n",
    "fig = plot_bar_chart_plotly(\n",
    "    data_list[0],\n",
    "    x=\"product_name_chinese_name\",\n",
    "    y=\"Total Sales\",\n",
    "    title=\"Total Sales by Product（产品总销售量）\",\n",
    "    x_label=\"Product Name\",\n",
    "    y_label=\"Total Sales\",\n",
    ")\n",
    "\n",
    "fig.show()"
   ]
  },
  {
   "cell_type": "code",
   "execution_count": 310,
   "metadata": {},
   "outputs": [
    {
     "data": {
      "application/vnd.plotly.v1+json": {
       "config": {
        "plotlyServerURL": "https://plot.ly"
       },
       "data": [
        {
         "name": "Proceeds",
         "text": [
          455758.83,
          190262.84,
          54935,
          47420.37,
          44804.25,
          37485.479999999996,
          28758.25,
          10865.89,
          10754.86,
          6640.570000000001,
          4490.2,
          1908.05,
          1219.61
         ],
         "textposition": "auto",
         "texttemplate": "%{text:.2f}",
         "type": "bar",
         "x": [
          "name seals (印章)",
          "calligraphy prints (书法印刷品)",
          "brushes and calligraphy tools (笔和书法工具)",
          "chinese pottery (中国陶器)",
          "chinese mid autumn gift sets (中秋节礼品套装)",
          "paper lanterns (纸灯笼)",
          "bead bracelets and necklaces (珠子手链和项链)",
          "chinese bookmarks (中国书签)",
          "chinese art stickers (中国艺术贴纸)",
          "chinese incense (中国香)",
          "chinese washi tape (中国和纸胶带)",
          "chinese bamboo art (中国竹艺)",
          "chinese magnets (中国冰箱贴)"
         ],
         "y": [
          455758.83,
          190262.84,
          54935,
          47420.37,
          44804.25,
          37485.479999999996,
          28758.25,
          10865.89,
          10754.86,
          6640.570000000001,
          4490.2,
          1908.05,
          1219.61
         ]
        }
       ],
       "layout": {
        "template": {
         "data": {
          "bar": [
           {
            "error_x": {
             "color": "rgb(36,36,36)"
            },
            "error_y": {
             "color": "rgb(36,36,36)"
            },
            "marker": {
             "line": {
              "color": "white",
              "width": 0.5
             },
             "pattern": {
              "fillmode": "overlay",
              "size": 10,
              "solidity": 0.2
             }
            },
            "type": "bar"
           }
          ],
          "barpolar": [
           {
            "marker": {
             "line": {
              "color": "white",
              "width": 0.5
             },
             "pattern": {
              "fillmode": "overlay",
              "size": 10,
              "solidity": 0.2
             }
            },
            "type": "barpolar"
           }
          ],
          "carpet": [
           {
            "aaxis": {
             "endlinecolor": "rgb(36,36,36)",
             "gridcolor": "white",
             "linecolor": "white",
             "minorgridcolor": "white",
             "startlinecolor": "rgb(36,36,36)"
            },
            "baxis": {
             "endlinecolor": "rgb(36,36,36)",
             "gridcolor": "white",
             "linecolor": "white",
             "minorgridcolor": "white",
             "startlinecolor": "rgb(36,36,36)"
            },
            "type": "carpet"
           }
          ],
          "choropleth": [
           {
            "colorbar": {
             "outlinewidth": 1,
             "tickcolor": "rgb(36,36,36)",
             "ticks": "outside"
            },
            "type": "choropleth"
           }
          ],
          "contour": [
           {
            "colorbar": {
             "outlinewidth": 1,
             "tickcolor": "rgb(36,36,36)",
             "ticks": "outside"
            },
            "colorscale": [
             [
              0,
              "#440154"
             ],
             [
              0.1111111111111111,
              "#482878"
             ],
             [
              0.2222222222222222,
              "#3e4989"
             ],
             [
              0.3333333333333333,
              "#31688e"
             ],
             [
              0.4444444444444444,
              "#26828e"
             ],
             [
              0.5555555555555556,
              "#1f9e89"
             ],
             [
              0.6666666666666666,
              "#35b779"
             ],
             [
              0.7777777777777778,
              "#6ece58"
             ],
             [
              0.8888888888888888,
              "#b5de2b"
             ],
             [
              1,
              "#fde725"
             ]
            ],
            "type": "contour"
           }
          ],
          "contourcarpet": [
           {
            "colorbar": {
             "outlinewidth": 1,
             "tickcolor": "rgb(36,36,36)",
             "ticks": "outside"
            },
            "type": "contourcarpet"
           }
          ],
          "heatmap": [
           {
            "colorbar": {
             "outlinewidth": 1,
             "tickcolor": "rgb(36,36,36)",
             "ticks": "outside"
            },
            "colorscale": [
             [
              0,
              "#440154"
             ],
             [
              0.1111111111111111,
              "#482878"
             ],
             [
              0.2222222222222222,
              "#3e4989"
             ],
             [
              0.3333333333333333,
              "#31688e"
             ],
             [
              0.4444444444444444,
              "#26828e"
             ],
             [
              0.5555555555555556,
              "#1f9e89"
             ],
             [
              0.6666666666666666,
              "#35b779"
             ],
             [
              0.7777777777777778,
              "#6ece58"
             ],
             [
              0.8888888888888888,
              "#b5de2b"
             ],
             [
              1,
              "#fde725"
             ]
            ],
            "type": "heatmap"
           }
          ],
          "heatmapgl": [
           {
            "colorbar": {
             "outlinewidth": 1,
             "tickcolor": "rgb(36,36,36)",
             "ticks": "outside"
            },
            "colorscale": [
             [
              0,
              "#440154"
             ],
             [
              0.1111111111111111,
              "#482878"
             ],
             [
              0.2222222222222222,
              "#3e4989"
             ],
             [
              0.3333333333333333,
              "#31688e"
             ],
             [
              0.4444444444444444,
              "#26828e"
             ],
             [
              0.5555555555555556,
              "#1f9e89"
             ],
             [
              0.6666666666666666,
              "#35b779"
             ],
             [
              0.7777777777777778,
              "#6ece58"
             ],
             [
              0.8888888888888888,
              "#b5de2b"
             ],
             [
              1,
              "#fde725"
             ]
            ],
            "type": "heatmapgl"
           }
          ],
          "histogram": [
           {
            "marker": {
             "line": {
              "color": "white",
              "width": 0.6
             }
            },
            "type": "histogram"
           }
          ],
          "histogram2d": [
           {
            "colorbar": {
             "outlinewidth": 1,
             "tickcolor": "rgb(36,36,36)",
             "ticks": "outside"
            },
            "colorscale": [
             [
              0,
              "#440154"
             ],
             [
              0.1111111111111111,
              "#482878"
             ],
             [
              0.2222222222222222,
              "#3e4989"
             ],
             [
              0.3333333333333333,
              "#31688e"
             ],
             [
              0.4444444444444444,
              "#26828e"
             ],
             [
              0.5555555555555556,
              "#1f9e89"
             ],
             [
              0.6666666666666666,
              "#35b779"
             ],
             [
              0.7777777777777778,
              "#6ece58"
             ],
             [
              0.8888888888888888,
              "#b5de2b"
             ],
             [
              1,
              "#fde725"
             ]
            ],
            "type": "histogram2d"
           }
          ],
          "histogram2dcontour": [
           {
            "colorbar": {
             "outlinewidth": 1,
             "tickcolor": "rgb(36,36,36)",
             "ticks": "outside"
            },
            "colorscale": [
             [
              0,
              "#440154"
             ],
             [
              0.1111111111111111,
              "#482878"
             ],
             [
              0.2222222222222222,
              "#3e4989"
             ],
             [
              0.3333333333333333,
              "#31688e"
             ],
             [
              0.4444444444444444,
              "#26828e"
             ],
             [
              0.5555555555555556,
              "#1f9e89"
             ],
             [
              0.6666666666666666,
              "#35b779"
             ],
             [
              0.7777777777777778,
              "#6ece58"
             ],
             [
              0.8888888888888888,
              "#b5de2b"
             ],
             [
              1,
              "#fde725"
             ]
            ],
            "type": "histogram2dcontour"
           }
          ],
          "mesh3d": [
           {
            "colorbar": {
             "outlinewidth": 1,
             "tickcolor": "rgb(36,36,36)",
             "ticks": "outside"
            },
            "type": "mesh3d"
           }
          ],
          "parcoords": [
           {
            "line": {
             "colorbar": {
              "outlinewidth": 1,
              "tickcolor": "rgb(36,36,36)",
              "ticks": "outside"
             }
            },
            "type": "parcoords"
           }
          ],
          "pie": [
           {
            "automargin": true,
            "type": "pie"
           }
          ],
          "scatter": [
           {
            "fillpattern": {
             "fillmode": "overlay",
             "size": 10,
             "solidity": 0.2
            },
            "type": "scatter"
           }
          ],
          "scatter3d": [
           {
            "line": {
             "colorbar": {
              "outlinewidth": 1,
              "tickcolor": "rgb(36,36,36)",
              "ticks": "outside"
             }
            },
            "marker": {
             "colorbar": {
              "outlinewidth": 1,
              "tickcolor": "rgb(36,36,36)",
              "ticks": "outside"
             }
            },
            "type": "scatter3d"
           }
          ],
          "scattercarpet": [
           {
            "marker": {
             "colorbar": {
              "outlinewidth": 1,
              "tickcolor": "rgb(36,36,36)",
              "ticks": "outside"
             }
            },
            "type": "scattercarpet"
           }
          ],
          "scattergeo": [
           {
            "marker": {
             "colorbar": {
              "outlinewidth": 1,
              "tickcolor": "rgb(36,36,36)",
              "ticks": "outside"
             }
            },
            "type": "scattergeo"
           }
          ],
          "scattergl": [
           {
            "marker": {
             "colorbar": {
              "outlinewidth": 1,
              "tickcolor": "rgb(36,36,36)",
              "ticks": "outside"
             }
            },
            "type": "scattergl"
           }
          ],
          "scattermapbox": [
           {
            "marker": {
             "colorbar": {
              "outlinewidth": 1,
              "tickcolor": "rgb(36,36,36)",
              "ticks": "outside"
             }
            },
            "type": "scattermapbox"
           }
          ],
          "scatterpolar": [
           {
            "marker": {
             "colorbar": {
              "outlinewidth": 1,
              "tickcolor": "rgb(36,36,36)",
              "ticks": "outside"
             }
            },
            "type": "scatterpolar"
           }
          ],
          "scatterpolargl": [
           {
            "marker": {
             "colorbar": {
              "outlinewidth": 1,
              "tickcolor": "rgb(36,36,36)",
              "ticks": "outside"
             }
            },
            "type": "scatterpolargl"
           }
          ],
          "scatterternary": [
           {
            "marker": {
             "colorbar": {
              "outlinewidth": 1,
              "tickcolor": "rgb(36,36,36)",
              "ticks": "outside"
             }
            },
            "type": "scatterternary"
           }
          ],
          "surface": [
           {
            "colorbar": {
             "outlinewidth": 1,
             "tickcolor": "rgb(36,36,36)",
             "ticks": "outside"
            },
            "colorscale": [
             [
              0,
              "#440154"
             ],
             [
              0.1111111111111111,
              "#482878"
             ],
             [
              0.2222222222222222,
              "#3e4989"
             ],
             [
              0.3333333333333333,
              "#31688e"
             ],
             [
              0.4444444444444444,
              "#26828e"
             ],
             [
              0.5555555555555556,
              "#1f9e89"
             ],
             [
              0.6666666666666666,
              "#35b779"
             ],
             [
              0.7777777777777778,
              "#6ece58"
             ],
             [
              0.8888888888888888,
              "#b5de2b"
             ],
             [
              1,
              "#fde725"
             ]
            ],
            "type": "surface"
           }
          ],
          "table": [
           {
            "cells": {
             "fill": {
              "color": "rgb(237,237,237)"
             },
             "line": {
              "color": "white"
             }
            },
            "header": {
             "fill": {
              "color": "rgb(217,217,217)"
             },
             "line": {
              "color": "white"
             }
            },
            "type": "table"
           }
          ]
         },
         "layout": {
          "annotationdefaults": {
           "arrowhead": 0,
           "arrowwidth": 1
          },
          "autotypenumbers": "strict",
          "coloraxis": {
           "colorbar": {
            "outlinewidth": 1,
            "tickcolor": "rgb(36,36,36)",
            "ticks": "outside"
           }
          },
          "colorscale": {
           "diverging": [
            [
             0,
             "rgb(103,0,31)"
            ],
            [
             0.1,
             "rgb(178,24,43)"
            ],
            [
             0.2,
             "rgb(214,96,77)"
            ],
            [
             0.3,
             "rgb(244,165,130)"
            ],
            [
             0.4,
             "rgb(253,219,199)"
            ],
            [
             0.5,
             "rgb(247,247,247)"
            ],
            [
             0.6,
             "rgb(209,229,240)"
            ],
            [
             0.7,
             "rgb(146,197,222)"
            ],
            [
             0.8,
             "rgb(67,147,195)"
            ],
            [
             0.9,
             "rgb(33,102,172)"
            ],
            [
             1,
             "rgb(5,48,97)"
            ]
           ],
           "sequential": [
            [
             0,
             "#440154"
            ],
            [
             0.1111111111111111,
             "#482878"
            ],
            [
             0.2222222222222222,
             "#3e4989"
            ],
            [
             0.3333333333333333,
             "#31688e"
            ],
            [
             0.4444444444444444,
             "#26828e"
            ],
            [
             0.5555555555555556,
             "#1f9e89"
            ],
            [
             0.6666666666666666,
             "#35b779"
            ],
            [
             0.7777777777777778,
             "#6ece58"
            ],
            [
             0.8888888888888888,
             "#b5de2b"
            ],
            [
             1,
             "#fde725"
            ]
           ],
           "sequentialminus": [
            [
             0,
             "#440154"
            ],
            [
             0.1111111111111111,
             "#482878"
            ],
            [
             0.2222222222222222,
             "#3e4989"
            ],
            [
             0.3333333333333333,
             "#31688e"
            ],
            [
             0.4444444444444444,
             "#26828e"
            ],
            [
             0.5555555555555556,
             "#1f9e89"
            ],
            [
             0.6666666666666666,
             "#35b779"
            ],
            [
             0.7777777777777778,
             "#6ece58"
            ],
            [
             0.8888888888888888,
             "#b5de2b"
            ],
            [
             1,
             "#fde725"
            ]
           ]
          },
          "colorway": [
           "#1F77B4",
           "#FF7F0E",
           "#2CA02C",
           "#D62728",
           "#9467BD",
           "#8C564B",
           "#E377C2",
           "#7F7F7F",
           "#BCBD22",
           "#17BECF"
          ],
          "font": {
           "color": "rgb(36,36,36)"
          },
          "geo": {
           "bgcolor": "white",
           "lakecolor": "white",
           "landcolor": "white",
           "showlakes": true,
           "showland": true,
           "subunitcolor": "white"
          },
          "hoverlabel": {
           "align": "left"
          },
          "hovermode": "closest",
          "mapbox": {
           "style": "light"
          },
          "paper_bgcolor": "white",
          "plot_bgcolor": "white",
          "polar": {
           "angularaxis": {
            "gridcolor": "rgb(232,232,232)",
            "linecolor": "rgb(36,36,36)",
            "showgrid": false,
            "showline": true,
            "ticks": "outside"
           },
           "bgcolor": "white",
           "radialaxis": {
            "gridcolor": "rgb(232,232,232)",
            "linecolor": "rgb(36,36,36)",
            "showgrid": false,
            "showline": true,
            "ticks": "outside"
           }
          },
          "scene": {
           "xaxis": {
            "backgroundcolor": "white",
            "gridcolor": "rgb(232,232,232)",
            "gridwidth": 2,
            "linecolor": "rgb(36,36,36)",
            "showbackground": true,
            "showgrid": false,
            "showline": true,
            "ticks": "outside",
            "zeroline": false,
            "zerolinecolor": "rgb(36,36,36)"
           },
           "yaxis": {
            "backgroundcolor": "white",
            "gridcolor": "rgb(232,232,232)",
            "gridwidth": 2,
            "linecolor": "rgb(36,36,36)",
            "showbackground": true,
            "showgrid": false,
            "showline": true,
            "ticks": "outside",
            "zeroline": false,
            "zerolinecolor": "rgb(36,36,36)"
           },
           "zaxis": {
            "backgroundcolor": "white",
            "gridcolor": "rgb(232,232,232)",
            "gridwidth": 2,
            "linecolor": "rgb(36,36,36)",
            "showbackground": true,
            "showgrid": false,
            "showline": true,
            "ticks": "outside",
            "zeroline": false,
            "zerolinecolor": "rgb(36,36,36)"
           }
          },
          "shapedefaults": {
           "fillcolor": "black",
           "line": {
            "width": 0
           },
           "opacity": 0.3
          },
          "ternary": {
           "aaxis": {
            "gridcolor": "rgb(232,232,232)",
            "linecolor": "rgb(36,36,36)",
            "showgrid": false,
            "showline": true,
            "ticks": "outside"
           },
           "baxis": {
            "gridcolor": "rgb(232,232,232)",
            "linecolor": "rgb(36,36,36)",
            "showgrid": false,
            "showline": true,
            "ticks": "outside"
           },
           "bgcolor": "white",
           "caxis": {
            "gridcolor": "rgb(232,232,232)",
            "linecolor": "rgb(36,36,36)",
            "showgrid": false,
            "showline": true,
            "ticks": "outside"
           }
          },
          "title": {
           "x": 0.05
          },
          "xaxis": {
           "automargin": true,
           "gridcolor": "rgb(232,232,232)",
           "linecolor": "rgb(36,36,36)",
           "showgrid": false,
           "showline": true,
           "ticks": "outside",
           "title": {
            "standoff": 15
           },
           "zeroline": false,
           "zerolinecolor": "rgb(36,36,36)"
          },
          "yaxis": {
           "automargin": true,
           "gridcolor": "rgb(232,232,232)",
           "linecolor": "rgb(36,36,36)",
           "showgrid": false,
           "showline": true,
           "ticks": "outside",
           "title": {
            "standoff": 15
           },
           "zeroline": false,
           "zerolinecolor": "rgb(36,36,36)"
          }
         }
        },
        "title": {
         "text": "Total Revenue by Product（产品总销售额）"
        },
        "xaxis": {
         "title": {
          "text": "Product Name"
         }
        },
        "yaxis": {
         "title": {
          "text": "Total Revenue"
         }
        }
       }
      }
     },
     "metadata": {},
     "output_type": "display_data"
    }
   ],
   "source": [
    "data_list = [\n",
    "    all_product_data.groupby(\"product_name_chinese_name\")[\"proceeds\"]\n",
    "    .sum()\n",
    "    .reset_index()\n",
    "]\n",
    "\n",
    "fig = plot_bar_chart_plotly(\n",
    "    data_list[0],\n",
    "    x=\"product_name_chinese_name\",\n",
    "    y=\"proceeds\",\n",
    "    title=\"Total Revenue by Product（产品总销售额）\",\n",
    "    x_label=\"Product Name\",\n",
    "    y_label=\"Total Revenue\",\n",
    ")\n",
    "\n",
    "fig.show()"
   ]
  },
  {
   "cell_type": "code",
   "execution_count": 311,
   "metadata": {},
   "outputs": [
    {
     "data": {
      "application/vnd.plotly.v1+json": {
       "config": {
        "plotlyServerURL": "https://plot.ly"
       },
       "data": [
        {
         "name": "All Products",
         "text": [
          43.99,
          15.125,
          11.885,
          10.080000000000002,
          7.195,
          7,
          0,
          0,
          0,
          0,
          0,
          0,
          0
         ],
         "textposition": "auto",
         "texttemplate": "%{text:.2f}",
         "type": "bar",
         "visible": true,
         "x": [
          "name seals (印章)",
          "chinese mid autumn gift sets (中秋节礼品套装)",
          "chinese washi tape (中国和纸胶带)",
          "brushes and calligraphy tools (笔和书法工具)",
          "chinese bookmarks (中国书签)",
          "chinese art stickers (中国艺术贴纸)",
          "bead bracelets and necklaces (珠子手链和项链)",
          "calligraphy prints (书法印刷品)",
          "chinese bamboo art (中国竹艺)",
          "chinese incense (中国香)",
          "chinese magnets (中国冰箱贴)",
          "chinese pottery (中国陶器)",
          "paper lanterns (纸灯笼)"
         ],
         "y": [
          43.99,
          15.125,
          11.885,
          10.080000000000002,
          7.195,
          7,
          0,
          0,
          0,
          0,
          0,
          0,
          0
         ]
        },
        {
         "name": "Products with Sales",
         "text": [
          309.25,
          202.79,
          149.18,
          94.375,
          88.08,
          84,
          74,
          72.92999999999999,
          72.25999999999999,
          70.48,
          49.739999999999995,
          36.125,
          31.919999999999998
         ],
         "textposition": "auto",
         "texttemplate": "%{text:.2f}",
         "type": "bar",
         "visible": false,
         "x": [
          "chinese pottery (中国陶器)",
          "name seals (印章)",
          "chinese incense (中国香)",
          "chinese bamboo art (中国竹艺)",
          "chinese mid autumn gift sets (中秋节礼品套装)",
          "bead bracelets and necklaces (珠子手链和项链)",
          "paper lanterns (纸灯笼)",
          "brushes and calligraphy tools (笔和书法工具)",
          "calligraphy prints (书法印刷品)",
          "chinese bookmarks (中国书签)",
          "chinese magnets (中国冰箱贴)",
          "chinese art stickers (中国艺术贴纸)",
          "chinese washi tape (中国和纸胶带)"
         ],
         "y": [
          309.25,
          202.79,
          149.18,
          94.375,
          88.08,
          84,
          74,
          72.92999999999999,
          72.25999999999999,
          70.48,
          49.739999999999995,
          36.125,
          31.919999999999998
         ]
        }
       ],
       "layout": {
        "template": {
         "data": {
          "bar": [
           {
            "error_x": {
             "color": "rgb(36,36,36)"
            },
            "error_y": {
             "color": "rgb(36,36,36)"
            },
            "marker": {
             "line": {
              "color": "white",
              "width": 0.5
             },
             "pattern": {
              "fillmode": "overlay",
              "size": 10,
              "solidity": 0.2
             }
            },
            "type": "bar"
           }
          ],
          "barpolar": [
           {
            "marker": {
             "line": {
              "color": "white",
              "width": 0.5
             },
             "pattern": {
              "fillmode": "overlay",
              "size": 10,
              "solidity": 0.2
             }
            },
            "type": "barpolar"
           }
          ],
          "carpet": [
           {
            "aaxis": {
             "endlinecolor": "rgb(36,36,36)",
             "gridcolor": "white",
             "linecolor": "white",
             "minorgridcolor": "white",
             "startlinecolor": "rgb(36,36,36)"
            },
            "baxis": {
             "endlinecolor": "rgb(36,36,36)",
             "gridcolor": "white",
             "linecolor": "white",
             "minorgridcolor": "white",
             "startlinecolor": "rgb(36,36,36)"
            },
            "type": "carpet"
           }
          ],
          "choropleth": [
           {
            "colorbar": {
             "outlinewidth": 1,
             "tickcolor": "rgb(36,36,36)",
             "ticks": "outside"
            },
            "type": "choropleth"
           }
          ],
          "contour": [
           {
            "colorbar": {
             "outlinewidth": 1,
             "tickcolor": "rgb(36,36,36)",
             "ticks": "outside"
            },
            "colorscale": [
             [
              0,
              "#440154"
             ],
             [
              0.1111111111111111,
              "#482878"
             ],
             [
              0.2222222222222222,
              "#3e4989"
             ],
             [
              0.3333333333333333,
              "#31688e"
             ],
             [
              0.4444444444444444,
              "#26828e"
             ],
             [
              0.5555555555555556,
              "#1f9e89"
             ],
             [
              0.6666666666666666,
              "#35b779"
             ],
             [
              0.7777777777777778,
              "#6ece58"
             ],
             [
              0.8888888888888888,
              "#b5de2b"
             ],
             [
              1,
              "#fde725"
             ]
            ],
            "type": "contour"
           }
          ],
          "contourcarpet": [
           {
            "colorbar": {
             "outlinewidth": 1,
             "tickcolor": "rgb(36,36,36)",
             "ticks": "outside"
            },
            "type": "contourcarpet"
           }
          ],
          "heatmap": [
           {
            "colorbar": {
             "outlinewidth": 1,
             "tickcolor": "rgb(36,36,36)",
             "ticks": "outside"
            },
            "colorscale": [
             [
              0,
              "#440154"
             ],
             [
              0.1111111111111111,
              "#482878"
             ],
             [
              0.2222222222222222,
              "#3e4989"
             ],
             [
              0.3333333333333333,
              "#31688e"
             ],
             [
              0.4444444444444444,
              "#26828e"
             ],
             [
              0.5555555555555556,
              "#1f9e89"
             ],
             [
              0.6666666666666666,
              "#35b779"
             ],
             [
              0.7777777777777778,
              "#6ece58"
             ],
             [
              0.8888888888888888,
              "#b5de2b"
             ],
             [
              1,
              "#fde725"
             ]
            ],
            "type": "heatmap"
           }
          ],
          "heatmapgl": [
           {
            "colorbar": {
             "outlinewidth": 1,
             "tickcolor": "rgb(36,36,36)",
             "ticks": "outside"
            },
            "colorscale": [
             [
              0,
              "#440154"
             ],
             [
              0.1111111111111111,
              "#482878"
             ],
             [
              0.2222222222222222,
              "#3e4989"
             ],
             [
              0.3333333333333333,
              "#31688e"
             ],
             [
              0.4444444444444444,
              "#26828e"
             ],
             [
              0.5555555555555556,
              "#1f9e89"
             ],
             [
              0.6666666666666666,
              "#35b779"
             ],
             [
              0.7777777777777778,
              "#6ece58"
             ],
             [
              0.8888888888888888,
              "#b5de2b"
             ],
             [
              1,
              "#fde725"
             ]
            ],
            "type": "heatmapgl"
           }
          ],
          "histogram": [
           {
            "marker": {
             "line": {
              "color": "white",
              "width": 0.6
             }
            },
            "type": "histogram"
           }
          ],
          "histogram2d": [
           {
            "colorbar": {
             "outlinewidth": 1,
             "tickcolor": "rgb(36,36,36)",
             "ticks": "outside"
            },
            "colorscale": [
             [
              0,
              "#440154"
             ],
             [
              0.1111111111111111,
              "#482878"
             ],
             [
              0.2222222222222222,
              "#3e4989"
             ],
             [
              0.3333333333333333,
              "#31688e"
             ],
             [
              0.4444444444444444,
              "#26828e"
             ],
             [
              0.5555555555555556,
              "#1f9e89"
             ],
             [
              0.6666666666666666,
              "#35b779"
             ],
             [
              0.7777777777777778,
              "#6ece58"
             ],
             [
              0.8888888888888888,
              "#b5de2b"
             ],
             [
              1,
              "#fde725"
             ]
            ],
            "type": "histogram2d"
           }
          ],
          "histogram2dcontour": [
           {
            "colorbar": {
             "outlinewidth": 1,
             "tickcolor": "rgb(36,36,36)",
             "ticks": "outside"
            },
            "colorscale": [
             [
              0,
              "#440154"
             ],
             [
              0.1111111111111111,
              "#482878"
             ],
             [
              0.2222222222222222,
              "#3e4989"
             ],
             [
              0.3333333333333333,
              "#31688e"
             ],
             [
              0.4444444444444444,
              "#26828e"
             ],
             [
              0.5555555555555556,
              "#1f9e89"
             ],
             [
              0.6666666666666666,
              "#35b779"
             ],
             [
              0.7777777777777778,
              "#6ece58"
             ],
             [
              0.8888888888888888,
              "#b5de2b"
             ],
             [
              1,
              "#fde725"
             ]
            ],
            "type": "histogram2dcontour"
           }
          ],
          "mesh3d": [
           {
            "colorbar": {
             "outlinewidth": 1,
             "tickcolor": "rgb(36,36,36)",
             "ticks": "outside"
            },
            "type": "mesh3d"
           }
          ],
          "parcoords": [
           {
            "line": {
             "colorbar": {
              "outlinewidth": 1,
              "tickcolor": "rgb(36,36,36)",
              "ticks": "outside"
             }
            },
            "type": "parcoords"
           }
          ],
          "pie": [
           {
            "automargin": true,
            "type": "pie"
           }
          ],
          "scatter": [
           {
            "fillpattern": {
             "fillmode": "overlay",
             "size": 10,
             "solidity": 0.2
            },
            "type": "scatter"
           }
          ],
          "scatter3d": [
           {
            "line": {
             "colorbar": {
              "outlinewidth": 1,
              "tickcolor": "rgb(36,36,36)",
              "ticks": "outside"
             }
            },
            "marker": {
             "colorbar": {
              "outlinewidth": 1,
              "tickcolor": "rgb(36,36,36)",
              "ticks": "outside"
             }
            },
            "type": "scatter3d"
           }
          ],
          "scattercarpet": [
           {
            "marker": {
             "colorbar": {
              "outlinewidth": 1,
              "tickcolor": "rgb(36,36,36)",
              "ticks": "outside"
             }
            },
            "type": "scattercarpet"
           }
          ],
          "scattergeo": [
           {
            "marker": {
             "colorbar": {
              "outlinewidth": 1,
              "tickcolor": "rgb(36,36,36)",
              "ticks": "outside"
             }
            },
            "type": "scattergeo"
           }
          ],
          "scattergl": [
           {
            "marker": {
             "colorbar": {
              "outlinewidth": 1,
              "tickcolor": "rgb(36,36,36)",
              "ticks": "outside"
             }
            },
            "type": "scattergl"
           }
          ],
          "scattermapbox": [
           {
            "marker": {
             "colorbar": {
              "outlinewidth": 1,
              "tickcolor": "rgb(36,36,36)",
              "ticks": "outside"
             }
            },
            "type": "scattermapbox"
           }
          ],
          "scatterpolar": [
           {
            "marker": {
             "colorbar": {
              "outlinewidth": 1,
              "tickcolor": "rgb(36,36,36)",
              "ticks": "outside"
             }
            },
            "type": "scatterpolar"
           }
          ],
          "scatterpolargl": [
           {
            "marker": {
             "colorbar": {
              "outlinewidth": 1,
              "tickcolor": "rgb(36,36,36)",
              "ticks": "outside"
             }
            },
            "type": "scatterpolargl"
           }
          ],
          "scatterternary": [
           {
            "marker": {
             "colorbar": {
              "outlinewidth": 1,
              "tickcolor": "rgb(36,36,36)",
              "ticks": "outside"
             }
            },
            "type": "scatterternary"
           }
          ],
          "surface": [
           {
            "colorbar": {
             "outlinewidth": 1,
             "tickcolor": "rgb(36,36,36)",
             "ticks": "outside"
            },
            "colorscale": [
             [
              0,
              "#440154"
             ],
             [
              0.1111111111111111,
              "#482878"
             ],
             [
              0.2222222222222222,
              "#3e4989"
             ],
             [
              0.3333333333333333,
              "#31688e"
             ],
             [
              0.4444444444444444,
              "#26828e"
             ],
             [
              0.5555555555555556,
              "#1f9e89"
             ],
             [
              0.6666666666666666,
              "#35b779"
             ],
             [
              0.7777777777777778,
              "#6ece58"
             ],
             [
              0.8888888888888888,
              "#b5de2b"
             ],
             [
              1,
              "#fde725"
             ]
            ],
            "type": "surface"
           }
          ],
          "table": [
           {
            "cells": {
             "fill": {
              "color": "rgb(237,237,237)"
             },
             "line": {
              "color": "white"
             }
            },
            "header": {
             "fill": {
              "color": "rgb(217,217,217)"
             },
             "line": {
              "color": "white"
             }
            },
            "type": "table"
           }
          ]
         },
         "layout": {
          "annotationdefaults": {
           "arrowhead": 0,
           "arrowwidth": 1
          },
          "autotypenumbers": "strict",
          "coloraxis": {
           "colorbar": {
            "outlinewidth": 1,
            "tickcolor": "rgb(36,36,36)",
            "ticks": "outside"
           }
          },
          "colorscale": {
           "diverging": [
            [
             0,
             "rgb(103,0,31)"
            ],
            [
             0.1,
             "rgb(178,24,43)"
            ],
            [
             0.2,
             "rgb(214,96,77)"
            ],
            [
             0.3,
             "rgb(244,165,130)"
            ],
            [
             0.4,
             "rgb(253,219,199)"
            ],
            [
             0.5,
             "rgb(247,247,247)"
            ],
            [
             0.6,
             "rgb(209,229,240)"
            ],
            [
             0.7,
             "rgb(146,197,222)"
            ],
            [
             0.8,
             "rgb(67,147,195)"
            ],
            [
             0.9,
             "rgb(33,102,172)"
            ],
            [
             1,
             "rgb(5,48,97)"
            ]
           ],
           "sequential": [
            [
             0,
             "#440154"
            ],
            [
             0.1111111111111111,
             "#482878"
            ],
            [
             0.2222222222222222,
             "#3e4989"
            ],
            [
             0.3333333333333333,
             "#31688e"
            ],
            [
             0.4444444444444444,
             "#26828e"
            ],
            [
             0.5555555555555556,
             "#1f9e89"
            ],
            [
             0.6666666666666666,
             "#35b779"
            ],
            [
             0.7777777777777778,
             "#6ece58"
            ],
            [
             0.8888888888888888,
             "#b5de2b"
            ],
            [
             1,
             "#fde725"
            ]
           ],
           "sequentialminus": [
            [
             0,
             "#440154"
            ],
            [
             0.1111111111111111,
             "#482878"
            ],
            [
             0.2222222222222222,
             "#3e4989"
            ],
            [
             0.3333333333333333,
             "#31688e"
            ],
            [
             0.4444444444444444,
             "#26828e"
            ],
            [
             0.5555555555555556,
             "#1f9e89"
            ],
            [
             0.6666666666666666,
             "#35b779"
            ],
            [
             0.7777777777777778,
             "#6ece58"
            ],
            [
             0.8888888888888888,
             "#b5de2b"
            ],
            [
             1,
             "#fde725"
            ]
           ]
          },
          "colorway": [
           "#1F77B4",
           "#FF7F0E",
           "#2CA02C",
           "#D62728",
           "#9467BD",
           "#8C564B",
           "#E377C2",
           "#7F7F7F",
           "#BCBD22",
           "#17BECF"
          ],
          "font": {
           "color": "rgb(36,36,36)"
          },
          "geo": {
           "bgcolor": "white",
           "lakecolor": "white",
           "landcolor": "white",
           "showlakes": true,
           "showland": true,
           "subunitcolor": "white"
          },
          "hoverlabel": {
           "align": "left"
          },
          "hovermode": "closest",
          "mapbox": {
           "style": "light"
          },
          "paper_bgcolor": "white",
          "plot_bgcolor": "white",
          "polar": {
           "angularaxis": {
            "gridcolor": "rgb(232,232,232)",
            "linecolor": "rgb(36,36,36)",
            "showgrid": false,
            "showline": true,
            "ticks": "outside"
           },
           "bgcolor": "white",
           "radialaxis": {
            "gridcolor": "rgb(232,232,232)",
            "linecolor": "rgb(36,36,36)",
            "showgrid": false,
            "showline": true,
            "ticks": "outside"
           }
          },
          "scene": {
           "xaxis": {
            "backgroundcolor": "white",
            "gridcolor": "rgb(232,232,232)",
            "gridwidth": 2,
            "linecolor": "rgb(36,36,36)",
            "showbackground": true,
            "showgrid": false,
            "showline": true,
            "ticks": "outside",
            "zeroline": false,
            "zerolinecolor": "rgb(36,36,36)"
           },
           "yaxis": {
            "backgroundcolor": "white",
            "gridcolor": "rgb(232,232,232)",
            "gridwidth": 2,
            "linecolor": "rgb(36,36,36)",
            "showbackground": true,
            "showgrid": false,
            "showline": true,
            "ticks": "outside",
            "zeroline": false,
            "zerolinecolor": "rgb(36,36,36)"
           },
           "zaxis": {
            "backgroundcolor": "white",
            "gridcolor": "rgb(232,232,232)",
            "gridwidth": 2,
            "linecolor": "rgb(36,36,36)",
            "showbackground": true,
            "showgrid": false,
            "showline": true,
            "ticks": "outside",
            "zeroline": false,
            "zerolinecolor": "rgb(36,36,36)"
           }
          },
          "shapedefaults": {
           "fillcolor": "black",
           "line": {
            "width": 0
           },
           "opacity": 0.3
          },
          "ternary": {
           "aaxis": {
            "gridcolor": "rgb(232,232,232)",
            "linecolor": "rgb(36,36,36)",
            "showgrid": false,
            "showline": true,
            "ticks": "outside"
           },
           "baxis": {
            "gridcolor": "rgb(232,232,232)",
            "linecolor": "rgb(36,36,36)",
            "showgrid": false,
            "showline": true,
            "ticks": "outside"
           },
           "bgcolor": "white",
           "caxis": {
            "gridcolor": "rgb(232,232,232)",
            "linecolor": "rgb(36,36,36)",
            "showgrid": false,
            "showline": true,
            "ticks": "outside"
           }
          },
          "title": {
           "x": 0.05
          },
          "xaxis": {
           "automargin": true,
           "gridcolor": "rgb(232,232,232)",
           "linecolor": "rgb(36,36,36)",
           "showgrid": false,
           "showline": true,
           "ticks": "outside",
           "title": {
            "standoff": 15
           },
           "zeroline": false,
           "zerolinecolor": "rgb(36,36,36)"
          },
          "yaxis": {
           "automargin": true,
           "gridcolor": "rgb(232,232,232)",
           "linecolor": "rgb(36,36,36)",
           "showgrid": false,
           "showline": true,
           "ticks": "outside",
           "title": {
            "standoff": 15
           },
           "zeroline": false,
           "zerolinecolor": "rgb(36,36,36)"
          }
         }
        },
        "title": {
         "text": "Median Revenue by Product（产品销售额中位数）"
        },
        "updatemenus": [
         {
          "buttons": [
           {
            "args": [
             {
              "visible": [
               true,
               false
              ]
             }
            ],
            "label": "All Products",
            "method": "update"
           },
           {
            "args": [
             {
              "visible": [
               false,
               true
              ]
             }
            ],
            "label": "Products with Sales",
            "method": "update"
           }
          ],
          "direction": "down",
          "pad": {
           "r": 2,
           "t": 12
          },
          "showactive": true,
          "x": 0,
          "xanchor": "left",
          "y": 1.3,
          "yanchor": "top"
         }
        ],
        "xaxis": {
         "title": {
          "text": "Product Name"
         }
        },
        "yaxis": {
         "title": {
          "text": "Median Revenue ($)"
         }
        }
       }
      }
     },
     "metadata": {},
     "output_type": "display_data"
    }
   ],
   "source": [
    "data_list = [\n",
    "    all_product_data.groupby(\"product_name_chinese_name\")[\"proceeds\"]\n",
    "    .median()\n",
    "    .reset_index(),\n",
    "    all_product_data[all_product_data[\"has_sales\"] == True]\n",
    "    .groupby(\"product_name_chinese_name\")[\"proceeds\"]\n",
    "    .median()\n",
    "    .reset_index(),\n",
    "]\n",
    "\n",
    "labels = [\"All Products\", \"Products with Sales\"]\n",
    "\n",
    "fig = plot_bar_chart_plotly_with_dropdown(\n",
    "    data_list=data_list,\n",
    "    x=\"product_name_chinese_name\",\n",
    "    y=\"proceeds\",\n",
    "    labels=labels,\n",
    "    title=\"Median Revenue by Product（产品销售额中位数）\",\n",
    "    x_label=\"Product Name\",\n",
    "    y_label=\"Median Revenue ($)\",\n",
    ")\n",
    "\n",
    "fig.show()\n",
    "# to_html(fig, config[\"output_folder\"] + \"median_proceeds_by_product.html\")"
   ]
  },
  {
   "cell_type": "code",
   "execution_count": 312,
   "metadata": {},
   "outputs": [],
   "source": [
    "def plot_scatter_plotly_with_dropdown(\n",
    "    data, x, y, color, color_labels, title=None, x_label=None, y_label=None\n",
    "):\n",
    "    traces = []\n",
    "    for label in color_labels:\n",
    "        filtered_data = data[data[color] == label]\n",
    "        trace = go.Scatter(\n",
    "            x=filtered_data[x],\n",
    "            y=filtered_data[y],\n",
    "            mode=\"markers\",\n",
    "            name=label,\n",
    "            visible=True if label == color_labels[0] else False,\n",
    "        )\n",
    "        traces.append(trace)\n",
    "\n",
    "    fig = go.Figure(data=traces)\n",
    "\n",
    "    # Add the dropdown menu\n",
    "    fig.update_layout(\n",
    "        updatemenus=[\n",
    "            dict(\n",
    "                buttons=[\n",
    "                    dict(\n",
    "                        args=[\n",
    "                            {\"visible\": [label == selected for label in color_labels]}\n",
    "                        ],\n",
    "                        label=selected,\n",
    "                        method=\"update\",\n",
    "                    )\n",
    "                    for selected in color_labels\n",
    "                ],\n",
    "                direction=\"down\",\n",
    "                pad={\"r\": 10, \"t\": 10},\n",
    "                showactive=True,\n",
    "                x=0.1,\n",
    "                xanchor=\"left\",\n",
    "                y=1.1,\n",
    "                yanchor=\"top\",\n",
    "            )\n",
    "        ]\n",
    "    )\n",
    "\n",
    "    fig.update_layout(\n",
    "        title=title,\n",
    "        xaxis_title=x_label,\n",
    "        yaxis_title=y_label,\n",
    "        template=\"simple_white\",\n",
    "    )\n",
    "\n",
    "    return fig"
   ]
  },
  {
   "cell_type": "code",
   "execution_count": 313,
   "metadata": {},
   "outputs": [
    {
     "data": {
      "application/vnd.plotly.v1+json": {
       "config": {
        "plotlyServerURL": "https://plot.ly"
       },
       "data": [
        {
         "mode": "markers",
         "name": "bead bracelets and necklaces (珠子手链和项链)",
         "type": "scatter",
         "visible": true,
         "x": [
          176.12,
          59,
          59.99,
          8.75,
          251.88,
          25,
          10,
          102.01,
          21.85,
          79.92,
          18.5,
          9.58,
          0.72,
          17.09,
          27.19,
          69,
          111.93,
          56.99,
          23.75,
          49.12,
          9,
          6.3,
          5.4,
          4.5,
          5.4,
          5.4,
          39,
          28.88,
          65,
          4.95,
          286.39,
          60,
          19.89,
          102,
          35.11,
          60.02,
          90,
          138,
          30,
          47.68,
          80,
          14.4,
          26.12,
          32.29,
          28.8,
          56.82,
          38,
          39.95,
          49,
          9.26,
          46.77,
          42,
          44.95,
          159.91,
          20,
          42,
          12.25,
          6,
          14.39,
          39.5,
          10.36,
          23.5,
          22.95,
          40,
          95.99,
          20,
          8.4,
          17.35,
          21.59,
          17.98,
          55,
          15,
          38,
          30,
          238.88,
          28,
          168,
          175,
          50,
          18.43,
          10.5,
          135,
          405,
          45,
          350,
          43.09,
          261.72,
          2.97,
          192.17,
          79,
          14.98,
          36,
          34.26,
          70.2,
          31.5,
          43.39,
          88.63,
          69.98,
          1200,
          19.89,
          19.98,
          9.9,
          13.7,
          4.49,
          69,
          99.99,
          15,
          98.05,
          9.9,
          9.9,
          10.8,
          235,
          520.5,
          26.42,
          180.36,
          13.49,
          21.59,
          30.59,
          180,
          13.5,
          3.22,
          25.04,
          285,
          539,
          79,
          73.48,
          6,
          21,
          1200,
          88.63,
          25,
          2000,
          84,
          34.2,
          57.46,
          3000,
          57.37
         ],
         "y": [
          0,
          7,
          0,
          5,
          0,
          0,
          0,
          0,
          0,
          0,
          0,
          0,
          1,
          5,
          5,
          0,
          0,
          0,
          0,
          1,
          20,
          0,
          0,
          9,
          0,
          8,
          1,
          0,
          0,
          9,
          0,
          0,
          1,
          5,
          2,
          0,
          2,
          0,
          0,
          0,
          0,
          1,
          0,
          0,
          0,
          1,
          74,
          1,
          0,
          3,
          1,
          2,
          2,
          1,
          1,
          3,
          1,
          2,
          0,
          0,
          4,
          0,
          0,
          0,
          0,
          0,
          23,
          1,
          7,
          1,
          1,
          2,
          0,
          0,
          0,
          2,
          2,
          2,
          0,
          6,
          22,
          0,
          5,
          0,
          0,
          0,
          0,
          4,
          0,
          0,
          0,
          25,
          34,
          14,
          54,
          1,
          0,
          0,
          1,
          1,
          1,
          50,
          2,
          0,
          0,
          0,
          0,
          0,
          0,
          5,
          0,
          0,
          1,
          0,
          0,
          84,
          0,
          1,
          0,
          14,
          77,
          0,
          7,
          0,
          0,
          0,
          26,
          217,
          0,
          0,
          10,
          2,
          0,
          1,
          0,
          0,
          1
         ]
        },
        {
         "mode": "markers",
         "name": "chinese mid autumn gift sets (中秋节礼品套装)",
         "type": "scatter",
         "visible": false,
         "x": [
          55.99,
          16,
          31.99,
          3.29,
          110,
          110,
          36,
          42,
          29.99,
          285.08,
          36,
          39,
          6.9,
          4.42,
          55,
          13,
          2.99,
          14.67,
          16,
          8.88,
          2.4,
          4.5,
          10.99,
          20.79,
          22.02,
          26.02,
          0.18,
          22.02,
          21.02,
          25.68
         ],
         "y": [
          416,
          897,
          137,
          5,
          0,
          0,
          0,
          7,
          22,
          0,
          1,
          1,
          2,
          10,
          7,
          20,
          3,
          0,
          40,
          6,
          3,
          0,
          0,
          0,
          4,
          0,
          5,
          0,
          0,
          9
         ]
        },
        {
         "mode": "markers",
         "name": "chinese pottery (中国陶器)",
         "type": "scatter",
         "visible": false,
         "x": [
          23.95,
          120.1,
          60.1,
          29,
          36.95,
          450,
          178.75,
          110,
          19.5,
          150,
          125,
          68.75,
          178.75,
          151.25,
          68.75,
          81.25,
          57,
          229.99,
          38.5,
          31.2,
          29.4,
          85.25,
          33,
          54.27,
          14.61,
          46.46,
          125,
          72.25,
          37.99,
          21,
          19.23,
          19.41,
          19.23,
          65.39,
          120,
          339.64,
          399,
          69.05,
          65,
          201.53,
          36.9,
          32.1,
          1400,
          103.5,
          49,
          39.97,
          29.79,
          29.98,
          53.89,
          26.43,
          24.98,
          47.65,
          29.98,
          42,
          29.92,
          57,
          13.08,
          130,
          68.75,
          26.63,
          262.84,
          155,
          100,
          38.25,
          15.09,
          196,
          365,
          45.77,
          2004.38,
          31.71,
          105.26,
          25.5,
          225,
          29,
          160,
          29,
          25.5,
          34.5,
          350,
          95,
          44.96,
          35.65,
          35.65,
          256.7,
          195,
          13.05,
          16.8,
          17.17,
          39.85,
          155.35,
          25.93,
          649.5,
          52.99,
          47.21,
          111.44,
          75.59,
          172.33,
          34,
          75,
          499.6,
          10,
          1299,
          28.33,
          54.6,
          240,
          37.63,
          22.5,
          18,
          69.98,
          556.5,
          16,
          40.5,
          18,
          18,
          17.98,
          18,
          288.75,
          190,
          498,
          156.44,
          99.52,
          59.84,
          118,
          43.11,
          2.25,
          86.9,
          97.9,
          56.01,
          41,
          235,
          22.58,
          41,
          84.96,
          23.11,
          125,
          128.21,
          36.99,
          253.91,
          26.42,
          35.54,
          39.99,
          29.71,
          34.43,
          21.18,
          29.99,
          59,
          79.46,
          39,
          108,
          13.77,
          17.99,
          24.99,
          44.96,
          34.88,
          35.65,
          45.74,
          37.21,
          59.99,
          299.99,
          81.25,
          52.25,
          2000,
          165.75,
          80.54,
          52.25,
          53.16,
          595,
          162.5,
          54.99,
          34.74,
          16.69,
          24.99,
          28,
          166.51,
          36.23,
          448.32,
          59,
          30.56,
          450,
          95.06,
          45,
          500,
          306.5,
          37.51,
          75,
          36,
          638.79,
          25,
          22,
          31.97
         ],
         "y": [
          1,
          0,
          0,
          0,
          3,
          5,
          2,
          0,
          2,
          9,
          14,
          0,
          0,
          0,
          1,
          7,
          0,
          0,
          7,
          10,
          13,
          0,
          0,
          0,
          68,
          5,
          0,
          0,
          0,
          0,
          0,
          0,
          0,
          0,
          0,
          0,
          0,
          0,
          0,
          0,
          40,
          1,
          1,
          0,
          0,
          0,
          0,
          0,
          1,
          0,
          0,
          0,
          0,
          1,
          0,
          0,
          0,
          0,
          1,
          4,
          0,
          0,
          0,
          0,
          0,
          0,
          0,
          0,
          0,
          0,
          0,
          0,
          0,
          8,
          2,
          2,
          0,
          1,
          4,
          0,
          0,
          0,
          0,
          0,
          0,
          124,
          68,
          59,
          2,
          0,
          0,
          0,
          8,
          0,
          0,
          0,
          1,
          3,
          7,
          0,
          17,
          0,
          0,
          0,
          0,
          44,
          107,
          246,
          29,
          0,
          26,
          0,
          3,
          7,
          21,
          0,
          0,
          2,
          0,
          0,
          0,
          0,
          0,
          0,
          359,
          1,
          1,
          0,
          1,
          0,
          3,
          0,
          0,
          0,
          0,
          0,
          12,
          4,
          0,
          0,
          0,
          0,
          0,
          0,
          0,
          0,
          0,
          0,
          0,
          9,
          405,
          12,
          0,
          0,
          0,
          0,
          0,
          4,
          3,
          4,
          1,
          0,
          0,
          0,
          0,
          0,
          2,
          0,
          14,
          1,
          4,
          50,
          0,
          0,
          0,
          0,
          0,
          2,
          0,
          0,
          0,
          0,
          1,
          1,
          3,
          0,
          1,
          0,
          0,
          0
         ]
        },
        {
         "mode": "markers",
         "name": "chinese incense (中国香)",
         "type": "scatter",
         "visible": false,
         "x": [
          13.33,
          16.92,
          34.46,
          63,
          961.35,
          126.75,
          77.4,
          435,
          82.5,
          30,
          226.55,
          12.15,
          60,
          226,
          74.25,
          360,
          29.75,
          74.59,
          10,
          1350,
          20,
          45,
          21.25,
          11.04,
          11.89,
          246,
          4.5,
          24.65,
          16.99,
          51,
          445,
          21.25,
          29,
          3500,
          195,
          67.15,
          29,
          12.99,
          0.2,
          10.5,
          597.86,
          0.2,
          12.99,
          27.69,
          28.25,
          41.27,
          48,
          38.7,
          23.39,
          599.38,
          15,
          81.9,
          22.49,
          17.23,
          21.17,
          17.18,
          8
         ],
         "y": [
          14,
          17,
          0,
          0,
          0,
          12,
          0,
          0,
          1,
          2,
          3,
          5,
          0,
          0,
          0,
          0,
          0,
          2,
          1,
          0,
          0,
          0,
          43,
          32,
          106,
          0,
          3,
          16,
          0,
          7,
          0,
          0,
          0,
          0,
          0,
          0,
          0,
          0,
          2,
          3,
          0,
          2,
          4,
          0,
          0,
          0,
          0,
          0,
          0,
          0,
          1,
          0,
          0,
          0,
          10,
          0,
          0
         ]
        },
        {
         "mode": "markers",
         "name": "chinese magnets (中国冰箱贴)",
         "type": "scatter",
         "visible": false,
         "x": [
          1.5,
          7.8,
          3.8,
          5,
          5.27,
          8.63,
          9,
          5,
          5,
          27,
          5.29,
          17.16,
          8,
          34.29,
          5.75,
          11,
          17,
          14.49,
          5.97,
          8,
          3.01,
          18,
          1.5,
          20,
          14.95,
          35,
          22,
          3.03,
          80,
          4.12
         ],
         "y": [
          3,
          3,
          48,
          0,
          0,
          1,
          0,
          0,
          0,
          0,
          7,
          8,
          0,
          0,
          0,
          15,
          3,
          1,
          0,
          0,
          10,
          3,
          269,
          0,
          4,
          0,
          0,
          16,
          0,
          0
         ]
        },
        {
         "mode": "markers",
         "name": "paper lanterns (纸灯笼)",
         "type": "scatter",
         "visible": false,
         "x": [
          6,
          2.42,
          2.8,
          3.7,
          10.1,
          42,
          1.95,
          49.49,
          1.95,
          0.79,
          9.99,
          2.3,
          6,
          0.79,
          3.08,
          3.49,
          9.49,
          1.36,
          8.49,
          11.49,
          20,
          125,
          20,
          84,
          125,
          49.85,
          65.7,
          38.4,
          55.5,
          2.99,
          7.94,
          8.49,
          20,
          32,
          65.98,
          76.98,
          42.27,
          48,
          2.75,
          14.95,
          30,
          2.8,
          6,
          29.95,
          1.89,
          15.99,
          15.99,
          4,
          29.95,
          5.75,
          3,
          109,
          99,
          109,
          15,
          9.34,
          1.49,
          8.41,
          13.98,
          20,
          74.54,
          27.56,
          33.01,
          27.13,
          5.56,
          21,
          1.85,
          56.81,
          41.95,
          30.43,
          9.34,
          19.72,
          3,
          33.23,
          4.5,
          31,
          3.04,
          22.4,
          2999,
          16,
          29.94,
          4.63,
          28,
          12.03,
          6.54,
          40.48,
          10,
          36.57,
          165,
          10,
          19.92,
          9.85,
          2.46,
          39.99,
          4.86,
          2.95,
          2.49,
          424,
          15,
          18,
          3.75,
          8.49,
          44,
          44,
          239,
          28,
          79,
          41.6,
          31.2,
          15.78,
          34.5,
          69,
          1200,
          49,
          39,
          15.81,
          31.2,
          20.8,
          44,
          37.8,
          55,
          24,
          3.59,
          2.71,
          6.99,
          9.95,
          36.15,
          2.67,
          89,
          2.39,
          19.99,
          79,
          3900,
          14,
          49,
          89,
          68,
          79,
          289,
          69,
          59,
          3900,
          18.98,
          23.31,
          179,
          6.5,
          6,
          3.87,
          8,
          139,
          13.5,
          69,
          35.99,
          9.08,
          89.95,
          21.29,
          85,
          14.77,
          18.67,
          59.12,
          45,
          45,
          11.9,
          30.52,
          15.33,
          334.79,
          771.94,
          14.7,
          45,
          26.71,
          150,
          213,
          39,
          102.88,
          522.5,
          200,
          476.84,
          66,
          19.98,
          19.98,
          3.95,
          69,
          69,
          13.98,
          3.88,
          19.98,
          89
         ],
         "y": [
          86,
          101,
          2,
          0,
          0,
          0,
          14,
          0,
          157,
          0,
          3,
          149,
          0,
          810,
          0,
          3,
          6,
          0,
          0,
          66,
          0,
          1,
          0,
          0,
          0,
          4,
          0,
          0,
          0,
          119,
          88,
          41,
          0,
          0,
          0,
          0,
          0,
          1,
          1,
          0,
          0,
          3,
          7,
          0,
          6,
          4,
          0,
          0,
          15,
          3,
          0,
          0,
          0,
          12,
          0,
          19,
          274,
          0,
          3,
          0,
          0,
          6,
          0,
          0,
          2,
          1,
          93,
          0,
          51,
          11,
          5,
          0,
          3,
          0,
          8,
          17,
          56,
          0,
          3,
          0,
          8,
          5,
          3,
          0,
          0,
          0,
          0,
          0,
          0,
          0,
          0,
          16,
          111,
          0,
          23,
          0,
          12,
          0,
          7,
          3,
          17,
          0,
          10,
          6,
          3,
          10,
          1,
          0,
          0,
          1,
          0,
          1,
          0,
          1,
          0,
          2,
          0,
          0,
          0,
          202,
          0,
          0,
          8,
          0,
          3,
          0,
          1,
          0,
          0,
          0,
          0,
          0,
          0,
          0,
          1,
          0,
          0,
          0,
          0,
          0,
          1,
          0,
          0,
          24,
          3,
          0,
          11,
          2,
          28,
          2,
          1,
          6,
          0,
          0,
          0,
          1,
          0,
          2,
          0,
          1,
          2,
          1,
          1,
          0,
          0,
          0,
          0,
          3,
          0,
          0,
          1,
          10,
          0,
          1,
          0,
          0,
          0,
          26,
          3,
          1,
          12,
          1,
          0,
          0,
          0,
          0,
          0
         ]
        },
        {
         "mode": "markers",
         "name": "chinese bamboo art (中国竹艺)",
         "type": "scatter",
         "visible": false,
         "x": [
          145.26,
          14.99,
          2,
          18.47,
          238.21,
          125,
          82.65,
          399.99,
          20,
          20,
          20,
          20,
          20,
          20,
          20,
          20,
          20,
          20,
          20,
          20,
          20,
          20,
          20,
          15,
          20,
          20,
          20,
          66.46,
          25,
          69,
          54.44,
          163.65,
          213.65,
          162.57,
          162.9,
          74.31,
          845.03,
          51.75,
          4.25,
          0.85,
          112.69,
          137.61,
          365.27,
          112.42,
          213.49,
          15,
          22.5,
          29.25,
          75,
          58.13
         ],
         "y": [
          0,
          4,
          37,
          2,
          0,
          0,
          0,
          0,
          0,
          0,
          0,
          0,
          0,
          0,
          0,
          0,
          0,
          0,
          0,
          0,
          0,
          0,
          0,
          0,
          0,
          0,
          0,
          0,
          1,
          0,
          3,
          2,
          4,
          0,
          0,
          3,
          0,
          0,
          27,
          0,
          0,
          0,
          0,
          0,
          0,
          0,
          0,
          1,
          0,
          0
         ]
        },
        {
         "mode": "markers",
         "name": "chinese washi tape (中国和纸胶带)",
         "type": "scatter",
         "visible": false,
         "x": [
          1.9,
          5.25,
          1.32,
          2.97,
          4.67,
          1.85,
          2.8,
          1.89,
          8.55,
          3.06,
          4.29,
          1.12,
          3.95,
          1.57,
          1.12,
          1.35,
          1.69,
          3.37,
          2.23,
          5.13,
          2.97,
          0.8,
          5.05,
          29.92,
          2.2,
          6.37,
          4.95,
          3.96,
          2.87,
          3.98,
          4.5,
          16.98,
          3.98,
          3.98,
          3.5,
          3.98,
          3.5,
          2.58,
          16.98,
          3.51,
          3.98,
          1.15,
          4.5,
          4.5,
          2.66,
          3.49,
          30.45,
          2.46,
          9.26,
          5.39,
          16.95,
          5.4,
          5.4,
          5.39,
          5.42,
          6.64,
          5.39,
          6.25,
          6.95,
          7,
          17,
          2.28
         ],
         "y": [
          2,
          2,
          5,
          70,
          56,
          5,
          0,
          6,
          38,
          7,
          1,
          28,
          85,
          32,
          49,
          25,
          7,
          0,
          0,
          20,
          71,
          10,
          3,
          1,
          0,
          1,
          3,
          0,
          26,
          0,
          0,
          0,
          0,
          6,
          0,
          0,
          9,
          10,
          2,
          7,
          3,
          0,
          34,
          18,
          0,
          3,
          38,
          111,
          36,
          17,
          0,
          11,
          0,
          0,
          0,
          0,
          0,
          0,
          22,
          0,
          9,
          14
         ]
        },
        {
         "mode": "markers",
         "name": "chinese art stickers (中国艺术贴纸)",
         "type": "scatter",
         "visible": false,
         "x": [
          19,
          8.8,
          52.95,
          67,
          13.5,
          68.98,
          4.44,
          26.99,
          12.42,
          4.23,
          3.08,
          11.95,
          15.5,
          14,
          4.09,
          38,
          71.9,
          3.75,
          35,
          6.85,
          5.35,
          5.99,
          5.58,
          5.7,
          5.7,
          3.5,
          19.8,
          2.5,
          6,
          6.6,
          4.9,
          5.05,
          1.99,
          16,
          3,
          4,
          2.62,
          8.63,
          3,
          1.59,
          3.69,
          3.2,
          3.5,
          4.5,
          7.17,
          4,
          2.99,
          1.59,
          4.27,
          1.59,
          3.99,
          34.79,
          0.5,
          4,
          3.54,
          8.88,
          2.64,
          7.56,
          4.99,
          1,
          4,
          3.99,
          3.85,
          1,
          3,
          3.96,
          2.99,
          4.72,
          3.87,
          3,
          3,
          4.88,
          3.08,
          4,
          5.63,
          4,
          4,
          4,
          4,
          9,
          9.8,
          4,
          4,
          3.8,
          4,
          35.95,
          4.25,
          5.09,
          25.25,
          25.25,
          3.8,
          25.25,
          30.75,
          25.25,
          4,
          4,
          4,
          4,
          25.25,
          10.79,
          2.46,
          7.74,
          10.34,
          9.99,
          5.43,
          6.21,
          7.74,
          2.56,
          11.63,
          5.33,
          2.49,
          2.75,
          11.65,
          8.55,
          6.19,
          8.48,
          9.25
         ],
         "y": [
          18,
          4,
          0,
          0,
          0,
          0,
          4,
          0,
          0,
          4,
          92,
          2,
          159,
          22,
          5,
          70,
          12,
          11,
          0,
          5,
          2,
          0,
          0,
          0,
          0,
          0,
          0,
          0,
          0,
          12,
          0,
          7,
          4,
          1,
          3,
          4,
          1,
          0,
          1,
          4,
          10,
          2,
          2,
          0,
          0,
          4,
          9,
          4,
          9,
          0,
          13,
          0,
          1,
          14,
          0,
          0,
          53,
          20,
          0,
          0,
          10,
          4,
          116,
          10,
          0,
          5,
          3,
          1,
          35,
          0,
          0,
          11,
          76,
          23,
          0,
          0,
          0,
          0,
          0,
          3,
          0,
          0,
          27,
          10,
          35,
          0,
          14,
          0,
          6,
          1,
          0,
          2,
          1,
          6,
          0,
          0,
          13,
          0,
          0,
          14,
          69,
          0,
          0,
          0,
          5,
          3,
          0,
          30,
          0,
          5,
          75,
          124,
          0,
          0,
          0,
          0,
          3
         ]
        },
        {
         "mode": "markers",
         "name": "brushes and calligraphy tools (笔和书法工具)",
         "type": "scatter",
         "visible": false,
         "x": [
          9.99,
          18.98,
          33.99,
          17.6,
          29.99,
          25.99,
          31.99,
          25.99,
          79.99,
          25.94,
          33.99,
          26.99,
          44.99,
          24.99,
          1.99,
          54.84,
          21.86,
          28.99,
          100.27,
          24.99,
          21.99,
          2.82,
          145.69,
          35.99,
          10.99,
          59.99,
          29.99,
          54.99,
          6.74,
          24.99,
          12.74,
          26.99,
          30.99,
          29.74,
          50,
          56.25,
          37.5,
          49.68,
          79,
          16.99,
          23.73,
          25.99,
          88,
          31.99,
          40.99,
          61.72,
          14,
          1167.73,
          125,
          45.34,
          4.95,
          57.15,
          4.95,
          33.99,
          29.99,
          38.99,
          47.99,
          119.99,
          19.98,
          29.92,
          18,
          22.99,
          37.99,
          49.99,
          39.8,
          23.64,
          25.99,
          9.99,
          10.36,
          24.31,
          49.99,
          29.99,
          19.99,
          29.99,
          69.99,
          39.99,
          25.99,
          93.51,
          21.84,
          8.84,
          2.24,
          2.24,
          2.24,
          2.14,
          0.99,
          1.99,
          1.07,
          3.33,
          1.99,
          1.79,
          5,
          1.07,
          1.29,
          3,
          4.25,
          6.5,
          7.24,
          20.07,
          26,
          25.67,
          25.67,
          34.17,
          30.61,
          60,
          151.32,
          39.5,
          50.84,
          75.2,
          28.3,
          7.34,
          28.7,
          49.99,
          22.69,
          32.99,
          5,
          9.99,
          69.41,
          37.42,
          5.28,
          7.81,
          36.75,
          14.99,
          7.81,
          7.31,
          24,
          7.81,
          7.81,
          42.88,
          65.62,
          17.08,
          29.08,
          19.99,
          27.95,
          29.85,
          27.99,
          25.16,
          115,
          31.48,
          49.99,
          22.34,
          107,
          80.53,
          11.28,
          21.24,
          5.9,
          39.61,
          11.28,
          11.22,
          68.39,
          125,
          15.99,
          55,
          23.99,
          78.54,
          308.27,
          57.13,
          53.26,
          54.4,
          99,
          33.99,
          15.99,
          38.26
         ],
         "y": [
          2,
          3,
          1,
          0,
          0,
          2,
          8,
          0,
          0,
          1,
          0,
          11,
          0,
          17,
          0,
          0,
          1,
          21,
          0,
          0,
          16,
          0,
          0,
          0,
          35,
          113,
          129,
          30,
          218,
          6,
          6,
          0,
          0,
          0,
          0,
          0,
          0,
          0,
          0,
          0,
          0,
          1,
          0,
          1,
          1,
          2,
          1,
          0,
          0,
          0,
          1,
          1,
          18,
          0,
          0,
          0,
          7,
          0,
          6,
          1,
          9,
          0,
          2,
          0,
          1,
          0,
          0,
          19,
          7,
          3,
          2,
          9,
          16,
          95,
          9,
          9,
          15,
          0,
          1,
          2,
          8,
          4,
          5,
          10,
          0,
          10,
          4,
          2,
          3,
          3,
          7,
          4,
          6,
          14,
          7,
          2,
          7,
          0,
          0,
          0,
          0,
          0,
          0,
          0,
          0,
          0,
          0,
          0,
          0,
          7,
          1,
          12,
          0,
          0,
          8,
          42,
          0,
          0,
          4,
          0,
          0,
          2,
          0,
          16,
          0,
          0,
          0,
          0,
          2,
          1,
          0,
          0,
          91,
          0,
          90,
          0,
          120,
          43,
          9,
          1,
          5,
          0,
          1,
          1,
          0,
          4,
          0,
          75,
          0,
          0,
          169,
          0,
          2,
          1,
          5,
          0,
          0,
          0,
          26,
          2,
          55,
          2
         ]
        },
        {
         "mode": "markers",
         "name": "calligraphy prints (书法印刷品)",
         "type": "scatter",
         "visible": false,
         "x": [
          5.11,
          48,
          39.5,
          3.08,
          53.13,
          53.13,
          53.05,
          680,
          93.29,
          53.24,
          620,
          53.22,
          53.16,
          75,
          864.03,
          53.22,
          30,
          580,
          120.23,
          92,
          53.14,
          53.16,
          53.22,
          300,
          78,
          21,
          40.08,
          39.97,
          7.31,
          7.77,
          2,
          47,
          3.73,
          25,
          2.25,
          4.95,
          3.86,
          3.85,
          4.75,
          28.25,
          22.5,
          12.95,
          25.5,
          39.54,
          12.95,
          12.95,
          9.28,
          15,
          12.95,
          18.67,
          28.54,
          8.67,
          9.48,
          12.95,
          10,
          115.12,
          12.95,
          12.95,
          6.64,
          9.23,
          9.29,
          12.95,
          78.8,
          205.57,
          12.95,
          19.2,
          9.36,
          36,
          12,
          9.16,
          2.62,
          39.97,
          39.97,
          5,
          39.97,
          40,
          7.7,
          12,
          20,
          2.74,
          36,
          7.6,
          67.93,
          2.5,
          2.5,
          85.05,
          2.5,
          19.28,
          11.18,
          24.99,
          12.95,
          9.06,
          7.32,
          7.33,
          6,
          17.6,
          3.15,
          3.73,
          3.73,
          16.72,
          12.95,
          7.32,
          7.32,
          12.95,
          86.63,
          12.95,
          12.95,
          6.66,
          12.95,
          9.29,
          22,
          12.95,
          47,
          44.12,
          12.95,
          5.65,
          9.23,
          5.38,
          7.33,
          12.95,
          11,
          42.41,
          39.97,
          39.97,
          40,
          45.17,
          39.97,
          4.73,
          11.06,
          4,
          2.99,
          13.81,
          7.77,
          11.05,
          9.35,
          2.74,
          3.73,
          3.75,
          1,
          4.83,
          6.51,
          6.51,
          2.69,
          8.76,
          12.95,
          10.36,
          10.36,
          10.36,
          7.33,
          7.33,
          4.75,
          12.95,
          9.23,
          94,
          12.95,
          39.54,
          39.54,
          12.95,
          7.84,
          12.95,
          7.76,
          12.95,
          94,
          7.33,
          13.97,
          46.8,
          22,
          94,
          16.1,
          0.9,
          37.28,
          2,
          11,
          12.95,
          10.36,
          12.95,
          10.36,
          10.36,
          10.36,
          10.36,
          2.43,
          20.5,
          13,
          3,
          4.17,
          3.89,
          10.36,
          10.36,
          10.36,
          12.95,
          28.88,
          5,
          15,
          26,
          250,
          10.36,
          12.95,
          10.36,
          10.36,
          10.36,
          10.36,
          10.36,
          88.97,
          65,
          15,
          4.28,
          48.99,
          88,
          400,
          107.38,
          33,
          39.99,
          99.99,
          53.3,
          53.3,
          53.3,
          1.94,
          650,
          500,
          1000,
          7.82,
          60,
          7.8,
          7.77,
          3,
          1.91,
          3.74,
          800,
          304.91,
          10,
          4.84,
          300,
          102.03,
          2,
          184.03,
          207.04,
          115.02,
          125.61,
          99.67,
          793.65,
          217.62,
          563.61,
          108.94,
          11.79,
          107.84,
          4.68,
          398,
          269,
          200,
          6.9,
          6.9,
          6.9,
          6.9,
          4.2,
          13.7,
          15,
          4.72,
          144,
          25,
          15,
          231,
          4.76,
          800,
          65.02,
          199.61,
          114.81,
          4.84,
          88,
          132.28,
          100,
          78.03,
          39.99,
          6.8,
          90,
          6.6,
          31.82,
          39.99,
          950,
          29.66,
          14.4,
          6.9,
          70,
          60,
          5.2,
          29.71,
          59.99,
          70,
          4.12,
          3.44,
          100,
          59.12,
          158,
          122.87,
          67,
          200,
          550,
          24,
          9.85,
          6,
          29.99,
          103.45,
          20,
          3.46,
          107.86,
          44.15,
          600,
          108.6,
          49,
          1200,
          2359.82,
          299,
          108.66,
          65,
          77.84,
          7.24,
          95,
          4.85,
          29.71,
          91,
          55,
          300,
          59.18,
          50.81,
          8.95,
          60.31,
          8,
          108.39,
          500,
          1000,
          6.85,
          300,
          8.01,
          9.6,
          6.8,
          70,
          6,
          4.9,
          8,
          2000,
          65.55,
          7.74,
          4.85,
          4.5,
          19.99,
          25,
          4.99,
          19.99,
          450,
          39.99,
          140.61,
          4.85,
          65.55,
          4.4,
          6.9,
          9.34,
          345.65,
          15,
          3.63,
          3.47,
          440,
          22.99,
          3.47,
          111.58,
          177.79,
          6,
          11,
          13.62,
          39,
          39,
          111.64,
          250,
          500,
          53.69,
          120.75,
          350,
          114.19,
          159.87,
          286.99,
          78.62,
          4.67,
          195.54,
          5.8,
          75,
          85,
          795.3,
          119.2,
          39.99,
          100,
          111.26,
          190,
          7.8,
          39.99,
          333.56,
          115.2,
          3.99,
          500,
          123.89,
          4.84,
          2500,
          4.84,
          99.99,
          990,
          99,
          118.39,
          29.71,
          116.56,
          6,
          13.31,
          1100,
          1000,
          199.76,
          24,
          69.84,
          104.42,
          200.48,
          6.9,
          6.9,
          111.58,
          299,
          2.78,
          12,
          6.9,
          85.12,
          20,
          111.97,
          35,
          24,
          41,
          6.8,
          13.32,
          15,
          6.8,
          3.68,
          39.99,
          20.99,
          4.69,
          59,
          59.3,
          100,
          111.06,
          77.82,
          6.73,
          21.35,
          65.99,
          6.57,
          429,
          259.68,
          300,
          39.66,
          107.42,
          39.99,
          3.59,
          6.9,
          77.84,
          107.62,
          4.5,
          4.68,
          6.8,
          4.45,
          103.48,
          1500,
          33,
          850,
          59.37,
          39.34,
          45,
          173.58,
          48.94,
          44.99,
          16.79,
          7.9,
          7.26,
          6.9,
          1200,
          111.35,
          13.32,
          8,
          39.99,
          65.55,
          280,
          125.46,
          8,
          70,
          34.11,
          6.99,
          6.9,
          6.9,
          6.9,
          117.06,
          7.17,
          59.45,
          100,
          150,
          122.79,
          99.99,
          1500,
          131.52,
          39.99,
          76.8,
          35,
          64.99,
          26,
          212.58,
          250,
          111.58,
          7.74,
          7.74,
          60,
          7,
          4.63,
          40,
          60.31,
          60.31,
          29.71,
          4.15,
          99.53,
          680,
          4.65,
          101.57,
          4.5,
          111.58,
          1500,
          4.65,
          6.9,
          3.67,
          72,
          6.35,
          18,
          29.71,
          4.5,
          180,
          39,
          6.9,
          2000,
          6.97,
          199,
          188.84,
          19.83,
          117.91,
          44.1,
          7.82,
          69.99,
          79.99,
          4.85,
          4.75,
          147.59,
          6.9,
          25,
          155,
          6.9,
          138.03,
          308.32,
          5.8,
          4.45,
          401.74,
          7.8,
          332.87,
          6.37,
          4.84,
          28,
          45,
          53.3,
          241.55,
          39.99,
          21.67,
          12.5,
          79.54,
          37.44,
          7.75,
          7.7,
          158.87,
          5.75,
          180.69,
          6.9,
          122.55,
          102.03,
          3.03,
          53.3,
          800,
          53.3,
          53.3,
          850,
          320,
          29.71,
          5.5,
          200,
          5.8,
          2.75,
          200,
          6.98,
          215,
          320,
          4.84,
          0.64,
          6.9,
          350,
          400,
          6,
          24,
          59.59,
          59.99,
          6,
          77.86,
          1500,
          4.5,
          90,
          150.16,
          220,
          4.9,
          4.84,
          10,
          1300,
          4.79,
          6,
          9.37,
          6.45,
          4.45,
          6.9,
          3000,
          83.42,
          299,
          6.09,
          31.82,
          7.69,
          202.34,
          29.71,
          400,
          29.71,
          121.95,
          9.2,
          6.99,
          6.9,
          6.9,
          106.75,
          750,
          31.82,
          4.85,
          29.71,
          111.58,
          7.74,
          0.67,
          111.58,
          52.99,
          31.82,
          105.07,
          39.99,
          15,
          128.26,
          290,
          11.78,
          59.74,
          4.78,
          7.69,
          193,
          59.37,
          77.84,
          4.61,
          5,
          207,
          66.99,
          280,
          500,
          20,
          23.94,
          9.53,
          3.86,
          118.19,
          6.8,
          53.99,
          25.14,
          19.83,
          5.8,
          39.99,
          6.8,
          4.64,
          55,
          400,
          90,
          49,
          6.77,
          6.9,
          42.95,
          44.2,
          4.5,
          35,
          31.82,
          140.8,
          600,
          77.54,
          6.9,
          4.5,
          60,
          150,
          6.9,
          12.5,
          60.05,
          29.71,
          41,
          48.99,
          23.99,
          108.66,
          600,
          3.95,
          111.34,
          4.5,
          6.9,
          31.82,
          222.22,
          6.9,
          59.99,
          127.87,
          4.5,
          25.99,
          6,
          59.99,
          36,
          49.44,
          5,
          39.99,
          0.66,
          4.68,
          6.8,
          17.97,
          139.92,
          115.02,
          35,
          23.94,
          62.11,
          140.4,
          3.44,
          104.42,
          6,
          9.99,
          75,
          17.98,
          21.53,
          850,
          107.26,
          108.66,
          109.25,
          61.8,
          40,
          20,
          8.88,
          850,
          3.68,
          125,
          140,
          60,
          44.15,
          6,
          40,
          38,
          45,
          21.35,
          80,
          850,
          7.94,
          1800,
          8,
          65,
          42,
          25,
          9.31,
          6,
          6.8,
          95,
          22.99,
          22.99,
          4.99,
          3.5,
          16.57,
          149.53,
          332.87,
          286.57,
          108,
          62.53,
          22.1,
          9.51,
          48.78,
          6.68,
          3.82,
          6.49,
          6.49,
          1.37,
          2.99,
          5.99,
          10.11,
          6,
          13,
          6.94,
          28,
          8.4,
          7.49,
          78,
          2.37,
          15.3,
          18.75,
          9.05,
          6,
          19.95,
          13.2,
          7.99,
          9.41,
          7.33,
          9.47,
          5,
          15.47,
          14.57,
          9.3,
          7.32,
          9.32,
          16.57,
          9.22,
          4.9,
          7.32,
          4.9,
          18.82,
          3.84,
          9.51,
          46.62,
          4.99,
          4.99,
          3.74,
          19.98,
          7.99,
          4.51,
          5.99,
          1.34,
          7.31,
          6,
          4.7,
          6,
          9.06,
          11.31,
          4.26,
          5.28,
          6.58,
          7.34,
          4.9,
          7.91,
          6,
          10.77,
          4.99,
          10.77,
          17.68,
          6,
          4.9,
          9.27,
          7.33,
          6,
          6,
          4.9,
          9.28,
          6,
          7.33,
          4.9,
          4.9,
          39.99,
          4.99,
          2.72,
          95,
          2.99,
          2.99,
          9.24,
          6.49,
          7.35,
          9.31,
          6.95,
          6,
          7.33,
          6,
          1.58,
          9.05,
          9.05,
          9.55,
          9.24,
          4.9,
          7.34,
          4.9,
          10.86,
          15.47,
          8.4,
          9.23,
          4.9,
          16.57,
          9.22,
          28.9,
          17.68,
          17.15,
          2.6,
          75,
          7.49,
          17.15,
          512.41,
          58,
          18.89,
          7.99,
          4.9,
          17.15,
          61.2,
          5,
          1,
          50,
          6.6,
          4.2,
          5,
          1.47,
          1,
          95,
          1,
          7.95,
          9.94,
          16.75,
          9.31,
          49.34,
          7.69,
          79.63,
          49,
          68.59,
          87.79,
          23.99,
          83.89,
          18.22,
          72.32,
          94.15,
          6.57,
          93.07,
          159.74,
          82.26,
          174.77,
          155.01,
          199,
          82.24,
          179,
          72.03,
          263.85,
          24.99,
          73.73,
          3.44,
          159,
          93.95,
          209,
          13.45,
          50.48,
          60.1,
          88.28,
          105,
          73.31,
          82.7,
          11.25,
          199,
          390,
          6.57,
          10.87,
          49.46,
          52.79,
          18.67,
          10.33,
          22.95,
          67.72,
          46.91,
          69.26,
          104.51,
          2,
          94.29,
          82.85,
          75.3,
          52.5,
          67.79,
          82.56,
          3,
          48.32,
          68.07,
          69.12,
          14.2,
          52.13,
          74.9,
          21.97,
          3.57,
          20.18,
          6.31,
          102.12,
          73.97,
          81.3,
          29.71,
          600,
          263.85,
          208.15,
          121,
          20.16,
          105.57,
          5,
          25,
          12,
          5,
          25,
          6.2,
          8,
          4.9,
          25,
          5,
          5,
          23.88,
          10.2,
          2.95,
          300,
          6.16,
          4.66,
          5,
          25,
          25,
          5,
          5,
          5,
          20.23,
          12.99,
          4.13,
          2.31,
          40,
          39.15,
          500,
          99,
          46.61,
          88,
          49.99,
          50,
          600,
          95,
          30.58,
          78,
          5.46,
          56,
          52.58,
          73,
          65,
          2.23,
          11.45,
          6.9,
          149.66,
          23.16,
          423,
          137,
          50.63,
          49.18,
          2,
          3.49,
          4.16,
          59.99,
          4.16,
          120,
          149.84,
          25,
          79.69,
          67.58,
          149.87,
          500,
          125,
          13.15,
          155,
          20,
          450,
          33,
          199.21,
          140,
          149.93,
          3.96,
          13.18,
          2.49,
          7.86,
          23.16,
          40,
          3.5,
          91,
          9.73,
          23.13,
          46.27,
          23.14,
          43.02,
          21.6,
          5.01,
          67,
          2800,
          47.44,
          79.85,
          32.99,
          35.9,
          56.17,
          24.95,
          4.25,
          47.04,
          25,
          90,
          120,
          32.99,
          34,
          60,
          11.78,
          79.93,
          59.99,
          157.2,
          25,
          16.04,
          39,
          15,
          35,
          150,
          46.99,
          4.99,
          46.99,
          46.14,
          42.99,
          13.16,
          23.22,
          40,
          50,
          79.99,
          46.99,
          169.94,
          79.94,
          56.89,
          2.22,
          13.3,
          3.87,
          69.6,
          9.8,
          3.87,
          50,
          40,
          39,
          30.96,
          3.86,
          46.26,
          23.14,
          5,
          5,
          280.79,
          200.44,
          4.8,
          2.5,
          2.5,
          49.99,
          170,
          59.99,
          35.9,
          46.61,
          44,
          108.2,
          5,
          3.14,
          2.22,
          4.65,
          120,
          4.12,
          47.43,
          30.88,
          4.62,
          106.6,
          4.05,
          400,
          25,
          58.32,
          39.99,
          49.99,
          5.01,
          42,
          4.99,
          39,
          240,
          240,
          150.35,
          200.01,
          30.71,
          46.6,
          4.99,
          2.22,
          2.22,
          25,
          245,
          40,
          3,
          16.05,
          120,
          33.99,
          40,
          79.79,
          154,
          33.5,
          34.62,
          34.62,
          13.28,
          39.99,
          90,
          98,
          12,
          450,
          200,
          4.27,
          49.99,
          67.58,
          34.62,
          18,
          35,
          44.03,
          2,
          300,
          220.49,
          63.9,
          500,
          59,
          49.99,
          15,
          59,
          25,
          400,
          3.87,
          15,
          29.66,
          13.33,
          8,
          46.44,
          90,
          73.28,
          4.98,
          46.44,
          83.17,
          23.23,
          5,
          5,
          49.99,
          96,
          31,
          23.26,
          46.51,
          49.62,
          2.22,
          17.31,
          17.47,
          80,
          46.58,
          295,
          3.87,
          46.58,
          39.99,
          39.99,
          38.56,
          146.62,
          10,
          15,
          55,
          49.99,
          3.45,
          200.19,
          20,
          85,
          200,
          2.71,
          109.27,
          46.5,
          39.53,
          120.62,
          49.99,
          99,
          4.99,
          25,
          20.7,
          97,
          4.72,
          38.95,
          45,
          25.29,
          40,
          35,
          15,
          2.65,
          39.99,
          4.25,
          80.03,
          40.74,
          3.58,
          49.99,
          77.52,
          4.2,
          50.44,
          600,
          120,
          120,
          120,
          59.99,
          52.78,
          4.99,
          49.99,
          175,
          43.99,
          4.25,
          115.5,
          50,
          5,
          50.41,
          23.76,
          5.01,
          83.35,
          46.17,
          23.72,
          120,
          133.26,
          200,
          59.99,
          450,
          46.4,
          46.41,
          2.22,
          46.46,
          49.62,
          49.62,
          13.16,
          5,
          57.98,
          5,
          61.85,
          34.62,
          46.15,
          10.67,
          23.84,
          4.98,
          30.95,
          46.44,
          72.33,
          31.75,
          49.99,
          45,
          40,
          168.23,
          12.57,
          5,
          2.22,
          100,
          14.4,
          59.99,
          35,
          22,
          350,
          22.15,
          40,
          46.45,
          4.99,
          50.16,
          59.99,
          60,
          45,
          35,
          3.87,
          40,
          46.27,
          78.49,
          86,
          9.39,
          9.39,
          30.85,
          3.5,
          3.5,
          25,
          23.14,
          39.99,
          5.67,
          44.9,
          1250,
          70,
          40,
          15,
          12.99,
          2.62,
          94,
          45,
          50,
          34.78,
          45,
          40,
          63.75,
          40,
          3.5,
          392.08,
          45,
          5.74,
          4.76,
          94.84,
          40,
          50,
          105.24,
          45,
          97,
          3.5,
          65,
          400,
          400,
          36.32,
          240,
          1800,
          1600,
          259.17,
          392.08,
          45,
          394.02,
          131.46,
          300,
          99,
          106.75,
          45,
          199.88,
          205.29,
          35.9,
          75,
          390.31,
          259.17,
          49,
          12.5,
          1500,
          36.9,
          4.5,
          3.88,
          13,
          30.63,
          67.85,
          35,
          97,
          65,
          104.64,
          36.32,
          89,
          258,
          390.31,
          75,
          350,
          2.22,
          106.47,
          250.8,
          125,
          136.8,
          394.39,
          394.39,
          45,
          392.08,
          137,
          25,
          75.18
         ],
         "y": [
          29,
          2,
          1,
          0,
          0,
          0,
          0,
          0,
          0,
          0,
          0,
          0,
          0,
          0,
          0,
          0,
          0,
          0,
          0,
          0,
          0,
          0,
          0,
          0,
          0,
          97,
          0,
          0,
          1,
          1,
          3,
          1,
          1,
          3,
          3,
          4,
          2,
          1,
          6,
          0,
          0,
          0,
          0,
          0,
          0,
          0,
          0,
          0,
          8,
          0,
          0,
          4,
          0,
          0,
          0,
          0,
          8,
          0,
          0,
          0,
          0,
          0,
          0,
          0,
          0,
          0,
          1,
          0,
          0,
          0,
          0,
          0,
          0,
          4,
          0,
          0,
          0,
          2,
          0,
          1,
          0,
          4,
          0,
          3,
          6,
          0,
          3,
          0,
          0,
          0,
          0,
          0,
          6,
          3,
          7,
          0,
          6,
          1,
          1,
          0,
          0,
          5,
          6,
          0,
          0,
          0,
          1,
          0,
          0,
          0,
          0,
          8,
          2,
          0,
          0,
          0,
          0,
          4,
          3,
          0,
          0,
          0,
          1,
          0,
          0,
          17,
          0,
          3,
          0,
          1,
          2,
          0,
          0,
          0,
          0,
          1,
          6,
          7,
          0,
          2,
          0,
          0,
          4,
          0,
          8,
          0,
          0,
          0,
          3,
          3,
          0,
          7,
          0,
          5,
          0,
          2,
          0,
          7,
          0,
          0,
          10,
          0,
          2,
          3,
          5,
          3,
          0,
          0,
          19,
          0,
          26,
          0,
          1,
          0,
          7,
          7,
          7,
          7,
          7,
          7,
          0,
          0,
          0,
          0,
          0,
          4,
          7,
          7,
          7,
          7,
          0,
          0,
          7,
          9,
          0,
          7,
          7,
          7,
          7,
          7,
          7,
          7,
          0,
          0,
          0,
          0,
          78,
          0,
          0,
          0,
          1,
          2,
          1,
          0,
          0,
          0,
          1,
          0,
          0,
          0,
          1,
          0,
          1,
          1,
          1,
          2,
          8,
          0,
          0,
          6,
          3,
          0,
          1,
          6,
          0,
          0,
          0,
          0,
          0,
          0,
          0,
          0,
          2,
          0,
          0,
          0,
          1,
          0,
          4,
          0,
          0,
          0,
          0,
          4,
          0,
          1,
          0,
          0,
          0,
          26,
          0,
          16,
          1,
          0,
          0,
          3,
          6,
          0,
          0,
          0,
          0,
          18,
          0,
          0,
          0,
          4,
          4,
          1,
          0,
          12,
          0,
          0,
          0,
          5,
          12,
          5,
          0,
          0,
          0,
          0,
          0,
          0,
          0,
          0,
          0,
          0,
          0,
          1,
          0,
          0,
          0,
          0,
          27,
          0,
          2,
          0,
          0,
          0,
          0,
          0,
          0,
          0,
          0,
          1,
          2,
          1,
          5,
          1,
          0,
          3,
          0,
          0,
          0,
          1,
          0,
          0,
          0,
          0,
          0,
          1,
          1,
          3,
          0,
          61,
          0,
          0,
          8,
          14,
          0,
          0,
          1,
          2,
          16,
          7,
          0,
          0,
          129,
          0,
          2,
          0,
          0,
          0,
          0,
          1,
          7,
          0,
          20,
          2,
          0,
          2,
          0,
          33,
          2,
          0,
          9,
          10,
          115,
          42,
          6,
          0,
          0,
          0,
          0,
          0,
          0,
          0,
          0,
          0,
          2,
          5,
          0,
          2,
          0,
          3,
          0,
          0,
          3,
          0,
          0,
          0,
          1,
          2,
          0,
          0,
          2,
          0,
          1,
          1,
          3,
          2,
          6,
          0,
          1,
          0,
          1,
          3,
          3,
          0,
          0,
          0,
          0,
          0,
          0,
          0,
          0,
          0,
          0,
          33,
          0,
          1,
          0,
          0,
          0,
          0,
          0,
          43,
          24,
          27,
          31,
          0,
          0,
          0,
          0,
          2,
          6,
          9,
          0,
          0,
          0,
          0,
          0,
          0,
          0,
          7,
          0,
          0,
          0,
          2,
          0,
          0,
          56,
          0,
          0,
          0,
          0,
          3,
          3,
          0,
          14,
          0,
          0,
          5,
          7,
          0,
          3,
          1,
          1,
          0,
          1,
          0,
          1,
          3,
          1,
          0,
          1,
          0,
          2,
          2,
          0,
          0,
          1,
          0,
          0,
          3,
          31,
          0,
          0,
          0,
          0,
          7,
          0,
          0,
          0,
          0,
          6,
          0,
          0,
          0,
          0,
          32,
          30,
          0,
          0,
          0,
          0,
          0,
          0,
          0,
          0,
          63,
          4,
          0,
          0,
          3,
          2,
          0,
          0,
          1,
          0,
          5,
          0,
          0,
          3,
          0,
          2,
          2,
          2,
          2,
          1,
          9,
          0,
          0,
          0,
          2,
          26,
          0,
          0,
          0,
          0,
          0,
          0,
          0,
          3,
          0,
          0,
          0,
          0,
          0,
          0,
          0,
          0,
          0,
          3,
          10,
          0,
          1,
          0,
          8,
          1,
          0,
          0,
          0,
          0,
          2,
          0,
          3,
          0,
          0,
          2,
          1,
          0,
          3,
          0,
          0,
          0,
          0,
          0,
          0,
          0,
          0,
          0,
          0,
          1,
          2,
          9,
          0,
          2,
          0,
          1,
          14,
          1,
          0,
          0,
          1,
          0,
          3,
          0,
          4,
          0,
          0,
          2,
          3,
          2,
          0,
          4,
          0,
          0,
          0,
          3,
          1,
          3,
          0,
          0,
          0,
          0,
          0,
          0,
          2,
          0,
          0,
          0,
          4,
          16,
          1,
          0,
          0,
          0,
          5,
          0,
          0,
          1,
          0,
          0,
          0,
          0,
          14,
          3,
          2,
          0,
          2,
          0,
          10,
          0,
          15,
          2,
          5,
          5,
          1,
          3,
          1,
          0,
          3,
          2,
          0,
          0,
          2,
          70,
          0,
          0,
          3,
          4,
          0,
          0,
          0,
          0,
          6,
          1,
          0,
          21,
          0,
          0,
          0,
          7,
          62,
          8,
          2,
          0,
          1,
          0,
          0,
          0,
          1,
          7,
          0,
          13,
          16,
          1,
          0,
          0,
          0,
          5,
          10,
          0,
          1,
          0,
          0,
          23,
          0,
          46,
          9,
          0,
          6,
          0,
          4,
          16,
          0,
          10,
          1,
          10,
          19,
          0,
          16,
          13,
          21,
          11,
          19,
          297,
          0,
          3,
          1,
          0,
          83,
          0,
          4,
          1,
          0,
          0,
          0,
          2,
          0,
          0,
          0,
          0,
          0,
          0,
          0,
          0,
          0,
          0,
          0,
          0,
          0,
          0,
          0,
          0,
          0,
          0,
          0,
          0,
          0,
          0,
          0,
          0,
          0,
          0,
          0,
          0,
          0,
          3,
          0,
          0,
          0,
          17,
          0,
          0,
          0,
          0,
          0,
          0,
          0,
          0,
          0,
          0,
          0,
          0,
          0,
          0,
          250,
          0,
          1,
          2,
          1,
          1,
          2,
          1,
          0,
          2,
          2,
          7,
          0,
          0,
          0,
          0,
          0,
          2,
          0,
          17,
          0,
          0,
          9,
          0,
          0,
          2,
          0,
          5,
          5,
          6,
          0,
          0,
          0,
          3,
          0,
          0,
          0,
          0,
          3,
          18,
          72,
          1,
          0,
          0,
          3,
          1,
          3,
          0,
          0,
          2,
          5,
          2,
          5,
          5,
          0,
          3,
          0,
          1,
          0,
          4,
          3,
          4,
          0,
          0,
          8,
          0,
          2,
          0,
          23,
          0,
          4,
          0,
          7,
          6,
          8,
          4,
          0,
          12,
          6,
          18,
          0,
          2,
          2,
          1,
          0,
          0,
          0,
          0,
          2,
          3,
          0,
          0,
          4,
          4,
          8,
          0,
          0,
          0,
          0,
          0,
          0,
          3,
          0,
          0,
          12,
          8,
          0,
          0,
          57,
          0,
          0,
          0,
          0,
          19,
          0,
          2,
          0,
          0,
          0,
          3,
          0,
          0,
          0,
          2,
          0,
          4,
          10,
          0,
          7,
          0,
          1,
          3,
          0,
          31,
          46,
          46,
          10,
          0,
          0,
          1,
          7,
          0,
          0,
          0,
          0,
          0,
          1,
          8,
          2,
          0,
          0,
          1,
          8,
          0,
          0,
          0,
          0,
          0,
          0,
          0,
          0,
          0,
          6,
          0,
          4,
          0,
          0,
          0,
          0,
          0,
          0,
          5,
          0,
          1,
          0,
          0,
          0,
          0,
          8,
          0,
          0,
          5,
          1,
          0,
          0,
          0,
          0,
          4,
          0,
          0,
          15,
          0,
          8,
          0,
          26,
          0,
          0,
          0,
          0,
          0,
          0,
          0,
          0,
          0,
          0,
          0,
          0,
          0,
          0,
          0,
          0,
          0,
          0,
          0,
          0,
          1,
          0,
          1,
          1,
          0,
          1,
          0,
          24,
          0,
          1,
          1,
          1,
          0,
          5,
          3,
          4,
          6,
          1,
          0,
          0,
          1,
          6,
          1,
          16,
          0,
          0,
          18,
          29,
          155,
          1,
          0,
          0,
          0,
          0,
          0,
          0,
          0,
          0,
          0,
          1,
          0,
          1,
          0,
          0,
          4,
          0,
          1,
          0,
          5,
          2,
          0,
          0,
          0,
          1,
          4,
          2,
          1,
          1,
          0,
          0,
          0,
          0,
          0,
          0,
          0,
          0,
          0,
          0,
          0,
          0,
          0,
          0,
          3,
          0,
          105,
          57,
          0,
          0,
          9,
          4,
          0,
          3,
          17,
          0,
          0,
          5,
          8,
          8,
          7,
          0,
          0,
          0,
          0,
          3,
          0,
          0,
          0,
          1,
          0,
          0,
          0,
          0,
          0,
          0,
          0,
          61,
          0,
          0,
          0,
          5,
          0,
          15,
          19,
          0,
          0,
          0,
          3,
          0,
          0,
          4,
          31,
          5,
          4,
          1,
          0,
          0,
          0,
          0,
          0,
          3,
          37,
          394,
          0,
          8,
          31,
          0,
          0,
          11,
          15,
          32,
          6,
          3,
          0,
          48,
          1,
          0,
          1,
          2,
          1,
          0,
          0,
          0,
          0,
          0,
          0,
          0,
          1,
          1,
          2,
          5,
          0,
          3,
          0,
          0,
          11,
          0,
          6,
          1,
          2,
          0,
          15,
          0,
          5,
          0,
          1,
          0,
          0,
          0,
          0,
          0,
          0,
          0,
          2,
          0,
          3,
          11,
          2,
          2,
          0,
          0,
          0,
          1,
          0,
          0,
          0,
          0,
          4,
          4,
          10,
          12,
          0,
          4,
          3,
          0,
          0,
          1,
          4,
          0,
          0,
          0,
          0,
          0,
          3,
          0,
          4,
          3,
          0,
          4,
          0,
          0,
          0,
          5,
          3,
          0,
          0,
          0,
          22,
          0,
          1,
          0,
          0,
          0,
          2,
          2,
          0,
          4,
          3,
          0,
          7,
          0,
          0,
          7,
          0,
          6,
          7,
          4,
          0,
          7,
          22,
          0,
          0,
          108,
          4,
          0,
          0,
          0,
          38,
          0,
          0,
          3,
          0,
          7,
          0,
          0,
          1,
          0,
          0,
          1,
          0,
          0,
          0,
          0,
          0,
          1,
          0,
          0,
          2,
          0,
          0,
          2,
          1,
          2,
          36,
          0,
          1,
          0,
          0,
          0,
          1,
          0,
          11,
          0,
          0,
          0,
          0,
          0,
          0,
          0,
          4,
          6,
          0,
          0,
          3,
          0,
          1,
          3,
          0,
          0,
          11,
          0,
          3,
          0,
          0,
          0,
          0,
          4,
          0,
          3,
          1,
          0,
          0,
          0,
          0,
          0,
          31,
          0,
          2,
          0,
          0,
          0,
          94,
          0,
          0,
          1,
          5,
          0,
          0,
          0,
          0,
          4,
          0,
          3,
          31,
          4,
          1,
          2,
          0,
          0,
          0,
          0,
          0,
          0,
          5,
          0,
          0,
          0,
          0,
          0,
          1,
          14,
          12,
          71,
          22,
          20,
          39,
          9,
          0,
          0,
          0,
          5,
          4,
          36,
          0,
          173,
          0,
          0,
          3,
          0,
          0,
          0,
          0,
          0,
          0,
          0,
          0,
          0,
          0,
          0,
          0,
          0,
          0,
          0,
          0,
          0,
          0,
          0,
          0,
          0,
          0,
          0,
          0,
          0,
          0,
          0,
          0,
          0,
          0,
          0,
          0,
          0,
          0,
          0,
          0,
          0,
          0,
          0,
          0,
          0,
          0,
          0,
          0,
          0,
          0,
          15,
          0,
          0,
          1,
          0,
          0,
          1,
          0,
          0,
          0,
          0,
          0,
          0,
          6,
          0,
          0,
          0,
          0,
          0,
          0,
          0,
          0,
          0,
          0,
          0,
          0,
          0,
          0,
          0,
          0
         ]
        },
        {
         "mode": "markers",
         "name": "chinese bookmarks (中国书签)",
         "type": "scatter",
         "visible": false,
         "x": [
          14.95,
          17.34,
          39.72,
          34.7,
          33.2,
          2.65,
          18.51,
          18.53,
          10,
          15.25,
          3.82,
          27.99,
          24.08,
          37.52,
          17.99,
          12.99,
          9.83,
          14.79,
          20.81,
          10,
          15.95,
          32,
          15.99,
          15.99,
          15.81,
          16.99,
          11,
          15.99,
          15.99,
          8.25,
          15.3,
          15.99,
          15.99,
          8.1,
          9.99,
          4.14,
          12.5,
          12.5,
          2,
          4.12,
          12.45,
          11.26,
          34.74,
          35,
          25.8,
          26,
          26,
          5.5,
          14,
          7.53,
          2.99,
          7.51,
          12.46,
          15,
          2.25,
          19.38,
          1.69,
          2.25,
          2.25,
          2.12,
          12.37,
          7.7,
          14.99,
          14.99,
          14.99,
          14.99,
          15.22,
          14.99,
          14.99,
          21.83,
          16,
          23.39,
          28.19,
          27.29,
          27.39,
          262.68,
          24.36,
          12.7,
          28.66,
          25.22,
          7.04,
          18,
          16.2,
          42.9
         ],
         "y": [
          14,
          80,
          3,
          0,
          0,
          0,
          5,
          2,
          0,
          2,
          2,
          0,
          2,
          9,
          2,
          0,
          0,
          4,
          0,
          0,
          0,
          0,
          0,
          0,
          0,
          25,
          2,
          0,
          1,
          2,
          0,
          0,
          0,
          26,
          0,
          0,
          40,
          0,
          11,
          82,
          0,
          3,
          0,
          0,
          0,
          0,
          0,
          4,
          14,
          6,
          4,
          3,
          0,
          0,
          0,
          0,
          1,
          3,
          51,
          0,
          25,
          4,
          4,
          2,
          7,
          4,
          0,
          3,
          0,
          0,
          0,
          0,
          0,
          0,
          9,
          9,
          20,
          12,
          9,
          24,
          47,
          74,
          5,
          0
         ]
        },
        {
         "mode": "markers",
         "name": "name seals (印章)",
         "type": "scatter",
         "visible": false,
         "x": [
          23.99,
          20,
          49.99,
          23.99,
          25,
          45.99,
          39.99,
          52,
          25.11,
          56.41,
          46,
          48.75,
          39.51,
          46.99,
          36.99,
          26.99,
          35.99,
          30,
          107.99,
          34.99,
          44.99,
          145,
          50,
          24.78,
          27.99,
          95,
          30,
          54.99,
          24.99,
          25,
          30,
          31.03,
          27.95,
          33.99,
          56.95,
          29.99,
          45,
          45,
          38.25,
          60,
          99,
          55,
          17.99,
          26.25,
          20.21,
          29.99,
          50,
          30,
          34.95,
          27.99,
          3,
          44.27,
          145,
          145,
          20.59,
          43.5,
          36,
          40,
          28,
          30,
          99,
          19.57,
          25,
          9.66,
          28.95,
          37.99,
          5.68,
          190,
          45,
          50,
          36.79,
          95,
          39.99,
          9,
          85,
          29.9,
          35.99,
          103,
          29.99,
          43,
          5.65,
          35.1,
          95,
          30.95,
          25.99,
          28,
          120,
          13,
          12,
          29.99,
          30,
          14,
          29.99,
          13.59,
          10.39,
          47,
          28,
          30,
          36,
          30,
          190,
          35.1,
          62.91,
          45,
          32.99,
          50,
          24,
          29,
          30,
          32.31,
          55.99,
          33.94,
          39.75,
          42.99,
          45,
          64,
          32,
          29.99,
          19,
          13.62,
          45,
          27.99,
          50,
          145,
          2,
          5.5,
          50,
          29,
          50,
          77,
          10.47,
          5.68,
          182.4,
          20,
          10,
          17,
          9.99,
          29.99,
          27.16,
          17,
          32.95,
          27.95,
          23.99,
          22.5,
          36.99,
          480,
          30,
          30,
          34.99,
          32,
          45,
          30,
          65,
          9,
          53.25,
          30,
          37.84,
          59.99,
          14.36,
          44,
          25,
          21.83,
          27.99,
          0.75,
          24,
          30,
          47.3,
          19.98,
          9.99,
          24.36,
          60,
          130,
          65,
          8.05,
          55.5,
          25.99,
          21.99,
          29.99,
          28.99,
          82.05,
          24.99,
          29,
          73.99,
          37.57,
          50.28,
          23.99,
          34.65,
          79.98,
          36.95,
          41.4,
          79.9,
          13.99,
          37.99,
          25.99,
          26.99,
          35.99,
          20.99,
          23,
          29.95,
          27.95,
          30.95,
          17.99,
          26.99,
          19.99,
          21.99,
          29.99,
          41.45,
          28.95,
          42.77,
          23.17,
          59.9,
          37.02,
          32.99,
          65.99,
          26.95,
          22.99,
          18.99,
          25.95,
          30.95,
          34.99,
          26.95,
          35.99,
          23.99,
          21.99,
          28.99,
          16.99,
          28.18,
          65.9,
          29.95,
          25.99,
          32.95,
          15.99,
          22.99,
          44.26,
          49.4,
          43.4,
          39.99,
          41.39,
          28.31,
          36.23,
          31.45,
          30.6,
          65.8,
          37.99,
          34.95,
          31.95,
          33.99,
          24.75,
          59.9,
          77,
          16.99,
          29.95,
          34.95,
          76.23,
          25.95,
          55.95,
          25.95,
          37.95,
          29.5,
          57.02,
          34.99,
          26.95,
          26.99,
          26.99,
          32.47,
          38.61,
          57.95,
          62.18,
          264.73,
          34.99,
          49.99,
          24.99,
          58,
          33.95,
          13.99,
          33.99,
          31.79,
          34.95,
          139.8,
          57.97,
          22.99,
          95.22,
          40.98,
          104.2,
          32,
          111.09,
          29.06,
          35.99,
          25.34,
          18.99,
          11.24,
          28.99,
          27.95,
          20.99,
          32.99,
          38.6,
          29.99,
          23.17,
          49.99,
          34.55,
          34.26,
          79.99,
          28.95,
          21.99,
          49,
          56.43,
          37.99,
          59.9,
          39.99,
          25.99,
          25.95,
          69.1,
          12.99,
          20.99,
          16.88,
          62.95,
          34.55,
          38.95,
          30.95,
          25.99,
          22.99,
          187.11,
          21.99,
          31.99,
          24.95,
          32.99,
          62.9,
          62.9,
          11.24,
          18.99,
          40.95,
          69.9,
          28.95,
          45.95,
          32.67,
          45.99,
          18.89,
          28.99,
          34.99,
          28.99,
          24.99,
          23.99,
          21.99,
          33.99,
          31.99,
          40.99,
          33.99,
          24,
          40,
          46.99,
          50,
          29.99,
          38.99,
          41.99,
          35.99,
          75,
          37.99,
          14,
          26.99,
          35.99,
          45.99,
          45,
          40,
          33.99,
          30,
          40.25,
          25.99,
          29.99,
          39.99,
          30.48,
          28.99,
          42.99,
          25.99,
          35.99,
          32.99,
          49.99,
          33.42,
          69.99,
          40.99,
          23.99,
          35.99,
          35.99,
          55.99,
          119.99,
          33.99,
          34.99,
          35,
          38.99,
          26.99,
          46.99,
          32.99,
          24.99,
          25.99,
          20.99,
          53.99,
          33.99,
          28.99,
          26.99,
          12.99,
          34.99,
          27.95,
          39.99,
          37.99,
          31.99,
          25.99,
          36.99,
          25.99,
          29.99,
          30,
          36.99,
          42.99,
          29.99,
          29.99,
          49.99,
          30,
          38.99,
          23.99,
          29.99,
          22.99,
          23.99,
          29.99,
          46.99,
          69.99,
          19.99,
          35.98,
          22.99,
          49.99,
          20.99,
          19.99,
          29.93,
          89.99,
          39.99,
          59.99,
          49.99,
          21.99,
          25.99,
          37.99,
          41.95,
          33.99,
          33.99,
          25.99,
          148.72,
          29.99,
          27.99,
          37.99,
          9,
          30,
          39.95,
          29.99,
          30.99,
          49.6,
          28.99,
          33.99,
          37.99,
          54.99,
          26.99,
          22.99,
          28.99,
          32.99,
          26.99,
          26.99,
          51.99,
          34.99,
          33.99,
          144.99,
          45.95,
          43.99,
          49.99,
          25.99,
          51.99,
          25.95,
          61.3,
          23.99,
          38.99,
          19.98,
          26.99,
          29.95,
          36.38,
          20.99,
          47.99,
          25.99,
          43.99,
          37.99,
          26.99,
          85.49,
          53.19,
          20.99,
          28.99,
          109.99,
          69.99,
          53.99,
          49.99,
          22.99,
          27.99,
          45.99,
          24.99,
          17.99,
          29.99,
          28.99,
          36.99,
          24.99,
          29.99,
          29.99,
          26,
          33.99,
          62,
          39.99,
          39.93,
          27.99,
          69.98,
          37.99,
          29.99,
          52.39,
          35,
          37.99,
          31.99,
          27.99,
          29.99,
          16.99,
          23.99,
          42.99,
          25.99,
          35.99,
          41.99,
          25.99,
          29.44,
          8,
          27.99,
          35.95,
          16.48,
          30.99,
          24.99,
          1200,
          36,
          22.99,
          34.99,
          25.99,
          24.99,
          29.99,
          24.99,
          27.99,
          31.99,
          50.89,
          43.99,
          79.99,
          49.99,
          26.99,
          29.99,
          29.99,
          28.99,
          29.99,
          69.95,
          42.99,
          39.99,
          27.99,
          22.99,
          39.99,
          27.95,
          37.99,
          33.99,
          16.99,
          43.99,
          27.99,
          18.99,
          25.99,
          24.99,
          15000,
          34.99,
          18.99,
          39.99,
          26.99,
          33.99,
          24.99,
          38.99,
          63.99,
          39.99,
          22.99,
          19.99,
          24.99,
          24.99,
          36.99,
          52.39,
          32.99,
          26.99,
          34.99,
          45.99,
          22.99,
          35.99,
          33.99,
          23.99,
          37.99,
          29.99,
          30,
          41.99,
          27.99,
          34.99,
          46.99,
          69.99,
          35.99,
          38.99,
          29.99,
          4873.85,
          30,
          43.99,
          37.99,
          34.99,
          31.99,
          24.99,
          33.99,
          26.99,
          35.99,
          25.99,
          24.99,
          22.99,
          24.99,
          25.99,
          42.99,
          32.99,
          34.99,
          28.99,
          54.99,
          99.99,
          22.99,
          26.99,
          35.99,
          31.99,
          38.99,
          30,
          35.99,
          27.99,
          30.99,
          17.99,
          28.99,
          13.99,
          27.99,
          28.99,
          30.99,
          30.99,
          30,
          29.99,
          28.99,
          68.99,
          28.99,
          30.99,
          27.99,
          44.99,
          24.99,
          34.99,
          88.99,
          40.99,
          25.99,
          35.99,
          53.99,
          37.99,
          38,
          47.99,
          25.99,
          36.99,
          66.99,
          35.99,
          32.99,
          27.99,
          36.99,
          23.99,
          27.99,
          22.99,
          51,
          27.99,
          98.4,
          45.99,
          28.99,
          230.13,
          56.99,
          135,
          28.99,
          78.98,
          42.99,
          32.99,
          28.99,
          26.99,
          26.99,
          28.99,
          31.99,
          16.99,
          25.99,
          28.99,
          27.99,
          23.99,
          55.99,
          33.99,
          34.99,
          22.99,
          72.99,
          40,
          29.99,
          29.99,
          26.99,
          28.99,
          39.99,
          29.99,
          25.99,
          48.99,
          25.49,
          16.48,
          24.99,
          48.99,
          290,
          32.99,
          17.98,
          45.99,
          38.69,
          23.99,
          17.99,
          29.99,
          39.99,
          33.99,
          23.99,
          37.99,
          31.99,
          18.99,
          35.99,
          79.99,
          27.95,
          58.99,
          30,
          26.99,
          22.99,
          31.99,
          31.95,
          40.99,
          23.99,
          29.99,
          35,
          35.99,
          74.99,
          24.99,
          8.5,
          29.99,
          84,
          24.99,
          36.99,
          35.99,
          23.99,
          22.99,
          24.99,
          30.99,
          25.99,
          35.99,
          49.99,
          27.99,
          37.99,
          24.99,
          26.99,
          29.99,
          53.99,
          24.99,
          36.99,
          22.99,
          25.99,
          14.99,
          39.99,
          19.99,
          23.99,
          25.99,
          32.99,
          60.99,
          29.99,
          27.99,
          28.99,
          25.99,
          27.99,
          29.99,
          25.99,
          46.99,
          224.99,
          28.99,
          28.99,
          35.99,
          39.99,
          24.99,
          26.99,
          27.99,
          25.95,
          24.99,
          25.99,
          54.95,
          25.99,
          40.99,
          29.99,
          24.99,
          21.99,
          37.99,
          20.99,
          35.99,
          28.99,
          2.5,
          23.99,
          23.99,
          21.99,
          35,
          25.99,
          28.99,
          31.99,
          30.75,
          29.99,
          22.99,
          26.99,
          24.99,
          29.99,
          30.99,
          29.99,
          29.99,
          31.99,
          25.99,
          27.99,
          24.99,
          33.99,
          29.99,
          33.99,
          28.99,
          23.99,
          27.99,
          36.95,
          31.99,
          48.99,
          38.99,
          32.99,
          27.99,
          28.99,
          41.99,
          48.99,
          28.99,
          22.99,
          40,
          26.99,
          131.91,
          33.99,
          42.98,
          25.99,
          22.99,
          19800,
          16,
          60.99,
          22.99,
          33.99,
          37.95,
          25.99,
          53.99,
          29.99,
          21.99,
          32.99,
          23.24,
          41.99,
          46.99,
          53.94,
          34.99,
          35.99,
          24.99,
          35,
          25.99,
          60.99,
          21.99,
          29.99,
          27.99,
          35.99,
          23.99,
          38.99,
          29.99,
          30.99,
          25.99,
          46.99,
          28.99,
          39.99,
          24.99,
          55.99,
          26.95,
          39.99,
          36.99,
          31.99,
          28.99,
          340,
          23.99,
          21.74,
          34.99,
          12.95,
          175,
          32.99,
          32,
          40,
          422.55,
          39.95,
          28.88,
          45.95,
          29.99,
          19.99,
          85,
          36.95,
          45,
          32.39,
          39.95,
          79,
          389.29,
          119.69,
          33,
          35,
          65.99,
          25.88,
          39.95,
          74.94,
          45,
          38.28,
          42.95,
          28,
          55,
          24.99,
          69.55,
          30,
          19,
          24.99,
          30.59,
          25.99,
          38,
          40,
          25.95,
          25.95,
          47.95,
          11.95,
          38.7,
          33.99,
          35.95,
          98.79,
          17.95,
          14.99,
          24,
          45.99,
          40,
          27.99,
          39.56,
          74.99,
          35,
          25.88,
          111.5,
          57,
          20.99,
          53.99,
          29.95,
          28,
          28.95,
          49.99,
          30,
          35.95,
          26.88,
          24.99,
          28.95,
          30,
          40,
          32,
          66.88,
          29.95,
          59.99,
          9.99,
          171.73,
          26.88,
          12.95,
          24.88,
          9.42,
          38,
          52.39,
          39.95,
          39.99,
          35.95,
          35.99,
          26.88,
          39.95,
          44,
          30,
          49.99,
          38,
          49.99,
          27.95,
          13.95,
          12.95,
          40,
          59.96,
          300,
          39.99,
          33.99,
          59.99,
          38,
          25.99,
          19.99,
          24.99,
          135,
          36.99,
          39,
          42.88,
          59.99,
          24.99,
          26.88,
          26.5,
          24.88,
          32.88,
          35.01,
          29.99,
          39.95,
          23.85,
          190,
          6,
          6,
          42.4,
          30.08,
          6.58,
          7,
          81,
          26.99,
          19.99,
          6901.3,
          308.27,
          38,
          197.5,
          8000,
          19.99,
          63.27,
          9,
          45.99,
          53.21,
          25.95
         ],
         "y": [
          1350,
          162,
          50,
          182,
          260,
          30,
          22,
          0,
          0,
          0,
          1,
          0,
          0,
          2,
          3,
          4,
          0,
          0,
          0,
          47,
          3,
          0,
          0,
          0,
          24,
          0,
          1,
          5,
          11,
          0,
          1,
          0,
          156,
          22,
          14,
          0,
          23,
          0,
          0,
          49,
          0,
          0,
          5,
          19,
          1,
          0,
          1,
          0,
          42,
          47,
          22,
          3,
          1,
          2,
          81,
          140,
          0,
          1,
          2,
          1,
          0,
          6,
          0,
          1,
          78,
          56,
          0,
          0,
          23,
          26,
          1,
          0,
          35,
          0,
          0,
          2,
          0,
          8,
          17,
          0,
          43,
          0,
          3,
          9,
          162,
          0,
          0,
          0,
          0,
          7,
          0,
          0,
          0,
          0,
          6,
          7,
          0,
          0,
          0,
          1,
          0,
          3,
          2,
          26,
          2,
          0,
          0,
          1,
          0,
          26,
          15,
          0,
          0,
          53,
          0,
          10,
          0,
          143,
          0,
          0,
          1,
          23,
          23,
          0,
          29,
          34,
          23,
          5,
          0,
          0,
          0,
          0,
          0,
          120,
          6,
          6,
          90,
          22,
          1,
          24,
          52,
          101,
          71,
          194,
          0,
          0,
          40,
          0,
          21,
          0,
          0,
          0,
          0,
          0,
          0,
          0,
          0,
          0,
          0,
          0,
          0,
          0,
          0,
          0,
          0,
          0,
          0,
          7,
          0,
          86,
          0,
          0,
          0,
          0,
          0,
          50,
          9,
          5,
          2,
          4,
          9,
          9,
          14,
          22,
          17,
          7,
          7,
          0,
          5,
          10,
          0,
          2,
          2,
          5,
          1,
          14,
          0,
          6,
          105,
          399,
          73,
          100,
          0,
          17,
          9,
          14,
          14,
          5,
          65,
          17,
          0,
          16,
          4,
          8,
          0,
          46,
          40,
          24,
          0,
          1,
          37,
          0,
          1,
          10,
          86,
          41,
          0,
          0,
          2,
          1,
          7,
          7,
          1,
          8,
          12,
          18,
          2,
          1,
          8,
          17,
          17,
          38,
          0,
          2,
          6,
          6,
          0,
          7,
          0,
          6,
          0,
          2,
          10,
          25,
          93,
          0,
          0,
          11,
          20,
          21,
          234,
          46,
          5,
          11,
          14,
          47,
          11,
          12,
          4,
          1,
          16,
          0,
          3,
          5,
          5,
          2,
          1,
          0,
          0,
          2,
          1,
          9,
          5,
          6,
          0,
          16,
          0,
          10,
          1,
          0,
          0,
          103,
          63,
          14,
          0,
          0,
          1,
          10,
          0,
          59,
          97,
          2,
          3,
          16,
          6,
          0,
          47,
          0,
          0,
          10,
          15,
          0,
          0,
          4,
          55,
          42,
          10,
          5,
          65,
          0,
          1,
          16,
          10,
          1,
          6,
          4,
          0,
          0,
          0,
          0,
          0,
          0,
          0,
          13,
          0,
          22,
          78,
          13,
          2,
          2,
          0,
          1,
          4,
          0,
          1,
          1,
          3,
          0,
          0,
          0,
          0,
          0,
          0,
          0,
          2,
          4,
          31,
          1,
          9,
          0,
          0,
          0,
          0,
          1,
          0,
          0,
          55,
          10,
          14,
          0,
          0,
          0,
          33,
          17,
          0,
          0,
          4,
          11,
          0,
          9,
          20,
          2,
          0,
          0,
          4,
          0,
          0,
          0,
          0,
          0,
          0,
          0,
          1,
          0,
          0,
          0,
          1,
          3,
          5,
          2,
          2,
          0,
          1,
          1,
          0,
          3,
          0,
          0,
          0,
          0,
          0,
          1,
          0,
          0,
          2,
          0,
          33,
          4,
          12,
          0,
          0,
          1,
          11,
          33,
          0,
          0,
          2,
          0,
          35,
          0,
          2,
          0,
          17,
          2,
          0,
          28,
          37,
          6,
          1,
          0,
          0,
          0,
          2,
          1,
          0,
          1,
          0,
          4,
          1,
          0,
          3,
          0,
          4,
          0,
          0,
          0,
          0,
          2,
          1,
          1,
          0,
          0,
          1,
          5,
          0,
          3,
          1,
          0,
          2,
          0,
          5,
          2,
          3,
          1,
          3,
          1,
          7,
          0,
          38,
          0,
          6,
          5,
          0,
          2,
          17,
          9,
          39,
          14,
          2,
          28,
          28,
          0,
          15,
          15,
          16,
          15,
          30,
          142,
          3,
          61,
          0,
          0,
          0,
          0,
          0,
          0,
          0,
          0,
          0,
          9,
          96,
          30,
          17,
          0,
          1,
          1,
          1,
          4,
          1,
          113,
          0,
          6,
          2,
          0,
          5,
          14,
          34,
          6,
          12,
          31,
          2,
          1,
          0,
          0,
          5,
          2,
          4,
          5,
          0,
          3,
          2,
          4,
          24,
          0,
          0,
          3,
          5,
          4,
          2,
          4,
          0,
          10,
          0,
          0,
          1,
          7,
          0,
          3,
          2,
          0,
          7,
          1,
          0,
          9,
          0,
          40,
          0,
          3,
          2,
          9,
          3,
          16,
          11,
          0,
          0,
          0,
          0,
          0,
          20,
          5,
          1,
          0,
          2,
          14,
          0,
          0,
          2,
          1,
          1,
          0,
          0,
          5,
          0,
          1,
          0,
          0,
          0,
          0,
          0,
          0,
          0,
          0,
          1,
          0,
          0,
          0,
          1,
          30,
          37,
          53,
          9,
          17,
          0,
          60,
          194,
          207,
          6,
          0,
          1,
          1,
          0,
          2,
          5,
          0,
          1,
          0,
          5,
          0,
          4,
          4,
          0,
          20,
          0,
          25,
          6,
          0,
          1,
          1,
          0,
          0,
          34,
          1,
          0,
          1,
          1,
          0,
          1,
          0,
          1,
          0,
          0,
          8,
          0,
          7,
          7,
          0,
          33,
          1,
          0,
          0,
          2,
          15,
          8,
          6,
          58,
          0,
          21,
          1,
          0,
          0,
          10,
          0,
          0,
          3,
          0,
          3,
          0,
          0,
          1,
          2,
          3,
          0,
          1,
          25,
          6,
          6,
          6,
          2,
          0,
          0,
          11,
          35,
          0,
          0,
          8,
          6,
          7,
          0,
          1,
          0,
          5,
          0,
          0,
          1,
          5,
          0,
          0,
          0,
          1,
          2,
          6,
          6,
          2,
          0,
          3,
          0,
          6,
          3,
          1,
          15,
          0,
          2,
          2,
          0,
          0,
          1,
          7,
          1,
          8,
          13,
          0,
          1,
          3,
          30,
          14,
          9,
          0,
          0,
          2,
          0,
          1,
          1,
          2,
          35,
          0,
          0,
          1,
          1,
          4,
          0,
          0,
          0,
          0,
          7,
          0,
          2,
          11,
          0,
          1,
          5,
          0,
          0,
          1,
          5,
          0,
          0,
          0,
          0,
          0,
          14,
          0,
          9,
          35,
          0,
          0,
          7,
          25,
          84,
          0,
          0,
          6,
          16,
          7,
          39,
          0,
          37,
          75,
          0,
          3,
          14,
          31,
          9,
          9,
          0,
          0,
          0,
          5,
          2,
          4,
          0,
          10,
          0,
          0,
          0,
          2,
          271,
          1,
          1,
          3,
          0,
          0,
          3,
          1,
          9,
          118,
          11,
          14,
          5,
          1,
          10,
          3,
          4,
          8,
          0,
          0,
          0,
          14,
          6,
          6,
          0,
          0,
          5,
          0,
          0,
          0,
          0,
          0,
          7,
          25,
          9,
          2,
          0,
          0,
          1,
          0,
          7,
          0,
          0,
          1,
          20,
          0,
          1,
          0,
          0,
          1,
          0,
          8,
          15,
          0,
          0,
          0,
          0,
          201,
          1,
          2,
          0,
          0,
          0,
          0,
          6,
          0,
          0,
          0,
          1,
          0,
          6,
          0,
          0,
          0,
          1,
          0,
          6,
          5,
          0,
          31,
          90,
          8,
          0,
          0,
          0,
          4,
          8,
          5,
          18,
          12,
          0,
          3,
          0,
          0,
          8,
          1,
          0,
          1,
          0,
          0,
          5,
          4,
          4,
          104,
          0,
          0,
          17,
          8,
          7,
          4,
          0,
          0,
          2,
          7,
          42,
          50,
          1,
          0,
          89,
          16,
          6,
          185,
          2,
          6,
          0,
          12,
          40,
          4,
          7,
          13,
          0,
          5,
          0,
          0,
          0,
          1,
          0,
          13,
          36,
          0,
          51,
          8,
          7,
          2,
          0,
          3,
          5,
          4,
          9,
          0,
          4,
          0,
          0,
          0,
          9,
          0,
          0,
          2,
          42,
          12,
          0,
          0,
          4,
          2,
          6,
          0,
          6,
          34,
          13,
          0,
          0,
          2,
          2,
          0,
          0,
          26,
          12,
          0,
          0,
          10,
          1,
          1,
          13,
          1,
          0,
          25,
          6,
          17,
          33,
          8,
          9,
          16,
          10,
          6,
          6,
          5,
          3,
          108,
          26,
          21,
          0,
          0,
          7,
          4,
          3,
          27,
          6,
          1,
          0,
          0,
          0,
          0,
          5,
          0,
          0,
          0,
          0,
          3,
          0,
          16,
          0,
          0
         ]
        }
       ],
       "layout": {
        "template": {
         "data": {
          "bar": [
           {
            "error_x": {
             "color": "rgb(36,36,36)"
            },
            "error_y": {
             "color": "rgb(36,36,36)"
            },
            "marker": {
             "line": {
              "color": "white",
              "width": 0.5
             },
             "pattern": {
              "fillmode": "overlay",
              "size": 10,
              "solidity": 0.2
             }
            },
            "type": "bar"
           }
          ],
          "barpolar": [
           {
            "marker": {
             "line": {
              "color": "white",
              "width": 0.5
             },
             "pattern": {
              "fillmode": "overlay",
              "size": 10,
              "solidity": 0.2
             }
            },
            "type": "barpolar"
           }
          ],
          "carpet": [
           {
            "aaxis": {
             "endlinecolor": "rgb(36,36,36)",
             "gridcolor": "white",
             "linecolor": "white",
             "minorgridcolor": "white",
             "startlinecolor": "rgb(36,36,36)"
            },
            "baxis": {
             "endlinecolor": "rgb(36,36,36)",
             "gridcolor": "white",
             "linecolor": "white",
             "minorgridcolor": "white",
             "startlinecolor": "rgb(36,36,36)"
            },
            "type": "carpet"
           }
          ],
          "choropleth": [
           {
            "colorbar": {
             "outlinewidth": 1,
             "tickcolor": "rgb(36,36,36)",
             "ticks": "outside"
            },
            "type": "choropleth"
           }
          ],
          "contour": [
           {
            "colorbar": {
             "outlinewidth": 1,
             "tickcolor": "rgb(36,36,36)",
             "ticks": "outside"
            },
            "colorscale": [
             [
              0,
              "#440154"
             ],
             [
              0.1111111111111111,
              "#482878"
             ],
             [
              0.2222222222222222,
              "#3e4989"
             ],
             [
              0.3333333333333333,
              "#31688e"
             ],
             [
              0.4444444444444444,
              "#26828e"
             ],
             [
              0.5555555555555556,
              "#1f9e89"
             ],
             [
              0.6666666666666666,
              "#35b779"
             ],
             [
              0.7777777777777778,
              "#6ece58"
             ],
             [
              0.8888888888888888,
              "#b5de2b"
             ],
             [
              1,
              "#fde725"
             ]
            ],
            "type": "contour"
           }
          ],
          "contourcarpet": [
           {
            "colorbar": {
             "outlinewidth": 1,
             "tickcolor": "rgb(36,36,36)",
             "ticks": "outside"
            },
            "type": "contourcarpet"
           }
          ],
          "heatmap": [
           {
            "colorbar": {
             "outlinewidth": 1,
             "tickcolor": "rgb(36,36,36)",
             "ticks": "outside"
            },
            "colorscale": [
             [
              0,
              "#440154"
             ],
             [
              0.1111111111111111,
              "#482878"
             ],
             [
              0.2222222222222222,
              "#3e4989"
             ],
             [
              0.3333333333333333,
              "#31688e"
             ],
             [
              0.4444444444444444,
              "#26828e"
             ],
             [
              0.5555555555555556,
              "#1f9e89"
             ],
             [
              0.6666666666666666,
              "#35b779"
             ],
             [
              0.7777777777777778,
              "#6ece58"
             ],
             [
              0.8888888888888888,
              "#b5de2b"
             ],
             [
              1,
              "#fde725"
             ]
            ],
            "type": "heatmap"
           }
          ],
          "heatmapgl": [
           {
            "colorbar": {
             "outlinewidth": 1,
             "tickcolor": "rgb(36,36,36)",
             "ticks": "outside"
            },
            "colorscale": [
             [
              0,
              "#440154"
             ],
             [
              0.1111111111111111,
              "#482878"
             ],
             [
              0.2222222222222222,
              "#3e4989"
             ],
             [
              0.3333333333333333,
              "#31688e"
             ],
             [
              0.4444444444444444,
              "#26828e"
             ],
             [
              0.5555555555555556,
              "#1f9e89"
             ],
             [
              0.6666666666666666,
              "#35b779"
             ],
             [
              0.7777777777777778,
              "#6ece58"
             ],
             [
              0.8888888888888888,
              "#b5de2b"
             ],
             [
              1,
              "#fde725"
             ]
            ],
            "type": "heatmapgl"
           }
          ],
          "histogram": [
           {
            "marker": {
             "line": {
              "color": "white",
              "width": 0.6
             }
            },
            "type": "histogram"
           }
          ],
          "histogram2d": [
           {
            "colorbar": {
             "outlinewidth": 1,
             "tickcolor": "rgb(36,36,36)",
             "ticks": "outside"
            },
            "colorscale": [
             [
              0,
              "#440154"
             ],
             [
              0.1111111111111111,
              "#482878"
             ],
             [
              0.2222222222222222,
              "#3e4989"
             ],
             [
              0.3333333333333333,
              "#31688e"
             ],
             [
              0.4444444444444444,
              "#26828e"
             ],
             [
              0.5555555555555556,
              "#1f9e89"
             ],
             [
              0.6666666666666666,
              "#35b779"
             ],
             [
              0.7777777777777778,
              "#6ece58"
             ],
             [
              0.8888888888888888,
              "#b5de2b"
             ],
             [
              1,
              "#fde725"
             ]
            ],
            "type": "histogram2d"
           }
          ],
          "histogram2dcontour": [
           {
            "colorbar": {
             "outlinewidth": 1,
             "tickcolor": "rgb(36,36,36)",
             "ticks": "outside"
            },
            "colorscale": [
             [
              0,
              "#440154"
             ],
             [
              0.1111111111111111,
              "#482878"
             ],
             [
              0.2222222222222222,
              "#3e4989"
             ],
             [
              0.3333333333333333,
              "#31688e"
             ],
             [
              0.4444444444444444,
              "#26828e"
             ],
             [
              0.5555555555555556,
              "#1f9e89"
             ],
             [
              0.6666666666666666,
              "#35b779"
             ],
             [
              0.7777777777777778,
              "#6ece58"
             ],
             [
              0.8888888888888888,
              "#b5de2b"
             ],
             [
              1,
              "#fde725"
             ]
            ],
            "type": "histogram2dcontour"
           }
          ],
          "mesh3d": [
           {
            "colorbar": {
             "outlinewidth": 1,
             "tickcolor": "rgb(36,36,36)",
             "ticks": "outside"
            },
            "type": "mesh3d"
           }
          ],
          "parcoords": [
           {
            "line": {
             "colorbar": {
              "outlinewidth": 1,
              "tickcolor": "rgb(36,36,36)",
              "ticks": "outside"
             }
            },
            "type": "parcoords"
           }
          ],
          "pie": [
           {
            "automargin": true,
            "type": "pie"
           }
          ],
          "scatter": [
           {
            "fillpattern": {
             "fillmode": "overlay",
             "size": 10,
             "solidity": 0.2
            },
            "type": "scatter"
           }
          ],
          "scatter3d": [
           {
            "line": {
             "colorbar": {
              "outlinewidth": 1,
              "tickcolor": "rgb(36,36,36)",
              "ticks": "outside"
             }
            },
            "marker": {
             "colorbar": {
              "outlinewidth": 1,
              "tickcolor": "rgb(36,36,36)",
              "ticks": "outside"
             }
            },
            "type": "scatter3d"
           }
          ],
          "scattercarpet": [
           {
            "marker": {
             "colorbar": {
              "outlinewidth": 1,
              "tickcolor": "rgb(36,36,36)",
              "ticks": "outside"
             }
            },
            "type": "scattercarpet"
           }
          ],
          "scattergeo": [
           {
            "marker": {
             "colorbar": {
              "outlinewidth": 1,
              "tickcolor": "rgb(36,36,36)",
              "ticks": "outside"
             }
            },
            "type": "scattergeo"
           }
          ],
          "scattergl": [
           {
            "marker": {
             "colorbar": {
              "outlinewidth": 1,
              "tickcolor": "rgb(36,36,36)",
              "ticks": "outside"
             }
            },
            "type": "scattergl"
           }
          ],
          "scattermapbox": [
           {
            "marker": {
             "colorbar": {
              "outlinewidth": 1,
              "tickcolor": "rgb(36,36,36)",
              "ticks": "outside"
             }
            },
            "type": "scattermapbox"
           }
          ],
          "scatterpolar": [
           {
            "marker": {
             "colorbar": {
              "outlinewidth": 1,
              "tickcolor": "rgb(36,36,36)",
              "ticks": "outside"
             }
            },
            "type": "scatterpolar"
           }
          ],
          "scatterpolargl": [
           {
            "marker": {
             "colorbar": {
              "outlinewidth": 1,
              "tickcolor": "rgb(36,36,36)",
              "ticks": "outside"
             }
            },
            "type": "scatterpolargl"
           }
          ],
          "scatterternary": [
           {
            "marker": {
             "colorbar": {
              "outlinewidth": 1,
              "tickcolor": "rgb(36,36,36)",
              "ticks": "outside"
             }
            },
            "type": "scatterternary"
           }
          ],
          "surface": [
           {
            "colorbar": {
             "outlinewidth": 1,
             "tickcolor": "rgb(36,36,36)",
             "ticks": "outside"
            },
            "colorscale": [
             [
              0,
              "#440154"
             ],
             [
              0.1111111111111111,
              "#482878"
             ],
             [
              0.2222222222222222,
              "#3e4989"
             ],
             [
              0.3333333333333333,
              "#31688e"
             ],
             [
              0.4444444444444444,
              "#26828e"
             ],
             [
              0.5555555555555556,
              "#1f9e89"
             ],
             [
              0.6666666666666666,
              "#35b779"
             ],
             [
              0.7777777777777778,
              "#6ece58"
             ],
             [
              0.8888888888888888,
              "#b5de2b"
             ],
             [
              1,
              "#fde725"
             ]
            ],
            "type": "surface"
           }
          ],
          "table": [
           {
            "cells": {
             "fill": {
              "color": "rgb(237,237,237)"
             },
             "line": {
              "color": "white"
             }
            },
            "header": {
             "fill": {
              "color": "rgb(217,217,217)"
             },
             "line": {
              "color": "white"
             }
            },
            "type": "table"
           }
          ]
         },
         "layout": {
          "annotationdefaults": {
           "arrowhead": 0,
           "arrowwidth": 1
          },
          "autotypenumbers": "strict",
          "coloraxis": {
           "colorbar": {
            "outlinewidth": 1,
            "tickcolor": "rgb(36,36,36)",
            "ticks": "outside"
           }
          },
          "colorscale": {
           "diverging": [
            [
             0,
             "rgb(103,0,31)"
            ],
            [
             0.1,
             "rgb(178,24,43)"
            ],
            [
             0.2,
             "rgb(214,96,77)"
            ],
            [
             0.3,
             "rgb(244,165,130)"
            ],
            [
             0.4,
             "rgb(253,219,199)"
            ],
            [
             0.5,
             "rgb(247,247,247)"
            ],
            [
             0.6,
             "rgb(209,229,240)"
            ],
            [
             0.7,
             "rgb(146,197,222)"
            ],
            [
             0.8,
             "rgb(67,147,195)"
            ],
            [
             0.9,
             "rgb(33,102,172)"
            ],
            [
             1,
             "rgb(5,48,97)"
            ]
           ],
           "sequential": [
            [
             0,
             "#440154"
            ],
            [
             0.1111111111111111,
             "#482878"
            ],
            [
             0.2222222222222222,
             "#3e4989"
            ],
            [
             0.3333333333333333,
             "#31688e"
            ],
            [
             0.4444444444444444,
             "#26828e"
            ],
            [
             0.5555555555555556,
             "#1f9e89"
            ],
            [
             0.6666666666666666,
             "#35b779"
            ],
            [
             0.7777777777777778,
             "#6ece58"
            ],
            [
             0.8888888888888888,
             "#b5de2b"
            ],
            [
             1,
             "#fde725"
            ]
           ],
           "sequentialminus": [
            [
             0,
             "#440154"
            ],
            [
             0.1111111111111111,
             "#482878"
            ],
            [
             0.2222222222222222,
             "#3e4989"
            ],
            [
             0.3333333333333333,
             "#31688e"
            ],
            [
             0.4444444444444444,
             "#26828e"
            ],
            [
             0.5555555555555556,
             "#1f9e89"
            ],
            [
             0.6666666666666666,
             "#35b779"
            ],
            [
             0.7777777777777778,
             "#6ece58"
            ],
            [
             0.8888888888888888,
             "#b5de2b"
            ],
            [
             1,
             "#fde725"
            ]
           ]
          },
          "colorway": [
           "#1F77B4",
           "#FF7F0E",
           "#2CA02C",
           "#D62728",
           "#9467BD",
           "#8C564B",
           "#E377C2",
           "#7F7F7F",
           "#BCBD22",
           "#17BECF"
          ],
          "font": {
           "color": "rgb(36,36,36)"
          },
          "geo": {
           "bgcolor": "white",
           "lakecolor": "white",
           "landcolor": "white",
           "showlakes": true,
           "showland": true,
           "subunitcolor": "white"
          },
          "hoverlabel": {
           "align": "left"
          },
          "hovermode": "closest",
          "mapbox": {
           "style": "light"
          },
          "paper_bgcolor": "white",
          "plot_bgcolor": "white",
          "polar": {
           "angularaxis": {
            "gridcolor": "rgb(232,232,232)",
            "linecolor": "rgb(36,36,36)",
            "showgrid": false,
            "showline": true,
            "ticks": "outside"
           },
           "bgcolor": "white",
           "radialaxis": {
            "gridcolor": "rgb(232,232,232)",
            "linecolor": "rgb(36,36,36)",
            "showgrid": false,
            "showline": true,
            "ticks": "outside"
           }
          },
          "scene": {
           "xaxis": {
            "backgroundcolor": "white",
            "gridcolor": "rgb(232,232,232)",
            "gridwidth": 2,
            "linecolor": "rgb(36,36,36)",
            "showbackground": true,
            "showgrid": false,
            "showline": true,
            "ticks": "outside",
            "zeroline": false,
            "zerolinecolor": "rgb(36,36,36)"
           },
           "yaxis": {
            "backgroundcolor": "white",
            "gridcolor": "rgb(232,232,232)",
            "gridwidth": 2,
            "linecolor": "rgb(36,36,36)",
            "showbackground": true,
            "showgrid": false,
            "showline": true,
            "ticks": "outside",
            "zeroline": false,
            "zerolinecolor": "rgb(36,36,36)"
           },
           "zaxis": {
            "backgroundcolor": "white",
            "gridcolor": "rgb(232,232,232)",
            "gridwidth": 2,
            "linecolor": "rgb(36,36,36)",
            "showbackground": true,
            "showgrid": false,
            "showline": true,
            "ticks": "outside",
            "zeroline": false,
            "zerolinecolor": "rgb(36,36,36)"
           }
          },
          "shapedefaults": {
           "fillcolor": "black",
           "line": {
            "width": 0
           },
           "opacity": 0.3
          },
          "ternary": {
           "aaxis": {
            "gridcolor": "rgb(232,232,232)",
            "linecolor": "rgb(36,36,36)",
            "showgrid": false,
            "showline": true,
            "ticks": "outside"
           },
           "baxis": {
            "gridcolor": "rgb(232,232,232)",
            "linecolor": "rgb(36,36,36)",
            "showgrid": false,
            "showline": true,
            "ticks": "outside"
           },
           "bgcolor": "white",
           "caxis": {
            "gridcolor": "rgb(232,232,232)",
            "linecolor": "rgb(36,36,36)",
            "showgrid": false,
            "showline": true,
            "ticks": "outside"
           }
          },
          "title": {
           "x": 0.05
          },
          "xaxis": {
           "automargin": true,
           "gridcolor": "rgb(232,232,232)",
           "linecolor": "rgb(36,36,36)",
           "showgrid": false,
           "showline": true,
           "ticks": "outside",
           "title": {
            "standoff": 15
           },
           "zeroline": false,
           "zerolinecolor": "rgb(36,36,36)"
          },
          "yaxis": {
           "automargin": true,
           "gridcolor": "rgb(232,232,232)",
           "linecolor": "rgb(36,36,36)",
           "showgrid": false,
           "showline": true,
           "ticks": "outside",
           "title": {
            "standoff": 15
           },
           "zeroline": false,
           "zerolinecolor": "rgb(36,36,36)"
          }
         }
        },
        "title": {
         "text": "Price vs Total Sales by Product Category"
        },
        "updatemenus": [
         {
          "buttons": [
           {
            "args": [
             {
              "visible": [
               true,
               false,
               false,
               false,
               false,
               false,
               false,
               false,
               false,
               false,
               false,
               false,
               false
              ]
             }
            ],
            "label": "bead bracelets and necklaces (珠子手链和项链)",
            "method": "update"
           },
           {
            "args": [
             {
              "visible": [
               false,
               true,
               false,
               false,
               false,
               false,
               false,
               false,
               false,
               false,
               false,
               false,
               false
              ]
             }
            ],
            "label": "chinese mid autumn gift sets (中秋节礼品套装)",
            "method": "update"
           },
           {
            "args": [
             {
              "visible": [
               false,
               false,
               true,
               false,
               false,
               false,
               false,
               false,
               false,
               false,
               false,
               false,
               false
              ]
             }
            ],
            "label": "chinese pottery (中国陶器)",
            "method": "update"
           },
           {
            "args": [
             {
              "visible": [
               false,
               false,
               false,
               true,
               false,
               false,
               false,
               false,
               false,
               false,
               false,
               false,
               false
              ]
             }
            ],
            "label": "chinese incense (中国香)",
            "method": "update"
           },
           {
            "args": [
             {
              "visible": [
               false,
               false,
               false,
               false,
               true,
               false,
               false,
               false,
               false,
               false,
               false,
               false,
               false
              ]
             }
            ],
            "label": "chinese magnets (中国冰箱贴)",
            "method": "update"
           },
           {
            "args": [
             {
              "visible": [
               false,
               false,
               false,
               false,
               false,
               true,
               false,
               false,
               false,
               false,
               false,
               false,
               false
              ]
             }
            ],
            "label": "paper lanterns (纸灯笼)",
            "method": "update"
           },
           {
            "args": [
             {
              "visible": [
               false,
               false,
               false,
               false,
               false,
               false,
               true,
               false,
               false,
               false,
               false,
               false,
               false
              ]
             }
            ],
            "label": "chinese bamboo art (中国竹艺)",
            "method": "update"
           },
           {
            "args": [
             {
              "visible": [
               false,
               false,
               false,
               false,
               false,
               false,
               false,
               true,
               false,
               false,
               false,
               false,
               false
              ]
             }
            ],
            "label": "chinese washi tape (中国和纸胶带)",
            "method": "update"
           },
           {
            "args": [
             {
              "visible": [
               false,
               false,
               false,
               false,
               false,
               false,
               false,
               false,
               true,
               false,
               false,
               false,
               false
              ]
             }
            ],
            "label": "chinese art stickers (中国艺术贴纸)",
            "method": "update"
           },
           {
            "args": [
             {
              "visible": [
               false,
               false,
               false,
               false,
               false,
               false,
               false,
               false,
               false,
               true,
               false,
               false,
               false
              ]
             }
            ],
            "label": "brushes and calligraphy tools (笔和书法工具)",
            "method": "update"
           },
           {
            "args": [
             {
              "visible": [
               false,
               false,
               false,
               false,
               false,
               false,
               false,
               false,
               false,
               false,
               true,
               false,
               false
              ]
             }
            ],
            "label": "calligraphy prints (书法印刷品)",
            "method": "update"
           },
           {
            "args": [
             {
              "visible": [
               false,
               false,
               false,
               false,
               false,
               false,
               false,
               false,
               false,
               false,
               false,
               true,
               false
              ]
             }
            ],
            "label": "chinese bookmarks (中国书签)",
            "method": "update"
           },
           {
            "args": [
             {
              "visible": [
               false,
               false,
               false,
               false,
               false,
               false,
               false,
               false,
               false,
               false,
               false,
               false,
               true
              ]
             }
            ],
            "label": "name seals (印章)",
            "method": "update"
           }
          ],
          "direction": "down",
          "pad": {
           "r": 10,
           "t": 10
          },
          "showactive": true,
          "x": 0.1,
          "xanchor": "left",
          "y": 1.1,
          "yanchor": "top"
         }
        ],
        "xaxis": {
         "title": {
          "text": "Price ($)"
         }
        },
        "yaxis": {
         "title": {
          "text": "Total Sales"
         }
        }
       }
      }
     },
     "metadata": {},
     "output_type": "display_data"
    }
   ],
   "source": [
    "color_labels = all_product_data[\"product_name_chinese_name\"].unique()\n",
    "\n",
    "fig = plot_scatter_plotly_with_dropdown(\n",
    "    data=all_product_data,\n",
    "    x=\"price\",\n",
    "    y=\"Total Sales\",\n",
    "    color=\"product_name_chinese_name\",\n",
    "    color_labels=color_labels,\n",
    "    title=\"Price vs Total Sales by Product Category\",\n",
    "    x_label=\"Price ($)\",\n",
    "    y_label=\"Total Sales\",\n",
    ")\n",
    "\n",
    "fig.show()"
   ]
  },
  {
   "cell_type": "code",
   "execution_count": 316,
   "metadata": {},
   "outputs": [
    {
     "data": {
      "application/vnd.plotly.v1+json": {
       "config": {
        "plotlyServerURL": "https://plot.ly"
       },
       "data": [
        {
         "name": "All Products",
         "text": [
          1445,
          1027,
          190,
          187,
          162,
          137,
          117,
          84,
          62,
          57,
          50,
          30,
          30
         ],
         "textposition": "auto",
         "texttemplate": "%{text:.2f}",
         "type": "bar",
         "visible": true,
         "x": [
          "calligraphy prints (书法印刷品)",
          "name seals (印章)",
          "chinese pottery (中国陶器)",
          "paper lanterns (纸灯笼)",
          "brushes and calligraphy tools (笔和书法工具)",
          "bead bracelets and necklaces (珠子手链和项链)",
          "chinese art stickers (中国艺术贴纸)",
          "chinese bookmarks (中国书签)",
          "chinese washi tape (中国和纸胶带)",
          "chinese incense (中国香)",
          "chinese bamboo art (中国竹艺)",
          "chinese magnets (中国冰箱贴)",
          "chinese mid autumn gift sets (中秋节礼品套装)"
         ],
         "y": [
          1445,
          1027,
          190,
          187,
          162,
          137,
          117,
          84,
          62,
          57,
          50,
          30,
          30
         ]
        },
        {
         "name": "Products with Sales",
         "text": [
          616,
          568,
          89,
          88,
          68,
          66,
          65,
          44,
          41,
          21,
          19,
          14,
          10
         ],
         "textposition": "auto",
         "texttemplate": "%{text:.2f}",
         "type": "bar",
         "visible": false,
         "x": [
          "name seals (印章)",
          "calligraphy prints (书法印刷品)",
          "brushes and calligraphy tools (笔和书法工具)",
          "paper lanterns (纸灯笼)",
          "chinese pottery (中国陶器)",
          "chinese art stickers (中国艺术贴纸)",
          "bead bracelets and necklaces (珠子手链和项链)",
          "chinese bookmarks (中国书签)",
          "chinese washi tape (中国和纸胶带)",
          "chinese incense (中国香)",
          "chinese mid autumn gift sets (中秋节礼品套装)",
          "chinese magnets (中国冰箱贴)",
          "chinese bamboo art (中国竹艺)"
         ],
         "y": [
          616,
          568,
          89,
          88,
          68,
          66,
          65,
          44,
          41,
          21,
          19,
          14,
          10
         ]
        }
       ],
       "layout": {
        "template": {
         "data": {
          "bar": [
           {
            "error_x": {
             "color": "rgb(36,36,36)"
            },
            "error_y": {
             "color": "rgb(36,36,36)"
            },
            "marker": {
             "line": {
              "color": "white",
              "width": 0.5
             },
             "pattern": {
              "fillmode": "overlay",
              "size": 10,
              "solidity": 0.2
             }
            },
            "type": "bar"
           }
          ],
          "barpolar": [
           {
            "marker": {
             "line": {
              "color": "white",
              "width": 0.5
             },
             "pattern": {
              "fillmode": "overlay",
              "size": 10,
              "solidity": 0.2
             }
            },
            "type": "barpolar"
           }
          ],
          "carpet": [
           {
            "aaxis": {
             "endlinecolor": "rgb(36,36,36)",
             "gridcolor": "white",
             "linecolor": "white",
             "minorgridcolor": "white",
             "startlinecolor": "rgb(36,36,36)"
            },
            "baxis": {
             "endlinecolor": "rgb(36,36,36)",
             "gridcolor": "white",
             "linecolor": "white",
             "minorgridcolor": "white",
             "startlinecolor": "rgb(36,36,36)"
            },
            "type": "carpet"
           }
          ],
          "choropleth": [
           {
            "colorbar": {
             "outlinewidth": 1,
             "tickcolor": "rgb(36,36,36)",
             "ticks": "outside"
            },
            "type": "choropleth"
           }
          ],
          "contour": [
           {
            "colorbar": {
             "outlinewidth": 1,
             "tickcolor": "rgb(36,36,36)",
             "ticks": "outside"
            },
            "colorscale": [
             [
              0,
              "#440154"
             ],
             [
              0.1111111111111111,
              "#482878"
             ],
             [
              0.2222222222222222,
              "#3e4989"
             ],
             [
              0.3333333333333333,
              "#31688e"
             ],
             [
              0.4444444444444444,
              "#26828e"
             ],
             [
              0.5555555555555556,
              "#1f9e89"
             ],
             [
              0.6666666666666666,
              "#35b779"
             ],
             [
              0.7777777777777778,
              "#6ece58"
             ],
             [
              0.8888888888888888,
              "#b5de2b"
             ],
             [
              1,
              "#fde725"
             ]
            ],
            "type": "contour"
           }
          ],
          "contourcarpet": [
           {
            "colorbar": {
             "outlinewidth": 1,
             "tickcolor": "rgb(36,36,36)",
             "ticks": "outside"
            },
            "type": "contourcarpet"
           }
          ],
          "heatmap": [
           {
            "colorbar": {
             "outlinewidth": 1,
             "tickcolor": "rgb(36,36,36)",
             "ticks": "outside"
            },
            "colorscale": [
             [
              0,
              "#440154"
             ],
             [
              0.1111111111111111,
              "#482878"
             ],
             [
              0.2222222222222222,
              "#3e4989"
             ],
             [
              0.3333333333333333,
              "#31688e"
             ],
             [
              0.4444444444444444,
              "#26828e"
             ],
             [
              0.5555555555555556,
              "#1f9e89"
             ],
             [
              0.6666666666666666,
              "#35b779"
             ],
             [
              0.7777777777777778,
              "#6ece58"
             ],
             [
              0.8888888888888888,
              "#b5de2b"
             ],
             [
              1,
              "#fde725"
             ]
            ],
            "type": "heatmap"
           }
          ],
          "heatmapgl": [
           {
            "colorbar": {
             "outlinewidth": 1,
             "tickcolor": "rgb(36,36,36)",
             "ticks": "outside"
            },
            "colorscale": [
             [
              0,
              "#440154"
             ],
             [
              0.1111111111111111,
              "#482878"
             ],
             [
              0.2222222222222222,
              "#3e4989"
             ],
             [
              0.3333333333333333,
              "#31688e"
             ],
             [
              0.4444444444444444,
              "#26828e"
             ],
             [
              0.5555555555555556,
              "#1f9e89"
             ],
             [
              0.6666666666666666,
              "#35b779"
             ],
             [
              0.7777777777777778,
              "#6ece58"
             ],
             [
              0.8888888888888888,
              "#b5de2b"
             ],
             [
              1,
              "#fde725"
             ]
            ],
            "type": "heatmapgl"
           }
          ],
          "histogram": [
           {
            "marker": {
             "line": {
              "color": "white",
              "width": 0.6
             }
            },
            "type": "histogram"
           }
          ],
          "histogram2d": [
           {
            "colorbar": {
             "outlinewidth": 1,
             "tickcolor": "rgb(36,36,36)",
             "ticks": "outside"
            },
            "colorscale": [
             [
              0,
              "#440154"
             ],
             [
              0.1111111111111111,
              "#482878"
             ],
             [
              0.2222222222222222,
              "#3e4989"
             ],
             [
              0.3333333333333333,
              "#31688e"
             ],
             [
              0.4444444444444444,
              "#26828e"
             ],
             [
              0.5555555555555556,
              "#1f9e89"
             ],
             [
              0.6666666666666666,
              "#35b779"
             ],
             [
              0.7777777777777778,
              "#6ece58"
             ],
             [
              0.8888888888888888,
              "#b5de2b"
             ],
             [
              1,
              "#fde725"
             ]
            ],
            "type": "histogram2d"
           }
          ],
          "histogram2dcontour": [
           {
            "colorbar": {
             "outlinewidth": 1,
             "tickcolor": "rgb(36,36,36)",
             "ticks": "outside"
            },
            "colorscale": [
             [
              0,
              "#440154"
             ],
             [
              0.1111111111111111,
              "#482878"
             ],
             [
              0.2222222222222222,
              "#3e4989"
             ],
             [
              0.3333333333333333,
              "#31688e"
             ],
             [
              0.4444444444444444,
              "#26828e"
             ],
             [
              0.5555555555555556,
              "#1f9e89"
             ],
             [
              0.6666666666666666,
              "#35b779"
             ],
             [
              0.7777777777777778,
              "#6ece58"
             ],
             [
              0.8888888888888888,
              "#b5de2b"
             ],
             [
              1,
              "#fde725"
             ]
            ],
            "type": "histogram2dcontour"
           }
          ],
          "mesh3d": [
           {
            "colorbar": {
             "outlinewidth": 1,
             "tickcolor": "rgb(36,36,36)",
             "ticks": "outside"
            },
            "type": "mesh3d"
           }
          ],
          "parcoords": [
           {
            "line": {
             "colorbar": {
              "outlinewidth": 1,
              "tickcolor": "rgb(36,36,36)",
              "ticks": "outside"
             }
            },
            "type": "parcoords"
           }
          ],
          "pie": [
           {
            "automargin": true,
            "type": "pie"
           }
          ],
          "scatter": [
           {
            "fillpattern": {
             "fillmode": "overlay",
             "size": 10,
             "solidity": 0.2
            },
            "type": "scatter"
           }
          ],
          "scatter3d": [
           {
            "line": {
             "colorbar": {
              "outlinewidth": 1,
              "tickcolor": "rgb(36,36,36)",
              "ticks": "outside"
             }
            },
            "marker": {
             "colorbar": {
              "outlinewidth": 1,
              "tickcolor": "rgb(36,36,36)",
              "ticks": "outside"
             }
            },
            "type": "scatter3d"
           }
          ],
          "scattercarpet": [
           {
            "marker": {
             "colorbar": {
              "outlinewidth": 1,
              "tickcolor": "rgb(36,36,36)",
              "ticks": "outside"
             }
            },
            "type": "scattercarpet"
           }
          ],
          "scattergeo": [
           {
            "marker": {
             "colorbar": {
              "outlinewidth": 1,
              "tickcolor": "rgb(36,36,36)",
              "ticks": "outside"
             }
            },
            "type": "scattergeo"
           }
          ],
          "scattergl": [
           {
            "marker": {
             "colorbar": {
              "outlinewidth": 1,
              "tickcolor": "rgb(36,36,36)",
              "ticks": "outside"
             }
            },
            "type": "scattergl"
           }
          ],
          "scattermapbox": [
           {
            "marker": {
             "colorbar": {
              "outlinewidth": 1,
              "tickcolor": "rgb(36,36,36)",
              "ticks": "outside"
             }
            },
            "type": "scattermapbox"
           }
          ],
          "scatterpolar": [
           {
            "marker": {
             "colorbar": {
              "outlinewidth": 1,
              "tickcolor": "rgb(36,36,36)",
              "ticks": "outside"
             }
            },
            "type": "scatterpolar"
           }
          ],
          "scatterpolargl": [
           {
            "marker": {
             "colorbar": {
              "outlinewidth": 1,
              "tickcolor": "rgb(36,36,36)",
              "ticks": "outside"
             }
            },
            "type": "scatterpolargl"
           }
          ],
          "scatterternary": [
           {
            "marker": {
             "colorbar": {
              "outlinewidth": 1,
              "tickcolor": "rgb(36,36,36)",
              "ticks": "outside"
             }
            },
            "type": "scatterternary"
           }
          ],
          "surface": [
           {
            "colorbar": {
             "outlinewidth": 1,
             "tickcolor": "rgb(36,36,36)",
             "ticks": "outside"
            },
            "colorscale": [
             [
              0,
              "#440154"
             ],
             [
              0.1111111111111111,
              "#482878"
             ],
             [
              0.2222222222222222,
              "#3e4989"
             ],
             [
              0.3333333333333333,
              "#31688e"
             ],
             [
              0.4444444444444444,
              "#26828e"
             ],
             [
              0.5555555555555556,
              "#1f9e89"
             ],
             [
              0.6666666666666666,
              "#35b779"
             ],
             [
              0.7777777777777778,
              "#6ece58"
             ],
             [
              0.8888888888888888,
              "#b5de2b"
             ],
             [
              1,
              "#fde725"
             ]
            ],
            "type": "surface"
           }
          ],
          "table": [
           {
            "cells": {
             "fill": {
              "color": "rgb(237,237,237)"
             },
             "line": {
              "color": "white"
             }
            },
            "header": {
             "fill": {
              "color": "rgb(217,217,217)"
             },
             "line": {
              "color": "white"
             }
            },
            "type": "table"
           }
          ]
         },
         "layout": {
          "annotationdefaults": {
           "arrowhead": 0,
           "arrowwidth": 1
          },
          "autotypenumbers": "strict",
          "coloraxis": {
           "colorbar": {
            "outlinewidth": 1,
            "tickcolor": "rgb(36,36,36)",
            "ticks": "outside"
           }
          },
          "colorscale": {
           "diverging": [
            [
             0,
             "rgb(103,0,31)"
            ],
            [
             0.1,
             "rgb(178,24,43)"
            ],
            [
             0.2,
             "rgb(214,96,77)"
            ],
            [
             0.3,
             "rgb(244,165,130)"
            ],
            [
             0.4,
             "rgb(253,219,199)"
            ],
            [
             0.5,
             "rgb(247,247,247)"
            ],
            [
             0.6,
             "rgb(209,229,240)"
            ],
            [
             0.7,
             "rgb(146,197,222)"
            ],
            [
             0.8,
             "rgb(67,147,195)"
            ],
            [
             0.9,
             "rgb(33,102,172)"
            ],
            [
             1,
             "rgb(5,48,97)"
            ]
           ],
           "sequential": [
            [
             0,
             "#440154"
            ],
            [
             0.1111111111111111,
             "#482878"
            ],
            [
             0.2222222222222222,
             "#3e4989"
            ],
            [
             0.3333333333333333,
             "#31688e"
            ],
            [
             0.4444444444444444,
             "#26828e"
            ],
            [
             0.5555555555555556,
             "#1f9e89"
            ],
            [
             0.6666666666666666,
             "#35b779"
            ],
            [
             0.7777777777777778,
             "#6ece58"
            ],
            [
             0.8888888888888888,
             "#b5de2b"
            ],
            [
             1,
             "#fde725"
            ]
           ],
           "sequentialminus": [
            [
             0,
             "#440154"
            ],
            [
             0.1111111111111111,
             "#482878"
            ],
            [
             0.2222222222222222,
             "#3e4989"
            ],
            [
             0.3333333333333333,
             "#31688e"
            ],
            [
             0.4444444444444444,
             "#26828e"
            ],
            [
             0.5555555555555556,
             "#1f9e89"
            ],
            [
             0.6666666666666666,
             "#35b779"
            ],
            [
             0.7777777777777778,
             "#6ece58"
            ],
            [
             0.8888888888888888,
             "#b5de2b"
            ],
            [
             1,
             "#fde725"
            ]
           ]
          },
          "colorway": [
           "#1F77B4",
           "#FF7F0E",
           "#2CA02C",
           "#D62728",
           "#9467BD",
           "#8C564B",
           "#E377C2",
           "#7F7F7F",
           "#BCBD22",
           "#17BECF"
          ],
          "font": {
           "color": "rgb(36,36,36)"
          },
          "geo": {
           "bgcolor": "white",
           "lakecolor": "white",
           "landcolor": "white",
           "showlakes": true,
           "showland": true,
           "subunitcolor": "white"
          },
          "hoverlabel": {
           "align": "left"
          },
          "hovermode": "closest",
          "mapbox": {
           "style": "light"
          },
          "paper_bgcolor": "white",
          "plot_bgcolor": "white",
          "polar": {
           "angularaxis": {
            "gridcolor": "rgb(232,232,232)",
            "linecolor": "rgb(36,36,36)",
            "showgrid": false,
            "showline": true,
            "ticks": "outside"
           },
           "bgcolor": "white",
           "radialaxis": {
            "gridcolor": "rgb(232,232,232)",
            "linecolor": "rgb(36,36,36)",
            "showgrid": false,
            "showline": true,
            "ticks": "outside"
           }
          },
          "scene": {
           "xaxis": {
            "backgroundcolor": "white",
            "gridcolor": "rgb(232,232,232)",
            "gridwidth": 2,
            "linecolor": "rgb(36,36,36)",
            "showbackground": true,
            "showgrid": false,
            "showline": true,
            "ticks": "outside",
            "zeroline": false,
            "zerolinecolor": "rgb(36,36,36)"
           },
           "yaxis": {
            "backgroundcolor": "white",
            "gridcolor": "rgb(232,232,232)",
            "gridwidth": 2,
            "linecolor": "rgb(36,36,36)",
            "showbackground": true,
            "showgrid": false,
            "showline": true,
            "ticks": "outside",
            "zeroline": false,
            "zerolinecolor": "rgb(36,36,36)"
           },
           "zaxis": {
            "backgroundcolor": "white",
            "gridcolor": "rgb(232,232,232)",
            "gridwidth": 2,
            "linecolor": "rgb(36,36,36)",
            "showbackground": true,
            "showgrid": false,
            "showline": true,
            "ticks": "outside",
            "zeroline": false,
            "zerolinecolor": "rgb(36,36,36)"
           }
          },
          "shapedefaults": {
           "fillcolor": "black",
           "line": {
            "width": 0
           },
           "opacity": 0.3
          },
          "ternary": {
           "aaxis": {
            "gridcolor": "rgb(232,232,232)",
            "linecolor": "rgb(36,36,36)",
            "showgrid": false,
            "showline": true,
            "ticks": "outside"
           },
           "baxis": {
            "gridcolor": "rgb(232,232,232)",
            "linecolor": "rgb(36,36,36)",
            "showgrid": false,
            "showline": true,
            "ticks": "outside"
           },
           "bgcolor": "white",
           "caxis": {
            "gridcolor": "rgb(232,232,232)",
            "linecolor": "rgb(36,36,36)",
            "showgrid": false,
            "showline": true,
            "ticks": "outside"
           }
          },
          "title": {
           "x": 0.05
          },
          "xaxis": {
           "automargin": true,
           "gridcolor": "rgb(232,232,232)",
           "linecolor": "rgb(36,36,36)",
           "showgrid": false,
           "showline": true,
           "ticks": "outside",
           "title": {
            "standoff": 15
           },
           "zeroline": false,
           "zerolinecolor": "rgb(36,36,36)"
          },
          "yaxis": {
           "automargin": true,
           "gridcolor": "rgb(232,232,232)",
           "linecolor": "rgb(36,36,36)",
           "showgrid": false,
           "showline": true,
           "ticks": "outside",
           "title": {
            "standoff": 15
           },
           "zeroline": false,
           "zerolinecolor": "rgb(36,36,36)"
          }
         }
        },
        "title": {
         "text": "Number of Unique Products （产品数目）"
        },
        "updatemenus": [
         {
          "buttons": [
           {
            "args": [
             {
              "visible": [
               true,
               false
              ]
             }
            ],
            "label": "All Products",
            "method": "update"
           },
           {
            "args": [
             {
              "visible": [
               false,
               true
              ]
             }
            ],
            "label": "Products with Sales",
            "method": "update"
           }
          ],
          "direction": "down",
          "pad": {
           "r": 2,
           "t": 12
          },
          "showactive": true,
          "x": 0,
          "xanchor": "left",
          "y": 1.3,
          "yanchor": "top"
         }
        ],
        "xaxis": {
         "title": {
          "text": "Product Name"
         }
        },
        "yaxis": {
         "title": {
          "text": "Number of Unique Products"
         }
        }
       }
      }
     },
     "metadata": {},
     "output_type": "display_data"
    },
    {
     "data": {
      "application/vnd.plotly.v1+json": {
       "config": {
        "plotlyServerURL": "https://plot.ly"
       },
       "data": [
        {
         "name": "Has Sales",
         "text": [
          0.6612903225806451,
          0.6333333333333333,
          0.5998052580331061,
          0.5641025641025641,
          0.5493827160493827,
          0.5238095238095238,
          0.4744525547445255,
          0.47058823529411764,
          0.4666666666666667,
          0.39307958477508653,
          0.3684210526315789,
          0.35789473684210527,
          0.2
         ],
         "textposition": "auto",
         "texttemplate": "%{text:.2f}",
         "type": "bar",
         "x": [
          "chinese washi tape (中国和纸胶带)",
          "chinese mid autumn gift sets (中秋节礼品套装)",
          "name seals (印章)",
          "chinese art stickers (中国艺术贴纸)",
          "brushes and calligraphy tools (笔和书法工具)",
          "chinese bookmarks (中国书签)",
          "bead bracelets and necklaces (珠子手链和项链)",
          "paper lanterns (纸灯笼)",
          "chinese magnets (中国冰箱贴)",
          "calligraphy prints (书法印刷品)",
          "chinese incense (中国香)",
          "chinese pottery (中国陶器)",
          "chinese bamboo art (中国竹艺)"
         ],
         "y": [
          0.6612903225806451,
          0.6333333333333333,
          0.5998052580331061,
          0.5641025641025641,
          0.5493827160493827,
          0.5238095238095238,
          0.4744525547445255,
          0.47058823529411764,
          0.4666666666666667,
          0.39307958477508653,
          0.3684210526315789,
          0.35789473684210527,
          0.2
         ]
        }
       ],
       "layout": {
        "template": {
         "data": {
          "bar": [
           {
            "error_x": {
             "color": "rgb(36,36,36)"
            },
            "error_y": {
             "color": "rgb(36,36,36)"
            },
            "marker": {
             "line": {
              "color": "white",
              "width": 0.5
             },
             "pattern": {
              "fillmode": "overlay",
              "size": 10,
              "solidity": 0.2
             }
            },
            "type": "bar"
           }
          ],
          "barpolar": [
           {
            "marker": {
             "line": {
              "color": "white",
              "width": 0.5
             },
             "pattern": {
              "fillmode": "overlay",
              "size": 10,
              "solidity": 0.2
             }
            },
            "type": "barpolar"
           }
          ],
          "carpet": [
           {
            "aaxis": {
             "endlinecolor": "rgb(36,36,36)",
             "gridcolor": "white",
             "linecolor": "white",
             "minorgridcolor": "white",
             "startlinecolor": "rgb(36,36,36)"
            },
            "baxis": {
             "endlinecolor": "rgb(36,36,36)",
             "gridcolor": "white",
             "linecolor": "white",
             "minorgridcolor": "white",
             "startlinecolor": "rgb(36,36,36)"
            },
            "type": "carpet"
           }
          ],
          "choropleth": [
           {
            "colorbar": {
             "outlinewidth": 1,
             "tickcolor": "rgb(36,36,36)",
             "ticks": "outside"
            },
            "type": "choropleth"
           }
          ],
          "contour": [
           {
            "colorbar": {
             "outlinewidth": 1,
             "tickcolor": "rgb(36,36,36)",
             "ticks": "outside"
            },
            "colorscale": [
             [
              0,
              "#440154"
             ],
             [
              0.1111111111111111,
              "#482878"
             ],
             [
              0.2222222222222222,
              "#3e4989"
             ],
             [
              0.3333333333333333,
              "#31688e"
             ],
             [
              0.4444444444444444,
              "#26828e"
             ],
             [
              0.5555555555555556,
              "#1f9e89"
             ],
             [
              0.6666666666666666,
              "#35b779"
             ],
             [
              0.7777777777777778,
              "#6ece58"
             ],
             [
              0.8888888888888888,
              "#b5de2b"
             ],
             [
              1,
              "#fde725"
             ]
            ],
            "type": "contour"
           }
          ],
          "contourcarpet": [
           {
            "colorbar": {
             "outlinewidth": 1,
             "tickcolor": "rgb(36,36,36)",
             "ticks": "outside"
            },
            "type": "contourcarpet"
           }
          ],
          "heatmap": [
           {
            "colorbar": {
             "outlinewidth": 1,
             "tickcolor": "rgb(36,36,36)",
             "ticks": "outside"
            },
            "colorscale": [
             [
              0,
              "#440154"
             ],
             [
              0.1111111111111111,
              "#482878"
             ],
             [
              0.2222222222222222,
              "#3e4989"
             ],
             [
              0.3333333333333333,
              "#31688e"
             ],
             [
              0.4444444444444444,
              "#26828e"
             ],
             [
              0.5555555555555556,
              "#1f9e89"
             ],
             [
              0.6666666666666666,
              "#35b779"
             ],
             [
              0.7777777777777778,
              "#6ece58"
             ],
             [
              0.8888888888888888,
              "#b5de2b"
             ],
             [
              1,
              "#fde725"
             ]
            ],
            "type": "heatmap"
           }
          ],
          "heatmapgl": [
           {
            "colorbar": {
             "outlinewidth": 1,
             "tickcolor": "rgb(36,36,36)",
             "ticks": "outside"
            },
            "colorscale": [
             [
              0,
              "#440154"
             ],
             [
              0.1111111111111111,
              "#482878"
             ],
             [
              0.2222222222222222,
              "#3e4989"
             ],
             [
              0.3333333333333333,
              "#31688e"
             ],
             [
              0.4444444444444444,
              "#26828e"
             ],
             [
              0.5555555555555556,
              "#1f9e89"
             ],
             [
              0.6666666666666666,
              "#35b779"
             ],
             [
              0.7777777777777778,
              "#6ece58"
             ],
             [
              0.8888888888888888,
              "#b5de2b"
             ],
             [
              1,
              "#fde725"
             ]
            ],
            "type": "heatmapgl"
           }
          ],
          "histogram": [
           {
            "marker": {
             "line": {
              "color": "white",
              "width": 0.6
             }
            },
            "type": "histogram"
           }
          ],
          "histogram2d": [
           {
            "colorbar": {
             "outlinewidth": 1,
             "tickcolor": "rgb(36,36,36)",
             "ticks": "outside"
            },
            "colorscale": [
             [
              0,
              "#440154"
             ],
             [
              0.1111111111111111,
              "#482878"
             ],
             [
              0.2222222222222222,
              "#3e4989"
             ],
             [
              0.3333333333333333,
              "#31688e"
             ],
             [
              0.4444444444444444,
              "#26828e"
             ],
             [
              0.5555555555555556,
              "#1f9e89"
             ],
             [
              0.6666666666666666,
              "#35b779"
             ],
             [
              0.7777777777777778,
              "#6ece58"
             ],
             [
              0.8888888888888888,
              "#b5de2b"
             ],
             [
              1,
              "#fde725"
             ]
            ],
            "type": "histogram2d"
           }
          ],
          "histogram2dcontour": [
           {
            "colorbar": {
             "outlinewidth": 1,
             "tickcolor": "rgb(36,36,36)",
             "ticks": "outside"
            },
            "colorscale": [
             [
              0,
              "#440154"
             ],
             [
              0.1111111111111111,
              "#482878"
             ],
             [
              0.2222222222222222,
              "#3e4989"
             ],
             [
              0.3333333333333333,
              "#31688e"
             ],
             [
              0.4444444444444444,
              "#26828e"
             ],
             [
              0.5555555555555556,
              "#1f9e89"
             ],
             [
              0.6666666666666666,
              "#35b779"
             ],
             [
              0.7777777777777778,
              "#6ece58"
             ],
             [
              0.8888888888888888,
              "#b5de2b"
             ],
             [
              1,
              "#fde725"
             ]
            ],
            "type": "histogram2dcontour"
           }
          ],
          "mesh3d": [
           {
            "colorbar": {
             "outlinewidth": 1,
             "tickcolor": "rgb(36,36,36)",
             "ticks": "outside"
            },
            "type": "mesh3d"
           }
          ],
          "parcoords": [
           {
            "line": {
             "colorbar": {
              "outlinewidth": 1,
              "tickcolor": "rgb(36,36,36)",
              "ticks": "outside"
             }
            },
            "type": "parcoords"
           }
          ],
          "pie": [
           {
            "automargin": true,
            "type": "pie"
           }
          ],
          "scatter": [
           {
            "fillpattern": {
             "fillmode": "overlay",
             "size": 10,
             "solidity": 0.2
            },
            "type": "scatter"
           }
          ],
          "scatter3d": [
           {
            "line": {
             "colorbar": {
              "outlinewidth": 1,
              "tickcolor": "rgb(36,36,36)",
              "ticks": "outside"
             }
            },
            "marker": {
             "colorbar": {
              "outlinewidth": 1,
              "tickcolor": "rgb(36,36,36)",
              "ticks": "outside"
             }
            },
            "type": "scatter3d"
           }
          ],
          "scattercarpet": [
           {
            "marker": {
             "colorbar": {
              "outlinewidth": 1,
              "tickcolor": "rgb(36,36,36)",
              "ticks": "outside"
             }
            },
            "type": "scattercarpet"
           }
          ],
          "scattergeo": [
           {
            "marker": {
             "colorbar": {
              "outlinewidth": 1,
              "tickcolor": "rgb(36,36,36)",
              "ticks": "outside"
             }
            },
            "type": "scattergeo"
           }
          ],
          "scattergl": [
           {
            "marker": {
             "colorbar": {
              "outlinewidth": 1,
              "tickcolor": "rgb(36,36,36)",
              "ticks": "outside"
             }
            },
            "type": "scattergl"
           }
          ],
          "scattermapbox": [
           {
            "marker": {
             "colorbar": {
              "outlinewidth": 1,
              "tickcolor": "rgb(36,36,36)",
              "ticks": "outside"
             }
            },
            "type": "scattermapbox"
           }
          ],
          "scatterpolar": [
           {
            "marker": {
             "colorbar": {
              "outlinewidth": 1,
              "tickcolor": "rgb(36,36,36)",
              "ticks": "outside"
             }
            },
            "type": "scatterpolar"
           }
          ],
          "scatterpolargl": [
           {
            "marker": {
             "colorbar": {
              "outlinewidth": 1,
              "tickcolor": "rgb(36,36,36)",
              "ticks": "outside"
             }
            },
            "type": "scatterpolargl"
           }
          ],
          "scatterternary": [
           {
            "marker": {
             "colorbar": {
              "outlinewidth": 1,
              "tickcolor": "rgb(36,36,36)",
              "ticks": "outside"
             }
            },
            "type": "scatterternary"
           }
          ],
          "surface": [
           {
            "colorbar": {
             "outlinewidth": 1,
             "tickcolor": "rgb(36,36,36)",
             "ticks": "outside"
            },
            "colorscale": [
             [
              0,
              "#440154"
             ],
             [
              0.1111111111111111,
              "#482878"
             ],
             [
              0.2222222222222222,
              "#3e4989"
             ],
             [
              0.3333333333333333,
              "#31688e"
             ],
             [
              0.4444444444444444,
              "#26828e"
             ],
             [
              0.5555555555555556,
              "#1f9e89"
             ],
             [
              0.6666666666666666,
              "#35b779"
             ],
             [
              0.7777777777777778,
              "#6ece58"
             ],
             [
              0.8888888888888888,
              "#b5de2b"
             ],
             [
              1,
              "#fde725"
             ]
            ],
            "type": "surface"
           }
          ],
          "table": [
           {
            "cells": {
             "fill": {
              "color": "rgb(237,237,237)"
             },
             "line": {
              "color": "white"
             }
            },
            "header": {
             "fill": {
              "color": "rgb(217,217,217)"
             },
             "line": {
              "color": "white"
             }
            },
            "type": "table"
           }
          ]
         },
         "layout": {
          "annotationdefaults": {
           "arrowhead": 0,
           "arrowwidth": 1
          },
          "autotypenumbers": "strict",
          "coloraxis": {
           "colorbar": {
            "outlinewidth": 1,
            "tickcolor": "rgb(36,36,36)",
            "ticks": "outside"
           }
          },
          "colorscale": {
           "diverging": [
            [
             0,
             "rgb(103,0,31)"
            ],
            [
             0.1,
             "rgb(178,24,43)"
            ],
            [
             0.2,
             "rgb(214,96,77)"
            ],
            [
             0.3,
             "rgb(244,165,130)"
            ],
            [
             0.4,
             "rgb(253,219,199)"
            ],
            [
             0.5,
             "rgb(247,247,247)"
            ],
            [
             0.6,
             "rgb(209,229,240)"
            ],
            [
             0.7,
             "rgb(146,197,222)"
            ],
            [
             0.8,
             "rgb(67,147,195)"
            ],
            [
             0.9,
             "rgb(33,102,172)"
            ],
            [
             1,
             "rgb(5,48,97)"
            ]
           ],
           "sequential": [
            [
             0,
             "#440154"
            ],
            [
             0.1111111111111111,
             "#482878"
            ],
            [
             0.2222222222222222,
             "#3e4989"
            ],
            [
             0.3333333333333333,
             "#31688e"
            ],
            [
             0.4444444444444444,
             "#26828e"
            ],
            [
             0.5555555555555556,
             "#1f9e89"
            ],
            [
             0.6666666666666666,
             "#35b779"
            ],
            [
             0.7777777777777778,
             "#6ece58"
            ],
            [
             0.8888888888888888,
             "#b5de2b"
            ],
            [
             1,
             "#fde725"
            ]
           ],
           "sequentialminus": [
            [
             0,
             "#440154"
            ],
            [
             0.1111111111111111,
             "#482878"
            ],
            [
             0.2222222222222222,
             "#3e4989"
            ],
            [
             0.3333333333333333,
             "#31688e"
            ],
            [
             0.4444444444444444,
             "#26828e"
            ],
            [
             0.5555555555555556,
             "#1f9e89"
            ],
            [
             0.6666666666666666,
             "#35b779"
            ],
            [
             0.7777777777777778,
             "#6ece58"
            ],
            [
             0.8888888888888888,
             "#b5de2b"
            ],
            [
             1,
             "#fde725"
            ]
           ]
          },
          "colorway": [
           "#1F77B4",
           "#FF7F0E",
           "#2CA02C",
           "#D62728",
           "#9467BD",
           "#8C564B",
           "#E377C2",
           "#7F7F7F",
           "#BCBD22",
           "#17BECF"
          ],
          "font": {
           "color": "rgb(36,36,36)"
          },
          "geo": {
           "bgcolor": "white",
           "lakecolor": "white",
           "landcolor": "white",
           "showlakes": true,
           "showland": true,
           "subunitcolor": "white"
          },
          "hoverlabel": {
           "align": "left"
          },
          "hovermode": "closest",
          "mapbox": {
           "style": "light"
          },
          "paper_bgcolor": "white",
          "plot_bgcolor": "white",
          "polar": {
           "angularaxis": {
            "gridcolor": "rgb(232,232,232)",
            "linecolor": "rgb(36,36,36)",
            "showgrid": false,
            "showline": true,
            "ticks": "outside"
           },
           "bgcolor": "white",
           "radialaxis": {
            "gridcolor": "rgb(232,232,232)",
            "linecolor": "rgb(36,36,36)",
            "showgrid": false,
            "showline": true,
            "ticks": "outside"
           }
          },
          "scene": {
           "xaxis": {
            "backgroundcolor": "white",
            "gridcolor": "rgb(232,232,232)",
            "gridwidth": 2,
            "linecolor": "rgb(36,36,36)",
            "showbackground": true,
            "showgrid": false,
            "showline": true,
            "ticks": "outside",
            "zeroline": false,
            "zerolinecolor": "rgb(36,36,36)"
           },
           "yaxis": {
            "backgroundcolor": "white",
            "gridcolor": "rgb(232,232,232)",
            "gridwidth": 2,
            "linecolor": "rgb(36,36,36)",
            "showbackground": true,
            "showgrid": false,
            "showline": true,
            "ticks": "outside",
            "zeroline": false,
            "zerolinecolor": "rgb(36,36,36)"
           },
           "zaxis": {
            "backgroundcolor": "white",
            "gridcolor": "rgb(232,232,232)",
            "gridwidth": 2,
            "linecolor": "rgb(36,36,36)",
            "showbackground": true,
            "showgrid": false,
            "showline": true,
            "ticks": "outside",
            "zeroline": false,
            "zerolinecolor": "rgb(36,36,36)"
           }
          },
          "shapedefaults": {
           "fillcolor": "black",
           "line": {
            "width": 0
           },
           "opacity": 0.3
          },
          "ternary": {
           "aaxis": {
            "gridcolor": "rgb(232,232,232)",
            "linecolor": "rgb(36,36,36)",
            "showgrid": false,
            "showline": true,
            "ticks": "outside"
           },
           "baxis": {
            "gridcolor": "rgb(232,232,232)",
            "linecolor": "rgb(36,36,36)",
            "showgrid": false,
            "showline": true,
            "ticks": "outside"
           },
           "bgcolor": "white",
           "caxis": {
            "gridcolor": "rgb(232,232,232)",
            "linecolor": "rgb(36,36,36)",
            "showgrid": false,
            "showline": true,
            "ticks": "outside"
           }
          },
          "title": {
           "x": 0.05
          },
          "xaxis": {
           "automargin": true,
           "gridcolor": "rgb(232,232,232)",
           "linecolor": "rgb(36,36,36)",
           "showgrid": false,
           "showline": true,
           "ticks": "outside",
           "title": {
            "standoff": 15
           },
           "zeroline": false,
           "zerolinecolor": "rgb(36,36,36)"
          },
          "yaxis": {
           "automargin": true,
           "gridcolor": "rgb(232,232,232)",
           "linecolor": "rgb(36,36,36)",
           "showgrid": false,
           "showline": true,
           "ticks": "outside",
           "title": {
            "standoff": 15
           },
           "zeroline": false,
           "zerolinecolor": "rgb(36,36,36)"
          }
         }
        },
        "title": {
         "text": "Percentage of Products with Sales （有销售量的产品的百分比）"
        },
        "xaxis": {
         "title": {
          "text": "Product Name"
         }
        },
        "yaxis": {
         "title": {
          "text": "Percentage of Products with Sales (%)"
         }
        }
       }
      }
     },
     "metadata": {},
     "output_type": "display_data"
    }
   ],
   "source": [
    "data_list = [\n",
    "    all_product_data.groupby(\"product_name_chinese_name\")[\"Product URL\"]\n",
    "    .nunique()\n",
    "    .reset_index(),\n",
    "    all_product_data[all_product_data[\"has_sales\"] == True]\n",
    "    .groupby(\"product_name_chinese_name\")[\"Product URL\"]\n",
    "    .nunique()\n",
    "    .reset_index(),\n",
    "]\n",
    "\n",
    "\n",
    "fig1 = plot_bar_chart_plotly_with_dropdown(\n",
    "    data_list,\n",
    "    labels=[\"All Products\", \"Products with Sales\"],\n",
    "    x=\"product_name_chinese_name\",\n",
    "    y=\"Product URL\",\n",
    "    title=\"Number of Unique Products （产品数目）\",\n",
    "    x_label=\"Product Name\",\n",
    "    y_label=\"Number of Unique Products\",\n",
    ")\n",
    "\n",
    "\n",
    "# Plot Percentage of products with sales per product\n",
    "fig2 = plot_bar_chart_plotly(\n",
    "    all_product_data.groupby(\"product_name_chinese_name\")[\"has_sales\"]\n",
    "    .mean()\n",
    "    .reset_index(),\n",
    "    x=\"product_name_chinese_name\",\n",
    "    y=\"has_sales\",\n",
    "    title=\"Percentage of Products with Sales （有销售量的产品的百分比）\",\n",
    "    x_label=\"Product Name\",\n",
    "    y_label=\"Percentage of Products with Sales (%)\",\n",
    ")\n",
    "\n",
    "fig1.show()\n",
    "fig2.show()"
   ]
  },
  {
   "cell_type": "code",
   "execution_count": 317,
   "metadata": {},
   "outputs": [
    {
     "data": {
      "application/vnd.plotly.v1+json": {
       "config": {
        "plotlyServerURL": "https://plot.ly"
       },
       "data": [
        {
         "name": "All Products",
         "text": [
          370,
          123,
          123,
          94,
          86,
          73,
          63,
          43,
          39,
          28,
          26,
          19,
          18
         ],
         "textposition": "auto",
         "texttemplate": "%{text:.2f}",
         "type": "bar",
         "visible": true,
         "x": [
          "calligraphy prints (书法印刷品)",
          "chinese pottery (中国陶器)",
          "paper lanterns (纸灯笼)",
          "bead bracelets and necklaces (珠子手链和项链)",
          "name seals (印章)",
          "chinese art stickers (中国艺术贴纸)",
          "brushes and calligraphy tools (笔和书法工具)",
          "chinese bookmarks (中国书签)",
          "chinese incense (中国香)",
          "chinese washi tape (中国和纸胶带)",
          "chinese magnets (中国冰箱贴)",
          "chinese bamboo art (中国竹艺)",
          "chinese mid autumn gift sets (中秋节礼品套装)"
         ],
         "y": [
          370,
          123,
          123,
          94,
          86,
          73,
          63,
          43,
          39,
          28,
          26,
          19,
          18
         ]
        },
        {
         "name": "Products with Sales",
         "text": [
          185,
          64,
          52,
          50,
          49,
          47,
          40,
          25,
          24,
          15,
          13,
          12,
          7
         ],
         "textposition": "auto",
         "texttemplate": "%{text:.2f}",
         "type": "bar",
         "visible": false,
         "x": [
          "calligraphy prints (书法印刷品)",
          "paper lanterns (纸灯笼)",
          "bead bracelets and necklaces (珠子手链和项链)",
          "name seals (印章)",
          "chinese pottery (中国陶器)",
          "chinese art stickers (中国艺术贴纸)",
          "brushes and calligraphy tools (笔和书法工具)",
          "chinese bookmarks (中国书签)",
          "chinese washi tape (中国和纸胶带)",
          "chinese incense (中国香)",
          "chinese magnets (中国冰箱贴)",
          "chinese mid autumn gift sets (中秋节礼品套装)",
          "chinese bamboo art (中国竹艺)"
         ],
         "y": [
          185,
          64,
          52,
          50,
          49,
          47,
          40,
          25,
          24,
          15,
          13,
          12,
          7
         ]
        }
       ],
       "layout": {
        "template": {
         "data": {
          "bar": [
           {
            "error_x": {
             "color": "rgb(36,36,36)"
            },
            "error_y": {
             "color": "rgb(36,36,36)"
            },
            "marker": {
             "line": {
              "color": "white",
              "width": 0.5
             },
             "pattern": {
              "fillmode": "overlay",
              "size": 10,
              "solidity": 0.2
             }
            },
            "type": "bar"
           }
          ],
          "barpolar": [
           {
            "marker": {
             "line": {
              "color": "white",
              "width": 0.5
             },
             "pattern": {
              "fillmode": "overlay",
              "size": 10,
              "solidity": 0.2
             }
            },
            "type": "barpolar"
           }
          ],
          "carpet": [
           {
            "aaxis": {
             "endlinecolor": "rgb(36,36,36)",
             "gridcolor": "white",
             "linecolor": "white",
             "minorgridcolor": "white",
             "startlinecolor": "rgb(36,36,36)"
            },
            "baxis": {
             "endlinecolor": "rgb(36,36,36)",
             "gridcolor": "white",
             "linecolor": "white",
             "minorgridcolor": "white",
             "startlinecolor": "rgb(36,36,36)"
            },
            "type": "carpet"
           }
          ],
          "choropleth": [
           {
            "colorbar": {
             "outlinewidth": 1,
             "tickcolor": "rgb(36,36,36)",
             "ticks": "outside"
            },
            "type": "choropleth"
           }
          ],
          "contour": [
           {
            "colorbar": {
             "outlinewidth": 1,
             "tickcolor": "rgb(36,36,36)",
             "ticks": "outside"
            },
            "colorscale": [
             [
              0,
              "#440154"
             ],
             [
              0.1111111111111111,
              "#482878"
             ],
             [
              0.2222222222222222,
              "#3e4989"
             ],
             [
              0.3333333333333333,
              "#31688e"
             ],
             [
              0.4444444444444444,
              "#26828e"
             ],
             [
              0.5555555555555556,
              "#1f9e89"
             ],
             [
              0.6666666666666666,
              "#35b779"
             ],
             [
              0.7777777777777778,
              "#6ece58"
             ],
             [
              0.8888888888888888,
              "#b5de2b"
             ],
             [
              1,
              "#fde725"
             ]
            ],
            "type": "contour"
           }
          ],
          "contourcarpet": [
           {
            "colorbar": {
             "outlinewidth": 1,
             "tickcolor": "rgb(36,36,36)",
             "ticks": "outside"
            },
            "type": "contourcarpet"
           }
          ],
          "heatmap": [
           {
            "colorbar": {
             "outlinewidth": 1,
             "tickcolor": "rgb(36,36,36)",
             "ticks": "outside"
            },
            "colorscale": [
             [
              0,
              "#440154"
             ],
             [
              0.1111111111111111,
              "#482878"
             ],
             [
              0.2222222222222222,
              "#3e4989"
             ],
             [
              0.3333333333333333,
              "#31688e"
             ],
             [
              0.4444444444444444,
              "#26828e"
             ],
             [
              0.5555555555555556,
              "#1f9e89"
             ],
             [
              0.6666666666666666,
              "#35b779"
             ],
             [
              0.7777777777777778,
              "#6ece58"
             ],
             [
              0.8888888888888888,
              "#b5de2b"
             ],
             [
              1,
              "#fde725"
             ]
            ],
            "type": "heatmap"
           }
          ],
          "heatmapgl": [
           {
            "colorbar": {
             "outlinewidth": 1,
             "tickcolor": "rgb(36,36,36)",
             "ticks": "outside"
            },
            "colorscale": [
             [
              0,
              "#440154"
             ],
             [
              0.1111111111111111,
              "#482878"
             ],
             [
              0.2222222222222222,
              "#3e4989"
             ],
             [
              0.3333333333333333,
              "#31688e"
             ],
             [
              0.4444444444444444,
              "#26828e"
             ],
             [
              0.5555555555555556,
              "#1f9e89"
             ],
             [
              0.6666666666666666,
              "#35b779"
             ],
             [
              0.7777777777777778,
              "#6ece58"
             ],
             [
              0.8888888888888888,
              "#b5de2b"
             ],
             [
              1,
              "#fde725"
             ]
            ],
            "type": "heatmapgl"
           }
          ],
          "histogram": [
           {
            "marker": {
             "line": {
              "color": "white",
              "width": 0.6
             }
            },
            "type": "histogram"
           }
          ],
          "histogram2d": [
           {
            "colorbar": {
             "outlinewidth": 1,
             "tickcolor": "rgb(36,36,36)",
             "ticks": "outside"
            },
            "colorscale": [
             [
              0,
              "#440154"
             ],
             [
              0.1111111111111111,
              "#482878"
             ],
             [
              0.2222222222222222,
              "#3e4989"
             ],
             [
              0.3333333333333333,
              "#31688e"
             ],
             [
              0.4444444444444444,
              "#26828e"
             ],
             [
              0.5555555555555556,
              "#1f9e89"
             ],
             [
              0.6666666666666666,
              "#35b779"
             ],
             [
              0.7777777777777778,
              "#6ece58"
             ],
             [
              0.8888888888888888,
              "#b5de2b"
             ],
             [
              1,
              "#fde725"
             ]
            ],
            "type": "histogram2d"
           }
          ],
          "histogram2dcontour": [
           {
            "colorbar": {
             "outlinewidth": 1,
             "tickcolor": "rgb(36,36,36)",
             "ticks": "outside"
            },
            "colorscale": [
             [
              0,
              "#440154"
             ],
             [
              0.1111111111111111,
              "#482878"
             ],
             [
              0.2222222222222222,
              "#3e4989"
             ],
             [
              0.3333333333333333,
              "#31688e"
             ],
             [
              0.4444444444444444,
              "#26828e"
             ],
             [
              0.5555555555555556,
              "#1f9e89"
             ],
             [
              0.6666666666666666,
              "#35b779"
             ],
             [
              0.7777777777777778,
              "#6ece58"
             ],
             [
              0.8888888888888888,
              "#b5de2b"
             ],
             [
              1,
              "#fde725"
             ]
            ],
            "type": "histogram2dcontour"
           }
          ],
          "mesh3d": [
           {
            "colorbar": {
             "outlinewidth": 1,
             "tickcolor": "rgb(36,36,36)",
             "ticks": "outside"
            },
            "type": "mesh3d"
           }
          ],
          "parcoords": [
           {
            "line": {
             "colorbar": {
              "outlinewidth": 1,
              "tickcolor": "rgb(36,36,36)",
              "ticks": "outside"
             }
            },
            "type": "parcoords"
           }
          ],
          "pie": [
           {
            "automargin": true,
            "type": "pie"
           }
          ],
          "scatter": [
           {
            "fillpattern": {
             "fillmode": "overlay",
             "size": 10,
             "solidity": 0.2
            },
            "type": "scatter"
           }
          ],
          "scatter3d": [
           {
            "line": {
             "colorbar": {
              "outlinewidth": 1,
              "tickcolor": "rgb(36,36,36)",
              "ticks": "outside"
             }
            },
            "marker": {
             "colorbar": {
              "outlinewidth": 1,
              "tickcolor": "rgb(36,36,36)",
              "ticks": "outside"
             }
            },
            "type": "scatter3d"
           }
          ],
          "scattercarpet": [
           {
            "marker": {
             "colorbar": {
              "outlinewidth": 1,
              "tickcolor": "rgb(36,36,36)",
              "ticks": "outside"
             }
            },
            "type": "scattercarpet"
           }
          ],
          "scattergeo": [
           {
            "marker": {
             "colorbar": {
              "outlinewidth": 1,
              "tickcolor": "rgb(36,36,36)",
              "ticks": "outside"
             }
            },
            "type": "scattergeo"
           }
          ],
          "scattergl": [
           {
            "marker": {
             "colorbar": {
              "outlinewidth": 1,
              "tickcolor": "rgb(36,36,36)",
              "ticks": "outside"
             }
            },
            "type": "scattergl"
           }
          ],
          "scattermapbox": [
           {
            "marker": {
             "colorbar": {
              "outlinewidth": 1,
              "tickcolor": "rgb(36,36,36)",
              "ticks": "outside"
             }
            },
            "type": "scattermapbox"
           }
          ],
          "scatterpolar": [
           {
            "marker": {
             "colorbar": {
              "outlinewidth": 1,
              "tickcolor": "rgb(36,36,36)",
              "ticks": "outside"
             }
            },
            "type": "scatterpolar"
           }
          ],
          "scatterpolargl": [
           {
            "marker": {
             "colorbar": {
              "outlinewidth": 1,
              "tickcolor": "rgb(36,36,36)",
              "ticks": "outside"
             }
            },
            "type": "scatterpolargl"
           }
          ],
          "scatterternary": [
           {
            "marker": {
             "colorbar": {
              "outlinewidth": 1,
              "tickcolor": "rgb(36,36,36)",
              "ticks": "outside"
             }
            },
            "type": "scatterternary"
           }
          ],
          "surface": [
           {
            "colorbar": {
             "outlinewidth": 1,
             "tickcolor": "rgb(36,36,36)",
             "ticks": "outside"
            },
            "colorscale": [
             [
              0,
              "#440154"
             ],
             [
              0.1111111111111111,
              "#482878"
             ],
             [
              0.2222222222222222,
              "#3e4989"
             ],
             [
              0.3333333333333333,
              "#31688e"
             ],
             [
              0.4444444444444444,
              "#26828e"
             ],
             [
              0.5555555555555556,
              "#1f9e89"
             ],
             [
              0.6666666666666666,
              "#35b779"
             ],
             [
              0.7777777777777778,
              "#6ece58"
             ],
             [
              0.8888888888888888,
              "#b5de2b"
             ],
             [
              1,
              "#fde725"
             ]
            ],
            "type": "surface"
           }
          ],
          "table": [
           {
            "cells": {
             "fill": {
              "color": "rgb(237,237,237)"
             },
             "line": {
              "color": "white"
             }
            },
            "header": {
             "fill": {
              "color": "rgb(217,217,217)"
             },
             "line": {
              "color": "white"
             }
            },
            "type": "table"
           }
          ]
         },
         "layout": {
          "annotationdefaults": {
           "arrowhead": 0,
           "arrowwidth": 1
          },
          "autotypenumbers": "strict",
          "coloraxis": {
           "colorbar": {
            "outlinewidth": 1,
            "tickcolor": "rgb(36,36,36)",
            "ticks": "outside"
           }
          },
          "colorscale": {
           "diverging": [
            [
             0,
             "rgb(103,0,31)"
            ],
            [
             0.1,
             "rgb(178,24,43)"
            ],
            [
             0.2,
             "rgb(214,96,77)"
            ],
            [
             0.3,
             "rgb(244,165,130)"
            ],
            [
             0.4,
             "rgb(253,219,199)"
            ],
            [
             0.5,
             "rgb(247,247,247)"
            ],
            [
             0.6,
             "rgb(209,229,240)"
            ],
            [
             0.7,
             "rgb(146,197,222)"
            ],
            [
             0.8,
             "rgb(67,147,195)"
            ],
            [
             0.9,
             "rgb(33,102,172)"
            ],
            [
             1,
             "rgb(5,48,97)"
            ]
           ],
           "sequential": [
            [
             0,
             "#440154"
            ],
            [
             0.1111111111111111,
             "#482878"
            ],
            [
             0.2222222222222222,
             "#3e4989"
            ],
            [
             0.3333333333333333,
             "#31688e"
            ],
            [
             0.4444444444444444,
             "#26828e"
            ],
            [
             0.5555555555555556,
             "#1f9e89"
            ],
            [
             0.6666666666666666,
             "#35b779"
            ],
            [
             0.7777777777777778,
             "#6ece58"
            ],
            [
             0.8888888888888888,
             "#b5de2b"
            ],
            [
             1,
             "#fde725"
            ]
           ],
           "sequentialminus": [
            [
             0,
             "#440154"
            ],
            [
             0.1111111111111111,
             "#482878"
            ],
            [
             0.2222222222222222,
             "#3e4989"
            ],
            [
             0.3333333333333333,
             "#31688e"
            ],
            [
             0.4444444444444444,
             "#26828e"
            ],
            [
             0.5555555555555556,
             "#1f9e89"
            ],
            [
             0.6666666666666666,
             "#35b779"
            ],
            [
             0.7777777777777778,
             "#6ece58"
            ],
            [
             0.8888888888888888,
             "#b5de2b"
            ],
            [
             1,
             "#fde725"
            ]
           ]
          },
          "colorway": [
           "#1F77B4",
           "#FF7F0E",
           "#2CA02C",
           "#D62728",
           "#9467BD",
           "#8C564B",
           "#E377C2",
           "#7F7F7F",
           "#BCBD22",
           "#17BECF"
          ],
          "font": {
           "color": "rgb(36,36,36)"
          },
          "geo": {
           "bgcolor": "white",
           "lakecolor": "white",
           "landcolor": "white",
           "showlakes": true,
           "showland": true,
           "subunitcolor": "white"
          },
          "hoverlabel": {
           "align": "left"
          },
          "hovermode": "closest",
          "mapbox": {
           "style": "light"
          },
          "paper_bgcolor": "white",
          "plot_bgcolor": "white",
          "polar": {
           "angularaxis": {
            "gridcolor": "rgb(232,232,232)",
            "linecolor": "rgb(36,36,36)",
            "showgrid": false,
            "showline": true,
            "ticks": "outside"
           },
           "bgcolor": "white",
           "radialaxis": {
            "gridcolor": "rgb(232,232,232)",
            "linecolor": "rgb(36,36,36)",
            "showgrid": false,
            "showline": true,
            "ticks": "outside"
           }
          },
          "scene": {
           "xaxis": {
            "backgroundcolor": "white",
            "gridcolor": "rgb(232,232,232)",
            "gridwidth": 2,
            "linecolor": "rgb(36,36,36)",
            "showbackground": true,
            "showgrid": false,
            "showline": true,
            "ticks": "outside",
            "zeroline": false,
            "zerolinecolor": "rgb(36,36,36)"
           },
           "yaxis": {
            "backgroundcolor": "white",
            "gridcolor": "rgb(232,232,232)",
            "gridwidth": 2,
            "linecolor": "rgb(36,36,36)",
            "showbackground": true,
            "showgrid": false,
            "showline": true,
            "ticks": "outside",
            "zeroline": false,
            "zerolinecolor": "rgb(36,36,36)"
           },
           "zaxis": {
            "backgroundcolor": "white",
            "gridcolor": "rgb(232,232,232)",
            "gridwidth": 2,
            "linecolor": "rgb(36,36,36)",
            "showbackground": true,
            "showgrid": false,
            "showline": true,
            "ticks": "outside",
            "zeroline": false,
            "zerolinecolor": "rgb(36,36,36)"
           }
          },
          "shapedefaults": {
           "fillcolor": "black",
           "line": {
            "width": 0
           },
           "opacity": 0.3
          },
          "ternary": {
           "aaxis": {
            "gridcolor": "rgb(232,232,232)",
            "linecolor": "rgb(36,36,36)",
            "showgrid": false,
            "showline": true,
            "ticks": "outside"
           },
           "baxis": {
            "gridcolor": "rgb(232,232,232)",
            "linecolor": "rgb(36,36,36)",
            "showgrid": false,
            "showline": true,
            "ticks": "outside"
           },
           "bgcolor": "white",
           "caxis": {
            "gridcolor": "rgb(232,232,232)",
            "linecolor": "rgb(36,36,36)",
            "showgrid": false,
            "showline": true,
            "ticks": "outside"
           }
          },
          "title": {
           "x": 0.05
          },
          "xaxis": {
           "automargin": true,
           "gridcolor": "rgb(232,232,232)",
           "linecolor": "rgb(36,36,36)",
           "showgrid": false,
           "showline": true,
           "ticks": "outside",
           "title": {
            "standoff": 15
           },
           "zeroline": false,
           "zerolinecolor": "rgb(36,36,36)"
          },
          "yaxis": {
           "automargin": true,
           "gridcolor": "rgb(232,232,232)",
           "linecolor": "rgb(36,36,36)",
           "showgrid": false,
           "showline": true,
           "ticks": "outside",
           "title": {
            "standoff": 15
           },
           "zeroline": false,
           "zerolinecolor": "rgb(36,36,36)"
          }
         }
        },
        "title": {
         "text": "Number of Unique Stores by Product （商店的数量）"
        },
        "updatemenus": [
         {
          "buttons": [
           {
            "args": [
             {
              "visible": [
               true,
               false
              ]
             }
            ],
            "label": "All Products",
            "method": "update"
           },
           {
            "args": [
             {
              "visible": [
               false,
               true
              ]
             }
            ],
            "label": "Products with Sales",
            "method": "update"
           }
          ],
          "direction": "down",
          "pad": {
           "r": 2,
           "t": 12
          },
          "showactive": true,
          "x": 0,
          "xanchor": "left",
          "y": 1.3,
          "yanchor": "top"
         }
        ],
        "xaxis": {
         "title": {
          "text": "Product Name"
         }
        },
        "yaxis": {
         "title": {
          "text": "Number of Unique Stores"
         }
        }
       }
      }
     },
     "metadata": {},
     "output_type": "display_data"
    },
    {
     "data": {
      "application/vnd.plotly.v1+json": {
       "config": {
        "plotlyServerURL": "https://plot.ly"
       },
       "data": [
        {
         "name": "Percentage",
         "text": [
          0.8571428571428571,
          0.6666666666666666,
          0.6438356164383562,
          0.6349206349206349,
          0.5813953488372093,
          0.5813953488372093,
          0.5531914893617021,
          0.5203252032520326,
          0.5,
          0.5,
          0.3983739837398374,
          0.38461538461538464,
          0.3684210526315789
         ],
         "textposition": "auto",
         "texttemplate": "%{text:.2f}",
         "type": "bar",
         "x": [
          "chinese washi tape (中国和纸胶带)",
          "chinese mid autumn gift sets (中秋节礼品套装)",
          "chinese art stickers (中国艺术贴纸)",
          "brushes and calligraphy tools (笔和书法工具)",
          "chinese bookmarks (中国书签)",
          "name seals (印章)",
          "bead bracelets and necklaces (珠子手链和项链)",
          "paper lanterns (纸灯笼)",
          "calligraphy prints (书法印刷品)",
          "chinese magnets (中国冰箱贴)",
          "chinese pottery (中国陶器)",
          "chinese incense (中国香)",
          "chinese bamboo art (中国竹艺)"
         ],
         "y": [
          0.8571428571428571,
          0.6666666666666666,
          0.6438356164383562,
          0.6349206349206349,
          0.5813953488372093,
          0.5813953488372093,
          0.5531914893617021,
          0.5203252032520326,
          0.5,
          0.5,
          0.3983739837398374,
          0.38461538461538464,
          0.3684210526315789
         ]
        }
       ],
       "layout": {
        "template": {
         "data": {
          "bar": [
           {
            "error_x": {
             "color": "rgb(36,36,36)"
            },
            "error_y": {
             "color": "rgb(36,36,36)"
            },
            "marker": {
             "line": {
              "color": "white",
              "width": 0.5
             },
             "pattern": {
              "fillmode": "overlay",
              "size": 10,
              "solidity": 0.2
             }
            },
            "type": "bar"
           }
          ],
          "barpolar": [
           {
            "marker": {
             "line": {
              "color": "white",
              "width": 0.5
             },
             "pattern": {
              "fillmode": "overlay",
              "size": 10,
              "solidity": 0.2
             }
            },
            "type": "barpolar"
           }
          ],
          "carpet": [
           {
            "aaxis": {
             "endlinecolor": "rgb(36,36,36)",
             "gridcolor": "white",
             "linecolor": "white",
             "minorgridcolor": "white",
             "startlinecolor": "rgb(36,36,36)"
            },
            "baxis": {
             "endlinecolor": "rgb(36,36,36)",
             "gridcolor": "white",
             "linecolor": "white",
             "minorgridcolor": "white",
             "startlinecolor": "rgb(36,36,36)"
            },
            "type": "carpet"
           }
          ],
          "choropleth": [
           {
            "colorbar": {
             "outlinewidth": 1,
             "tickcolor": "rgb(36,36,36)",
             "ticks": "outside"
            },
            "type": "choropleth"
           }
          ],
          "contour": [
           {
            "colorbar": {
             "outlinewidth": 1,
             "tickcolor": "rgb(36,36,36)",
             "ticks": "outside"
            },
            "colorscale": [
             [
              0,
              "#440154"
             ],
             [
              0.1111111111111111,
              "#482878"
             ],
             [
              0.2222222222222222,
              "#3e4989"
             ],
             [
              0.3333333333333333,
              "#31688e"
             ],
             [
              0.4444444444444444,
              "#26828e"
             ],
             [
              0.5555555555555556,
              "#1f9e89"
             ],
             [
              0.6666666666666666,
              "#35b779"
             ],
             [
              0.7777777777777778,
              "#6ece58"
             ],
             [
              0.8888888888888888,
              "#b5de2b"
             ],
             [
              1,
              "#fde725"
             ]
            ],
            "type": "contour"
           }
          ],
          "contourcarpet": [
           {
            "colorbar": {
             "outlinewidth": 1,
             "tickcolor": "rgb(36,36,36)",
             "ticks": "outside"
            },
            "type": "contourcarpet"
           }
          ],
          "heatmap": [
           {
            "colorbar": {
             "outlinewidth": 1,
             "tickcolor": "rgb(36,36,36)",
             "ticks": "outside"
            },
            "colorscale": [
             [
              0,
              "#440154"
             ],
             [
              0.1111111111111111,
              "#482878"
             ],
             [
              0.2222222222222222,
              "#3e4989"
             ],
             [
              0.3333333333333333,
              "#31688e"
             ],
             [
              0.4444444444444444,
              "#26828e"
             ],
             [
              0.5555555555555556,
              "#1f9e89"
             ],
             [
              0.6666666666666666,
              "#35b779"
             ],
             [
              0.7777777777777778,
              "#6ece58"
             ],
             [
              0.8888888888888888,
              "#b5de2b"
             ],
             [
              1,
              "#fde725"
             ]
            ],
            "type": "heatmap"
           }
          ],
          "heatmapgl": [
           {
            "colorbar": {
             "outlinewidth": 1,
             "tickcolor": "rgb(36,36,36)",
             "ticks": "outside"
            },
            "colorscale": [
             [
              0,
              "#440154"
             ],
             [
              0.1111111111111111,
              "#482878"
             ],
             [
              0.2222222222222222,
              "#3e4989"
             ],
             [
              0.3333333333333333,
              "#31688e"
             ],
             [
              0.4444444444444444,
              "#26828e"
             ],
             [
              0.5555555555555556,
              "#1f9e89"
             ],
             [
              0.6666666666666666,
              "#35b779"
             ],
             [
              0.7777777777777778,
              "#6ece58"
             ],
             [
              0.8888888888888888,
              "#b5de2b"
             ],
             [
              1,
              "#fde725"
             ]
            ],
            "type": "heatmapgl"
           }
          ],
          "histogram": [
           {
            "marker": {
             "line": {
              "color": "white",
              "width": 0.6
             }
            },
            "type": "histogram"
           }
          ],
          "histogram2d": [
           {
            "colorbar": {
             "outlinewidth": 1,
             "tickcolor": "rgb(36,36,36)",
             "ticks": "outside"
            },
            "colorscale": [
             [
              0,
              "#440154"
             ],
             [
              0.1111111111111111,
              "#482878"
             ],
             [
              0.2222222222222222,
              "#3e4989"
             ],
             [
              0.3333333333333333,
              "#31688e"
             ],
             [
              0.4444444444444444,
              "#26828e"
             ],
             [
              0.5555555555555556,
              "#1f9e89"
             ],
             [
              0.6666666666666666,
              "#35b779"
             ],
             [
              0.7777777777777778,
              "#6ece58"
             ],
             [
              0.8888888888888888,
              "#b5de2b"
             ],
             [
              1,
              "#fde725"
             ]
            ],
            "type": "histogram2d"
           }
          ],
          "histogram2dcontour": [
           {
            "colorbar": {
             "outlinewidth": 1,
             "tickcolor": "rgb(36,36,36)",
             "ticks": "outside"
            },
            "colorscale": [
             [
              0,
              "#440154"
             ],
             [
              0.1111111111111111,
              "#482878"
             ],
             [
              0.2222222222222222,
              "#3e4989"
             ],
             [
              0.3333333333333333,
              "#31688e"
             ],
             [
              0.4444444444444444,
              "#26828e"
             ],
             [
              0.5555555555555556,
              "#1f9e89"
             ],
             [
              0.6666666666666666,
              "#35b779"
             ],
             [
              0.7777777777777778,
              "#6ece58"
             ],
             [
              0.8888888888888888,
              "#b5de2b"
             ],
             [
              1,
              "#fde725"
             ]
            ],
            "type": "histogram2dcontour"
           }
          ],
          "mesh3d": [
           {
            "colorbar": {
             "outlinewidth": 1,
             "tickcolor": "rgb(36,36,36)",
             "ticks": "outside"
            },
            "type": "mesh3d"
           }
          ],
          "parcoords": [
           {
            "line": {
             "colorbar": {
              "outlinewidth": 1,
              "tickcolor": "rgb(36,36,36)",
              "ticks": "outside"
             }
            },
            "type": "parcoords"
           }
          ],
          "pie": [
           {
            "automargin": true,
            "type": "pie"
           }
          ],
          "scatter": [
           {
            "fillpattern": {
             "fillmode": "overlay",
             "size": 10,
             "solidity": 0.2
            },
            "type": "scatter"
           }
          ],
          "scatter3d": [
           {
            "line": {
             "colorbar": {
              "outlinewidth": 1,
              "tickcolor": "rgb(36,36,36)",
              "ticks": "outside"
             }
            },
            "marker": {
             "colorbar": {
              "outlinewidth": 1,
              "tickcolor": "rgb(36,36,36)",
              "ticks": "outside"
             }
            },
            "type": "scatter3d"
           }
          ],
          "scattercarpet": [
           {
            "marker": {
             "colorbar": {
              "outlinewidth": 1,
              "tickcolor": "rgb(36,36,36)",
              "ticks": "outside"
             }
            },
            "type": "scattercarpet"
           }
          ],
          "scattergeo": [
           {
            "marker": {
             "colorbar": {
              "outlinewidth": 1,
              "tickcolor": "rgb(36,36,36)",
              "ticks": "outside"
             }
            },
            "type": "scattergeo"
           }
          ],
          "scattergl": [
           {
            "marker": {
             "colorbar": {
              "outlinewidth": 1,
              "tickcolor": "rgb(36,36,36)",
              "ticks": "outside"
             }
            },
            "type": "scattergl"
           }
          ],
          "scattermapbox": [
           {
            "marker": {
             "colorbar": {
              "outlinewidth": 1,
              "tickcolor": "rgb(36,36,36)",
              "ticks": "outside"
             }
            },
            "type": "scattermapbox"
           }
          ],
          "scatterpolar": [
           {
            "marker": {
             "colorbar": {
              "outlinewidth": 1,
              "tickcolor": "rgb(36,36,36)",
              "ticks": "outside"
             }
            },
            "type": "scatterpolar"
           }
          ],
          "scatterpolargl": [
           {
            "marker": {
             "colorbar": {
              "outlinewidth": 1,
              "tickcolor": "rgb(36,36,36)",
              "ticks": "outside"
             }
            },
            "type": "scatterpolargl"
           }
          ],
          "scatterternary": [
           {
            "marker": {
             "colorbar": {
              "outlinewidth": 1,
              "tickcolor": "rgb(36,36,36)",
              "ticks": "outside"
             }
            },
            "type": "scatterternary"
           }
          ],
          "surface": [
           {
            "colorbar": {
             "outlinewidth": 1,
             "tickcolor": "rgb(36,36,36)",
             "ticks": "outside"
            },
            "colorscale": [
             [
              0,
              "#440154"
             ],
             [
              0.1111111111111111,
              "#482878"
             ],
             [
              0.2222222222222222,
              "#3e4989"
             ],
             [
              0.3333333333333333,
              "#31688e"
             ],
             [
              0.4444444444444444,
              "#26828e"
             ],
             [
              0.5555555555555556,
              "#1f9e89"
             ],
             [
              0.6666666666666666,
              "#35b779"
             ],
             [
              0.7777777777777778,
              "#6ece58"
             ],
             [
              0.8888888888888888,
              "#b5de2b"
             ],
             [
              1,
              "#fde725"
             ]
            ],
            "type": "surface"
           }
          ],
          "table": [
           {
            "cells": {
             "fill": {
              "color": "rgb(237,237,237)"
             },
             "line": {
              "color": "white"
             }
            },
            "header": {
             "fill": {
              "color": "rgb(217,217,217)"
             },
             "line": {
              "color": "white"
             }
            },
            "type": "table"
           }
          ]
         },
         "layout": {
          "annotationdefaults": {
           "arrowhead": 0,
           "arrowwidth": 1
          },
          "autotypenumbers": "strict",
          "coloraxis": {
           "colorbar": {
            "outlinewidth": 1,
            "tickcolor": "rgb(36,36,36)",
            "ticks": "outside"
           }
          },
          "colorscale": {
           "diverging": [
            [
             0,
             "rgb(103,0,31)"
            ],
            [
             0.1,
             "rgb(178,24,43)"
            ],
            [
             0.2,
             "rgb(214,96,77)"
            ],
            [
             0.3,
             "rgb(244,165,130)"
            ],
            [
             0.4,
             "rgb(253,219,199)"
            ],
            [
             0.5,
             "rgb(247,247,247)"
            ],
            [
             0.6,
             "rgb(209,229,240)"
            ],
            [
             0.7,
             "rgb(146,197,222)"
            ],
            [
             0.8,
             "rgb(67,147,195)"
            ],
            [
             0.9,
             "rgb(33,102,172)"
            ],
            [
             1,
             "rgb(5,48,97)"
            ]
           ],
           "sequential": [
            [
             0,
             "#440154"
            ],
            [
             0.1111111111111111,
             "#482878"
            ],
            [
             0.2222222222222222,
             "#3e4989"
            ],
            [
             0.3333333333333333,
             "#31688e"
            ],
            [
             0.4444444444444444,
             "#26828e"
            ],
            [
             0.5555555555555556,
             "#1f9e89"
            ],
            [
             0.6666666666666666,
             "#35b779"
            ],
            [
             0.7777777777777778,
             "#6ece58"
            ],
            [
             0.8888888888888888,
             "#b5de2b"
            ],
            [
             1,
             "#fde725"
            ]
           ],
           "sequentialminus": [
            [
             0,
             "#440154"
            ],
            [
             0.1111111111111111,
             "#482878"
            ],
            [
             0.2222222222222222,
             "#3e4989"
            ],
            [
             0.3333333333333333,
             "#31688e"
            ],
            [
             0.4444444444444444,
             "#26828e"
            ],
            [
             0.5555555555555556,
             "#1f9e89"
            ],
            [
             0.6666666666666666,
             "#35b779"
            ],
            [
             0.7777777777777778,
             "#6ece58"
            ],
            [
             0.8888888888888888,
             "#b5de2b"
            ],
            [
             1,
             "#fde725"
            ]
           ]
          },
          "colorway": [
           "#1F77B4",
           "#FF7F0E",
           "#2CA02C",
           "#D62728",
           "#9467BD",
           "#8C564B",
           "#E377C2",
           "#7F7F7F",
           "#BCBD22",
           "#17BECF"
          ],
          "font": {
           "color": "rgb(36,36,36)"
          },
          "geo": {
           "bgcolor": "white",
           "lakecolor": "white",
           "landcolor": "white",
           "showlakes": true,
           "showland": true,
           "subunitcolor": "white"
          },
          "hoverlabel": {
           "align": "left"
          },
          "hovermode": "closest",
          "mapbox": {
           "style": "light"
          },
          "paper_bgcolor": "white",
          "plot_bgcolor": "white",
          "polar": {
           "angularaxis": {
            "gridcolor": "rgb(232,232,232)",
            "linecolor": "rgb(36,36,36)",
            "showgrid": false,
            "showline": true,
            "ticks": "outside"
           },
           "bgcolor": "white",
           "radialaxis": {
            "gridcolor": "rgb(232,232,232)",
            "linecolor": "rgb(36,36,36)",
            "showgrid": false,
            "showline": true,
            "ticks": "outside"
           }
          },
          "scene": {
           "xaxis": {
            "backgroundcolor": "white",
            "gridcolor": "rgb(232,232,232)",
            "gridwidth": 2,
            "linecolor": "rgb(36,36,36)",
            "showbackground": true,
            "showgrid": false,
            "showline": true,
            "ticks": "outside",
            "zeroline": false,
            "zerolinecolor": "rgb(36,36,36)"
           },
           "yaxis": {
            "backgroundcolor": "white",
            "gridcolor": "rgb(232,232,232)",
            "gridwidth": 2,
            "linecolor": "rgb(36,36,36)",
            "showbackground": true,
            "showgrid": false,
            "showline": true,
            "ticks": "outside",
            "zeroline": false,
            "zerolinecolor": "rgb(36,36,36)"
           },
           "zaxis": {
            "backgroundcolor": "white",
            "gridcolor": "rgb(232,232,232)",
            "gridwidth": 2,
            "linecolor": "rgb(36,36,36)",
            "showbackground": true,
            "showgrid": false,
            "showline": true,
            "ticks": "outside",
            "zeroline": false,
            "zerolinecolor": "rgb(36,36,36)"
           }
          },
          "shapedefaults": {
           "fillcolor": "black",
           "line": {
            "width": 0
           },
           "opacity": 0.3
          },
          "ternary": {
           "aaxis": {
            "gridcolor": "rgb(232,232,232)",
            "linecolor": "rgb(36,36,36)",
            "showgrid": false,
            "showline": true,
            "ticks": "outside"
           },
           "baxis": {
            "gridcolor": "rgb(232,232,232)",
            "linecolor": "rgb(36,36,36)",
            "showgrid": false,
            "showline": true,
            "ticks": "outside"
           },
           "bgcolor": "white",
           "caxis": {
            "gridcolor": "rgb(232,232,232)",
            "linecolor": "rgb(36,36,36)",
            "showgrid": false,
            "showline": true,
            "ticks": "outside"
           }
          },
          "title": {
           "x": 0.05
          },
          "xaxis": {
           "automargin": true,
           "gridcolor": "rgb(232,232,232)",
           "linecolor": "rgb(36,36,36)",
           "showgrid": false,
           "showline": true,
           "ticks": "outside",
           "title": {
            "standoff": 15
           },
           "zeroline": false,
           "zerolinecolor": "rgb(36,36,36)"
          },
          "yaxis": {
           "automargin": true,
           "gridcolor": "rgb(232,232,232)",
           "linecolor": "rgb(36,36,36)",
           "showgrid": false,
           "showline": true,
           "ticks": "outside",
           "title": {
            "standoff": 15
           },
           "zeroline": false,
           "zerolinecolor": "rgb(36,36,36)"
          }
         }
        },
        "title": {
         "text": "Percentage of Stores with Sales by Product (有销售量的商店的百分比)"
        },
        "xaxis": {
         "title": {
          "text": "Product Name"
         }
        },
        "yaxis": {
         "title": {
          "text": "Percentage of Stores with Sales (%)"
         }
        }
       }
      }
     },
     "metadata": {},
     "output_type": "display_data"
    }
   ],
   "source": [
    "data_list = [\n",
    "    all_product_data.groupby(\"product_name_chinese_name\")[\"Store Name\"]\n",
    "    .nunique()\n",
    "    .reset_index(),\n",
    "    all_product_data[all_product_data[\"has_sales\"] == True]\n",
    "    .groupby(\"product_name_chinese_name\")[\"Store Name\"]\n",
    "    .nunique()\n",
    "    .reset_index(),\n",
    "]\n",
    "\n",
    "\n",
    "# Number of unique stores by product\n",
    "fig1 = plot_bar_chart_plotly_with_dropdown(\n",
    "    data_list,\n",
    "    labels=[\"All Products\", \"Products with Sales\"],\n",
    "    x=\"product_name_chinese_name\",\n",
    "    y=\"Store Name\",\n",
    "    title=\"Number of Unique Stores by Product （商店的数量）\",\n",
    "    x_label=\"Product Name\",\n",
    "    y_label=\"Number of Unique Stores\",\n",
    ")\n",
    "\n",
    "# Percentage of stores with sales by product\n",
    "# This should basically be the division of the two previous plots\n",
    "stores_with_sales = (\n",
    "    all_product_data[all_product_data[\"has_sales\"] == True]\n",
    "    .groupby(\"product_name_chinese_name\")[\"Store Name\"]\n",
    "    .nunique()\n",
    "    .reset_index()\n",
    ")\n",
    "stores = (\n",
    "    all_product_data.groupby(\"product_name_chinese_name\")[\"Store Name\"]\n",
    "    .nunique()\n",
    "    .reset_index()\n",
    ")\n",
    "stores_with_sales = stores_with_sales.merge(stores, on=\"product_name_chinese_name\")\n",
    "stores_with_sales[\"percentage\"] = (\n",
    "    stores_with_sales[\"Store Name_x\"] / stores_with_sales[\"Store Name_y\"]\n",
    ")\n",
    "\n",
    "# Plot the percentage of stores with sales by product\n",
    "fig2 = plot_bar_chart_plotly(\n",
    "    stores_with_sales,\n",
    "    x=\"product_name_chinese_name\",\n",
    "    y=\"percentage\",\n",
    "    title=\"Percentage of Stores with Sales by Product (有销售量的商店的百分比)\",\n",
    "    x_label=\"Product Name\",\n",
    "    y_label=\"Percentage of Stores with Sales (%)\",\n",
    ")\n",
    "\n",
    "fig1.show()\n",
    "fig2.show()"
   ]
  },
  {
   "cell_type": "code",
   "execution_count": 318,
   "metadata": {},
   "outputs": [],
   "source": [
    "def plot_heatmap_plotly(\n",
    "    data,\n",
    "    x,\n",
    "    y,\n",
    "    z,\n",
    "    title=None,\n",
    "    x_label=None,\n",
    "    y_label=None,\n",
    "    log_scale=False,\n",
    "    colorbar_title=None,\n",
    "):\n",
    "    if log_scale:\n",
    "        data[z] = np.log(data[z] + 1)\n",
    "    fig = go.Figure(\n",
    "        data=go.Heatmap(\n",
    "            x=data[x],\n",
    "            y=data[y],\n",
    "            z=data[z],\n",
    "            colorscale=\"blues_r\",\n",
    "            hoverongaps=False,\n",
    "            colorbar_title=colorbar_title,\n",
    "        )\n",
    "    )\n",
    "\n",
    "    fig.update_layout(\n",
    "        title=title,\n",
    "        xaxis_title=x_label,\n",
    "        yaxis_title=y_label,\n",
    "        template=\"plotly_dark\",\n",
    "        width=1000,\n",
    "        height=1000,\n",
    "    )\n",
    "\n",
    "    return fig"
   ]
  },
  {
   "cell_type": "code",
   "execution_count": 319,
   "metadata": {},
   "outputs": [
    {
     "data": {
      "application/vnd.plotly.v1+json": {
       "config": {
        "plotlyServerURL": "https://plot.ly"
       },
       "data": [
        {
         "colorbar": {
          "title": {
           "text": "%"
          }
         },
         "colorscale": [
          [
           0,
           "rgb(8,48,107)"
          ],
          [
           0.125,
           "rgb(8,81,156)"
          ],
          [
           0.25,
           "rgb(33,113,181)"
          ],
          [
           0.375,
           "rgb(66,146,198)"
          ],
          [
           0.5,
           "rgb(107,174,214)"
          ],
          [
           0.625,
           "rgb(158,202,225)"
          ],
          [
           0.75,
           "rgb(198,219,239)"
          ],
          [
           0.875,
           "rgb(222,235,247)"
          ],
          [
           1,
           "rgb(247,251,255)"
          ]
         ],
         "hoverongaps": false,
         "type": "heatmap",
         "x": [
          "bead bracelets and necklaces (珠子手链和项链)",
          "bead bracelets and necklaces (珠子手链和项链)",
          "bead bracelets and necklaces (珠子手链和项链)",
          "bead bracelets and necklaces (珠子手链和项链)",
          "bead bracelets and necklaces (珠子手链和项链)",
          "bead bracelets and necklaces (珠子手链和项链)",
          "bead bracelets and necklaces (珠子手链和项链)",
          "bead bracelets and necklaces (珠子手链和项链)",
          "bead bracelets and necklaces (珠子手链和项链)",
          "bead bracelets and necklaces (珠子手链和项链)",
          "bead bracelets and necklaces (珠子手链和项链)",
          "bead bracelets and necklaces (珠子手链和项链)",
          "bead bracelets and necklaces (珠子手链和项链)",
          "bead bracelets and necklaces (珠子手链和项链)",
          "bead bracelets and necklaces (珠子手链和项链)",
          "bead bracelets and necklaces (珠子手链和项链)",
          "bead bracelets and necklaces (珠子手链和项链)",
          "bead bracelets and necklaces (珠子手链和项链)",
          "bead bracelets and necklaces (珠子手链和项链)",
          "bead bracelets and necklaces (珠子手链和项链)",
          "bead bracelets and necklaces (珠子手链和项链)",
          "bead bracelets and necklaces (珠子手链和项链)",
          "bead bracelets and necklaces (珠子手链和项链)",
          "bead bracelets and necklaces (珠子手链和项链)",
          "bead bracelets and necklaces (珠子手链和项链)",
          "bead bracelets and necklaces (珠子手链和项链)",
          "bead bracelets and necklaces (珠子手链和项链)",
          "bead bracelets and necklaces (珠子手链和项链)",
          "bead bracelets and necklaces (珠子手链和项链)",
          "bead bracelets and necklaces (珠子手链和项链)",
          "bead bracelets and necklaces (珠子手链和项链)",
          "bead bracelets and necklaces (珠子手链和项链)",
          "bead bracelets and necklaces (珠子手链和项链)",
          "bead bracelets and necklaces (珠子手链和项链)",
          "bead bracelets and necklaces (珠子手链和项链)",
          "bead bracelets and necklaces (珠子手链和项链)",
          "bead bracelets and necklaces (珠子手链和项链)",
          "bead bracelets and necklaces (珠子手链和项链)",
          "bead bracelets and necklaces (珠子手链和项链)",
          "bead bracelets and necklaces (珠子手链和项链)",
          "bead bracelets and necklaces (珠子手链和项链)",
          "bead bracelets and necklaces (珠子手链和项链)",
          "bead bracelets and necklaces (珠子手链和项链)",
          "bead bracelets and necklaces (珠子手链和项链)",
          "bead bracelets and necklaces (珠子手链和项链)",
          "bead bracelets and necklaces (珠子手链和项链)",
          "bead bracelets and necklaces (珠子手链和项链)",
          "bead bracelets and necklaces (珠子手链和项链)",
          "bead bracelets and necklaces (珠子手链和项链)",
          "bead bracelets and necklaces (珠子手链和项链)",
          "bead bracelets and necklaces (珠子手链和项链)",
          "bead bracelets and necklaces (珠子手链和项链)",
          "brushes and calligraphy tools (笔和书法工具)",
          "brushes and calligraphy tools (笔和书法工具)",
          "brushes and calligraphy tools (笔和书法工具)",
          "brushes and calligraphy tools (笔和书法工具)",
          "brushes and calligraphy tools (笔和书法工具)",
          "brushes and calligraphy tools (笔和书法工具)",
          "brushes and calligraphy tools (笔和书法工具)",
          "brushes and calligraphy tools (笔和书法工具)",
          "brushes and calligraphy tools (笔和书法工具)",
          "brushes and calligraphy tools (笔和书法工具)",
          "brushes and calligraphy tools (笔和书法工具)",
          "brushes and calligraphy tools (笔和书法工具)",
          "brushes and calligraphy tools (笔和书法工具)",
          "brushes and calligraphy tools (笔和书法工具)",
          "brushes and calligraphy tools (笔和书法工具)",
          "brushes and calligraphy tools (笔和书法工具)",
          "brushes and calligraphy tools (笔和书法工具)",
          "brushes and calligraphy tools (笔和书法工具)",
          "brushes and calligraphy tools (笔和书法工具)",
          "brushes and calligraphy tools (笔和书法工具)",
          "brushes and calligraphy tools (笔和书法工具)",
          "brushes and calligraphy tools (笔和书法工具)",
          "brushes and calligraphy tools (笔和书法工具)",
          "brushes and calligraphy tools (笔和书法工具)",
          "brushes and calligraphy tools (笔和书法工具)",
          "brushes and calligraphy tools (笔和书法工具)",
          "brushes and calligraphy tools (笔和书法工具)",
          "brushes and calligraphy tools (笔和书法工具)",
          "brushes and calligraphy tools (笔和书法工具)",
          "brushes and calligraphy tools (笔和书法工具)",
          "brushes and calligraphy tools (笔和书法工具)",
          "brushes and calligraphy tools (笔和书法工具)",
          "brushes and calligraphy tools (笔和书法工具)",
          "brushes and calligraphy tools (笔和书法工具)",
          "brushes and calligraphy tools (笔和书法工具)",
          "brushes and calligraphy tools (笔和书法工具)",
          "brushes and calligraphy tools (笔和书法工具)",
          "brushes and calligraphy tools (笔和书法工具)",
          "brushes and calligraphy tools (笔和书法工具)",
          "brushes and calligraphy tools (笔和书法工具)",
          "calligraphy prints (书法印刷品)",
          "calligraphy prints (书法印刷品)",
          "calligraphy prints (书法印刷品)",
          "calligraphy prints (书法印刷品)",
          "calligraphy prints (书法印刷品)",
          "calligraphy prints (书法印刷品)",
          "calligraphy prints (书法印刷品)",
          "calligraphy prints (书法印刷品)",
          "calligraphy prints (书法印刷品)",
          "calligraphy prints (书法印刷品)",
          "calligraphy prints (书法印刷品)",
          "calligraphy prints (书法印刷品)",
          "calligraphy prints (书法印刷品)",
          "calligraphy prints (书法印刷品)",
          "calligraphy prints (书法印刷品)",
          "calligraphy prints (书法印刷品)",
          "calligraphy prints (书法印刷品)",
          "calligraphy prints (书法印刷品)",
          "calligraphy prints (书法印刷品)",
          "calligraphy prints (书法印刷品)",
          "calligraphy prints (书法印刷品)",
          "calligraphy prints (书法印刷品)",
          "calligraphy prints (书法印刷品)",
          "calligraphy prints (书法印刷品)",
          "calligraphy prints (书法印刷品)",
          "calligraphy prints (书法印刷品)",
          "calligraphy prints (书法印刷品)",
          "calligraphy prints (书法印刷品)",
          "calligraphy prints (书法印刷品)",
          "calligraphy prints (书法印刷品)",
          "calligraphy prints (书法印刷品)",
          "calligraphy prints (书法印刷品)",
          "calligraphy prints (书法印刷品)",
          "calligraphy prints (书法印刷品)",
          "calligraphy prints (书法印刷品)",
          "calligraphy prints (书法印刷品)",
          "calligraphy prints (书法印刷品)",
          "calligraphy prints (书法印刷品)",
          "calligraphy prints (书法印刷品)",
          "calligraphy prints (书法印刷品)",
          "calligraphy prints (书法印刷品)",
          "calligraphy prints (书法印刷品)",
          "calligraphy prints (书法印刷品)",
          "calligraphy prints (书法印刷品)",
          "calligraphy prints (书法印刷品)",
          "calligraphy prints (书法印刷品)",
          "calligraphy prints (书法印刷品)",
          "calligraphy prints (书法印刷品)",
          "calligraphy prints (书法印刷品)",
          "calligraphy prints (书法印刷品)",
          "calligraphy prints (书法印刷品)",
          "calligraphy prints (书法印刷品)",
          "calligraphy prints (书法印刷品)",
          "calligraphy prints (书法印刷品)",
          "calligraphy prints (书法印刷品)",
          "calligraphy prints (书法印刷品)",
          "calligraphy prints (书法印刷品)",
          "calligraphy prints (书法印刷品)",
          "calligraphy prints (书法印刷品)",
          "calligraphy prints (书法印刷品)",
          "calligraphy prints (书法印刷品)",
          "calligraphy prints (书法印刷品)",
          "calligraphy prints (书法印刷品)",
          "calligraphy prints (书法印刷品)",
          "calligraphy prints (书法印刷品)",
          "calligraphy prints (书法印刷品)",
          "calligraphy prints (书法印刷品)",
          "calligraphy prints (书法印刷品)",
          "calligraphy prints (书法印刷品)",
          "calligraphy prints (书法印刷品)",
          "calligraphy prints (书法印刷品)",
          "calligraphy prints (书法印刷品)",
          "calligraphy prints (书法印刷品)",
          "calligraphy prints (书法印刷品)",
          "calligraphy prints (书法印刷品)",
          "calligraphy prints (书法印刷品)",
          "calligraphy prints (书法印刷品)",
          "calligraphy prints (书法印刷品)",
          "calligraphy prints (书法印刷品)",
          "calligraphy prints (书法印刷品)",
          "calligraphy prints (书法印刷品)",
          "calligraphy prints (书法印刷品)",
          "calligraphy prints (书法印刷品)",
          "calligraphy prints (书法印刷品)",
          "calligraphy prints (书法印刷品)",
          "calligraphy prints (书法印刷品)",
          "calligraphy prints (书法印刷品)",
          "calligraphy prints (书法印刷品)",
          "calligraphy prints (书法印刷品)",
          "calligraphy prints (书法印刷品)",
          "calligraphy prints (书法印刷品)",
          "calligraphy prints (书法印刷品)",
          "calligraphy prints (书法印刷品)",
          "calligraphy prints (书法印刷品)",
          "calligraphy prints (书法印刷品)",
          "calligraphy prints (书法印刷品)",
          "calligraphy prints (书法印刷品)",
          "calligraphy prints (书法印刷品)",
          "calligraphy prints (书法印刷品)",
          "calligraphy prints (书法印刷品)",
          "calligraphy prints (书法印刷品)",
          "calligraphy prints (书法印刷品)",
          "calligraphy prints (书法印刷品)",
          "calligraphy prints (书法印刷品)",
          "calligraphy prints (书法印刷品)",
          "calligraphy prints (书法印刷品)",
          "calligraphy prints (书法印刷品)",
          "calligraphy prints (书法印刷品)",
          "calligraphy prints (书法印刷品)",
          "calligraphy prints (书法印刷品)",
          "calligraphy prints (书法印刷品)",
          "calligraphy prints (书法印刷品)",
          "calligraphy prints (书法印刷品)",
          "calligraphy prints (书法印刷品)",
          "calligraphy prints (书法印刷品)",
          "calligraphy prints (书法印刷品)",
          "calligraphy prints (书法印刷品)",
          "calligraphy prints (书法印刷品)",
          "calligraphy prints (书法印刷品)",
          "calligraphy prints (书法印刷品)",
          "calligraphy prints (书法印刷品)",
          "calligraphy prints (书法印刷品)",
          "calligraphy prints (书法印刷品)",
          "calligraphy prints (书法印刷品)",
          "calligraphy prints (书法印刷品)",
          "calligraphy prints (书法印刷品)",
          "calligraphy prints (书法印刷品)",
          "calligraphy prints (书法印刷品)",
          "calligraphy prints (书法印刷品)",
          "calligraphy prints (书法印刷品)",
          "calligraphy prints (书法印刷品)",
          "calligraphy prints (书法印刷品)",
          "calligraphy prints (书法印刷品)",
          "calligraphy prints (书法印刷品)",
          "calligraphy prints (书法印刷品)",
          "calligraphy prints (书法印刷品)",
          "calligraphy prints (书法印刷品)",
          "calligraphy prints (书法印刷品)",
          "calligraphy prints (书法印刷品)",
          "calligraphy prints (书法印刷品)",
          "calligraphy prints (书法印刷品)",
          "calligraphy prints (书法印刷品)",
          "calligraphy prints (书法印刷品)",
          "calligraphy prints (书法印刷品)",
          "calligraphy prints (书法印刷品)",
          "calligraphy prints (书法印刷品)",
          "calligraphy prints (书法印刷品)",
          "calligraphy prints (书法印刷品)",
          "calligraphy prints (书法印刷品)",
          "calligraphy prints (书法印刷品)",
          "calligraphy prints (书法印刷品)",
          "calligraphy prints (书法印刷品)",
          "calligraphy prints (书法印刷品)",
          "calligraphy prints (书法印刷品)",
          "calligraphy prints (书法印刷品)",
          "calligraphy prints (书法印刷品)",
          "calligraphy prints (书法印刷品)",
          "calligraphy prints (书法印刷品)",
          "calligraphy prints (书法印刷品)",
          "calligraphy prints (书法印刷品)",
          "calligraphy prints (书法印刷品)",
          "calligraphy prints (书法印刷品)",
          "calligraphy prints (书法印刷品)",
          "calligraphy prints (书法印刷品)",
          "calligraphy prints (书法印刷品)",
          "calligraphy prints (书法印刷品)",
          "calligraphy prints (书法印刷品)",
          "calligraphy prints (书法印刷品)",
          "calligraphy prints (书法印刷品)",
          "calligraphy prints (书法印刷品)",
          "calligraphy prints (书法印刷品)",
          "calligraphy prints (书法印刷品)",
          "calligraphy prints (书法印刷品)",
          "calligraphy prints (书法印刷品)",
          "calligraphy prints (书法印刷品)",
          "calligraphy prints (书法印刷品)",
          "calligraphy prints (书法印刷品)",
          "calligraphy prints (书法印刷品)",
          "calligraphy prints (书法印刷品)",
          "calligraphy prints (书法印刷品)",
          "calligraphy prints (书法印刷品)",
          "calligraphy prints (书法印刷品)",
          "calligraphy prints (书法印刷品)",
          "calligraphy prints (书法印刷品)",
          "calligraphy prints (书法印刷品)",
          "chinese art stickers (中国艺术贴纸)",
          "chinese art stickers (中国艺术贴纸)",
          "chinese art stickers (中国艺术贴纸)",
          "chinese art stickers (中国艺术贴纸)",
          "chinese art stickers (中国艺术贴纸)",
          "chinese art stickers (中国艺术贴纸)",
          "chinese art stickers (中国艺术贴纸)",
          "chinese art stickers (中国艺术贴纸)",
          "chinese art stickers (中国艺术贴纸)",
          "chinese art stickers (中国艺术贴纸)",
          "chinese art stickers (中国艺术贴纸)",
          "chinese art stickers (中国艺术贴纸)",
          "chinese art stickers (中国艺术贴纸)",
          "chinese art stickers (中国艺术贴纸)",
          "chinese art stickers (中国艺术贴纸)",
          "chinese art stickers (中国艺术贴纸)",
          "chinese art stickers (中国艺术贴纸)",
          "chinese art stickers (中国艺术贴纸)",
          "chinese art stickers (中国艺术贴纸)",
          "chinese art stickers (中国艺术贴纸)",
          "chinese art stickers (中国艺术贴纸)",
          "chinese art stickers (中国艺术贴纸)",
          "chinese art stickers (中国艺术贴纸)",
          "chinese art stickers (中国艺术贴纸)",
          "chinese art stickers (中国艺术贴纸)",
          "chinese art stickers (中国艺术贴纸)",
          "chinese art stickers (中国艺术贴纸)",
          "chinese art stickers (中国艺术贴纸)",
          "chinese art stickers (中国艺术贴纸)",
          "chinese art stickers (中国艺术贴纸)",
          "chinese art stickers (中国艺术贴纸)",
          "chinese art stickers (中国艺术贴纸)",
          "chinese art stickers (中国艺术贴纸)",
          "chinese art stickers (中国艺术贴纸)",
          "chinese art stickers (中国艺术贴纸)",
          "chinese art stickers (中国艺术贴纸)",
          "chinese art stickers (中国艺术贴纸)",
          "chinese art stickers (中国艺术贴纸)",
          "chinese art stickers (中国艺术贴纸)",
          "chinese art stickers (中国艺术贴纸)",
          "chinese art stickers (中国艺术贴纸)",
          "chinese art stickers (中国艺术贴纸)",
          "chinese art stickers (中国艺术贴纸)",
          "chinese art stickers (中国艺术贴纸)",
          "chinese art stickers (中国艺术贴纸)",
          "chinese art stickers (中国艺术贴纸)",
          "chinese art stickers (中国艺术贴纸)",
          "chinese bamboo art (中国竹艺)",
          "chinese bamboo art (中国竹艺)",
          "chinese bamboo art (中国竹艺)",
          "chinese bamboo art (中国竹艺)",
          "chinese bamboo art (中国竹艺)",
          "chinese bamboo art (中国竹艺)",
          "chinese bamboo art (中国竹艺)",
          "chinese bookmarks (中国书签)",
          "chinese bookmarks (中国书签)",
          "chinese bookmarks (中国书签)",
          "chinese bookmarks (中国书签)",
          "chinese bookmarks (中国书签)",
          "chinese bookmarks (中国书签)",
          "chinese bookmarks (中国书签)",
          "chinese bookmarks (中国书签)",
          "chinese bookmarks (中国书签)",
          "chinese bookmarks (中国书签)",
          "chinese bookmarks (中国书签)",
          "chinese bookmarks (中国书签)",
          "chinese bookmarks (中国书签)",
          "chinese bookmarks (中国书签)",
          "chinese bookmarks (中国书签)",
          "chinese bookmarks (中国书签)",
          "chinese bookmarks (中国书签)",
          "chinese bookmarks (中国书签)",
          "chinese bookmarks (中国书签)",
          "chinese bookmarks (中国书签)",
          "chinese bookmarks (中国书签)",
          "chinese bookmarks (中国书签)",
          "chinese bookmarks (中国书签)",
          "chinese bookmarks (中国书签)",
          "chinese bookmarks (中国书签)",
          "chinese incense (中国香)",
          "chinese incense (中国香)",
          "chinese incense (中国香)",
          "chinese incense (中国香)",
          "chinese incense (中国香)",
          "chinese incense (中国香)",
          "chinese incense (中国香)",
          "chinese incense (中国香)",
          "chinese incense (中国香)",
          "chinese incense (中国香)",
          "chinese incense (中国香)",
          "chinese incense (中国香)",
          "chinese incense (中国香)",
          "chinese incense (中国香)",
          "chinese incense (中国香)",
          "chinese magnets (中国冰箱贴)",
          "chinese magnets (中国冰箱贴)",
          "chinese magnets (中国冰箱贴)",
          "chinese magnets (中国冰箱贴)",
          "chinese magnets (中国冰箱贴)",
          "chinese magnets (中国冰箱贴)",
          "chinese magnets (中国冰箱贴)",
          "chinese magnets (中国冰箱贴)",
          "chinese magnets (中国冰箱贴)",
          "chinese magnets (中国冰箱贴)",
          "chinese magnets (中国冰箱贴)",
          "chinese magnets (中国冰箱贴)",
          "chinese magnets (中国冰箱贴)",
          "chinese mid autumn gift sets (中秋节礼品套装)",
          "chinese mid autumn gift sets (中秋节礼品套装)",
          "chinese mid autumn gift sets (中秋节礼品套装)",
          "chinese mid autumn gift sets (中秋节礼品套装)",
          "chinese mid autumn gift sets (中秋节礼品套装)",
          "chinese mid autumn gift sets (中秋节礼品套装)",
          "chinese mid autumn gift sets (中秋节礼品套装)",
          "chinese mid autumn gift sets (中秋节礼品套装)",
          "chinese mid autumn gift sets (中秋节礼品套装)",
          "chinese mid autumn gift sets (中秋节礼品套装)",
          "chinese mid autumn gift sets (中秋节礼品套装)",
          "chinese mid autumn gift sets (中秋节礼品套装)",
          "chinese pottery (中国陶器)",
          "chinese pottery (中国陶器)",
          "chinese pottery (中国陶器)",
          "chinese pottery (中国陶器)",
          "chinese pottery (中国陶器)",
          "chinese pottery (中国陶器)",
          "chinese pottery (中国陶器)",
          "chinese pottery (中国陶器)",
          "chinese pottery (中国陶器)",
          "chinese pottery (中国陶器)",
          "chinese pottery (中国陶器)",
          "chinese pottery (中国陶器)",
          "chinese pottery (中国陶器)",
          "chinese pottery (中国陶器)",
          "chinese pottery (中国陶器)",
          "chinese pottery (中国陶器)",
          "chinese pottery (中国陶器)",
          "chinese pottery (中国陶器)",
          "chinese pottery (中国陶器)",
          "chinese pottery (中国陶器)",
          "chinese pottery (中国陶器)",
          "chinese pottery (中国陶器)",
          "chinese pottery (中国陶器)",
          "chinese pottery (中国陶器)",
          "chinese pottery (中国陶器)",
          "chinese pottery (中国陶器)",
          "chinese pottery (中国陶器)",
          "chinese pottery (中国陶器)",
          "chinese pottery (中国陶器)",
          "chinese pottery (中国陶器)",
          "chinese pottery (中国陶器)",
          "chinese pottery (中国陶器)",
          "chinese pottery (中国陶器)",
          "chinese pottery (中国陶器)",
          "chinese pottery (中国陶器)",
          "chinese pottery (中国陶器)",
          "chinese pottery (中国陶器)",
          "chinese pottery (中国陶器)",
          "chinese pottery (中国陶器)",
          "chinese pottery (中国陶器)",
          "chinese pottery (中国陶器)",
          "chinese pottery (中国陶器)",
          "chinese pottery (中国陶器)",
          "chinese pottery (中国陶器)",
          "chinese pottery (中国陶器)",
          "chinese pottery (中国陶器)",
          "chinese pottery (中国陶器)",
          "chinese pottery (中国陶器)",
          "chinese pottery (中国陶器)",
          "chinese washi tape (中国和纸胶带)",
          "chinese washi tape (中国和纸胶带)",
          "chinese washi tape (中国和纸胶带)",
          "chinese washi tape (中国和纸胶带)",
          "chinese washi tape (中国和纸胶带)",
          "chinese washi tape (中国和纸胶带)",
          "chinese washi tape (中国和纸胶带)",
          "chinese washi tape (中国和纸胶带)",
          "chinese washi tape (中国和纸胶带)",
          "chinese washi tape (中国和纸胶带)",
          "chinese washi tape (中国和纸胶带)",
          "chinese washi tape (中国和纸胶带)",
          "chinese washi tape (中国和纸胶带)",
          "chinese washi tape (中国和纸胶带)",
          "chinese washi tape (中国和纸胶带)",
          "chinese washi tape (中国和纸胶带)",
          "chinese washi tape (中国和纸胶带)",
          "chinese washi tape (中国和纸胶带)",
          "chinese washi tape (中国和纸胶带)",
          "chinese washi tape (中国和纸胶带)",
          "chinese washi tape (中国和纸胶带)",
          "chinese washi tape (中国和纸胶带)",
          "chinese washi tape (中国和纸胶带)",
          "chinese washi tape (中国和纸胶带)",
          "name seals (印章)",
          "name seals (印章)",
          "name seals (印章)",
          "name seals (印章)",
          "name seals (印章)",
          "name seals (印章)",
          "name seals (印章)",
          "name seals (印章)",
          "name seals (印章)",
          "name seals (印章)",
          "name seals (印章)",
          "name seals (印章)",
          "name seals (印章)",
          "name seals (印章)",
          "name seals (印章)",
          "name seals (印章)",
          "name seals (印章)",
          "name seals (印章)",
          "name seals (印章)",
          "name seals (印章)",
          "name seals (印章)",
          "name seals (印章)",
          "name seals (印章)",
          "name seals (印章)",
          "name seals (印章)",
          "name seals (印章)",
          "name seals (印章)",
          "name seals (印章)",
          "name seals (印章)",
          "name seals (印章)",
          "name seals (印章)",
          "name seals (印章)",
          "name seals (印章)",
          "name seals (印章)",
          "name seals (印章)",
          "name seals (印章)",
          "name seals (印章)",
          "name seals (印章)",
          "name seals (印章)",
          "name seals (印章)",
          "name seals (印章)",
          "name seals (印章)",
          "name seals (印章)",
          "name seals (印章)",
          "name seals (印章)",
          "name seals (印章)",
          "name seals (印章)",
          "name seals (印章)",
          "name seals (印章)",
          "name seals (印章)",
          "paper lanterns (纸灯笼)",
          "paper lanterns (纸灯笼)",
          "paper lanterns (纸灯笼)",
          "paper lanterns (纸灯笼)",
          "paper lanterns (纸灯笼)",
          "paper lanterns (纸灯笼)",
          "paper lanterns (纸灯笼)",
          "paper lanterns (纸灯笼)",
          "paper lanterns (纸灯笼)",
          "paper lanterns (纸灯笼)",
          "paper lanterns (纸灯笼)",
          "paper lanterns (纸灯笼)",
          "paper lanterns (纸灯笼)",
          "paper lanterns (纸灯笼)",
          "paper lanterns (纸灯笼)",
          "paper lanterns (纸灯笼)",
          "paper lanterns (纸灯笼)",
          "paper lanterns (纸灯笼)",
          "paper lanterns (纸灯笼)",
          "paper lanterns (纸灯笼)",
          "paper lanterns (纸灯笼)",
          "paper lanterns (纸灯笼)",
          "paper lanterns (纸灯笼)",
          "paper lanterns (纸灯笼)",
          "paper lanterns (纸灯笼)",
          "paper lanterns (纸灯笼)",
          "paper lanterns (纸灯笼)",
          "paper lanterns (纸灯笼)",
          "paper lanterns (纸灯笼)",
          "paper lanterns (纸灯笼)",
          "paper lanterns (纸灯笼)",
          "paper lanterns (纸灯笼)",
          "paper lanterns (纸灯笼)",
          "paper lanterns (纸灯笼)",
          "paper lanterns (纸灯笼)",
          "paper lanterns (纸灯笼)",
          "paper lanterns (纸灯笼)",
          "paper lanterns (纸灯笼)",
          "paper lanterns (纸灯笼)",
          "paper lanterns (纸灯笼)",
          "paper lanterns (纸灯笼)",
          "paper lanterns (纸灯笼)",
          "paper lanterns (纸灯笼)",
          "paper lanterns (纸灯笼)",
          "paper lanterns (纸灯笼)",
          "paper lanterns (纸灯笼)",
          "paper lanterns (纸灯笼)",
          "paper lanterns (纸灯笼)",
          "paper lanterns (纸灯笼)",
          "paper lanterns (纸灯笼)",
          "paper lanterns (纸灯笼)",
          "paper lanterns (纸灯笼)",
          "paper lanterns (纸灯笼)",
          "paper lanterns (纸灯笼)",
          "paper lanterns (纸灯笼)",
          "paper lanterns (纸灯笼)",
          "paper lanterns (纸灯笼)",
          "paper lanterns (纸灯笼)",
          "paper lanterns (纸灯笼)",
          "paper lanterns (纸灯笼)",
          "paper lanterns (纸灯笼)",
          "paper lanterns (纸灯笼)",
          "paper lanterns (纸灯笼)",
          "paper lanterns (纸灯笼)"
         ],
         "y": [
          "AlchemyByManon",
          "Andyscollection",
          "AnnieCoJewelry",
          "AshleyJaneMilan",
          "Balastone",
          "BellevueRareCoins",
          "ByjjJewelry",
          "CGBeadesSupplies",
          "CharmByCoral",
          "DIYbeads888",
          "DansShopGiftsx",
          "DietzJewels",
          "DiyNotion",
          "FDLJewels",
          "Fernhomeandfashion",
          "FlyinJewelry",
          "GREENDEERbymui",
          "GemsbyShaan",
          "GemstoneCrystalsShop",
          "GypsyRoadStudio",
          "HowOriginalStore",
          "Jadehappy",
          "JadeiteRoom",
          "JadeousJade",
          "JessieBeverlyDesigns",
          "KhorasanRug",
          "MJadeite",
          "Micharzoee",
          "MoonMonstersCave",
          "NeedANeedle",
          "NemaliJewelry",
          "NownowCrafts",
          "OrientalSecretGarden",
          "PetiteLinks",
          "PoshGemz",
          "SBGEMSInd",
          "ShaanFashionz",
          "ShinyBead",
          "ShopTGSglass",
          "TheJadeMerchant",
          "ThrowinStones",
          "UptownPatina",
          "YunBoutique",
          "artrici",
          "blackbeaded",
          "bodhiaccessories",
          "carolbarrettjewelry",
          "diygem",
          "latelierdandrea",
          "myhandcrfs",
          "swampYankee",
          "thisbeadsforyou",
          "AlainTourneurBois",
          "AlyssaVanderPloeg",
          "COWdigitalART",
          "CalligraphyforGod",
          "ChineseLearning",
          "CopingGifts",
          "CrescentMoonCatShop",
          "Elimluv",
          "ExoticMerchantCrafts",
          "Funkystuff13",
          "GoodGoodTools",
          "GoodOldTimeArt",
          "HappyDealz",
          "HubDigital",
          "INKSTON",
          "INKtroduction",
          "Interstateblue",
          "IvandCoDesigns",
          "JackmansArtMaterials",
          "KristaMcCurdyArt",
          "LeadTin",
          "LoriksArtShop",
          "MeeLiaDigital",
          "MetaphoriaDesign",
          "MiniTrezoDesign",
          "MyLittleHand",
          "Orientalartmaterial",
          "Pimpmychair",
          "PuffPrints",
          "SealCuttingArts",
          "SemliCalligraphy",
          "SindyJoyiArts",
          "THYFshop",
          "TOLhandmade",
          "The1608shop",
          "TheGoodLifeVibes",
          "YenzArtHaut",
          "lkfarnsworth",
          "toolsforwriting",
          "yanghaiying",
          "267khuba",
          "88AsianAntiques",
          "AMDigitalPrints",
          "APrints",
          "Acrylicartbyrick",
          "AestheticWallDecor",
          "AgnesSzafranska",
          "AnaisHomeDecor",
          "AnnaVladiArt",
          "AnnaisticArtGiftic",
          "Art4OursCo",
          "ArtPink",
          "ArtforHeartUK",
          "Artworkoria",
          "AsianArtistry",
          "AsianHeritagePrints",
          "AutumnFlowersStudio",
          "BeepArtsAndCrafts",
          "BellissiCasa",
          "BlkInkArt",
          "BmeGallery",
          "BrushmanStudio",
          "BunneePrintFactory",
          "Burgerisad",
          "CHINOISERIEHOMECO",
          "CalligraphyRoom",
          "CalligraphyforGod",
          "ChalmersFantasy",
          "ChiGardensInc",
          "ClassicAntiquePrints",
          "CleanArchives",
          "Colinbrush",
          "ColorfullWorlds",
          "ColoroftheElf",
          "ColorsofSami",
          "CottagelandCo",
          "CouleursDuNil",
          "CuriouslyCreatives",
          "DRIVADE",
          "DaiistStyleArt",
          "DarkSwanArtDesign",
          "DealioHound",
          "DenshoDE",
          "DigitalPrintCharm",
          "DigitalStudio33",
          "DragonDesignn",
          "DschiniBean",
          "EpicArtAcrylic",
          "FightersPosterShop",
          "FilipArtLaboratory",
          "FineArtelier",
          "FineTreeDigitals",
          "FlashBimojiArt",
          "FlowWithTheBrush",
          "FunctionalSculpture",
          "GcafeStudio",
          "GemofArt",
          "GinCreatives",
          "GlendaleGardens",
          "GoodOldTimeArt",
          "GraphickS6250",
          "GreenLifePrints",
          "HeavenlyBrush",
          "HelgeJPG",
          "IGyotaku",
          "IndioPage",
          "InkBrushArt",
          "IslamicartByJaveria",
          "JKSuperstore",
          "JapanCrossBridge",
          "JayDeenPrint",
          "JayLamArt",
          "JemCityStudio",
          "JongiShop",
          "JoyfulArtPrint",
          "JunInspirations",
          "JwxweiPhotography",
          "KRWORLDDESIGN",
          "KoreanArtCalligraphy",
          "KoreanCalligraphyArt",
          "KoreanScribbles",
          "LFyDesignCo",
          "LaPlumeReveuseArt",
          "LanDanGallery",
          "LaylaLumiere",
          "LeafHouseUK",
          "Leechees",
          "LeremyStickFigures",
          "LifeLoLo",
          "LittleGiraffePrints",
          "LuvCreationsDesigns",
          "LyArtCanada",
          "LynxXiaoStudio",
          "MaggieTurnerArts",
          "MakersPrintArt",
          "MannaPrints",
          "MaplePrintables",
          "MariamArabicWallArt",
          "MariusSzmerdt",
          "MateuszOlbrychtART",
          "MediciArtPrints",
          "MetaBooth",
          "MingsDigitalStudio",
          "MiniTrezoDesign",
          "MorningMobi",
          "MsLeechee",
          "NACOandHOOPER",
          "NeoArtEvolution",
          "NeptuneArtPrints",
          "Nourartsy",
          "OkurimonoStudio",
          "OmniLightArtPrint",
          "OpenInkStand",
          "OrientalOutpost",
          "PAINTmatters",
          "PBJournal",
          "PODAThoughts",
          "POEMDesignCo",
          "PanoramaCanvas",
          "PeachyBabyArt",
          "PistisArtStore",
          "PlanetDigitalArt",
          "PurrfectCity",
          "RainbowCanary",
          "RichKoesterArt",
          "RichTeaArt",
          "Ringmasterxred",
          "RobbieBurrito",
          "RosewoodPeony",
          "SUZUYA",
          "SandyHeCube",
          "SasaNatalyaArt",
          "SaturdaySchoolClub",
          "SeasonsSerenity",
          "SewellGraphicArts",
          "ShiriLanzerArt",
          "ShuoArtStudio",
          "SindyJoyiArts",
          "SmittenPaperProps",
          "StickersKingdom",
          "StixDesigns",
          "StrandClothing",
          "StudioPrintly",
          "StudioWuDesign",
          "SuaveDesign",
          "SunnyAndRainyArtShop",
          "SuziGordonDesigns",
          "SweetZenStore",
          "SynthetikSpectra",
          "TDNprintables",
          "TT40Art",
          "The25thPrints",
          "TheBilingualNursery",
          "TheMercuryGallery",
          "TigerHouseArt",
          "TracingGraceArts",
          "TristinaDietzArt",
          "TruthsImages",
          "Tulipions",
          "VeronicaPrints",
          "Vintagecollection888",
          "WabiSabiEssential",
          "WallflowerArtCompany",
          "WayToSamadhi",
          "WestJunkTravelCo",
          "WillaHeart",
          "WonderwiseArt",
          "YiMian",
          "YogaPaper",
          "YourHomeDesignStore",
          "YsssStudio",
          "ZWQArtzen",
          "ZenArtCalligraphy",
          "ZenBrush",
          "ZenDigitalJAPAN",
          "aDazzlingArtBoutique",
          "ataraxiadesignsart",
          "konichiwaprints",
          "kozachekart",
          "matatanARTprints",
          "minouette",
          "printsByChaos",
          "tarantra",
          "theleftyletters",
          "zakkalover",
          "ApsaraLabels",
          "BakaDreams",
          "BloomaMind",
          "BlossomArtAvenue",
          "BlueEggAdventures",
          "BraaunNails",
          "CharmCityCrabs",
          "CoraCreaCrafts",
          "DesignKR",
          "DienamicDecals",
          "DiwataCraft",
          "DreamKidsDecal",
          "FunDesignByMe",
          "GomisGoodies",
          "GrAttitudeGifts",
          "Illustrace",
          "IndiWolfOnline",
          "JaylaPastels",
          "JencArtsy",
          "JoogiStudio",
          "LIVINGOAC",
          "LoveMeetDesignStudio",
          "LovelyStickersArts",
          "MoonApeTees",
          "MyLittleStudioAU",
          "N1MH",
          "NailBeautyLandUSA",
          "OtoroCat",
          "RebeccaWangArt",
          "RyansCritterArt",
          "SeemazArtCollection",
          "SingleStoneStudios",
          "Starcovedesign",
          "StickersKingdom",
          "SupersSkinUA",
          "SwiftlyCrafts",
          "TinySupplyShop",
          "WaWaStationery",
          "WallARTime",
          "WildBeautyGraphics",
          "amrmjp",
          "booktokbookshelf",
          "chuvardina",
          "didistickers",
          "fuchsiascribbles",
          "sentinelsupply",
          "shopkitschykawaii",
          "ArtuoDesigns",
          "AsianArtGifts",
          "Crazitchek",
          "FloatYourBoatDesignz",
          "PiecefulDesign",
          "SuzTreasureHouse",
          "YYShopGoods",
          "AsianArtGifts",
          "BeadCharmJewelry",
          "CarmenLamArt",
          "Culdsiaharisquant",
          "Excited4stickernmore",
          "JupiterMoonJewellery",
          "KanMandlandshop",
          "LiliSeeds",
          "LingPitts",
          "OrientalInc",
          "Ostaranda",
          "PrairiePixelLove",
          "QueenofMirth",
          "Rosenart",
          "Sandakala",
          "ScintillareBySunidhi",
          "SealCuttingArts",
          "Seodaemoon",
          "ShopDerekShop",
          "TT40Art",
          "TheFancyScribbler",
          "jingsbeadingworld",
          "memoriesemporium",
          "misspinkrobin",
          "vintagekosmima",
          "DePlagePhoto",
          "ImperialIncense",
          "IncenseCeremony",
          "IncenseofAsia",
          "JasmineApothecary",
          "KarmaSyndikat",
          "MaragCeltic",
          "Realnaturepure",
          "TreasureHouseNo1",
          "VoltageVintageFinds",
          "YYShopGoods",
          "calumscuriosities",
          "feelingcollections",
          "good1369",
          "vintagiodesign",
          "100daysco",
          "DeniseClemenco",
          "DimensionalDiversion",
          "LigneNoireArt",
          "LilCrocsCustoms",
          "LisaJanesGifts",
          "LucinaK",
          "LydiaJeanArt",
          "NihonDesign",
          "ObnoxiouslyMagnetic",
          "VintageOutlookShop",
          "WildernessInsider",
          "emycatdesign",
          "BestjadeStudio",
          "BlushingHoneyCo",
          "CuddlesAndLearn",
          "GraceCakeUS",
          "GraceYuArtStudio",
          "Linai",
          "LuckyCatTreasure",
          "MyLittleHand",
          "PrintGoGo",
          "SweetsunByJessica",
          "YYfairyland",
          "YingmartShop",
          "33YellowClouds",
          "AlpineStore",
          "ArtsCollectionShop",
          "BlueWhiteCustom",
          "Calibonsai",
          "CalligraphyforGod",
          "ChameiTeaHouse",
          "Chinabluetotnes",
          "CreationM",
          "DayJahView",
          "DelightGemsCreations",
          "DownEastCollectibles",
          "ElysianEarwear",
          "EnikoKovacsDesign",
          "FrammDesign",
          "FrenchAlley",
          "GCHeStore",
          "GaryGermer",
          "GoodiesAndCrafties",
          "Grandchildattic",
          "HalcyonGalleryCo",
          "Ildikoscollection",
          "InkHeartPottery",
          "JewelCreekAntiques",
          "KingTeaMall",
          "LuckiestDuck2",
          "Luckychangantiques",
          "LunaTeaware",
          "MSSCrafts",
          "MellowBreez",
          "MemoryPlus",
          "MtPearlsCollectibles",
          "MusicAndMuse",
          "MyPeriodHomeUK",
          "OrnamentCollection",
          "Peaceofartshongkong",
          "QuirkyAntiquesStore",
          "ReginaGB",
          "SapphireLounge",
          "SecretBelladonna",
          "SirensPotteryTools",
          "StampDesignGifts",
          "Statuesquo",
          "TeaQuarter",
          "TpotsOriental",
          "diyhandicrafts",
          "janetsjewelgarden",
          "ladymariaworld",
          "waterforart",
          "BeakersWorld",
          "BeeCreativeShop",
          "BloomaMind",
          "BrendasPaperParty",
          "CraftSupprise",
          "DIYPaperandwoodcraft",
          "DiwataCraft",
          "Duosel",
          "Etudiaire",
          "FluxCraftsUK",
          "GloriaHomeFurnishing",
          "Journalland",
          "LilLv",
          "MeloncholyCo",
          "MoshiMoshiUK",
          "OktoberTreasures",
          "PurochensArtshop",
          "Simonaspretties",
          "SingleSploot",
          "SolaliaCreations",
          "TapesKingdom",
          "WintertimeCrafts",
          "dailystargaze",
          "zakkalover",
          "1000dou",
          "AnnaVladiArt",
          "AzamiPress",
          "BeachFleaMarket",
          "BlueEyedJewelsTX",
          "CalligraphyforGod",
          "CollectWhb",
          "CollectedInvitations",
          "CopingGifts",
          "CynthiasAttic",
          "DancingLionsBar",
          "ExoticMerchantCrafts",
          "FeistudioArt",
          "HechoDeCorazon",
          "JamielalalaPrint",
          "JapanVintageAntique",
          "JapaneseRubberStamps",
          "JayLamArt",
          "Kraftille",
          "LAHUCHA",
          "LaddStamps",
          "LuckyFlowerShop",
          "LuvjasmineShop",
          "MoreUnusualTheBetter",
          "My40YearCollection",
          "MyLittleHand",
          "NineColorHAN",
          "OBDstudio",
          "OlivaDesignCrafts",
          "Orientalartmaterial",
          "PaperPineTree",
          "PaulsJunkCloset",
          "Pimpmychair",
          "PinkPandaStamps",
          "Purana",
          "RainingParties",
          "RechercheReStore",
          "SalonUber",
          "SealCuttingArts",
          "SemliCalligraphy",
          "SindyJoyiArts",
          "SoSylvie",
          "SomedaySomeplace",
          "TreVincentShop",
          "VintageVarietyStudio",
          "WestsidePrints",
          "WorldofBacara",
          "XustomizedDesign",
          "franklyScarlett",
          "salientstone",
          "33imports",
          "BALIGOOD",
          "BaerDesignStudio",
          "BambooMN",
          "BigDotOfHappiness",
          "BohemiansStudio",
          "CCarterWatercolors",
          "CaliQuiltCo",
          "Chaiv",
          "ChinaTownGiftShop",
          "CpandoShop",
          "CraftedInUSAbyVB",
          "CubicCraftCreations",
          "DECOPOMPOMS",
          "DecoYourParty",
          "Dkjewels",
          "EightStrandsStudio",
          "ElegantSparrows",
          "EpicAIArt",
          "ErikordSupplies",
          "FuntastikPrintables",
          "GinetteBrosseau",
          "HandicraftsUnionCN",
          "HappyPartySupply",
          "InnerUnion",
          "JSEventsAU",
          "JayLamArt",
          "JoyEvents",
          "KecklerDesign",
          "KoelschArtLab",
          "LavenderBeeCreations",
          "LightningBugs",
          "LilLv",
          "LisaMarkleSparkles",
          "LittleStarCraftShop",
          "NoTreesHarmedPrints",
          "PaperlovecraftHK",
          "Pimpmychair",
          "RAcollectives",
          "RoadWorkingGifts",
          "ShreesaikripBoutique",
          "SilkscapeDesign",
          "SpoonflowerHome",
          "SunandSeaSVGs",
          "TIGPEEK",
          "TapesKingdom",
          "TheHouseofHarlequin",
          "TimelessNotion",
          "ToscasBungalow",
          "UniqoooShop",
          "UpUpGraphics",
          "VIWEI",
          "VanillaBlueCreation",
          "Vindeedlamps",
          "YYfairyland",
          "ZendaDesigns",
          "brownskylight",
          "iFavor123",
          "kitschpandastore",
          "macynvintage",
          "mypinkeraser",
          "pinkultra",
          "studiostebbylee",
          "thesilhouettequeenUS"
         ],
         "z": [
          0.0384180790960452,
          0.005649717514124294,
          0.024858757062146894,
          0.0011299435028248588,
          0.015819209039548022,
          0.0011299435028248588,
          0.0022598870056497176,
          0.0022598870056497176,
          0.24519774011299436,
          0.04180790960451977,
          0.003389830508474576,
          0.0011299435028248588,
          0.0022598870056497176,
          0.0011299435028248588,
          0.004519774011299435,
          0.011299435028248588,
          0.0011299435028248588,
          0.0011299435028248588,
          0.0011299435028248588,
          0.0011299435028248588,
          0.007909604519774011,
          0.0011299435028248588,
          0.007909604519774011,
          0.08926553672316384,
          0.08361581920903954,
          0.0011299435028248588,
          0.0022598870056497176,
          0.0011299435028248588,
          0.0022598870056497176,
          0.005649717514124294,
          0.007909604519774011,
          0.10508474576271186,
          0.02937853107344633,
          0.007909604519774011,
          0.0011299435028248588,
          0.0011299435028248588,
          0.005649717514124294,
          0.08700564971751412,
          0.0022598870056497176,
          0.0022598870056497176,
          0.02598870056497175,
          0.005649717514124294,
          0.005649717514124294,
          0.0011299435028248588,
          0.0011299435028248588,
          0.0022598870056497176,
          0.0022598870056497176,
          0.08813559322033898,
          0.004519774011299435,
          0.0011299435028248588,
          0.0011299435028248588,
          0.0022598870056497176,
          0.0005707762557077625,
          0.003424657534246575,
          0.12442922374429223,
          0.07591324200913242,
          0.0045662100456621,
          0.007990867579908675,
          0.007990867579908675,
          0.0045662100456621,
          0.006278538812785388,
          0.00684931506849315,
          0.0005707762557077625,
          0.0028538812785388126,
          0.05136986301369863,
          0.003995433789954338,
          0.003424657534246575,
          0.0005707762557077625,
          0.003424657534246575,
          0.009703196347031963,
          0.005136986301369863,
          0.010844748858447488,
          0.0091324200913242,
          0.0017123287671232876,
          0.009703196347031963,
          0.007420091324200913,
          0.00228310502283105,
          0.1341324200913242,
          0.02682648401826484,
          0.0684931506849315,
          0.046232876712328765,
          0.00228310502283105,
          0.14440639269406394,
          0.1952054794520548,
          0.003995433789954338,
          0.0005707762557077625,
          0.001141552511415525,
          0.001141552511415525,
          0.003995433789954338,
          0.0005707762557077625,
          0.001141552511415525,
          0.005136986301369863,
          0.0006373486297004461,
          0.00015933715742511153,
          0.00015933715742511153,
          0.0014340344168260039,
          0.00015933715742511153,
          0.018961121733588274,
          0.004620777565328234,
          0.018323773103887827,
          0.008922880815806247,
          0.0004780114722753346,
          0.0009560229445506692,
          0.05975143403441682,
          0.0011153601019757808,
          0.0004780114722753346,
          0.00207138304652645,
          0.00031867431485022306,
          0.0041427660930529,
          0.0012746972594008922,
          0.019439133205863608,
          0.00015933715742511153,
          0.0004780114722753346,
          0.0004780114722753346,
          0.00031867431485022306,
          0.0009560229445506692,
          0.0011153601019757808,
          0.00031867431485022306,
          0.10564053537284895,
          0.04732313575525813,
          0.00015933715742511153,
          0.026449968132568516,
          0.005417463352453792,
          0.012746972594008922,
          0.027565328234544297,
          0.0004780114722753346,
          0.00031867431485022306,
          0.00015933715742511153,
          0.0015933715742511153,
          0.00015933715742511153,
          0.0006373486297004461,
          0.00015933715742511153,
          0.00031867431485022306,
          0.00031867431485022306,
          0.00015933715742511153,
          0.00031867431485022306,
          0.0006373486297004461,
          0.00031867431485022306,
          0.00015933715742511153,
          0.0007966857871255577,
          0.0028680688336520078,
          0.00015933715742511153,
          0.00015933715742511153,
          0.0006373486297004461,
          0.0009560229445506692,
          0.00031867431485022306,
          0.003505417463352454,
          0.003027405991077119,
          0.0014340344168260039,
          0.0011153601019757808,
          0.00015933715742511153,
          0.00031867431485022306,
          0.0007966857871255577,
          0.04031230082855322,
          0.00015933715742511153,
          0.0007966857871255577,
          0.0014340344168260039,
          0.014659018483110261,
          0.0025493945188017845,
          0.00015933715742511153,
          0.00031867431485022306,
          0.007966857871255577,
          0.00031867431485022306,
          0.010038240917782026,
          0.0011153601019757808,
          0.0009560229445506692,
          0.017367750159337156,
          0.0041427660930529,
          0.0007966857871255577,
          0.0004780114722753346,
          0.0015933715742511153,
          0.0022307202039515616,
          0.0038240917782026767,
          0.0011153601019757808,
          0.0038240917782026767,
          0.00031867431485022306,
          0.00031867431485022306,
          0.030274059910771194,
          0.01035691523263225,
          0.0009560229445506692,
          0.0006373486297004461,
          0.00031867431485022306,
          0.00031867431485022306,
          0.0012746972594008922,
          0.00031867431485022306,
          0.00031867431485022306,
          0.00015933715742511153,
          0.0004780114722753346,
          0.07568514977692797,
          0.028521351179094965,
          0.00031867431485022306,
          0.0012746972594008922,
          0.00015933715742511153,
          0.002708731676226896,
          0.00031867431485022306,
          0.0006373486297004461,
          0.0038240917782026767,
          0.004620777565328234,
          0.0006373486297004461,
          0.0031867431485022306,
          0.02087316762268961,
          0.00015933715742511153,
          0.011472275334608031,
          0.003983428935627789,
          0.0015933715742511153,
          0.00015933715742511153,
          0.0041427660930529,
          0.015455704270235819,
          0.001752708731676227,
          0.019917144678138942,
          0.007170172084130019,
          0.023422562141491396,
          0.0006373486297004461,
          0.0014340344168260039,
          0.0004780114722753346,
          0.009082217973231358,
          0.0004780114722753346,
          0.0004780114722753346,
          0.0006373486297004461,
          0.0014340344168260039,
          0.00031867431485022306,
          0.00031867431485022306,
          0.0033460803059273425,
          0.00015933715742511153,
          0.0033460803059273425,
          0.0004780114722753346,
          0.0028680688336520078,
          0.024697259400892287,
          0.002390057361376673,
          0.005098789037603569,
          0.005576800509878904,
          0.0014340344168260039,
          0.003027405991077119,
          0.02501593371574251,
          0.0015933715742511153,
          0.00015933715742511153,
          0.0004780114722753346,
          0.0007966857871255577,
          0.0015933715742511153,
          0.0006373486297004461,
          0.00031867431485022306,
          0.0006373486297004461,
          0.00015933715742511153,
          0.0007966857871255577,
          0.0019120458891013384,
          0.0022307202039515616,
          0.0041427660930529,
          0.0004780114722753346,
          0.0006373486297004461,
          0.002708731676226896,
          0.0007966857871255577,
          0.001752708731676227,
          0.0006373486297004461,
          0.00015933715742511153,
          0.008126195028680689,
          0.001752708731676227,
          0.00015933715742511153,
          0.00207138304652645,
          0.0004780114722753346,
          0.0009560229445506692,
          0.0006373486297004461,
          0.0007966857871255577,
          0.00031867431485022306,
          0.01354365838113448,
          0.01864244741873805,
          0.017367750159337156,
          0.0025493945188017845,
          0.0004780114722753346,
          0.0009560229445506692,
          0.0033460803059273425,
          0.00031867431485022306,
          0.0006373486297004461,
          0.0004780114722753346,
          0.016093052899936264,
          0.0019120458891013384,
          0.00015933715742511153,
          0.0041427660930529,
          0.009789156626506024,
          0.007530120481927711,
          0.06927710843373494,
          0.0015060240963855422,
          0.0030120481927710845,
          0.0037650602409638554,
          0.010542168674698794,
          0.015060240963855422,
          0.01355421686746988,
          0.0015060240963855422,
          0.022590361445783132,
          0.009036144578313253,
          0.002259036144578313,
          0.17093373493975902,
          0.002259036144578313,
          0.0030120481927710845,
          0.009036144578313253,
          0.005271084337349397,
          0.0007530120481927711,
          0.008283132530120483,
          0.0015060240963855422,
          0.007530120481927711,
          0.0015060240963855422,
          0.0030120481927710845,
          0.00677710843373494,
          0.0007530120481927711,
          0.006024096385542169,
          0.0037650602409638554,
          0.007530120481927711,
          0.1197289156626506,
          0.012048192771084338,
          0.05271084337349398,
          0.007530120481927711,
          0.22439759036144577,
          0.0007530120481927711,
          0.0030120481927710845,
          0.005271084337349397,
          0.010542168674698794,
          0.016566265060240965,
          0.00677710843373494,
          0.0007530120481927711,
          0.0007530120481927711,
          0.0037650602409638554,
          0.039909638554216864,
          0.0030120481927710845,
          0.08207831325301204,
          0.0030120481927710845,
          0.44047619047619047,
          0.047619047619047616,
          0.14285714285714285,
          0.023809523809523808,
          0.32142857142857145,
          0.011904761904761904,
          0.011904761904761904,
          0.03328290468986384,
          0.01361573373676248,
          0.039334341906202726,
          0.12102874432677761,
          0.02118003025718608,
          0.0045385779122541605,
          0.12254160363086233,
          0.11649016641452345,
          0.0030257186081694403,
          0.0015128593040847202,
          0.02118003025718608,
          0.006051437216338881,
          0.01664145234493192,
          0.006051437216338881,
          0.006051437216338881,
          0.08169440242057488,
          0.037821482602118005,
          0.0015128593040847202,
          0.01664145234493192,
          0.0030257186081694403,
          0.006051437216338881,
          0.11195158850226929,
          0.12405446293494705,
          0.07110438729198185,
          0.01361573373676248,
          0.006993006993006993,
          0.0034965034965034965,
          0.027972027972027972,
          0.03496503496503497,
          0.01048951048951049,
          0.05944055944055944,
          0.006993006993006993,
          0.7132867132867133,
          0.04895104895104895,
          0.0034965034965034965,
          0.04195804195804196,
          0.01048951048951049,
          0.017482517482517484,
          0.0034965034965034965,
          0.01048951048951049,
          0.0076726342710997444,
          0.020460358056265986,
          0.6879795396419437,
          0.0025575447570332483,
          0.0076726342710997444,
          0.017902813299232736,
          0.010230179028132993,
          0.12276214833759591,
          0.0076726342710997444,
          0.03836317135549872,
          0.0076726342710997444,
          0.0025575447570332483,
          0.06649616368286446,
          0.013793103448275862,
          0.003134796238244514,
          0.0018808777429467085,
          0.5623824451410658,
          0.005015673981191223,
          0.025078369905956112,
          0.003761755485893417,
          0.00438871473354232,
          0.006269592476489028,
          0.2746081504702194,
          0.09153605015673981,
          0.008150470219435737,
          0.0005305039787798408,
          0.004244031830238726,
          0.0010610079575596816,
          0.002122015915119363,
          0.23076923076923078,
          0.0015915119363395225,
          0.0005305039787798408,
          0.03607427055702918,
          0.13050397877984085,
          0.007427055702917772,
          0.01220159151193634,
          0.0015915119363395225,
          0.19045092838196287,
          0.023342175066312996,
          0.003713527851458886,
          0.004244031830238726,
          0.0005305039787798408,
          0.0010610079575596816,
          0.0015915119363395225,
          0.009018567639257295,
          0.0010610079575596816,
          0.0005305039787798408,
          0.0010610079575596816,
          0.002652519893899204,
          0.011140583554376658,
          0.0015915119363395225,
          0.020159151193633953,
          0.021750663129973476,
          0.0010610079575596816,
          0.0005305039787798408,
          0.05676392572944297,
          0.0015915119363395225,
          0.0005305039787798408,
          0.0005305039787798408,
          0.0005305039787798408,
          0.0005305039787798408,
          0.002122015915119363,
          0.026525198938992044,
          0.0005305039787798408,
          0.0005305039787798408,
          0.004774535809018567,
          0.01909814323607427,
          0.023342175066312996,
          0.06631299734748011,
          0.002652519893899204,
          0.0010610079575596816,
          0.03129973474801061,
          0.0010610079575596816,
          0.03607427055702918,
          0.024363233665559248,
          0.01107419712070875,
          0.0221483942414175,
          0.01107419712070875,
          0.21926910299003322,
          0.0011074197120708748,
          0.031007751937984496,
          0.16943521594684385,
          0.009966777408637873,
          0.03986710963455149,
          0.042081949058693245,
          0.009966777408637873,
          0.014396456256921373,
          0.0033222591362126247,
          0.028792912513842746,
          0.042081949058693245,
          0.015503875968992248,
          0.0011074197120708748,
          0.0022148394241417496,
          0.012181616832779624,
          0.13399778516057587,
          0.09413067552602436,
          0.0033222591362126247,
          0.05758582502768549,
          0.032280063650829735,
          0.0004546487838145033,
          0.023869061150261422,
          0.0021974691217700993,
          0.003485640675911192,
          0.19731757217549442,
          0.0007577479730241721,
          0.0006061983784193377,
          0.000681973175721755,
          0.0007577479730241721,
          0.03781162385390619,
          0.032431613245434567,
          0.00022732439190725165,
          0.00022732439190725165,
          0.00871410168977798,
          0.0007577479730241721,
          0.006516632568007881,
          0.010305372433128741,
          0.0032583162840039404,
          0.00030309918920966885,
          0.00007577479730241721,
          0.00007577479730241721,
          0.00007577479730241721,
          0.0009092975676290066,
          0.0009850723649314239,
          0.015988482230810033,
          0.00015154959460483443,
          0.00037887398651208605,
          0.004167613851632947,
          0.05266348412517997,
          0.0005304235811169206,
          0.0012881715541410927,
          0.0030309918920966884,
          0.0004546487838145033,
          0.00030309918920966885,
          0.0008335227703265894,
          0.00007577479730241721,
          0.00015154959460483443,
          0.025233007501704933,
          0.2648329165719482,
          0.24111540501629158,
          0.00007577479730241721,
          0.0016670455406531787,
          0.011441994392665,
          0.00022732439190725165,
          0.00007577479730241721,
          0.00681973175721755,
          0.0015154959460483442,
          0.00022732439190725165,
          0.0016670455406531787,
          0.002103049421661409,
          0.0035050823694356818,
          0.01962846126883982,
          0.005257623554153523,
          0.0024535576586049773,
          0.005608131791097091,
          0.0010515247108307045,
          0.005958640028040659,
          0.030143708377146864,
          0.008412197686645636,
          0.0024535576586049773,
          0.0028040658955485456,
          0.030844724851034,
          0.023133543638275498,
          0.44654749386610587,
          0.0010515247108307045,
          0.0003505082369435682,
          0.0010515247108307045,
          0.0003505082369435682,
          0.014370837714686295,
          0.04451454609183316,
          0.0024535576586049773,
          0.011216263582194182,
          0.09603925692253767,
          0.0014020329477742728,
          0.002103049421661409,
          0.0010515247108307045,
          0.00385559060637925,
          0.0003505082369435682,
          0.008061689449702068,
          0.0017525411847178409,
          0.005958640028040659,
          0.002103049421661409,
          0.0010515247108307045,
          0.0003505082369435682,
          0.0010515247108307045,
          0.008412197686645636,
          0.004206098843322818,
          0.0007010164738871364,
          0.0010515247108307045,
          0.0010515247108307045,
          0.0003505082369435682,
          0.009113214160532773,
          0.004206098843322818,
          0.00981423063441991,
          0.03995793901156677,
          0.0010515247108307045,
          0.0010515247108307045,
          0.0003505082369435682,
          0.0003505082369435682,
          0.0028040658955485456,
          0.0035050823694356818,
          0.0007010164738871364,
          0.07080266386260077,
          0.0003505082369435682,
          0.0003505082369435682,
          0.0003505082369435682,
          0.002103049421661409,
          0.035401331931300385,
          0.004907115317209955,
          0.00385559060637925,
          0.0007010164738871364,
          0.0010515247108307045,
          0.0010515247108307045
         ]
        }
       ],
       "layout": {
        "height": 1000,
        "template": {
         "data": {
          "bar": [
           {
            "error_x": {
             "color": "#f2f5fa"
            },
            "error_y": {
             "color": "#f2f5fa"
            },
            "marker": {
             "line": {
              "color": "rgb(17,17,17)",
              "width": 0.5
             },
             "pattern": {
              "fillmode": "overlay",
              "size": 10,
              "solidity": 0.2
             }
            },
            "type": "bar"
           }
          ],
          "barpolar": [
           {
            "marker": {
             "line": {
              "color": "rgb(17,17,17)",
              "width": 0.5
             },
             "pattern": {
              "fillmode": "overlay",
              "size": 10,
              "solidity": 0.2
             }
            },
            "type": "barpolar"
           }
          ],
          "carpet": [
           {
            "aaxis": {
             "endlinecolor": "#A2B1C6",
             "gridcolor": "#506784",
             "linecolor": "#506784",
             "minorgridcolor": "#506784",
             "startlinecolor": "#A2B1C6"
            },
            "baxis": {
             "endlinecolor": "#A2B1C6",
             "gridcolor": "#506784",
             "linecolor": "#506784",
             "minorgridcolor": "#506784",
             "startlinecolor": "#A2B1C6"
            },
            "type": "carpet"
           }
          ],
          "choropleth": [
           {
            "colorbar": {
             "outlinewidth": 0,
             "ticks": ""
            },
            "type": "choropleth"
           }
          ],
          "contour": [
           {
            "colorbar": {
             "outlinewidth": 0,
             "ticks": ""
            },
            "colorscale": [
             [
              0,
              "#0d0887"
             ],
             [
              0.1111111111111111,
              "#46039f"
             ],
             [
              0.2222222222222222,
              "#7201a8"
             ],
             [
              0.3333333333333333,
              "#9c179e"
             ],
             [
              0.4444444444444444,
              "#bd3786"
             ],
             [
              0.5555555555555556,
              "#d8576b"
             ],
             [
              0.6666666666666666,
              "#ed7953"
             ],
             [
              0.7777777777777778,
              "#fb9f3a"
             ],
             [
              0.8888888888888888,
              "#fdca26"
             ],
             [
              1,
              "#f0f921"
             ]
            ],
            "type": "contour"
           }
          ],
          "contourcarpet": [
           {
            "colorbar": {
             "outlinewidth": 0,
             "ticks": ""
            },
            "type": "contourcarpet"
           }
          ],
          "heatmap": [
           {
            "colorbar": {
             "outlinewidth": 0,
             "ticks": ""
            },
            "colorscale": [
             [
              0,
              "#0d0887"
             ],
             [
              0.1111111111111111,
              "#46039f"
             ],
             [
              0.2222222222222222,
              "#7201a8"
             ],
             [
              0.3333333333333333,
              "#9c179e"
             ],
             [
              0.4444444444444444,
              "#bd3786"
             ],
             [
              0.5555555555555556,
              "#d8576b"
             ],
             [
              0.6666666666666666,
              "#ed7953"
             ],
             [
              0.7777777777777778,
              "#fb9f3a"
             ],
             [
              0.8888888888888888,
              "#fdca26"
             ],
             [
              1,
              "#f0f921"
             ]
            ],
            "type": "heatmap"
           }
          ],
          "heatmapgl": [
           {
            "colorbar": {
             "outlinewidth": 0,
             "ticks": ""
            },
            "colorscale": [
             [
              0,
              "#0d0887"
             ],
             [
              0.1111111111111111,
              "#46039f"
             ],
             [
              0.2222222222222222,
              "#7201a8"
             ],
             [
              0.3333333333333333,
              "#9c179e"
             ],
             [
              0.4444444444444444,
              "#bd3786"
             ],
             [
              0.5555555555555556,
              "#d8576b"
             ],
             [
              0.6666666666666666,
              "#ed7953"
             ],
             [
              0.7777777777777778,
              "#fb9f3a"
             ],
             [
              0.8888888888888888,
              "#fdca26"
             ],
             [
              1,
              "#f0f921"
             ]
            ],
            "type": "heatmapgl"
           }
          ],
          "histogram": [
           {
            "marker": {
             "pattern": {
              "fillmode": "overlay",
              "size": 10,
              "solidity": 0.2
             }
            },
            "type": "histogram"
           }
          ],
          "histogram2d": [
           {
            "colorbar": {
             "outlinewidth": 0,
             "ticks": ""
            },
            "colorscale": [
             [
              0,
              "#0d0887"
             ],
             [
              0.1111111111111111,
              "#46039f"
             ],
             [
              0.2222222222222222,
              "#7201a8"
             ],
             [
              0.3333333333333333,
              "#9c179e"
             ],
             [
              0.4444444444444444,
              "#bd3786"
             ],
             [
              0.5555555555555556,
              "#d8576b"
             ],
             [
              0.6666666666666666,
              "#ed7953"
             ],
             [
              0.7777777777777778,
              "#fb9f3a"
             ],
             [
              0.8888888888888888,
              "#fdca26"
             ],
             [
              1,
              "#f0f921"
             ]
            ],
            "type": "histogram2d"
           }
          ],
          "histogram2dcontour": [
           {
            "colorbar": {
             "outlinewidth": 0,
             "ticks": ""
            },
            "colorscale": [
             [
              0,
              "#0d0887"
             ],
             [
              0.1111111111111111,
              "#46039f"
             ],
             [
              0.2222222222222222,
              "#7201a8"
             ],
             [
              0.3333333333333333,
              "#9c179e"
             ],
             [
              0.4444444444444444,
              "#bd3786"
             ],
             [
              0.5555555555555556,
              "#d8576b"
             ],
             [
              0.6666666666666666,
              "#ed7953"
             ],
             [
              0.7777777777777778,
              "#fb9f3a"
             ],
             [
              0.8888888888888888,
              "#fdca26"
             ],
             [
              1,
              "#f0f921"
             ]
            ],
            "type": "histogram2dcontour"
           }
          ],
          "mesh3d": [
           {
            "colorbar": {
             "outlinewidth": 0,
             "ticks": ""
            },
            "type": "mesh3d"
           }
          ],
          "parcoords": [
           {
            "line": {
             "colorbar": {
              "outlinewidth": 0,
              "ticks": ""
             }
            },
            "type": "parcoords"
           }
          ],
          "pie": [
           {
            "automargin": true,
            "type": "pie"
           }
          ],
          "scatter": [
           {
            "marker": {
             "line": {
              "color": "#283442"
             }
            },
            "type": "scatter"
           }
          ],
          "scatter3d": [
           {
            "line": {
             "colorbar": {
              "outlinewidth": 0,
              "ticks": ""
             }
            },
            "marker": {
             "colorbar": {
              "outlinewidth": 0,
              "ticks": ""
             }
            },
            "type": "scatter3d"
           }
          ],
          "scattercarpet": [
           {
            "marker": {
             "colorbar": {
              "outlinewidth": 0,
              "ticks": ""
             }
            },
            "type": "scattercarpet"
           }
          ],
          "scattergeo": [
           {
            "marker": {
             "colorbar": {
              "outlinewidth": 0,
              "ticks": ""
             }
            },
            "type": "scattergeo"
           }
          ],
          "scattergl": [
           {
            "marker": {
             "line": {
              "color": "#283442"
             }
            },
            "type": "scattergl"
           }
          ],
          "scattermapbox": [
           {
            "marker": {
             "colorbar": {
              "outlinewidth": 0,
              "ticks": ""
             }
            },
            "type": "scattermapbox"
           }
          ],
          "scatterpolar": [
           {
            "marker": {
             "colorbar": {
              "outlinewidth": 0,
              "ticks": ""
             }
            },
            "type": "scatterpolar"
           }
          ],
          "scatterpolargl": [
           {
            "marker": {
             "colorbar": {
              "outlinewidth": 0,
              "ticks": ""
             }
            },
            "type": "scatterpolargl"
           }
          ],
          "scatterternary": [
           {
            "marker": {
             "colorbar": {
              "outlinewidth": 0,
              "ticks": ""
             }
            },
            "type": "scatterternary"
           }
          ],
          "surface": [
           {
            "colorbar": {
             "outlinewidth": 0,
             "ticks": ""
            },
            "colorscale": [
             [
              0,
              "#0d0887"
             ],
             [
              0.1111111111111111,
              "#46039f"
             ],
             [
              0.2222222222222222,
              "#7201a8"
             ],
             [
              0.3333333333333333,
              "#9c179e"
             ],
             [
              0.4444444444444444,
              "#bd3786"
             ],
             [
              0.5555555555555556,
              "#d8576b"
             ],
             [
              0.6666666666666666,
              "#ed7953"
             ],
             [
              0.7777777777777778,
              "#fb9f3a"
             ],
             [
              0.8888888888888888,
              "#fdca26"
             ],
             [
              1,
              "#f0f921"
             ]
            ],
            "type": "surface"
           }
          ],
          "table": [
           {
            "cells": {
             "fill": {
              "color": "#506784"
             },
             "line": {
              "color": "rgb(17,17,17)"
             }
            },
            "header": {
             "fill": {
              "color": "#2a3f5f"
             },
             "line": {
              "color": "rgb(17,17,17)"
             }
            },
            "type": "table"
           }
          ]
         },
         "layout": {
          "annotationdefaults": {
           "arrowcolor": "#f2f5fa",
           "arrowhead": 0,
           "arrowwidth": 1
          },
          "autotypenumbers": "strict",
          "coloraxis": {
           "colorbar": {
            "outlinewidth": 0,
            "ticks": ""
           }
          },
          "colorscale": {
           "diverging": [
            [
             0,
             "#8e0152"
            ],
            [
             0.1,
             "#c51b7d"
            ],
            [
             0.2,
             "#de77ae"
            ],
            [
             0.3,
             "#f1b6da"
            ],
            [
             0.4,
             "#fde0ef"
            ],
            [
             0.5,
             "#f7f7f7"
            ],
            [
             0.6,
             "#e6f5d0"
            ],
            [
             0.7,
             "#b8e186"
            ],
            [
             0.8,
             "#7fbc41"
            ],
            [
             0.9,
             "#4d9221"
            ],
            [
             1,
             "#276419"
            ]
           ],
           "sequential": [
            [
             0,
             "#0d0887"
            ],
            [
             0.1111111111111111,
             "#46039f"
            ],
            [
             0.2222222222222222,
             "#7201a8"
            ],
            [
             0.3333333333333333,
             "#9c179e"
            ],
            [
             0.4444444444444444,
             "#bd3786"
            ],
            [
             0.5555555555555556,
             "#d8576b"
            ],
            [
             0.6666666666666666,
             "#ed7953"
            ],
            [
             0.7777777777777778,
             "#fb9f3a"
            ],
            [
             0.8888888888888888,
             "#fdca26"
            ],
            [
             1,
             "#f0f921"
            ]
           ],
           "sequentialminus": [
            [
             0,
             "#0d0887"
            ],
            [
             0.1111111111111111,
             "#46039f"
            ],
            [
             0.2222222222222222,
             "#7201a8"
            ],
            [
             0.3333333333333333,
             "#9c179e"
            ],
            [
             0.4444444444444444,
             "#bd3786"
            ],
            [
             0.5555555555555556,
             "#d8576b"
            ],
            [
             0.6666666666666666,
             "#ed7953"
            ],
            [
             0.7777777777777778,
             "#fb9f3a"
            ],
            [
             0.8888888888888888,
             "#fdca26"
            ],
            [
             1,
             "#f0f921"
            ]
           ]
          },
          "colorway": [
           "#636efa",
           "#EF553B",
           "#00cc96",
           "#ab63fa",
           "#FFA15A",
           "#19d3f3",
           "#FF6692",
           "#B6E880",
           "#FF97FF",
           "#FECB52"
          ],
          "font": {
           "color": "#f2f5fa"
          },
          "geo": {
           "bgcolor": "rgb(17,17,17)",
           "lakecolor": "rgb(17,17,17)",
           "landcolor": "rgb(17,17,17)",
           "showlakes": true,
           "showland": true,
           "subunitcolor": "#506784"
          },
          "hoverlabel": {
           "align": "left"
          },
          "hovermode": "closest",
          "mapbox": {
           "style": "dark"
          },
          "paper_bgcolor": "rgb(17,17,17)",
          "plot_bgcolor": "rgb(17,17,17)",
          "polar": {
           "angularaxis": {
            "gridcolor": "#506784",
            "linecolor": "#506784",
            "ticks": ""
           },
           "bgcolor": "rgb(17,17,17)",
           "radialaxis": {
            "gridcolor": "#506784",
            "linecolor": "#506784",
            "ticks": ""
           }
          },
          "scene": {
           "xaxis": {
            "backgroundcolor": "rgb(17,17,17)",
            "gridcolor": "#506784",
            "gridwidth": 2,
            "linecolor": "#506784",
            "showbackground": true,
            "ticks": "",
            "zerolinecolor": "#C8D4E3"
           },
           "yaxis": {
            "backgroundcolor": "rgb(17,17,17)",
            "gridcolor": "#506784",
            "gridwidth": 2,
            "linecolor": "#506784",
            "showbackground": true,
            "ticks": "",
            "zerolinecolor": "#C8D4E3"
           },
           "zaxis": {
            "backgroundcolor": "rgb(17,17,17)",
            "gridcolor": "#506784",
            "gridwidth": 2,
            "linecolor": "#506784",
            "showbackground": true,
            "ticks": "",
            "zerolinecolor": "#C8D4E3"
           }
          },
          "shapedefaults": {
           "line": {
            "color": "#f2f5fa"
           }
          },
          "sliderdefaults": {
           "bgcolor": "#C8D4E3",
           "bordercolor": "rgb(17,17,17)",
           "borderwidth": 1,
           "tickwidth": 0
          },
          "ternary": {
           "aaxis": {
            "gridcolor": "#506784",
            "linecolor": "#506784",
            "ticks": ""
           },
           "baxis": {
            "gridcolor": "#506784",
            "linecolor": "#506784",
            "ticks": ""
           },
           "bgcolor": "rgb(17,17,17)",
           "caxis": {
            "gridcolor": "#506784",
            "linecolor": "#506784",
            "ticks": ""
           }
          },
          "title": {
           "x": 0.05
          },
          "updatemenudefaults": {
           "bgcolor": "#506784",
           "borderwidth": 0
          },
          "xaxis": {
           "automargin": true,
           "gridcolor": "#283442",
           "linecolor": "#506784",
           "ticks": "",
           "title": {
            "standoff": 15
           },
           "zerolinecolor": "#283442",
           "zerolinewidth": 2
          },
          "yaxis": {
           "automargin": true,
           "gridcolor": "#283442",
           "linecolor": "#506784",
           "ticks": "",
           "title": {
            "standoff": 15
           },
           "zerolinecolor": "#283442",
           "zerolinewidth": 2
          }
         }
        },
        "title": {
         "text": "Percentage of Total Sales by Product and Store (With Sales)"
        },
        "width": 1000,
        "xaxis": {
         "title": {
          "text": "Product Name"
         }
        },
        "yaxis": {
         "title": {
          "text": "Store Name"
         }
        }
       }
      }
     },
     "metadata": {},
     "output_type": "display_data"
    }
   ],
   "source": [
    "product_store_sales = (\n",
    "    all_product_data[all_product_data[\"has_sales\"] == True]\n",
    "    .groupby([\"product_name_chinese_name\", \"Store Name\"])[\"Total Sales\"]\n",
    "    .sum()\n",
    "    .reset_index()\n",
    ")\n",
    "\n",
    "# Calculate the total sales for each product\n",
    "product_total_revenue = (\n",
    "    all_product_data[all_product_data[\"has_sales\"] == True]\n",
    "    .groupby(\"product_name_chinese_name\")[\"Total Sales\"]\n",
    "    .sum()\n",
    ")\n",
    "\n",
    "# Calculate the percentage of total sales for each product in each store\n",
    "product_store_sales[\"Percentage of Total Sales\"] = product_store_sales.apply(\n",
    "    lambda row: row[\"Total Sales\"]\n",
    "    / product_total_revenue[row[\"product_name_chinese_name\"]],\n",
    "    axis=1,\n",
    ")\n",
    "\n",
    "# Create the heatmap\n",
    "fig = plot_heatmap_plotly(\n",
    "    data=product_store_sales,\n",
    "    x=\"product_name_chinese_name\",\n",
    "    y=\"Store Name\",\n",
    "    z=\"Percentage of Total Sales\",\n",
    "    title=\"Percentage of Total Sales by Product and Store (With Sales)\",\n",
    "    x_label=\"Product Name\",\n",
    "    y_label=\"Store Name\",\n",
    "    colorbar_title=\"%\",\n",
    ")\n",
    "\n",
    "fig.show()"
   ]
  },
  {
   "cell_type": "code",
   "execution_count": 320,
   "metadata": {},
   "outputs": [
    {
     "data": {
      "application/vnd.plotly.v1+json": {
       "config": {
        "plotlyServerURL": "https://plot.ly"
       },
       "data": [
        {
         "colorbar": {
          "title": {
           "text": "%"
          }
         },
         "colorscale": [
          [
           0,
           "rgb(8,48,107)"
          ],
          [
           0.125,
           "rgb(8,81,156)"
          ],
          [
           0.25,
           "rgb(33,113,181)"
          ],
          [
           0.375,
           "rgb(66,146,198)"
          ],
          [
           0.5,
           "rgb(107,174,214)"
          ],
          [
           0.625,
           "rgb(158,202,225)"
          ],
          [
           0.75,
           "rgb(198,219,239)"
          ],
          [
           0.875,
           "rgb(222,235,247)"
          ],
          [
           1,
           "rgb(247,251,255)"
          ]
         ],
         "hoverongaps": false,
         "type": "heatmap",
         "x": [
          "bead bracelets and necklaces (珠子手链和项链)",
          "bead bracelets and necklaces (珠子手链和项链)",
          "bead bracelets and necklaces (珠子手链和项链)",
          "bead bracelets and necklaces (珠子手链和项链)",
          "bead bracelets and necklaces (珠子手链和项链)",
          "bead bracelets and necklaces (珠子手链和项链)",
          "bead bracelets and necklaces (珠子手链和项链)",
          "bead bracelets and necklaces (珠子手链和项链)",
          "bead bracelets and necklaces (珠子手链和项链)",
          "bead bracelets and necklaces (珠子手链和项链)",
          "bead bracelets and necklaces (珠子手链和项链)",
          "bead bracelets and necklaces (珠子手链和项链)",
          "bead bracelets and necklaces (珠子手链和项链)",
          "bead bracelets and necklaces (珠子手链和项链)",
          "bead bracelets and necklaces (珠子手链和项链)",
          "bead bracelets and necklaces (珠子手链和项链)",
          "bead bracelets and necklaces (珠子手链和项链)",
          "bead bracelets and necklaces (珠子手链和项链)",
          "bead bracelets and necklaces (珠子手链和项链)",
          "bead bracelets and necklaces (珠子手链和项链)",
          "bead bracelets and necklaces (珠子手链和项链)",
          "bead bracelets and necklaces (珠子手链和项链)",
          "bead bracelets and necklaces (珠子手链和项链)",
          "bead bracelets and necklaces (珠子手链和项链)",
          "bead bracelets and necklaces (珠子手链和项链)",
          "bead bracelets and necklaces (珠子手链和项链)",
          "bead bracelets and necklaces (珠子手链和项链)",
          "bead bracelets and necklaces (珠子手链和项链)",
          "bead bracelets and necklaces (珠子手链和项链)",
          "bead bracelets and necklaces (珠子手链和项链)",
          "bead bracelets and necklaces (珠子手链和项链)",
          "bead bracelets and necklaces (珠子手链和项链)",
          "bead bracelets and necklaces (珠子手链和项链)",
          "bead bracelets and necklaces (珠子手链和项链)",
          "bead bracelets and necklaces (珠子手链和项链)",
          "bead bracelets and necklaces (珠子手链和项链)",
          "bead bracelets and necklaces (珠子手链和项链)",
          "bead bracelets and necklaces (珠子手链和项链)",
          "bead bracelets and necklaces (珠子手链和项链)",
          "bead bracelets and necklaces (珠子手链和项链)",
          "bead bracelets and necklaces (珠子手链和项链)",
          "bead bracelets and necklaces (珠子手链和项链)",
          "bead bracelets and necklaces (珠子手链和项链)",
          "bead bracelets and necklaces (珠子手链和项链)",
          "bead bracelets and necklaces (珠子手链和项链)",
          "bead bracelets and necklaces (珠子手链和项链)",
          "bead bracelets and necklaces (珠子手链和项链)",
          "bead bracelets and necklaces (珠子手链和项链)",
          "bead bracelets and necklaces (珠子手链和项链)",
          "bead bracelets and necklaces (珠子手链和项链)",
          "bead bracelets and necklaces (珠子手链和项链)",
          "bead bracelets and necklaces (珠子手链和项链)",
          "brushes and calligraphy tools (笔和书法工具)",
          "brushes and calligraphy tools (笔和书法工具)",
          "brushes and calligraphy tools (笔和书法工具)",
          "brushes and calligraphy tools (笔和书法工具)",
          "brushes and calligraphy tools (笔和书法工具)",
          "brushes and calligraphy tools (笔和书法工具)",
          "brushes and calligraphy tools (笔和书法工具)",
          "brushes and calligraphy tools (笔和书法工具)",
          "brushes and calligraphy tools (笔和书法工具)",
          "brushes and calligraphy tools (笔和书法工具)",
          "brushes and calligraphy tools (笔和书法工具)",
          "brushes and calligraphy tools (笔和书法工具)",
          "brushes and calligraphy tools (笔和书法工具)",
          "brushes and calligraphy tools (笔和书法工具)",
          "brushes and calligraphy tools (笔和书法工具)",
          "brushes and calligraphy tools (笔和书法工具)",
          "brushes and calligraphy tools (笔和书法工具)",
          "brushes and calligraphy tools (笔和书法工具)",
          "brushes and calligraphy tools (笔和书法工具)",
          "brushes and calligraphy tools (笔和书法工具)",
          "brushes and calligraphy tools (笔和书法工具)",
          "brushes and calligraphy tools (笔和书法工具)",
          "brushes and calligraphy tools (笔和书法工具)",
          "brushes and calligraphy tools (笔和书法工具)",
          "brushes and calligraphy tools (笔和书法工具)",
          "brushes and calligraphy tools (笔和书法工具)",
          "brushes and calligraphy tools (笔和书法工具)",
          "brushes and calligraphy tools (笔和书法工具)",
          "brushes and calligraphy tools (笔和书法工具)",
          "brushes and calligraphy tools (笔和书法工具)",
          "brushes and calligraphy tools (笔和书法工具)",
          "brushes and calligraphy tools (笔和书法工具)",
          "brushes and calligraphy tools (笔和书法工具)",
          "brushes and calligraphy tools (笔和书法工具)",
          "brushes and calligraphy tools (笔和书法工具)",
          "brushes and calligraphy tools (笔和书法工具)",
          "brushes and calligraphy tools (笔和书法工具)",
          "brushes and calligraphy tools (笔和书法工具)",
          "brushes and calligraphy tools (笔和书法工具)",
          "brushes and calligraphy tools (笔和书法工具)",
          "calligraphy prints (书法印刷品)",
          "calligraphy prints (书法印刷品)",
          "calligraphy prints (书法印刷品)",
          "calligraphy prints (书法印刷品)",
          "calligraphy prints (书法印刷品)",
          "calligraphy prints (书法印刷品)",
          "calligraphy prints (书法印刷品)",
          "calligraphy prints (书法印刷品)",
          "calligraphy prints (书法印刷品)",
          "calligraphy prints (书法印刷品)",
          "calligraphy prints (书法印刷品)",
          "calligraphy prints (书法印刷品)",
          "calligraphy prints (书法印刷品)",
          "calligraphy prints (书法印刷品)",
          "calligraphy prints (书法印刷品)",
          "calligraphy prints (书法印刷品)",
          "calligraphy prints (书法印刷品)",
          "calligraphy prints (书法印刷品)",
          "calligraphy prints (书法印刷品)",
          "calligraphy prints (书法印刷品)",
          "calligraphy prints (书法印刷品)",
          "calligraphy prints (书法印刷品)",
          "calligraphy prints (书法印刷品)",
          "calligraphy prints (书法印刷品)",
          "calligraphy prints (书法印刷品)",
          "calligraphy prints (书法印刷品)",
          "calligraphy prints (书法印刷品)",
          "calligraphy prints (书法印刷品)",
          "calligraphy prints (书法印刷品)",
          "calligraphy prints (书法印刷品)",
          "calligraphy prints (书法印刷品)",
          "calligraphy prints (书法印刷品)",
          "calligraphy prints (书法印刷品)",
          "calligraphy prints (书法印刷品)",
          "calligraphy prints (书法印刷品)",
          "calligraphy prints (书法印刷品)",
          "calligraphy prints (书法印刷品)",
          "calligraphy prints (书法印刷品)",
          "calligraphy prints (书法印刷品)",
          "calligraphy prints (书法印刷品)",
          "calligraphy prints (书法印刷品)",
          "calligraphy prints (书法印刷品)",
          "calligraphy prints (书法印刷品)",
          "calligraphy prints (书法印刷品)",
          "calligraphy prints (书法印刷品)",
          "calligraphy prints (书法印刷品)",
          "calligraphy prints (书法印刷品)",
          "calligraphy prints (书法印刷品)",
          "calligraphy prints (书法印刷品)",
          "calligraphy prints (书法印刷品)",
          "calligraphy prints (书法印刷品)",
          "calligraphy prints (书法印刷品)",
          "calligraphy prints (书法印刷品)",
          "calligraphy prints (书法印刷品)",
          "calligraphy prints (书法印刷品)",
          "calligraphy prints (书法印刷品)",
          "calligraphy prints (书法印刷品)",
          "calligraphy prints (书法印刷品)",
          "calligraphy prints (书法印刷品)",
          "calligraphy prints (书法印刷品)",
          "calligraphy prints (书法印刷品)",
          "calligraphy prints (书法印刷品)",
          "calligraphy prints (书法印刷品)",
          "calligraphy prints (书法印刷品)",
          "calligraphy prints (书法印刷品)",
          "calligraphy prints (书法印刷品)",
          "calligraphy prints (书法印刷品)",
          "calligraphy prints (书法印刷品)",
          "calligraphy prints (书法印刷品)",
          "calligraphy prints (书法印刷品)",
          "calligraphy prints (书法印刷品)",
          "calligraphy prints (书法印刷品)",
          "calligraphy prints (书法印刷品)",
          "calligraphy prints (书法印刷品)",
          "calligraphy prints (书法印刷品)",
          "calligraphy prints (书法印刷品)",
          "calligraphy prints (书法印刷品)",
          "calligraphy prints (书法印刷品)",
          "calligraphy prints (书法印刷品)",
          "calligraphy prints (书法印刷品)",
          "calligraphy prints (书法印刷品)",
          "calligraphy prints (书法印刷品)",
          "calligraphy prints (书法印刷品)",
          "calligraphy prints (书法印刷品)",
          "calligraphy prints (书法印刷品)",
          "calligraphy prints (书法印刷品)",
          "calligraphy prints (书法印刷品)",
          "calligraphy prints (书法印刷品)",
          "calligraphy prints (书法印刷品)",
          "calligraphy prints (书法印刷品)",
          "calligraphy prints (书法印刷品)",
          "calligraphy prints (书法印刷品)",
          "calligraphy prints (书法印刷品)",
          "calligraphy prints (书法印刷品)",
          "calligraphy prints (书法印刷品)",
          "calligraphy prints (书法印刷品)",
          "calligraphy prints (书法印刷品)",
          "calligraphy prints (书法印刷品)",
          "calligraphy prints (书法印刷品)",
          "calligraphy prints (书法印刷品)",
          "calligraphy prints (书法印刷品)",
          "calligraphy prints (书法印刷品)",
          "calligraphy prints (书法印刷品)",
          "calligraphy prints (书法印刷品)",
          "calligraphy prints (书法印刷品)",
          "calligraphy prints (书法印刷品)",
          "calligraphy prints (书法印刷品)",
          "calligraphy prints (书法印刷品)",
          "calligraphy prints (书法印刷品)",
          "calligraphy prints (书法印刷品)",
          "calligraphy prints (书法印刷品)",
          "calligraphy prints (书法印刷品)",
          "calligraphy prints (书法印刷品)",
          "calligraphy prints (书法印刷品)",
          "calligraphy prints (书法印刷品)",
          "calligraphy prints (书法印刷品)",
          "calligraphy prints (书法印刷品)",
          "calligraphy prints (书法印刷品)",
          "calligraphy prints (书法印刷品)",
          "calligraphy prints (书法印刷品)",
          "calligraphy prints (书法印刷品)",
          "calligraphy prints (书法印刷品)",
          "calligraphy prints (书法印刷品)",
          "calligraphy prints (书法印刷品)",
          "calligraphy prints (书法印刷品)",
          "calligraphy prints (书法印刷品)",
          "calligraphy prints (书法印刷品)",
          "calligraphy prints (书法印刷品)",
          "calligraphy prints (书法印刷品)",
          "calligraphy prints (书法印刷品)",
          "calligraphy prints (书法印刷品)",
          "calligraphy prints (书法印刷品)",
          "calligraphy prints (书法印刷品)",
          "calligraphy prints (书法印刷品)",
          "calligraphy prints (书法印刷品)",
          "calligraphy prints (书法印刷品)",
          "calligraphy prints (书法印刷品)",
          "calligraphy prints (书法印刷品)",
          "calligraphy prints (书法印刷品)",
          "calligraphy prints (书法印刷品)",
          "calligraphy prints (书法印刷品)",
          "calligraphy prints (书法印刷品)",
          "calligraphy prints (书法印刷品)",
          "calligraphy prints (书法印刷品)",
          "calligraphy prints (书法印刷品)",
          "calligraphy prints (书法印刷品)",
          "calligraphy prints (书法印刷品)",
          "calligraphy prints (书法印刷品)",
          "calligraphy prints (书法印刷品)",
          "calligraphy prints (书法印刷品)",
          "calligraphy prints (书法印刷品)",
          "calligraphy prints (书法印刷品)",
          "calligraphy prints (书法印刷品)",
          "calligraphy prints (书法印刷品)",
          "calligraphy prints (书法印刷品)",
          "calligraphy prints (书法印刷品)",
          "calligraphy prints (书法印刷品)",
          "calligraphy prints (书法印刷品)",
          "calligraphy prints (书法印刷品)",
          "calligraphy prints (书法印刷品)",
          "calligraphy prints (书法印刷品)",
          "calligraphy prints (书法印刷品)",
          "calligraphy prints (书法印刷品)",
          "calligraphy prints (书法印刷品)",
          "calligraphy prints (书法印刷品)",
          "calligraphy prints (书法印刷品)",
          "calligraphy prints (书法印刷品)",
          "calligraphy prints (书法印刷品)",
          "calligraphy prints (书法印刷品)",
          "calligraphy prints (书法印刷品)",
          "calligraphy prints (书法印刷品)",
          "calligraphy prints (书法印刷品)",
          "calligraphy prints (书法印刷品)",
          "calligraphy prints (书法印刷品)",
          "calligraphy prints (书法印刷品)",
          "calligraphy prints (书法印刷品)",
          "calligraphy prints (书法印刷品)",
          "calligraphy prints (书法印刷品)",
          "calligraphy prints (书法印刷品)",
          "calligraphy prints (书法印刷品)",
          "calligraphy prints (书法印刷品)",
          "calligraphy prints (书法印刷品)",
          "calligraphy prints (书法印刷品)",
          "calligraphy prints (书法印刷品)",
          "calligraphy prints (书法印刷品)",
          "chinese art stickers (中国艺术贴纸)",
          "chinese art stickers (中国艺术贴纸)",
          "chinese art stickers (中国艺术贴纸)",
          "chinese art stickers (中国艺术贴纸)",
          "chinese art stickers (中国艺术贴纸)",
          "chinese art stickers (中国艺术贴纸)",
          "chinese art stickers (中国艺术贴纸)",
          "chinese art stickers (中国艺术贴纸)",
          "chinese art stickers (中国艺术贴纸)",
          "chinese art stickers (中国艺术贴纸)",
          "chinese art stickers (中国艺术贴纸)",
          "chinese art stickers (中国艺术贴纸)",
          "chinese art stickers (中国艺术贴纸)",
          "chinese art stickers (中国艺术贴纸)",
          "chinese art stickers (中国艺术贴纸)",
          "chinese art stickers (中国艺术贴纸)",
          "chinese art stickers (中国艺术贴纸)",
          "chinese art stickers (中国艺术贴纸)",
          "chinese art stickers (中国艺术贴纸)",
          "chinese art stickers (中国艺术贴纸)",
          "chinese art stickers (中国艺术贴纸)",
          "chinese art stickers (中国艺术贴纸)",
          "chinese art stickers (中国艺术贴纸)",
          "chinese art stickers (中国艺术贴纸)",
          "chinese art stickers (中国艺术贴纸)",
          "chinese art stickers (中国艺术贴纸)",
          "chinese art stickers (中国艺术贴纸)",
          "chinese art stickers (中国艺术贴纸)",
          "chinese art stickers (中国艺术贴纸)",
          "chinese art stickers (中国艺术贴纸)",
          "chinese art stickers (中国艺术贴纸)",
          "chinese art stickers (中国艺术贴纸)",
          "chinese art stickers (中国艺术贴纸)",
          "chinese art stickers (中国艺术贴纸)",
          "chinese art stickers (中国艺术贴纸)",
          "chinese art stickers (中国艺术贴纸)",
          "chinese art stickers (中国艺术贴纸)",
          "chinese art stickers (中国艺术贴纸)",
          "chinese art stickers (中国艺术贴纸)",
          "chinese art stickers (中国艺术贴纸)",
          "chinese art stickers (中国艺术贴纸)",
          "chinese art stickers (中国艺术贴纸)",
          "chinese art stickers (中国艺术贴纸)",
          "chinese art stickers (中国艺术贴纸)",
          "chinese art stickers (中国艺术贴纸)",
          "chinese art stickers (中国艺术贴纸)",
          "chinese art stickers (中国艺术贴纸)",
          "chinese bamboo art (中国竹艺)",
          "chinese bamboo art (中国竹艺)",
          "chinese bamboo art (中国竹艺)",
          "chinese bamboo art (中国竹艺)",
          "chinese bamboo art (中国竹艺)",
          "chinese bamboo art (中国竹艺)",
          "chinese bamboo art (中国竹艺)",
          "chinese bookmarks (中国书签)",
          "chinese bookmarks (中国书签)",
          "chinese bookmarks (中国书签)",
          "chinese bookmarks (中国书签)",
          "chinese bookmarks (中国书签)",
          "chinese bookmarks (中国书签)",
          "chinese bookmarks (中国书签)",
          "chinese bookmarks (中国书签)",
          "chinese bookmarks (中国书签)",
          "chinese bookmarks (中国书签)",
          "chinese bookmarks (中国书签)",
          "chinese bookmarks (中国书签)",
          "chinese bookmarks (中国书签)",
          "chinese bookmarks (中国书签)",
          "chinese bookmarks (中国书签)",
          "chinese bookmarks (中国书签)",
          "chinese bookmarks (中国书签)",
          "chinese bookmarks (中国书签)",
          "chinese bookmarks (中国书签)",
          "chinese bookmarks (中国书签)",
          "chinese bookmarks (中国书签)",
          "chinese bookmarks (中国书签)",
          "chinese bookmarks (中国书签)",
          "chinese bookmarks (中国书签)",
          "chinese bookmarks (中国书签)",
          "chinese incense (中国香)",
          "chinese incense (中国香)",
          "chinese incense (中国香)",
          "chinese incense (中国香)",
          "chinese incense (中国香)",
          "chinese incense (中国香)",
          "chinese incense (中国香)",
          "chinese incense (中国香)",
          "chinese incense (中国香)",
          "chinese incense (中国香)",
          "chinese incense (中国香)",
          "chinese incense (中国香)",
          "chinese incense (中国香)",
          "chinese incense (中国香)",
          "chinese incense (中国香)",
          "chinese magnets (中国冰箱贴)",
          "chinese magnets (中国冰箱贴)",
          "chinese magnets (中国冰箱贴)",
          "chinese magnets (中国冰箱贴)",
          "chinese magnets (中国冰箱贴)",
          "chinese magnets (中国冰箱贴)",
          "chinese magnets (中国冰箱贴)",
          "chinese magnets (中国冰箱贴)",
          "chinese magnets (中国冰箱贴)",
          "chinese magnets (中国冰箱贴)",
          "chinese magnets (中国冰箱贴)",
          "chinese magnets (中国冰箱贴)",
          "chinese magnets (中国冰箱贴)",
          "chinese mid autumn gift sets (中秋节礼品套装)",
          "chinese mid autumn gift sets (中秋节礼品套装)",
          "chinese mid autumn gift sets (中秋节礼品套装)",
          "chinese mid autumn gift sets (中秋节礼品套装)",
          "chinese mid autumn gift sets (中秋节礼品套装)",
          "chinese mid autumn gift sets (中秋节礼品套装)",
          "chinese mid autumn gift sets (中秋节礼品套装)",
          "chinese mid autumn gift sets (中秋节礼品套装)",
          "chinese mid autumn gift sets (中秋节礼品套装)",
          "chinese mid autumn gift sets (中秋节礼品套装)",
          "chinese mid autumn gift sets (中秋节礼品套装)",
          "chinese mid autumn gift sets (中秋节礼品套装)",
          "chinese pottery (中国陶器)",
          "chinese pottery (中国陶器)",
          "chinese pottery (中国陶器)",
          "chinese pottery (中国陶器)",
          "chinese pottery (中国陶器)",
          "chinese pottery (中国陶器)",
          "chinese pottery (中国陶器)",
          "chinese pottery (中国陶器)",
          "chinese pottery (中国陶器)",
          "chinese pottery (中国陶器)",
          "chinese pottery (中国陶器)",
          "chinese pottery (中国陶器)",
          "chinese pottery (中国陶器)",
          "chinese pottery (中国陶器)",
          "chinese pottery (中国陶器)",
          "chinese pottery (中国陶器)",
          "chinese pottery (中国陶器)",
          "chinese pottery (中国陶器)",
          "chinese pottery (中国陶器)",
          "chinese pottery (中国陶器)",
          "chinese pottery (中国陶器)",
          "chinese pottery (中国陶器)",
          "chinese pottery (中国陶器)",
          "chinese pottery (中国陶器)",
          "chinese pottery (中国陶器)",
          "chinese pottery (中国陶器)",
          "chinese pottery (中国陶器)",
          "chinese pottery (中国陶器)",
          "chinese pottery (中国陶器)",
          "chinese pottery (中国陶器)",
          "chinese pottery (中国陶器)",
          "chinese pottery (中国陶器)",
          "chinese pottery (中国陶器)",
          "chinese pottery (中国陶器)",
          "chinese pottery (中国陶器)",
          "chinese pottery (中国陶器)",
          "chinese pottery (中国陶器)",
          "chinese pottery (中国陶器)",
          "chinese pottery (中国陶器)",
          "chinese pottery (中国陶器)",
          "chinese pottery (中国陶器)",
          "chinese pottery (中国陶器)",
          "chinese pottery (中国陶器)",
          "chinese pottery (中国陶器)",
          "chinese pottery (中国陶器)",
          "chinese pottery (中国陶器)",
          "chinese pottery (中国陶器)",
          "chinese pottery (中国陶器)",
          "chinese pottery (中国陶器)",
          "chinese washi tape (中国和纸胶带)",
          "chinese washi tape (中国和纸胶带)",
          "chinese washi tape (中国和纸胶带)",
          "chinese washi tape (中国和纸胶带)",
          "chinese washi tape (中国和纸胶带)",
          "chinese washi tape (中国和纸胶带)",
          "chinese washi tape (中国和纸胶带)",
          "chinese washi tape (中国和纸胶带)",
          "chinese washi tape (中国和纸胶带)",
          "chinese washi tape (中国和纸胶带)",
          "chinese washi tape (中国和纸胶带)",
          "chinese washi tape (中国和纸胶带)",
          "chinese washi tape (中国和纸胶带)",
          "chinese washi tape (中国和纸胶带)",
          "chinese washi tape (中国和纸胶带)",
          "chinese washi tape (中国和纸胶带)",
          "chinese washi tape (中国和纸胶带)",
          "chinese washi tape (中国和纸胶带)",
          "chinese washi tape (中国和纸胶带)",
          "chinese washi tape (中国和纸胶带)",
          "chinese washi tape (中国和纸胶带)",
          "chinese washi tape (中国和纸胶带)",
          "chinese washi tape (中国和纸胶带)",
          "chinese washi tape (中国和纸胶带)",
          "name seals (印章)",
          "name seals (印章)",
          "name seals (印章)",
          "name seals (印章)",
          "name seals (印章)",
          "name seals (印章)",
          "name seals (印章)",
          "name seals (印章)",
          "name seals (印章)",
          "name seals (印章)",
          "name seals (印章)",
          "name seals (印章)",
          "name seals (印章)",
          "name seals (印章)",
          "name seals (印章)",
          "name seals (印章)",
          "name seals (印章)",
          "name seals (印章)",
          "name seals (印章)",
          "name seals (印章)",
          "name seals (印章)",
          "name seals (印章)",
          "name seals (印章)",
          "name seals (印章)",
          "name seals (印章)",
          "name seals (印章)",
          "name seals (印章)",
          "name seals (印章)",
          "name seals (印章)",
          "name seals (印章)",
          "name seals (印章)",
          "name seals (印章)",
          "name seals (印章)",
          "name seals (印章)",
          "name seals (印章)",
          "name seals (印章)",
          "name seals (印章)",
          "name seals (印章)",
          "name seals (印章)",
          "name seals (印章)",
          "name seals (印章)",
          "name seals (印章)",
          "name seals (印章)",
          "name seals (印章)",
          "name seals (印章)",
          "name seals (印章)",
          "name seals (印章)",
          "name seals (印章)",
          "name seals (印章)",
          "name seals (印章)",
          "paper lanterns (纸灯笼)",
          "paper lanterns (纸灯笼)",
          "paper lanterns (纸灯笼)",
          "paper lanterns (纸灯笼)",
          "paper lanterns (纸灯笼)",
          "paper lanterns (纸灯笼)",
          "paper lanterns (纸灯笼)",
          "paper lanterns (纸灯笼)",
          "paper lanterns (纸灯笼)",
          "paper lanterns (纸灯笼)",
          "paper lanterns (纸灯笼)",
          "paper lanterns (纸灯笼)",
          "paper lanterns (纸灯笼)",
          "paper lanterns (纸灯笼)",
          "paper lanterns (纸灯笼)",
          "paper lanterns (纸灯笼)",
          "paper lanterns (纸灯笼)",
          "paper lanterns (纸灯笼)",
          "paper lanterns (纸灯笼)",
          "paper lanterns (纸灯笼)",
          "paper lanterns (纸灯笼)",
          "paper lanterns (纸灯笼)",
          "paper lanterns (纸灯笼)",
          "paper lanterns (纸灯笼)",
          "paper lanterns (纸灯笼)",
          "paper lanterns (纸灯笼)",
          "paper lanterns (纸灯笼)",
          "paper lanterns (纸灯笼)",
          "paper lanterns (纸灯笼)",
          "paper lanterns (纸灯笼)",
          "paper lanterns (纸灯笼)",
          "paper lanterns (纸灯笼)",
          "paper lanterns (纸灯笼)",
          "paper lanterns (纸灯笼)",
          "paper lanterns (纸灯笼)",
          "paper lanterns (纸灯笼)",
          "paper lanterns (纸灯笼)",
          "paper lanterns (纸灯笼)",
          "paper lanterns (纸灯笼)",
          "paper lanterns (纸灯笼)",
          "paper lanterns (纸灯笼)",
          "paper lanterns (纸灯笼)",
          "paper lanterns (纸灯笼)",
          "paper lanterns (纸灯笼)",
          "paper lanterns (纸灯笼)",
          "paper lanterns (纸灯笼)",
          "paper lanterns (纸灯笼)",
          "paper lanterns (纸灯笼)",
          "paper lanterns (纸灯笼)",
          "paper lanterns (纸灯笼)",
          "paper lanterns (纸灯笼)",
          "paper lanterns (纸灯笼)",
          "paper lanterns (纸灯笼)",
          "paper lanterns (纸灯笼)",
          "paper lanterns (纸灯笼)",
          "paper lanterns (纸灯笼)",
          "paper lanterns (纸灯笼)",
          "paper lanterns (纸灯笼)",
          "paper lanterns (纸灯笼)",
          "paper lanterns (纸灯笼)",
          "paper lanterns (纸灯笼)",
          "paper lanterns (纸灯笼)",
          "paper lanterns (纸灯笼)",
          "paper lanterns (纸灯笼)"
         ],
         "y": [
          "AlchemyByManon",
          "Andyscollection",
          "AnnieCoJewelry",
          "AshleyJaneMilan",
          "Balastone",
          "BellevueRareCoins",
          "ByjjJewelry",
          "CGBeadesSupplies",
          "CharmByCoral",
          "DIYbeads888",
          "DansShopGiftsx",
          "DietzJewels",
          "DiyNotion",
          "FDLJewels",
          "Fernhomeandfashion",
          "FlyinJewelry",
          "GREENDEERbymui",
          "GemsbyShaan",
          "GemstoneCrystalsShop",
          "GypsyRoadStudio",
          "HowOriginalStore",
          "Jadehappy",
          "JadeiteRoom",
          "JadeousJade",
          "JessieBeverlyDesigns",
          "KhorasanRug",
          "MJadeite",
          "Micharzoee",
          "MoonMonstersCave",
          "NeedANeedle",
          "NemaliJewelry",
          "NownowCrafts",
          "OrientalSecretGarden",
          "PetiteLinks",
          "PoshGemz",
          "SBGEMSInd",
          "ShaanFashionz",
          "ShinyBead",
          "ShopTGSglass",
          "TheJadeMerchant",
          "ThrowinStones",
          "UptownPatina",
          "YunBoutique",
          "artrici",
          "blackbeaded",
          "bodhiaccessories",
          "carolbarrettjewelry",
          "diygem",
          "latelierdandrea",
          "myhandcrfs",
          "swampYankee",
          "thisbeadsforyou",
          "AlainTourneurBois",
          "AlyssaVanderPloeg",
          "COWdigitalART",
          "CalligraphyforGod",
          "ChineseLearning",
          "CopingGifts",
          "CrescentMoonCatShop",
          "Elimluv",
          "ExoticMerchantCrafts",
          "Funkystuff13",
          "GoodGoodTools",
          "GoodOldTimeArt",
          "HappyDealz",
          "HubDigital",
          "INKSTON",
          "INKtroduction",
          "Interstateblue",
          "IvandCoDesigns",
          "JackmansArtMaterials",
          "KristaMcCurdyArt",
          "LeadTin",
          "LoriksArtShop",
          "MeeLiaDigital",
          "MetaphoriaDesign",
          "MiniTrezoDesign",
          "MyLittleHand",
          "Orientalartmaterial",
          "Pimpmychair",
          "PuffPrints",
          "SealCuttingArts",
          "SemliCalligraphy",
          "SindyJoyiArts",
          "THYFshop",
          "TOLhandmade",
          "The1608shop",
          "TheGoodLifeVibes",
          "YenzArtHaut",
          "lkfarnsworth",
          "toolsforwriting",
          "yanghaiying",
          "267khuba",
          "88AsianAntiques",
          "AMDigitalPrints",
          "APrints",
          "Acrylicartbyrick",
          "AestheticWallDecor",
          "AgnesSzafranska",
          "AnaisHomeDecor",
          "AnnaVladiArt",
          "AnnaisticArtGiftic",
          "Art4OursCo",
          "ArtPink",
          "ArtforHeartUK",
          "Artworkoria",
          "AsianArtistry",
          "AsianHeritagePrints",
          "AutumnFlowersStudio",
          "BeepArtsAndCrafts",
          "BellissiCasa",
          "BlkInkArt",
          "BmeGallery",
          "BrushmanStudio",
          "BunneePrintFactory",
          "Burgerisad",
          "CHINOISERIEHOMECO",
          "CalligraphyRoom",
          "CalligraphyforGod",
          "ChalmersFantasy",
          "ChiGardensInc",
          "ClassicAntiquePrints",
          "CleanArchives",
          "Colinbrush",
          "ColorfullWorlds",
          "ColoroftheElf",
          "ColorsofSami",
          "CottagelandCo",
          "CouleursDuNil",
          "CuriouslyCreatives",
          "DRIVADE",
          "DaiistStyleArt",
          "DarkSwanArtDesign",
          "DealioHound",
          "DenshoDE",
          "DigitalPrintCharm",
          "DigitalStudio33",
          "DragonDesignn",
          "DschiniBean",
          "EpicArtAcrylic",
          "FightersPosterShop",
          "FilipArtLaboratory",
          "FineArtelier",
          "FineTreeDigitals",
          "FlashBimojiArt",
          "FlowWithTheBrush",
          "FunctionalSculpture",
          "GcafeStudio",
          "GemofArt",
          "GinCreatives",
          "GlendaleGardens",
          "GoodOldTimeArt",
          "GraphickS6250",
          "GreenLifePrints",
          "HeavenlyBrush",
          "HelgeJPG",
          "IGyotaku",
          "IndioPage",
          "InkBrushArt",
          "IslamicartByJaveria",
          "JKSuperstore",
          "JapanCrossBridge",
          "JayDeenPrint",
          "JayLamArt",
          "JemCityStudio",
          "JongiShop",
          "JoyfulArtPrint",
          "JunInspirations",
          "JwxweiPhotography",
          "KRWORLDDESIGN",
          "KoreanArtCalligraphy",
          "KoreanCalligraphyArt",
          "KoreanScribbles",
          "LFyDesignCo",
          "LaPlumeReveuseArt",
          "LanDanGallery",
          "LaylaLumiere",
          "LeafHouseUK",
          "Leechees",
          "LeremyStickFigures",
          "LifeLoLo",
          "LittleGiraffePrints",
          "LuvCreationsDesigns",
          "LyArtCanada",
          "LynxXiaoStudio",
          "MaggieTurnerArts",
          "MakersPrintArt",
          "MannaPrints",
          "MaplePrintables",
          "MariamArabicWallArt",
          "MariusSzmerdt",
          "MateuszOlbrychtART",
          "MediciArtPrints",
          "MetaBooth",
          "MingsDigitalStudio",
          "MiniTrezoDesign",
          "MorningMobi",
          "MsLeechee",
          "NACOandHOOPER",
          "NeoArtEvolution",
          "NeptuneArtPrints",
          "Nourartsy",
          "OkurimonoStudio",
          "OmniLightArtPrint",
          "OpenInkStand",
          "OrientalOutpost",
          "PAINTmatters",
          "PBJournal",
          "PODAThoughts",
          "POEMDesignCo",
          "PanoramaCanvas",
          "PeachyBabyArt",
          "PistisArtStore",
          "PlanetDigitalArt",
          "PurrfectCity",
          "RainbowCanary",
          "RichKoesterArt",
          "RichTeaArt",
          "Ringmasterxred",
          "RobbieBurrito",
          "RosewoodPeony",
          "SUZUYA",
          "SandyHeCube",
          "SasaNatalyaArt",
          "SaturdaySchoolClub",
          "SeasonsSerenity",
          "SewellGraphicArts",
          "ShiriLanzerArt",
          "ShuoArtStudio",
          "SindyJoyiArts",
          "SmittenPaperProps",
          "StickersKingdom",
          "StixDesigns",
          "StrandClothing",
          "StudioPrintly",
          "StudioWuDesign",
          "SuaveDesign",
          "SunnyAndRainyArtShop",
          "SuziGordonDesigns",
          "SweetZenStore",
          "SynthetikSpectra",
          "TDNprintables",
          "TT40Art",
          "The25thPrints",
          "TheBilingualNursery",
          "TheMercuryGallery",
          "TigerHouseArt",
          "TracingGraceArts",
          "TristinaDietzArt",
          "TruthsImages",
          "Tulipions",
          "VeronicaPrints",
          "Vintagecollection888",
          "WabiSabiEssential",
          "WallflowerArtCompany",
          "WayToSamadhi",
          "WestJunkTravelCo",
          "WillaHeart",
          "WonderwiseArt",
          "YiMian",
          "YogaPaper",
          "YourHomeDesignStore",
          "YsssStudio",
          "ZWQArtzen",
          "ZenArtCalligraphy",
          "ZenBrush",
          "ZenDigitalJAPAN",
          "aDazzlingArtBoutique",
          "ataraxiadesignsart",
          "konichiwaprints",
          "kozachekart",
          "matatanARTprints",
          "minouette",
          "printsByChaos",
          "tarantra",
          "theleftyletters",
          "zakkalover",
          "ApsaraLabels",
          "BakaDreams",
          "BloomaMind",
          "BlossomArtAvenue",
          "BlueEggAdventures",
          "BraaunNails",
          "CharmCityCrabs",
          "CoraCreaCrafts",
          "DesignKR",
          "DienamicDecals",
          "DiwataCraft",
          "DreamKidsDecal",
          "FunDesignByMe",
          "GomisGoodies",
          "GrAttitudeGifts",
          "Illustrace",
          "IndiWolfOnline",
          "JaylaPastels",
          "JencArtsy",
          "JoogiStudio",
          "LIVINGOAC",
          "LoveMeetDesignStudio",
          "LovelyStickersArts",
          "MoonApeTees",
          "MyLittleStudioAU",
          "N1MH",
          "NailBeautyLandUSA",
          "OtoroCat",
          "RebeccaWangArt",
          "RyansCritterArt",
          "SeemazArtCollection",
          "SingleStoneStudios",
          "Starcovedesign",
          "StickersKingdom",
          "SupersSkinUA",
          "SwiftlyCrafts",
          "TinySupplyShop",
          "WaWaStationery",
          "WallARTime",
          "WildBeautyGraphics",
          "amrmjp",
          "booktokbookshelf",
          "chuvardina",
          "didistickers",
          "fuchsiascribbles",
          "sentinelsupply",
          "shopkitschykawaii",
          "ArtuoDesigns",
          "AsianArtGifts",
          "Crazitchek",
          "FloatYourBoatDesignz",
          "PiecefulDesign",
          "SuzTreasureHouse",
          "YYShopGoods",
          "AsianArtGifts",
          "BeadCharmJewelry",
          "CarmenLamArt",
          "Culdsiaharisquant",
          "Excited4stickernmore",
          "JupiterMoonJewellery",
          "KanMandlandshop",
          "LiliSeeds",
          "LingPitts",
          "OrientalInc",
          "Ostaranda",
          "PrairiePixelLove",
          "QueenofMirth",
          "Rosenart",
          "Sandakala",
          "ScintillareBySunidhi",
          "SealCuttingArts",
          "Seodaemoon",
          "ShopDerekShop",
          "TT40Art",
          "TheFancyScribbler",
          "jingsbeadingworld",
          "memoriesemporium",
          "misspinkrobin",
          "vintagekosmima",
          "DePlagePhoto",
          "ImperialIncense",
          "IncenseCeremony",
          "IncenseofAsia",
          "JasmineApothecary",
          "KarmaSyndikat",
          "MaragCeltic",
          "Realnaturepure",
          "TreasureHouseNo1",
          "VoltageVintageFinds",
          "YYShopGoods",
          "calumscuriosities",
          "feelingcollections",
          "good1369",
          "vintagiodesign",
          "100daysco",
          "DeniseClemenco",
          "DimensionalDiversion",
          "LigneNoireArt",
          "LilCrocsCustoms",
          "LisaJanesGifts",
          "LucinaK",
          "LydiaJeanArt",
          "NihonDesign",
          "ObnoxiouslyMagnetic",
          "VintageOutlookShop",
          "WildernessInsider",
          "emycatdesign",
          "BestjadeStudio",
          "BlushingHoneyCo",
          "CuddlesAndLearn",
          "GraceCakeUS",
          "GraceYuArtStudio",
          "Linai",
          "LuckyCatTreasure",
          "MyLittleHand",
          "PrintGoGo",
          "SweetsunByJessica",
          "YYfairyland",
          "YingmartShop",
          "33YellowClouds",
          "AlpineStore",
          "ArtsCollectionShop",
          "BlueWhiteCustom",
          "Calibonsai",
          "CalligraphyforGod",
          "ChameiTeaHouse",
          "Chinabluetotnes",
          "CreationM",
          "DayJahView",
          "DelightGemsCreations",
          "DownEastCollectibles",
          "ElysianEarwear",
          "EnikoKovacsDesign",
          "FrammDesign",
          "FrenchAlley",
          "GCHeStore",
          "GaryGermer",
          "GoodiesAndCrafties",
          "Grandchildattic",
          "HalcyonGalleryCo",
          "Ildikoscollection",
          "InkHeartPottery",
          "JewelCreekAntiques",
          "KingTeaMall",
          "LuckiestDuck2",
          "Luckychangantiques",
          "LunaTeaware",
          "MSSCrafts",
          "MellowBreez",
          "MemoryPlus",
          "MtPearlsCollectibles",
          "MusicAndMuse",
          "MyPeriodHomeUK",
          "OrnamentCollection",
          "Peaceofartshongkong",
          "QuirkyAntiquesStore",
          "ReginaGB",
          "SapphireLounge",
          "SecretBelladonna",
          "SirensPotteryTools",
          "StampDesignGifts",
          "Statuesquo",
          "TeaQuarter",
          "TpotsOriental",
          "diyhandicrafts",
          "janetsjewelgarden",
          "ladymariaworld",
          "waterforart",
          "BeakersWorld",
          "BeeCreativeShop",
          "BloomaMind",
          "BrendasPaperParty",
          "CraftSupprise",
          "DIYPaperandwoodcraft",
          "DiwataCraft",
          "Duosel",
          "Etudiaire",
          "FluxCraftsUK",
          "GloriaHomeFurnishing",
          "Journalland",
          "LilLv",
          "MeloncholyCo",
          "MoshiMoshiUK",
          "OktoberTreasures",
          "PurochensArtshop",
          "Simonaspretties",
          "SingleSploot",
          "SolaliaCreations",
          "TapesKingdom",
          "WintertimeCrafts",
          "dailystargaze",
          "zakkalover",
          "1000dou",
          "AnnaVladiArt",
          "AzamiPress",
          "BeachFleaMarket",
          "BlueEyedJewelsTX",
          "CalligraphyforGod",
          "CollectWhb",
          "CollectedInvitations",
          "CopingGifts",
          "CynthiasAttic",
          "DancingLionsBar",
          "ExoticMerchantCrafts",
          "FeistudioArt",
          "HechoDeCorazon",
          "JamielalalaPrint",
          "JapanVintageAntique",
          "JapaneseRubberStamps",
          "JayLamArt",
          "Kraftille",
          "LAHUCHA",
          "LaddStamps",
          "LuckyFlowerShop",
          "LuvjasmineShop",
          "MoreUnusualTheBetter",
          "My40YearCollection",
          "MyLittleHand",
          "NineColorHAN",
          "OBDstudio",
          "OlivaDesignCrafts",
          "Orientalartmaterial",
          "PaperPineTree",
          "PaulsJunkCloset",
          "Pimpmychair",
          "PinkPandaStamps",
          "Purana",
          "RainingParties",
          "RechercheReStore",
          "SalonUber",
          "SealCuttingArts",
          "SemliCalligraphy",
          "SindyJoyiArts",
          "SoSylvie",
          "SomedaySomeplace",
          "TreVincentShop",
          "VintageVarietyStudio",
          "WestsidePrints",
          "WorldofBacara",
          "XustomizedDesign",
          "franklyScarlett",
          "salientstone",
          "33imports",
          "BALIGOOD",
          "BaerDesignStudio",
          "BambooMN",
          "BigDotOfHappiness",
          "BohemiansStudio",
          "CCarterWatercolors",
          "CaliQuiltCo",
          "Chaiv",
          "ChinaTownGiftShop",
          "CpandoShop",
          "CraftedInUSAbyVB",
          "CubicCraftCreations",
          "DECOPOMPOMS",
          "DecoYourParty",
          "Dkjewels",
          "EightStrandsStudio",
          "ElegantSparrows",
          "EpicAIArt",
          "ErikordSupplies",
          "FuntastikPrintables",
          "GinetteBrosseau",
          "HandicraftsUnionCN",
          "HappyPartySupply",
          "InnerUnion",
          "JSEventsAU",
          "JayLamArt",
          "JoyEvents",
          "KecklerDesign",
          "KoelschArtLab",
          "LavenderBeeCreations",
          "LightningBugs",
          "LilLv",
          "LisaMarkleSparkles",
          "LittleStarCraftShop",
          "NoTreesHarmedPrints",
          "PaperlovecraftHK",
          "Pimpmychair",
          "RAcollectives",
          "RoadWorkingGifts",
          "ShreesaikripBoutique",
          "SilkscapeDesign",
          "SpoonflowerHome",
          "SunandSeaSVGs",
          "TIGPEEK",
          "TapesKingdom",
          "TheHouseofHarlequin",
          "TimelessNotion",
          "ToscasBungalow",
          "UniqoooShop",
          "UpUpGraphics",
          "VIWEI",
          "VanillaBlueCreation",
          "Vindeedlamps",
          "YYfairyland",
          "ZendaDesigns",
          "brownskylight",
          "iFavor123",
          "kitschpandastore",
          "macynvintage",
          "mypinkeraser",
          "pinkultra",
          "studiostebbylee",
          "thesilhouettequeenUS"
         ],
         "z": [
          0.04050455086801179,
          0.0029713212730260014,
          0.008032477636852034,
          0.0006954526092512583,
          0.03417454121860684,
          0.0417271565550755,
          0.001383255239800753,
          0.0009527700746742239,
          0.1584588770178992,
          0.009169542652977841,
          0.0009659836742499979,
          0.0004259647231663957,
          0.0031260594785844065,
          0.0013561325880399537,
          0.0014409778063686073,
          0.00869315761564073,
          0.0019949058096372344,
          0.001508784435770605,
          0.0013891665869793885,
          0.018099154155763998,
          0.06937139777281302,
          0.000694757156642007,
          0.20950509853694158,
          0.09044361183312614,
          0.09778063686072692,
          0.0017080316083210904,
          0.006259073483261325,
          0.0016263159267340677,
          0.002441734111081168,
          0.0015213025827371276,
          0.014361096381038484,
          0.046347048238331606,
          0.005424530352159815,
          0.004448462615075674,
          0.005560491337268436,
          0.000025036293933045298,
          0.004727339111385429,
          0.00862152599688785,
          0.0010431789138768874,
          0.01168360383542114,
          0.006718072205367156,
          0.01773404153590709,
          0.0073022523971382125,
          0.001975780862882825,
          0.0011892239618196518,
          0.00041727156555075503,
          0.012170420661897021,
          0.027054845131397075,
          0.0004130988498952475,
          0.000500725878660906,
          0.0019124946754409604,
          0.0019472673059035234,
          0.000522435605715846,
          0.00014089378356239193,
          0.02674651861290616,
          0.05393701647401474,
          0.00015582051515427325,
          0.03470101028488213,
          0.0007645399108036771,
          0.0007281332483844543,
          0.0035824155820515157,
          0.010919814326021663,
          0.000310912897060162,
          0.009738782197142077,
          0.04585601165013197,
          0.0013201055793210157,
          0.0013914626376626922,
          0.0003979248202421043,
          0.002729407481569127,
          0.0006931828524620006,
          0.0011591881314280514,
          0.0017120233002639485,
          0.0021290616182761445,
          0.000097751888595613,
          0.0009311003913716211,
          0.0004709201783926458,
          0.0003844543551469919,
          0.14684463456812596,
          0.02669281878583781,
          0.2512059706926367,
          0.018794211340675344,
          0.0018742149813415854,
          0.20295749522162554,
          0.14121379812505688,
          0.0009352871575498315,
          0.0014296896332028762,
          0.002247019204514426,
          0.00032183489578592884,
          0.0006371165923363976,
          0.000254846636934559,
          0.00012123418585601165,
          0.0029489396559570402,
          0.0001597789668229487,
          0.0005203328195878922,
          0.000025228257919412956,
          0.0012298775735713817,
          0.00023651491799449645,
          0.00655298743569685,
          0.0007788699043912096,
          0.008232295912328439,
          0.02221137874321649,
          0.000054398431138734194,
          0.0010357776642038981,
          0.04018414736161827,
          0.002872237164125165,
          0.000031535322399266194,
          0.00028775981689330404,
          0.00003857821106843565,
          0.005094426215860122,
          0.0018088660928219091,
          0.003206091110592063,
          0.00027635454195890275,
          0.00019819950127938804,
          0.000021286342619504686,
          0.0006433205769450304,
          0.00015767661199633099,
          0.0005518681419871584,
          0.000040260094929729846,
          0.14609983746694835,
          0.07717576380127616,
          0.00010879686227746837,
          0.009964531171720132,
          0.00017870016026250843,
          0.003109067435343654,
          0.04082615396679667,
          0.0001262989662090611,
          0.00015767661199633099,
          0.00012062260817719319,
          0.0008803610836461813,
          0.00006191434964389263,
          0.00008556584144334227,
          0.0002100778060497783,
          0.00012614128959706478,
          0.0004094336024838061,
          0.0006045321303939329,
          0.000050771869062818575,
          0.00010406656391757845,
          0.00004740810134023018,
          0.000021023548266177462,
          0.0016816210669408698,
          0.00021853978422691473,
          0.000014611366044993335,
          0.00005781475773198802,
          0.000021023548266177462,
          0.00031535322399266197,
          0.0008199183823809211,
          0.034110707061872934,
          0.0016077758536559216,
          0.000290597995909238,
          0.0003436298964106706,
          0.00005912872949862411,
          0.0007568477375823887,
          0.00012272496300381094,
          0.008870675955430918,
          0.00022574034950808053,
          0.00027146656698701647,
          0.004241500862701303,
          0.00432527970254202,
          0.0006727535445176788,
          0.000007726153987820218,
          0.000020077488594199477,
          0.1885286690769464,
          0.00010248979779761514,
          0.0017696571753054882,
          0.00022074725679486337,
          0.00006307064479853239,
          0.006145708746910327,
          0.012593788676758953,
          0.0000775243342315294,
          0.0006202997915935661,
          0.00023651491799449645,
          0.00037894945749784875,
          0.0005613287387069383,
          0.0007358241893162112,
          0.0005240119405344732,
          0.00010627403648552708,
          0.00007873318825683461,
          0.003914374451679582,
          0.02518726200029391,
          0.00010848150905347572,
          0.00008178160275543033,
          0.0000381577401031121,
          0.00003143020465793531,
          0.00019919811982203146,
          0.0004204709653235493,
          0.0002627943533272183,
          0.00004919510294285526,
          0.00039419152999082744,
          0.00965196356787274,
          0.036232981700472885,
          0.004446480458296534,
          0.0009082172850988665,
          0.00009576226235243834,
          0.0006217714399721986,
          0.000028802261124663128,
          0.00011100433484541702,
          0.0006180923190256174,
          0.018875309545468785,
          0.000055186814198715844,
          0.0007222114418138613,
          0.0036978319045379536,
          0.000036002826405828906,
          0.007121937210650277,
          0.00066281991796191,
          0.0026279435332721827,
          0.00012551058314907944,
          0.003416326593253838,
          0.010706241954550872,
          0.0002389851849157723,
          0.020350794721659786,
          0.026390334549825912,
          0.0035459893271854877,
          0.003206091110592063,
          0.00017644012882389435,
          0.00003547723769917447,
          0.0013481350325686297,
          0.00007883830599816549,
          0.00015767661199633099,
          0.00010511774133088732,
          0.00017170983046400443,
          0.00041563554922232845,
          0.0003679120946581056,
          0.005500390932880009,
          0.0020918430524846576,
          0.0008016804542600121,
          0.00007536942053424621,
          0.00021002524717911287,
          0.031894036691557846,
          0.0005411986912420734,
          0.00421385489673128,
          0.003416326593253838,
          0.0002218509930788377,
          0.00025964082108729164,
          0.010918474674297934,
          0.0005781475773198803,
          0.00025638217110603417,
          0.00010375121069358579,
          0.00017055353530936467,
          0.004199453766168948,
          0.000042047096532354924,
          0.00046409482797586747,
          0.00010511774133088732,
          0.00020760753912850245,
          0.00024886625260087575,
          0.00015767661199633099,
          0.0010595868326153442,
          0.0020497959559523026,
          0.0013402512019688132,
          0.0012403893477044704,
          0.004035943119528753,
          0.000367123711598124,
          0.0003090461595128087,
          0.004635482157209469,
          0.00004083824250704972,
          0.008845657932994168,
          0.00021622719391763522,
          0.00004704018924557207,
          0.0023914286152776866,
          0.00018921193439559717,
          0.00014695460238058048,
          0.00004688251263357574,
          0.00016209155713222824,
          0.000006832653186507676,
          0.018718316198791104,
          0.017213030142932798,
          0.018053972073579897,
          0.0004511653457921684,
          0.0005378349235194849,
          0.004635692392692131,
          0.0006346483632852322,
          0.0005045651583882591,
          0.000042047096532354924,
          0.0047302983598899295,
          0.0031850675623258857,
          0.0002911761434865579,
          0.00002627943533272183,
          0.00040995919119046054,
          0.0048229358634143075,
          0.003719248786130177,
          0.026347158400946178,
          0.000650868537572781,
          0.0014876995144520709,
          0.003184606773123964,
          0.005532382569368639,
          0.014058760411572068,
          0.031799577121413014,
          0.002222251149712781,
          0.023360601625683645,
          0.08022419631682792,
          0.0008368309768792899,
          0.07588476279561054,
          0.0025104929306378697,
          0.0007401305084399053,
          0.00736411259653775,
          0.002318021805955633,
          0.0002789436589597633,
          0.004991231870986698,
          0.0005950798057808284,
          0.0009298121965325443,
          0.0009948990502898223,
          0.0015732422365330651,
          0.003573268271274567,
          0.0004388713567633609,
          0.0011827211139893963,
          0.0018410281491344379,
          0.0035332863468236684,
          0.22915221583544554,
          0.03807580944800769,
          0.24733004427765679,
          0.0034310070052050883,
          0.07199442856531837,
          0.0014876995144520709,
          0.0032729389317945564,
          0.003286886114742544,
          0.005206948300582248,
          0.028638215653202365,
          0.002502124620869077,
          0.0002436107954915266,
          0.000046490609826627215,
          0.0019014659419090531,
          0.01300993225388336,
          0.0016513464610417989,
          0.040284113414772484,
          0.0014876995144520709,
          0.03878305075862792,
          0.031424753020099054,
          0.8218600141505726,
          0.019360079662482637,
          0.06013993343989937,
          0.013102382013049974,
          0.015329786955268468,
          0.03090220865479036,
          0.006231426970087127,
          0.01938175335844556,
          0.12766556628127104,
          0.019262112905615646,
          0.0031088111512264528,
          0.20089748745845945,
          0.08850172420298752,
          0.0007031177381696299,
          0.0014715775698079035,
          0.0180380990420481,
          0.0028345584208932725,
          0.0020246845863523375,
          0.0011006921660351799,
          0.0035431980261165907,
          0.011181780783718592,
          0.03909021718423433,
          0.0001555325886788841,
          0.017372714062078673,
          0.0028069490856248314,
          0.0020246845863523375,
          0.1225854485918779,
          0.03109179275696699,
          0.030451256178739155,
          0.21757260564942218,
          0.00903536895176167,
          0.0022588422379404174,
          0.007945101098249096,
          0.031879793451465764,
          0.004743568699674877,
          0.04331555875474545,
          0.0224649390037301,
          0.4937482776327935,
          0.028103009229629383,
          0.0015058948252936117,
          0.22904660292715834,
          0.10234814180108033,
          0.00914831106365869,
          0.012423632308672296,
          0.002032958014146376,
          0.019186461245808088,
          0.11256057264207411,
          0.3308434663539984,
          0.0070760325021933254,
          0.0036897040857323247,
          0.030362164954370663,
          0.049032067628176225,
          0.1495560056083502,
          0.04181664630496634,
          0.13528914981018522,
          0.0442764490287879,
          0.011880847156058085,
          0.06443043267929913,
          0.006111027413694014,
          0.000020087380103450006,
          0.00016069904082760005,
          0.32032675471634947,
          0.0005673568913663325,
          0.014284359184675561,
          0.0011891729021242404,
          0.008592934822031393,
          0.000986513556191656,
          0.534583661148217,
          0.1060531088010624,
          0.007124324143356936,
          0.0008646073406850263,
          0.008939618143004788,
          0.0038970594282583624,
          0.02141779998764244,
          0.18126492897461574,
          0.002337603017437443,
          0.0007910102768072032,
          0.020950490263994145,
          0.09337759279398283,
          0.03690397185850722,
          0.014639278436671836,
          0.002150974359752992,
          0.017033819010690975,
          0.03491579673461004,
          0.011071191557552165,
          0.0048924122692421,
          0.0036340922687865995,
          0.02509470086378491,
          0.0014285000306830163,
          0.003584957266254987,
          0.008013433889275853,
          0.0006769242838046181,
          0.0012888975771382634,
          0.004898738664417844,
          0.007962400968191516,
          0.004744796381808071,
          0.11136037108103543,
          0.05215691062722623,
          0.0016807123183560145,
          0.029523177486805774,
          0.05076932128534636,
          0.01897855288771471,
          0.0005050572148635702,
          0.001136431453402831,
          0.0007275354452105708,
          0.0134707932477119,
          0.029523177486805774,
          0.026349435906974153,
          0.00646346707121855,
          0.001449798894441355,
          0.002613433847099885,
          0.012568438415811602,
          0.03337215631172848,
          0.03501027090256782,
          0.0021404303677934186,
          0.001223103067310525,
          0.021362760349613468,
          0.006748154854127034,
          0.024090912829233514,
          0.03405193532582068,
          0.005745846510177721,
          0.022849761703264887,
          0.0017816578326132467,
          0.15246091488129704,
          0.006663400293973543,
          0.03363547280744733,
          0.046786334684423864,
          0.007015277715914659,
          0.074241681884994,
          0.07235757872700549,
          0.034074206048728344,
          0.005431829317179636,
          0.0033740145205113357,
          0.01661841343370006,
          0.25769453476459847,
          0.007108814752126854,
          0.0014186450492182977,
          0.0023384259053048865,
          0.015540510444969045,
          0.06861609727851767,
          0.0747739521624872,
          0.0033072023517883393,
          0.05211349160393747,
          0.031237836905979418,
          0.0015797828864884526,
          0.026933104071730215,
          0.00012726028807823645,
          0.0027200789505274093,
          0.1697502163589458,
          0.006582428693701886,
          0.0006845725841449961,
          0.00367525517827049,
          0.0015348029570814898,
          0.025844809194371505,
          0.029949282606329317,
          0.00038178086423470937,
          0.000230385004279566,
          0.004069674305597107,
          0.0014042514546564024,
          0.004596641605385901,
          0.010309268171502019,
          0.0005330670170449578,
          0.0007201176990909863,
          0.0000153590002853044,
          0.00011835206791275991,
          0.00001974728608110566,
          0.002601112522603237,
          0.0016258598873443659,
          0.01397787509679187,
          0.00008337743012022389,
          0.00031815072019559116,
          0.0020370422664109434,
          0.07159488275849751,
          0.000660129832262383,
          0.0006253746087596371,
          0.003430783776586402,
          0.00008662476160911683,
          0.0006582428693701885,
          0.0001448134312614415,
          0.00007457891709964237,
          0.0868880587568649,
          0.020150986432890393,
          0.22132409370982453,
          0.18798069145473276,
          0.00017333728893414966,
          0.0001448134312614415,
          0.022463437515845824,
          0.00041647026345051835,
          0.000059592921106981075,
          0.0345577506419349,
          0.0023498612193646362,
          0.0008886278736497546,
          0.001665354459506577,
          0.007042726943872668,
          0.01173787823978778,
          0.00454149179895789,
          0.011984640452783319,
          0.002505770234234696,
          0.004204294569523987,
          0.2400129330076606,
          0.0017006584949692523,
          0.013765329935751124,
          0.005979915423251885,
          0.0011204338319797426,
          0.006389674081804476,
          0.018639750644782994,
          0.02023023314627424,
          0.09677213683805037,
          0.002240867663959485,
          0.0003601394459934887,
          0.00046017818099168003,
          0.00007336173899867363,
          0.00928599553747211,
          0.010258105271694533,
          0.002801084579949357,
          0.09678414148625016,
          0.010891150386763089,
          0.005319393002303826,
          0.004411308058480243,
          0.0002240867663959485,
          0.008929590870918554,
          0.0033346244999397103,
          0.0029819546128260865,
          0.0006175724573888343,
          0.014058776891745818,
          0.0003025171346345305,
          0.00024009296399565914,
          0.0005602169159898713,
          0.001264489610377138,
          0.014924178641970171,
          0.0012644896103771383,
          0.00020647994903626686,
          0.0015990191402110898,
          0.003601394459934887,
          0.0015771440034914853,
          0.045777725135172344,
          0.0007971086404655885,
          0.005975647103891961,
          0.007563728675743249,
          0.0013559917066554839,
          0.0011188332122197716,
          0.002744529348430379,
          0.0005330063800703634,
          0.0009603718559826366,
          0.056822001478972664,
          0.0002966481955146366,
          0.2036948706539172,
          0.0012804958079768488,
          0.004001549399927653,
          0.0009643734053825642,
          0.0015189881522125368,
          0.006520391362202112,
          0.00896347065583794,
          0.001760681735968167,
          0.000149391177597299,
          0.0014405577839739548,
          0.0005594166061098858
         ]
        }
       ],
       "layout": {
        "height": 1000,
        "template": {
         "data": {
          "bar": [
           {
            "error_x": {
             "color": "#f2f5fa"
            },
            "error_y": {
             "color": "#f2f5fa"
            },
            "marker": {
             "line": {
              "color": "rgb(17,17,17)",
              "width": 0.5
             },
             "pattern": {
              "fillmode": "overlay",
              "size": 10,
              "solidity": 0.2
             }
            },
            "type": "bar"
           }
          ],
          "barpolar": [
           {
            "marker": {
             "line": {
              "color": "rgb(17,17,17)",
              "width": 0.5
             },
             "pattern": {
              "fillmode": "overlay",
              "size": 10,
              "solidity": 0.2
             }
            },
            "type": "barpolar"
           }
          ],
          "carpet": [
           {
            "aaxis": {
             "endlinecolor": "#A2B1C6",
             "gridcolor": "#506784",
             "linecolor": "#506784",
             "minorgridcolor": "#506784",
             "startlinecolor": "#A2B1C6"
            },
            "baxis": {
             "endlinecolor": "#A2B1C6",
             "gridcolor": "#506784",
             "linecolor": "#506784",
             "minorgridcolor": "#506784",
             "startlinecolor": "#A2B1C6"
            },
            "type": "carpet"
           }
          ],
          "choropleth": [
           {
            "colorbar": {
             "outlinewidth": 0,
             "ticks": ""
            },
            "type": "choropleth"
           }
          ],
          "contour": [
           {
            "colorbar": {
             "outlinewidth": 0,
             "ticks": ""
            },
            "colorscale": [
             [
              0,
              "#0d0887"
             ],
             [
              0.1111111111111111,
              "#46039f"
             ],
             [
              0.2222222222222222,
              "#7201a8"
             ],
             [
              0.3333333333333333,
              "#9c179e"
             ],
             [
              0.4444444444444444,
              "#bd3786"
             ],
             [
              0.5555555555555556,
              "#d8576b"
             ],
             [
              0.6666666666666666,
              "#ed7953"
             ],
             [
              0.7777777777777778,
              "#fb9f3a"
             ],
             [
              0.8888888888888888,
              "#fdca26"
             ],
             [
              1,
              "#f0f921"
             ]
            ],
            "type": "contour"
           }
          ],
          "contourcarpet": [
           {
            "colorbar": {
             "outlinewidth": 0,
             "ticks": ""
            },
            "type": "contourcarpet"
           }
          ],
          "heatmap": [
           {
            "colorbar": {
             "outlinewidth": 0,
             "ticks": ""
            },
            "colorscale": [
             [
              0,
              "#0d0887"
             ],
             [
              0.1111111111111111,
              "#46039f"
             ],
             [
              0.2222222222222222,
              "#7201a8"
             ],
             [
              0.3333333333333333,
              "#9c179e"
             ],
             [
              0.4444444444444444,
              "#bd3786"
             ],
             [
              0.5555555555555556,
              "#d8576b"
             ],
             [
              0.6666666666666666,
              "#ed7953"
             ],
             [
              0.7777777777777778,
              "#fb9f3a"
             ],
             [
              0.8888888888888888,
              "#fdca26"
             ],
             [
              1,
              "#f0f921"
             ]
            ],
            "type": "heatmap"
           }
          ],
          "heatmapgl": [
           {
            "colorbar": {
             "outlinewidth": 0,
             "ticks": ""
            },
            "colorscale": [
             [
              0,
              "#0d0887"
             ],
             [
              0.1111111111111111,
              "#46039f"
             ],
             [
              0.2222222222222222,
              "#7201a8"
             ],
             [
              0.3333333333333333,
              "#9c179e"
             ],
             [
              0.4444444444444444,
              "#bd3786"
             ],
             [
              0.5555555555555556,
              "#d8576b"
             ],
             [
              0.6666666666666666,
              "#ed7953"
             ],
             [
              0.7777777777777778,
              "#fb9f3a"
             ],
             [
              0.8888888888888888,
              "#fdca26"
             ],
             [
              1,
              "#f0f921"
             ]
            ],
            "type": "heatmapgl"
           }
          ],
          "histogram": [
           {
            "marker": {
             "pattern": {
              "fillmode": "overlay",
              "size": 10,
              "solidity": 0.2
             }
            },
            "type": "histogram"
           }
          ],
          "histogram2d": [
           {
            "colorbar": {
             "outlinewidth": 0,
             "ticks": ""
            },
            "colorscale": [
             [
              0,
              "#0d0887"
             ],
             [
              0.1111111111111111,
              "#46039f"
             ],
             [
              0.2222222222222222,
              "#7201a8"
             ],
             [
              0.3333333333333333,
              "#9c179e"
             ],
             [
              0.4444444444444444,
              "#bd3786"
             ],
             [
              0.5555555555555556,
              "#d8576b"
             ],
             [
              0.6666666666666666,
              "#ed7953"
             ],
             [
              0.7777777777777778,
              "#fb9f3a"
             ],
             [
              0.8888888888888888,
              "#fdca26"
             ],
             [
              1,
              "#f0f921"
             ]
            ],
            "type": "histogram2d"
           }
          ],
          "histogram2dcontour": [
           {
            "colorbar": {
             "outlinewidth": 0,
             "ticks": ""
            },
            "colorscale": [
             [
              0,
              "#0d0887"
             ],
             [
              0.1111111111111111,
              "#46039f"
             ],
             [
              0.2222222222222222,
              "#7201a8"
             ],
             [
              0.3333333333333333,
              "#9c179e"
             ],
             [
              0.4444444444444444,
              "#bd3786"
             ],
             [
              0.5555555555555556,
              "#d8576b"
             ],
             [
              0.6666666666666666,
              "#ed7953"
             ],
             [
              0.7777777777777778,
              "#fb9f3a"
             ],
             [
              0.8888888888888888,
              "#fdca26"
             ],
             [
              1,
              "#f0f921"
             ]
            ],
            "type": "histogram2dcontour"
           }
          ],
          "mesh3d": [
           {
            "colorbar": {
             "outlinewidth": 0,
             "ticks": ""
            },
            "type": "mesh3d"
           }
          ],
          "parcoords": [
           {
            "line": {
             "colorbar": {
              "outlinewidth": 0,
              "ticks": ""
             }
            },
            "type": "parcoords"
           }
          ],
          "pie": [
           {
            "automargin": true,
            "type": "pie"
           }
          ],
          "scatter": [
           {
            "marker": {
             "line": {
              "color": "#283442"
             }
            },
            "type": "scatter"
           }
          ],
          "scatter3d": [
           {
            "line": {
             "colorbar": {
              "outlinewidth": 0,
              "ticks": ""
             }
            },
            "marker": {
             "colorbar": {
              "outlinewidth": 0,
              "ticks": ""
             }
            },
            "type": "scatter3d"
           }
          ],
          "scattercarpet": [
           {
            "marker": {
             "colorbar": {
              "outlinewidth": 0,
              "ticks": ""
             }
            },
            "type": "scattercarpet"
           }
          ],
          "scattergeo": [
           {
            "marker": {
             "colorbar": {
              "outlinewidth": 0,
              "ticks": ""
             }
            },
            "type": "scattergeo"
           }
          ],
          "scattergl": [
           {
            "marker": {
             "line": {
              "color": "#283442"
             }
            },
            "type": "scattergl"
           }
          ],
          "scattermapbox": [
           {
            "marker": {
             "colorbar": {
              "outlinewidth": 0,
              "ticks": ""
             }
            },
            "type": "scattermapbox"
           }
          ],
          "scatterpolar": [
           {
            "marker": {
             "colorbar": {
              "outlinewidth": 0,
              "ticks": ""
             }
            },
            "type": "scatterpolar"
           }
          ],
          "scatterpolargl": [
           {
            "marker": {
             "colorbar": {
              "outlinewidth": 0,
              "ticks": ""
             }
            },
            "type": "scatterpolargl"
           }
          ],
          "scatterternary": [
           {
            "marker": {
             "colorbar": {
              "outlinewidth": 0,
              "ticks": ""
             }
            },
            "type": "scatterternary"
           }
          ],
          "surface": [
           {
            "colorbar": {
             "outlinewidth": 0,
             "ticks": ""
            },
            "colorscale": [
             [
              0,
              "#0d0887"
             ],
             [
              0.1111111111111111,
              "#46039f"
             ],
             [
              0.2222222222222222,
              "#7201a8"
             ],
             [
              0.3333333333333333,
              "#9c179e"
             ],
             [
              0.4444444444444444,
              "#bd3786"
             ],
             [
              0.5555555555555556,
              "#d8576b"
             ],
             [
              0.6666666666666666,
              "#ed7953"
             ],
             [
              0.7777777777777778,
              "#fb9f3a"
             ],
             [
              0.8888888888888888,
              "#fdca26"
             ],
             [
              1,
              "#f0f921"
             ]
            ],
            "type": "surface"
           }
          ],
          "table": [
           {
            "cells": {
             "fill": {
              "color": "#506784"
             },
             "line": {
              "color": "rgb(17,17,17)"
             }
            },
            "header": {
             "fill": {
              "color": "#2a3f5f"
             },
             "line": {
              "color": "rgb(17,17,17)"
             }
            },
            "type": "table"
           }
          ]
         },
         "layout": {
          "annotationdefaults": {
           "arrowcolor": "#f2f5fa",
           "arrowhead": 0,
           "arrowwidth": 1
          },
          "autotypenumbers": "strict",
          "coloraxis": {
           "colorbar": {
            "outlinewidth": 0,
            "ticks": ""
           }
          },
          "colorscale": {
           "diverging": [
            [
             0,
             "#8e0152"
            ],
            [
             0.1,
             "#c51b7d"
            ],
            [
             0.2,
             "#de77ae"
            ],
            [
             0.3,
             "#f1b6da"
            ],
            [
             0.4,
             "#fde0ef"
            ],
            [
             0.5,
             "#f7f7f7"
            ],
            [
             0.6,
             "#e6f5d0"
            ],
            [
             0.7,
             "#b8e186"
            ],
            [
             0.8,
             "#7fbc41"
            ],
            [
             0.9,
             "#4d9221"
            ],
            [
             1,
             "#276419"
            ]
           ],
           "sequential": [
            [
             0,
             "#0d0887"
            ],
            [
             0.1111111111111111,
             "#46039f"
            ],
            [
             0.2222222222222222,
             "#7201a8"
            ],
            [
             0.3333333333333333,
             "#9c179e"
            ],
            [
             0.4444444444444444,
             "#bd3786"
            ],
            [
             0.5555555555555556,
             "#d8576b"
            ],
            [
             0.6666666666666666,
             "#ed7953"
            ],
            [
             0.7777777777777778,
             "#fb9f3a"
            ],
            [
             0.8888888888888888,
             "#fdca26"
            ],
            [
             1,
             "#f0f921"
            ]
           ],
           "sequentialminus": [
            [
             0,
             "#0d0887"
            ],
            [
             0.1111111111111111,
             "#46039f"
            ],
            [
             0.2222222222222222,
             "#7201a8"
            ],
            [
             0.3333333333333333,
             "#9c179e"
            ],
            [
             0.4444444444444444,
             "#bd3786"
            ],
            [
             0.5555555555555556,
             "#d8576b"
            ],
            [
             0.6666666666666666,
             "#ed7953"
            ],
            [
             0.7777777777777778,
             "#fb9f3a"
            ],
            [
             0.8888888888888888,
             "#fdca26"
            ],
            [
             1,
             "#f0f921"
            ]
           ]
          },
          "colorway": [
           "#636efa",
           "#EF553B",
           "#00cc96",
           "#ab63fa",
           "#FFA15A",
           "#19d3f3",
           "#FF6692",
           "#B6E880",
           "#FF97FF",
           "#FECB52"
          ],
          "font": {
           "color": "#f2f5fa"
          },
          "geo": {
           "bgcolor": "rgb(17,17,17)",
           "lakecolor": "rgb(17,17,17)",
           "landcolor": "rgb(17,17,17)",
           "showlakes": true,
           "showland": true,
           "subunitcolor": "#506784"
          },
          "hoverlabel": {
           "align": "left"
          },
          "hovermode": "closest",
          "mapbox": {
           "style": "dark"
          },
          "paper_bgcolor": "rgb(17,17,17)",
          "plot_bgcolor": "rgb(17,17,17)",
          "polar": {
           "angularaxis": {
            "gridcolor": "#506784",
            "linecolor": "#506784",
            "ticks": ""
           },
           "bgcolor": "rgb(17,17,17)",
           "radialaxis": {
            "gridcolor": "#506784",
            "linecolor": "#506784",
            "ticks": ""
           }
          },
          "scene": {
           "xaxis": {
            "backgroundcolor": "rgb(17,17,17)",
            "gridcolor": "#506784",
            "gridwidth": 2,
            "linecolor": "#506784",
            "showbackground": true,
            "ticks": "",
            "zerolinecolor": "#C8D4E3"
           },
           "yaxis": {
            "backgroundcolor": "rgb(17,17,17)",
            "gridcolor": "#506784",
            "gridwidth": 2,
            "linecolor": "#506784",
            "showbackground": true,
            "ticks": "",
            "zerolinecolor": "#C8D4E3"
           },
           "zaxis": {
            "backgroundcolor": "rgb(17,17,17)",
            "gridcolor": "#506784",
            "gridwidth": 2,
            "linecolor": "#506784",
            "showbackground": true,
            "ticks": "",
            "zerolinecolor": "#C8D4E3"
           }
          },
          "shapedefaults": {
           "line": {
            "color": "#f2f5fa"
           }
          },
          "sliderdefaults": {
           "bgcolor": "#C8D4E3",
           "bordercolor": "rgb(17,17,17)",
           "borderwidth": 1,
           "tickwidth": 0
          },
          "ternary": {
           "aaxis": {
            "gridcolor": "#506784",
            "linecolor": "#506784",
            "ticks": ""
           },
           "baxis": {
            "gridcolor": "#506784",
            "linecolor": "#506784",
            "ticks": ""
           },
           "bgcolor": "rgb(17,17,17)",
           "caxis": {
            "gridcolor": "#506784",
            "linecolor": "#506784",
            "ticks": ""
           }
          },
          "title": {
           "x": 0.05
          },
          "updatemenudefaults": {
           "bgcolor": "#506784",
           "borderwidth": 0
          },
          "xaxis": {
           "automargin": true,
           "gridcolor": "#283442",
           "linecolor": "#506784",
           "ticks": "",
           "title": {
            "standoff": 15
           },
           "zerolinecolor": "#283442",
           "zerolinewidth": 2
          },
          "yaxis": {
           "automargin": true,
           "gridcolor": "#283442",
           "linecolor": "#506784",
           "ticks": "",
           "title": {
            "standoff": 15
           },
           "zerolinecolor": "#283442",
           "zerolinewidth": 2
          }
         }
        },
        "title": {
         "text": "Percentage of Total Revenue by Product and Store (With Sales)"
        },
        "width": 1000,
        "xaxis": {
         "title": {
          "text": "Product Name"
         }
        },
        "yaxis": {
         "title": {
          "text": "Store Name"
         }
        }
       }
      }
     },
     "metadata": {},
     "output_type": "display_data"
    }
   ],
   "source": [
    "product_store_sales = (\n",
    "    all_product_data[all_product_data[\"has_sales\"] == True]\n",
    "    .groupby([\"product_name_chinese_name\", \"Store Name\"])[\"proceeds\"]\n",
    "    .sum()\n",
    "    .reset_index()\n",
    ")\n",
    "\n",
    "# Calculate the total proceeds for each product\n",
    "product_total_revenue = (\n",
    "    all_product_data[all_product_data[\"has_sales\"] == True]\n",
    "    .groupby(\"product_name_chinese_name\")[\"proceeds\"]\n",
    "    .sum()\n",
    ")\n",
    "\n",
    "# Calculate the percentage of total proceeds for each product in each store\n",
    "product_store_sales[\"Percentage of Total Revenue\"] = product_store_sales.apply(\n",
    "    lambda row: row[\"proceeds\"]\n",
    "    / product_total_revenue[row[\"product_name_chinese_name\"]],\n",
    "    axis=1,\n",
    ")\n",
    "\n",
    "# Create the heatmap\n",
    "fig = plot_heatmap_plotly(\n",
    "    data=product_store_sales,\n",
    "    x=\"product_name_chinese_name\",\n",
    "    y=\"Store Name\",\n",
    "    z=\"Percentage of Total Revenue\",\n",
    "    title=\"Percentage of Total Revenue by Product and Store (With Sales)\",\n",
    "    x_label=\"Product Name\",\n",
    "    y_label=\"Store Name\",\n",
    "    colorbar_title=\"%\",\n",
    ")\n",
    "\n",
    "fig.show()"
   ]
  },
  {
   "cell_type": "code",
   "execution_count": 291,
   "metadata": {},
   "outputs": [
    {
     "data": {
      "text/plain": [
       "['https://www.etsy.com/listing/995735919/jackie-chan-adventures-12-magnetic',\n",
       " 'https://www.etsy.com/listing/773097825/rat-pin-or-magnet-rat-magnet-rat-art',\n",
       " 'https://www.etsy.com/listing/928983426/cute-cat-feng-shui-magnetic-bookmark',\n",
       " 'https://www.etsy.com/listing/1255275264/japanese-fan-magnets-cherry-blossoms',\n",
       " 'https://www.etsy.com/listing/942924669/cute-cat-feng-shui-magnetic-bookmark',\n",
       " 'https://www.etsy.com/listing/173899723/fridge-serpent-refrigerator-magnet',\n",
       " 'https://www.etsy.com/listing/712364491/chinese-pattern-fridge-magnets-planner',\n",
       " 'https://www.etsy.com/listing/859161210/yin-yang-pin-gift-packaged-magnetic-back',\n",
       " 'https://www.etsy.com/listing/1027716447/lot-of-3-vintage-90s-magnetic-travel',\n",
       " 'https://www.etsy.com/listing/897498128/magnets-japanese-style-yuzen-chiyogami']"
      ]
     },
     "execution_count": 291,
     "metadata": {},
     "output_type": "execute_result"
    }
   ],
   "source": [
    "# Get top 10 chinese magnet products by sales\n",
    "urls = (\n",
    "    all_product_data[all_product_data[\"product_name\"] == \"chinese magnets\"]\n",
    "    .sort_values(by=\"Total Sales\", ascending=False)\n",
    "    .head(10)[\"Product URL\"]\n",
    "    .to_list()\n",
    ")\n",
    "\n",
    "urls"
   ]
  },
  {
   "cell_type": "code",
   "execution_count": 344,
   "metadata": {},
   "outputs": [],
   "source": [
    "@retry(stop=stop_after_attempt(5), wait=wait_fixed(1) + wait_random(0, 3))\n",
    "def fetch_image(url):\n",
    "    # logging.info(f\"Attempting to fetch image from: {url}\")\n",
    "    try:\n",
    "        response = requests.get(\n",
    "            url,\n",
    "            headers={\n",
    "                \"User-Agent\": \"Mozilla/5.0 (Windows NT 10.0; Win64; x64) AppleWebKit/537.36 (KHTML, like Gecko) Chrome/58.0.3029.110 Safari/537.3\"\n",
    "            },\n",
    "            timeout=15,\n",
    "        )\n",
    "        if response.status_code == 200:\n",
    "            # logging.info(f\"Successfully fetched image from: {url}\")\n",
    "            return response\n",
    "        else:\n",
    "            # logging.error(\n",
    "            #    f\"Failed to fetch image from: {url}. Status code: {response.status_code}\"\n",
    "            # )\n",
    "            raise Exception(\"Failed to fetch image\")\n",
    "    except Exception as e:\n",
    "        # logging.error(f\"Error fetching image from: {url}. Error: {str(e)}\")\n",
    "        raise e\n",
    "\n",
    "\n",
    "@retry(\n",
    "    stop=stop_after_attempt(5),\n",
    "    wait=wait_fixed(1) + wait_random(0, 3),\n",
    "    retry_error_callback=lambda _: \"\",\n",
    ")\n",
    "def fetch_image_url(url):\n",
    "    try:\n",
    "        # logging.info(f\"Attempting to fetch image URL from: {url}\")\n",
    "        response = requests.get(\n",
    "            url,\n",
    "            timeout=15,\n",
    "            headers={\n",
    "                \"User-Agent\": \"Mozilla/5.0 (Windows NT 10.0; Win64; x64) AppleWebKit/537.36 (KHTML, like Gecko) Chrome/58.0.3029.110 Safari/537.3\"\n",
    "            },\n",
    "        )\n",
    "        soup = BeautifulSoup(response.text, \"html.parser\")\n",
    "        img_tag = soup.find(\"img\")\n",
    "        if img_tag and img_tag.get(\"src\"):\n",
    "            # logging.info(f\"Successfully fetched image URL from: {url}\")\n",
    "            return img_tag\n",
    "        else:\n",
    "            raise Exception(\"No image found\")\n",
    "    except Exception as e:\n",
    "        # logging.error(f\"Error fetching image for URL: {url}. Error: {str(e)}\")\n",
    "        html += f\"<tr><td>Error fetching image: {str(e)}</td></tr>\""
   ]
  },
  {
   "cell_type": "code",
   "execution_count": 293,
   "metadata": {},
   "outputs": [],
   "source": [
    "products = all_product_data.product_name_chinese_name.unique().tolist()\n",
    "top_products = {}\n",
    "for product in products:\n",
    "    top_products[product] = (\n",
    "        all_product_data[all_product_data[\"product_name_chinese_name\"] == product]\n",
    "        .sort_values(by=\"Total Sales\", ascending=False)\n",
    "        .head(10)[\"Product URL\"]\n",
    "        .to_list()\n",
    "    )"
   ]
  },
  {
   "cell_type": "code",
   "execution_count": 296,
   "metadata": {},
   "outputs": [
    {
     "data": {
      "text/html": [
       "<div>\n",
       "<style scoped>\n",
       "    .dataframe tbody tr th:only-of-type {\n",
       "        vertical-align: middle;\n",
       "    }\n",
       "\n",
       "    .dataframe tbody tr th {\n",
       "        vertical-align: top;\n",
       "    }\n",
       "\n",
       "    .dataframe thead th {\n",
       "        text-align: right;\n",
       "    }\n",
       "</style>\n",
       "<table border=\"1\" class=\"dataframe\">\n",
       "  <thead>\n",
       "    <tr style=\"text-align: right;\">\n",
       "      <th></th>\n",
       "      <th>bead bracelets and necklaces (珠子手链和项链)</th>\n",
       "      <th>chinese mid autumn gift sets (中秋节礼品套装)</th>\n",
       "      <th>chinese pottery (中国陶器)</th>\n",
       "      <th>chinese incense (中国香)</th>\n",
       "      <th>chinese magnets (中国冰箱贴)</th>\n",
       "      <th>paper lanterns (纸灯笼)</th>\n",
       "      <th>chinese bamboo art (中国竹艺)</th>\n",
       "      <th>chinese washi tape (中国和纸胶带)</th>\n",
       "      <th>chinese art stickers (中国艺术贴纸)</th>\n",
       "      <th>brushes and calligraphy tools (笔和书法工具)</th>\n",
       "      <th>calligraphy prints (书法印刷品)</th>\n",
       "      <th>chinese bookmarks (中国书签)</th>\n",
       "      <th>name seals (印章)</th>\n",
       "    </tr>\n",
       "  </thead>\n",
       "  <tbody>\n",
       "    <tr>\n",
       "      <th>0</th>\n",
       "      <td>https://www.etsy.com/listing/1303517549/natural-jade-bracelet-hetian-jade-beaded</td>\n",
       "      <td>https://www.etsy.com/listing/1277366663/traditional-asian-chinese-mooncakes</td>\n",
       "      <td>https://www.etsy.com/listing/1159288023/free-shipping-6-oval-moss-green-glazed</td>\n",
       "      <td>https://www.etsy.com/listing/786123821/vintage-style-copper-incense-burner</td>\n",
       "      <td>https://www.etsy.com/listing/995735919/jackie-chan-adventures-12-magnetic</td>\n",
       "      <td>https://www.etsy.com/listing/742923687/paper-lantern-round-chinese-paper</td>\n",
       "      <td>https://www.etsy.com/listing/712035016/watercolor-bamboo-instant-download</td>\n",
       "      <td>https://www.etsy.com/listing/1167525912/top-seller-from-the-library-of-book</td>\n",
       "      <td>https://www.etsy.com/listing/966657972/asian-food-animal-sticker-pack-of-5</td>\n",
       "      <td>https://www.etsy.com/listing/1150867936/traditional-ink-brush-set-procreatesumi</td>\n",
       "      <td>https://www.etsy.com/listing/613075037/bathroom-decor-wash-your-worries-away</td>\n",
       "      <td>https://www.etsy.com/listing/121885795/bookmarks-book-marks-chinese-oriental</td>\n",
       "      <td>https://www.etsy.com/listing/838077651/square-japanese-hanko-chop-japanese-name</td>\n",
       "    </tr>\n",
       "    <tr>\n",
       "      <th>1</th>\n",
       "      <td>https://www.etsy.com/listing/1270040450/green-jade-earrings-dangle-earrings</td>\n",
       "      <td>https://www.etsy.com/listing/1269843970/16-pieces-fresh-made-mooncake-gift-sets</td>\n",
       "      <td>https://www.etsy.com/listing/736780709/12mm-longevity-beads-12mm-porcelain</td>\n",
       "      <td>https://www.etsy.com/listing/784003647/chinese-metal-incense-burner-censer</td>\n",
       "      <td>https://www.etsy.com/listing/773097825/rat-pin-or-magnet-rat-magnet-rat-art</td>\n",
       "      <td>https://www.etsy.com/listing/1191818041/paper-lanterns-wedding-lanterns-chinese</td>\n",
       "      <td>https://www.etsy.com/listing/670739281/panda-pile-buttons-by-dress-it-up-jesse</td>\n",
       "      <td>https://www.etsy.com/listing/687412636/warning-stickers-mk-ii</td>\n",
       "      <td>https://www.etsy.com/listing/717003158/6-sheets-ink-painting-stickers-the-24</td>\n",
       "      <td>https://www.etsy.com/listing/831448594/large-calligraphy-brush-penchinese</td>\n",
       "      <td>https://www.etsy.com/listing/578630606/any-quote-personalised-chinese</td>\n",
       "      <td>https://www.etsy.com/listing/1214165938/tian-guan-ci-fu-ebony-bookmark-tianguan</td>\n",
       "      <td>https://www.etsy.com/listing/498471491/engraved-dragon-chinese-chop-stone-seal</td>\n",
       "    </tr>\n",
       "    <tr>\n",
       "      <th>2</th>\n",
       "      <td>https://www.etsy.com/listing/114605721/natural-white-jade-smooth-round-beads</td>\n",
       "      <td>https://www.etsy.com/listing/1244281681/pink-embroidered-floral-lightweight</td>\n",
       "      <td>https://www.etsy.com/listing/168153677/rabbit-bunny-rabbit-porcelain-rabbit</td>\n",
       "      <td>https://www.etsy.com/listing/1165574622/pure-copper-mini-censer</td>\n",
       "      <td>https://www.etsy.com/listing/928983426/cute-cat-feng-shui-magnetic-bookmark</td>\n",
       "      <td>https://www.etsy.com/listing/1031757709/minimalist-origami-lampshade-white-paper</td>\n",
       "      <td>https://www.etsy.com/listing/1045365395/wood-bookmark-with-chinese-painting-art</td>\n",
       "      <td>https://www.etsy.com/listing/1413455244/custom-name-necklace-18k-gold-plated</td>\n",
       "      <td>https://www.etsy.com/listing/1096533961/lazy-bear-matte-sticker-sheet-cute</td>\n",
       "      <td>https://www.etsy.com/listing/794081778/painting-writing-brush-watercolor</td>\n",
       "      <td>https://www.etsy.com/listing/200155276/chinese-art-vintage-nature-landscape</td>\n",
       "      <td>https://www.etsy.com/listing/89479610/sale-owl-bookmark-antiqued-bronze</td>\n",
       "      <td>https://www.etsy.com/listing/735559121/custom-name-seal-stone-seal-carving</td>\n",
       "    </tr>\n",
       "    <tr>\n",
       "      <th>3</th>\n",
       "      <td>https://www.etsy.com/listing/803945124/jade-feng-shui-bracelet</td>\n",
       "      <td>https://www.etsy.com/listing/1298226061/moon-festival-lantern-original-enamel</td>\n",
       "      <td>https://www.etsy.com/listing/1497308671/porcelain-dragon-tea-cup-115ml-green</td>\n",
       "      <td>https://www.etsy.com/listing/895146735/round-incense-plate-with-seperate-holder</td>\n",
       "      <td>https://www.etsy.com/listing/1255275264/japanese-fan-magnets-cherry-blossoms</td>\n",
       "      <td>https://www.etsy.com/listing/1058609686/eyelet-paper-lantern-round-chinese-paper</td>\n",
       "      <td>https://www.etsy.com/listing/1314628888/wall-shelf-living-room-cabinet-bedroom</td>\n",
       "      <td>https://www.etsy.com/listing/1167562350/personalized-cutting-board-wedding-gift</td>\n",
       "      <td>https://www.etsy.com/listing/1011193252/stamp-queen-sticker-desi-stamp-sticker</td>\n",
       "      <td>https://www.etsy.com/listing/235003549/calligraphy-painting-tools-starter-sumi</td>\n",
       "      <td>https://www.etsy.com/listing/1126738487/enso-circle-wall-art-japanese</td>\n",
       "      <td>https://www.etsy.com/listing/1025879661/the-bride-test-bookmarks-the-kiss</td>\n",
       "      <td>https://www.etsy.com/listing/1275293621/customized-square-sandalwood-stamp</td>\n",
       "    </tr>\n",
       "    <tr>\n",
       "      <th>4</th>\n",
       "      <td>https://www.etsy.com/listing/1214233664/authentic-green-jade-beads-bracelet</td>\n",
       "      <td>https://www.etsy.com/listing/1540882222/gift-set-6pcs-savory-salted-egg-yolk</td>\n",
       "      <td>https://www.etsy.com/listing/948976648/hand-painted-ceramic-coffee-mug-creative</td>\n",
       "      <td>https://www.etsy.com/listing/838556888/censer-incense-burner-copper-incense</td>\n",
       "      <td>https://www.etsy.com/listing/942924669/cute-cat-feng-shui-magnetic-bookmark</td>\n",
       "      <td>https://www.etsy.com/listing/1055915794/strawberry-paper-lantern-chinese-paper</td>\n",
       "      <td>https://www.etsy.com/listing/1302591642/mahogany-carving-mini-furniture-model</td>\n",
       "      <td>https://www.etsy.com/listing/1295695410/custom-pet-portraits-using-pet-photo</td>\n",
       "      <td>https://www.etsy.com/listing/1138284039/holographic-gomi-soda-glossy-vinyl</td>\n",
       "      <td>https://www.etsy.com/listing/1000108455/claborate-painting-brush-watercolor</td>\n",
       "      <td>https://www.etsy.com/listing/1166588216/love-mandala-hebrew-calligraphy-art-fine</td>\n",
       "      <td>https://www.etsy.com/listing/583093453/chinese-box-scrap-ephemera-kit-2</td>\n",
       "      <td>https://www.etsy.com/listing/829885468/custom-chinese-name-chop-personal-asian</td>\n",
       "    </tr>\n",
       "    <tr>\n",
       "      <th>5</th>\n",
       "      <td>https://www.etsy.com/listing/1202442975/guanyin-bodhisattva-carved-green-jade</td>\n",
       "      <td>https://www.etsy.com/listing/911353476/10pcs-pixiu-grade-a-jade-natual-burma</td>\n",
       "      <td>https://www.etsy.com/listing/1053467836/watercolor-pink-hydrangea-chinoiserie</td>\n",
       "      <td>https://www.etsy.com/listing/914381225/chinese-antique-pure-copper-small</td>\n",
       "      <td>https://www.etsy.com/listing/173899723/fridge-serpent-refrigerator-magnet</td>\n",
       "      <td>https://www.etsy.com/listing/1386032695/dragon-paper-lantern-crafts-chinese-new</td>\n",
       "      <td>https://www.etsy.com/listing/1335811495/tea-tray-tea-set-tray-new-high-grade</td>\n",
       "      <td>https://www.etsy.com/listing/1144768652/personalised-gaming-snacks-jar-sticker</td>\n",
       "      <td>https://www.etsy.com/listing/1462986664/45-colorful-ink-painting-stickers</td>\n",
       "      <td>https://www.etsy.com/listing/528343871/rare-calligraphy-tools-porcelain-ink-pot</td>\n",
       "      <td>https://www.etsy.com/listing/687551302/blank-chinese-or-japanese-scroll-for</td>\n",
       "      <td>https://www.etsy.com/listing/944830498/black-lantern-metal-bookmark-deep-black</td>\n",
       "      <td>https://www.etsy.com/listing/728273678/custom-name-sealseal-carvingchinese-seal</td>\n",
       "    </tr>\n",
       "    <tr>\n",
       "      <th>6</th>\n",
       "      <td>https://www.etsy.com/listing/1133477746/green-jade-14k-gold-plated-earrings-tiny</td>\n",
       "      <td>https://www.etsy.com/listing/1351168084/chinese-new-year-scavenger-hunt-for-kids</td>\n",
       "      <td>https://www.etsy.com/listing/1194003477/loose-leaf-tea-set-tea-gift-set</td>\n",
       "      <td>https://www.etsy.com/listing/1115379703/chinese-antique-boutique-collection-of</td>\n",
       "      <td>https://www.etsy.com/listing/712364491/chinese-pattern-fridge-magnets-planner</td>\n",
       "      <td>https://www.etsy.com/listing/564245404/vintage-paper-lantern-washi-tape-paper</td>\n",
       "      <td>https://www.etsy.com/listing/1018043219/ba-ba-chinese-dad-bamboo-coffee-mug</td>\n",
       "      <td>https://www.etsy.com/listing/726364447/customized-dog-socks-put-your-cute-dog</td>\n",
       "      <td>https://www.etsy.com/listing/62456401/tall-bamboo-wall-decal-vinyl-wall</td>\n",
       "      <td>https://www.etsy.com/listing/643275849/chinese-brushes-set-chinese-calligraphy</td>\n",
       "      <td>https://www.etsy.com/listing/613261572/taekwondo-principles-gold-foil-print</td>\n",
       "      <td>https://www.etsy.com/listing/1463242050/chinese-style-calligraphy-bookmarks-buy</td>\n",
       "      <td>https://www.etsy.com/listing/710054594/chinese-name-seal-chinese-custom-seal</td>\n",
       "    </tr>\n",
       "    <tr>\n",
       "      <th>7</th>\n",
       "      <td>https://www.etsy.com/listing/747799956/1-pc-silk-cord-knot-necklace-25-inches</td>\n",
       "      <td>https://www.etsy.com/listing/894218438/yingmart-set-5-traditional-japanese</td>\n",
       "      <td>https://www.etsy.com/listing/1136726592/blue-porcelain-art-ring</td>\n",
       "      <td>https://www.etsy.com/listing/1333718112/traditional-chinese-incense-270pcs</td>\n",
       "      <td>https://www.etsy.com/listing/859161210/yin-yang-pin-gift-packaged-magnetic-back</td>\n",
       "      <td>https://www.etsy.com/listing/1302413414/sets-of-brightly-coloured-christmas</td>\n",
       "      <td>https://www.etsy.com/listing/1315888861/bogu-rack-hanging-wall-solid-wood</td>\n",
       "      <td>https://www.etsy.com/listing/1201385914/personalized-song-arcylic-plaque-mothers</td>\n",
       "      <td>https://www.etsy.com/listing/735317524/40-ink-painting-stickers-chinese</td>\n",
       "      <td>https://www.etsy.com/listing/1121862412/chinese-calligraphy-brush-japanese</td>\n",
       "      <td>https://www.etsy.com/listing/701140431/custom-japanese-calligraphy-scroll</td>\n",
       "      <td>https://www.etsy.com/listing/1145715788/winter-water-lily-metal-bookmark</td>\n",
       "      <td>https://www.etsy.com/listing/738772594/custom-japanese-name-seal-stamphanko</td>\n",
       "    </tr>\n",
       "    <tr>\n",
       "      <th>8</th>\n",
       "      <td>https://www.etsy.com/listing/1145393776/real-jade-flower-rose-necklace-light</td>\n",
       "      <td>https://www.etsy.com/listing/1408356134/rainbow-plush-cute-bunny-ears-backpack</td>\n",
       "      <td>https://www.etsy.com/listing/1436331148/chinese-traditional-retro-style-tea</td>\n",
       "      <td>https://www.etsy.com/listing/1282254321/tibet-ancient-bronze-cicada-incense</td>\n",
       "      <td>https://www.etsy.com/listing/1027716447/lot-of-3-vintage-90s-magnetic-travel</td>\n",
       "      <td>https://www.etsy.com/listing/1048917042/halloween-paper-lantern-halloween-party</td>\n",
       "      <td>https://www.etsy.com/listing/568817815/antique-chinese-bamboo-yarn-holder-skein</td>\n",
       "      <td>https://www.etsy.com/listing/1297674073/personalised-santa-sack-christmas-sack</td>\n",
       "      <td>https://www.etsy.com/listing/1205355980/suatelier-china-themed-stickers</td>\n",
       "      <td>https://www.etsy.com/listing/960301313/chinese-hsk-1-character-book-writing</td>\n",
       "      <td>https://www.etsy.com/listing/829383002/japanese-print-koi-carp-sumi-e-fish</td>\n",
       "      <td>https://www.etsy.com/listing/1389490042/handmade-self-embroidered-beginner</td>\n",
       "      <td>https://www.etsy.com/listing/748288805/custom-name-sealseal-carvingchinese-seal</td>\n",
       "    </tr>\n",
       "    <tr>\n",
       "      <th>9</th>\n",
       "      <td>https://www.etsy.com/listing/1315511846/chinese-jade-crystal-bracelet-round</td>\n",
       "      <td>https://www.etsy.com/listing/522536243/chinese-stone-seal-set-the-moon-story</td>\n",
       "      <td>https://www.etsy.com/listing/1296640961/ramen-noodle-bowl-with-chopsticks</td>\n",
       "      <td>https://www.etsy.com/listing/1064821971/creativity-retro-chinese-hand-holding</td>\n",
       "      <td>https://www.etsy.com/listing/897498128/magnets-japanese-style-yuzen-chiyogami</td>\n",
       "      <td>https://www.etsy.com/listing/1142882158/chinese-new-year-embosser-cookie-cutters</td>\n",
       "      <td>https://www.etsy.com/listing/1238666007/chinese-antique-collection-handcrafted</td>\n",
       "      <td>https://www.etsy.com/listing/1480621971/custom-compact-mirror-bridesmaid</td>\n",
       "      <td>https://www.etsy.com/listing/1138263923/cloud-bear-matte-sticker-sheet-cute</td>\n",
       "      <td>https://www.etsy.com/listing/996549950/chinese-calligraphywatercolorkanjisumi</td>\n",
       "      <td>https://www.etsy.com/listing/1048560009/chinese-art-print-asian-woman-sipping</td>\n",
       "      <td>https://www.etsy.com/listing/1256747427/butterfly-exquisite-metal-bookmark-for</td>\n",
       "      <td>https://www.etsy.com/listing/618959279/red-ink-paste-chinese-ink-set-chinese</td>\n",
       "    </tr>\n",
       "  </tbody>\n",
       "</table>\n",
       "</div>"
      ],
      "text/plain": [
       "                                             bead bracelets and necklaces (珠子手链和项链)  \\\n",
       "0  https://www.etsy.com/listing/1303517549/natural-jade-bracelet-hetian-jade-beaded   \n",
       "1       https://www.etsy.com/listing/1270040450/green-jade-earrings-dangle-earrings   \n",
       "2      https://www.etsy.com/listing/114605721/natural-white-jade-smooth-round-beads   \n",
       "3                    https://www.etsy.com/listing/803945124/jade-feng-shui-bracelet   \n",
       "4       https://www.etsy.com/listing/1214233664/authentic-green-jade-beads-bracelet   \n",
       "5     https://www.etsy.com/listing/1202442975/guanyin-bodhisattva-carved-green-jade   \n",
       "6  https://www.etsy.com/listing/1133477746/green-jade-14k-gold-plated-earrings-tiny   \n",
       "7     https://www.etsy.com/listing/747799956/1-pc-silk-cord-knot-necklace-25-inches   \n",
       "8      https://www.etsy.com/listing/1145393776/real-jade-flower-rose-necklace-light   \n",
       "9       https://www.etsy.com/listing/1315511846/chinese-jade-crystal-bracelet-round   \n",
       "\n",
       "                                             chinese mid autumn gift sets (中秋节礼品套装)  \\\n",
       "0       https://www.etsy.com/listing/1277366663/traditional-asian-chinese-mooncakes   \n",
       "1   https://www.etsy.com/listing/1269843970/16-pieces-fresh-made-mooncake-gift-sets   \n",
       "2       https://www.etsy.com/listing/1244281681/pink-embroidered-floral-lightweight   \n",
       "3     https://www.etsy.com/listing/1298226061/moon-festival-lantern-original-enamel   \n",
       "4      https://www.etsy.com/listing/1540882222/gift-set-6pcs-savory-salted-egg-yolk   \n",
       "5      https://www.etsy.com/listing/911353476/10pcs-pixiu-grade-a-jade-natual-burma   \n",
       "6  https://www.etsy.com/listing/1351168084/chinese-new-year-scavenger-hunt-for-kids   \n",
       "7        https://www.etsy.com/listing/894218438/yingmart-set-5-traditional-japanese   \n",
       "8    https://www.etsy.com/listing/1408356134/rainbow-plush-cute-bunny-ears-backpack   \n",
       "9      https://www.etsy.com/listing/522536243/chinese-stone-seal-set-the-moon-story   \n",
       "\n",
       "                                                            chinese pottery (中国陶器)  \\\n",
       "0   https://www.etsy.com/listing/1159288023/free-shipping-6-oval-moss-green-glazed   \n",
       "1       https://www.etsy.com/listing/736780709/12mm-longevity-beads-12mm-porcelain   \n",
       "2      https://www.etsy.com/listing/168153677/rabbit-bunny-rabbit-porcelain-rabbit   \n",
       "3     https://www.etsy.com/listing/1497308671/porcelain-dragon-tea-cup-115ml-green   \n",
       "4  https://www.etsy.com/listing/948976648/hand-painted-ceramic-coffee-mug-creative   \n",
       "5    https://www.etsy.com/listing/1053467836/watercolor-pink-hydrangea-chinoiserie   \n",
       "6          https://www.etsy.com/listing/1194003477/loose-leaf-tea-set-tea-gift-set   \n",
       "7                  https://www.etsy.com/listing/1136726592/blue-porcelain-art-ring   \n",
       "8      https://www.etsy.com/listing/1436331148/chinese-traditional-retro-style-tea   \n",
       "9        https://www.etsy.com/listing/1296640961/ramen-noodle-bowl-with-chopsticks   \n",
       "\n",
       "                                                             chinese incense (中国香)  \\\n",
       "0       https://www.etsy.com/listing/786123821/vintage-style-copper-incense-burner   \n",
       "1       https://www.etsy.com/listing/784003647/chinese-metal-incense-burner-censer   \n",
       "2                  https://www.etsy.com/listing/1165574622/pure-copper-mini-censer   \n",
       "3  https://www.etsy.com/listing/895146735/round-incense-plate-with-seperate-holder   \n",
       "4      https://www.etsy.com/listing/838556888/censer-incense-burner-copper-incense   \n",
       "5         https://www.etsy.com/listing/914381225/chinese-antique-pure-copper-small   \n",
       "6   https://www.etsy.com/listing/1115379703/chinese-antique-boutique-collection-of   \n",
       "7       https://www.etsy.com/listing/1333718112/traditional-chinese-incense-270pcs   \n",
       "8      https://www.etsy.com/listing/1282254321/tibet-ancient-bronze-cicada-incense   \n",
       "9    https://www.etsy.com/listing/1064821971/creativity-retro-chinese-hand-holding   \n",
       "\n",
       "                                                           chinese magnets (中国冰箱贴)  \\\n",
       "0        https://www.etsy.com/listing/995735919/jackie-chan-adventures-12-magnetic   \n",
       "1      https://www.etsy.com/listing/773097825/rat-pin-or-magnet-rat-magnet-rat-art   \n",
       "2      https://www.etsy.com/listing/928983426/cute-cat-feng-shui-magnetic-bookmark   \n",
       "3     https://www.etsy.com/listing/1255275264/japanese-fan-magnets-cherry-blossoms   \n",
       "4      https://www.etsy.com/listing/942924669/cute-cat-feng-shui-magnetic-bookmark   \n",
       "5        https://www.etsy.com/listing/173899723/fridge-serpent-refrigerator-magnet   \n",
       "6    https://www.etsy.com/listing/712364491/chinese-pattern-fridge-magnets-planner   \n",
       "7  https://www.etsy.com/listing/859161210/yin-yang-pin-gift-packaged-magnetic-back   \n",
       "8     https://www.etsy.com/listing/1027716447/lot-of-3-vintage-90s-magnetic-travel   \n",
       "9    https://www.etsy.com/listing/897498128/magnets-japanese-style-yuzen-chiyogami   \n",
       "\n",
       "                                                               paper lanterns (纸灯笼)  \\\n",
       "0          https://www.etsy.com/listing/742923687/paper-lantern-round-chinese-paper   \n",
       "1   https://www.etsy.com/listing/1191818041/paper-lanterns-wedding-lanterns-chinese   \n",
       "2  https://www.etsy.com/listing/1031757709/minimalist-origami-lampshade-white-paper   \n",
       "3  https://www.etsy.com/listing/1058609686/eyelet-paper-lantern-round-chinese-paper   \n",
       "4    https://www.etsy.com/listing/1055915794/strawberry-paper-lantern-chinese-paper   \n",
       "5   https://www.etsy.com/listing/1386032695/dragon-paper-lantern-crafts-chinese-new   \n",
       "6     https://www.etsy.com/listing/564245404/vintage-paper-lantern-washi-tape-paper   \n",
       "7       https://www.etsy.com/listing/1302413414/sets-of-brightly-coloured-christmas   \n",
       "8   https://www.etsy.com/listing/1048917042/halloween-paper-lantern-halloween-party   \n",
       "9  https://www.etsy.com/listing/1142882158/chinese-new-year-embosser-cookie-cutters   \n",
       "\n",
       "                                                         chinese bamboo art (中国竹艺)  \\\n",
       "0        https://www.etsy.com/listing/712035016/watercolor-bamboo-instant-download   \n",
       "1   https://www.etsy.com/listing/670739281/panda-pile-buttons-by-dress-it-up-jesse   \n",
       "2  https://www.etsy.com/listing/1045365395/wood-bookmark-with-chinese-painting-art   \n",
       "3   https://www.etsy.com/listing/1314628888/wall-shelf-living-room-cabinet-bedroom   \n",
       "4    https://www.etsy.com/listing/1302591642/mahogany-carving-mini-furniture-model   \n",
       "5     https://www.etsy.com/listing/1335811495/tea-tray-tea-set-tray-new-high-grade   \n",
       "6      https://www.etsy.com/listing/1018043219/ba-ba-chinese-dad-bamboo-coffee-mug   \n",
       "7        https://www.etsy.com/listing/1315888861/bogu-rack-hanging-wall-solid-wood   \n",
       "8  https://www.etsy.com/listing/568817815/antique-chinese-bamboo-yarn-holder-skein   \n",
       "9   https://www.etsy.com/listing/1238666007/chinese-antique-collection-handcrafted   \n",
       "\n",
       "                                                        chinese washi tape (中国和纸胶带)  \\\n",
       "0       https://www.etsy.com/listing/1167525912/top-seller-from-the-library-of-book   \n",
       "1                     https://www.etsy.com/listing/687412636/warning-stickers-mk-ii   \n",
       "2      https://www.etsy.com/listing/1413455244/custom-name-necklace-18k-gold-plated   \n",
       "3   https://www.etsy.com/listing/1167562350/personalized-cutting-board-wedding-gift   \n",
       "4      https://www.etsy.com/listing/1295695410/custom-pet-portraits-using-pet-photo   \n",
       "5    https://www.etsy.com/listing/1144768652/personalised-gaming-snacks-jar-sticker   \n",
       "6     https://www.etsy.com/listing/726364447/customized-dog-socks-put-your-cute-dog   \n",
       "7  https://www.etsy.com/listing/1201385914/personalized-song-arcylic-plaque-mothers   \n",
       "8    https://www.etsy.com/listing/1297674073/personalised-santa-sack-christmas-sack   \n",
       "9          https://www.etsy.com/listing/1480621971/custom-compact-mirror-bridesmaid   \n",
       "\n",
       "                                                    chinese art stickers (中国艺术贴纸)  \\\n",
       "0      https://www.etsy.com/listing/966657972/asian-food-animal-sticker-pack-of-5   \n",
       "1    https://www.etsy.com/listing/717003158/6-sheets-ink-painting-stickers-the-24   \n",
       "2      https://www.etsy.com/listing/1096533961/lazy-bear-matte-sticker-sheet-cute   \n",
       "3  https://www.etsy.com/listing/1011193252/stamp-queen-sticker-desi-stamp-sticker   \n",
       "4      https://www.etsy.com/listing/1138284039/holographic-gomi-soda-glossy-vinyl   \n",
       "5       https://www.etsy.com/listing/1462986664/45-colorful-ink-painting-stickers   \n",
       "6         https://www.etsy.com/listing/62456401/tall-bamboo-wall-decal-vinyl-wall   \n",
       "7         https://www.etsy.com/listing/735317524/40-ink-painting-stickers-chinese   \n",
       "8         https://www.etsy.com/listing/1205355980/suatelier-china-themed-stickers   \n",
       "9     https://www.etsy.com/listing/1138263923/cloud-bear-matte-sticker-sheet-cute   \n",
       "\n",
       "                                            brushes and calligraphy tools (笔和书法工具)  \\\n",
       "0  https://www.etsy.com/listing/1150867936/traditional-ink-brush-set-procreatesumi   \n",
       "1        https://www.etsy.com/listing/831448594/large-calligraphy-brush-penchinese   \n",
       "2         https://www.etsy.com/listing/794081778/painting-writing-brush-watercolor   \n",
       "3   https://www.etsy.com/listing/235003549/calligraphy-painting-tools-starter-sumi   \n",
       "4      https://www.etsy.com/listing/1000108455/claborate-painting-brush-watercolor   \n",
       "5  https://www.etsy.com/listing/528343871/rare-calligraphy-tools-porcelain-ink-pot   \n",
       "6   https://www.etsy.com/listing/643275849/chinese-brushes-set-chinese-calligraphy   \n",
       "7       https://www.etsy.com/listing/1121862412/chinese-calligraphy-brush-japanese   \n",
       "8      https://www.etsy.com/listing/960301313/chinese-hsk-1-character-book-writing   \n",
       "9    https://www.etsy.com/listing/996549950/chinese-calligraphywatercolorkanjisumi   \n",
       "\n",
       "                                                         calligraphy prints (书法印刷品)  \\\n",
       "0      https://www.etsy.com/listing/613075037/bathroom-decor-wash-your-worries-away   \n",
       "1             https://www.etsy.com/listing/578630606/any-quote-personalised-chinese   \n",
       "2       https://www.etsy.com/listing/200155276/chinese-art-vintage-nature-landscape   \n",
       "3             https://www.etsy.com/listing/1126738487/enso-circle-wall-art-japanese   \n",
       "4  https://www.etsy.com/listing/1166588216/love-mandala-hebrew-calligraphy-art-fine   \n",
       "5       https://www.etsy.com/listing/687551302/blank-chinese-or-japanese-scroll-for   \n",
       "6       https://www.etsy.com/listing/613261572/taekwondo-principles-gold-foil-print   \n",
       "7         https://www.etsy.com/listing/701140431/custom-japanese-calligraphy-scroll   \n",
       "8        https://www.etsy.com/listing/829383002/japanese-print-koi-carp-sumi-e-fish   \n",
       "9     https://www.etsy.com/listing/1048560009/chinese-art-print-asian-woman-sipping   \n",
       "\n",
       "                                                          chinese bookmarks (中国书签)  \\\n",
       "0     https://www.etsy.com/listing/121885795/bookmarks-book-marks-chinese-oriental   \n",
       "1  https://www.etsy.com/listing/1214165938/tian-guan-ci-fu-ebony-bookmark-tianguan   \n",
       "2          https://www.etsy.com/listing/89479610/sale-owl-bookmark-antiqued-bronze   \n",
       "3        https://www.etsy.com/listing/1025879661/the-bride-test-bookmarks-the-kiss   \n",
       "4          https://www.etsy.com/listing/583093453/chinese-box-scrap-ephemera-kit-2   \n",
       "5   https://www.etsy.com/listing/944830498/black-lantern-metal-bookmark-deep-black   \n",
       "6  https://www.etsy.com/listing/1463242050/chinese-style-calligraphy-bookmarks-buy   \n",
       "7         https://www.etsy.com/listing/1145715788/winter-water-lily-metal-bookmark   \n",
       "8       https://www.etsy.com/listing/1389490042/handmade-self-embroidered-beginner   \n",
       "9   https://www.etsy.com/listing/1256747427/butterfly-exquisite-metal-bookmark-for   \n",
       "\n",
       "                                                                   name seals (印章)  \n",
       "0  https://www.etsy.com/listing/838077651/square-japanese-hanko-chop-japanese-name  \n",
       "1   https://www.etsy.com/listing/498471491/engraved-dragon-chinese-chop-stone-seal  \n",
       "2       https://www.etsy.com/listing/735559121/custom-name-seal-stone-seal-carving  \n",
       "3       https://www.etsy.com/listing/1275293621/customized-square-sandalwood-stamp  \n",
       "4   https://www.etsy.com/listing/829885468/custom-chinese-name-chop-personal-asian  \n",
       "5  https://www.etsy.com/listing/728273678/custom-name-sealseal-carvingchinese-seal  \n",
       "6     https://www.etsy.com/listing/710054594/chinese-name-seal-chinese-custom-seal  \n",
       "7      https://www.etsy.com/listing/738772594/custom-japanese-name-seal-stamphanko  \n",
       "8  https://www.etsy.com/listing/748288805/custom-name-sealseal-carvingchinese-seal  \n",
       "9     https://www.etsy.com/listing/618959279/red-ink-paste-chinese-ink-set-chinese  "
      ]
     },
     "execution_count": 296,
     "metadata": {},
     "output_type": "execute_result"
    }
   ],
   "source": [
    "pd.DataFrame(top_products)"
   ]
  },
  {
   "cell_type": "code",
   "execution_count": 299,
   "metadata": {},
   "outputs": [],
   "source": [
    "def fetch_and_display_images(product_dict, batch_size=10):\n",
    "    html = \"<table>\"\n",
    "    for product_name, url_list in product_dict.items():\n",
    "        html += f\"<tr><th colspan='10'>{product_name}</th></tr><tr>\"\n",
    "        count = 0\n",
    "        for url in url_list:\n",
    "            try:\n",
    "                img_tag = fetch_image_url(url)\n",
    "                if img_tag and img_tag.get(\"src\"):\n",
    "                    image_response = fetch_image(img_tag[\"src\"])\n",
    "                    html += f\"<td><img src='{image_response.url}' style='width:150px;'></td>\"\n",
    "                else:\n",
    "                    html += \"<td>No image found</td>\"\n",
    "                count += 1\n",
    "                if count % batch_size == 0:\n",
    "                    html += \"</tr><tr>\"\n",
    "            except Exception as e:\n",
    "                html += f\"<td>Error fetching image: {str(e)}</td>\"\n",
    "        html += \"</tr>\"\n",
    "        html += (\n",
    "            \"<tr><td colspan='10'>&nbsp;</td></tr>\"  # Add an empty row for separation\n",
    "        )\n",
    "    html += \"</table>\"\n",
    "    display(HTML(html))"
   ]
  },
  {
   "cell_type": "code",
   "execution_count": 300,
   "metadata": {},
   "outputs": [
    {
     "name": "stderr",
     "output_type": "stream",
     "text": [
      "2024-04-14 05:12:56,751 - INFO - Attempting to fetch image URL from: https://www.etsy.com/listing/1303517549/natural-jade-bracelet-hetian-jade-beaded\n",
      "2024-04-14 05:12:57,568 - INFO - Successfully fetched image URL from: https://www.etsy.com/listing/1303517549/natural-jade-bracelet-hetian-jade-beaded\n",
      "2024-04-14 05:12:57,571 - INFO - Attempting to fetch image from: https://i.etsystatic.com/9406609/c/2048/1627/0/8/il/670261/3763267256/il_340x270.3763267256_5wzw.jpg\n",
      "2024-04-14 05:12:57,812 - INFO - Successfully fetched image from: https://i.etsystatic.com/9406609/c/2048/1627/0/8/il/670261/3763267256/il_340x270.3763267256_5wzw.jpg\n",
      "2024-04-14 05:12:57,812 - INFO - Attempting to fetch image URL from: https://www.etsy.com/listing/1270040450/green-jade-earrings-dangle-earrings\n",
      "2024-04-14 05:12:57,865 - ERROR - Error fetching image for URL: https://www.etsy.com/listing/1270040450/green-jade-earrings-dangle-earrings. Error: No image found\n",
      "2024-04-14 05:13:00,579 - INFO - Attempting to fetch image URL from: https://www.etsy.com/listing/1270040450/green-jade-earrings-dangle-earrings\n",
      "2024-04-14 05:13:00,640 - ERROR - Error fetching image for URL: https://www.etsy.com/listing/1270040450/green-jade-earrings-dangle-earrings. Error: No image found\n",
      "2024-04-14 05:13:04,115 - INFO - Attempting to fetch image URL from: https://www.etsy.com/listing/1270040450/green-jade-earrings-dangle-earrings\n",
      "2024-04-14 05:13:04,177 - ERROR - Error fetching image for URL: https://www.etsy.com/listing/1270040450/green-jade-earrings-dangle-earrings. Error: No image found\n",
      "2024-04-14 05:13:06,455 - INFO - Attempting to fetch image URL from: https://www.etsy.com/listing/1270040450/green-jade-earrings-dangle-earrings\n",
      "2024-04-14 05:13:07,270 - INFO - Successfully fetched image URL from: https://www.etsy.com/listing/1270040450/green-jade-earrings-dangle-earrings\n",
      "2024-04-14 05:13:07,272 - INFO - Attempting to fetch image from: https://i.etsystatic.com/5265194/r/il/5cdfca/4982884271/il_340x270.4982884271_6x2j.jpg\n",
      "2024-04-14 05:13:07,496 - INFO - Successfully fetched image from: https://i.etsystatic.com/5265194/r/il/5cdfca/4982884271/il_340x270.4982884271_6x2j.jpg\n",
      "2024-04-14 05:13:07,497 - INFO - Attempting to fetch image URL from: https://www.etsy.com/listing/114605721/natural-white-jade-smooth-round-beads\n",
      "2024-04-14 05:13:08,307 - INFO - Successfully fetched image URL from: https://www.etsy.com/listing/114605721/natural-white-jade-smooth-round-beads\n",
      "2024-04-14 05:13:08,309 - INFO - Attempting to fetch image from: https://i.etsystatic.com/6581319/r/il/d40fa3/1384833120/il_794xN.1384833120_phdc.jpg\n",
      "2024-04-14 05:13:09,555 - INFO - Successfully fetched image from: https://i.etsystatic.com/6581319/r/il/d40fa3/1384833120/il_794xN.1384833120_phdc.jpg\n",
      "2024-04-14 05:13:09,556 - INFO - Attempting to fetch image URL from: https://www.etsy.com/listing/803945124/jade-feng-shui-bracelet\n",
      "2024-04-14 05:13:09,610 - ERROR - Error fetching image for URL: https://www.etsy.com/listing/803945124/jade-feng-shui-bracelet. Error: No image found\n",
      "2024-04-14 05:13:11,554 - INFO - Attempting to fetch image URL from: https://www.etsy.com/listing/803945124/jade-feng-shui-bracelet\n",
      "2024-04-14 05:13:11,624 - ERROR - Error fetching image for URL: https://www.etsy.com/listing/803945124/jade-feng-shui-bracelet. Error: No image found\n",
      "2024-04-14 05:13:16,213 - INFO - Attempting to fetch image URL from: https://www.etsy.com/listing/803945124/jade-feng-shui-bracelet\n",
      "2024-04-14 05:13:16,271 - ERROR - Error fetching image for URL: https://www.etsy.com/listing/803945124/jade-feng-shui-bracelet. Error: No image found\n",
      "2024-04-14 05:13:20,396 - INFO - Attempting to fetch image URL from: https://www.etsy.com/listing/803945124/jade-feng-shui-bracelet\n",
      "2024-04-14 05:13:20,455 - ERROR - Error fetching image for URL: https://www.etsy.com/listing/803945124/jade-feng-shui-bracelet. Error: No image found\n",
      "2024-04-14 05:13:23,698 - INFO - Attempting to fetch image URL from: https://www.etsy.com/listing/803945124/jade-feng-shui-bracelet\n",
      "2024-04-14 05:13:24,599 - INFO - Successfully fetched image URL from: https://www.etsy.com/listing/803945124/jade-feng-shui-bracelet\n",
      "2024-04-14 05:13:24,600 - INFO - Attempting to fetch image from: https://i.etsystatic.com/19389932/r/il/3c38a1/2387514031/il_794xN.2387514031_84tx.jpg\n",
      "2024-04-14 05:13:24,747 - INFO - Successfully fetched image from: https://i.etsystatic.com/19389932/r/il/3c38a1/2387514031/il_794xN.2387514031_84tx.jpg\n",
      "2024-04-14 05:13:24,749 - INFO - Attempting to fetch image URL from: https://www.etsy.com/listing/1214233664/authentic-green-jade-beads-bracelet\n",
      "2024-04-14 05:13:24,811 - ERROR - Error fetching image for URL: https://www.etsy.com/listing/1214233664/authentic-green-jade-beads-bracelet. Error: No image found\n",
      "2024-04-14 05:13:28,659 - INFO - Attempting to fetch image URL from: https://www.etsy.com/listing/1214233664/authentic-green-jade-beads-bracelet\n",
      "2024-04-14 05:13:28,736 - ERROR - Error fetching image for URL: https://www.etsy.com/listing/1214233664/authentic-green-jade-beads-bracelet. Error: No image found\n",
      "2024-04-14 05:13:32,692 - INFO - Attempting to fetch image URL from: https://www.etsy.com/listing/1214233664/authentic-green-jade-beads-bracelet\n",
      "2024-04-14 05:13:33,615 - INFO - Successfully fetched image URL from: https://www.etsy.com/listing/1214233664/authentic-green-jade-beads-bracelet\n",
      "2024-04-14 05:13:33,617 - INFO - Attempting to fetch image from: https://i.etsystatic.com/30061539/r/il/75ad94/3962497544/il_794xN.3962497544_lugy.jpg\n",
      "2024-04-14 05:13:33,729 - INFO - Successfully fetched image from: https://i.etsystatic.com/30061539/r/il/75ad94/3962497544/il_794xN.3962497544_lugy.jpg\n",
      "2024-04-14 05:13:33,731 - INFO - Attempting to fetch image URL from: https://www.etsy.com/listing/1202442975/guanyin-bodhisattva-carved-green-jade\n",
      "2024-04-14 05:13:34,648 - INFO - Successfully fetched image URL from: https://www.etsy.com/listing/1202442975/guanyin-bodhisattva-carved-green-jade\n",
      "2024-04-14 05:13:34,650 - INFO - Attempting to fetch image from: https://i.etsystatic.com/6245789/r/il/3e26a9/3807508841/il_794xN.3807508841_29f3.jpg\n",
      "2024-04-14 05:13:36,205 - INFO - Successfully fetched image from: https://i.etsystatic.com/6245789/r/il/3e26a9/3807508841/il_794xN.3807508841_29f3.jpg\n",
      "2024-04-14 05:13:36,207 - INFO - Attempting to fetch image URL from: https://www.etsy.com/listing/1133477746/green-jade-14k-gold-plated-earrings-tiny\n",
      "2024-04-14 05:13:37,309 - INFO - Successfully fetched image URL from: https://www.etsy.com/listing/1133477746/green-jade-14k-gold-plated-earrings-tiny\n",
      "2024-04-14 05:13:37,311 - INFO - Attempting to fetch image from: https://i.etsystatic.com/31487558/r/il/d1e632/4727828872/il_794xN.4727828872_f2cl.jpg\n",
      "2024-04-14 05:13:37,603 - INFO - Successfully fetched image from: https://i.etsystatic.com/31487558/r/il/d1e632/4727828872/il_794xN.4727828872_f2cl.jpg\n",
      "2024-04-14 05:13:37,605 - INFO - Attempting to fetch image URL from: https://www.etsy.com/listing/747799956/1-pc-silk-cord-knot-necklace-25-inches\n",
      "2024-04-14 05:13:37,655 - ERROR - Error fetching image for URL: https://www.etsy.com/listing/747799956/1-pc-silk-cord-knot-necklace-25-inches. Error: No image found\n",
      "2024-04-14 05:13:42,505 - INFO - Attempting to fetch image URL from: https://www.etsy.com/listing/747799956/1-pc-silk-cord-knot-necklace-25-inches\n",
      "2024-04-14 05:13:42,568 - ERROR - Error fetching image for URL: https://www.etsy.com/listing/747799956/1-pc-silk-cord-knot-necklace-25-inches. Error: No image found\n",
      "2024-04-14 05:13:43,747 - INFO - Attempting to fetch image URL from: https://www.etsy.com/listing/747799956/1-pc-silk-cord-knot-necklace-25-inches\n",
      "2024-04-14 05:13:43,813 - ERROR - Error fetching image for URL: https://www.etsy.com/listing/747799956/1-pc-silk-cord-knot-necklace-25-inches. Error: No image found\n",
      "2024-04-14 05:13:45,179 - INFO - Attempting to fetch image URL from: https://www.etsy.com/listing/747799956/1-pc-silk-cord-knot-necklace-25-inches\n",
      "2024-04-14 05:13:45,234 - ERROR - Error fetching image for URL: https://www.etsy.com/listing/747799956/1-pc-silk-cord-knot-necklace-25-inches. Error: No image found\n",
      "2024-04-14 05:13:49,158 - INFO - Attempting to fetch image URL from: https://www.etsy.com/listing/747799956/1-pc-silk-cord-knot-necklace-25-inches\n",
      "2024-04-14 05:13:49,215 - ERROR - Error fetching image for URL: https://www.etsy.com/listing/747799956/1-pc-silk-cord-knot-necklace-25-inches. Error: No image found\n",
      "2024-04-14 05:13:52,150 - INFO - Attempting to fetch image URL from: https://www.etsy.com/listing/747799956/1-pc-silk-cord-knot-necklace-25-inches\n",
      "2024-04-14 05:13:53,211 - INFO - Successfully fetched image URL from: https://www.etsy.com/listing/747799956/1-pc-silk-cord-knot-necklace-25-inches\n",
      "2024-04-14 05:13:53,215 - INFO - Attempting to fetch image from: https://i.etsystatic.com/8164631/r/il/314852/2167568257/il_794xN.2167568257_3oii.jpg\n",
      "2024-04-14 05:13:54,481 - INFO - Successfully fetched image from: https://i.etsystatic.com/8164631/r/il/314852/2167568257/il_794xN.2167568257_3oii.jpg\n",
      "2024-04-14 05:13:54,484 - INFO - Attempting to fetch image URL from: https://www.etsy.com/listing/1145393776/real-jade-flower-rose-necklace-light\n",
      "2024-04-14 05:13:55,190 - INFO - Successfully fetched image URL from: https://www.etsy.com/listing/1145393776/real-jade-flower-rose-necklace-light\n",
      "2024-04-14 05:13:55,192 - INFO - Attempting to fetch image from: https://i.etsystatic.com/30061539/r/il/33ecfd/4010284593/il_794xN.4010284593_pk43.jpg\n",
      "2024-04-14 05:13:55,549 - INFO - Successfully fetched image from: https://i.etsystatic.com/30061539/r/il/33ecfd/4010284593/il_794xN.4010284593_pk43.jpg\n",
      "2024-04-14 05:13:55,551 - INFO - Attempting to fetch image URL from: https://www.etsy.com/listing/1315511846/chinese-jade-crystal-bracelet-round\n",
      "2024-04-14 05:13:56,557 - INFO - Successfully fetched image URL from: https://www.etsy.com/listing/1315511846/chinese-jade-crystal-bracelet-round\n",
      "2024-04-14 05:13:56,560 - INFO - Attempting to fetch image from: https://i.etsystatic.com/12396175/r/il/3cd245/5089419680/il_794xN.5089419680_taei.jpg\n",
      "2024-04-14 05:13:57,042 - INFO - Successfully fetched image from: https://i.etsystatic.com/12396175/r/il/3cd245/5089419680/il_794xN.5089419680_taei.jpg\n",
      "2024-04-14 05:13:57,047 - INFO - Attempting to fetch image URL from: https://www.etsy.com/listing/1277366663/traditional-asian-chinese-mooncakes\n",
      "2024-04-14 05:13:57,946 - INFO - Successfully fetched image URL from: https://www.etsy.com/listing/1277366663/traditional-asian-chinese-mooncakes\n",
      "2024-04-14 05:13:57,948 - INFO - Attempting to fetch image from: https://i.etsystatic.com/28951580/r/il/5f32d9/4046695064/il_794xN.4046695064_s1qs.jpg\n",
      "2024-04-14 05:13:58,119 - INFO - Successfully fetched image from: https://i.etsystatic.com/28951580/r/il/5f32d9/4046695064/il_794xN.4046695064_s1qs.jpg\n",
      "2024-04-14 05:13:58,120 - INFO - Attempting to fetch image URL from: https://www.etsy.com/listing/1269843970/16-pieces-fresh-made-mooncake-gift-sets\n",
      "2024-04-14 05:13:58,888 - INFO - Successfully fetched image URL from: https://www.etsy.com/listing/1269843970/16-pieces-fresh-made-mooncake-gift-sets\n",
      "2024-04-14 05:13:58,890 - INFO - Attempting to fetch image from: https://i.etsystatic.com/31283027/r/il/a95f2f/5597430063/il_794xN.5597430063_8cmj.jpg\n",
      "2024-04-14 05:13:59,039 - INFO - Successfully fetched image from: https://i.etsystatic.com/31283027/r/il/a95f2f/5597430063/il_794xN.5597430063_8cmj.jpg\n",
      "2024-04-14 05:13:59,040 - INFO - Attempting to fetch image URL from: https://www.etsy.com/listing/1244281681/pink-embroidered-floral-lightweight\n",
      "2024-04-14 05:13:59,864 - INFO - Successfully fetched image URL from: https://www.etsy.com/listing/1244281681/pink-embroidered-floral-lightweight\n",
      "2024-04-14 05:13:59,865 - INFO - Attempting to fetch image from: https://i.etsystatic.com/35871599/r/il/ad38dc/5308167088/il_794xN.5308167088_ovf2.jpg\n",
      "2024-04-14 05:14:00,039 - INFO - Successfully fetched image from: https://i.etsystatic.com/35871599/r/il/ad38dc/5308167088/il_794xN.5308167088_ovf2.jpg\n",
      "2024-04-14 05:14:00,041 - INFO - Attempting to fetch image URL from: https://www.etsy.com/listing/1298226061/moon-festival-lantern-original-enamel\n",
      "2024-04-14 05:14:00,097 - ERROR - Error fetching image for URL: https://www.etsy.com/listing/1298226061/moon-festival-lantern-original-enamel. Error: No image found\n",
      "2024-04-14 05:14:03,945 - INFO - Attempting to fetch image URL from: https://www.etsy.com/listing/1298226061/moon-festival-lantern-original-enamel\n",
      "2024-04-14 05:14:04,840 - INFO - Successfully fetched image URL from: https://www.etsy.com/listing/1298226061/moon-festival-lantern-original-enamel\n",
      "2024-04-14 05:14:04,842 - INFO - Attempting to fetch image from: https://i.etsystatic.com/6227407/r/il/6b9791/4181771189/il_794xN.4181771189_83e7.jpg\n",
      "2024-04-14 05:14:05,166 - INFO - Successfully fetched image from: https://i.etsystatic.com/6227407/r/il/6b9791/4181771189/il_794xN.4181771189_83e7.jpg\n",
      "2024-04-14 05:14:05,167 - INFO - Attempting to fetch image URL from: https://www.etsy.com/listing/1540882222/gift-set-6pcs-savory-salted-egg-yolk\n",
      "2024-04-14 05:14:05,951 - INFO - Successfully fetched image URL from: https://www.etsy.com/listing/1540882222/gift-set-6pcs-savory-salted-egg-yolk\n",
      "2024-04-14 05:14:05,952 - INFO - Attempting to fetch image from: https://i.etsystatic.com/12836312/r/il/5fb245/1352285422/il_340x270.1352285422_ma7w.jpg\n",
      "2024-04-14 05:14:06,170 - INFO - Successfully fetched image from: https://i.etsystatic.com/12836312/r/il/5fb245/1352285422/il_340x270.1352285422_ma7w.jpg\n",
      "2024-04-14 05:14:06,172 - INFO - Attempting to fetch image URL from: https://www.etsy.com/listing/911353476/10pcs-pixiu-grade-a-jade-natual-burma\n",
      "2024-04-14 05:14:07,078 - ERROR - Error fetching image for URL: https://www.etsy.com/listing/911353476/10pcs-pixiu-grade-a-jade-natual-burma. Error: No image found\n",
      "2024-04-14 05:14:09,529 - INFO - Attempting to fetch image URL from: https://www.etsy.com/listing/911353476/10pcs-pixiu-grade-a-jade-natual-burma\n",
      "2024-04-14 05:14:09,577 - ERROR - Error fetching image for URL: https://www.etsy.com/listing/911353476/10pcs-pixiu-grade-a-jade-natual-burma. Error: No image found\n",
      "2024-04-14 05:14:12,241 - INFO - Attempting to fetch image URL from: https://www.etsy.com/listing/911353476/10pcs-pixiu-grade-a-jade-natual-burma\n",
      "2024-04-14 05:14:12,296 - ERROR - Error fetching image for URL: https://www.etsy.com/listing/911353476/10pcs-pixiu-grade-a-jade-natual-burma. Error: No image found\n",
      "2024-04-14 05:14:16,348 - INFO - Attempting to fetch image URL from: https://www.etsy.com/listing/911353476/10pcs-pixiu-grade-a-jade-natual-burma\n",
      "2024-04-14 05:14:16,404 - ERROR - Error fetching image for URL: https://www.etsy.com/listing/911353476/10pcs-pixiu-grade-a-jade-natual-burma. Error: No image found\n",
      "2024-04-14 05:14:19,115 - INFO - Attempting to fetch image URL from: https://www.etsy.com/listing/911353476/10pcs-pixiu-grade-a-jade-natual-burma\n",
      "2024-04-14 05:14:19,739 - ERROR - Error fetching image for URL: https://www.etsy.com/listing/911353476/10pcs-pixiu-grade-a-jade-natual-burma. Error: No image found\n",
      "2024-04-14 05:14:21,936 - INFO - Attempting to fetch image URL from: https://www.etsy.com/listing/911353476/10pcs-pixiu-grade-a-jade-natual-burma\n",
      "2024-04-14 05:14:22,004 - ERROR - Error fetching image for URL: https://www.etsy.com/listing/911353476/10pcs-pixiu-grade-a-jade-natual-burma. Error: No image found\n",
      "2024-04-14 05:14:24,484 - INFO - Attempting to fetch image URL from: https://www.etsy.com/listing/911353476/10pcs-pixiu-grade-a-jade-natual-burma\n",
      "2024-04-14 05:14:24,541 - ERROR - Error fetching image for URL: https://www.etsy.com/listing/911353476/10pcs-pixiu-grade-a-jade-natual-burma. Error: No image found\n",
      "2024-04-14 05:14:25,793 - INFO - Attempting to fetch image URL from: https://www.etsy.com/listing/911353476/10pcs-pixiu-grade-a-jade-natual-burma\n",
      "2024-04-14 05:14:25,853 - ERROR - Error fetching image for URL: https://www.etsy.com/listing/911353476/10pcs-pixiu-grade-a-jade-natual-burma. Error: No image found\n",
      "2024-04-14 05:14:29,543 - INFO - Attempting to fetch image URL from: https://www.etsy.com/listing/911353476/10pcs-pixiu-grade-a-jade-natual-burma\n",
      "2024-04-14 05:14:30,085 - ERROR - Error fetching image for URL: https://www.etsy.com/listing/911353476/10pcs-pixiu-grade-a-jade-natual-burma. Error: No image found\n",
      "2024-04-14 05:14:34,904 - INFO - Attempting to fetch image URL from: https://www.etsy.com/listing/911353476/10pcs-pixiu-grade-a-jade-natual-burma\n",
      "2024-04-14 05:14:35,417 - ERROR - Error fetching image for URL: https://www.etsy.com/listing/911353476/10pcs-pixiu-grade-a-jade-natual-burma. Error: No image found\n",
      "2024-04-14 05:14:35,418 - INFO - Attempting to fetch image URL from: https://www.etsy.com/listing/1351168084/chinese-new-year-scavenger-hunt-for-kids\n",
      "2024-04-14 05:14:35,466 - ERROR - Error fetching image for URL: https://www.etsy.com/listing/1351168084/chinese-new-year-scavenger-hunt-for-kids. Error: No image found\n",
      "2024-04-14 05:14:37,757 - INFO - Attempting to fetch image URL from: https://www.etsy.com/listing/1351168084/chinese-new-year-scavenger-hunt-for-kids\n",
      "2024-04-14 05:14:38,450 - INFO - Successfully fetched image URL from: https://www.etsy.com/listing/1351168084/chinese-new-year-scavenger-hunt-for-kids\n",
      "2024-04-14 05:14:38,452 - INFO - Attempting to fetch image from: https://i.etsystatic.com/18823169/r/il/03d22c/5186457972/il_794xN.5186457972_p0hm.jpg\n",
      "2024-04-14 05:14:40,000 - INFO - Successfully fetched image from: https://i.etsystatic.com/18823169/r/il/03d22c/5186457972/il_794xN.5186457972_p0hm.jpg\n",
      "2024-04-14 05:14:40,006 - INFO - Attempting to fetch image URL from: https://www.etsy.com/listing/894218438/yingmart-set-5-traditional-japanese\n",
      "2024-04-14 05:14:40,060 - ERROR - Error fetching image for URL: https://www.etsy.com/listing/894218438/yingmart-set-5-traditional-japanese. Error: No image found\n",
      "2024-04-14 05:14:45,033 - INFO - Attempting to fetch image URL from: https://www.etsy.com/listing/894218438/yingmart-set-5-traditional-japanese\n",
      "2024-04-14 05:14:45,715 - INFO - Successfully fetched image URL from: https://www.etsy.com/listing/894218438/yingmart-set-5-traditional-japanese\n",
      "2024-04-14 05:14:45,717 - INFO - Attempting to fetch image from: https://i.etsystatic.com/26189267/r/il/e3c433/3044757057/il_794xN.3044757057_njo0.jpg\n",
      "2024-04-14 05:14:46,335 - INFO - Successfully fetched image from: https://i.etsystatic.com/26189267/r/il/e3c433/3044757057/il_794xN.3044757057_njo0.jpg\n",
      "2024-04-14 05:14:46,339 - INFO - Attempting to fetch image URL from: https://www.etsy.com/listing/1408356134/rainbow-plush-cute-bunny-ears-backpack\n",
      "2024-04-14 05:14:47,087 - INFO - Successfully fetched image URL from: https://www.etsy.com/listing/1408356134/rainbow-plush-cute-bunny-ears-backpack\n",
      "2024-04-14 05:14:47,089 - INFO - Attempting to fetch image from: https://i.etsystatic.com/51063046/r/il/6e0a55/5917907654/il_340x270.5917907654_3yws.jpg\n",
      "2024-04-14 05:14:47,403 - INFO - Successfully fetched image from: https://i.etsystatic.com/51063046/r/il/6e0a55/5917907654/il_340x270.5917907654_3yws.jpg\n",
      "2024-04-14 05:14:47,407 - INFO - Attempting to fetch image URL from: https://www.etsy.com/listing/522536243/chinese-stone-seal-set-the-moon-story\n",
      "2024-04-14 05:14:48,271 - INFO - Successfully fetched image URL from: https://www.etsy.com/listing/522536243/chinese-stone-seal-set-the-moon-story\n",
      "2024-04-14 05:14:48,273 - INFO - Attempting to fetch image from: https://i.etsystatic.com/9841760/r/il/26f46f/1220945431/il_794xN.1220945431_5brd.jpg\n",
      "2024-04-14 05:14:49,345 - INFO - Successfully fetched image from: https://i.etsystatic.com/9841760/r/il/26f46f/1220945431/il_794xN.1220945431_5brd.jpg\n",
      "2024-04-14 05:14:49,347 - INFO - Attempting to fetch image URL from: https://www.etsy.com/listing/1159288023/free-shipping-6-oval-moss-green-glazed\n",
      "2024-04-14 05:14:50,203 - INFO - Successfully fetched image URL from: https://www.etsy.com/listing/1159288023/free-shipping-6-oval-moss-green-glazed\n",
      "2024-04-14 05:14:50,204 - INFO - Attempting to fetch image from: https://i.etsystatic.com/6437906/r/il/9a2157/3640371641/il_794xN.3640371641_fz2k.jpg\n",
      "2024-04-14 05:14:50,408 - INFO - Successfully fetched image from: https://i.etsystatic.com/6437906/r/il/9a2157/3640371641/il_794xN.3640371641_fz2k.jpg\n",
      "2024-04-14 05:14:50,410 - INFO - Attempting to fetch image URL from: https://www.etsy.com/listing/736780709/12mm-longevity-beads-12mm-porcelain\n",
      "2024-04-14 05:14:50,458 - ERROR - Error fetching image for URL: https://www.etsy.com/listing/736780709/12mm-longevity-beads-12mm-porcelain. Error: No image found\n",
      "2024-04-14 05:14:54,962 - INFO - Attempting to fetch image URL from: https://www.etsy.com/listing/736780709/12mm-longevity-beads-12mm-porcelain\n",
      "2024-04-14 05:14:55,036 - ERROR - Error fetching image for URL: https://www.etsy.com/listing/736780709/12mm-longevity-beads-12mm-porcelain. Error: No image found\n",
      "2024-04-14 05:14:57,175 - INFO - Attempting to fetch image URL from: https://www.etsy.com/listing/736780709/12mm-longevity-beads-12mm-porcelain\n",
      "2024-04-14 05:14:58,247 - INFO - Successfully fetched image URL from: https://www.etsy.com/listing/736780709/12mm-longevity-beads-12mm-porcelain\n",
      "2024-04-14 05:14:58,249 - INFO - Attempting to fetch image from: https://i.etsystatic.com/6566625/r/il/a7be6d/2009341760/il_794xN.2009341760_3ur9.jpg\n",
      "2024-04-14 05:14:58,857 - INFO - Successfully fetched image from: https://i.etsystatic.com/6566625/r/il/a7be6d/2009341760/il_794xN.2009341760_3ur9.jpg\n",
      "2024-04-14 05:14:58,861 - INFO - Attempting to fetch image URL from: https://www.etsy.com/listing/168153677/rabbit-bunny-rabbit-porcelain-rabbit\n",
      "2024-04-14 05:14:58,931 - ERROR - Error fetching image for URL: https://www.etsy.com/listing/168153677/rabbit-bunny-rabbit-porcelain-rabbit. Error: No image found\n",
      "2024-04-14 05:15:01,942 - INFO - Attempting to fetch image URL from: https://www.etsy.com/listing/168153677/rabbit-bunny-rabbit-porcelain-rabbit\n",
      "2024-04-14 05:15:02,797 - INFO - Successfully fetched image URL from: https://www.etsy.com/listing/168153677/rabbit-bunny-rabbit-porcelain-rabbit\n",
      "2024-04-14 05:15:02,799 - INFO - Attempting to fetch image from: https://i.etsystatic.com/5413708/r/il/fa60fc/521823569/il_794xN.521823569_14ms.jpg\n",
      "2024-04-14 05:15:02,926 - INFO - Successfully fetched image from: https://i.etsystatic.com/5413708/r/il/fa60fc/521823569/il_794xN.521823569_14ms.jpg\n",
      "2024-04-14 05:15:02,927 - INFO - Attempting to fetch image URL from: https://www.etsy.com/listing/1497308671/porcelain-dragon-tea-cup-115ml-green\n",
      "2024-04-14 05:15:04,037 - INFO - Successfully fetched image URL from: https://www.etsy.com/listing/1497308671/porcelain-dragon-tea-cup-115ml-green\n",
      "2024-04-14 05:15:04,039 - INFO - Attempting to fetch image from: https://i.etsystatic.com/36883701/r/il/8cb9f8/4974051438/il_794xN.4974051438_4cuf.jpg\n",
      "2024-04-14 05:15:04,106 - INFO - Successfully fetched image from: https://i.etsystatic.com/36883701/r/il/8cb9f8/4974051438/il_794xN.4974051438_4cuf.jpg\n",
      "2024-04-14 05:15:04,108 - INFO - Attempting to fetch image URL from: https://www.etsy.com/listing/948976648/hand-painted-ceramic-coffee-mug-creative\n",
      "2024-04-14 05:15:05,046 - INFO - Successfully fetched image URL from: https://www.etsy.com/listing/948976648/hand-painted-ceramic-coffee-mug-creative\n",
      "2024-04-14 05:15:05,048 - INFO - Attempting to fetch image from: https://i.etsystatic.com/25741304/r/il/96d3dd/2919764269/il_794xN.2919764269_2z2k.jpg\n",
      "2024-04-14 05:15:05,323 - INFO - Successfully fetched image from: https://i.etsystatic.com/25741304/r/il/96d3dd/2919764269/il_794xN.2919764269_2z2k.jpg\n",
      "2024-04-14 05:15:05,325 - INFO - Attempting to fetch image URL from: https://www.etsy.com/listing/1053467836/watercolor-pink-hydrangea-chinoiserie\n",
      "2024-04-14 05:15:05,383 - ERROR - Error fetching image for URL: https://www.etsy.com/listing/1053467836/watercolor-pink-hydrangea-chinoiserie. Error: No image found\n",
      "2024-04-14 05:15:09,808 - INFO - Attempting to fetch image URL from: https://www.etsy.com/listing/1053467836/watercolor-pink-hydrangea-chinoiserie\n",
      "2024-04-14 05:15:09,870 - ERROR - Error fetching image for URL: https://www.etsy.com/listing/1053467836/watercolor-pink-hydrangea-chinoiserie. Error: No image found\n",
      "2024-04-14 05:15:11,349 - INFO - Attempting to fetch image URL from: https://www.etsy.com/listing/1053467836/watercolor-pink-hydrangea-chinoiserie\n",
      "2024-04-14 05:15:12,325 - INFO - Successfully fetched image URL from: https://www.etsy.com/listing/1053467836/watercolor-pink-hydrangea-chinoiserie\n",
      "2024-04-14 05:15:12,327 - INFO - Attempting to fetch image from: https://i.etsystatic.com/10496376/r/il/08c679/3263600548/il_794xN.3263600548_a27o.jpg\n",
      "2024-04-14 05:15:12,757 - INFO - Successfully fetched image from: https://i.etsystatic.com/10496376/r/il/08c679/3263600548/il_794xN.3263600548_a27o.jpg\n",
      "2024-04-14 05:15:12,759 - INFO - Attempting to fetch image URL from: https://www.etsy.com/listing/1194003477/loose-leaf-tea-set-tea-gift-set\n",
      "2024-04-14 05:15:13,542 - INFO - Successfully fetched image URL from: https://www.etsy.com/listing/1194003477/loose-leaf-tea-set-tea-gift-set\n",
      "2024-04-14 05:15:13,544 - INFO - Attempting to fetch image from: https://i.etsystatic.com/22606337/r/il/d1ed39/5841357442/il_794xN.5841357442_7xwb.jpg\n",
      "2024-04-14 05:15:13,748 - INFO - Successfully fetched image from: https://i.etsystatic.com/22606337/r/il/d1ed39/5841357442/il_794xN.5841357442_7xwb.jpg\n",
      "2024-04-14 05:15:13,749 - INFO - Attempting to fetch image URL from: https://www.etsy.com/listing/1136726592/blue-porcelain-art-ring\n",
      "2024-04-14 05:15:14,502 - INFO - Successfully fetched image URL from: https://www.etsy.com/listing/1136726592/blue-porcelain-art-ring\n",
      "2024-04-14 05:15:14,504 - INFO - Attempting to fetch image from: https://i.etsystatic.com/18644623/r/il/3ac958/5163141037/il_794xN.5163141037_cch3.jpg\n",
      "2024-04-14 05:15:14,613 - INFO - Successfully fetched image from: https://i.etsystatic.com/18644623/r/il/3ac958/5163141037/il_794xN.5163141037_cch3.jpg\n",
      "2024-04-14 05:15:14,614 - INFO - Attempting to fetch image URL from: https://www.etsy.com/listing/1436331148/chinese-traditional-retro-style-tea\n",
      "2024-04-14 05:15:15,328 - INFO - Successfully fetched image URL from: https://www.etsy.com/listing/1436331148/chinese-traditional-retro-style-tea\n",
      "2024-04-14 05:15:15,330 - INFO - Attempting to fetch image from: https://i.etsystatic.com/31204800/c/2107/1674/0/189/il/962d99/5861825927/il_340x270.5861825927_duh9.jpg\n",
      "2024-04-14 05:15:15,445 - INFO - Successfully fetched image from: https://i.etsystatic.com/31204800/c/2107/1674/0/189/il/962d99/5861825927/il_340x270.5861825927_duh9.jpg\n",
      "2024-04-14 05:15:15,447 - INFO - Attempting to fetch image URL from: https://www.etsy.com/listing/1296640961/ramen-noodle-bowl-with-chopsticks\n",
      "2024-04-14 05:15:16,223 - INFO - Successfully fetched image URL from: https://www.etsy.com/listing/1296640961/ramen-noodle-bowl-with-chopsticks\n",
      "2024-04-14 05:15:16,224 - INFO - Attempting to fetch image from: https://i.etsystatic.com/13066849/r/il/9a8dc2/4591391686/il_794xN.4591391686_hnfj.jpg\n",
      "2024-04-14 05:15:16,433 - INFO - Successfully fetched image from: https://i.etsystatic.com/13066849/r/il/9a8dc2/4591391686/il_794xN.4591391686_hnfj.jpg\n",
      "2024-04-14 05:15:16,434 - INFO - Attempting to fetch image URL from: https://www.etsy.com/listing/786123821/vintage-style-copper-incense-burner\n",
      "2024-04-14 05:15:16,490 - ERROR - Error fetching image for URL: https://www.etsy.com/listing/786123821/vintage-style-copper-incense-burner. Error: No image found\n",
      "2024-04-14 05:15:20,882 - INFO - Attempting to fetch image URL from: https://www.etsy.com/listing/786123821/vintage-style-copper-incense-burner\n",
      "2024-04-14 05:15:20,939 - ERROR - Error fetching image for URL: https://www.etsy.com/listing/786123821/vintage-style-copper-incense-burner. Error: No image found\n",
      "2024-04-14 05:15:25,509 - INFO - Attempting to fetch image URL from: https://www.etsy.com/listing/786123821/vintage-style-copper-incense-burner\n",
      "2024-04-14 05:15:25,566 - ERROR - Error fetching image for URL: https://www.etsy.com/listing/786123821/vintage-style-copper-incense-burner. Error: No image found\n",
      "2024-04-14 05:15:27,839 - INFO - Attempting to fetch image URL from: https://www.etsy.com/listing/786123821/vintage-style-copper-incense-burner\n",
      "2024-04-14 05:15:28,583 - INFO - Successfully fetched image URL from: https://www.etsy.com/listing/786123821/vintage-style-copper-incense-burner\n",
      "2024-04-14 05:15:28,585 - INFO - Attempting to fetch image from: https://i.etsystatic.com/33009983/c/3000/2384/0/89/il/80c228/4807532146/il_340x270.4807532146_kigw.jpg\n",
      "2024-04-14 05:15:28,752 - INFO - Successfully fetched image from: https://i.etsystatic.com/33009983/c/3000/2384/0/89/il/80c228/4807532146/il_340x270.4807532146_kigw.jpg\n",
      "2024-04-14 05:15:28,753 - INFO - Attempting to fetch image URL from: https://www.etsy.com/listing/784003647/chinese-metal-incense-burner-censer\n",
      "2024-04-14 05:15:29,498 - INFO - Successfully fetched image URL from: https://www.etsy.com/listing/784003647/chinese-metal-incense-burner-censer\n",
      "2024-04-14 05:15:29,500 - INFO - Attempting to fetch image from: https://i.etsystatic.com/49607849/r/il/b18cf7/5712172886/il_340x270.5712172886_91yk.jpg\n",
      "2024-04-14 05:15:29,586 - INFO - Successfully fetched image from: https://i.etsystatic.com/49607849/r/il/b18cf7/5712172886/il_340x270.5712172886_91yk.jpg\n",
      "2024-04-14 05:15:29,588 - INFO - Attempting to fetch image URL from: https://www.etsy.com/listing/1165574622/pure-copper-mini-censer\n",
      "2024-04-14 05:15:30,505 - INFO - Successfully fetched image URL from: https://www.etsy.com/listing/1165574622/pure-copper-mini-censer\n",
      "2024-04-14 05:15:30,507 - INFO - Attempting to fetch image from: https://i.etsystatic.com/33009983/c/3000/2384/0/89/il/80c228/4807532146/il_340x270.4807532146_kigw.jpg\n",
      "2024-04-14 05:15:30,551 - INFO - Successfully fetched image from: https://i.etsystatic.com/33009983/c/3000/2384/0/89/il/80c228/4807532146/il_340x270.4807532146_kigw.jpg\n",
      "2024-04-14 05:15:30,553 - INFO - Attempting to fetch image URL from: https://www.etsy.com/listing/895146735/round-incense-plate-with-seperate-holder\n",
      "2024-04-14 05:15:31,395 - INFO - Successfully fetched image URL from: https://www.etsy.com/listing/895146735/round-incense-plate-with-seperate-holder\n",
      "2024-04-14 05:15:31,397 - INFO - Attempting to fetch image from: https://i.etsystatic.com/33009983/c/3000/2384/0/89/il/80c228/4807532146/il_340x270.4807532146_kigw.jpg\n",
      "2024-04-14 05:15:31,446 - INFO - Successfully fetched image from: https://i.etsystatic.com/33009983/c/3000/2384/0/89/il/80c228/4807532146/il_340x270.4807532146_kigw.jpg\n",
      "2024-04-14 05:15:31,447 - INFO - Attempting to fetch image URL from: https://www.etsy.com/listing/838556888/censer-incense-burner-copper-incense\n",
      "2024-04-14 05:15:31,500 - ERROR - Error fetching image for URL: https://www.etsy.com/listing/838556888/censer-incense-burner-copper-incense. Error: No image found\n",
      "2024-04-14 05:15:34,308 - INFO - Attempting to fetch image URL from: https://www.etsy.com/listing/838556888/censer-incense-burner-copper-incense\n",
      "2024-04-14 05:15:34,361 - ERROR - Error fetching image for URL: https://www.etsy.com/listing/838556888/censer-incense-burner-copper-incense. Error: No image found\n",
      "2024-04-14 05:15:35,693 - INFO - Attempting to fetch image URL from: https://www.etsy.com/listing/838556888/censer-incense-burner-copper-incense\n",
      "2024-04-14 05:15:35,753 - ERROR - Error fetching image for URL: https://www.etsy.com/listing/838556888/censer-incense-burner-copper-incense. Error: No image found\n",
      "2024-04-14 05:15:37,265 - INFO - Attempting to fetch image URL from: https://www.etsy.com/listing/838556888/censer-incense-burner-copper-incense\n",
      "2024-04-14 05:15:37,326 - ERROR - Error fetching image for URL: https://www.etsy.com/listing/838556888/censer-incense-burner-copper-incense. Error: No image found\n",
      "2024-04-14 05:15:41,097 - INFO - Attempting to fetch image URL from: https://www.etsy.com/listing/838556888/censer-incense-burner-copper-incense\n",
      "2024-04-14 05:15:41,167 - ERROR - Error fetching image for URL: https://www.etsy.com/listing/838556888/censer-incense-burner-copper-incense. Error: No image found\n",
      "2024-04-14 05:15:42,397 - INFO - Attempting to fetch image URL from: https://www.etsy.com/listing/838556888/censer-incense-burner-copper-incense\n",
      "2024-04-14 05:15:43,231 - INFO - Successfully fetched image URL from: https://www.etsy.com/listing/838556888/censer-incense-burner-copper-incense\n",
      "2024-04-14 05:15:43,233 - INFO - Attempting to fetch image from: https://i.etsystatic.com/35948750/r/il/6c4298/5906111932/il_340x270.5906111932_im4p.jpg\n",
      "2024-04-14 05:15:43,454 - INFO - Successfully fetched image from: https://i.etsystatic.com/35948750/r/il/6c4298/5906111932/il_340x270.5906111932_im4p.jpg\n",
      "2024-04-14 05:15:43,455 - INFO - Attempting to fetch image URL from: https://www.etsy.com/listing/914381225/chinese-antique-pure-copper-small\n",
      "2024-04-14 05:15:44,364 - INFO - Successfully fetched image URL from: https://www.etsy.com/listing/914381225/chinese-antique-pure-copper-small\n",
      "2024-04-14 05:15:44,366 - INFO - Attempting to fetch image from: https://i.etsystatic.com/26160385/r/il/f70754/2746969245/il_794xN.2746969245_pa0e.jpg\n",
      "2024-04-14 05:15:45,049 - INFO - Successfully fetched image from: https://i.etsystatic.com/26160385/r/il/f70754/2746969245/il_794xN.2746969245_pa0e.jpg\n",
      "2024-04-14 05:15:45,051 - INFO - Attempting to fetch image URL from: https://www.etsy.com/listing/1115379703/chinese-antique-boutique-collection-of\n",
      "2024-04-14 05:15:45,790 - INFO - Successfully fetched image URL from: https://www.etsy.com/listing/1115379703/chinese-antique-boutique-collection-of\n",
      "2024-04-14 05:15:45,791 - INFO - Attempting to fetch image from: https://i.etsystatic.com/21743212/r/il/7a0dc7/3447355888/il_794xN.3447355888_hb6x.jpg\n",
      "2024-04-14 05:15:46,470 - INFO - Successfully fetched image from: https://i.etsystatic.com/21743212/r/il/7a0dc7/3447355888/il_794xN.3447355888_hb6x.jpg\n",
      "2024-04-14 05:15:46,472 - INFO - Attempting to fetch image URL from: https://www.etsy.com/listing/1333718112/traditional-chinese-incense-270pcs\n",
      "2024-04-14 05:15:47,222 - INFO - Successfully fetched image URL from: https://www.etsy.com/listing/1333718112/traditional-chinese-incense-270pcs\n",
      "2024-04-14 05:15:47,224 - INFO - Attempting to fetch image from: https://i.etsystatic.com/7390884/c/2992/2376/0/206/il/bc1588/5424500039/il_340x270.5424500039_bpmj.jpg\n",
      "2024-04-14 05:15:47,326 - INFO - Successfully fetched image from: https://i.etsystatic.com/7390884/c/2992/2376/0/206/il/bc1588/5424500039/il_340x270.5424500039_bpmj.jpg\n",
      "2024-04-14 05:15:47,327 - INFO - Attempting to fetch image URL from: https://www.etsy.com/listing/1282254321/tibet-ancient-bronze-cicada-incense\n",
      "2024-04-14 05:15:48,028 - INFO - Successfully fetched image URL from: https://www.etsy.com/listing/1282254321/tibet-ancient-bronze-cicada-incense\n",
      "2024-04-14 05:15:48,030 - INFO - Attempting to fetch image from: https://i.etsystatic.com/33009983/c/3000/2384/0/89/il/80c228/4807532146/il_340x270.4807532146_kigw.jpg\n",
      "2024-04-14 05:15:48,077 - INFO - Successfully fetched image from: https://i.etsystatic.com/33009983/c/3000/2384/0/89/il/80c228/4807532146/il_340x270.4807532146_kigw.jpg\n",
      "2024-04-14 05:15:48,078 - INFO - Attempting to fetch image URL from: https://www.etsy.com/listing/1064821971/creativity-retro-chinese-hand-holding\n",
      "2024-04-14 05:15:48,872 - INFO - Successfully fetched image URL from: https://www.etsy.com/listing/1064821971/creativity-retro-chinese-hand-holding\n",
      "2024-04-14 05:15:48,873 - INFO - Attempting to fetch image from: https://i.etsystatic.com/17304479/r/il/d5deba/5368731170/il_794xN.5368731170_but1.jpg\n",
      "2024-04-14 05:15:50,057 - INFO - Successfully fetched image from: https://i.etsystatic.com/17304479/r/il/d5deba/5368731170/il_794xN.5368731170_but1.jpg\n",
      "2024-04-14 05:15:50,062 - INFO - Attempting to fetch image URL from: https://www.etsy.com/listing/995735919/jackie-chan-adventures-12-magnetic\n",
      "2024-04-14 05:15:50,119 - ERROR - Error fetching image for URL: https://www.etsy.com/listing/995735919/jackie-chan-adventures-12-magnetic. Error: No image found\n",
      "2024-04-14 05:15:54,319 - INFO - Attempting to fetch image URL from: https://www.etsy.com/listing/995735919/jackie-chan-adventures-12-magnetic\n",
      "2024-04-14 05:15:54,375 - ERROR - Error fetching image for URL: https://www.etsy.com/listing/995735919/jackie-chan-adventures-12-magnetic. Error: No image found\n",
      "2024-04-14 05:15:56,675 - INFO - Attempting to fetch image URL from: https://www.etsy.com/listing/995735919/jackie-chan-adventures-12-magnetic\n",
      "2024-04-14 05:15:57,473 - INFO - Successfully fetched image URL from: https://www.etsy.com/listing/995735919/jackie-chan-adventures-12-magnetic\n",
      "2024-04-14 05:15:57,475 - INFO - Attempting to fetch image from: https://i.etsystatic.com/28594926/r/il/0ebf87/3648972354/il_794xN.3648972354_21tj.jpg\n",
      "2024-04-14 05:15:57,589 - INFO - Successfully fetched image from: https://i.etsystatic.com/28594926/r/il/0ebf87/3648972354/il_794xN.3648972354_21tj.jpg\n",
      "2024-04-14 05:15:57,591 - INFO - Attempting to fetch image URL from: https://www.etsy.com/listing/773097825/rat-pin-or-magnet-rat-magnet-rat-art\n",
      "2024-04-14 05:15:58,575 - INFO - Successfully fetched image URL from: https://www.etsy.com/listing/773097825/rat-pin-or-magnet-rat-magnet-rat-art\n",
      "2024-04-14 05:15:58,577 - INFO - Attempting to fetch image from: https://i.etsystatic.com/12816411/r/il/05a213/2212059963/il_794xN.2212059963_pub6.jpg\n",
      "2024-04-14 05:15:58,665 - INFO - Successfully fetched image from: https://i.etsystatic.com/12816411/r/il/05a213/2212059963/il_794xN.2212059963_pub6.jpg\n",
      "2024-04-14 05:15:58,666 - INFO - Attempting to fetch image URL from: https://www.etsy.com/listing/928983426/cute-cat-feng-shui-magnetic-bookmark\n",
      "2024-04-14 05:15:58,722 - ERROR - Error fetching image for URL: https://www.etsy.com/listing/928983426/cute-cat-feng-shui-magnetic-bookmark. Error: No image found\n",
      "2024-04-14 05:16:01,108 - INFO - Attempting to fetch image URL from: https://www.etsy.com/listing/928983426/cute-cat-feng-shui-magnetic-bookmark\n",
      "2024-04-14 05:16:01,871 - INFO - Successfully fetched image URL from: https://www.etsy.com/listing/928983426/cute-cat-feng-shui-magnetic-bookmark\n",
      "2024-04-14 05:16:01,873 - INFO - Attempting to fetch image from: https://i.etsystatic.com/23824001/r/il/cf10d5/2843720435/il_794xN.2843720435_csgk.jpg\n",
      "2024-04-14 05:16:02,851 - INFO - Successfully fetched image from: https://i.etsystatic.com/23824001/r/il/cf10d5/2843720435/il_794xN.2843720435_csgk.jpg\n",
      "2024-04-14 05:16:02,857 - INFO - Attempting to fetch image URL from: https://www.etsy.com/listing/1255275264/japanese-fan-magnets-cherry-blossoms\n",
      "2024-04-14 05:16:03,445 - INFO - Successfully fetched image URL from: https://www.etsy.com/listing/1255275264/japanese-fan-magnets-cherry-blossoms\n",
      "2024-04-14 05:16:03,447 - INFO - Attempting to fetch image from: https://i.etsystatic.com/31335521/r/il/3b9224/4014742284/il_680x540.4014742284_6pzy.jpg\n",
      "2024-04-14 05:16:03,496 - INFO - Successfully fetched image from: https://i.etsystatic.com/31335521/r/il/3b9224/4014742284/il_680x540.4014742284_6pzy.jpg\n",
      "2024-04-14 05:16:03,497 - INFO - Attempting to fetch image URL from: https://www.etsy.com/listing/942924669/cute-cat-feng-shui-magnetic-bookmark\n",
      "2024-04-14 05:16:03,550 - ERROR - Error fetching image for URL: https://www.etsy.com/listing/942924669/cute-cat-feng-shui-magnetic-bookmark. Error: No image found\n",
      "2024-04-14 05:16:08,214 - INFO - Attempting to fetch image URL from: https://www.etsy.com/listing/942924669/cute-cat-feng-shui-magnetic-bookmark\n",
      "2024-04-14 05:16:08,268 - ERROR - Error fetching image for URL: https://www.etsy.com/listing/942924669/cute-cat-feng-shui-magnetic-bookmark. Error: No image found\n",
      "2024-04-14 05:16:12,098 - INFO - Attempting to fetch image URL from: https://www.etsy.com/listing/942924669/cute-cat-feng-shui-magnetic-bookmark\n",
      "2024-04-14 05:16:12,794 - INFO - Successfully fetched image URL from: https://www.etsy.com/listing/942924669/cute-cat-feng-shui-magnetic-bookmark\n",
      "2024-04-14 05:16:12,795 - INFO - Attempting to fetch image from: https://i.etsystatic.com/23824001/r/il/844c26/2843739809/il_794xN.2843739809_fojd.jpg\n",
      "2024-04-14 05:16:13,918 - INFO - Successfully fetched image from: https://i.etsystatic.com/23824001/r/il/844c26/2843739809/il_794xN.2843739809_fojd.jpg\n",
      "2024-04-14 05:16:13,919 - INFO - Attempting to fetch image URL from: https://www.etsy.com/listing/173899723/fridge-serpent-refrigerator-magnet\n",
      "2024-04-14 05:16:13,972 - ERROR - Error fetching image for URL: https://www.etsy.com/listing/173899723/fridge-serpent-refrigerator-magnet. Error: No image found\n",
      "2024-04-14 05:16:16,096 - INFO - Attempting to fetch image URL from: https://www.etsy.com/listing/173899723/fridge-serpent-refrigerator-magnet\n",
      "2024-04-14 05:16:16,155 - ERROR - Error fetching image for URL: https://www.etsy.com/listing/173899723/fridge-serpent-refrigerator-magnet. Error: No image found\n",
      "2024-04-14 05:16:18,417 - INFO - Attempting to fetch image URL from: https://www.etsy.com/listing/173899723/fridge-serpent-refrigerator-magnet\n",
      "2024-04-14 05:16:19,183 - INFO - Successfully fetched image URL from: https://www.etsy.com/listing/173899723/fridge-serpent-refrigerator-magnet\n",
      "2024-04-14 05:16:19,186 - INFO - Attempting to fetch image from: https://i.etsystatic.com/6177404/r/il/100fc4/543870401/il_794xN.543870401_6lnt.jpg\n",
      "2024-04-14 05:16:19,256 - INFO - Successfully fetched image from: https://i.etsystatic.com/6177404/r/il/100fc4/543870401/il_794xN.543870401_6lnt.jpg\n",
      "2024-04-14 05:16:19,257 - INFO - Attempting to fetch image URL from: https://www.etsy.com/listing/712364491/chinese-pattern-fridge-magnets-planner\n",
      "2024-04-14 05:16:20,494 - INFO - Successfully fetched image URL from: https://www.etsy.com/listing/712364491/chinese-pattern-fridge-magnets-planner\n",
      "2024-04-14 05:16:20,496 - INFO - Attempting to fetch image from: https://i.etsystatic.com/16906994/r/il/17e3f2/1950639913/il_680x540.1950639913_rbz9.jpg\n",
      "2024-04-14 05:16:20,556 - INFO - Successfully fetched image from: https://i.etsystatic.com/16906994/r/il/17e3f2/1950639913/il_680x540.1950639913_rbz9.jpg\n",
      "2024-04-14 05:16:20,557 - INFO - Attempting to fetch image URL from: https://www.etsy.com/listing/859161210/yin-yang-pin-gift-packaged-magnetic-back\n",
      "2024-04-14 05:16:21,633 - INFO - Successfully fetched image URL from: https://www.etsy.com/listing/859161210/yin-yang-pin-gift-packaged-magnetic-back\n",
      "2024-04-14 05:16:21,635 - INFO - Attempting to fetch image from: https://i.etsystatic.com/9020857/r/il/aa29ce/2583937795/il_794xN.2583937795_fdw5.jpg\n",
      "2024-04-14 05:16:21,680 - INFO - Successfully fetched image from: https://i.etsystatic.com/9020857/r/il/aa29ce/2583937795/il_794xN.2583937795_fdw5.jpg\n",
      "2024-04-14 05:16:21,681 - INFO - Attempting to fetch image URL from: https://www.etsy.com/listing/1027716447/lot-of-3-vintage-90s-magnetic-travel\n",
      "2024-04-14 05:16:21,736 - ERROR - Error fetching image for URL: https://www.etsy.com/listing/1027716447/lot-of-3-vintage-90s-magnetic-travel. Error: No image found\n",
      "2024-04-14 05:16:25,113 - INFO - Attempting to fetch image URL from: https://www.etsy.com/listing/1027716447/lot-of-3-vintage-90s-magnetic-travel\n",
      "2024-04-14 05:16:25,170 - ERROR - Error fetching image for URL: https://www.etsy.com/listing/1027716447/lot-of-3-vintage-90s-magnetic-travel. Error: No image found\n",
      "2024-04-14 05:16:27,022 - INFO - Attempting to fetch image URL from: https://www.etsy.com/listing/1027716447/lot-of-3-vintage-90s-magnetic-travel\n",
      "2024-04-14 05:16:27,100 - ERROR - Error fetching image for URL: https://www.etsy.com/listing/1027716447/lot-of-3-vintage-90s-magnetic-travel. Error: No image found\n",
      "2024-04-14 05:16:28,923 - INFO - Attempting to fetch image URL from: https://www.etsy.com/listing/1027716447/lot-of-3-vintage-90s-magnetic-travel\n",
      "2024-04-14 05:16:29,727 - INFO - Successfully fetched image URL from: https://www.etsy.com/listing/1027716447/lot-of-3-vintage-90s-magnetic-travel\n",
      "2024-04-14 05:16:29,729 - INFO - Attempting to fetch image from: https://i.etsystatic.com/10282191/r/il/044b56/3161661945/il_794xN.3161661945_1bza.jpg\n",
      "2024-04-14 05:16:30,027 - INFO - Successfully fetched image from: https://i.etsystatic.com/10282191/r/il/044b56/3161661945/il_794xN.3161661945_1bza.jpg\n",
      "2024-04-14 05:16:30,031 - INFO - Attempting to fetch image URL from: https://www.etsy.com/listing/897498128/magnets-japanese-style-yuzen-chiyogami\n",
      "2024-04-14 05:16:30,850 - INFO - Successfully fetched image URL from: https://www.etsy.com/listing/897498128/magnets-japanese-style-yuzen-chiyogami\n",
      "2024-04-14 05:16:30,852 - INFO - Attempting to fetch image from: https://i.etsystatic.com/17693053/r/il/7c694a/2811545475/il_794xN.2811545475_lk4k.jpg\n",
      "2024-04-14 05:16:31,097 - INFO - Successfully fetched image from: https://i.etsystatic.com/17693053/r/il/7c694a/2811545475/il_794xN.2811545475_lk4k.jpg\n",
      "2024-04-14 05:16:31,099 - INFO - Attempting to fetch image URL from: https://www.etsy.com/listing/742923687/paper-lantern-round-chinese-paper\n",
      "2024-04-14 05:16:31,151 - ERROR - Error fetching image for URL: https://www.etsy.com/listing/742923687/paper-lantern-round-chinese-paper. Error: No image found\n",
      "2024-04-14 05:16:35,878 - INFO - Attempting to fetch image URL from: https://www.etsy.com/listing/742923687/paper-lantern-round-chinese-paper\n",
      "2024-04-14 05:16:35,946 - ERROR - Error fetching image for URL: https://www.etsy.com/listing/742923687/paper-lantern-round-chinese-paper. Error: No image found\n",
      "2024-04-14 05:16:39,473 - INFO - Attempting to fetch image URL from: https://www.etsy.com/listing/742923687/paper-lantern-round-chinese-paper\n",
      "2024-04-14 05:16:39,528 - ERROR - Error fetching image for URL: https://www.etsy.com/listing/742923687/paper-lantern-round-chinese-paper. Error: No image found\n",
      "2024-04-14 05:16:42,599 - INFO - Attempting to fetch image URL from: https://www.etsy.com/listing/742923687/paper-lantern-round-chinese-paper\n",
      "2024-04-14 05:16:43,646 - INFO - Successfully fetched image URL from: https://www.etsy.com/listing/742923687/paper-lantern-round-chinese-paper\n",
      "2024-04-14 05:16:43,648 - INFO - Attempting to fetch image from: https://i.etsystatic.com/18963926/r/il/80e9a1/2486105379/il_794xN.2486105379_2o9j.jpg\n",
      "2024-04-14 05:16:44,030 - INFO - Successfully fetched image from: https://i.etsystatic.com/18963926/r/il/80e9a1/2486105379/il_794xN.2486105379_2o9j.jpg\n",
      "2024-04-14 05:16:44,031 - INFO - Attempting to fetch image URL from: https://www.etsy.com/listing/1191818041/paper-lanterns-wedding-lanterns-chinese\n",
      "2024-04-14 05:16:44,087 - ERROR - Error fetching image for URL: https://www.etsy.com/listing/1191818041/paper-lanterns-wedding-lanterns-chinese. Error: No image found\n",
      "2024-04-14 05:16:48,138 - INFO - Attempting to fetch image URL from: https://www.etsy.com/listing/1191818041/paper-lanterns-wedding-lanterns-chinese\n",
      "2024-04-14 05:16:48,204 - ERROR - Error fetching image for URL: https://www.etsy.com/listing/1191818041/paper-lanterns-wedding-lanterns-chinese. Error: No image found\n",
      "2024-04-14 05:16:50,098 - INFO - Attempting to fetch image URL from: https://www.etsy.com/listing/1191818041/paper-lanterns-wedding-lanterns-chinese\n",
      "2024-04-14 05:16:50,929 - INFO - Successfully fetched image URL from: https://www.etsy.com/listing/1191818041/paper-lanterns-wedding-lanterns-chinese\n",
      "2024-04-14 05:16:50,931 - INFO - Attempting to fetch image from: https://i.etsystatic.com/15729766/r/il/d5824a/5244035172/il_794xN.5244035172_in3p.jpg\n",
      "2024-04-14 05:16:51,326 - INFO - Successfully fetched image from: https://i.etsystatic.com/15729766/r/il/d5824a/5244035172/il_794xN.5244035172_in3p.jpg\n",
      "2024-04-14 05:16:51,328 - INFO - Attempting to fetch image URL from: https://www.etsy.com/listing/1031757709/minimalist-origami-lampshade-white-paper\n",
      "2024-04-14 05:16:51,395 - ERROR - Error fetching image for URL: https://www.etsy.com/listing/1031757709/minimalist-origami-lampshade-white-paper. Error: No image found\n",
      "2024-04-14 05:16:56,318 - INFO - Attempting to fetch image URL from: https://www.etsy.com/listing/1031757709/minimalist-origami-lampshade-white-paper\n",
      "2024-04-14 05:16:56,380 - ERROR - Error fetching image for URL: https://www.etsy.com/listing/1031757709/minimalist-origami-lampshade-white-paper. Error: No image found\n",
      "2024-04-14 05:17:00,153 - INFO - Attempting to fetch image URL from: https://www.etsy.com/listing/1031757709/minimalist-origami-lampshade-white-paper\n",
      "2024-04-14 05:17:00,859 - INFO - Successfully fetched image URL from: https://www.etsy.com/listing/1031757709/minimalist-origami-lampshade-white-paper\n",
      "2024-04-14 05:17:00,861 - INFO - Attempting to fetch image from: https://i.etsystatic.com/20530066/r/il/4ea19b/4724032120/il_794xN.4724032120_6b8i.jpg\n",
      "2024-04-14 05:17:01,276 - INFO - Successfully fetched image from: https://i.etsystatic.com/20530066/r/il/4ea19b/4724032120/il_794xN.4724032120_6b8i.jpg\n",
      "2024-04-14 05:17:01,280 - INFO - Attempting to fetch image URL from: https://www.etsy.com/listing/1058609686/eyelet-paper-lantern-round-chinese-paper\n",
      "2024-04-14 05:17:01,341 - ERROR - Error fetching image for URL: https://www.etsy.com/listing/1058609686/eyelet-paper-lantern-round-chinese-paper. Error: No image found\n",
      "2024-04-14 05:17:05,680 - INFO - Attempting to fetch image URL from: https://www.etsy.com/listing/1058609686/eyelet-paper-lantern-round-chinese-paper\n",
      "2024-04-14 05:17:06,612 - INFO - Successfully fetched image URL from: https://www.etsy.com/listing/1058609686/eyelet-paper-lantern-round-chinese-paper\n",
      "2024-04-14 05:17:06,615 - INFO - Attempting to fetch image from: https://i.etsystatic.com/18963926/r/il/6ea763/3282899458/il_794xN.3282899458_6jva.jpg\n",
      "2024-04-14 05:17:06,986 - INFO - Successfully fetched image from: https://i.etsystatic.com/18963926/r/il/6ea763/3282899458/il_794xN.3282899458_6jva.jpg\n",
      "2024-04-14 05:17:06,988 - INFO - Attempting to fetch image URL from: https://www.etsy.com/listing/1055915794/strawberry-paper-lantern-chinese-paper\n",
      "2024-04-14 05:17:07,771 - INFO - Successfully fetched image URL from: https://www.etsy.com/listing/1055915794/strawberry-paper-lantern-chinese-paper\n",
      "2024-04-14 05:17:07,773 - INFO - Attempting to fetch image from: https://i.etsystatic.com/18963926/r/il/a53769/3288511734/il_794xN.3288511734_77pp.jpg\n",
      "2024-04-14 05:17:08,151 - INFO - Successfully fetched image from: https://i.etsystatic.com/18963926/r/il/a53769/3288511734/il_794xN.3288511734_77pp.jpg\n",
      "2024-04-14 05:17:08,156 - INFO - Attempting to fetch image URL from: https://www.etsy.com/listing/1386032695/dragon-paper-lantern-crafts-chinese-new\n",
      "2024-04-14 05:17:08,229 - ERROR - Error fetching image for URL: https://www.etsy.com/listing/1386032695/dragon-paper-lantern-crafts-chinese-new. Error: No image found\n",
      "2024-04-14 05:17:12,836 - INFO - Attempting to fetch image URL from: https://www.etsy.com/listing/1386032695/dragon-paper-lantern-crafts-chinese-new\n",
      "2024-04-14 05:17:13,566 - INFO - Successfully fetched image URL from: https://www.etsy.com/listing/1386032695/dragon-paper-lantern-crafts-chinese-new\n",
      "2024-04-14 05:17:13,568 - INFO - Attempting to fetch image from: https://i.etsystatic.com/34098216/r/il/7d3ffa/5341631408/il_794xN.5341631408_59o4.jpg\n",
      "2024-04-14 05:17:13,812 - INFO - Successfully fetched image from: https://i.etsystatic.com/34098216/r/il/7d3ffa/5341631408/il_794xN.5341631408_59o4.jpg\n",
      "2024-04-14 05:17:13,813 - INFO - Attempting to fetch image URL from: https://www.etsy.com/listing/564245404/vintage-paper-lantern-washi-tape-paper\n",
      "2024-04-14 05:17:13,864 - ERROR - Error fetching image for URL: https://www.etsy.com/listing/564245404/vintage-paper-lantern-washi-tape-paper. Error: No image found\n",
      "2024-04-14 05:17:16,239 - INFO - Attempting to fetch image URL from: https://www.etsy.com/listing/564245404/vintage-paper-lantern-washi-tape-paper\n",
      "2024-04-14 05:17:16,298 - ERROR - Error fetching image for URL: https://www.etsy.com/listing/564245404/vintage-paper-lantern-washi-tape-paper. Error: No image found\n",
      "2024-04-14 05:17:20,550 - INFO - Attempting to fetch image URL from: https://www.etsy.com/listing/564245404/vintage-paper-lantern-washi-tape-paper\n",
      "2024-04-14 05:17:20,623 - ERROR - Error fetching image for URL: https://www.etsy.com/listing/564245404/vintage-paper-lantern-washi-tape-paper. Error: No image found\n",
      "2024-04-14 05:17:21,918 - INFO - Attempting to fetch image URL from: https://www.etsy.com/listing/564245404/vintage-paper-lantern-washi-tape-paper\n",
      "2024-04-14 05:17:22,885 - INFO - Successfully fetched image URL from: https://www.etsy.com/listing/564245404/vintage-paper-lantern-washi-tape-paper\n",
      "2024-04-14 05:17:22,887 - INFO - Attempting to fetch image from: https://i.etsystatic.com/12533879/r/il/5f0e88/4390093817/il_794xN.4390093817_it8f.jpg\n",
      "2024-04-14 05:17:23,334 - INFO - Successfully fetched image from: https://i.etsystatic.com/12533879/r/il/5f0e88/4390093817/il_794xN.4390093817_it8f.jpg\n",
      "2024-04-14 05:17:23,335 - INFO - Attempting to fetch image URL from: https://www.etsy.com/listing/1302413414/sets-of-brightly-coloured-christmas\n",
      "2024-04-14 05:17:23,396 - ERROR - Error fetching image for URL: https://www.etsy.com/listing/1302413414/sets-of-brightly-coloured-christmas. Error: No image found\n",
      "2024-04-14 05:17:25,817 - INFO - Attempting to fetch image URL from: https://www.etsy.com/listing/1302413414/sets-of-brightly-coloured-christmas\n",
      "2024-04-14 05:17:25,882 - ERROR - Error fetching image for URL: https://www.etsy.com/listing/1302413414/sets-of-brightly-coloured-christmas. Error: No image found\n",
      "2024-04-14 05:17:29,250 - INFO - Attempting to fetch image URL from: https://www.etsy.com/listing/1302413414/sets-of-brightly-coloured-christmas\n",
      "2024-04-14 05:17:29,905 - INFO - Successfully fetched image URL from: https://www.etsy.com/listing/1302413414/sets-of-brightly-coloured-christmas\n",
      "2024-04-14 05:17:29,906 - INFO - Attempting to fetch image from: https://i.etsystatic.com/6599546/r/il/54c3a3/4212191874/il_680x540.4212191874_l6tv.jpg\n",
      "2024-04-14 05:17:30,959 - INFO - Successfully fetched image from: https://i.etsystatic.com/6599546/r/il/54c3a3/4212191874/il_680x540.4212191874_l6tv.jpg\n",
      "2024-04-14 05:17:30,960 - INFO - Attempting to fetch image URL from: https://www.etsy.com/listing/1048917042/halloween-paper-lantern-halloween-party\n",
      "2024-04-14 05:17:31,834 - INFO - Successfully fetched image URL from: https://www.etsy.com/listing/1048917042/halloween-paper-lantern-halloween-party\n",
      "2024-04-14 05:17:31,836 - INFO - Attempting to fetch image from: https://i.etsystatic.com/18963926/r/il/2a0477/3246851682/il_794xN.3246851682_4em8.jpg\n",
      "2024-04-14 05:17:32,117 - INFO - Successfully fetched image from: https://i.etsystatic.com/18963926/r/il/2a0477/3246851682/il_794xN.3246851682_4em8.jpg\n",
      "2024-04-14 05:17:32,118 - INFO - Attempting to fetch image URL from: https://www.etsy.com/listing/1142882158/chinese-new-year-embosser-cookie-cutters\n",
      "2024-04-14 05:17:32,167 - ERROR - Error fetching image for URL: https://www.etsy.com/listing/1142882158/chinese-new-year-embosser-cookie-cutters. Error: No image found\n",
      "2024-04-14 05:17:33,639 - INFO - Attempting to fetch image URL from: https://www.etsy.com/listing/1142882158/chinese-new-year-embosser-cookie-cutters\n",
      "2024-04-14 05:17:33,695 - ERROR - Error fetching image for URL: https://www.etsy.com/listing/1142882158/chinese-new-year-embosser-cookie-cutters. Error: No image found\n",
      "2024-04-14 05:17:36,993 - INFO - Attempting to fetch image URL from: https://www.etsy.com/listing/1142882158/chinese-new-year-embosser-cookie-cutters\n",
      "2024-04-14 05:17:37,068 - ERROR - Error fetching image for URL: https://www.etsy.com/listing/1142882158/chinese-new-year-embosser-cookie-cutters. Error: No image found\n",
      "2024-04-14 05:17:41,839 - INFO - Attempting to fetch image URL from: https://www.etsy.com/listing/1142882158/chinese-new-year-embosser-cookie-cutters\n",
      "2024-04-14 05:17:41,907 - ERROR - Error fetching image for URL: https://www.etsy.com/listing/1142882158/chinese-new-year-embosser-cookie-cutters. Error: No image found\n",
      "2024-04-14 05:17:46,741 - INFO - Attempting to fetch image URL from: https://www.etsy.com/listing/1142882158/chinese-new-year-embosser-cookie-cutters\n",
      "2024-04-14 05:17:46,858 - ERROR - Error fetching image for URL: https://www.etsy.com/listing/1142882158/chinese-new-year-embosser-cookie-cutters. Error: No image found\n",
      "2024-04-14 05:17:50,475 - INFO - Attempting to fetch image URL from: https://www.etsy.com/listing/1142882158/chinese-new-year-embosser-cookie-cutters\n",
      "2024-04-14 05:17:50,541 - ERROR - Error fetching image for URL: https://www.etsy.com/listing/1142882158/chinese-new-year-embosser-cookie-cutters. Error: No image found\n",
      "2024-04-14 05:17:53,976 - INFO - Attempting to fetch image URL from: https://www.etsy.com/listing/1142882158/chinese-new-year-embosser-cookie-cutters\n",
      "2024-04-14 05:17:55,049 - INFO - Successfully fetched image URL from: https://www.etsy.com/listing/1142882158/chinese-new-year-embosser-cookie-cutters\n",
      "2024-04-14 05:17:55,052 - INFO - Attempting to fetch image from: https://i.etsystatic.com/30446978/r/il/9b7af7/3631216651/il_794xN.3631216651_s1g4.jpg\n",
      "2024-04-14 05:17:55,519 - INFO - Successfully fetched image from: https://i.etsystatic.com/30446978/r/il/9b7af7/3631216651/il_794xN.3631216651_s1g4.jpg\n",
      "2024-04-14 05:17:55,520 - INFO - Attempting to fetch image URL from: https://www.etsy.com/listing/712035016/watercolor-bamboo-instant-download\n",
      "2024-04-14 05:17:55,575 - ERROR - Error fetching image for URL: https://www.etsy.com/listing/712035016/watercolor-bamboo-instant-download. Error: No image found\n",
      "2024-04-14 05:17:56,719 - INFO - Attempting to fetch image URL from: https://www.etsy.com/listing/712035016/watercolor-bamboo-instant-download\n",
      "2024-04-14 05:17:56,773 - ERROR - Error fetching image for URL: https://www.etsy.com/listing/712035016/watercolor-bamboo-instant-download. Error: No image found\n",
      "2024-04-14 05:18:00,282 - INFO - Attempting to fetch image URL from: https://www.etsy.com/listing/712035016/watercolor-bamboo-instant-download\n",
      "2024-04-14 05:18:01,062 - INFO - Successfully fetched image URL from: https://www.etsy.com/listing/712035016/watercolor-bamboo-instant-download\n",
      "2024-04-14 05:18:01,065 - INFO - Attempting to fetch image from: https://i.etsystatic.com/19294322/r/il/976c8d/2009633715/il_794xN.2009633715_kgch.jpg\n",
      "2024-04-14 05:18:01,935 - INFO - Successfully fetched image from: https://i.etsystatic.com/19294322/r/il/976c8d/2009633715/il_794xN.2009633715_kgch.jpg\n",
      "2024-04-14 05:18:01,936 - INFO - Attempting to fetch image URL from: https://www.etsy.com/listing/670739281/panda-pile-buttons-by-dress-it-up-jesse\n",
      "2024-04-14 05:18:01,992 - ERROR - Error fetching image for URL: https://www.etsy.com/listing/670739281/panda-pile-buttons-by-dress-it-up-jesse. Error: No image found\n",
      "2024-04-14 05:18:05,416 - INFO - Attempting to fetch image URL from: https://www.etsy.com/listing/670739281/panda-pile-buttons-by-dress-it-up-jesse\n",
      "2024-04-14 05:18:06,189 - INFO - Successfully fetched image URL from: https://www.etsy.com/listing/670739281/panda-pile-buttons-by-dress-it-up-jesse\n",
      "2024-04-14 05:18:06,191 - INFO - Attempting to fetch image from: https://i.etsystatic.com/5346352/r/il/be0f14/1776848873/il_794xN.1776848873_94x7.jpg\n",
      "2024-04-14 05:18:07,507 - INFO - Successfully fetched image from: https://i.etsystatic.com/5346352/r/il/be0f14/1776848873/il_794xN.1776848873_94x7.jpg\n",
      "2024-04-14 05:18:07,508 - INFO - Attempting to fetch image URL from: https://www.etsy.com/listing/1045365395/wood-bookmark-with-chinese-painting-art\n",
      "2024-04-14 05:18:08,367 - INFO - Successfully fetched image URL from: https://www.etsy.com/listing/1045365395/wood-bookmark-with-chinese-painting-art\n",
      "2024-04-14 05:18:08,370 - INFO - Attempting to fetch image from: https://i.etsystatic.com/30590150/r/il/5e9327/3181270812/il_794xN.3181270812_dlzx.jpg\n",
      "2024-04-14 05:18:08,768 - INFO - Successfully fetched image from: https://i.etsystatic.com/30590150/r/il/5e9327/3181270812/il_794xN.3181270812_dlzx.jpg\n",
      "2024-04-14 05:18:08,773 - INFO - Attempting to fetch image URL from: https://www.etsy.com/listing/1314628888/wall-shelf-living-room-cabinet-bedroom\n",
      "2024-04-14 05:18:08,830 - ERROR - Error fetching image for URL: https://www.etsy.com/listing/1314628888/wall-shelf-living-room-cabinet-bedroom. Error: No image found\n",
      "2024-04-14 05:18:11,449 - INFO - Attempting to fetch image URL from: https://www.etsy.com/listing/1314628888/wall-shelf-living-room-cabinet-bedroom\n",
      "2024-04-14 05:18:12,323 - INFO - Successfully fetched image URL from: https://www.etsy.com/listing/1314628888/wall-shelf-living-room-cabinet-bedroom\n",
      "2024-04-14 05:18:12,325 - INFO - Attempting to fetch image from: https://i.etsystatic.com/22833261/r/il/411733/5300258203/il_340x270.5300258203_jxtn.jpg\n",
      "2024-04-14 05:18:13,648 - INFO - Successfully fetched image from: https://i.etsystatic.com/22833261/r/il/411733/5300258203/il_340x270.5300258203_jxtn.jpg\n",
      "2024-04-14 05:18:13,650 - INFO - Attempting to fetch image URL from: https://www.etsy.com/listing/1302591642/mahogany-carving-mini-furniture-model\n",
      "2024-04-14 05:18:13,703 - ERROR - Error fetching image for URL: https://www.etsy.com/listing/1302591642/mahogany-carving-mini-furniture-model. Error: No image found\n",
      "2024-04-14 05:18:15,936 - INFO - Attempting to fetch image URL from: https://www.etsy.com/listing/1302591642/mahogany-carving-mini-furniture-model\n",
      "2024-04-14 05:18:15,995 - ERROR - Error fetching image for URL: https://www.etsy.com/listing/1302591642/mahogany-carving-mini-furniture-model. Error: No image found\n",
      "2024-04-14 05:18:20,525 - INFO - Attempting to fetch image URL from: https://www.etsy.com/listing/1302591642/mahogany-carving-mini-furniture-model\n",
      "2024-04-14 05:18:21,276 - INFO - Successfully fetched image URL from: https://www.etsy.com/listing/1302591642/mahogany-carving-mini-furniture-model\n",
      "2024-04-14 05:18:21,277 - INFO - Attempting to fetch image from: https://i.etsystatic.com/24470057/c/1536/2048/0/0/il/057d6b/3654411672/il_340x270.3654411672_ijti.jpg\n",
      "2024-04-14 05:18:21,421 - INFO - Successfully fetched image from: https://i.etsystatic.com/24470057/c/1536/2048/0/0/il/057d6b/3654411672/il_340x270.3654411672_ijti.jpg\n",
      "2024-04-14 05:18:21,423 - INFO - Attempting to fetch image URL from: https://www.etsy.com/listing/1335811495/tea-tray-tea-set-tray-new-high-grade\n",
      "2024-04-14 05:18:21,482 - ERROR - Error fetching image for URL: https://www.etsy.com/listing/1335811495/tea-tray-tea-set-tray-new-high-grade. Error: No image found\n",
      "2024-04-14 05:18:23,417 - INFO - Attempting to fetch image URL from: https://www.etsy.com/listing/1335811495/tea-tray-tea-set-tray-new-high-grade\n",
      "2024-04-14 05:18:24,324 - INFO - Successfully fetched image URL from: https://www.etsy.com/listing/1335811495/tea-tray-tea-set-tray-new-high-grade\n",
      "2024-04-14 05:18:24,325 - INFO - Attempting to fetch image from: https://i.etsystatic.com/22833261/r/il/411733/5300258203/il_340x270.5300258203_jxtn.jpg\n",
      "2024-04-14 05:18:27,988 - INFO - Successfully fetched image from: https://i.etsystatic.com/22833261/r/il/411733/5300258203/il_340x270.5300258203_jxtn.jpg\n",
      "2024-04-14 05:18:27,990 - INFO - Attempting to fetch image URL from: https://www.etsy.com/listing/1018043219/ba-ba-chinese-dad-bamboo-coffee-mug\n",
      "2024-04-14 05:18:28,952 - INFO - Successfully fetched image URL from: https://www.etsy.com/listing/1018043219/ba-ba-chinese-dad-bamboo-coffee-mug\n",
      "2024-04-14 05:18:28,954 - INFO - Attempting to fetch image from: https://i.etsystatic.com/16704364/r/il/96337d/3077609792/il_794xN.3077609792_s8fy.jpg\n",
      "2024-04-14 05:18:29,932 - INFO - Successfully fetched image from: https://i.etsystatic.com/16704364/r/il/96337d/3077609792/il_794xN.3077609792_s8fy.jpg\n",
      "2024-04-14 05:18:29,933 - INFO - Attempting to fetch image URL from: https://www.etsy.com/listing/1315888861/bogu-rack-hanging-wall-solid-wood\n",
      "2024-04-14 05:18:29,993 - ERROR - Error fetching image for URL: https://www.etsy.com/listing/1315888861/bogu-rack-hanging-wall-solid-wood. Error: No image found\n",
      "2024-04-14 05:18:31,824 - INFO - Attempting to fetch image URL from: https://www.etsy.com/listing/1315888861/bogu-rack-hanging-wall-solid-wood\n",
      "2024-04-14 05:18:31,887 - ERROR - Error fetching image for URL: https://www.etsy.com/listing/1315888861/bogu-rack-hanging-wall-solid-wood. Error: No image found\n",
      "2024-04-14 05:18:34,709 - INFO - Attempting to fetch image URL from: https://www.etsy.com/listing/1315888861/bogu-rack-hanging-wall-solid-wood\n",
      "2024-04-14 05:18:34,770 - ERROR - Error fetching image for URL: https://www.etsy.com/listing/1315888861/bogu-rack-hanging-wall-solid-wood. Error: No image found\n",
      "2024-04-14 05:18:36,876 - INFO - Attempting to fetch image URL from: https://www.etsy.com/listing/1315888861/bogu-rack-hanging-wall-solid-wood\n",
      "2024-04-14 05:18:37,639 - INFO - Successfully fetched image URL from: https://www.etsy.com/listing/1315888861/bogu-rack-hanging-wall-solid-wood\n",
      "2024-04-14 05:18:37,641 - INFO - Attempting to fetch image from: https://i.etsystatic.com/24470057/c/1536/2048/0/0/il/057d6b/3654411672/il_340x270.3654411672_ijti.jpg\n",
      "2024-04-14 05:18:41,294 - INFO - Successfully fetched image from: https://i.etsystatic.com/24470057/c/1536/2048/0/0/il/057d6b/3654411672/il_340x270.3654411672_ijti.jpg\n",
      "2024-04-14 05:18:41,295 - INFO - Attempting to fetch image URL from: https://www.etsy.com/listing/568817815/antique-chinese-bamboo-yarn-holder-skein\n",
      "2024-04-14 05:18:41,350 - ERROR - Error fetching image for URL: https://www.etsy.com/listing/568817815/antique-chinese-bamboo-yarn-holder-skein. Error: No image found\n",
      "2024-04-14 05:18:43,771 - INFO - Attempting to fetch image URL from: https://www.etsy.com/listing/568817815/antique-chinese-bamboo-yarn-holder-skein\n",
      "2024-04-14 05:18:43,833 - ERROR - Error fetching image for URL: https://www.etsy.com/listing/568817815/antique-chinese-bamboo-yarn-holder-skein. Error: No image found\n",
      "2024-04-14 05:18:44,934 - INFO - Attempting to fetch image URL from: https://www.etsy.com/listing/568817815/antique-chinese-bamboo-yarn-holder-skein\n",
      "2024-04-14 05:18:45,957 - INFO - Successfully fetched image URL from: https://www.etsy.com/listing/568817815/antique-chinese-bamboo-yarn-holder-skein\n",
      "2024-04-14 05:18:45,959 - INFO - Attempting to fetch image from: https://i.etsystatic.com/10824755/r/il/1c3dd0/3656889488/il_794xN.3656889488_oehl.jpg\n",
      "2024-04-14 05:18:51,160 - INFO - Successfully fetched image from: https://i.etsystatic.com/10824755/r/il/1c3dd0/3656889488/il_794xN.3656889488_oehl.jpg\n",
      "2024-04-14 05:18:51,165 - INFO - Attempting to fetch image URL from: https://www.etsy.com/listing/1238666007/chinese-antique-collection-handcrafted\n",
      "2024-04-14 05:18:51,984 - INFO - Successfully fetched image URL from: https://www.etsy.com/listing/1238666007/chinese-antique-collection-handcrafted\n",
      "2024-04-14 05:18:51,987 - INFO - Attempting to fetch image from: https://i.etsystatic.com/21743212/r/il/b6458c/3894942414/il_794xN.3894942414_thob.jpg\n",
      "2024-04-14 05:18:53,291 - INFO - Successfully fetched image from: https://i.etsystatic.com/21743212/r/il/b6458c/3894942414/il_794xN.3894942414_thob.jpg\n",
      "2024-04-14 05:18:53,292 - INFO - Attempting to fetch image URL from: https://www.etsy.com/listing/1167525912/top-seller-from-the-library-of-book\n",
      "2024-04-14 05:18:53,346 - ERROR - Error fetching image for URL: https://www.etsy.com/listing/1167525912/top-seller-from-the-library-of-book. Error: No image found\n",
      "2024-04-14 05:18:55,337 - INFO - Attempting to fetch image URL from: https://www.etsy.com/listing/1167525912/top-seller-from-the-library-of-book\n",
      "2024-04-14 05:18:55,421 - ERROR - Error fetching image for URL: https://www.etsy.com/listing/1167525912/top-seller-from-the-library-of-book. Error: No image found\n",
      "2024-04-14 05:18:58,430 - INFO - Attempting to fetch image URL from: https://www.etsy.com/listing/1167525912/top-seller-from-the-library-of-book\n",
      "2024-04-14 05:18:59,424 - INFO - Successfully fetched image URL from: https://www.etsy.com/listing/1167525912/top-seller-from-the-library-of-book\n",
      "2024-04-14 05:18:59,425 - INFO - Attempting to fetch image from: https://i.etsystatic.com/17535065/r/il/4c196a/3678279046/il_794xN.3678279046_2any.jpg\n",
      "2024-04-14 05:18:59,676 - INFO - Successfully fetched image from: https://i.etsystatic.com/17535065/r/il/4c196a/3678279046/il_794xN.3678279046_2any.jpg\n",
      "2024-04-14 05:18:59,677 - INFO - Attempting to fetch image URL from: https://www.etsy.com/listing/687412636/warning-stickers-mk-ii\n",
      "2024-04-14 05:19:00,327 - INFO - Successfully fetched image URL from: https://www.etsy.com/listing/687412636/warning-stickers-mk-ii\n",
      "2024-04-14 05:19:00,329 - INFO - Attempting to fetch image from: https://i.etsystatic.com/13650636/r/il/f3299a/1903707909/il_794xN.1903707909_b9z3.jpg\n",
      "2024-04-14 05:19:00,673 - INFO - Successfully fetched image from: https://i.etsystatic.com/13650636/r/il/f3299a/1903707909/il_794xN.1903707909_b9z3.jpg\n",
      "2024-04-14 05:19:00,677 - INFO - Attempting to fetch image URL from: https://www.etsy.com/listing/1413455244/custom-name-necklace-18k-gold-plated\n",
      "2024-04-14 05:19:01,505 - INFO - Successfully fetched image URL from: https://www.etsy.com/listing/1413455244/custom-name-necklace-18k-gold-plated\n",
      "2024-04-14 05:19:01,506 - INFO - Attempting to fetch image from: https://i.etsystatic.com/34379934/r/il/628644/4796937795/il_794xN.4796937795_qnr6.jpg\n",
      "2024-04-14 05:19:01,775 - INFO - Successfully fetched image from: https://i.etsystatic.com/34379934/r/il/628644/4796937795/il_794xN.4796937795_qnr6.jpg\n",
      "2024-04-14 05:19:01,777 - INFO - Attempting to fetch image URL from: https://www.etsy.com/listing/1167562350/personalized-cutting-board-wedding-gift\n",
      "2024-04-14 05:19:01,828 - ERROR - Error fetching image for URL: https://www.etsy.com/listing/1167562350/personalized-cutting-board-wedding-gift. Error: No image found\n",
      "2024-04-14 05:19:06,579 - INFO - Attempting to fetch image URL from: https://www.etsy.com/listing/1167562350/personalized-cutting-board-wedding-gift\n",
      "2024-04-14 05:19:07,344 - INFO - Successfully fetched image URL from: https://www.etsy.com/listing/1167562350/personalized-cutting-board-wedding-gift\n",
      "2024-04-14 05:19:07,346 - INFO - Attempting to fetch image from: https://i.etsystatic.com/34269816/r/il/13a017/5460094842/il_794xN.5460094842_8fcs.jpg\n",
      "2024-04-14 05:19:07,618 - INFO - Successfully fetched image from: https://i.etsystatic.com/34269816/r/il/13a017/5460094842/il_794xN.5460094842_8fcs.jpg\n",
      "2024-04-14 05:19:07,620 - INFO - Attempting to fetch image URL from: https://www.etsy.com/listing/1295695410/custom-pet-portraits-using-pet-photo\n",
      "2024-04-14 05:19:07,681 - ERROR - Error fetching image for URL: https://www.etsy.com/listing/1295695410/custom-pet-portraits-using-pet-photo. Error: No image found\n",
      "2024-04-14 05:19:08,796 - INFO - Attempting to fetch image URL from: https://www.etsy.com/listing/1295695410/custom-pet-portraits-using-pet-photo\n",
      "2024-04-14 05:19:09,794 - INFO - Successfully fetched image URL from: https://www.etsy.com/listing/1295695410/custom-pet-portraits-using-pet-photo\n",
      "2024-04-14 05:19:09,796 - INFO - Attempting to fetch image from: https://i.etsystatic.com/25168585/r/il/86edef/5268363145/il_794xN.5268363145_hmy9.jpg\n",
      "2024-04-14 05:19:10,034 - INFO - Successfully fetched image from: https://i.etsystatic.com/25168585/r/il/86edef/5268363145/il_794xN.5268363145_hmy9.jpg\n",
      "2024-04-14 05:19:10,035 - INFO - Attempting to fetch image URL from: https://www.etsy.com/listing/1144768652/personalised-gaming-snacks-jar-sticker\n",
      "2024-04-14 05:19:10,882 - INFO - Successfully fetched image URL from: https://www.etsy.com/listing/1144768652/personalised-gaming-snacks-jar-sticker\n",
      "2024-04-14 05:19:10,884 - INFO - Attempting to fetch image from: https://i.etsystatic.com/26940874/r/il/6ab376/4488115810/il_794xN.4488115810_l9er.jpg\n",
      "2024-04-14 05:19:11,310 - INFO - Successfully fetched image from: https://i.etsystatic.com/26940874/r/il/6ab376/4488115810/il_794xN.4488115810_l9er.jpg\n",
      "2024-04-14 05:19:11,316 - INFO - Attempting to fetch image URL from: https://www.etsy.com/listing/726364447/customized-dog-socks-put-your-cute-dog\n",
      "2024-04-14 05:19:12,441 - INFO - Successfully fetched image URL from: https://www.etsy.com/listing/726364447/customized-dog-socks-put-your-cute-dog\n",
      "2024-04-14 05:19:12,443 - INFO - Attempting to fetch image from: https://i.etsystatic.com/10907262/r/il/35c6bc/1504156133/il_794xN.1504156133_pdtu.jpg\n",
      "2024-04-14 05:19:12,663 - INFO - Successfully fetched image from: https://i.etsystatic.com/10907262/r/il/35c6bc/1504156133/il_794xN.1504156133_pdtu.jpg\n",
      "2024-04-14 05:19:12,664 - INFO - Attempting to fetch image URL from: https://www.etsy.com/listing/1201385914/personalized-song-arcylic-plaque-mothers\n",
      "2024-04-14 05:19:12,720 - ERROR - Error fetching image for URL: https://www.etsy.com/listing/1201385914/personalized-song-arcylic-plaque-mothers. Error: No image found\n",
      "2024-04-14 05:19:17,590 - INFO - Attempting to fetch image URL from: https://www.etsy.com/listing/1201385914/personalized-song-arcylic-plaque-mothers\n",
      "2024-04-14 05:19:18,374 - INFO - Successfully fetched image URL from: https://www.etsy.com/listing/1201385914/personalized-song-arcylic-plaque-mothers\n",
      "2024-04-14 05:19:18,375 - INFO - Attempting to fetch image from: https://i.etsystatic.com/34684196/r/il/9a9216/4833681859/il_794xN.4833681859_9mvi.jpg\n",
      "2024-04-14 05:19:18,679 - INFO - Successfully fetched image from: https://i.etsystatic.com/34684196/r/il/9a9216/4833681859/il_794xN.4833681859_9mvi.jpg\n",
      "2024-04-14 05:19:18,684 - INFO - Attempting to fetch image URL from: https://www.etsy.com/listing/1297674073/personalised-santa-sack-christmas-sack\n",
      "2024-04-14 05:19:19,515 - INFO - Successfully fetched image URL from: https://www.etsy.com/listing/1297674073/personalised-santa-sack-christmas-sack\n",
      "2024-04-14 05:19:19,517 - INFO - Attempting to fetch image from: https://i.etsystatic.com/12449600/r/il/b7be20/5057287447/il_794xN.5057287447_5n2x.jpg\n",
      "2024-04-14 05:19:19,857 - INFO - Successfully fetched image from: https://i.etsystatic.com/12449600/r/il/b7be20/5057287447/il_794xN.5057287447_5n2x.jpg\n",
      "2024-04-14 05:19:19,861 - INFO - Attempting to fetch image URL from: https://www.etsy.com/listing/1480621971/custom-compact-mirror-bridesmaid\n",
      "2024-04-14 05:19:19,913 - ERROR - Error fetching image for URL: https://www.etsy.com/listing/1480621971/custom-compact-mirror-bridesmaid. Error: No image found\n",
      "2024-04-14 05:19:22,448 - INFO - Attempting to fetch image URL from: https://www.etsy.com/listing/1480621971/custom-compact-mirror-bridesmaid\n",
      "2024-04-14 05:19:22,514 - ERROR - Error fetching image for URL: https://www.etsy.com/listing/1480621971/custom-compact-mirror-bridesmaid. Error: No image found\n",
      "2024-04-14 05:19:24,330 - INFO - Attempting to fetch image URL from: https://www.etsy.com/listing/1480621971/custom-compact-mirror-bridesmaid\n",
      "2024-04-14 05:19:25,359 - INFO - Successfully fetched image URL from: https://www.etsy.com/listing/1480621971/custom-compact-mirror-bridesmaid\n",
      "2024-04-14 05:19:25,361 - INFO - Attempting to fetch image from: https://i.etsystatic.com/16134446/r/il/421e77/5952357367/il_794xN.5952357367_7hgi.jpg\n",
      "2024-04-14 05:19:25,545 - INFO - Successfully fetched image from: https://i.etsystatic.com/16134446/r/il/421e77/5952357367/il_794xN.5952357367_7hgi.jpg\n",
      "2024-04-14 05:19:25,546 - INFO - Attempting to fetch image URL from: https://www.etsy.com/listing/966657972/asian-food-animal-sticker-pack-of-5\n",
      "2024-04-14 05:19:26,271 - INFO - Successfully fetched image URL from: https://www.etsy.com/listing/966657972/asian-food-animal-sticker-pack-of-5\n",
      "2024-04-14 05:19:26,272 - INFO - Attempting to fetch image from: https://i.etsystatic.com/20049812/r/il/f08cb4/2940126128/il_794xN.2940126128_7qn8.jpg\n",
      "2024-04-14 05:19:26,355 - INFO - Successfully fetched image from: https://i.etsystatic.com/20049812/r/il/f08cb4/2940126128/il_794xN.2940126128_7qn8.jpg\n",
      "2024-04-14 05:19:26,356 - INFO - Attempting to fetch image URL from: https://www.etsy.com/listing/717003158/6-sheets-ink-painting-stickers-the-24\n",
      "2024-04-14 05:19:26,409 - ERROR - Error fetching image for URL: https://www.etsy.com/listing/717003158/6-sheets-ink-painting-stickers-the-24. Error: No image found\n",
      "2024-04-14 05:19:30,528 - INFO - Attempting to fetch image URL from: https://www.etsy.com/listing/717003158/6-sheets-ink-painting-stickers-the-24\n",
      "2024-04-14 05:19:30,587 - ERROR - Error fetching image for URL: https://www.etsy.com/listing/717003158/6-sheets-ink-painting-stickers-the-24. Error: No image found\n",
      "2024-04-14 05:19:31,835 - INFO - Attempting to fetch image URL from: https://www.etsy.com/listing/717003158/6-sheets-ink-painting-stickers-the-24\n",
      "2024-04-14 05:19:31,904 - ERROR - Error fetching image for URL: https://www.etsy.com/listing/717003158/6-sheets-ink-painting-stickers-the-24. Error: No image found\n",
      "2024-04-14 05:19:33,027 - INFO - Attempting to fetch image URL from: https://www.etsy.com/listing/717003158/6-sheets-ink-painting-stickers-the-24\n",
      "2024-04-14 05:19:33,079 - ERROR - Error fetching image for URL: https://www.etsy.com/listing/717003158/6-sheets-ink-painting-stickers-the-24. Error: No image found\n",
      "2024-04-14 05:19:37,739 - INFO - Attempting to fetch image URL from: https://www.etsy.com/listing/717003158/6-sheets-ink-painting-stickers-the-24\n",
      "2024-04-14 05:19:37,827 - ERROR - Error fetching image for URL: https://www.etsy.com/listing/717003158/6-sheets-ink-painting-stickers-the-24. Error: No image found\n",
      "2024-04-14 05:19:39,854 - INFO - Attempting to fetch image URL from: https://www.etsy.com/listing/717003158/6-sheets-ink-painting-stickers-the-24\n",
      "2024-04-14 05:19:40,622 - INFO - Successfully fetched image URL from: https://www.etsy.com/listing/717003158/6-sheets-ink-painting-stickers-the-24\n",
      "2024-04-14 05:19:40,624 - INFO - Attempting to fetch image from: https://i.etsystatic.com/7622384/r/il/3aba43/2031151223/il_794xN.2031151223_ravw.jpg\n",
      "2024-04-14 05:19:40,905 - INFO - Successfully fetched image from: https://i.etsystatic.com/7622384/r/il/3aba43/2031151223/il_794xN.2031151223_ravw.jpg\n",
      "2024-04-14 05:19:40,909 - INFO - Attempting to fetch image URL from: https://www.etsy.com/listing/1096533961/lazy-bear-matte-sticker-sheet-cute\n",
      "2024-04-14 05:19:41,693 - INFO - Successfully fetched image URL from: https://www.etsy.com/listing/1096533961/lazy-bear-matte-sticker-sheet-cute\n",
      "2024-04-14 05:19:41,695 - INFO - Attempting to fetch image from: https://i.etsystatic.com/24929797/r/il/b02bcc/3374584564/il_794xN.3374584564_4xub.jpg\n",
      "2024-04-14 05:19:42,970 - INFO - Successfully fetched image from: https://i.etsystatic.com/24929797/r/il/b02bcc/3374584564/il_794xN.3374584564_4xub.jpg\n",
      "2024-04-14 05:19:42,972 - INFO - Attempting to fetch image URL from: https://www.etsy.com/listing/1011193252/stamp-queen-sticker-desi-stamp-sticker\n",
      "2024-04-14 05:19:43,781 - INFO - Successfully fetched image URL from: https://www.etsy.com/listing/1011193252/stamp-queen-sticker-desi-stamp-sticker\n",
      "2024-04-14 05:19:43,782 - INFO - Attempting to fetch image from: https://i.etsystatic.com/22594193/r/il/f2d3a1/3152118023/il_794xN.3152118023_r8xy.jpg\n",
      "2024-04-14 05:19:43,928 - INFO - Successfully fetched image from: https://i.etsystatic.com/22594193/r/il/f2d3a1/3152118023/il_794xN.3152118023_r8xy.jpg\n",
      "2024-04-14 05:19:43,929 - INFO - Attempting to fetch image URL from: https://www.etsy.com/listing/1138284039/holographic-gomi-soda-glossy-vinyl\n",
      "2024-04-14 05:19:45,033 - INFO - Successfully fetched image URL from: https://www.etsy.com/listing/1138284039/holographic-gomi-soda-glossy-vinyl\n",
      "2024-04-14 05:19:45,035 - INFO - Attempting to fetch image from: https://i.etsystatic.com/24929797/r/il/cc6e31/3527598872/il_794xN.3527598872_ek2k.jpg\n",
      "2024-04-14 05:19:45,762 - INFO - Successfully fetched image from: https://i.etsystatic.com/24929797/r/il/cc6e31/3527598872/il_794xN.3527598872_ek2k.jpg\n",
      "2024-04-14 05:19:45,766 - INFO - Attempting to fetch image URL from: https://www.etsy.com/listing/1462986664/45-colorful-ink-painting-stickers\n",
      "2024-04-14 05:19:46,549 - INFO - Successfully fetched image URL from: https://www.etsy.com/listing/1462986664/45-colorful-ink-painting-stickers\n",
      "2024-04-14 05:19:46,551 - INFO - Attempting to fetch image from: https://i.etsystatic.com/7622384/r/il/2fdce5/4884917202/il_794xN.4884917202_5g0k.jpg\n",
      "2024-04-14 05:19:47,506 - INFO - Successfully fetched image from: https://i.etsystatic.com/7622384/r/il/2fdce5/4884917202/il_794xN.4884917202_5g0k.jpg\n",
      "2024-04-14 05:19:47,510 - INFO - Attempting to fetch image URL from: https://www.etsy.com/listing/62456401/tall-bamboo-wall-decal-vinyl-wall\n",
      "2024-04-14 05:19:47,567 - ERROR - Error fetching image for URL: https://www.etsy.com/listing/62456401/tall-bamboo-wall-decal-vinyl-wall. Error: No image found\n",
      "2024-04-14 05:19:51,724 - INFO - Attempting to fetch image URL from: https://www.etsy.com/listing/62456401/tall-bamboo-wall-decal-vinyl-wall\n",
      "2024-04-14 05:19:51,804 - ERROR - Error fetching image for URL: https://www.etsy.com/listing/62456401/tall-bamboo-wall-decal-vinyl-wall. Error: No image found\n",
      "2024-04-14 05:19:54,837 - INFO - Attempting to fetch image URL from: https://www.etsy.com/listing/62456401/tall-bamboo-wall-decal-vinyl-wall\n",
      "2024-04-14 05:19:55,585 - INFO - Successfully fetched image URL from: https://www.etsy.com/listing/62456401/tall-bamboo-wall-decal-vinyl-wall\n",
      "2024-04-14 05:19:55,586 - INFO - Attempting to fetch image from: https://i.etsystatic.com/5318266/r/il/da6ce4/195005305/il_794xN.195005305.jpg\n",
      "2024-04-14 05:19:55,764 - INFO - Successfully fetched image from: https://i.etsystatic.com/5318266/r/il/da6ce4/195005305/il_794xN.195005305.jpg\n",
      "2024-04-14 05:19:55,765 - INFO - Attempting to fetch image URL from: https://www.etsy.com/listing/735317524/40-ink-painting-stickers-chinese\n",
      "2024-04-14 05:19:55,821 - ERROR - Error fetching image for URL: https://www.etsy.com/listing/735317524/40-ink-painting-stickers-chinese. Error: No image found\n",
      "2024-04-14 05:20:00,281 - INFO - Attempting to fetch image URL from: https://www.etsy.com/listing/735317524/40-ink-painting-stickers-chinese\n",
      "2024-04-14 05:20:01,199 - INFO - Successfully fetched image URL from: https://www.etsy.com/listing/735317524/40-ink-painting-stickers-chinese\n",
      "2024-04-14 05:20:01,201 - INFO - Attempting to fetch image from: https://i.etsystatic.com/7622384/r/il/4fa2a5/2113427809/il_794xN.2113427809_10gj.jpg\n",
      "2024-04-14 05:20:01,397 - INFO - Successfully fetched image from: https://i.etsystatic.com/7622384/r/il/4fa2a5/2113427809/il_794xN.2113427809_10gj.jpg\n",
      "2024-04-14 05:20:01,399 - INFO - Attempting to fetch image URL from: https://www.etsy.com/listing/1205355980/suatelier-china-themed-stickers\n",
      "2024-04-14 05:20:01,456 - ERROR - Error fetching image for URL: https://www.etsy.com/listing/1205355980/suatelier-china-themed-stickers. Error: No image found\n",
      "2024-04-14 05:20:04,991 - INFO - Attempting to fetch image URL from: https://www.etsy.com/listing/1205355980/suatelier-china-themed-stickers\n",
      "2024-04-14 05:20:05,764 - INFO - Successfully fetched image URL from: https://www.etsy.com/listing/1205355980/suatelier-china-themed-stickers\n",
      "2024-04-14 05:20:05,766 - INFO - Attempting to fetch image from: https://i.etsystatic.com/34097049/r/il/0ad350/3824732684/il_794xN.3824732684_lzaa.jpg\n",
      "2024-04-14 05:20:05,935 - INFO - Successfully fetched image from: https://i.etsystatic.com/34097049/r/il/0ad350/3824732684/il_794xN.3824732684_lzaa.jpg\n",
      "2024-04-14 05:20:05,936 - INFO - Attempting to fetch image URL from: https://www.etsy.com/listing/1138263923/cloud-bear-matte-sticker-sheet-cute\n",
      "2024-04-14 05:20:05,987 - ERROR - Error fetching image for URL: https://www.etsy.com/listing/1138263923/cloud-bear-matte-sticker-sheet-cute. Error: No image found\n",
      "2024-04-14 05:20:09,433 - INFO - Attempting to fetch image URL from: https://www.etsy.com/listing/1138263923/cloud-bear-matte-sticker-sheet-cute\n",
      "2024-04-14 05:20:09,489 - ERROR - Error fetching image for URL: https://www.etsy.com/listing/1138263923/cloud-bear-matte-sticker-sheet-cute. Error: No image found\n",
      "2024-04-14 05:20:11,482 - INFO - Attempting to fetch image URL from: https://www.etsy.com/listing/1138263923/cloud-bear-matte-sticker-sheet-cute\n",
      "2024-04-14 05:20:12,248 - INFO - Successfully fetched image URL from: https://www.etsy.com/listing/1138263923/cloud-bear-matte-sticker-sheet-cute\n",
      "2024-04-14 05:20:12,250 - INFO - Attempting to fetch image from: https://i.etsystatic.com/24929797/r/il/58e1d2/3527520782/il_794xN.3527520782_8sfb.jpg\n",
      "2024-04-14 05:20:13,491 - INFO - Successfully fetched image from: https://i.etsystatic.com/24929797/r/il/58e1d2/3527520782/il_794xN.3527520782_8sfb.jpg\n",
      "2024-04-14 05:20:13,492 - INFO - Attempting to fetch image URL from: https://www.etsy.com/listing/1150867936/traditional-ink-brush-set-procreatesumi\n",
      "2024-04-14 05:20:14,299 - INFO - Successfully fetched image URL from: https://www.etsy.com/listing/1150867936/traditional-ink-brush-set-procreatesumi\n",
      "2024-04-14 05:20:14,301 - INFO - Attempting to fetch image from: https://i.etsystatic.com/32249667/r/il/e57242/3740016549/il_794xN.3740016549_q6qo.jpg\n",
      "2024-04-14 05:20:14,438 - INFO - Successfully fetched image from: https://i.etsystatic.com/32249667/r/il/e57242/3740016549/il_794xN.3740016549_q6qo.jpg\n",
      "2024-04-14 05:20:14,439 - INFO - Attempting to fetch image URL from: https://www.etsy.com/listing/831448594/large-calligraphy-brush-penchinese\n",
      "2024-04-14 05:20:14,483 - ERROR - Error fetching image for URL: https://www.etsy.com/listing/831448594/large-calligraphy-brush-penchinese. Error: No image found\n",
      "2024-04-14 05:20:15,950 - INFO - Attempting to fetch image URL from: https://www.etsy.com/listing/831448594/large-calligraphy-brush-penchinese\n",
      "2024-04-14 05:20:16,006 - ERROR - Error fetching image for URL: https://www.etsy.com/listing/831448594/large-calligraphy-brush-penchinese. Error: No image found\n",
      "2024-04-14 05:20:19,143 - INFO - Attempting to fetch image URL from: https://www.etsy.com/listing/831448594/large-calligraphy-brush-penchinese\n",
      "2024-04-14 05:20:19,939 - INFO - Successfully fetched image URL from: https://www.etsy.com/listing/831448594/large-calligraphy-brush-penchinese\n",
      "2024-04-14 05:20:19,941 - INFO - Attempting to fetch image from: https://i.etsystatic.com/20363724/r/il/f5dc31/2435071652/il_794xN.2435071652_l8t7.jpg\n",
      "2024-04-14 05:20:20,415 - INFO - Successfully fetched image from: https://i.etsystatic.com/20363724/r/il/f5dc31/2435071652/il_794xN.2435071652_l8t7.jpg\n",
      "2024-04-14 05:20:20,419 - INFO - Attempting to fetch image URL from: https://www.etsy.com/listing/794081778/painting-writing-brush-watercolor\n",
      "2024-04-14 05:20:20,480 - ERROR - Error fetching image for URL: https://www.etsy.com/listing/794081778/painting-writing-brush-watercolor. Error: No image found\n",
      "2024-04-14 05:20:24,747 - INFO - Attempting to fetch image URL from: https://www.etsy.com/listing/794081778/painting-writing-brush-watercolor\n",
      "2024-04-14 05:20:24,813 - ERROR - Error fetching image for URL: https://www.etsy.com/listing/794081778/painting-writing-brush-watercolor. Error: No image found\n",
      "2024-04-14 05:20:28,884 - INFO - Attempting to fetch image URL from: https://www.etsy.com/listing/794081778/painting-writing-brush-watercolor\n",
      "2024-04-14 05:20:28,953 - ERROR - Error fetching image for URL: https://www.etsy.com/listing/794081778/painting-writing-brush-watercolor. Error: No image found\n",
      "2024-04-14 05:20:33,257 - INFO - Attempting to fetch image URL from: https://www.etsy.com/listing/794081778/painting-writing-brush-watercolor\n",
      "2024-04-14 05:20:34,038 - INFO - Successfully fetched image URL from: https://www.etsy.com/listing/794081778/painting-writing-brush-watercolor\n",
      "2024-04-14 05:20:34,040 - INFO - Attempting to fetch image from: https://i.etsystatic.com/20268768/r/il/bede1c/2354399655/il_794xN.2354399655_q7bj.jpg\n",
      "2024-04-14 05:20:34,396 - INFO - Successfully fetched image from: https://i.etsystatic.com/20268768/r/il/bede1c/2354399655/il_794xN.2354399655_q7bj.jpg\n",
      "2024-04-14 05:20:34,400 - INFO - Attempting to fetch image URL from: https://www.etsy.com/listing/235003549/calligraphy-painting-tools-starter-sumi\n",
      "2024-04-14 05:20:34,452 - ERROR - Error fetching image for URL: https://www.etsy.com/listing/235003549/calligraphy-painting-tools-starter-sumi. Error: No image found\n",
      "2024-04-14 05:20:38,268 - INFO - Attempting to fetch image URL from: https://www.etsy.com/listing/235003549/calligraphy-painting-tools-starter-sumi\n",
      "2024-04-14 05:20:39,395 - INFO - Successfully fetched image URL from: https://www.etsy.com/listing/235003549/calligraphy-painting-tools-starter-sumi\n",
      "2024-04-14 05:20:39,396 - INFO - Attempting to fetch image from: https://i.etsystatic.com/9841760/r/il/7bf1be/778871894/il_794xN.778871894_9qbo.jpg\n",
      "2024-04-14 05:20:39,709 - INFO - Successfully fetched image from: https://i.etsystatic.com/9841760/r/il/7bf1be/778871894/il_794xN.778871894_9qbo.jpg\n",
      "2024-04-14 05:20:39,711 - INFO - Attempting to fetch image URL from: https://www.etsy.com/listing/1000108455/claborate-painting-brush-watercolor\n",
      "2024-04-14 05:20:40,592 - INFO - Successfully fetched image URL from: https://www.etsy.com/listing/1000108455/claborate-painting-brush-watercolor\n",
      "2024-04-14 05:20:40,595 - INFO - Attempting to fetch image from: https://i.etsystatic.com/20268768/r/il/6c2b75/3058685023/il_794xN.3058685023_eg2g.jpg\n",
      "2024-04-14 05:20:41,017 - INFO - Successfully fetched image from: https://i.etsystatic.com/20268768/r/il/6c2b75/3058685023/il_794xN.3058685023_eg2g.jpg\n",
      "2024-04-14 05:20:41,018 - INFO - Attempting to fetch image URL from: https://www.etsy.com/listing/528343871/rare-calligraphy-tools-porcelain-ink-pot\n",
      "2024-04-14 05:20:41,070 - ERROR - Error fetching image for URL: https://www.etsy.com/listing/528343871/rare-calligraphy-tools-porcelain-ink-pot. Error: No image found\n",
      "2024-04-14 05:20:43,193 - INFO - Attempting to fetch image URL from: https://www.etsy.com/listing/528343871/rare-calligraphy-tools-porcelain-ink-pot\n",
      "2024-04-14 05:20:43,254 - ERROR - Error fetching image for URL: https://www.etsy.com/listing/528343871/rare-calligraphy-tools-porcelain-ink-pot. Error: No image found\n",
      "2024-04-14 05:20:44,857 - INFO - Attempting to fetch image URL from: https://www.etsy.com/listing/528343871/rare-calligraphy-tools-porcelain-ink-pot\n",
      "2024-04-14 05:20:44,915 - ERROR - Error fetching image for URL: https://www.etsy.com/listing/528343871/rare-calligraphy-tools-porcelain-ink-pot. Error: No image found\n",
      "2024-04-14 05:20:49,913 - INFO - Attempting to fetch image URL from: https://www.etsy.com/listing/528343871/rare-calligraphy-tools-porcelain-ink-pot\n",
      "2024-04-14 05:20:50,604 - INFO - Successfully fetched image URL from: https://www.etsy.com/listing/528343871/rare-calligraphy-tools-porcelain-ink-pot\n",
      "2024-04-14 05:20:50,606 - INFO - Attempting to fetch image from: https://i.etsystatic.com/9841760/r/il/bfb4ed/1192192330/il_794xN.1192192330_rb1z.jpg\n",
      "2024-04-14 05:20:52,215 - INFO - Successfully fetched image from: https://i.etsystatic.com/9841760/r/il/bfb4ed/1192192330/il_794xN.1192192330_rb1z.jpg\n",
      "2024-04-14 05:20:52,220 - INFO - Attempting to fetch image URL from: https://www.etsy.com/listing/643275849/chinese-brushes-set-chinese-calligraphy\n",
      "2024-04-14 05:20:52,297 - ERROR - Error fetching image for URL: https://www.etsy.com/listing/643275849/chinese-brushes-set-chinese-calligraphy. Error: No image found\n",
      "2024-04-14 05:20:57,065 - INFO - Attempting to fetch image URL from: https://www.etsy.com/listing/643275849/chinese-brushes-set-chinese-calligraphy\n",
      "2024-04-14 05:20:57,155 - ERROR - Error fetching image for URL: https://www.etsy.com/listing/643275849/chinese-brushes-set-chinese-calligraphy. Error: No image found\n",
      "2024-04-14 05:20:58,646 - INFO - Attempting to fetch image URL from: https://www.etsy.com/listing/643275849/chinese-brushes-set-chinese-calligraphy\n",
      "2024-04-14 05:20:59,453 - INFO - Successfully fetched image URL from: https://www.etsy.com/listing/643275849/chinese-brushes-set-chinese-calligraphy\n",
      "2024-04-14 05:20:59,455 - INFO - Attempting to fetch image from: https://i.etsystatic.com/9793468/r/il/017bc7/1664756875/il_794xN.1664756875_nb4g.jpg\n",
      "2024-04-14 05:21:00,432 - INFO - Successfully fetched image from: https://i.etsystatic.com/9793468/r/il/017bc7/1664756875/il_794xN.1664756875_nb4g.jpg\n",
      "2024-04-14 05:21:00,439 - INFO - Attempting to fetch image URL from: https://www.etsy.com/listing/1121862412/chinese-calligraphy-brush-japanese\n",
      "2024-04-14 05:21:01,301 - INFO - Successfully fetched image URL from: https://www.etsy.com/listing/1121862412/chinese-calligraphy-brush-japanese\n",
      "2024-04-14 05:21:01,302 - INFO - Attempting to fetch image from: https://i.etsystatic.com/10988119/r/il/d5756f/3519950688/il_794xN.3519950688_4ai0.jpg\n",
      "2024-04-14 05:21:01,505 - INFO - Successfully fetched image from: https://i.etsystatic.com/10988119/r/il/d5756f/3519950688/il_794xN.3519950688_4ai0.jpg\n",
      "2024-04-14 05:21:01,507 - INFO - Attempting to fetch image URL from: https://www.etsy.com/listing/960301313/chinese-hsk-1-character-book-writing\n",
      "2024-04-14 05:21:01,593 - ERROR - Error fetching image for URL: https://www.etsy.com/listing/960301313/chinese-hsk-1-character-book-writing. Error: No image found\n",
      "2024-04-14 05:21:03,084 - INFO - Attempting to fetch image URL from: https://www.etsy.com/listing/960301313/chinese-hsk-1-character-book-writing\n",
      "2024-04-14 05:21:03,175 - ERROR - Error fetching image for URL: https://www.etsy.com/listing/960301313/chinese-hsk-1-character-book-writing. Error: No image found\n",
      "2024-04-14 05:21:05,291 - INFO - Attempting to fetch image URL from: https://www.etsy.com/listing/960301313/chinese-hsk-1-character-book-writing\n",
      "2024-04-14 05:21:05,363 - ERROR - Error fetching image for URL: https://www.etsy.com/listing/960301313/chinese-hsk-1-character-book-writing. Error: No image found\n",
      "2024-04-14 05:21:08,958 - INFO - Attempting to fetch image URL from: https://www.etsy.com/listing/960301313/chinese-hsk-1-character-book-writing\n",
      "2024-04-14 05:21:09,684 - INFO - Successfully fetched image URL from: https://www.etsy.com/listing/960301313/chinese-hsk-1-character-book-writing\n",
      "2024-04-14 05:21:09,685 - INFO - Attempting to fetch image from: https://i.etsystatic.com/24086262/r/il/62ef44/2909719357/il_794xN.2909719357_17fz.jpg\n",
      "2024-04-14 05:21:10,024 - INFO - Successfully fetched image from: https://i.etsystatic.com/24086262/r/il/62ef44/2909719357/il_794xN.2909719357_17fz.jpg\n",
      "2024-04-14 05:21:10,040 - INFO - Attempting to fetch image URL from: https://www.etsy.com/listing/996549950/chinese-calligraphywatercolorkanjisumi\n",
      "2024-04-14 05:21:10,125 - ERROR - Error fetching image for URL: https://www.etsy.com/listing/996549950/chinese-calligraphywatercolorkanjisumi. Error: No image found\n",
      "2024-04-14 05:21:13,243 - INFO - Attempting to fetch image URL from: https://www.etsy.com/listing/996549950/chinese-calligraphywatercolorkanjisumi\n",
      "2024-04-14 05:21:13,337 - ERROR - Error fetching image for URL: https://www.etsy.com/listing/996549950/chinese-calligraphywatercolorkanjisumi. Error: No image found\n",
      "2024-04-14 05:21:15,886 - INFO - Attempting to fetch image URL from: https://www.etsy.com/listing/996549950/chinese-calligraphywatercolorkanjisumi\n",
      "2024-04-14 05:21:15,974 - ERROR - Error fetching image for URL: https://www.etsy.com/listing/996549950/chinese-calligraphywatercolorkanjisumi. Error: No image found\n",
      "2024-04-14 05:21:19,528 - INFO - Attempting to fetch image URL from: https://www.etsy.com/listing/996549950/chinese-calligraphywatercolorkanjisumi\n",
      "2024-04-14 05:21:20,435 - INFO - Successfully fetched image URL from: https://www.etsy.com/listing/996549950/chinese-calligraphywatercolorkanjisumi\n",
      "2024-04-14 05:21:20,437 - INFO - Attempting to fetch image from: https://i.etsystatic.com/20363724/r/il/dcf2e6/3097455547/il_794xN.3097455547_kd5u.jpg\n",
      "2024-04-14 05:21:20,671 - INFO - Successfully fetched image from: https://i.etsystatic.com/20363724/r/il/dcf2e6/3097455547/il_794xN.3097455547_kd5u.jpg\n",
      "2024-04-14 05:21:20,672 - INFO - Attempting to fetch image URL from: https://www.etsy.com/listing/613075037/bathroom-decor-wash-your-worries-away\n",
      "2024-04-14 05:21:20,759 - ERROR - Error fetching image for URL: https://www.etsy.com/listing/613075037/bathroom-decor-wash-your-worries-away. Error: No image found\n",
      "2024-04-14 05:21:24,184 - INFO - Attempting to fetch image URL from: https://www.etsy.com/listing/613075037/bathroom-decor-wash-your-worries-away\n",
      "2024-04-14 05:21:25,073 - INFO - Successfully fetched image URL from: https://www.etsy.com/listing/613075037/bathroom-decor-wash-your-worries-away\n",
      "2024-04-14 05:21:25,075 - INFO - Attempting to fetch image from: https://i.etsystatic.com/13891034/r/il/0ab794/4834102416/il_794xN.4834102416_ebu6.jpg\n",
      "2024-04-14 05:21:25,329 - INFO - Successfully fetched image from: https://i.etsystatic.com/13891034/r/il/0ab794/4834102416/il_794xN.4834102416_ebu6.jpg\n",
      "2024-04-14 05:21:25,330 - INFO - Attempting to fetch image URL from: https://www.etsy.com/listing/578630606/any-quote-personalised-chinese\n",
      "2024-04-14 05:21:25,428 - ERROR - Error fetching image for URL: https://www.etsy.com/listing/578630606/any-quote-personalised-chinese. Error: No image found\n",
      "2024-04-14 05:21:30,248 - INFO - Attempting to fetch image URL from: https://www.etsy.com/listing/578630606/any-quote-personalised-chinese\n",
      "2024-04-14 05:21:31,251 - INFO - Successfully fetched image URL from: https://www.etsy.com/listing/578630606/any-quote-personalised-chinese\n",
      "2024-04-14 05:21:31,252 - INFO - Attempting to fetch image from: https://i.etsystatic.com/15498893/r/il/733911/1999705527/il_794xN.1999705527_bwpv.jpg\n",
      "2024-04-14 05:21:31,467 - INFO - Successfully fetched image from: https://i.etsystatic.com/15498893/r/il/733911/1999705527/il_794xN.1999705527_bwpv.jpg\n",
      "2024-04-14 05:21:31,468 - INFO - Attempting to fetch image URL from: https://www.etsy.com/listing/200155276/chinese-art-vintage-nature-landscape\n",
      "2024-04-14 05:21:31,575 - ERROR - Error fetching image for URL: https://www.etsy.com/listing/200155276/chinese-art-vintage-nature-landscape. Error: No image found\n",
      "2024-04-14 05:21:33,025 - INFO - Attempting to fetch image URL from: https://www.etsy.com/listing/200155276/chinese-art-vintage-nature-landscape\n",
      "2024-04-14 05:21:34,159 - INFO - Successfully fetched image URL from: https://www.etsy.com/listing/200155276/chinese-art-vintage-nature-landscape\n",
      "2024-04-14 05:21:34,161 - INFO - Attempting to fetch image from: https://i.etsystatic.com/7423915/r/il/987865/645789426/il_794xN.645789426_tpu2.jpg\n",
      "2024-04-14 05:21:34,696 - INFO - Successfully fetched image from: https://i.etsystatic.com/7423915/r/il/987865/645789426/il_794xN.645789426_tpu2.jpg\n",
      "2024-04-14 05:21:34,701 - INFO - Attempting to fetch image URL from: https://www.etsy.com/listing/1126738487/enso-circle-wall-art-japanese\n",
      "2024-04-14 05:21:35,657 - INFO - Successfully fetched image URL from: https://www.etsy.com/listing/1126738487/enso-circle-wall-art-japanese\n",
      "2024-04-14 05:21:35,658 - INFO - Attempting to fetch image from: https://i.etsystatic.com/37411621/r/il/917fee/5966027271/il_340x270.5966027271_ic6m.jpg\n",
      "2024-04-14 05:21:35,785 - INFO - Successfully fetched image from: https://i.etsystatic.com/37411621/r/il/917fee/5966027271/il_340x270.5966027271_ic6m.jpg\n",
      "2024-04-14 05:21:35,787 - INFO - Attempting to fetch image URL from: https://www.etsy.com/listing/1166588216/love-mandala-hebrew-calligraphy-art-fine\n",
      "2024-04-14 05:21:35,900 - ERROR - Error fetching image for URL: https://www.etsy.com/listing/1166588216/love-mandala-hebrew-calligraphy-art-fine. Error: No image found\n",
      "2024-04-14 05:21:40,660 - INFO - Attempting to fetch image URL from: https://www.etsy.com/listing/1166588216/love-mandala-hebrew-calligraphy-art-fine\n",
      "2024-04-14 05:21:41,557 - INFO - Successfully fetched image URL from: https://www.etsy.com/listing/1166588216/love-mandala-hebrew-calligraphy-art-fine\n",
      "2024-04-14 05:21:41,558 - INFO - Attempting to fetch image from: https://i.etsystatic.com/33158205/r/il/0bcf1c/3727393584/il_794xN.3727393584_g2nz.jpg\n",
      "2024-04-14 05:21:41,824 - INFO - Successfully fetched image from: https://i.etsystatic.com/33158205/r/il/0bcf1c/3727393584/il_794xN.3727393584_g2nz.jpg\n",
      "2024-04-14 05:21:41,825 - INFO - Attempting to fetch image URL from: https://www.etsy.com/listing/687551302/blank-chinese-or-japanese-scroll-for\n",
      "2024-04-14 05:21:42,611 - INFO - Successfully fetched image URL from: https://www.etsy.com/listing/687551302/blank-chinese-or-japanese-scroll-for\n",
      "2024-04-14 05:21:42,612 - INFO - Attempting to fetch image from: https://i.etsystatic.com/9793468/r/il/1fc863/1856760830/il_794xN.1856760830_7czy.jpg\n",
      "2024-04-14 05:21:42,751 - INFO - Successfully fetched image from: https://i.etsystatic.com/9793468/r/il/1fc863/1856760830/il_794xN.1856760830_7czy.jpg\n",
      "2024-04-14 05:21:42,752 - INFO - Attempting to fetch image URL from: https://www.etsy.com/listing/613261572/taekwondo-principles-gold-foil-print\n",
      "2024-04-14 05:21:42,846 - ERROR - Error fetching image for URL: https://www.etsy.com/listing/613261572/taekwondo-principles-gold-foil-print. Error: No image found\n",
      "2024-04-14 05:21:45,319 - INFO - Attempting to fetch image URL from: https://www.etsy.com/listing/613261572/taekwondo-principles-gold-foil-print\n",
      "2024-04-14 05:21:45,401 - ERROR - Error fetching image for URL: https://www.etsy.com/listing/613261572/taekwondo-principles-gold-foil-print. Error: No image found\n",
      "2024-04-14 05:21:50,174 - INFO - Attempting to fetch image URL from: https://www.etsy.com/listing/613261572/taekwondo-principles-gold-foil-print\n",
      "2024-04-14 05:21:51,010 - INFO - Successfully fetched image URL from: https://www.etsy.com/listing/613261572/taekwondo-principles-gold-foil-print\n",
      "2024-04-14 05:21:51,012 - INFO - Attempting to fetch image from: https://i.etsystatic.com/14395581/r/il/c71386/3102624440/il_794xN.3102624440_2nga.jpg\n",
      "2024-04-14 05:21:51,518 - INFO - Successfully fetched image from: https://i.etsystatic.com/14395581/r/il/c71386/3102624440/il_794xN.3102624440_2nga.jpg\n",
      "2024-04-14 05:21:51,522 - INFO - Attempting to fetch image URL from: https://www.etsy.com/listing/701140431/custom-japanese-calligraphy-scroll\n",
      "2024-04-14 05:21:51,600 - ERROR - Error fetching image for URL: https://www.etsy.com/listing/701140431/custom-japanese-calligraphy-scroll. Error: No image found\n",
      "2024-04-14 05:21:55,328 - INFO - Attempting to fetch image URL from: https://www.etsy.com/listing/701140431/custom-japanese-calligraphy-scroll\n",
      "2024-04-14 05:21:55,418 - ERROR - Error fetching image for URL: https://www.etsy.com/listing/701140431/custom-japanese-calligraphy-scroll. Error: No image found\n",
      "2024-04-14 05:21:59,097 - INFO - Attempting to fetch image URL from: https://www.etsy.com/listing/701140431/custom-japanese-calligraphy-scroll\n",
      "2024-04-14 05:22:00,010 - INFO - Successfully fetched image URL from: https://www.etsy.com/listing/701140431/custom-japanese-calligraphy-scroll\n",
      "2024-04-14 05:22:00,012 - INFO - Attempting to fetch image from: https://i.etsystatic.com/9793468/r/il/4cb5df/1903191223/il_794xN.1903191223_gpl1.jpg\n",
      "2024-04-14 05:22:00,368 - INFO - Successfully fetched image from: https://i.etsystatic.com/9793468/r/il/4cb5df/1903191223/il_794xN.1903191223_gpl1.jpg\n",
      "2024-04-14 05:22:00,370 - INFO - Attempting to fetch image URL from: https://www.etsy.com/listing/829383002/japanese-print-koi-carp-sumi-e-fish\n",
      "2024-04-14 05:22:01,314 - INFO - Successfully fetched image URL from: https://www.etsy.com/listing/829383002/japanese-print-koi-carp-sumi-e-fish\n",
      "2024-04-14 05:22:01,316 - INFO - Attempting to fetch image from: https://i.etsystatic.com/10186780/r/il/458d05/2427811606/il_794xN.2427811606_keab.jpg\n",
      "2024-04-14 05:22:01,759 - INFO - Successfully fetched image from: https://i.etsystatic.com/10186780/r/il/458d05/2427811606/il_794xN.2427811606_keab.jpg\n",
      "2024-04-14 05:22:01,764 - INFO - Attempting to fetch image URL from: https://www.etsy.com/listing/1048560009/chinese-art-print-asian-woman-sipping\n",
      "2024-04-14 05:22:01,850 - ERROR - Error fetching image for URL: https://www.etsy.com/listing/1048560009/chinese-art-print-asian-woman-sipping. Error: No image found\n",
      "2024-04-14 05:22:05,108 - INFO - Attempting to fetch image URL from: https://www.etsy.com/listing/1048560009/chinese-art-print-asian-woman-sipping\n",
      "2024-04-14 05:22:05,201 - ERROR - Error fetching image for URL: https://www.etsy.com/listing/1048560009/chinese-art-print-asian-woman-sipping. Error: No image found\n",
      "2024-04-14 05:22:08,218 - INFO - Attempting to fetch image URL from: https://www.etsy.com/listing/1048560009/chinese-art-print-asian-woman-sipping\n",
      "2024-04-14 05:22:09,099 - INFO - Successfully fetched image URL from: https://www.etsy.com/listing/1048560009/chinese-art-print-asian-woman-sipping\n",
      "2024-04-14 05:22:09,101 - INFO - Attempting to fetch image from: https://i.etsystatic.com/30798514/r/il/5164a3/4875470102/il_794xN.4875470102_i599.jpg\n",
      "2024-04-14 05:22:10,771 - INFO - Successfully fetched image from: https://i.etsystatic.com/30798514/r/il/5164a3/4875470102/il_794xN.4875470102_i599.jpg\n",
      "2024-04-14 05:22:10,773 - INFO - Attempting to fetch image URL from: https://www.etsy.com/listing/121885795/bookmarks-book-marks-chinese-oriental\n",
      "2024-04-14 05:22:11,639 - INFO - Successfully fetched image URL from: https://www.etsy.com/listing/121885795/bookmarks-book-marks-chinese-oriental\n",
      "2024-04-14 05:22:11,641 - INFO - Attempting to fetch image from: https://i.etsystatic.com/6113180/r/il/1dc4f7/446601691/il_794xN.446601691_myiv.jpg\n",
      "2024-04-14 05:22:12,234 - INFO - Successfully fetched image from: https://i.etsystatic.com/6113180/r/il/1dc4f7/446601691/il_794xN.446601691_myiv.jpg\n",
      "2024-04-14 05:22:12,236 - INFO - Attempting to fetch image URL from: https://www.etsy.com/listing/1214165938/tian-guan-ci-fu-ebony-bookmark-tianguan\n",
      "2024-04-14 05:22:12,318 - ERROR - Error fetching image for URL: https://www.etsy.com/listing/1214165938/tian-guan-ci-fu-ebony-bookmark-tianguan. Error: No image found\n",
      "2024-04-14 05:22:17,152 - INFO - Attempting to fetch image URL from: https://www.etsy.com/listing/1214165938/tian-guan-ci-fu-ebony-bookmark-tianguan\n",
      "2024-04-14 05:22:17,239 - ERROR - Error fetching image for URL: https://www.etsy.com/listing/1214165938/tian-guan-ci-fu-ebony-bookmark-tianguan. Error: No image found\n",
      "2024-04-14 05:22:21,513 - INFO - Attempting to fetch image URL from: https://www.etsy.com/listing/1214165938/tian-guan-ci-fu-ebony-bookmark-tianguan\n",
      "2024-04-14 05:22:22,306 - INFO - Successfully fetched image URL from: https://www.etsy.com/listing/1214165938/tian-guan-ci-fu-ebony-bookmark-tianguan\n",
      "2024-04-14 05:22:22,308 - INFO - Attempting to fetch image from: https://i.etsystatic.com/22542121/r/il/a821fb/3904316941/il_794xN.3904316941_f815.jpg\n",
      "2024-04-14 05:22:23,189 - INFO - Successfully fetched image from: https://i.etsystatic.com/22542121/r/il/a821fb/3904316941/il_794xN.3904316941_f815.jpg\n",
      "2024-04-14 05:22:23,195 - INFO - Attempting to fetch image URL from: https://www.etsy.com/listing/89479610/sale-owl-bookmark-antiqued-bronze\n",
      "2024-04-14 05:22:24,329 - INFO - Successfully fetched image URL from: https://www.etsy.com/listing/89479610/sale-owl-bookmark-antiqued-bronze\n",
      "2024-04-14 05:22:24,331 - INFO - Attempting to fetch image from: https://i.etsystatic.com/6189938/r/il/090de3/1756954248/il_794xN.1756954248_p9u7.jpg\n",
      "2024-04-14 05:22:24,606 - INFO - Successfully fetched image from: https://i.etsystatic.com/6189938/r/il/090de3/1756954248/il_794xN.1756954248_p9u7.jpg\n",
      "2024-04-14 05:22:24,608 - INFO - Attempting to fetch image URL from: https://www.etsy.com/listing/1025879661/the-bride-test-bookmarks-the-kiss\n",
      "2024-04-14 05:22:25,457 - INFO - Successfully fetched image URL from: https://www.etsy.com/listing/1025879661/the-bride-test-bookmarks-the-kiss\n",
      "2024-04-14 05:22:25,458 - INFO - Attempting to fetch image from: https://i.etsystatic.com/21103734/r/il/2ab0d9/3604555168/il_794xN.3604555168_jh3p.jpg\n",
      "2024-04-14 05:22:26,853 - INFO - Successfully fetched image from: https://i.etsystatic.com/21103734/r/il/2ab0d9/3604555168/il_794xN.3604555168_jh3p.jpg\n",
      "2024-04-14 05:22:26,859 - INFO - Attempting to fetch image URL from: https://www.etsy.com/listing/583093453/chinese-box-scrap-ephemera-kit-2\n",
      "2024-04-14 05:22:26,936 - ERROR - Error fetching image for URL: https://www.etsy.com/listing/583093453/chinese-box-scrap-ephemera-kit-2. Error: No image found\n",
      "2024-04-14 05:22:30,091 - INFO - Attempting to fetch image URL from: https://www.etsy.com/listing/583093453/chinese-box-scrap-ephemera-kit-2\n",
      "2024-04-14 05:22:30,192 - ERROR - Error fetching image for URL: https://www.etsy.com/listing/583093453/chinese-box-scrap-ephemera-kit-2. Error: No image found\n",
      "2024-04-14 05:22:34,311 - INFO - Attempting to fetch image URL from: https://www.etsy.com/listing/583093453/chinese-box-scrap-ephemera-kit-2\n",
      "2024-04-14 05:22:35,313 - INFO - Successfully fetched image URL from: https://www.etsy.com/listing/583093453/chinese-box-scrap-ephemera-kit-2\n",
      "2024-04-14 05:22:35,315 - INFO - Attempting to fetch image from: https://i.etsystatic.com/5994981/r/il/30c680/1436152837/il_794xN.1436152837_76iz.jpg\n",
      "2024-04-14 05:22:35,640 - INFO - Successfully fetched image from: https://i.etsystatic.com/5994981/r/il/30c680/1436152837/il_794xN.1436152837_76iz.jpg\n",
      "2024-04-14 05:22:35,644 - INFO - Attempting to fetch image URL from: https://www.etsy.com/listing/944830498/black-lantern-metal-bookmark-deep-black\n",
      "2024-04-14 05:22:35,721 - ERROR - Error fetching image for URL: https://www.etsy.com/listing/944830498/black-lantern-metal-bookmark-deep-black. Error: No image found\n",
      "2024-04-14 05:22:39,732 - INFO - Attempting to fetch image URL from: https://www.etsy.com/listing/944830498/black-lantern-metal-bookmark-deep-black\n",
      "2024-04-14 05:22:39,817 - ERROR - Error fetching image for URL: https://www.etsy.com/listing/944830498/black-lantern-metal-bookmark-deep-black. Error: No image found\n",
      "2024-04-14 05:22:40,869 - INFO - Attempting to fetch image URL from: https://www.etsy.com/listing/944830498/black-lantern-metal-bookmark-deep-black\n",
      "2024-04-14 05:22:40,958 - ERROR - Error fetching image for URL: https://www.etsy.com/listing/944830498/black-lantern-metal-bookmark-deep-black. Error: No image found\n",
      "2024-04-14 05:22:43,871 - INFO - Attempting to fetch image URL from: https://www.etsy.com/listing/944830498/black-lantern-metal-bookmark-deep-black\n",
      "2024-04-14 05:22:43,963 - ERROR - Error fetching image for URL: https://www.etsy.com/listing/944830498/black-lantern-metal-bookmark-deep-black. Error: No image found\n",
      "2024-04-14 05:22:45,875 - INFO - Attempting to fetch image URL from: https://www.etsy.com/listing/944830498/black-lantern-metal-bookmark-deep-black\n",
      "2024-04-14 05:22:45,957 - ERROR - Error fetching image for URL: https://www.etsy.com/listing/944830498/black-lantern-metal-bookmark-deep-black. Error: No image found\n",
      "2024-04-14 05:22:47,687 - INFO - Attempting to fetch image URL from: https://www.etsy.com/listing/944830498/black-lantern-metal-bookmark-deep-black\n",
      "2024-04-14 05:22:48,630 - INFO - Successfully fetched image URL from: https://www.etsy.com/listing/944830498/black-lantern-metal-bookmark-deep-black\n",
      "2024-04-14 05:22:48,632 - INFO - Attempting to fetch image from: https://i.etsystatic.com/21332884/r/il/b57366/3400530840/il_794xN.3400530840_mfq5.jpg\n",
      "2024-04-14 05:22:48,901 - INFO - Successfully fetched image from: https://i.etsystatic.com/21332884/r/il/b57366/3400530840/il_794xN.3400530840_mfq5.jpg\n",
      "2024-04-14 05:22:48,903 - INFO - Attempting to fetch image URL from: https://www.etsy.com/listing/1463242050/chinese-style-calligraphy-bookmarks-buy\n",
      "2024-04-14 05:22:49,765 - INFO - Successfully fetched image URL from: https://www.etsy.com/listing/1463242050/chinese-style-calligraphy-bookmarks-buy\n",
      "2024-04-14 05:22:49,767 - INFO - Attempting to fetch image from: https://i.etsystatic.com/19974577/r/il/9a5498/4904489702/il_794xN.4904489702_36yv.jpg\n",
      "2024-04-14 05:22:50,917 - INFO - Successfully fetched image from: https://i.etsystatic.com/19974577/r/il/9a5498/4904489702/il_794xN.4904489702_36yv.jpg\n",
      "2024-04-14 05:22:50,921 - INFO - Attempting to fetch image URL from: https://www.etsy.com/listing/1145715788/winter-water-lily-metal-bookmark\n",
      "2024-04-14 05:22:51,011 - ERROR - Error fetching image for URL: https://www.etsy.com/listing/1145715788/winter-water-lily-metal-bookmark. Error: No image found\n",
      "2024-04-14 05:22:52,328 - INFO - Attempting to fetch image URL from: https://www.etsy.com/listing/1145715788/winter-water-lily-metal-bookmark\n",
      "2024-04-14 05:22:52,418 - ERROR - Error fetching image for URL: https://www.etsy.com/listing/1145715788/winter-water-lily-metal-bookmark. Error: No image found\n",
      "2024-04-14 05:22:55,240 - INFO - Attempting to fetch image URL from: https://www.etsy.com/listing/1145715788/winter-water-lily-metal-bookmark\n",
      "2024-04-14 05:22:56,007 - INFO - Successfully fetched image URL from: https://www.etsy.com/listing/1145715788/winter-water-lily-metal-bookmark\n",
      "2024-04-14 05:22:56,009 - INFO - Attempting to fetch image from: https://i.etsystatic.com/21332884/r/il/09eae6/3594307968/il_794xN.3594307968_65uz.jpg\n",
      "2024-04-14 05:22:56,200 - INFO - Successfully fetched image from: https://i.etsystatic.com/21332884/r/il/09eae6/3594307968/il_794xN.3594307968_65uz.jpg\n",
      "2024-04-14 05:22:56,201 - INFO - Attempting to fetch image URL from: https://www.etsy.com/listing/1389490042/handmade-self-embroidered-beginner\n",
      "2024-04-14 05:22:57,134 - INFO - Successfully fetched image URL from: https://www.etsy.com/listing/1389490042/handmade-self-embroidered-beginner\n",
      "2024-04-14 05:22:57,136 - INFO - Attempting to fetch image from: https://i.etsystatic.com/24436488/r/il/5b2c67/4613286011/il_794xN.4613286011_h7nj.jpg\n",
      "2024-04-14 05:22:57,611 - INFO - Successfully fetched image from: https://i.etsystatic.com/24436488/r/il/5b2c67/4613286011/il_794xN.4613286011_h7nj.jpg\n",
      "2024-04-14 05:22:57,612 - INFO - Attempting to fetch image URL from: https://www.etsy.com/listing/1256747427/butterfly-exquisite-metal-bookmark-for\n",
      "2024-04-14 05:22:57,705 - ERROR - Error fetching image for URL: https://www.etsy.com/listing/1256747427/butterfly-exquisite-metal-bookmark-for. Error: No image found\n",
      "2024-04-14 05:23:01,978 - INFO - Attempting to fetch image URL from: https://www.etsy.com/listing/1256747427/butterfly-exquisite-metal-bookmark-for\n",
      "2024-04-14 05:23:02,746 - INFO - Successfully fetched image URL from: https://www.etsy.com/listing/1256747427/butterfly-exquisite-metal-bookmark-for\n",
      "2024-04-14 05:23:02,748 - INFO - Attempting to fetch image from: https://i.etsystatic.com/37547380/c/1818/1445/77/388/il/bb53a6/5911231342/il_340x270.5911231342_ilys.jpg\n",
      "2024-04-14 05:23:02,870 - INFO - Successfully fetched image from: https://i.etsystatic.com/37547380/c/1818/1445/77/388/il/bb53a6/5911231342/il_340x270.5911231342_ilys.jpg\n",
      "2024-04-14 05:23:02,871 - INFO - Attempting to fetch image URL from: https://www.etsy.com/listing/838077651/square-japanese-hanko-chop-japanese-name\n",
      "2024-04-14 05:23:03,999 - INFO - Successfully fetched image URL from: https://www.etsy.com/listing/838077651/square-japanese-hanko-chop-japanese-name\n",
      "2024-04-14 05:23:04,004 - INFO - Attempting to fetch image from: https://i.etsystatic.com/20268768/r/il/0fc3b0/2409587810/il_794xN.2409587810_s90a.jpg\n",
      "2024-04-14 05:23:04,203 - INFO - Successfully fetched image from: https://i.etsystatic.com/20268768/r/il/0fc3b0/2409587810/il_794xN.2409587810_s90a.jpg\n",
      "2024-04-14 05:23:04,204 - INFO - Attempting to fetch image URL from: https://www.etsy.com/listing/498471491/engraved-dragon-chinese-chop-stone-seal\n",
      "2024-04-14 05:23:05,044 - INFO - Successfully fetched image URL from: https://www.etsy.com/listing/498471491/engraved-dragon-chinese-chop-stone-seal\n",
      "2024-04-14 05:23:05,046 - INFO - Attempting to fetch image from: https://i.etsystatic.com/9793468/r/il/bc8476/1541770369/il_794xN.1541770369_4yxn.jpg\n",
      "2024-04-14 05:23:05,206 - INFO - Successfully fetched image from: https://i.etsystatic.com/9793468/r/il/bc8476/1541770369/il_794xN.1541770369_4yxn.jpg\n",
      "2024-04-14 05:23:05,207 - INFO - Attempting to fetch image URL from: https://www.etsy.com/listing/735559121/custom-name-seal-stone-seal-carving\n",
      "2024-04-14 05:23:05,970 - INFO - Successfully fetched image URL from: https://www.etsy.com/listing/735559121/custom-name-seal-stone-seal-carving\n",
      "2024-04-14 05:23:05,972 - INFO - Attempting to fetch image from: https://i.etsystatic.com/20363724/r/il/11f39c/2004046816/il_794xN.2004046816_nkay.jpg\n",
      "2024-04-14 05:23:06,193 - INFO - Successfully fetched image from: https://i.etsystatic.com/20363724/r/il/11f39c/2004046816/il_794xN.2004046816_nkay.jpg\n",
      "2024-04-14 05:23:06,194 - INFO - Attempting to fetch image URL from: https://www.etsy.com/listing/1275293621/customized-square-sandalwood-stamp\n",
      "2024-04-14 05:23:06,273 - ERROR - Error fetching image for URL: https://www.etsy.com/listing/1275293621/customized-square-sandalwood-stamp. Error: No image found\n",
      "2024-04-14 05:23:10,674 - INFO - Attempting to fetch image URL from: https://www.etsy.com/listing/1275293621/customized-square-sandalwood-stamp\n",
      "2024-04-14 05:23:10,758 - ERROR - Error fetching image for URL: https://www.etsy.com/listing/1275293621/customized-square-sandalwood-stamp. Error: No image found\n",
      "2024-04-14 05:23:14,844 - INFO - Attempting to fetch image URL from: https://www.etsy.com/listing/1275293621/customized-square-sandalwood-stamp\n",
      "2024-04-14 05:23:15,687 - INFO - Successfully fetched image URL from: https://www.etsy.com/listing/1275293621/customized-square-sandalwood-stamp\n",
      "2024-04-14 05:23:15,689 - INFO - Attempting to fetch image from: https://i.etsystatic.com/23084341/r/il/99b29d/4038528844/il_794xN.4038528844_99wq.jpg\n",
      "2024-04-14 05:23:15,878 - INFO - Successfully fetched image from: https://i.etsystatic.com/23084341/r/il/99b29d/4038528844/il_794xN.4038528844_99wq.jpg\n",
      "2024-04-14 05:23:15,879 - INFO - Attempting to fetch image URL from: https://www.etsy.com/listing/829885468/custom-chinese-name-chop-personal-asian\n",
      "2024-04-14 05:23:16,989 - INFO - Successfully fetched image URL from: https://www.etsy.com/listing/829885468/custom-chinese-name-chop-personal-asian\n",
      "2024-04-14 05:23:16,994 - INFO - Attempting to fetch image from: https://i.etsystatic.com/9793468/r/il/6a8ea4/2477114453/il_794xN.2477114453_g7n1.jpg\n",
      "2024-04-14 05:23:17,517 - INFO - Successfully fetched image from: https://i.etsystatic.com/9793468/r/il/6a8ea4/2477114453/il_794xN.2477114453_g7n1.jpg\n",
      "2024-04-14 05:23:17,519 - INFO - Attempting to fetch image URL from: https://www.etsy.com/listing/728273678/custom-name-sealseal-carvingchinese-seal\n",
      "2024-04-14 05:23:17,623 - ERROR - Error fetching image for URL: https://www.etsy.com/listing/728273678/custom-name-sealseal-carvingchinese-seal. Error: No image found\n",
      "2024-04-14 05:23:22,356 - INFO - Attempting to fetch image URL from: https://www.etsy.com/listing/728273678/custom-name-sealseal-carvingchinese-seal\n",
      "2024-04-14 05:23:22,447 - ERROR - Error fetching image for URL: https://www.etsy.com/listing/728273678/custom-name-sealseal-carvingchinese-seal. Error: No image found\n",
      "2024-04-14 05:23:26,026 - INFO - Attempting to fetch image URL from: https://www.etsy.com/listing/728273678/custom-name-sealseal-carvingchinese-seal\n",
      "2024-04-14 05:23:26,927 - INFO - Successfully fetched image URL from: https://www.etsy.com/listing/728273678/custom-name-sealseal-carvingchinese-seal\n",
      "2024-04-14 05:23:26,929 - INFO - Attempting to fetch image from: https://i.etsystatic.com/20363724/r/il/cf1e1f/2033271044/il_794xN.2033271044_t5uy.jpg\n",
      "2024-04-14 05:23:27,005 - INFO - Successfully fetched image from: https://i.etsystatic.com/20363724/r/il/cf1e1f/2033271044/il_794xN.2033271044_t5uy.jpg\n",
      "2024-04-14 05:23:27,007 - INFO - Attempting to fetch image URL from: https://www.etsy.com/listing/710054594/chinese-name-seal-chinese-custom-seal\n",
      "2024-04-14 05:23:27,093 - ERROR - Error fetching image for URL: https://www.etsy.com/listing/710054594/chinese-name-seal-chinese-custom-seal. Error: No image found\n",
      "2024-04-14 05:23:30,019 - INFO - Attempting to fetch image URL from: https://www.etsy.com/listing/710054594/chinese-name-seal-chinese-custom-seal\n",
      "2024-04-14 05:23:30,785 - INFO - Successfully fetched image URL from: https://www.etsy.com/listing/710054594/chinese-name-seal-chinese-custom-seal\n",
      "2024-04-14 05:23:30,787 - INFO - Attempting to fetch image from: https://i.etsystatic.com/20363724/r/il/81f964/1994976294/il_794xN.1994976294_8o71.jpg\n",
      "2024-04-14 05:23:30,856 - INFO - Successfully fetched image from: https://i.etsystatic.com/20363724/r/il/81f964/1994976294/il_794xN.1994976294_8o71.jpg\n",
      "2024-04-14 05:23:30,857 - INFO - Attempting to fetch image URL from: https://www.etsy.com/listing/738772594/custom-japanese-name-seal-stamphanko\n",
      "2024-04-14 05:23:30,959 - ERROR - Error fetching image for URL: https://www.etsy.com/listing/738772594/custom-japanese-name-seal-stamphanko. Error: No image found\n",
      "2024-04-14 05:23:35,726 - INFO - Attempting to fetch image URL from: https://www.etsy.com/listing/738772594/custom-japanese-name-seal-stamphanko\n",
      "2024-04-14 05:23:36,751 - INFO - Successfully fetched image URL from: https://www.etsy.com/listing/738772594/custom-japanese-name-seal-stamphanko\n",
      "2024-04-14 05:23:36,753 - INFO - Attempting to fetch image from: https://i.etsystatic.com/18860871/r/il/95ea16/2129409953/il_794xN.2129409953_hzqc.jpg\n",
      "2024-04-14 05:23:36,969 - INFO - Successfully fetched image from: https://i.etsystatic.com/18860871/r/il/95ea16/2129409953/il_794xN.2129409953_hzqc.jpg\n",
      "2024-04-14 05:23:36,971 - INFO - Attempting to fetch image URL from: https://www.etsy.com/listing/748288805/custom-name-sealseal-carvingchinese-seal\n",
      "2024-04-14 05:23:37,772 - INFO - Successfully fetched image URL from: https://www.etsy.com/listing/748288805/custom-name-sealseal-carvingchinese-seal\n",
      "2024-04-14 05:23:37,774 - INFO - Attempting to fetch image from: https://i.etsystatic.com/20363724/r/il/28b227/2061717866/il_794xN.2061717866_tabo.jpg\n",
      "2024-04-14 05:23:38,048 - INFO - Successfully fetched image from: https://i.etsystatic.com/20363724/r/il/28b227/2061717866/il_794xN.2061717866_tabo.jpg\n",
      "2024-04-14 05:23:38,049 - INFO - Attempting to fetch image URL from: https://www.etsy.com/listing/618959279/red-ink-paste-chinese-ink-set-chinese\n",
      "2024-04-14 05:23:38,954 - INFO - Successfully fetched image URL from: https://www.etsy.com/listing/618959279/red-ink-paste-chinese-ink-set-chinese\n",
      "2024-04-14 05:23:38,956 - INFO - Attempting to fetch image from: https://i.etsystatic.com/9793468/r/il/3d3860/1656412937/il_794xN.1656412937_nno0.jpg\n",
      "2024-04-14 05:23:39,141 - INFO - Successfully fetched image from: https://i.etsystatic.com/9793468/r/il/3d3860/1656412937/il_794xN.1656412937_nno0.jpg\n"
     ]
    },
    {
     "data": {
      "text/html": [
       "<table><tr><th colspan='10'>bead bracelets and necklaces (珠子手链和项链)</th></tr><tr><td><img src='https://i.etsystatic.com/9406609/c/2048/1627/0/8/il/670261/3763267256/il_340x270.3763267256_5wzw.jpg' style='width:150px;'></td><td><img src='https://i.etsystatic.com/5265194/r/il/5cdfca/4982884271/il_340x270.4982884271_6x2j.jpg' style='width:150px;'></td><td><img src='https://i.etsystatic.com/6581319/r/il/d40fa3/1384833120/il_794xN.1384833120_phdc.jpg' style='width:150px;'></td><td><img src='https://i.etsystatic.com/19389932/r/il/3c38a1/2387514031/il_794xN.2387514031_84tx.jpg' style='width:150px;'></td><td><img src='https://i.etsystatic.com/30061539/r/il/75ad94/3962497544/il_794xN.3962497544_lugy.jpg' style='width:150px;'></td><td><img src='https://i.etsystatic.com/6245789/r/il/3e26a9/3807508841/il_794xN.3807508841_29f3.jpg' style='width:150px;'></td><td><img src='https://i.etsystatic.com/31487558/r/il/d1e632/4727828872/il_794xN.4727828872_f2cl.jpg' style='width:150px;'></td><td><img src='https://i.etsystatic.com/8164631/r/il/314852/2167568257/il_794xN.2167568257_3oii.jpg' style='width:150px;'></td><td><img src='https://i.etsystatic.com/30061539/r/il/33ecfd/4010284593/il_794xN.4010284593_pk43.jpg' style='width:150px;'></td><td><img src='https://i.etsystatic.com/12396175/r/il/3cd245/5089419680/il_794xN.5089419680_taei.jpg' style='width:150px;'></td></tr><tr></tr><tr><td colspan='10'>&nbsp;</td></tr><tr><th colspan='10'>chinese mid autumn gift sets (中秋节礼品套装)</th></tr><tr><td><img src='https://i.etsystatic.com/28951580/r/il/5f32d9/4046695064/il_794xN.4046695064_s1qs.jpg' style='width:150px;'></td><td><img src='https://i.etsystatic.com/31283027/r/il/a95f2f/5597430063/il_794xN.5597430063_8cmj.jpg' style='width:150px;'></td><td><img src='https://i.etsystatic.com/35871599/r/il/ad38dc/5308167088/il_794xN.5308167088_ovf2.jpg' style='width:150px;'></td><td><img src='https://i.etsystatic.com/6227407/r/il/6b9791/4181771189/il_794xN.4181771189_83e7.jpg' style='width:150px;'></td><td><img src='https://i.etsystatic.com/12836312/r/il/5fb245/1352285422/il_340x270.1352285422_ma7w.jpg' style='width:150px;'></td><td>Error fetching image: RetryError[<Future at 0x12647dd30 state=finished raised UnboundLocalError>]</td><td><img src='https://i.etsystatic.com/18823169/r/il/03d22c/5186457972/il_794xN.5186457972_p0hm.jpg' style='width:150px;'></td><td><img src='https://i.etsystatic.com/26189267/r/il/e3c433/3044757057/il_794xN.3044757057_njo0.jpg' style='width:150px;'></td><td><img src='https://i.etsystatic.com/51063046/r/il/6e0a55/5917907654/il_340x270.5917907654_3yws.jpg' style='width:150px;'></td><td><img src='https://i.etsystatic.com/9841760/r/il/26f46f/1220945431/il_794xN.1220945431_5brd.jpg' style='width:150px;'></td></tr><tr><td colspan='10'>&nbsp;</td></tr><tr><th colspan='10'>chinese pottery (中国陶器)</th></tr><tr><td><img src='https://i.etsystatic.com/6437906/r/il/9a2157/3640371641/il_794xN.3640371641_fz2k.jpg' style='width:150px;'></td><td><img src='https://i.etsystatic.com/6566625/r/il/a7be6d/2009341760/il_794xN.2009341760_3ur9.jpg' style='width:150px;'></td><td><img src='https://i.etsystatic.com/5413708/r/il/fa60fc/521823569/il_794xN.521823569_14ms.jpg' style='width:150px;'></td><td><img src='https://i.etsystatic.com/36883701/r/il/8cb9f8/4974051438/il_794xN.4974051438_4cuf.jpg' style='width:150px;'></td><td><img src='https://i.etsystatic.com/25741304/r/il/96d3dd/2919764269/il_794xN.2919764269_2z2k.jpg' style='width:150px;'></td><td><img src='https://i.etsystatic.com/10496376/r/il/08c679/3263600548/il_794xN.3263600548_a27o.jpg' style='width:150px;'></td><td><img src='https://i.etsystatic.com/22606337/r/il/d1ed39/5841357442/il_794xN.5841357442_7xwb.jpg' style='width:150px;'></td><td><img src='https://i.etsystatic.com/18644623/r/il/3ac958/5163141037/il_794xN.5163141037_cch3.jpg' style='width:150px;'></td><td><img src='https://i.etsystatic.com/31204800/c/2107/1674/0/189/il/962d99/5861825927/il_340x270.5861825927_duh9.jpg' style='width:150px;'></td><td><img src='https://i.etsystatic.com/13066849/r/il/9a8dc2/4591391686/il_794xN.4591391686_hnfj.jpg' style='width:150px;'></td></tr><tr></tr><tr><td colspan='10'>&nbsp;</td></tr><tr><th colspan='10'>chinese incense (中国香)</th></tr><tr><td><img src='https://i.etsystatic.com/33009983/c/3000/2384/0/89/il/80c228/4807532146/il_340x270.4807532146_kigw.jpg' style='width:150px;'></td><td><img src='https://i.etsystatic.com/49607849/r/il/b18cf7/5712172886/il_340x270.5712172886_91yk.jpg' style='width:150px;'></td><td><img src='https://i.etsystatic.com/33009983/c/3000/2384/0/89/il/80c228/4807532146/il_340x270.4807532146_kigw.jpg' style='width:150px;'></td><td><img src='https://i.etsystatic.com/33009983/c/3000/2384/0/89/il/80c228/4807532146/il_340x270.4807532146_kigw.jpg' style='width:150px;'></td><td><img src='https://i.etsystatic.com/35948750/r/il/6c4298/5906111932/il_340x270.5906111932_im4p.jpg' style='width:150px;'></td><td><img src='https://i.etsystatic.com/26160385/r/il/f70754/2746969245/il_794xN.2746969245_pa0e.jpg' style='width:150px;'></td><td><img src='https://i.etsystatic.com/21743212/r/il/7a0dc7/3447355888/il_794xN.3447355888_hb6x.jpg' style='width:150px;'></td><td><img src='https://i.etsystatic.com/7390884/c/2992/2376/0/206/il/bc1588/5424500039/il_340x270.5424500039_bpmj.jpg' style='width:150px;'></td><td><img src='https://i.etsystatic.com/33009983/c/3000/2384/0/89/il/80c228/4807532146/il_340x270.4807532146_kigw.jpg' style='width:150px;'></td><td><img src='https://i.etsystatic.com/17304479/r/il/d5deba/5368731170/il_794xN.5368731170_but1.jpg' style='width:150px;'></td></tr><tr></tr><tr><td colspan='10'>&nbsp;</td></tr><tr><th colspan='10'>chinese magnets (中国冰箱贴)</th></tr><tr><td><img src='https://i.etsystatic.com/28594926/r/il/0ebf87/3648972354/il_794xN.3648972354_21tj.jpg' style='width:150px;'></td><td><img src='https://i.etsystatic.com/12816411/r/il/05a213/2212059963/il_794xN.2212059963_pub6.jpg' style='width:150px;'></td><td><img src='https://i.etsystatic.com/23824001/r/il/cf10d5/2843720435/il_794xN.2843720435_csgk.jpg' style='width:150px;'></td><td><img src='https://i.etsystatic.com/31335521/r/il/3b9224/4014742284/il_680x540.4014742284_6pzy.jpg' style='width:150px;'></td><td><img src='https://i.etsystatic.com/23824001/r/il/844c26/2843739809/il_794xN.2843739809_fojd.jpg' style='width:150px;'></td><td><img src='https://i.etsystatic.com/6177404/r/il/100fc4/543870401/il_794xN.543870401_6lnt.jpg' style='width:150px;'></td><td><img src='https://i.etsystatic.com/16906994/r/il/17e3f2/1950639913/il_680x540.1950639913_rbz9.jpg' style='width:150px;'></td><td><img src='https://i.etsystatic.com/9020857/r/il/aa29ce/2583937795/il_794xN.2583937795_fdw5.jpg' style='width:150px;'></td><td><img src='https://i.etsystatic.com/10282191/r/il/044b56/3161661945/il_794xN.3161661945_1bza.jpg' style='width:150px;'></td><td><img src='https://i.etsystatic.com/17693053/r/il/7c694a/2811545475/il_794xN.2811545475_lk4k.jpg' style='width:150px;'></td></tr><tr></tr><tr><td colspan='10'>&nbsp;</td></tr><tr><th colspan='10'>paper lanterns (纸灯笼)</th></tr><tr><td><img src='https://i.etsystatic.com/18963926/r/il/80e9a1/2486105379/il_794xN.2486105379_2o9j.jpg' style='width:150px;'></td><td><img src='https://i.etsystatic.com/15729766/r/il/d5824a/5244035172/il_794xN.5244035172_in3p.jpg' style='width:150px;'></td><td><img src='https://i.etsystatic.com/20530066/r/il/4ea19b/4724032120/il_794xN.4724032120_6b8i.jpg' style='width:150px;'></td><td><img src='https://i.etsystatic.com/18963926/r/il/6ea763/3282899458/il_794xN.3282899458_6jva.jpg' style='width:150px;'></td><td><img src='https://i.etsystatic.com/18963926/r/il/a53769/3288511734/il_794xN.3288511734_77pp.jpg' style='width:150px;'></td><td><img src='https://i.etsystatic.com/34098216/r/il/7d3ffa/5341631408/il_794xN.5341631408_59o4.jpg' style='width:150px;'></td><td><img src='https://i.etsystatic.com/12533879/r/il/5f0e88/4390093817/il_794xN.4390093817_it8f.jpg' style='width:150px;'></td><td><img src='https://i.etsystatic.com/6599546/r/il/54c3a3/4212191874/il_680x540.4212191874_l6tv.jpg' style='width:150px;'></td><td><img src='https://i.etsystatic.com/18963926/r/il/2a0477/3246851682/il_794xN.3246851682_4em8.jpg' style='width:150px;'></td><td><img src='https://i.etsystatic.com/30446978/r/il/9b7af7/3631216651/il_794xN.3631216651_s1g4.jpg' style='width:150px;'></td></tr><tr></tr><tr><td colspan='10'>&nbsp;</td></tr><tr><th colspan='10'>chinese bamboo art (中国竹艺)</th></tr><tr><td><img src='https://i.etsystatic.com/19294322/r/il/976c8d/2009633715/il_794xN.2009633715_kgch.jpg' style='width:150px;'></td><td><img src='https://i.etsystatic.com/5346352/r/il/be0f14/1776848873/il_794xN.1776848873_94x7.jpg' style='width:150px;'></td><td><img src='https://i.etsystatic.com/30590150/r/il/5e9327/3181270812/il_794xN.3181270812_dlzx.jpg' style='width:150px;'></td><td><img src='https://i.etsystatic.com/22833261/r/il/411733/5300258203/il_340x270.5300258203_jxtn.jpg' style='width:150px;'></td><td><img src='https://i.etsystatic.com/24470057/c/1536/2048/0/0/il/057d6b/3654411672/il_340x270.3654411672_ijti.jpg' style='width:150px;'></td><td><img src='https://i.etsystatic.com/22833261/r/il/411733/5300258203/il_340x270.5300258203_jxtn.jpg' style='width:150px;'></td><td><img src='https://i.etsystatic.com/16704364/r/il/96337d/3077609792/il_794xN.3077609792_s8fy.jpg' style='width:150px;'></td><td><img src='https://i.etsystatic.com/24470057/c/1536/2048/0/0/il/057d6b/3654411672/il_340x270.3654411672_ijti.jpg' style='width:150px;'></td><td><img src='https://i.etsystatic.com/10824755/r/il/1c3dd0/3656889488/il_794xN.3656889488_oehl.jpg' style='width:150px;'></td><td><img src='https://i.etsystatic.com/21743212/r/il/b6458c/3894942414/il_794xN.3894942414_thob.jpg' style='width:150px;'></td></tr><tr></tr><tr><td colspan='10'>&nbsp;</td></tr><tr><th colspan='10'>chinese washi tape (中国和纸胶带)</th></tr><tr><td><img src='https://i.etsystatic.com/17535065/r/il/4c196a/3678279046/il_794xN.3678279046_2any.jpg' style='width:150px;'></td><td><img src='https://i.etsystatic.com/13650636/r/il/f3299a/1903707909/il_794xN.1903707909_b9z3.jpg' style='width:150px;'></td><td><img src='https://i.etsystatic.com/34379934/r/il/628644/4796937795/il_794xN.4796937795_qnr6.jpg' style='width:150px;'></td><td><img src='https://i.etsystatic.com/34269816/r/il/13a017/5460094842/il_794xN.5460094842_8fcs.jpg' style='width:150px;'></td><td><img src='https://i.etsystatic.com/25168585/r/il/86edef/5268363145/il_794xN.5268363145_hmy9.jpg' style='width:150px;'></td><td><img src='https://i.etsystatic.com/26940874/r/il/6ab376/4488115810/il_794xN.4488115810_l9er.jpg' style='width:150px;'></td><td><img src='https://i.etsystatic.com/10907262/r/il/35c6bc/1504156133/il_794xN.1504156133_pdtu.jpg' style='width:150px;'></td><td><img src='https://i.etsystatic.com/34684196/r/il/9a9216/4833681859/il_794xN.4833681859_9mvi.jpg' style='width:150px;'></td><td><img src='https://i.etsystatic.com/12449600/r/il/b7be20/5057287447/il_794xN.5057287447_5n2x.jpg' style='width:150px;'></td><td><img src='https://i.etsystatic.com/16134446/r/il/421e77/5952357367/il_794xN.5952357367_7hgi.jpg' style='width:150px;'></td></tr><tr></tr><tr><td colspan='10'>&nbsp;</td></tr><tr><th colspan='10'>chinese art stickers (中国艺术贴纸)</th></tr><tr><td><img src='https://i.etsystatic.com/20049812/r/il/f08cb4/2940126128/il_794xN.2940126128_7qn8.jpg' style='width:150px;'></td><td><img src='https://i.etsystatic.com/7622384/r/il/3aba43/2031151223/il_794xN.2031151223_ravw.jpg' style='width:150px;'></td><td><img src='https://i.etsystatic.com/24929797/r/il/b02bcc/3374584564/il_794xN.3374584564_4xub.jpg' style='width:150px;'></td><td><img src='https://i.etsystatic.com/22594193/r/il/f2d3a1/3152118023/il_794xN.3152118023_r8xy.jpg' style='width:150px;'></td><td><img src='https://i.etsystatic.com/24929797/r/il/cc6e31/3527598872/il_794xN.3527598872_ek2k.jpg' style='width:150px;'></td><td><img src='https://i.etsystatic.com/7622384/r/il/2fdce5/4884917202/il_794xN.4884917202_5g0k.jpg' style='width:150px;'></td><td><img src='https://i.etsystatic.com/5318266/r/il/da6ce4/195005305/il_794xN.195005305.jpg' style='width:150px;'></td><td><img src='https://i.etsystatic.com/7622384/r/il/4fa2a5/2113427809/il_794xN.2113427809_10gj.jpg' style='width:150px;'></td><td><img src='https://i.etsystatic.com/34097049/r/il/0ad350/3824732684/il_794xN.3824732684_lzaa.jpg' style='width:150px;'></td><td><img src='https://i.etsystatic.com/24929797/r/il/58e1d2/3527520782/il_794xN.3527520782_8sfb.jpg' style='width:150px;'></td></tr><tr></tr><tr><td colspan='10'>&nbsp;</td></tr><tr><th colspan='10'>brushes and calligraphy tools (笔和书法工具)</th></tr><tr><td><img src='https://i.etsystatic.com/32249667/r/il/e57242/3740016549/il_794xN.3740016549_q6qo.jpg' style='width:150px;'></td><td><img src='https://i.etsystatic.com/20363724/r/il/f5dc31/2435071652/il_794xN.2435071652_l8t7.jpg' style='width:150px;'></td><td><img src='https://i.etsystatic.com/20268768/r/il/bede1c/2354399655/il_794xN.2354399655_q7bj.jpg' style='width:150px;'></td><td><img src='https://i.etsystatic.com/9841760/r/il/7bf1be/778871894/il_794xN.778871894_9qbo.jpg' style='width:150px;'></td><td><img src='https://i.etsystatic.com/20268768/r/il/6c2b75/3058685023/il_794xN.3058685023_eg2g.jpg' style='width:150px;'></td><td><img src='https://i.etsystatic.com/9841760/r/il/bfb4ed/1192192330/il_794xN.1192192330_rb1z.jpg' style='width:150px;'></td><td><img src='https://i.etsystatic.com/9793468/r/il/017bc7/1664756875/il_794xN.1664756875_nb4g.jpg' style='width:150px;'></td><td><img src='https://i.etsystatic.com/10988119/r/il/d5756f/3519950688/il_794xN.3519950688_4ai0.jpg' style='width:150px;'></td><td><img src='https://i.etsystatic.com/24086262/r/il/62ef44/2909719357/il_794xN.2909719357_17fz.jpg' style='width:150px;'></td><td><img src='https://i.etsystatic.com/20363724/r/il/dcf2e6/3097455547/il_794xN.3097455547_kd5u.jpg' style='width:150px;'></td></tr><tr></tr><tr><td colspan='10'>&nbsp;</td></tr><tr><th colspan='10'>calligraphy prints (书法印刷品)</th></tr><tr><td><img src='https://i.etsystatic.com/13891034/r/il/0ab794/4834102416/il_794xN.4834102416_ebu6.jpg' style='width:150px;'></td><td><img src='https://i.etsystatic.com/15498893/r/il/733911/1999705527/il_794xN.1999705527_bwpv.jpg' style='width:150px;'></td><td><img src='https://i.etsystatic.com/7423915/r/il/987865/645789426/il_794xN.645789426_tpu2.jpg' style='width:150px;'></td><td><img src='https://i.etsystatic.com/37411621/r/il/917fee/5966027271/il_340x270.5966027271_ic6m.jpg' style='width:150px;'></td><td><img src='https://i.etsystatic.com/33158205/r/il/0bcf1c/3727393584/il_794xN.3727393584_g2nz.jpg' style='width:150px;'></td><td><img src='https://i.etsystatic.com/9793468/r/il/1fc863/1856760830/il_794xN.1856760830_7czy.jpg' style='width:150px;'></td><td><img src='https://i.etsystatic.com/14395581/r/il/c71386/3102624440/il_794xN.3102624440_2nga.jpg' style='width:150px;'></td><td><img src='https://i.etsystatic.com/9793468/r/il/4cb5df/1903191223/il_794xN.1903191223_gpl1.jpg' style='width:150px;'></td><td><img src='https://i.etsystatic.com/10186780/r/il/458d05/2427811606/il_794xN.2427811606_keab.jpg' style='width:150px;'></td><td><img src='https://i.etsystatic.com/30798514/r/il/5164a3/4875470102/il_794xN.4875470102_i599.jpg' style='width:150px;'></td></tr><tr></tr><tr><td colspan='10'>&nbsp;</td></tr><tr><th colspan='10'>chinese bookmarks (中国书签)</th></tr><tr><td><img src='https://i.etsystatic.com/6113180/r/il/1dc4f7/446601691/il_794xN.446601691_myiv.jpg' style='width:150px;'></td><td><img src='https://i.etsystatic.com/22542121/r/il/a821fb/3904316941/il_794xN.3904316941_f815.jpg' style='width:150px;'></td><td><img src='https://i.etsystatic.com/6189938/r/il/090de3/1756954248/il_794xN.1756954248_p9u7.jpg' style='width:150px;'></td><td><img src='https://i.etsystatic.com/21103734/r/il/2ab0d9/3604555168/il_794xN.3604555168_jh3p.jpg' style='width:150px;'></td><td><img src='https://i.etsystatic.com/5994981/r/il/30c680/1436152837/il_794xN.1436152837_76iz.jpg' style='width:150px;'></td><td><img src='https://i.etsystatic.com/21332884/r/il/b57366/3400530840/il_794xN.3400530840_mfq5.jpg' style='width:150px;'></td><td><img src='https://i.etsystatic.com/19974577/r/il/9a5498/4904489702/il_794xN.4904489702_36yv.jpg' style='width:150px;'></td><td><img src='https://i.etsystatic.com/21332884/r/il/09eae6/3594307968/il_794xN.3594307968_65uz.jpg' style='width:150px;'></td><td><img src='https://i.etsystatic.com/24436488/r/il/5b2c67/4613286011/il_794xN.4613286011_h7nj.jpg' style='width:150px;'></td><td><img src='https://i.etsystatic.com/37547380/c/1818/1445/77/388/il/bb53a6/5911231342/il_340x270.5911231342_ilys.jpg' style='width:150px;'></td></tr><tr></tr><tr><td colspan='10'>&nbsp;</td></tr><tr><th colspan='10'>name seals (印章)</th></tr><tr><td><img src='https://i.etsystatic.com/20268768/r/il/0fc3b0/2409587810/il_794xN.2409587810_s90a.jpg' style='width:150px;'></td><td><img src='https://i.etsystatic.com/9793468/r/il/bc8476/1541770369/il_794xN.1541770369_4yxn.jpg' style='width:150px;'></td><td><img src='https://i.etsystatic.com/20363724/r/il/11f39c/2004046816/il_794xN.2004046816_nkay.jpg' style='width:150px;'></td><td><img src='https://i.etsystatic.com/23084341/r/il/99b29d/4038528844/il_794xN.4038528844_99wq.jpg' style='width:150px;'></td><td><img src='https://i.etsystatic.com/9793468/r/il/6a8ea4/2477114453/il_794xN.2477114453_g7n1.jpg' style='width:150px;'></td><td><img src='https://i.etsystatic.com/20363724/r/il/cf1e1f/2033271044/il_794xN.2033271044_t5uy.jpg' style='width:150px;'></td><td><img src='https://i.etsystatic.com/20363724/r/il/81f964/1994976294/il_794xN.1994976294_8o71.jpg' style='width:150px;'></td><td><img src='https://i.etsystatic.com/18860871/r/il/95ea16/2129409953/il_794xN.2129409953_hzqc.jpg' style='width:150px;'></td><td><img src='https://i.etsystatic.com/20363724/r/il/28b227/2061717866/il_794xN.2061717866_tabo.jpg' style='width:150px;'></td><td><img src='https://i.etsystatic.com/9793468/r/il/3d3860/1656412937/il_794xN.1656412937_nno0.jpg' style='width:150px;'></td></tr><tr></tr><tr><td colspan='10'>&nbsp;</td></tr></table>"
      ],
      "text/plain": [
       "<IPython.core.display.HTML object>"
      ]
     },
     "metadata": {},
     "output_type": "display_data"
    }
   ],
   "source": [
    "fetch_and_display_images(top_products)"
   ]
  },
  {
   "cell_type": "code",
   "execution_count": 360,
   "metadata": {},
   "outputs": [
    {
     "name": "stderr",
     "output_type": "stream",
     "text": [
      " 58%|█████▊    | 2081/3578 [1:50:42<55:02,  2.21s/it]  "
     ]
    }
   ],
   "source": [
    "def _lambda_fetch_image_url(x):\n",
    "    try:\n",
    "        url = fetch_image_url(x)[\"src\"]\n",
    "    except Exception as e:\n",
    "        url = None\n",
    "    return url\n",
    "\n",
    "\n",
    "all_product_data[\"Image URL\"] = all_product_data[\"Product URL\"].progress_apply(\n",
    "    _lambda_fetch_image_url\n",
    ")"
   ]
  },
  {
   "cell_type": "code",
   "execution_count": null,
   "metadata": {},
   "outputs": [],
   "source": []
  }
 ],
 "metadata": {
  "kernelspec": {
   "display_name": "venv",
   "language": "python",
   "name": "python3"
  },
  "language_info": {
   "codemirror_mode": {
    "name": "ipython",
    "version": 3
   },
   "file_extension": ".py",
   "mimetype": "text/x-python",
   "name": "python",
   "nbconvert_exporter": "python",
   "pygments_lexer": "ipython3",
   "version": "3.12.0"
  }
 },
 "nbformat": 4,
 "nbformat_minor": 2
}
