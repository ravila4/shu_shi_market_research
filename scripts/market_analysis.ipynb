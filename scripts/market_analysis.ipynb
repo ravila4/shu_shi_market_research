{
 "cells": [
  {
   "cell_type": "code",
   "execution_count": 1,
   "metadata": {},
   "outputs": [],
   "source": [
    "import glob\n",
    "import os\n",
    "from typing import Dict, List\n",
    "\n",
    "import matplotlib.pyplot as plt\n",
    "import numpy as np\n",
    "import pandas as pd\n",
    "import plotly.graph_objects as go\n",
    "import seaborn\n",
    "from IPython.display import Image\n",
    "from plotly.io import to_image\n",
    "from plotly.offline import plot\n",
    "from plotly.subplots import make_subplots"
   ]
  },
  {
   "cell_type": "code",
   "execution_count": 2,
   "metadata": {},
   "outputs": [],
   "source": [
    "config = {\n",
    "    \"data_folder\": \"../data/products/\",\n",
    "    \"output_folder\": \"../output/\",\n",
    "}"
   ]
  },
  {
   "cell_type": "code",
   "execution_count": 3,
   "metadata": {},
   "outputs": [],
   "source": [
    "def get_product_names():\n",
    "    \"\"\"Get the product names from the folders in the data folder.\"\"\"\n",
    "    folders = glob.glob(config[\"data_folder\"] + \"*/\")\n",
    "    product_names = [\n",
    "        (folder, \" \".join(folder.rstrip(\"/\").split(\"_\")[1:])) for folder in folders\n",
    "    ]\n",
    "    return product_names"
   ]
  },
  {
   "cell_type": "code",
   "execution_count": 4,
   "metadata": {},
   "outputs": [
    {
     "name": "stdout",
     "output_type": "stream",
     "text": [
      "[('../data/products/03_bead_bracelets_and_necklaces/', 'bead bracelets and necklaces'), ('../data/products/08_chinese_mid_autumn_gift_sets/', 'chinese mid autumn gift sets'), ('../data/products/12_chinese_pottery/', 'chinese pottery'), ('../data/products/07_chinese_incense/', 'chinese incense'), ('../data/products/13_chinese_magnets/', 'chinese magnets'), ('../data/products/04_paper_lanterns/', 'paper lanterns'), ('../data/products/06_chinese_bamboo_art/', 'chinese bamboo art'), ('../data/products/11_chinese_washi_tape/', 'chinese washi tape'), ('../data/products/10_chinese_art_stickers/', 'chinese art stickers'), ('../data/products/05_brushes_and_calligraphy_tools/', 'brushes and calligraphy tools'), ('../data/products/01_calligraphy_prints/', 'calligraphy prints'), ('../data/products/09_chinese_bookmarks/', 'chinese bookmarks'), ('../data/products/02_name_seals/', 'name seals')]\n"
     ]
    }
   ],
   "source": [
    "products = get_product_names()\n",
    "print(products)"
   ]
  },
  {
   "cell_type": "code",
   "execution_count": 5,
   "metadata": {},
   "outputs": [],
   "source": [
    "chinese_translations = {\n",
    "    \"bead bracelets and necklaces\": \"珠子手链和项链\",\n",
    "    \"chinese mid autumn gift sets\": \"中秋节礼品套装\",\n",
    "    \"chinese pottery\": \"中国陶器\",\n",
    "    \"chinese incense\": \"中国香\",\n",
    "    \"chinese magnets\": \"中国冰箱贴\",\n",
    "    \"paper lanterns\": \"纸灯笼\",\n",
    "    \"chinese bamboo art\": \"中国竹艺\",\n",
    "    \"chinese washi tape\": \"中国和纸胶带\",\n",
    "    \"chinese art stickers\": \"中国艺术贴纸\",\n",
    "    \"brushes and calligraphy tools\": \"笔和书法工具\",\n",
    "    \"calligraphy prints\": \"书法印刷品\",\n",
    "    \"chinese bookmarks\": \"中国书签\",\n",
    "    \"name seals\": \"印章\",\n",
    "}"
   ]
  },
  {
   "cell_type": "code",
   "execution_count": 6,
   "metadata": {},
   "outputs": [],
   "source": [
    "def get_search_term_from_file_name(file_name: str) -> str:\n",
    "    \"\"\"Get the search term from the file name.\"\"\"\n",
    "    return file_name.replace(\"_product_detail.csv\", \"\").replace(\"_\", \" \")\n",
    "\n",
    "\n",
    "def get_product_data(data_folder: str, product_name: str) -> pd.DataFrame:\n",
    "    \"\"\"Get the data for a product, loaded into a Polars DataFrame.\"\"\"\n",
    "    files = glob.glob(data_folder + \"/*.csv\")\n",
    "    dataframes = []\n",
    "    for file in files:\n",
    "        df = pd.read_csv(file)\n",
    "        # Add the search term and product name to the dataframe\n",
    "        df[\"search_term\"] = get_search_term_from_file_name(os.path.basename(file))\n",
    "        df[\"product_name\"] = product_name\n",
    "        df[\"Tags\"] = df[\"Tags\"].apply(lambda x: x.split(\",\"))\n",
    "        df['Price(\"$\")'] = df['Price(\"$\")'].astype(str)\n",
    "        df[\"price\"] = df['Price(\"$\")'].str.replace(\",\", \"\").astype(float)\n",
    "        df[\"has_sales\"] = df[\"Total Sales\"] > 0\n",
    "        df[\"product_name_chinese_name\"] = (\n",
    "            df[\"product_name\"]\n",
    "            + \" (\"\n",
    "            + df[\"product_name\"].map(chinese_translations)\n",
    "            + \")\"\n",
    "        )\n",
    "        dataframes.append(df)\n",
    "\n",
    "    # Concatenate the dataframes\n",
    "    joined_df = pd.concat(dataframes)\n",
    "    # Drop duplicates by URL\n",
    "    joined_df = joined_df.drop_duplicates(subset=[\"Product URL\"])\n",
    "    return joined_df\n",
    "\n",
    "\n",
    "def get_all_product_data(products: List[str]) -> pd.DataFrame:\n",
    "    \"\"\"Get all the product data for a list of products.\"\"\"\n",
    "    dataframes = []\n",
    "    for product in products:\n",
    "        dataframes.append(get_product_data(product[0], product[1]))\n",
    "    return pd.concat(dataframes)"
   ]
  },
  {
   "cell_type": "code",
   "execution_count": 7,
   "metadata": {},
   "outputs": [],
   "source": [
    "all_product_data = get_all_product_data(products)"
   ]
  },
  {
   "cell_type": "code",
   "execution_count": 8,
   "metadata": {},
   "outputs": [
    {
     "data": {
      "text/html": [
       "<div>\n",
       "<style scoped>\n",
       "    .dataframe tbody tr th:only-of-type {\n",
       "        vertical-align: middle;\n",
       "    }\n",
       "\n",
       "    .dataframe tbody tr th {\n",
       "        vertical-align: top;\n",
       "    }\n",
       "\n",
       "    .dataframe thead th {\n",
       "        text-align: right;\n",
       "    }\n",
       "</style>\n",
       "<table border=\"1\" class=\"dataframe\">\n",
       "  <thead>\n",
       "    <tr style=\"text-align: right;\">\n",
       "      <th></th>\n",
       "      <th>Title</th>\n",
       "      <th>Category</th>\n",
       "      <th>Price(\"$\")</th>\n",
       "      <th>7-day sales</th>\n",
       "      <th>Total Sales</th>\n",
       "      <th>Total Reviews</th>\n",
       "      <th>7-day Reviews</th>\n",
       "      <th>Total Favorites</th>\n",
       "      <th>7-day Favorites</th>\n",
       "      <th>Tags</th>\n",
       "      <th>...</th>\n",
       "      <th>Etsy Pick</th>\n",
       "      <th>Raving</th>\n",
       "      <th>Store Name</th>\n",
       "      <th>Product URL</th>\n",
       "      <th>Image URL</th>\n",
       "      <th>search_term</th>\n",
       "      <th>product_name</th>\n",
       "      <th>price</th>\n",
       "      <th>has_sales</th>\n",
       "      <th>product_name_chinese_name</th>\n",
       "    </tr>\n",
       "  </thead>\n",
       "  <tbody>\n",
       "    <tr>\n",
       "      <th>0</th>\n",
       "      <td>Jade Plate, Type A Genuine Jade, Customizable ...</td>\n",
       "      <td>Craft Supplies &amp; Tools</td>\n",
       "      <td>176.12</td>\n",
       "      <td>0</td>\n",
       "      <td>0</td>\n",
       "      <td>0</td>\n",
       "      <td>0</td>\n",
       "      <td>0</td>\n",
       "      <td>0</td>\n",
       "      <td>[Jade, Handmade, Traditional, Loose Stone, Loo...</td>\n",
       "      <td>...</td>\n",
       "      <td>False</td>\n",
       "      <td>False</td>\n",
       "      <td>GranskyJewellery</td>\n",
       "      <td>https://www.etsy.com/listing/1632492895/jade-p...</td>\n",
       "      <td>Upgrade Pro to Unlock</td>\n",
       "      <td>traditional stone bead jewelry</td>\n",
       "      <td>bead bracelets and necklaces</td>\n",
       "      <td>176.12</td>\n",
       "      <td>False</td>\n",
       "      <td>bead bracelets and necklaces (珠子手链和项链)</td>\n",
       "    </tr>\n",
       "    <tr>\n",
       "      <th>1</th>\n",
       "      <td>Green/Pink Bangle set, 22k Gold Plated, White ...</td>\n",
       "      <td>Jewelry &gt; Bracelets &gt; Bangles</td>\n",
       "      <td>59.0</td>\n",
       "      <td>0</td>\n",
       "      <td>7</td>\n",
       "      <td>0</td>\n",
       "      <td>0</td>\n",
       "      <td>16</td>\n",
       "      <td>0</td>\n",
       "      <td>[Bangles Set, Indian Bangles, Traditional Bang...</td>\n",
       "      <td>...</td>\n",
       "      <td>False</td>\n",
       "      <td>False</td>\n",
       "      <td>NemaliJewelry</td>\n",
       "      <td>https://www.etsy.com/listing/762738828/greenpi...</td>\n",
       "      <td>Upgrade Pro to Unlock</td>\n",
       "      <td>traditional stone bead jewelry</td>\n",
       "      <td>bead bracelets and necklaces</td>\n",
       "      <td>59.00</td>\n",
       "      <td>True</td>\n",
       "      <td>bead bracelets and necklaces (珠子手链和项链)</td>\n",
       "    </tr>\n",
       "    <tr>\n",
       "      <th>2</th>\n",
       "      <td>Catholic Rosary Beads. Semi Precious Turquoise...</td>\n",
       "      <td>Home &amp; Living &gt; Spirituality &amp; Religion &gt; Pray...</td>\n",
       "      <td>59.99</td>\n",
       "      <td>0</td>\n",
       "      <td>0</td>\n",
       "      <td>0</td>\n",
       "      <td>0</td>\n",
       "      <td>44</td>\n",
       "      <td>0</td>\n",
       "      <td>[Miraculous Mary, Womans Rosary, Catholic Gift...</td>\n",
       "      <td>...</td>\n",
       "      <td>False</td>\n",
       "      <td>False</td>\n",
       "      <td>RosariesByHeidi</td>\n",
       "      <td>https://www.etsy.com/listing/587645665/catholi...</td>\n",
       "      <td>Upgrade Pro to Unlock</td>\n",
       "      <td>traditional stone bead jewelry</td>\n",
       "      <td>bead bracelets and necklaces</td>\n",
       "      <td>59.99</td>\n",
       "      <td>False</td>\n",
       "      <td>bead bracelets and necklaces (珠子手链和项链)</td>\n",
       "    </tr>\n",
       "    <tr>\n",
       "      <th>3</th>\n",
       "      <td>Seed Bead Stitching - Creative Variations On T...</td>\n",
       "      <td>Craft Supplies &amp; Tools</td>\n",
       "      <td>8.75</td>\n",
       "      <td>0</td>\n",
       "      <td>5</td>\n",
       "      <td>0</td>\n",
       "      <td>0</td>\n",
       "      <td>4</td>\n",
       "      <td>0</td>\n",
       "      <td>[Beading Book, Beaded Necklace, Making Jewelry...</td>\n",
       "      <td>...</td>\n",
       "      <td>False</td>\n",
       "      <td>False</td>\n",
       "      <td>NeedANeedle</td>\n",
       "      <td>https://www.etsy.com/listing/1024845656/seed-b...</td>\n",
       "      <td>Upgrade Pro to Unlock</td>\n",
       "      <td>traditional stone bead jewelry</td>\n",
       "      <td>bead bracelets and necklaces</td>\n",
       "      <td>8.75</td>\n",
       "      <td>True</td>\n",
       "      <td>bead bracelets and necklaces (珠子手链和项链)</td>\n",
       "    </tr>\n",
       "    <tr>\n",
       "      <th>4</th>\n",
       "      <td>Jade Plate, Type A Genuine Jade, Customizable ...</td>\n",
       "      <td>Jewelry &gt; Necklaces &gt; Charm Necklaces</td>\n",
       "      <td>251.88</td>\n",
       "      <td>0</td>\n",
       "      <td>0</td>\n",
       "      <td>0</td>\n",
       "      <td>0</td>\n",
       "      <td>3</td>\n",
       "      <td>0</td>\n",
       "      <td>[Jade, Handmade, Traditional, Gemstones, Loose...</td>\n",
       "      <td>...</td>\n",
       "      <td>False</td>\n",
       "      <td>False</td>\n",
       "      <td>GranskyJewellery</td>\n",
       "      <td>https://www.etsy.com/listing/1475770717/jade-p...</td>\n",
       "      <td>Upgrade Pro to Unlock</td>\n",
       "      <td>traditional stone bead jewelry</td>\n",
       "      <td>bead bracelets and necklaces</td>\n",
       "      <td>251.88</td>\n",
       "      <td>False</td>\n",
       "      <td>bead bracelets and necklaces (珠子手链和项链)</td>\n",
       "    </tr>\n",
       "    <tr>\n",
       "      <th>...</th>\n",
       "      <td>...</td>\n",
       "      <td>...</td>\n",
       "      <td>...</td>\n",
       "      <td>...</td>\n",
       "      <td>...</td>\n",
       "      <td>...</td>\n",
       "      <td>...</td>\n",
       "      <td>...</td>\n",
       "      <td>...</td>\n",
       "      <td>...</td>\n",
       "      <td>...</td>\n",
       "      <td>...</td>\n",
       "      <td>...</td>\n",
       "      <td>...</td>\n",
       "      <td>...</td>\n",
       "      <td>...</td>\n",
       "      <td>...</td>\n",
       "      <td>...</td>\n",
       "      <td>...</td>\n",
       "      <td>...</td>\n",
       "      <td>...</td>\n",
       "    </tr>\n",
       "    <tr>\n",
       "      <th>93</th>\n",
       "      <td>Vintage Boxed Pair of Chinese Stone Chop Seals...</td>\n",
       "      <td>Home &amp; Living &gt; Home Decor &gt; Ornaments &amp; Accen...</td>\n",
       "      <td>63.27</td>\n",
       "      <td>0</td>\n",
       "      <td>3</td>\n",
       "      <td>0</td>\n",
       "      <td>0</td>\n",
       "      <td>12</td>\n",
       "      <td>0</td>\n",
       "      <td>[False]</td>\n",
       "      <td>...</td>\n",
       "      <td>False</td>\n",
       "      <td>False</td>\n",
       "      <td>VintageVarietyStudio</td>\n",
       "      <td>https://www.etsy.com/listing/1292904295/vintag...</td>\n",
       "      <td>Upgrade Pro to Unlock</td>\n",
       "      <td>chinese calligraphy seals</td>\n",
       "      <td>name seals</td>\n",
       "      <td>63.27</td>\n",
       "      <td>True</td>\n",
       "      <td>name seals (印章)</td>\n",
       "    </tr>\n",
       "    <tr>\n",
       "      <th>94</th>\n",
       "      <td>Craft Chinese Chop Cinnabar Stamp Ink Pad</td>\n",
       "      <td>Craft Supplies &amp; Tools</td>\n",
       "      <td>9.0</td>\n",
       "      <td>0</td>\n",
       "      <td>0</td>\n",
       "      <td>0</td>\n",
       "      <td>0</td>\n",
       "      <td>0</td>\n",
       "      <td>0</td>\n",
       "      <td>[Craft Supplies &amp; Tools, Stamps &amp; Seals, Stamp...</td>\n",
       "      <td>...</td>\n",
       "      <td>False</td>\n",
       "      <td>False</td>\n",
       "      <td>WorldofBacara</td>\n",
       "      <td>https://www.etsy.com/listing/1533034599/craft-...</td>\n",
       "      <td>Upgrade Pro to Unlock</td>\n",
       "      <td>chinese calligraphy seals</td>\n",
       "      <td>name seals</td>\n",
       "      <td>9.00</td>\n",
       "      <td>False</td>\n",
       "      <td>name seals (印章)</td>\n",
       "    </tr>\n",
       "    <tr>\n",
       "      <th>43</th>\n",
       "      <td>Personalized Korean Name Stamp Dojang Customiz...</td>\n",
       "      <td>Craft Supplies &amp; Tools</td>\n",
       "      <td>45.99</td>\n",
       "      <td>0</td>\n",
       "      <td>16</td>\n",
       "      <td>0</td>\n",
       "      <td>0</td>\n",
       "      <td>65</td>\n",
       "      <td>0</td>\n",
       "      <td>[Square, Korean Name Stamp, Dojang, Korean Sta...</td>\n",
       "      <td>...</td>\n",
       "      <td>False</td>\n",
       "      <td>False</td>\n",
       "      <td>SemliCalligraphy</td>\n",
       "      <td>https://www.etsy.com/listing/703128950/persona...</td>\n",
       "      <td>Upgrade Pro to Unlock</td>\n",
       "      <td>chinese name stamps</td>\n",
       "      <td>name seals</td>\n",
       "      <td>45.99</td>\n",
       "      <td>True</td>\n",
       "      <td>name seals (印章)</td>\n",
       "    </tr>\n",
       "    <tr>\n",
       "      <th>215</th>\n",
       "      <td>Customized Chinese name stone seal (Oval)/ Chi...</td>\n",
       "      <td>Craft Supplies &amp; Tools</td>\n",
       "      <td>53.21</td>\n",
       "      <td>0</td>\n",
       "      <td>0</td>\n",
       "      <td>4</td>\n",
       "      <td>0</td>\n",
       "      <td>94</td>\n",
       "      <td>0</td>\n",
       "      <td>[Stone Seal, Seal, Stamps, Chinese, Oriental, ...</td>\n",
       "      <td>...</td>\n",
       "      <td>False</td>\n",
       "      <td>False</td>\n",
       "      <td>Baisimu</td>\n",
       "      <td>https://www.etsy.com/listing/603844244/customi...</td>\n",
       "      <td>Upgrade Pro to Unlock</td>\n",
       "      <td>chinese name stamps</td>\n",
       "      <td>name seals</td>\n",
       "      <td>53.21</td>\n",
       "      <td>False</td>\n",
       "      <td>name seals (印章)</td>\n",
       "    </tr>\n",
       "    <tr>\n",
       "      <th>227</th>\n",
       "      <td>Personal Name Seal / Seal Carving / Stone Seal...</td>\n",
       "      <td>Art &amp; Collectibles</td>\n",
       "      <td>25.95</td>\n",
       "      <td>0</td>\n",
       "      <td>0</td>\n",
       "      <td>25</td>\n",
       "      <td>0</td>\n",
       "      <td>408</td>\n",
       "      <td>0</td>\n",
       "      <td>[Chinese Seal, Personal Seal, Name Seal, Seal ...</td>\n",
       "      <td>...</td>\n",
       "      <td>False</td>\n",
       "      <td>False</td>\n",
       "      <td>CalligraphyforGod</td>\n",
       "      <td>https://www.etsy.com/listing/623856696/persona...</td>\n",
       "      <td>Upgrade Pro to Unlock</td>\n",
       "      <td>chinese name stamps</td>\n",
       "      <td>name seals</td>\n",
       "      <td>25.95</td>\n",
       "      <td>False</td>\n",
       "      <td>name seals (印章)</td>\n",
       "    </tr>\n",
       "  </tbody>\n",
       "</table>\n",
       "<p>3647 rows × 23 columns</p>\n",
       "</div>"
      ],
      "text/plain": [
       "                                                 Title  \\\n",
       "0    Jade Plate, Type A Genuine Jade, Customizable ...   \n",
       "1    Green/Pink Bangle set, 22k Gold Plated, White ...   \n",
       "2    Catholic Rosary Beads. Semi Precious Turquoise...   \n",
       "3    Seed Bead Stitching - Creative Variations On T...   \n",
       "4    Jade Plate, Type A Genuine Jade, Customizable ...   \n",
       "..                                                 ...   \n",
       "93   Vintage Boxed Pair of Chinese Stone Chop Seals...   \n",
       "94          Craft Chinese Chop Cinnabar Stamp Ink Pad    \n",
       "43   Personalized Korean Name Stamp Dojang Customiz...   \n",
       "215  Customized Chinese name stone seal (Oval)/ Chi...   \n",
       "227  Personal Name Seal / Seal Carving / Stone Seal...   \n",
       "\n",
       "                                              Category Price(\"$\")  \\\n",
       "0                               Craft Supplies & Tools     176.12   \n",
       "1                        Jewelry > Bracelets > Bangles       59.0   \n",
       "2    Home & Living > Spirituality & Religion > Pray...      59.99   \n",
       "3                               Craft Supplies & Tools       8.75   \n",
       "4                Jewelry > Necklaces > Charm Necklaces     251.88   \n",
       "..                                                 ...        ...   \n",
       "93   Home & Living > Home Decor > Ornaments & Accen...      63.27   \n",
       "94                              Craft Supplies & Tools        9.0   \n",
       "43                              Craft Supplies & Tools      45.99   \n",
       "215                             Craft Supplies & Tools      53.21   \n",
       "227                                 Art & Collectibles      25.95   \n",
       "\n",
       "     7-day sales  Total Sales  Total Reviews  7-day Reviews  Total Favorites  \\\n",
       "0              0            0              0              0                0   \n",
       "1              0            7              0              0               16   \n",
       "2              0            0              0              0               44   \n",
       "3              0            5              0              0                4   \n",
       "4              0            0              0              0                3   \n",
       "..           ...          ...            ...            ...              ...   \n",
       "93             0            3              0              0               12   \n",
       "94             0            0              0              0                0   \n",
       "43             0           16              0              0               65   \n",
       "215            0            0              4              0               94   \n",
       "227            0            0             25              0              408   \n",
       "\n",
       "     7-day Favorites                                               Tags  ...  \\\n",
       "0                  0  [Jade, Handmade, Traditional, Loose Stone, Loo...  ...   \n",
       "1                  0  [Bangles Set, Indian Bangles, Traditional Bang...  ...   \n",
       "2                  0  [Miraculous Mary, Womans Rosary, Catholic Gift...  ...   \n",
       "3                  0  [Beading Book, Beaded Necklace, Making Jewelry...  ...   \n",
       "4                  0  [Jade, Handmade, Traditional, Gemstones, Loose...  ...   \n",
       "..               ...                                                ...  ...   \n",
       "93                 0                                            [False]  ...   \n",
       "94                 0  [Craft Supplies & Tools, Stamps & Seals, Stamp...  ...   \n",
       "43                 0  [Square, Korean Name Stamp, Dojang, Korean Sta...  ...   \n",
       "215                0  [Stone Seal, Seal, Stamps, Chinese, Oriental, ...  ...   \n",
       "227                0  [Chinese Seal, Personal Seal, Name Seal, Seal ...  ...   \n",
       "\n",
       "    Etsy Pick Raving            Store Name  \\\n",
       "0       False  False      GranskyJewellery   \n",
       "1       False  False         NemaliJewelry   \n",
       "2       False  False       RosariesByHeidi   \n",
       "3       False  False           NeedANeedle   \n",
       "4       False  False      GranskyJewellery   \n",
       "..        ...    ...                   ...   \n",
       "93      False  False  VintageVarietyStudio   \n",
       "94      False  False         WorldofBacara   \n",
       "43      False  False      SemliCalligraphy   \n",
       "215     False  False               Baisimu   \n",
       "227     False  False     CalligraphyforGod   \n",
       "\n",
       "                                           Product URL              Image URL  \\\n",
       "0    https://www.etsy.com/listing/1632492895/jade-p...  Upgrade Pro to Unlock   \n",
       "1    https://www.etsy.com/listing/762738828/greenpi...  Upgrade Pro to Unlock   \n",
       "2    https://www.etsy.com/listing/587645665/catholi...  Upgrade Pro to Unlock   \n",
       "3    https://www.etsy.com/listing/1024845656/seed-b...  Upgrade Pro to Unlock   \n",
       "4    https://www.etsy.com/listing/1475770717/jade-p...  Upgrade Pro to Unlock   \n",
       "..                                                 ...                    ...   \n",
       "93   https://www.etsy.com/listing/1292904295/vintag...  Upgrade Pro to Unlock   \n",
       "94   https://www.etsy.com/listing/1533034599/craft-...  Upgrade Pro to Unlock   \n",
       "43   https://www.etsy.com/listing/703128950/persona...  Upgrade Pro to Unlock   \n",
       "215  https://www.etsy.com/listing/603844244/customi...  Upgrade Pro to Unlock   \n",
       "227  https://www.etsy.com/listing/623856696/persona...  Upgrade Pro to Unlock   \n",
       "\n",
       "                        search_term                  product_name   price  \\\n",
       "0    traditional stone bead jewelry  bead bracelets and necklaces  176.12   \n",
       "1    traditional stone bead jewelry  bead bracelets and necklaces   59.00   \n",
       "2    traditional stone bead jewelry  bead bracelets and necklaces   59.99   \n",
       "3    traditional stone bead jewelry  bead bracelets and necklaces    8.75   \n",
       "4    traditional stone bead jewelry  bead bracelets and necklaces  251.88   \n",
       "..                              ...                           ...     ...   \n",
       "93        chinese calligraphy seals                    name seals   63.27   \n",
       "94        chinese calligraphy seals                    name seals    9.00   \n",
       "43              chinese name stamps                    name seals   45.99   \n",
       "215             chinese name stamps                    name seals   53.21   \n",
       "227             chinese name stamps                    name seals   25.95   \n",
       "\n",
       "    has_sales               product_name_chinese_name  \n",
       "0       False  bead bracelets and necklaces (珠子手链和项链)  \n",
       "1        True  bead bracelets and necklaces (珠子手链和项链)  \n",
       "2       False  bead bracelets and necklaces (珠子手链和项链)  \n",
       "3        True  bead bracelets and necklaces (珠子手链和项链)  \n",
       "4       False  bead bracelets and necklaces (珠子手链和项链)  \n",
       "..        ...                                     ...  \n",
       "93       True                         name seals (印章)  \n",
       "94      False                         name seals (印章)  \n",
       "43       True                         name seals (印章)  \n",
       "215     False                         name seals (印章)  \n",
       "227     False                         name seals (印章)  \n",
       "\n",
       "[3647 rows x 23 columns]"
      ]
     },
     "execution_count": 8,
     "metadata": {},
     "output_type": "execute_result"
    }
   ],
   "source": [
    "all_product_data"
   ]
  },
  {
   "cell_type": "code",
   "execution_count": 9,
   "metadata": {},
   "outputs": [],
   "source": [
    "# Output the data to a CSV file\n",
    "all_product_data.to_csv(config[\"output_folder\"] + \"all_product_data.csv\", index=False)"
   ]
  },
  {
   "cell_type": "code",
   "execution_count": 10,
   "metadata": {},
   "outputs": [],
   "source": [
    "def to_html(fig, file_name: str):\n",
    "    \"\"\"Save a Plotly figure to an HTML file.\"\"\"\n",
    "    plot(fig, filename=file_name)\n",
    "\n",
    "\n",
    "def format_col_for_title(col: str) -> str:\n",
    "    \"\"\"Format a column name for a title.\"\"\"\n",
    "    return \" \".join(col.split(\"_\")).title()\n",
    "\n",
    "\n",
    "def plot_violin_plotly(data, x, y, remove_outliers=False):\n",
    "    if remove_outliers:\n",
    "        # Calculate the 1st and 3rd quartiles\n",
    "        q1 = data[x].quantile(0.25)\n",
    "        q3 = data[x].quantile(0.75)\n",
    "\n",
    "        # Calculate the interquartile range (IQR)\n",
    "        iqr = q3 - q1\n",
    "\n",
    "        # Define the lower and upper bounds for outliers\n",
    "        lower_bound = q1 - 1.5 * iqr\n",
    "        upper_bound = q3 + 1.5 * iqr\n",
    "\n",
    "        # Filter the data to remove outliers\n",
    "        data = data[(data[x] >= lower_bound) & (data[x] <= upper_bound)]\n",
    "\n",
    "    fig = go.Figure(\n",
    "        data=go.Violin(\n",
    "            x=data[x],\n",
    "            y=data[y],\n",
    "            orientation=\"h\",\n",
    "            box_visible=True,\n",
    "            meanline_visible=True,\n",
    "            points=None,\n",
    "            spanmode=\"hard\",\n",
    "        )\n",
    "    )\n",
    "\n",
    "    x_label = format_col_for_title(x)\n",
    "    y_label = format_col_for_title(y)\n",
    "\n",
    "    fig.update_layout(\n",
    "        title=f\"Violin Plot of {x_label} by {y_label}\",\n",
    "        xaxis_title=x_label,\n",
    "        yaxis_title=y_label,\n",
    "        template=\"simple_white\",\n",
    "    )\n",
    "\n",
    "    return fig\n",
    "\n",
    "\n",
    "def plot_bar_chart_plotly(\n",
    "    data, x, y, sorted=True, title=None, x_label=None, y_label=None\n",
    "):\n",
    "    if sorted:\n",
    "        data = data.sort_values(by=y, ascending=False)\n",
    "    fig = go.Figure(\n",
    "        go.Bar(\n",
    "            x=data[x],\n",
    "            y=data[y],\n",
    "            name=format_col_for_title(y),\n",
    "            text=data[y],\n",
    "            textposition=\"auto\",\n",
    "        )\n",
    "    )\n",
    "    fig.update_layout(\n",
    "        title=f\"Bar Chart of {format_col_for_title(y)} by {format_col_for_title(x)}\",\n",
    "        xaxis_title=format_col_for_title(x) if x_label is None else x_label,\n",
    "        yaxis_title=format_col_for_title(y) if y_label is None else y_label,\n",
    "        template=\"simple_white\",\n",
    "    )\n",
    "    if title:\n",
    "        fig.update_layout(title=title)\n",
    "\n",
    "    fig.update_traces(texttemplate=\"%{text:.2f}\")\n",
    "    return fig"
   ]
  },
  {
   "cell_type": "code",
   "execution_count": 11,
   "metadata": {},
   "outputs": [
    {
     "data": {
      "application/vnd.plotly.v1+json": {
       "config": {
        "plotlyServerURL": "https://plot.ly"
       },
       "data": [
        {
         "name": "Price",
         "text": [
          52.25,
          38,
          31.99,
          31.82,
          29.75,
          27.47,
          21.52,
          21.29,
          21.25,
          15.235,
          11,
          4.72,
          4.5
         ],
         "textposition": "auto",
         "texttemplate": "%{text:.2f}",
         "type": "bar",
         "x": [
          "chinese pottery (中国陶器)",
          "bead bracelets and necklaces (珠子手链和项链)",
          "name seals (印章)",
          "calligraphy prints (书法印刷品)",
          "chinese incense (中国香)",
          "brushes and calligraphy tools (笔和书法工具)",
          "chinese mid autumn gift sets (中秋节礼品套装)",
          "paper lanterns (纸灯笼)",
          "chinese bamboo art (中国竹艺)",
          "chinese bookmarks (中国书签)",
          "chinese magnets (中国冰箱贴)",
          "chinese art stickers (中国艺术贴纸)",
          "chinese washi tape (中国和纸胶带)"
         ],
         "y": [
          52.25,
          38,
          31.99,
          31.82,
          29.75,
          27.47,
          21.52,
          21.29,
          21.25,
          15.235,
          11,
          4.72,
          4.5
         ]
        }
       ],
       "layout": {
        "template": {
         "data": {
          "bar": [
           {
            "error_x": {
             "color": "rgb(36,36,36)"
            },
            "error_y": {
             "color": "rgb(36,36,36)"
            },
            "marker": {
             "line": {
              "color": "white",
              "width": 0.5
             },
             "pattern": {
              "fillmode": "overlay",
              "size": 10,
              "solidity": 0.2
             }
            },
            "type": "bar"
           }
          ],
          "barpolar": [
           {
            "marker": {
             "line": {
              "color": "white",
              "width": 0.5
             },
             "pattern": {
              "fillmode": "overlay",
              "size": 10,
              "solidity": 0.2
             }
            },
            "type": "barpolar"
           }
          ],
          "carpet": [
           {
            "aaxis": {
             "endlinecolor": "rgb(36,36,36)",
             "gridcolor": "white",
             "linecolor": "white",
             "minorgridcolor": "white",
             "startlinecolor": "rgb(36,36,36)"
            },
            "baxis": {
             "endlinecolor": "rgb(36,36,36)",
             "gridcolor": "white",
             "linecolor": "white",
             "minorgridcolor": "white",
             "startlinecolor": "rgb(36,36,36)"
            },
            "type": "carpet"
           }
          ],
          "choropleth": [
           {
            "colorbar": {
             "outlinewidth": 1,
             "tickcolor": "rgb(36,36,36)",
             "ticks": "outside"
            },
            "type": "choropleth"
           }
          ],
          "contour": [
           {
            "colorbar": {
             "outlinewidth": 1,
             "tickcolor": "rgb(36,36,36)",
             "ticks": "outside"
            },
            "colorscale": [
             [
              0,
              "#440154"
             ],
             [
              0.1111111111111111,
              "#482878"
             ],
             [
              0.2222222222222222,
              "#3e4989"
             ],
             [
              0.3333333333333333,
              "#31688e"
             ],
             [
              0.4444444444444444,
              "#26828e"
             ],
             [
              0.5555555555555556,
              "#1f9e89"
             ],
             [
              0.6666666666666666,
              "#35b779"
             ],
             [
              0.7777777777777778,
              "#6ece58"
             ],
             [
              0.8888888888888888,
              "#b5de2b"
             ],
             [
              1,
              "#fde725"
             ]
            ],
            "type": "contour"
           }
          ],
          "contourcarpet": [
           {
            "colorbar": {
             "outlinewidth": 1,
             "tickcolor": "rgb(36,36,36)",
             "ticks": "outside"
            },
            "type": "contourcarpet"
           }
          ],
          "heatmap": [
           {
            "colorbar": {
             "outlinewidth": 1,
             "tickcolor": "rgb(36,36,36)",
             "ticks": "outside"
            },
            "colorscale": [
             [
              0,
              "#440154"
             ],
             [
              0.1111111111111111,
              "#482878"
             ],
             [
              0.2222222222222222,
              "#3e4989"
             ],
             [
              0.3333333333333333,
              "#31688e"
             ],
             [
              0.4444444444444444,
              "#26828e"
             ],
             [
              0.5555555555555556,
              "#1f9e89"
             ],
             [
              0.6666666666666666,
              "#35b779"
             ],
             [
              0.7777777777777778,
              "#6ece58"
             ],
             [
              0.8888888888888888,
              "#b5de2b"
             ],
             [
              1,
              "#fde725"
             ]
            ],
            "type": "heatmap"
           }
          ],
          "heatmapgl": [
           {
            "colorbar": {
             "outlinewidth": 1,
             "tickcolor": "rgb(36,36,36)",
             "ticks": "outside"
            },
            "colorscale": [
             [
              0,
              "#440154"
             ],
             [
              0.1111111111111111,
              "#482878"
             ],
             [
              0.2222222222222222,
              "#3e4989"
             ],
             [
              0.3333333333333333,
              "#31688e"
             ],
             [
              0.4444444444444444,
              "#26828e"
             ],
             [
              0.5555555555555556,
              "#1f9e89"
             ],
             [
              0.6666666666666666,
              "#35b779"
             ],
             [
              0.7777777777777778,
              "#6ece58"
             ],
             [
              0.8888888888888888,
              "#b5de2b"
             ],
             [
              1,
              "#fde725"
             ]
            ],
            "type": "heatmapgl"
           }
          ],
          "histogram": [
           {
            "marker": {
             "line": {
              "color": "white",
              "width": 0.6
             }
            },
            "type": "histogram"
           }
          ],
          "histogram2d": [
           {
            "colorbar": {
             "outlinewidth": 1,
             "tickcolor": "rgb(36,36,36)",
             "ticks": "outside"
            },
            "colorscale": [
             [
              0,
              "#440154"
             ],
             [
              0.1111111111111111,
              "#482878"
             ],
             [
              0.2222222222222222,
              "#3e4989"
             ],
             [
              0.3333333333333333,
              "#31688e"
             ],
             [
              0.4444444444444444,
              "#26828e"
             ],
             [
              0.5555555555555556,
              "#1f9e89"
             ],
             [
              0.6666666666666666,
              "#35b779"
             ],
             [
              0.7777777777777778,
              "#6ece58"
             ],
             [
              0.8888888888888888,
              "#b5de2b"
             ],
             [
              1,
              "#fde725"
             ]
            ],
            "type": "histogram2d"
           }
          ],
          "histogram2dcontour": [
           {
            "colorbar": {
             "outlinewidth": 1,
             "tickcolor": "rgb(36,36,36)",
             "ticks": "outside"
            },
            "colorscale": [
             [
              0,
              "#440154"
             ],
             [
              0.1111111111111111,
              "#482878"
             ],
             [
              0.2222222222222222,
              "#3e4989"
             ],
             [
              0.3333333333333333,
              "#31688e"
             ],
             [
              0.4444444444444444,
              "#26828e"
             ],
             [
              0.5555555555555556,
              "#1f9e89"
             ],
             [
              0.6666666666666666,
              "#35b779"
             ],
             [
              0.7777777777777778,
              "#6ece58"
             ],
             [
              0.8888888888888888,
              "#b5de2b"
             ],
             [
              1,
              "#fde725"
             ]
            ],
            "type": "histogram2dcontour"
           }
          ],
          "mesh3d": [
           {
            "colorbar": {
             "outlinewidth": 1,
             "tickcolor": "rgb(36,36,36)",
             "ticks": "outside"
            },
            "type": "mesh3d"
           }
          ],
          "parcoords": [
           {
            "line": {
             "colorbar": {
              "outlinewidth": 1,
              "tickcolor": "rgb(36,36,36)",
              "ticks": "outside"
             }
            },
            "type": "parcoords"
           }
          ],
          "pie": [
           {
            "automargin": true,
            "type": "pie"
           }
          ],
          "scatter": [
           {
            "fillpattern": {
             "fillmode": "overlay",
             "size": 10,
             "solidity": 0.2
            },
            "type": "scatter"
           }
          ],
          "scatter3d": [
           {
            "line": {
             "colorbar": {
              "outlinewidth": 1,
              "tickcolor": "rgb(36,36,36)",
              "ticks": "outside"
             }
            },
            "marker": {
             "colorbar": {
              "outlinewidth": 1,
              "tickcolor": "rgb(36,36,36)",
              "ticks": "outside"
             }
            },
            "type": "scatter3d"
           }
          ],
          "scattercarpet": [
           {
            "marker": {
             "colorbar": {
              "outlinewidth": 1,
              "tickcolor": "rgb(36,36,36)",
              "ticks": "outside"
             }
            },
            "type": "scattercarpet"
           }
          ],
          "scattergeo": [
           {
            "marker": {
             "colorbar": {
              "outlinewidth": 1,
              "tickcolor": "rgb(36,36,36)",
              "ticks": "outside"
             }
            },
            "type": "scattergeo"
           }
          ],
          "scattergl": [
           {
            "marker": {
             "colorbar": {
              "outlinewidth": 1,
              "tickcolor": "rgb(36,36,36)",
              "ticks": "outside"
             }
            },
            "type": "scattergl"
           }
          ],
          "scattermapbox": [
           {
            "marker": {
             "colorbar": {
              "outlinewidth": 1,
              "tickcolor": "rgb(36,36,36)",
              "ticks": "outside"
             }
            },
            "type": "scattermapbox"
           }
          ],
          "scatterpolar": [
           {
            "marker": {
             "colorbar": {
              "outlinewidth": 1,
              "tickcolor": "rgb(36,36,36)",
              "ticks": "outside"
             }
            },
            "type": "scatterpolar"
           }
          ],
          "scatterpolargl": [
           {
            "marker": {
             "colorbar": {
              "outlinewidth": 1,
              "tickcolor": "rgb(36,36,36)",
              "ticks": "outside"
             }
            },
            "type": "scatterpolargl"
           }
          ],
          "scatterternary": [
           {
            "marker": {
             "colorbar": {
              "outlinewidth": 1,
              "tickcolor": "rgb(36,36,36)",
              "ticks": "outside"
             }
            },
            "type": "scatterternary"
           }
          ],
          "surface": [
           {
            "colorbar": {
             "outlinewidth": 1,
             "tickcolor": "rgb(36,36,36)",
             "ticks": "outside"
            },
            "colorscale": [
             [
              0,
              "#440154"
             ],
             [
              0.1111111111111111,
              "#482878"
             ],
             [
              0.2222222222222222,
              "#3e4989"
             ],
             [
              0.3333333333333333,
              "#31688e"
             ],
             [
              0.4444444444444444,
              "#26828e"
             ],
             [
              0.5555555555555556,
              "#1f9e89"
             ],
             [
              0.6666666666666666,
              "#35b779"
             ],
             [
              0.7777777777777778,
              "#6ece58"
             ],
             [
              0.8888888888888888,
              "#b5de2b"
             ],
             [
              1,
              "#fde725"
             ]
            ],
            "type": "surface"
           }
          ],
          "table": [
           {
            "cells": {
             "fill": {
              "color": "rgb(237,237,237)"
             },
             "line": {
              "color": "white"
             }
            },
            "header": {
             "fill": {
              "color": "rgb(217,217,217)"
             },
             "line": {
              "color": "white"
             }
            },
            "type": "table"
           }
          ]
         },
         "layout": {
          "annotationdefaults": {
           "arrowhead": 0,
           "arrowwidth": 1
          },
          "autotypenumbers": "strict",
          "coloraxis": {
           "colorbar": {
            "outlinewidth": 1,
            "tickcolor": "rgb(36,36,36)",
            "ticks": "outside"
           }
          },
          "colorscale": {
           "diverging": [
            [
             0,
             "rgb(103,0,31)"
            ],
            [
             0.1,
             "rgb(178,24,43)"
            ],
            [
             0.2,
             "rgb(214,96,77)"
            ],
            [
             0.3,
             "rgb(244,165,130)"
            ],
            [
             0.4,
             "rgb(253,219,199)"
            ],
            [
             0.5,
             "rgb(247,247,247)"
            ],
            [
             0.6,
             "rgb(209,229,240)"
            ],
            [
             0.7,
             "rgb(146,197,222)"
            ],
            [
             0.8,
             "rgb(67,147,195)"
            ],
            [
             0.9,
             "rgb(33,102,172)"
            ],
            [
             1,
             "rgb(5,48,97)"
            ]
           ],
           "sequential": [
            [
             0,
             "#440154"
            ],
            [
             0.1111111111111111,
             "#482878"
            ],
            [
             0.2222222222222222,
             "#3e4989"
            ],
            [
             0.3333333333333333,
             "#31688e"
            ],
            [
             0.4444444444444444,
             "#26828e"
            ],
            [
             0.5555555555555556,
             "#1f9e89"
            ],
            [
             0.6666666666666666,
             "#35b779"
            ],
            [
             0.7777777777777778,
             "#6ece58"
            ],
            [
             0.8888888888888888,
             "#b5de2b"
            ],
            [
             1,
             "#fde725"
            ]
           ],
           "sequentialminus": [
            [
             0,
             "#440154"
            ],
            [
             0.1111111111111111,
             "#482878"
            ],
            [
             0.2222222222222222,
             "#3e4989"
            ],
            [
             0.3333333333333333,
             "#31688e"
            ],
            [
             0.4444444444444444,
             "#26828e"
            ],
            [
             0.5555555555555556,
             "#1f9e89"
            ],
            [
             0.6666666666666666,
             "#35b779"
            ],
            [
             0.7777777777777778,
             "#6ece58"
            ],
            [
             0.8888888888888888,
             "#b5de2b"
            ],
            [
             1,
             "#fde725"
            ]
           ]
          },
          "colorway": [
           "#1F77B4",
           "#FF7F0E",
           "#2CA02C",
           "#D62728",
           "#9467BD",
           "#8C564B",
           "#E377C2",
           "#7F7F7F",
           "#BCBD22",
           "#17BECF"
          ],
          "font": {
           "color": "rgb(36,36,36)"
          },
          "geo": {
           "bgcolor": "white",
           "lakecolor": "white",
           "landcolor": "white",
           "showlakes": true,
           "showland": true,
           "subunitcolor": "white"
          },
          "hoverlabel": {
           "align": "left"
          },
          "hovermode": "closest",
          "mapbox": {
           "style": "light"
          },
          "paper_bgcolor": "white",
          "plot_bgcolor": "white",
          "polar": {
           "angularaxis": {
            "gridcolor": "rgb(232,232,232)",
            "linecolor": "rgb(36,36,36)",
            "showgrid": false,
            "showline": true,
            "ticks": "outside"
           },
           "bgcolor": "white",
           "radialaxis": {
            "gridcolor": "rgb(232,232,232)",
            "linecolor": "rgb(36,36,36)",
            "showgrid": false,
            "showline": true,
            "ticks": "outside"
           }
          },
          "scene": {
           "xaxis": {
            "backgroundcolor": "white",
            "gridcolor": "rgb(232,232,232)",
            "gridwidth": 2,
            "linecolor": "rgb(36,36,36)",
            "showbackground": true,
            "showgrid": false,
            "showline": true,
            "ticks": "outside",
            "zeroline": false,
            "zerolinecolor": "rgb(36,36,36)"
           },
           "yaxis": {
            "backgroundcolor": "white",
            "gridcolor": "rgb(232,232,232)",
            "gridwidth": 2,
            "linecolor": "rgb(36,36,36)",
            "showbackground": true,
            "showgrid": false,
            "showline": true,
            "ticks": "outside",
            "zeroline": false,
            "zerolinecolor": "rgb(36,36,36)"
           },
           "zaxis": {
            "backgroundcolor": "white",
            "gridcolor": "rgb(232,232,232)",
            "gridwidth": 2,
            "linecolor": "rgb(36,36,36)",
            "showbackground": true,
            "showgrid": false,
            "showline": true,
            "ticks": "outside",
            "zeroline": false,
            "zerolinecolor": "rgb(36,36,36)"
           }
          },
          "shapedefaults": {
           "fillcolor": "black",
           "line": {
            "width": 0
           },
           "opacity": 0.3
          },
          "ternary": {
           "aaxis": {
            "gridcolor": "rgb(232,232,232)",
            "linecolor": "rgb(36,36,36)",
            "showgrid": false,
            "showline": true,
            "ticks": "outside"
           },
           "baxis": {
            "gridcolor": "rgb(232,232,232)",
            "linecolor": "rgb(36,36,36)",
            "showgrid": false,
            "showline": true,
            "ticks": "outside"
           },
           "bgcolor": "white",
           "caxis": {
            "gridcolor": "rgb(232,232,232)",
            "linecolor": "rgb(36,36,36)",
            "showgrid": false,
            "showline": true,
            "ticks": "outside"
           }
          },
          "title": {
           "x": 0.05
          },
          "xaxis": {
           "automargin": true,
           "gridcolor": "rgb(232,232,232)",
           "linecolor": "rgb(36,36,36)",
           "showgrid": false,
           "showline": true,
           "ticks": "outside",
           "title": {
            "standoff": 15
           },
           "zeroline": false,
           "zerolinecolor": "rgb(36,36,36)"
          },
          "yaxis": {
           "automargin": true,
           "gridcolor": "rgb(232,232,232)",
           "linecolor": "rgb(36,36,36)",
           "showgrid": false,
           "showline": true,
           "ticks": "outside",
           "title": {
            "standoff": 15
           },
           "zeroline": false,
           "zerolinecolor": "rgb(36,36,36)"
          }
         }
        },
        "title": {
         "text": "Median Price by Product （产品价格中位数）"
        },
        "xaxis": {
         "title": {
          "text": "Product Name"
         }
        },
        "yaxis": {
         "title": {
          "text": "Median Price ($)"
         }
        }
       }
      }
     },
     "metadata": {},
     "output_type": "display_data"
    }
   ],
   "source": [
    "# Median price by product\n",
    "fig = plot_bar_chart_plotly(\n",
    "    all_product_data.groupby(\"product_name_chinese_name\")\n",
    "    .agg({\"price\": \"median\"})\n",
    "    .reset_index(),\n",
    "    x=\"product_name_chinese_name\",\n",
    "    y=\"price\",\n",
    "    title=\"Median Price by Product （产品价格中位数）\",\n",
    "    x_label=\"Product Name\",\n",
    "    y_label=\"Median Price ($)\",\n",
    ")\n",
    "\n",
    "fig.show()"
   ]
  },
  {
   "cell_type": "code",
   "execution_count": 12,
   "metadata": {},
   "outputs": [
    {
     "data": {
      "application/vnd.plotly.v1+json": {
       "config": {
        "plotlyServerURL": "https://plot.ly"
       },
       "data": [
        {
         "name": "Total Sales",
         "text": [
          9,
          7,
          3,
          2,
          1.5,
          1,
          1,
          0,
          0,
          0,
          0,
          0,
          0
         ],
         "textposition": "auto",
         "texttemplate": "%{text:.2f}",
         "type": "bar",
         "x": [
          "chinese washi tape (中国和纸胶带)",
          "chinese magnets (中国冰箱贴)",
          "chinese mid autumn gift sets (中秋节礼品套装)",
          "chinese art stickers (中国艺术贴纸)",
          "chinese bookmarks (中国书签)",
          "brushes and calligraphy tools (笔和书法工具)",
          "name seals (印章)",
          "bead bracelets and necklaces (珠子手链和项链)",
          "calligraphy prints (书法印刷品)",
          "chinese bamboo art (中国竹艺)",
          "chinese incense (中国香)",
          "chinese pottery (中国陶器)",
          "paper lanterns (纸灯笼)"
         ],
         "y": [
          9,
          7,
          3,
          2,
          1.5,
          1,
          1,
          0,
          0,
          0,
          0,
          0,
          0
         ]
        }
       ],
       "layout": {
        "template": {
         "data": {
          "bar": [
           {
            "error_x": {
             "color": "rgb(36,36,36)"
            },
            "error_y": {
             "color": "rgb(36,36,36)"
            },
            "marker": {
             "line": {
              "color": "white",
              "width": 0.5
             },
             "pattern": {
              "fillmode": "overlay",
              "size": 10,
              "solidity": 0.2
             }
            },
            "type": "bar"
           }
          ],
          "barpolar": [
           {
            "marker": {
             "line": {
              "color": "white",
              "width": 0.5
             },
             "pattern": {
              "fillmode": "overlay",
              "size": 10,
              "solidity": 0.2
             }
            },
            "type": "barpolar"
           }
          ],
          "carpet": [
           {
            "aaxis": {
             "endlinecolor": "rgb(36,36,36)",
             "gridcolor": "white",
             "linecolor": "white",
             "minorgridcolor": "white",
             "startlinecolor": "rgb(36,36,36)"
            },
            "baxis": {
             "endlinecolor": "rgb(36,36,36)",
             "gridcolor": "white",
             "linecolor": "white",
             "minorgridcolor": "white",
             "startlinecolor": "rgb(36,36,36)"
            },
            "type": "carpet"
           }
          ],
          "choropleth": [
           {
            "colorbar": {
             "outlinewidth": 1,
             "tickcolor": "rgb(36,36,36)",
             "ticks": "outside"
            },
            "type": "choropleth"
           }
          ],
          "contour": [
           {
            "colorbar": {
             "outlinewidth": 1,
             "tickcolor": "rgb(36,36,36)",
             "ticks": "outside"
            },
            "colorscale": [
             [
              0,
              "#440154"
             ],
             [
              0.1111111111111111,
              "#482878"
             ],
             [
              0.2222222222222222,
              "#3e4989"
             ],
             [
              0.3333333333333333,
              "#31688e"
             ],
             [
              0.4444444444444444,
              "#26828e"
             ],
             [
              0.5555555555555556,
              "#1f9e89"
             ],
             [
              0.6666666666666666,
              "#35b779"
             ],
             [
              0.7777777777777778,
              "#6ece58"
             ],
             [
              0.8888888888888888,
              "#b5de2b"
             ],
             [
              1,
              "#fde725"
             ]
            ],
            "type": "contour"
           }
          ],
          "contourcarpet": [
           {
            "colorbar": {
             "outlinewidth": 1,
             "tickcolor": "rgb(36,36,36)",
             "ticks": "outside"
            },
            "type": "contourcarpet"
           }
          ],
          "heatmap": [
           {
            "colorbar": {
             "outlinewidth": 1,
             "tickcolor": "rgb(36,36,36)",
             "ticks": "outside"
            },
            "colorscale": [
             [
              0,
              "#440154"
             ],
             [
              0.1111111111111111,
              "#482878"
             ],
             [
              0.2222222222222222,
              "#3e4989"
             ],
             [
              0.3333333333333333,
              "#31688e"
             ],
             [
              0.4444444444444444,
              "#26828e"
             ],
             [
              0.5555555555555556,
              "#1f9e89"
             ],
             [
              0.6666666666666666,
              "#35b779"
             ],
             [
              0.7777777777777778,
              "#6ece58"
             ],
             [
              0.8888888888888888,
              "#b5de2b"
             ],
             [
              1,
              "#fde725"
             ]
            ],
            "type": "heatmap"
           }
          ],
          "heatmapgl": [
           {
            "colorbar": {
             "outlinewidth": 1,
             "tickcolor": "rgb(36,36,36)",
             "ticks": "outside"
            },
            "colorscale": [
             [
              0,
              "#440154"
             ],
             [
              0.1111111111111111,
              "#482878"
             ],
             [
              0.2222222222222222,
              "#3e4989"
             ],
             [
              0.3333333333333333,
              "#31688e"
             ],
             [
              0.4444444444444444,
              "#26828e"
             ],
             [
              0.5555555555555556,
              "#1f9e89"
             ],
             [
              0.6666666666666666,
              "#35b779"
             ],
             [
              0.7777777777777778,
              "#6ece58"
             ],
             [
              0.8888888888888888,
              "#b5de2b"
             ],
             [
              1,
              "#fde725"
             ]
            ],
            "type": "heatmapgl"
           }
          ],
          "histogram": [
           {
            "marker": {
             "line": {
              "color": "white",
              "width": 0.6
             }
            },
            "type": "histogram"
           }
          ],
          "histogram2d": [
           {
            "colorbar": {
             "outlinewidth": 1,
             "tickcolor": "rgb(36,36,36)",
             "ticks": "outside"
            },
            "colorscale": [
             [
              0,
              "#440154"
             ],
             [
              0.1111111111111111,
              "#482878"
             ],
             [
              0.2222222222222222,
              "#3e4989"
             ],
             [
              0.3333333333333333,
              "#31688e"
             ],
             [
              0.4444444444444444,
              "#26828e"
             ],
             [
              0.5555555555555556,
              "#1f9e89"
             ],
             [
              0.6666666666666666,
              "#35b779"
             ],
             [
              0.7777777777777778,
              "#6ece58"
             ],
             [
              0.8888888888888888,
              "#b5de2b"
             ],
             [
              1,
              "#fde725"
             ]
            ],
            "type": "histogram2d"
           }
          ],
          "histogram2dcontour": [
           {
            "colorbar": {
             "outlinewidth": 1,
             "tickcolor": "rgb(36,36,36)",
             "ticks": "outside"
            },
            "colorscale": [
             [
              0,
              "#440154"
             ],
             [
              0.1111111111111111,
              "#482878"
             ],
             [
              0.2222222222222222,
              "#3e4989"
             ],
             [
              0.3333333333333333,
              "#31688e"
             ],
             [
              0.4444444444444444,
              "#26828e"
             ],
             [
              0.5555555555555556,
              "#1f9e89"
             ],
             [
              0.6666666666666666,
              "#35b779"
             ],
             [
              0.7777777777777778,
              "#6ece58"
             ],
             [
              0.8888888888888888,
              "#b5de2b"
             ],
             [
              1,
              "#fde725"
             ]
            ],
            "type": "histogram2dcontour"
           }
          ],
          "mesh3d": [
           {
            "colorbar": {
             "outlinewidth": 1,
             "tickcolor": "rgb(36,36,36)",
             "ticks": "outside"
            },
            "type": "mesh3d"
           }
          ],
          "parcoords": [
           {
            "line": {
             "colorbar": {
              "outlinewidth": 1,
              "tickcolor": "rgb(36,36,36)",
              "ticks": "outside"
             }
            },
            "type": "parcoords"
           }
          ],
          "pie": [
           {
            "automargin": true,
            "type": "pie"
           }
          ],
          "scatter": [
           {
            "fillpattern": {
             "fillmode": "overlay",
             "size": 10,
             "solidity": 0.2
            },
            "type": "scatter"
           }
          ],
          "scatter3d": [
           {
            "line": {
             "colorbar": {
              "outlinewidth": 1,
              "tickcolor": "rgb(36,36,36)",
              "ticks": "outside"
             }
            },
            "marker": {
             "colorbar": {
              "outlinewidth": 1,
              "tickcolor": "rgb(36,36,36)",
              "ticks": "outside"
             }
            },
            "type": "scatter3d"
           }
          ],
          "scattercarpet": [
           {
            "marker": {
             "colorbar": {
              "outlinewidth": 1,
              "tickcolor": "rgb(36,36,36)",
              "ticks": "outside"
             }
            },
            "type": "scattercarpet"
           }
          ],
          "scattergeo": [
           {
            "marker": {
             "colorbar": {
              "outlinewidth": 1,
              "tickcolor": "rgb(36,36,36)",
              "ticks": "outside"
             }
            },
            "type": "scattergeo"
           }
          ],
          "scattergl": [
           {
            "marker": {
             "colorbar": {
              "outlinewidth": 1,
              "tickcolor": "rgb(36,36,36)",
              "ticks": "outside"
             }
            },
            "type": "scattergl"
           }
          ],
          "scattermapbox": [
           {
            "marker": {
             "colorbar": {
              "outlinewidth": 1,
              "tickcolor": "rgb(36,36,36)",
              "ticks": "outside"
             }
            },
            "type": "scattermapbox"
           }
          ],
          "scatterpolar": [
           {
            "marker": {
             "colorbar": {
              "outlinewidth": 1,
              "tickcolor": "rgb(36,36,36)",
              "ticks": "outside"
             }
            },
            "type": "scatterpolar"
           }
          ],
          "scatterpolargl": [
           {
            "marker": {
             "colorbar": {
              "outlinewidth": 1,
              "tickcolor": "rgb(36,36,36)",
              "ticks": "outside"
             }
            },
            "type": "scatterpolargl"
           }
          ],
          "scatterternary": [
           {
            "marker": {
             "colorbar": {
              "outlinewidth": 1,
              "tickcolor": "rgb(36,36,36)",
              "ticks": "outside"
             }
            },
            "type": "scatterternary"
           }
          ],
          "surface": [
           {
            "colorbar": {
             "outlinewidth": 1,
             "tickcolor": "rgb(36,36,36)",
             "ticks": "outside"
            },
            "colorscale": [
             [
              0,
              "#440154"
             ],
             [
              0.1111111111111111,
              "#482878"
             ],
             [
              0.2222222222222222,
              "#3e4989"
             ],
             [
              0.3333333333333333,
              "#31688e"
             ],
             [
              0.4444444444444444,
              "#26828e"
             ],
             [
              0.5555555555555556,
              "#1f9e89"
             ],
             [
              0.6666666666666666,
              "#35b779"
             ],
             [
              0.7777777777777778,
              "#6ece58"
             ],
             [
              0.8888888888888888,
              "#b5de2b"
             ],
             [
              1,
              "#fde725"
             ]
            ],
            "type": "surface"
           }
          ],
          "table": [
           {
            "cells": {
             "fill": {
              "color": "rgb(237,237,237)"
             },
             "line": {
              "color": "white"
             }
            },
            "header": {
             "fill": {
              "color": "rgb(217,217,217)"
             },
             "line": {
              "color": "white"
             }
            },
            "type": "table"
           }
          ]
         },
         "layout": {
          "annotationdefaults": {
           "arrowhead": 0,
           "arrowwidth": 1
          },
          "autotypenumbers": "strict",
          "coloraxis": {
           "colorbar": {
            "outlinewidth": 1,
            "tickcolor": "rgb(36,36,36)",
            "ticks": "outside"
           }
          },
          "colorscale": {
           "diverging": [
            [
             0,
             "rgb(103,0,31)"
            ],
            [
             0.1,
             "rgb(178,24,43)"
            ],
            [
             0.2,
             "rgb(214,96,77)"
            ],
            [
             0.3,
             "rgb(244,165,130)"
            ],
            [
             0.4,
             "rgb(253,219,199)"
            ],
            [
             0.5,
             "rgb(247,247,247)"
            ],
            [
             0.6,
             "rgb(209,229,240)"
            ],
            [
             0.7,
             "rgb(146,197,222)"
            ],
            [
             0.8,
             "rgb(67,147,195)"
            ],
            [
             0.9,
             "rgb(33,102,172)"
            ],
            [
             1,
             "rgb(5,48,97)"
            ]
           ],
           "sequential": [
            [
             0,
             "#440154"
            ],
            [
             0.1111111111111111,
             "#482878"
            ],
            [
             0.2222222222222222,
             "#3e4989"
            ],
            [
             0.3333333333333333,
             "#31688e"
            ],
            [
             0.4444444444444444,
             "#26828e"
            ],
            [
             0.5555555555555556,
             "#1f9e89"
            ],
            [
             0.6666666666666666,
             "#35b779"
            ],
            [
             0.7777777777777778,
             "#6ece58"
            ],
            [
             0.8888888888888888,
             "#b5de2b"
            ],
            [
             1,
             "#fde725"
            ]
           ],
           "sequentialminus": [
            [
             0,
             "#440154"
            ],
            [
             0.1111111111111111,
             "#482878"
            ],
            [
             0.2222222222222222,
             "#3e4989"
            ],
            [
             0.3333333333333333,
             "#31688e"
            ],
            [
             0.4444444444444444,
             "#26828e"
            ],
            [
             0.5555555555555556,
             "#1f9e89"
            ],
            [
             0.6666666666666666,
             "#35b779"
            ],
            [
             0.7777777777777778,
             "#6ece58"
            ],
            [
             0.8888888888888888,
             "#b5de2b"
            ],
            [
             1,
             "#fde725"
            ]
           ]
          },
          "colorway": [
           "#1F77B4",
           "#FF7F0E",
           "#2CA02C",
           "#D62728",
           "#9467BD",
           "#8C564B",
           "#E377C2",
           "#7F7F7F",
           "#BCBD22",
           "#17BECF"
          ],
          "font": {
           "color": "rgb(36,36,36)"
          },
          "geo": {
           "bgcolor": "white",
           "lakecolor": "white",
           "landcolor": "white",
           "showlakes": true,
           "showland": true,
           "subunitcolor": "white"
          },
          "hoverlabel": {
           "align": "left"
          },
          "hovermode": "closest",
          "mapbox": {
           "style": "light"
          },
          "paper_bgcolor": "white",
          "plot_bgcolor": "white",
          "polar": {
           "angularaxis": {
            "gridcolor": "rgb(232,232,232)",
            "linecolor": "rgb(36,36,36)",
            "showgrid": false,
            "showline": true,
            "ticks": "outside"
           },
           "bgcolor": "white",
           "radialaxis": {
            "gridcolor": "rgb(232,232,232)",
            "linecolor": "rgb(36,36,36)",
            "showgrid": false,
            "showline": true,
            "ticks": "outside"
           }
          },
          "scene": {
           "xaxis": {
            "backgroundcolor": "white",
            "gridcolor": "rgb(232,232,232)",
            "gridwidth": 2,
            "linecolor": "rgb(36,36,36)",
            "showbackground": true,
            "showgrid": false,
            "showline": true,
            "ticks": "outside",
            "zeroline": false,
            "zerolinecolor": "rgb(36,36,36)"
           },
           "yaxis": {
            "backgroundcolor": "white",
            "gridcolor": "rgb(232,232,232)",
            "gridwidth": 2,
            "linecolor": "rgb(36,36,36)",
            "showbackground": true,
            "showgrid": false,
            "showline": true,
            "ticks": "outside",
            "zeroline": false,
            "zerolinecolor": "rgb(36,36,36)"
           },
           "zaxis": {
            "backgroundcolor": "white",
            "gridcolor": "rgb(232,232,232)",
            "gridwidth": 2,
            "linecolor": "rgb(36,36,36)",
            "showbackground": true,
            "showgrid": false,
            "showline": true,
            "ticks": "outside",
            "zeroline": false,
            "zerolinecolor": "rgb(36,36,36)"
           }
          },
          "shapedefaults": {
           "fillcolor": "black",
           "line": {
            "width": 0
           },
           "opacity": 0.3
          },
          "ternary": {
           "aaxis": {
            "gridcolor": "rgb(232,232,232)",
            "linecolor": "rgb(36,36,36)",
            "showgrid": false,
            "showline": true,
            "ticks": "outside"
           },
           "baxis": {
            "gridcolor": "rgb(232,232,232)",
            "linecolor": "rgb(36,36,36)",
            "showgrid": false,
            "showline": true,
            "ticks": "outside"
           },
           "bgcolor": "white",
           "caxis": {
            "gridcolor": "rgb(232,232,232)",
            "linecolor": "rgb(36,36,36)",
            "showgrid": false,
            "showline": true,
            "ticks": "outside"
           }
          },
          "title": {
           "x": 0.05
          },
          "xaxis": {
           "automargin": true,
           "gridcolor": "rgb(232,232,232)",
           "linecolor": "rgb(36,36,36)",
           "showgrid": false,
           "showline": true,
           "ticks": "outside",
           "title": {
            "standoff": 15
           },
           "zeroline": false,
           "zerolinecolor": "rgb(36,36,36)"
          },
          "yaxis": {
           "automargin": true,
           "gridcolor": "rgb(232,232,232)",
           "linecolor": "rgb(36,36,36)",
           "showgrid": false,
           "showline": true,
           "ticks": "outside",
           "title": {
            "standoff": 15
           },
           "zeroline": false,
           "zerolinecolor": "rgb(36,36,36)"
          }
         }
        },
        "title": {
         "text": "Median Total Sales by Product（产品平均销售量）"
        },
        "xaxis": {
         "title": {
          "text": "Product Name"
         }
        },
        "yaxis": {
         "title": {
          "text": "Median Total Sales"
         }
        }
       }
      }
     },
     "metadata": {},
     "output_type": "display_data"
    },
    {
     "data": {
      "application/vnd.plotly.v1+json": {
       "config": {
        "plotlyServerURL": "https://plot.ly"
       },
       "data": [
        {
         "name": "Total Sales",
         "text": [
          269,
          30,
          7,
          6.5,
          6,
          6,
          5,
          5,
          4,
          4,
          4,
          3,
          2
         ],
         "textposition": "auto",
         "texttemplate": "%{text:.2f}",
         "type": "bar",
         "x": [
          "chinese magnets (中国冰箱贴)",
          "chinese washi tape (中国和纸胶带)",
          "chinese mid autumn gift sets (中秋节礼品套装)",
          "chinese art stickers (中国艺术贴纸)",
          "brushes and calligraphy tools (笔和书法工具)",
          "name seals (印章)",
          "chinese bookmarks (中国书签)",
          "paper lanterns (纸灯笼)",
          "calligraphy prints (书法印刷品)",
          "chinese incense (中国香)",
          "chinese pottery (中国陶器)",
          "chinese bamboo art (中国竹艺)",
          "bead bracelets and necklaces (珠子手链和项链)"
         ],
         "y": [
          269,
          30,
          7,
          6.5,
          6,
          6,
          5,
          5,
          4,
          4,
          4,
          3,
          2
         ]
        }
       ],
       "layout": {
        "template": {
         "data": {
          "bar": [
           {
            "error_x": {
             "color": "rgb(36,36,36)"
            },
            "error_y": {
             "color": "rgb(36,36,36)"
            },
            "marker": {
             "line": {
              "color": "white",
              "width": 0.5
             },
             "pattern": {
              "fillmode": "overlay",
              "size": 10,
              "solidity": 0.2
             }
            },
            "type": "bar"
           }
          ],
          "barpolar": [
           {
            "marker": {
             "line": {
              "color": "white",
              "width": 0.5
             },
             "pattern": {
              "fillmode": "overlay",
              "size": 10,
              "solidity": 0.2
             }
            },
            "type": "barpolar"
           }
          ],
          "carpet": [
           {
            "aaxis": {
             "endlinecolor": "rgb(36,36,36)",
             "gridcolor": "white",
             "linecolor": "white",
             "minorgridcolor": "white",
             "startlinecolor": "rgb(36,36,36)"
            },
            "baxis": {
             "endlinecolor": "rgb(36,36,36)",
             "gridcolor": "white",
             "linecolor": "white",
             "minorgridcolor": "white",
             "startlinecolor": "rgb(36,36,36)"
            },
            "type": "carpet"
           }
          ],
          "choropleth": [
           {
            "colorbar": {
             "outlinewidth": 1,
             "tickcolor": "rgb(36,36,36)",
             "ticks": "outside"
            },
            "type": "choropleth"
           }
          ],
          "contour": [
           {
            "colorbar": {
             "outlinewidth": 1,
             "tickcolor": "rgb(36,36,36)",
             "ticks": "outside"
            },
            "colorscale": [
             [
              0,
              "#440154"
             ],
             [
              0.1111111111111111,
              "#482878"
             ],
             [
              0.2222222222222222,
              "#3e4989"
             ],
             [
              0.3333333333333333,
              "#31688e"
             ],
             [
              0.4444444444444444,
              "#26828e"
             ],
             [
              0.5555555555555556,
              "#1f9e89"
             ],
             [
              0.6666666666666666,
              "#35b779"
             ],
             [
              0.7777777777777778,
              "#6ece58"
             ],
             [
              0.8888888888888888,
              "#b5de2b"
             ],
             [
              1,
              "#fde725"
             ]
            ],
            "type": "contour"
           }
          ],
          "contourcarpet": [
           {
            "colorbar": {
             "outlinewidth": 1,
             "tickcolor": "rgb(36,36,36)",
             "ticks": "outside"
            },
            "type": "contourcarpet"
           }
          ],
          "heatmap": [
           {
            "colorbar": {
             "outlinewidth": 1,
             "tickcolor": "rgb(36,36,36)",
             "ticks": "outside"
            },
            "colorscale": [
             [
              0,
              "#440154"
             ],
             [
              0.1111111111111111,
              "#482878"
             ],
             [
              0.2222222222222222,
              "#3e4989"
             ],
             [
              0.3333333333333333,
              "#31688e"
             ],
             [
              0.4444444444444444,
              "#26828e"
             ],
             [
              0.5555555555555556,
              "#1f9e89"
             ],
             [
              0.6666666666666666,
              "#35b779"
             ],
             [
              0.7777777777777778,
              "#6ece58"
             ],
             [
              0.8888888888888888,
              "#b5de2b"
             ],
             [
              1,
              "#fde725"
             ]
            ],
            "type": "heatmap"
           }
          ],
          "heatmapgl": [
           {
            "colorbar": {
             "outlinewidth": 1,
             "tickcolor": "rgb(36,36,36)",
             "ticks": "outside"
            },
            "colorscale": [
             [
              0,
              "#440154"
             ],
             [
              0.1111111111111111,
              "#482878"
             ],
             [
              0.2222222222222222,
              "#3e4989"
             ],
             [
              0.3333333333333333,
              "#31688e"
             ],
             [
              0.4444444444444444,
              "#26828e"
             ],
             [
              0.5555555555555556,
              "#1f9e89"
             ],
             [
              0.6666666666666666,
              "#35b779"
             ],
             [
              0.7777777777777778,
              "#6ece58"
             ],
             [
              0.8888888888888888,
              "#b5de2b"
             ],
             [
              1,
              "#fde725"
             ]
            ],
            "type": "heatmapgl"
           }
          ],
          "histogram": [
           {
            "marker": {
             "line": {
              "color": "white",
              "width": 0.6
             }
            },
            "type": "histogram"
           }
          ],
          "histogram2d": [
           {
            "colorbar": {
             "outlinewidth": 1,
             "tickcolor": "rgb(36,36,36)",
             "ticks": "outside"
            },
            "colorscale": [
             [
              0,
              "#440154"
             ],
             [
              0.1111111111111111,
              "#482878"
             ],
             [
              0.2222222222222222,
              "#3e4989"
             ],
             [
              0.3333333333333333,
              "#31688e"
             ],
             [
              0.4444444444444444,
              "#26828e"
             ],
             [
              0.5555555555555556,
              "#1f9e89"
             ],
             [
              0.6666666666666666,
              "#35b779"
             ],
             [
              0.7777777777777778,
              "#6ece58"
             ],
             [
              0.8888888888888888,
              "#b5de2b"
             ],
             [
              1,
              "#fde725"
             ]
            ],
            "type": "histogram2d"
           }
          ],
          "histogram2dcontour": [
           {
            "colorbar": {
             "outlinewidth": 1,
             "tickcolor": "rgb(36,36,36)",
             "ticks": "outside"
            },
            "colorscale": [
             [
              0,
              "#440154"
             ],
             [
              0.1111111111111111,
              "#482878"
             ],
             [
              0.2222222222222222,
              "#3e4989"
             ],
             [
              0.3333333333333333,
              "#31688e"
             ],
             [
              0.4444444444444444,
              "#26828e"
             ],
             [
              0.5555555555555556,
              "#1f9e89"
             ],
             [
              0.6666666666666666,
              "#35b779"
             ],
             [
              0.7777777777777778,
              "#6ece58"
             ],
             [
              0.8888888888888888,
              "#b5de2b"
             ],
             [
              1,
              "#fde725"
             ]
            ],
            "type": "histogram2dcontour"
           }
          ],
          "mesh3d": [
           {
            "colorbar": {
             "outlinewidth": 1,
             "tickcolor": "rgb(36,36,36)",
             "ticks": "outside"
            },
            "type": "mesh3d"
           }
          ],
          "parcoords": [
           {
            "line": {
             "colorbar": {
              "outlinewidth": 1,
              "tickcolor": "rgb(36,36,36)",
              "ticks": "outside"
             }
            },
            "type": "parcoords"
           }
          ],
          "pie": [
           {
            "automargin": true,
            "type": "pie"
           }
          ],
          "scatter": [
           {
            "fillpattern": {
             "fillmode": "overlay",
             "size": 10,
             "solidity": 0.2
            },
            "type": "scatter"
           }
          ],
          "scatter3d": [
           {
            "line": {
             "colorbar": {
              "outlinewidth": 1,
              "tickcolor": "rgb(36,36,36)",
              "ticks": "outside"
             }
            },
            "marker": {
             "colorbar": {
              "outlinewidth": 1,
              "tickcolor": "rgb(36,36,36)",
              "ticks": "outside"
             }
            },
            "type": "scatter3d"
           }
          ],
          "scattercarpet": [
           {
            "marker": {
             "colorbar": {
              "outlinewidth": 1,
              "tickcolor": "rgb(36,36,36)",
              "ticks": "outside"
             }
            },
            "type": "scattercarpet"
           }
          ],
          "scattergeo": [
           {
            "marker": {
             "colorbar": {
              "outlinewidth": 1,
              "tickcolor": "rgb(36,36,36)",
              "ticks": "outside"
             }
            },
            "type": "scattergeo"
           }
          ],
          "scattergl": [
           {
            "marker": {
             "colorbar": {
              "outlinewidth": 1,
              "tickcolor": "rgb(36,36,36)",
              "ticks": "outside"
             }
            },
            "type": "scattergl"
           }
          ],
          "scattermapbox": [
           {
            "marker": {
             "colorbar": {
              "outlinewidth": 1,
              "tickcolor": "rgb(36,36,36)",
              "ticks": "outside"
             }
            },
            "type": "scattermapbox"
           }
          ],
          "scatterpolar": [
           {
            "marker": {
             "colorbar": {
              "outlinewidth": 1,
              "tickcolor": "rgb(36,36,36)",
              "ticks": "outside"
             }
            },
            "type": "scatterpolar"
           }
          ],
          "scatterpolargl": [
           {
            "marker": {
             "colorbar": {
              "outlinewidth": 1,
              "tickcolor": "rgb(36,36,36)",
              "ticks": "outside"
             }
            },
            "type": "scatterpolargl"
           }
          ],
          "scatterternary": [
           {
            "marker": {
             "colorbar": {
              "outlinewidth": 1,
              "tickcolor": "rgb(36,36,36)",
              "ticks": "outside"
             }
            },
            "type": "scatterternary"
           }
          ],
          "surface": [
           {
            "colorbar": {
             "outlinewidth": 1,
             "tickcolor": "rgb(36,36,36)",
             "ticks": "outside"
            },
            "colorscale": [
             [
              0,
              "#440154"
             ],
             [
              0.1111111111111111,
              "#482878"
             ],
             [
              0.2222222222222222,
              "#3e4989"
             ],
             [
              0.3333333333333333,
              "#31688e"
             ],
             [
              0.4444444444444444,
              "#26828e"
             ],
             [
              0.5555555555555556,
              "#1f9e89"
             ],
             [
              0.6666666666666666,
              "#35b779"
             ],
             [
              0.7777777777777778,
              "#6ece58"
             ],
             [
              0.8888888888888888,
              "#b5de2b"
             ],
             [
              1,
              "#fde725"
             ]
            ],
            "type": "surface"
           }
          ],
          "table": [
           {
            "cells": {
             "fill": {
              "color": "rgb(237,237,237)"
             },
             "line": {
              "color": "white"
             }
            },
            "header": {
             "fill": {
              "color": "rgb(217,217,217)"
             },
             "line": {
              "color": "white"
             }
            },
            "type": "table"
           }
          ]
         },
         "layout": {
          "annotationdefaults": {
           "arrowhead": 0,
           "arrowwidth": 1
          },
          "autotypenumbers": "strict",
          "coloraxis": {
           "colorbar": {
            "outlinewidth": 1,
            "tickcolor": "rgb(36,36,36)",
            "ticks": "outside"
           }
          },
          "colorscale": {
           "diverging": [
            [
             0,
             "rgb(103,0,31)"
            ],
            [
             0.1,
             "rgb(178,24,43)"
            ],
            [
             0.2,
             "rgb(214,96,77)"
            ],
            [
             0.3,
             "rgb(244,165,130)"
            ],
            [
             0.4,
             "rgb(253,219,199)"
            ],
            [
             0.5,
             "rgb(247,247,247)"
            ],
            [
             0.6,
             "rgb(209,229,240)"
            ],
            [
             0.7,
             "rgb(146,197,222)"
            ],
            [
             0.8,
             "rgb(67,147,195)"
            ],
            [
             0.9,
             "rgb(33,102,172)"
            ],
            [
             1,
             "rgb(5,48,97)"
            ]
           ],
           "sequential": [
            [
             0,
             "#440154"
            ],
            [
             0.1111111111111111,
             "#482878"
            ],
            [
             0.2222222222222222,
             "#3e4989"
            ],
            [
             0.3333333333333333,
             "#31688e"
            ],
            [
             0.4444444444444444,
             "#26828e"
            ],
            [
             0.5555555555555556,
             "#1f9e89"
            ],
            [
             0.6666666666666666,
             "#35b779"
            ],
            [
             0.7777777777777778,
             "#6ece58"
            ],
            [
             0.8888888888888888,
             "#b5de2b"
            ],
            [
             1,
             "#fde725"
            ]
           ],
           "sequentialminus": [
            [
             0,
             "#440154"
            ],
            [
             0.1111111111111111,
             "#482878"
            ],
            [
             0.2222222222222222,
             "#3e4989"
            ],
            [
             0.3333333333333333,
             "#31688e"
            ],
            [
             0.4444444444444444,
             "#26828e"
            ],
            [
             0.5555555555555556,
             "#1f9e89"
            ],
            [
             0.6666666666666666,
             "#35b779"
            ],
            [
             0.7777777777777778,
             "#6ece58"
            ],
            [
             0.8888888888888888,
             "#b5de2b"
            ],
            [
             1,
             "#fde725"
            ]
           ]
          },
          "colorway": [
           "#1F77B4",
           "#FF7F0E",
           "#2CA02C",
           "#D62728",
           "#9467BD",
           "#8C564B",
           "#E377C2",
           "#7F7F7F",
           "#BCBD22",
           "#17BECF"
          ],
          "font": {
           "color": "rgb(36,36,36)"
          },
          "geo": {
           "bgcolor": "white",
           "lakecolor": "white",
           "landcolor": "white",
           "showlakes": true,
           "showland": true,
           "subunitcolor": "white"
          },
          "hoverlabel": {
           "align": "left"
          },
          "hovermode": "closest",
          "mapbox": {
           "style": "light"
          },
          "paper_bgcolor": "white",
          "plot_bgcolor": "white",
          "polar": {
           "angularaxis": {
            "gridcolor": "rgb(232,232,232)",
            "linecolor": "rgb(36,36,36)",
            "showgrid": false,
            "showline": true,
            "ticks": "outside"
           },
           "bgcolor": "white",
           "radialaxis": {
            "gridcolor": "rgb(232,232,232)",
            "linecolor": "rgb(36,36,36)",
            "showgrid": false,
            "showline": true,
            "ticks": "outside"
           }
          },
          "scene": {
           "xaxis": {
            "backgroundcolor": "white",
            "gridcolor": "rgb(232,232,232)",
            "gridwidth": 2,
            "linecolor": "rgb(36,36,36)",
            "showbackground": true,
            "showgrid": false,
            "showline": true,
            "ticks": "outside",
            "zeroline": false,
            "zerolinecolor": "rgb(36,36,36)"
           },
           "yaxis": {
            "backgroundcolor": "white",
            "gridcolor": "rgb(232,232,232)",
            "gridwidth": 2,
            "linecolor": "rgb(36,36,36)",
            "showbackground": true,
            "showgrid": false,
            "showline": true,
            "ticks": "outside",
            "zeroline": false,
            "zerolinecolor": "rgb(36,36,36)"
           },
           "zaxis": {
            "backgroundcolor": "white",
            "gridcolor": "rgb(232,232,232)",
            "gridwidth": 2,
            "linecolor": "rgb(36,36,36)",
            "showbackground": true,
            "showgrid": false,
            "showline": true,
            "ticks": "outside",
            "zeroline": false,
            "zerolinecolor": "rgb(36,36,36)"
           }
          },
          "shapedefaults": {
           "fillcolor": "black",
           "line": {
            "width": 0
           },
           "opacity": 0.3
          },
          "ternary": {
           "aaxis": {
            "gridcolor": "rgb(232,232,232)",
            "linecolor": "rgb(36,36,36)",
            "showgrid": false,
            "showline": true,
            "ticks": "outside"
           },
           "baxis": {
            "gridcolor": "rgb(232,232,232)",
            "linecolor": "rgb(36,36,36)",
            "showgrid": false,
            "showline": true,
            "ticks": "outside"
           },
           "bgcolor": "white",
           "caxis": {
            "gridcolor": "rgb(232,232,232)",
            "linecolor": "rgb(36,36,36)",
            "showgrid": false,
            "showline": true,
            "ticks": "outside"
           }
          },
          "title": {
           "x": 0.05
          },
          "xaxis": {
           "automargin": true,
           "gridcolor": "rgb(232,232,232)",
           "linecolor": "rgb(36,36,36)",
           "showgrid": false,
           "showline": true,
           "ticks": "outside",
           "title": {
            "standoff": 15
           },
           "zeroline": false,
           "zerolinecolor": "rgb(36,36,36)"
          },
          "yaxis": {
           "automargin": true,
           "gridcolor": "rgb(232,232,232)",
           "linecolor": "rgb(36,36,36)",
           "showgrid": false,
           "showline": true,
           "ticks": "outside",
           "title": {
            "standoff": 15
           },
           "zeroline": false,
           "zerolinecolor": "rgb(36,36,36)"
          }
         }
        },
        "title": {
         "text": "Median Total Sales by Product (With Sales) （有销售的产品）"
        },
        "xaxis": {
         "title": {
          "text": "Product Name"
         }
        },
        "yaxis": {
         "title": {
          "text": "Median Total Sales"
         }
        }
       }
      }
     },
     "metadata": {},
     "output_type": "display_data"
    }
   ],
   "source": [
    "# Median total sales by product\n",
    "fig1 = plot_bar_chart_plotly(\n",
    "    all_product_data.groupby(\"product_name_chinese_name\")[\"Total Sales\"]\n",
    "    .median()\n",
    "    .reset_index(),\n",
    "    x=\"product_name_chinese_name\",\n",
    "    y=\"Total Sales\",\n",
    "    title=\"Median Total Sales by Product（产品平均销售量）\",\n",
    "    x_label=\"Product Name\",\n",
    "    y_label=\"Median Total Sales\",\n",
    ")\n",
    "\n",
    "# Median total sales by product with sales\n",
    "fig2 = plot_bar_chart_plotly(\n",
    "    all_product_data[all_product_data[\"has_sales\"] == True]\n",
    "    .groupby(\"product_name_chinese_name\")[\"Total Sales\"]\n",
    "    .median()\n",
    "    .reset_index(),\n",
    "    x=\"product_name_chinese_name\",\n",
    "    y=\"Total Sales\",\n",
    "    title=\"Median Total Sales by Product (With Sales) （有销售的产品）\",\n",
    "    x_label=\"Product Name\",\n",
    "    y_label=\"Median Total Sales\",\n",
    ")\n",
    "\n",
    "fig1.show()\n",
    "fig2.show()"
   ]
  },
  {
   "cell_type": "code",
   "execution_count": 13,
   "metadata": {},
   "outputs": [
    {
     "data": {
      "application/vnd.plotly.v1+json": {
       "config": {
        "plotlyServerURL": "https://plot.ly"
       },
       "data": [
        {
         "name": "Product Url",
         "text": [
          1445,
          1027,
          190,
          187,
          162,
          137,
          117,
          96,
          84,
          65,
          57,
          50,
          30
         ],
         "textposition": "auto",
         "texttemplate": "%{text:.2f}",
         "type": "bar",
         "x": [
          "calligraphy prints (书法印刷品)",
          "name seals (印章)",
          "chinese pottery (中国陶器)",
          "paper lanterns (纸灯笼)",
          "brushes and calligraphy tools (笔和书法工具)",
          "bead bracelets and necklaces (珠子手链和项链)",
          "chinese art stickers (中国艺术贴纸)",
          "chinese washi tape (中国和纸胶带)",
          "chinese bookmarks (中国书签)",
          "chinese magnets (中国冰箱贴)",
          "chinese incense (中国香)",
          "chinese bamboo art (中国竹艺)",
          "chinese mid autumn gift sets (中秋节礼品套装)"
         ],
         "y": [
          1445,
          1027,
          190,
          187,
          162,
          137,
          117,
          96,
          84,
          65,
          57,
          50,
          30
         ]
        }
       ],
       "layout": {
        "template": {
         "data": {
          "bar": [
           {
            "error_x": {
             "color": "rgb(36,36,36)"
            },
            "error_y": {
             "color": "rgb(36,36,36)"
            },
            "marker": {
             "line": {
              "color": "white",
              "width": 0.5
             },
             "pattern": {
              "fillmode": "overlay",
              "size": 10,
              "solidity": 0.2
             }
            },
            "type": "bar"
           }
          ],
          "barpolar": [
           {
            "marker": {
             "line": {
              "color": "white",
              "width": 0.5
             },
             "pattern": {
              "fillmode": "overlay",
              "size": 10,
              "solidity": 0.2
             }
            },
            "type": "barpolar"
           }
          ],
          "carpet": [
           {
            "aaxis": {
             "endlinecolor": "rgb(36,36,36)",
             "gridcolor": "white",
             "linecolor": "white",
             "minorgridcolor": "white",
             "startlinecolor": "rgb(36,36,36)"
            },
            "baxis": {
             "endlinecolor": "rgb(36,36,36)",
             "gridcolor": "white",
             "linecolor": "white",
             "minorgridcolor": "white",
             "startlinecolor": "rgb(36,36,36)"
            },
            "type": "carpet"
           }
          ],
          "choropleth": [
           {
            "colorbar": {
             "outlinewidth": 1,
             "tickcolor": "rgb(36,36,36)",
             "ticks": "outside"
            },
            "type": "choropleth"
           }
          ],
          "contour": [
           {
            "colorbar": {
             "outlinewidth": 1,
             "tickcolor": "rgb(36,36,36)",
             "ticks": "outside"
            },
            "colorscale": [
             [
              0,
              "#440154"
             ],
             [
              0.1111111111111111,
              "#482878"
             ],
             [
              0.2222222222222222,
              "#3e4989"
             ],
             [
              0.3333333333333333,
              "#31688e"
             ],
             [
              0.4444444444444444,
              "#26828e"
             ],
             [
              0.5555555555555556,
              "#1f9e89"
             ],
             [
              0.6666666666666666,
              "#35b779"
             ],
             [
              0.7777777777777778,
              "#6ece58"
             ],
             [
              0.8888888888888888,
              "#b5de2b"
             ],
             [
              1,
              "#fde725"
             ]
            ],
            "type": "contour"
           }
          ],
          "contourcarpet": [
           {
            "colorbar": {
             "outlinewidth": 1,
             "tickcolor": "rgb(36,36,36)",
             "ticks": "outside"
            },
            "type": "contourcarpet"
           }
          ],
          "heatmap": [
           {
            "colorbar": {
             "outlinewidth": 1,
             "tickcolor": "rgb(36,36,36)",
             "ticks": "outside"
            },
            "colorscale": [
             [
              0,
              "#440154"
             ],
             [
              0.1111111111111111,
              "#482878"
             ],
             [
              0.2222222222222222,
              "#3e4989"
             ],
             [
              0.3333333333333333,
              "#31688e"
             ],
             [
              0.4444444444444444,
              "#26828e"
             ],
             [
              0.5555555555555556,
              "#1f9e89"
             ],
             [
              0.6666666666666666,
              "#35b779"
             ],
             [
              0.7777777777777778,
              "#6ece58"
             ],
             [
              0.8888888888888888,
              "#b5de2b"
             ],
             [
              1,
              "#fde725"
             ]
            ],
            "type": "heatmap"
           }
          ],
          "heatmapgl": [
           {
            "colorbar": {
             "outlinewidth": 1,
             "tickcolor": "rgb(36,36,36)",
             "ticks": "outside"
            },
            "colorscale": [
             [
              0,
              "#440154"
             ],
             [
              0.1111111111111111,
              "#482878"
             ],
             [
              0.2222222222222222,
              "#3e4989"
             ],
             [
              0.3333333333333333,
              "#31688e"
             ],
             [
              0.4444444444444444,
              "#26828e"
             ],
             [
              0.5555555555555556,
              "#1f9e89"
             ],
             [
              0.6666666666666666,
              "#35b779"
             ],
             [
              0.7777777777777778,
              "#6ece58"
             ],
             [
              0.8888888888888888,
              "#b5de2b"
             ],
             [
              1,
              "#fde725"
             ]
            ],
            "type": "heatmapgl"
           }
          ],
          "histogram": [
           {
            "marker": {
             "line": {
              "color": "white",
              "width": 0.6
             }
            },
            "type": "histogram"
           }
          ],
          "histogram2d": [
           {
            "colorbar": {
             "outlinewidth": 1,
             "tickcolor": "rgb(36,36,36)",
             "ticks": "outside"
            },
            "colorscale": [
             [
              0,
              "#440154"
             ],
             [
              0.1111111111111111,
              "#482878"
             ],
             [
              0.2222222222222222,
              "#3e4989"
             ],
             [
              0.3333333333333333,
              "#31688e"
             ],
             [
              0.4444444444444444,
              "#26828e"
             ],
             [
              0.5555555555555556,
              "#1f9e89"
             ],
             [
              0.6666666666666666,
              "#35b779"
             ],
             [
              0.7777777777777778,
              "#6ece58"
             ],
             [
              0.8888888888888888,
              "#b5de2b"
             ],
             [
              1,
              "#fde725"
             ]
            ],
            "type": "histogram2d"
           }
          ],
          "histogram2dcontour": [
           {
            "colorbar": {
             "outlinewidth": 1,
             "tickcolor": "rgb(36,36,36)",
             "ticks": "outside"
            },
            "colorscale": [
             [
              0,
              "#440154"
             ],
             [
              0.1111111111111111,
              "#482878"
             ],
             [
              0.2222222222222222,
              "#3e4989"
             ],
             [
              0.3333333333333333,
              "#31688e"
             ],
             [
              0.4444444444444444,
              "#26828e"
             ],
             [
              0.5555555555555556,
              "#1f9e89"
             ],
             [
              0.6666666666666666,
              "#35b779"
             ],
             [
              0.7777777777777778,
              "#6ece58"
             ],
             [
              0.8888888888888888,
              "#b5de2b"
             ],
             [
              1,
              "#fde725"
             ]
            ],
            "type": "histogram2dcontour"
           }
          ],
          "mesh3d": [
           {
            "colorbar": {
             "outlinewidth": 1,
             "tickcolor": "rgb(36,36,36)",
             "ticks": "outside"
            },
            "type": "mesh3d"
           }
          ],
          "parcoords": [
           {
            "line": {
             "colorbar": {
              "outlinewidth": 1,
              "tickcolor": "rgb(36,36,36)",
              "ticks": "outside"
             }
            },
            "type": "parcoords"
           }
          ],
          "pie": [
           {
            "automargin": true,
            "type": "pie"
           }
          ],
          "scatter": [
           {
            "fillpattern": {
             "fillmode": "overlay",
             "size": 10,
             "solidity": 0.2
            },
            "type": "scatter"
           }
          ],
          "scatter3d": [
           {
            "line": {
             "colorbar": {
              "outlinewidth": 1,
              "tickcolor": "rgb(36,36,36)",
              "ticks": "outside"
             }
            },
            "marker": {
             "colorbar": {
              "outlinewidth": 1,
              "tickcolor": "rgb(36,36,36)",
              "ticks": "outside"
             }
            },
            "type": "scatter3d"
           }
          ],
          "scattercarpet": [
           {
            "marker": {
             "colorbar": {
              "outlinewidth": 1,
              "tickcolor": "rgb(36,36,36)",
              "ticks": "outside"
             }
            },
            "type": "scattercarpet"
           }
          ],
          "scattergeo": [
           {
            "marker": {
             "colorbar": {
              "outlinewidth": 1,
              "tickcolor": "rgb(36,36,36)",
              "ticks": "outside"
             }
            },
            "type": "scattergeo"
           }
          ],
          "scattergl": [
           {
            "marker": {
             "colorbar": {
              "outlinewidth": 1,
              "tickcolor": "rgb(36,36,36)",
              "ticks": "outside"
             }
            },
            "type": "scattergl"
           }
          ],
          "scattermapbox": [
           {
            "marker": {
             "colorbar": {
              "outlinewidth": 1,
              "tickcolor": "rgb(36,36,36)",
              "ticks": "outside"
             }
            },
            "type": "scattermapbox"
           }
          ],
          "scatterpolar": [
           {
            "marker": {
             "colorbar": {
              "outlinewidth": 1,
              "tickcolor": "rgb(36,36,36)",
              "ticks": "outside"
             }
            },
            "type": "scatterpolar"
           }
          ],
          "scatterpolargl": [
           {
            "marker": {
             "colorbar": {
              "outlinewidth": 1,
              "tickcolor": "rgb(36,36,36)",
              "ticks": "outside"
             }
            },
            "type": "scatterpolargl"
           }
          ],
          "scatterternary": [
           {
            "marker": {
             "colorbar": {
              "outlinewidth": 1,
              "tickcolor": "rgb(36,36,36)",
              "ticks": "outside"
             }
            },
            "type": "scatterternary"
           }
          ],
          "surface": [
           {
            "colorbar": {
             "outlinewidth": 1,
             "tickcolor": "rgb(36,36,36)",
             "ticks": "outside"
            },
            "colorscale": [
             [
              0,
              "#440154"
             ],
             [
              0.1111111111111111,
              "#482878"
             ],
             [
              0.2222222222222222,
              "#3e4989"
             ],
             [
              0.3333333333333333,
              "#31688e"
             ],
             [
              0.4444444444444444,
              "#26828e"
             ],
             [
              0.5555555555555556,
              "#1f9e89"
             ],
             [
              0.6666666666666666,
              "#35b779"
             ],
             [
              0.7777777777777778,
              "#6ece58"
             ],
             [
              0.8888888888888888,
              "#b5de2b"
             ],
             [
              1,
              "#fde725"
             ]
            ],
            "type": "surface"
           }
          ],
          "table": [
           {
            "cells": {
             "fill": {
              "color": "rgb(237,237,237)"
             },
             "line": {
              "color": "white"
             }
            },
            "header": {
             "fill": {
              "color": "rgb(217,217,217)"
             },
             "line": {
              "color": "white"
             }
            },
            "type": "table"
           }
          ]
         },
         "layout": {
          "annotationdefaults": {
           "arrowhead": 0,
           "arrowwidth": 1
          },
          "autotypenumbers": "strict",
          "coloraxis": {
           "colorbar": {
            "outlinewidth": 1,
            "tickcolor": "rgb(36,36,36)",
            "ticks": "outside"
           }
          },
          "colorscale": {
           "diverging": [
            [
             0,
             "rgb(103,0,31)"
            ],
            [
             0.1,
             "rgb(178,24,43)"
            ],
            [
             0.2,
             "rgb(214,96,77)"
            ],
            [
             0.3,
             "rgb(244,165,130)"
            ],
            [
             0.4,
             "rgb(253,219,199)"
            ],
            [
             0.5,
             "rgb(247,247,247)"
            ],
            [
             0.6,
             "rgb(209,229,240)"
            ],
            [
             0.7,
             "rgb(146,197,222)"
            ],
            [
             0.8,
             "rgb(67,147,195)"
            ],
            [
             0.9,
             "rgb(33,102,172)"
            ],
            [
             1,
             "rgb(5,48,97)"
            ]
           ],
           "sequential": [
            [
             0,
             "#440154"
            ],
            [
             0.1111111111111111,
             "#482878"
            ],
            [
             0.2222222222222222,
             "#3e4989"
            ],
            [
             0.3333333333333333,
             "#31688e"
            ],
            [
             0.4444444444444444,
             "#26828e"
            ],
            [
             0.5555555555555556,
             "#1f9e89"
            ],
            [
             0.6666666666666666,
             "#35b779"
            ],
            [
             0.7777777777777778,
             "#6ece58"
            ],
            [
             0.8888888888888888,
             "#b5de2b"
            ],
            [
             1,
             "#fde725"
            ]
           ],
           "sequentialminus": [
            [
             0,
             "#440154"
            ],
            [
             0.1111111111111111,
             "#482878"
            ],
            [
             0.2222222222222222,
             "#3e4989"
            ],
            [
             0.3333333333333333,
             "#31688e"
            ],
            [
             0.4444444444444444,
             "#26828e"
            ],
            [
             0.5555555555555556,
             "#1f9e89"
            ],
            [
             0.6666666666666666,
             "#35b779"
            ],
            [
             0.7777777777777778,
             "#6ece58"
            ],
            [
             0.8888888888888888,
             "#b5de2b"
            ],
            [
             1,
             "#fde725"
            ]
           ]
          },
          "colorway": [
           "#1F77B4",
           "#FF7F0E",
           "#2CA02C",
           "#D62728",
           "#9467BD",
           "#8C564B",
           "#E377C2",
           "#7F7F7F",
           "#BCBD22",
           "#17BECF"
          ],
          "font": {
           "color": "rgb(36,36,36)"
          },
          "geo": {
           "bgcolor": "white",
           "lakecolor": "white",
           "landcolor": "white",
           "showlakes": true,
           "showland": true,
           "subunitcolor": "white"
          },
          "hoverlabel": {
           "align": "left"
          },
          "hovermode": "closest",
          "mapbox": {
           "style": "light"
          },
          "paper_bgcolor": "white",
          "plot_bgcolor": "white",
          "polar": {
           "angularaxis": {
            "gridcolor": "rgb(232,232,232)",
            "linecolor": "rgb(36,36,36)",
            "showgrid": false,
            "showline": true,
            "ticks": "outside"
           },
           "bgcolor": "white",
           "radialaxis": {
            "gridcolor": "rgb(232,232,232)",
            "linecolor": "rgb(36,36,36)",
            "showgrid": false,
            "showline": true,
            "ticks": "outside"
           }
          },
          "scene": {
           "xaxis": {
            "backgroundcolor": "white",
            "gridcolor": "rgb(232,232,232)",
            "gridwidth": 2,
            "linecolor": "rgb(36,36,36)",
            "showbackground": true,
            "showgrid": false,
            "showline": true,
            "ticks": "outside",
            "zeroline": false,
            "zerolinecolor": "rgb(36,36,36)"
           },
           "yaxis": {
            "backgroundcolor": "white",
            "gridcolor": "rgb(232,232,232)",
            "gridwidth": 2,
            "linecolor": "rgb(36,36,36)",
            "showbackground": true,
            "showgrid": false,
            "showline": true,
            "ticks": "outside",
            "zeroline": false,
            "zerolinecolor": "rgb(36,36,36)"
           },
           "zaxis": {
            "backgroundcolor": "white",
            "gridcolor": "rgb(232,232,232)",
            "gridwidth": 2,
            "linecolor": "rgb(36,36,36)",
            "showbackground": true,
            "showgrid": false,
            "showline": true,
            "ticks": "outside",
            "zeroline": false,
            "zerolinecolor": "rgb(36,36,36)"
           }
          },
          "shapedefaults": {
           "fillcolor": "black",
           "line": {
            "width": 0
           },
           "opacity": 0.3
          },
          "ternary": {
           "aaxis": {
            "gridcolor": "rgb(232,232,232)",
            "linecolor": "rgb(36,36,36)",
            "showgrid": false,
            "showline": true,
            "ticks": "outside"
           },
           "baxis": {
            "gridcolor": "rgb(232,232,232)",
            "linecolor": "rgb(36,36,36)",
            "showgrid": false,
            "showline": true,
            "ticks": "outside"
           },
           "bgcolor": "white",
           "caxis": {
            "gridcolor": "rgb(232,232,232)",
            "linecolor": "rgb(36,36,36)",
            "showgrid": false,
            "showline": true,
            "ticks": "outside"
           }
          },
          "title": {
           "x": 0.05
          },
          "xaxis": {
           "automargin": true,
           "gridcolor": "rgb(232,232,232)",
           "linecolor": "rgb(36,36,36)",
           "showgrid": false,
           "showline": true,
           "ticks": "outside",
           "title": {
            "standoff": 15
           },
           "zeroline": false,
           "zerolinecolor": "rgb(36,36,36)"
          },
          "yaxis": {
           "automargin": true,
           "gridcolor": "rgb(232,232,232)",
           "linecolor": "rgb(36,36,36)",
           "showgrid": false,
           "showline": true,
           "ticks": "outside",
           "title": {
            "standoff": 15
           },
           "zeroline": false,
           "zerolinecolor": "rgb(36,36,36)"
          }
         }
        },
        "title": {
         "text": "Number of Unique Products （产品数目）"
        },
        "xaxis": {
         "title": {
          "text": "Product Name"
         }
        },
        "yaxis": {
         "title": {
          "text": "Number of Unique Products"
         }
        }
       }
      }
     },
     "metadata": {},
     "output_type": "display_data"
    },
    {
     "data": {
      "application/vnd.plotly.v1+json": {
       "config": {
        "plotlyServerURL": "https://plot.ly"
       },
       "data": [
        {
         "name": "Product Url",
         "text": [
          616,
          568,
          89,
          88,
          68,
          68,
          66,
          65,
          44,
          43,
          21,
          19,
          10
         ],
         "textposition": "auto",
         "texttemplate": "%{text:.2f}",
         "type": "bar",
         "x": [
          "name seals (印章)",
          "calligraphy prints (书法印刷品)",
          "brushes and calligraphy tools (笔和书法工具)",
          "paper lanterns (纸灯笼)",
          "chinese pottery (中国陶器)",
          "chinese washi tape (中国和纸胶带)",
          "chinese art stickers (中国艺术贴纸)",
          "bead bracelets and necklaces (珠子手链和项链)",
          "chinese bookmarks (中国书签)",
          "chinese magnets (中国冰箱贴)",
          "chinese incense (中国香)",
          "chinese mid autumn gift sets (中秋节礼品套装)",
          "chinese bamboo art (中国竹艺)"
         ],
         "y": [
          616,
          568,
          89,
          88,
          68,
          68,
          66,
          65,
          44,
          43,
          21,
          19,
          10
         ]
        }
       ],
       "layout": {
        "template": {
         "data": {
          "bar": [
           {
            "error_x": {
             "color": "rgb(36,36,36)"
            },
            "error_y": {
             "color": "rgb(36,36,36)"
            },
            "marker": {
             "line": {
              "color": "white",
              "width": 0.5
             },
             "pattern": {
              "fillmode": "overlay",
              "size": 10,
              "solidity": 0.2
             }
            },
            "type": "bar"
           }
          ],
          "barpolar": [
           {
            "marker": {
             "line": {
              "color": "white",
              "width": 0.5
             },
             "pattern": {
              "fillmode": "overlay",
              "size": 10,
              "solidity": 0.2
             }
            },
            "type": "barpolar"
           }
          ],
          "carpet": [
           {
            "aaxis": {
             "endlinecolor": "rgb(36,36,36)",
             "gridcolor": "white",
             "linecolor": "white",
             "minorgridcolor": "white",
             "startlinecolor": "rgb(36,36,36)"
            },
            "baxis": {
             "endlinecolor": "rgb(36,36,36)",
             "gridcolor": "white",
             "linecolor": "white",
             "minorgridcolor": "white",
             "startlinecolor": "rgb(36,36,36)"
            },
            "type": "carpet"
           }
          ],
          "choropleth": [
           {
            "colorbar": {
             "outlinewidth": 1,
             "tickcolor": "rgb(36,36,36)",
             "ticks": "outside"
            },
            "type": "choropleth"
           }
          ],
          "contour": [
           {
            "colorbar": {
             "outlinewidth": 1,
             "tickcolor": "rgb(36,36,36)",
             "ticks": "outside"
            },
            "colorscale": [
             [
              0,
              "#440154"
             ],
             [
              0.1111111111111111,
              "#482878"
             ],
             [
              0.2222222222222222,
              "#3e4989"
             ],
             [
              0.3333333333333333,
              "#31688e"
             ],
             [
              0.4444444444444444,
              "#26828e"
             ],
             [
              0.5555555555555556,
              "#1f9e89"
             ],
             [
              0.6666666666666666,
              "#35b779"
             ],
             [
              0.7777777777777778,
              "#6ece58"
             ],
             [
              0.8888888888888888,
              "#b5de2b"
             ],
             [
              1,
              "#fde725"
             ]
            ],
            "type": "contour"
           }
          ],
          "contourcarpet": [
           {
            "colorbar": {
             "outlinewidth": 1,
             "tickcolor": "rgb(36,36,36)",
             "ticks": "outside"
            },
            "type": "contourcarpet"
           }
          ],
          "heatmap": [
           {
            "colorbar": {
             "outlinewidth": 1,
             "tickcolor": "rgb(36,36,36)",
             "ticks": "outside"
            },
            "colorscale": [
             [
              0,
              "#440154"
             ],
             [
              0.1111111111111111,
              "#482878"
             ],
             [
              0.2222222222222222,
              "#3e4989"
             ],
             [
              0.3333333333333333,
              "#31688e"
             ],
             [
              0.4444444444444444,
              "#26828e"
             ],
             [
              0.5555555555555556,
              "#1f9e89"
             ],
             [
              0.6666666666666666,
              "#35b779"
             ],
             [
              0.7777777777777778,
              "#6ece58"
             ],
             [
              0.8888888888888888,
              "#b5de2b"
             ],
             [
              1,
              "#fde725"
             ]
            ],
            "type": "heatmap"
           }
          ],
          "heatmapgl": [
           {
            "colorbar": {
             "outlinewidth": 1,
             "tickcolor": "rgb(36,36,36)",
             "ticks": "outside"
            },
            "colorscale": [
             [
              0,
              "#440154"
             ],
             [
              0.1111111111111111,
              "#482878"
             ],
             [
              0.2222222222222222,
              "#3e4989"
             ],
             [
              0.3333333333333333,
              "#31688e"
             ],
             [
              0.4444444444444444,
              "#26828e"
             ],
             [
              0.5555555555555556,
              "#1f9e89"
             ],
             [
              0.6666666666666666,
              "#35b779"
             ],
             [
              0.7777777777777778,
              "#6ece58"
             ],
             [
              0.8888888888888888,
              "#b5de2b"
             ],
             [
              1,
              "#fde725"
             ]
            ],
            "type": "heatmapgl"
           }
          ],
          "histogram": [
           {
            "marker": {
             "line": {
              "color": "white",
              "width": 0.6
             }
            },
            "type": "histogram"
           }
          ],
          "histogram2d": [
           {
            "colorbar": {
             "outlinewidth": 1,
             "tickcolor": "rgb(36,36,36)",
             "ticks": "outside"
            },
            "colorscale": [
             [
              0,
              "#440154"
             ],
             [
              0.1111111111111111,
              "#482878"
             ],
             [
              0.2222222222222222,
              "#3e4989"
             ],
             [
              0.3333333333333333,
              "#31688e"
             ],
             [
              0.4444444444444444,
              "#26828e"
             ],
             [
              0.5555555555555556,
              "#1f9e89"
             ],
             [
              0.6666666666666666,
              "#35b779"
             ],
             [
              0.7777777777777778,
              "#6ece58"
             ],
             [
              0.8888888888888888,
              "#b5de2b"
             ],
             [
              1,
              "#fde725"
             ]
            ],
            "type": "histogram2d"
           }
          ],
          "histogram2dcontour": [
           {
            "colorbar": {
             "outlinewidth": 1,
             "tickcolor": "rgb(36,36,36)",
             "ticks": "outside"
            },
            "colorscale": [
             [
              0,
              "#440154"
             ],
             [
              0.1111111111111111,
              "#482878"
             ],
             [
              0.2222222222222222,
              "#3e4989"
             ],
             [
              0.3333333333333333,
              "#31688e"
             ],
             [
              0.4444444444444444,
              "#26828e"
             ],
             [
              0.5555555555555556,
              "#1f9e89"
             ],
             [
              0.6666666666666666,
              "#35b779"
             ],
             [
              0.7777777777777778,
              "#6ece58"
             ],
             [
              0.8888888888888888,
              "#b5de2b"
             ],
             [
              1,
              "#fde725"
             ]
            ],
            "type": "histogram2dcontour"
           }
          ],
          "mesh3d": [
           {
            "colorbar": {
             "outlinewidth": 1,
             "tickcolor": "rgb(36,36,36)",
             "ticks": "outside"
            },
            "type": "mesh3d"
           }
          ],
          "parcoords": [
           {
            "line": {
             "colorbar": {
              "outlinewidth": 1,
              "tickcolor": "rgb(36,36,36)",
              "ticks": "outside"
             }
            },
            "type": "parcoords"
           }
          ],
          "pie": [
           {
            "automargin": true,
            "type": "pie"
           }
          ],
          "scatter": [
           {
            "fillpattern": {
             "fillmode": "overlay",
             "size": 10,
             "solidity": 0.2
            },
            "type": "scatter"
           }
          ],
          "scatter3d": [
           {
            "line": {
             "colorbar": {
              "outlinewidth": 1,
              "tickcolor": "rgb(36,36,36)",
              "ticks": "outside"
             }
            },
            "marker": {
             "colorbar": {
              "outlinewidth": 1,
              "tickcolor": "rgb(36,36,36)",
              "ticks": "outside"
             }
            },
            "type": "scatter3d"
           }
          ],
          "scattercarpet": [
           {
            "marker": {
             "colorbar": {
              "outlinewidth": 1,
              "tickcolor": "rgb(36,36,36)",
              "ticks": "outside"
             }
            },
            "type": "scattercarpet"
           }
          ],
          "scattergeo": [
           {
            "marker": {
             "colorbar": {
              "outlinewidth": 1,
              "tickcolor": "rgb(36,36,36)",
              "ticks": "outside"
             }
            },
            "type": "scattergeo"
           }
          ],
          "scattergl": [
           {
            "marker": {
             "colorbar": {
              "outlinewidth": 1,
              "tickcolor": "rgb(36,36,36)",
              "ticks": "outside"
             }
            },
            "type": "scattergl"
           }
          ],
          "scattermapbox": [
           {
            "marker": {
             "colorbar": {
              "outlinewidth": 1,
              "tickcolor": "rgb(36,36,36)",
              "ticks": "outside"
             }
            },
            "type": "scattermapbox"
           }
          ],
          "scatterpolar": [
           {
            "marker": {
             "colorbar": {
              "outlinewidth": 1,
              "tickcolor": "rgb(36,36,36)",
              "ticks": "outside"
             }
            },
            "type": "scatterpolar"
           }
          ],
          "scatterpolargl": [
           {
            "marker": {
             "colorbar": {
              "outlinewidth": 1,
              "tickcolor": "rgb(36,36,36)",
              "ticks": "outside"
             }
            },
            "type": "scatterpolargl"
           }
          ],
          "scatterternary": [
           {
            "marker": {
             "colorbar": {
              "outlinewidth": 1,
              "tickcolor": "rgb(36,36,36)",
              "ticks": "outside"
             }
            },
            "type": "scatterternary"
           }
          ],
          "surface": [
           {
            "colorbar": {
             "outlinewidth": 1,
             "tickcolor": "rgb(36,36,36)",
             "ticks": "outside"
            },
            "colorscale": [
             [
              0,
              "#440154"
             ],
             [
              0.1111111111111111,
              "#482878"
             ],
             [
              0.2222222222222222,
              "#3e4989"
             ],
             [
              0.3333333333333333,
              "#31688e"
             ],
             [
              0.4444444444444444,
              "#26828e"
             ],
             [
              0.5555555555555556,
              "#1f9e89"
             ],
             [
              0.6666666666666666,
              "#35b779"
             ],
             [
              0.7777777777777778,
              "#6ece58"
             ],
             [
              0.8888888888888888,
              "#b5de2b"
             ],
             [
              1,
              "#fde725"
             ]
            ],
            "type": "surface"
           }
          ],
          "table": [
           {
            "cells": {
             "fill": {
              "color": "rgb(237,237,237)"
             },
             "line": {
              "color": "white"
             }
            },
            "header": {
             "fill": {
              "color": "rgb(217,217,217)"
             },
             "line": {
              "color": "white"
             }
            },
            "type": "table"
           }
          ]
         },
         "layout": {
          "annotationdefaults": {
           "arrowhead": 0,
           "arrowwidth": 1
          },
          "autotypenumbers": "strict",
          "coloraxis": {
           "colorbar": {
            "outlinewidth": 1,
            "tickcolor": "rgb(36,36,36)",
            "ticks": "outside"
           }
          },
          "colorscale": {
           "diverging": [
            [
             0,
             "rgb(103,0,31)"
            ],
            [
             0.1,
             "rgb(178,24,43)"
            ],
            [
             0.2,
             "rgb(214,96,77)"
            ],
            [
             0.3,
             "rgb(244,165,130)"
            ],
            [
             0.4,
             "rgb(253,219,199)"
            ],
            [
             0.5,
             "rgb(247,247,247)"
            ],
            [
             0.6,
             "rgb(209,229,240)"
            ],
            [
             0.7,
             "rgb(146,197,222)"
            ],
            [
             0.8,
             "rgb(67,147,195)"
            ],
            [
             0.9,
             "rgb(33,102,172)"
            ],
            [
             1,
             "rgb(5,48,97)"
            ]
           ],
           "sequential": [
            [
             0,
             "#440154"
            ],
            [
             0.1111111111111111,
             "#482878"
            ],
            [
             0.2222222222222222,
             "#3e4989"
            ],
            [
             0.3333333333333333,
             "#31688e"
            ],
            [
             0.4444444444444444,
             "#26828e"
            ],
            [
             0.5555555555555556,
             "#1f9e89"
            ],
            [
             0.6666666666666666,
             "#35b779"
            ],
            [
             0.7777777777777778,
             "#6ece58"
            ],
            [
             0.8888888888888888,
             "#b5de2b"
            ],
            [
             1,
             "#fde725"
            ]
           ],
           "sequentialminus": [
            [
             0,
             "#440154"
            ],
            [
             0.1111111111111111,
             "#482878"
            ],
            [
             0.2222222222222222,
             "#3e4989"
            ],
            [
             0.3333333333333333,
             "#31688e"
            ],
            [
             0.4444444444444444,
             "#26828e"
            ],
            [
             0.5555555555555556,
             "#1f9e89"
            ],
            [
             0.6666666666666666,
             "#35b779"
            ],
            [
             0.7777777777777778,
             "#6ece58"
            ],
            [
             0.8888888888888888,
             "#b5de2b"
            ],
            [
             1,
             "#fde725"
            ]
           ]
          },
          "colorway": [
           "#1F77B4",
           "#FF7F0E",
           "#2CA02C",
           "#D62728",
           "#9467BD",
           "#8C564B",
           "#E377C2",
           "#7F7F7F",
           "#BCBD22",
           "#17BECF"
          ],
          "font": {
           "color": "rgb(36,36,36)"
          },
          "geo": {
           "bgcolor": "white",
           "lakecolor": "white",
           "landcolor": "white",
           "showlakes": true,
           "showland": true,
           "subunitcolor": "white"
          },
          "hoverlabel": {
           "align": "left"
          },
          "hovermode": "closest",
          "mapbox": {
           "style": "light"
          },
          "paper_bgcolor": "white",
          "plot_bgcolor": "white",
          "polar": {
           "angularaxis": {
            "gridcolor": "rgb(232,232,232)",
            "linecolor": "rgb(36,36,36)",
            "showgrid": false,
            "showline": true,
            "ticks": "outside"
           },
           "bgcolor": "white",
           "radialaxis": {
            "gridcolor": "rgb(232,232,232)",
            "linecolor": "rgb(36,36,36)",
            "showgrid": false,
            "showline": true,
            "ticks": "outside"
           }
          },
          "scene": {
           "xaxis": {
            "backgroundcolor": "white",
            "gridcolor": "rgb(232,232,232)",
            "gridwidth": 2,
            "linecolor": "rgb(36,36,36)",
            "showbackground": true,
            "showgrid": false,
            "showline": true,
            "ticks": "outside",
            "zeroline": false,
            "zerolinecolor": "rgb(36,36,36)"
           },
           "yaxis": {
            "backgroundcolor": "white",
            "gridcolor": "rgb(232,232,232)",
            "gridwidth": 2,
            "linecolor": "rgb(36,36,36)",
            "showbackground": true,
            "showgrid": false,
            "showline": true,
            "ticks": "outside",
            "zeroline": false,
            "zerolinecolor": "rgb(36,36,36)"
           },
           "zaxis": {
            "backgroundcolor": "white",
            "gridcolor": "rgb(232,232,232)",
            "gridwidth": 2,
            "linecolor": "rgb(36,36,36)",
            "showbackground": true,
            "showgrid": false,
            "showline": true,
            "ticks": "outside",
            "zeroline": false,
            "zerolinecolor": "rgb(36,36,36)"
           }
          },
          "shapedefaults": {
           "fillcolor": "black",
           "line": {
            "width": 0
           },
           "opacity": 0.3
          },
          "ternary": {
           "aaxis": {
            "gridcolor": "rgb(232,232,232)",
            "linecolor": "rgb(36,36,36)",
            "showgrid": false,
            "showline": true,
            "ticks": "outside"
           },
           "baxis": {
            "gridcolor": "rgb(232,232,232)",
            "linecolor": "rgb(36,36,36)",
            "showgrid": false,
            "showline": true,
            "ticks": "outside"
           },
           "bgcolor": "white",
           "caxis": {
            "gridcolor": "rgb(232,232,232)",
            "linecolor": "rgb(36,36,36)",
            "showgrid": false,
            "showline": true,
            "ticks": "outside"
           }
          },
          "title": {
           "x": 0.05
          },
          "xaxis": {
           "automargin": true,
           "gridcolor": "rgb(232,232,232)",
           "linecolor": "rgb(36,36,36)",
           "showgrid": false,
           "showline": true,
           "ticks": "outside",
           "title": {
            "standoff": 15
           },
           "zeroline": false,
           "zerolinecolor": "rgb(36,36,36)"
          },
          "yaxis": {
           "automargin": true,
           "gridcolor": "rgb(232,232,232)",
           "linecolor": "rgb(36,36,36)",
           "showgrid": false,
           "showline": true,
           "ticks": "outside",
           "title": {
            "standoff": 15
           },
           "zeroline": false,
           "zerolinecolor": "rgb(36,36,36)"
          }
         }
        },
        "title": {
         "text": "Number of Unique Products (With Sales) （有销售量的产品的数量）"
        },
        "xaxis": {
         "title": {
          "text": "Product Name"
         }
        },
        "yaxis": {
         "title": {
          "text": "Number of Unique Products"
         }
        }
       }
      }
     },
     "metadata": {},
     "output_type": "display_data"
    },
    {
     "data": {
      "application/vnd.plotly.v1+json": {
       "config": {
        "plotlyServerURL": "https://plot.ly"
       },
       "data": [
        {
         "name": "Has Sales",
         "text": [
          0.7083333333333334,
          0.6615384615384615,
          0.6333333333333333,
          0.5998052580331061,
          0.5641025641025641,
          0.5493827160493827,
          0.5238095238095238,
          0.4744525547445255,
          0.47058823529411764,
          0.39307958477508653,
          0.3684210526315789,
          0.35789473684210527,
          0.2
         ],
         "textposition": "auto",
         "texttemplate": "%{text:.2f}",
         "type": "bar",
         "x": [
          "chinese washi tape (中国和纸胶带)",
          "chinese magnets (中国冰箱贴)",
          "chinese mid autumn gift sets (中秋节礼品套装)",
          "name seals (印章)",
          "chinese art stickers (中国艺术贴纸)",
          "brushes and calligraphy tools (笔和书法工具)",
          "chinese bookmarks (中国书签)",
          "bead bracelets and necklaces (珠子手链和项链)",
          "paper lanterns (纸灯笼)",
          "calligraphy prints (书法印刷品)",
          "chinese incense (中国香)",
          "chinese pottery (中国陶器)",
          "chinese bamboo art (中国竹艺)"
         ],
         "y": [
          0.7083333333333334,
          0.6615384615384615,
          0.6333333333333333,
          0.5998052580331061,
          0.5641025641025641,
          0.5493827160493827,
          0.5238095238095238,
          0.4744525547445255,
          0.47058823529411764,
          0.39307958477508653,
          0.3684210526315789,
          0.35789473684210527,
          0.2
         ]
        }
       ],
       "layout": {
        "template": {
         "data": {
          "bar": [
           {
            "error_x": {
             "color": "rgb(36,36,36)"
            },
            "error_y": {
             "color": "rgb(36,36,36)"
            },
            "marker": {
             "line": {
              "color": "white",
              "width": 0.5
             },
             "pattern": {
              "fillmode": "overlay",
              "size": 10,
              "solidity": 0.2
             }
            },
            "type": "bar"
           }
          ],
          "barpolar": [
           {
            "marker": {
             "line": {
              "color": "white",
              "width": 0.5
             },
             "pattern": {
              "fillmode": "overlay",
              "size": 10,
              "solidity": 0.2
             }
            },
            "type": "barpolar"
           }
          ],
          "carpet": [
           {
            "aaxis": {
             "endlinecolor": "rgb(36,36,36)",
             "gridcolor": "white",
             "linecolor": "white",
             "minorgridcolor": "white",
             "startlinecolor": "rgb(36,36,36)"
            },
            "baxis": {
             "endlinecolor": "rgb(36,36,36)",
             "gridcolor": "white",
             "linecolor": "white",
             "minorgridcolor": "white",
             "startlinecolor": "rgb(36,36,36)"
            },
            "type": "carpet"
           }
          ],
          "choropleth": [
           {
            "colorbar": {
             "outlinewidth": 1,
             "tickcolor": "rgb(36,36,36)",
             "ticks": "outside"
            },
            "type": "choropleth"
           }
          ],
          "contour": [
           {
            "colorbar": {
             "outlinewidth": 1,
             "tickcolor": "rgb(36,36,36)",
             "ticks": "outside"
            },
            "colorscale": [
             [
              0,
              "#440154"
             ],
             [
              0.1111111111111111,
              "#482878"
             ],
             [
              0.2222222222222222,
              "#3e4989"
             ],
             [
              0.3333333333333333,
              "#31688e"
             ],
             [
              0.4444444444444444,
              "#26828e"
             ],
             [
              0.5555555555555556,
              "#1f9e89"
             ],
             [
              0.6666666666666666,
              "#35b779"
             ],
             [
              0.7777777777777778,
              "#6ece58"
             ],
             [
              0.8888888888888888,
              "#b5de2b"
             ],
             [
              1,
              "#fde725"
             ]
            ],
            "type": "contour"
           }
          ],
          "contourcarpet": [
           {
            "colorbar": {
             "outlinewidth": 1,
             "tickcolor": "rgb(36,36,36)",
             "ticks": "outside"
            },
            "type": "contourcarpet"
           }
          ],
          "heatmap": [
           {
            "colorbar": {
             "outlinewidth": 1,
             "tickcolor": "rgb(36,36,36)",
             "ticks": "outside"
            },
            "colorscale": [
             [
              0,
              "#440154"
             ],
             [
              0.1111111111111111,
              "#482878"
             ],
             [
              0.2222222222222222,
              "#3e4989"
             ],
             [
              0.3333333333333333,
              "#31688e"
             ],
             [
              0.4444444444444444,
              "#26828e"
             ],
             [
              0.5555555555555556,
              "#1f9e89"
             ],
             [
              0.6666666666666666,
              "#35b779"
             ],
             [
              0.7777777777777778,
              "#6ece58"
             ],
             [
              0.8888888888888888,
              "#b5de2b"
             ],
             [
              1,
              "#fde725"
             ]
            ],
            "type": "heatmap"
           }
          ],
          "heatmapgl": [
           {
            "colorbar": {
             "outlinewidth": 1,
             "tickcolor": "rgb(36,36,36)",
             "ticks": "outside"
            },
            "colorscale": [
             [
              0,
              "#440154"
             ],
             [
              0.1111111111111111,
              "#482878"
             ],
             [
              0.2222222222222222,
              "#3e4989"
             ],
             [
              0.3333333333333333,
              "#31688e"
             ],
             [
              0.4444444444444444,
              "#26828e"
             ],
             [
              0.5555555555555556,
              "#1f9e89"
             ],
             [
              0.6666666666666666,
              "#35b779"
             ],
             [
              0.7777777777777778,
              "#6ece58"
             ],
             [
              0.8888888888888888,
              "#b5de2b"
             ],
             [
              1,
              "#fde725"
             ]
            ],
            "type": "heatmapgl"
           }
          ],
          "histogram": [
           {
            "marker": {
             "line": {
              "color": "white",
              "width": 0.6
             }
            },
            "type": "histogram"
           }
          ],
          "histogram2d": [
           {
            "colorbar": {
             "outlinewidth": 1,
             "tickcolor": "rgb(36,36,36)",
             "ticks": "outside"
            },
            "colorscale": [
             [
              0,
              "#440154"
             ],
             [
              0.1111111111111111,
              "#482878"
             ],
             [
              0.2222222222222222,
              "#3e4989"
             ],
             [
              0.3333333333333333,
              "#31688e"
             ],
             [
              0.4444444444444444,
              "#26828e"
             ],
             [
              0.5555555555555556,
              "#1f9e89"
             ],
             [
              0.6666666666666666,
              "#35b779"
             ],
             [
              0.7777777777777778,
              "#6ece58"
             ],
             [
              0.8888888888888888,
              "#b5de2b"
             ],
             [
              1,
              "#fde725"
             ]
            ],
            "type": "histogram2d"
           }
          ],
          "histogram2dcontour": [
           {
            "colorbar": {
             "outlinewidth": 1,
             "tickcolor": "rgb(36,36,36)",
             "ticks": "outside"
            },
            "colorscale": [
             [
              0,
              "#440154"
             ],
             [
              0.1111111111111111,
              "#482878"
             ],
             [
              0.2222222222222222,
              "#3e4989"
             ],
             [
              0.3333333333333333,
              "#31688e"
             ],
             [
              0.4444444444444444,
              "#26828e"
             ],
             [
              0.5555555555555556,
              "#1f9e89"
             ],
             [
              0.6666666666666666,
              "#35b779"
             ],
             [
              0.7777777777777778,
              "#6ece58"
             ],
             [
              0.8888888888888888,
              "#b5de2b"
             ],
             [
              1,
              "#fde725"
             ]
            ],
            "type": "histogram2dcontour"
           }
          ],
          "mesh3d": [
           {
            "colorbar": {
             "outlinewidth": 1,
             "tickcolor": "rgb(36,36,36)",
             "ticks": "outside"
            },
            "type": "mesh3d"
           }
          ],
          "parcoords": [
           {
            "line": {
             "colorbar": {
              "outlinewidth": 1,
              "tickcolor": "rgb(36,36,36)",
              "ticks": "outside"
             }
            },
            "type": "parcoords"
           }
          ],
          "pie": [
           {
            "automargin": true,
            "type": "pie"
           }
          ],
          "scatter": [
           {
            "fillpattern": {
             "fillmode": "overlay",
             "size": 10,
             "solidity": 0.2
            },
            "type": "scatter"
           }
          ],
          "scatter3d": [
           {
            "line": {
             "colorbar": {
              "outlinewidth": 1,
              "tickcolor": "rgb(36,36,36)",
              "ticks": "outside"
             }
            },
            "marker": {
             "colorbar": {
              "outlinewidth": 1,
              "tickcolor": "rgb(36,36,36)",
              "ticks": "outside"
             }
            },
            "type": "scatter3d"
           }
          ],
          "scattercarpet": [
           {
            "marker": {
             "colorbar": {
              "outlinewidth": 1,
              "tickcolor": "rgb(36,36,36)",
              "ticks": "outside"
             }
            },
            "type": "scattercarpet"
           }
          ],
          "scattergeo": [
           {
            "marker": {
             "colorbar": {
              "outlinewidth": 1,
              "tickcolor": "rgb(36,36,36)",
              "ticks": "outside"
             }
            },
            "type": "scattergeo"
           }
          ],
          "scattergl": [
           {
            "marker": {
             "colorbar": {
              "outlinewidth": 1,
              "tickcolor": "rgb(36,36,36)",
              "ticks": "outside"
             }
            },
            "type": "scattergl"
           }
          ],
          "scattermapbox": [
           {
            "marker": {
             "colorbar": {
              "outlinewidth": 1,
              "tickcolor": "rgb(36,36,36)",
              "ticks": "outside"
             }
            },
            "type": "scattermapbox"
           }
          ],
          "scatterpolar": [
           {
            "marker": {
             "colorbar": {
              "outlinewidth": 1,
              "tickcolor": "rgb(36,36,36)",
              "ticks": "outside"
             }
            },
            "type": "scatterpolar"
           }
          ],
          "scatterpolargl": [
           {
            "marker": {
             "colorbar": {
              "outlinewidth": 1,
              "tickcolor": "rgb(36,36,36)",
              "ticks": "outside"
             }
            },
            "type": "scatterpolargl"
           }
          ],
          "scatterternary": [
           {
            "marker": {
             "colorbar": {
              "outlinewidth": 1,
              "tickcolor": "rgb(36,36,36)",
              "ticks": "outside"
             }
            },
            "type": "scatterternary"
           }
          ],
          "surface": [
           {
            "colorbar": {
             "outlinewidth": 1,
             "tickcolor": "rgb(36,36,36)",
             "ticks": "outside"
            },
            "colorscale": [
             [
              0,
              "#440154"
             ],
             [
              0.1111111111111111,
              "#482878"
             ],
             [
              0.2222222222222222,
              "#3e4989"
             ],
             [
              0.3333333333333333,
              "#31688e"
             ],
             [
              0.4444444444444444,
              "#26828e"
             ],
             [
              0.5555555555555556,
              "#1f9e89"
             ],
             [
              0.6666666666666666,
              "#35b779"
             ],
             [
              0.7777777777777778,
              "#6ece58"
             ],
             [
              0.8888888888888888,
              "#b5de2b"
             ],
             [
              1,
              "#fde725"
             ]
            ],
            "type": "surface"
           }
          ],
          "table": [
           {
            "cells": {
             "fill": {
              "color": "rgb(237,237,237)"
             },
             "line": {
              "color": "white"
             }
            },
            "header": {
             "fill": {
              "color": "rgb(217,217,217)"
             },
             "line": {
              "color": "white"
             }
            },
            "type": "table"
           }
          ]
         },
         "layout": {
          "annotationdefaults": {
           "arrowhead": 0,
           "arrowwidth": 1
          },
          "autotypenumbers": "strict",
          "coloraxis": {
           "colorbar": {
            "outlinewidth": 1,
            "tickcolor": "rgb(36,36,36)",
            "ticks": "outside"
           }
          },
          "colorscale": {
           "diverging": [
            [
             0,
             "rgb(103,0,31)"
            ],
            [
             0.1,
             "rgb(178,24,43)"
            ],
            [
             0.2,
             "rgb(214,96,77)"
            ],
            [
             0.3,
             "rgb(244,165,130)"
            ],
            [
             0.4,
             "rgb(253,219,199)"
            ],
            [
             0.5,
             "rgb(247,247,247)"
            ],
            [
             0.6,
             "rgb(209,229,240)"
            ],
            [
             0.7,
             "rgb(146,197,222)"
            ],
            [
             0.8,
             "rgb(67,147,195)"
            ],
            [
             0.9,
             "rgb(33,102,172)"
            ],
            [
             1,
             "rgb(5,48,97)"
            ]
           ],
           "sequential": [
            [
             0,
             "#440154"
            ],
            [
             0.1111111111111111,
             "#482878"
            ],
            [
             0.2222222222222222,
             "#3e4989"
            ],
            [
             0.3333333333333333,
             "#31688e"
            ],
            [
             0.4444444444444444,
             "#26828e"
            ],
            [
             0.5555555555555556,
             "#1f9e89"
            ],
            [
             0.6666666666666666,
             "#35b779"
            ],
            [
             0.7777777777777778,
             "#6ece58"
            ],
            [
             0.8888888888888888,
             "#b5de2b"
            ],
            [
             1,
             "#fde725"
            ]
           ],
           "sequentialminus": [
            [
             0,
             "#440154"
            ],
            [
             0.1111111111111111,
             "#482878"
            ],
            [
             0.2222222222222222,
             "#3e4989"
            ],
            [
             0.3333333333333333,
             "#31688e"
            ],
            [
             0.4444444444444444,
             "#26828e"
            ],
            [
             0.5555555555555556,
             "#1f9e89"
            ],
            [
             0.6666666666666666,
             "#35b779"
            ],
            [
             0.7777777777777778,
             "#6ece58"
            ],
            [
             0.8888888888888888,
             "#b5de2b"
            ],
            [
             1,
             "#fde725"
            ]
           ]
          },
          "colorway": [
           "#1F77B4",
           "#FF7F0E",
           "#2CA02C",
           "#D62728",
           "#9467BD",
           "#8C564B",
           "#E377C2",
           "#7F7F7F",
           "#BCBD22",
           "#17BECF"
          ],
          "font": {
           "color": "rgb(36,36,36)"
          },
          "geo": {
           "bgcolor": "white",
           "lakecolor": "white",
           "landcolor": "white",
           "showlakes": true,
           "showland": true,
           "subunitcolor": "white"
          },
          "hoverlabel": {
           "align": "left"
          },
          "hovermode": "closest",
          "mapbox": {
           "style": "light"
          },
          "paper_bgcolor": "white",
          "plot_bgcolor": "white",
          "polar": {
           "angularaxis": {
            "gridcolor": "rgb(232,232,232)",
            "linecolor": "rgb(36,36,36)",
            "showgrid": false,
            "showline": true,
            "ticks": "outside"
           },
           "bgcolor": "white",
           "radialaxis": {
            "gridcolor": "rgb(232,232,232)",
            "linecolor": "rgb(36,36,36)",
            "showgrid": false,
            "showline": true,
            "ticks": "outside"
           }
          },
          "scene": {
           "xaxis": {
            "backgroundcolor": "white",
            "gridcolor": "rgb(232,232,232)",
            "gridwidth": 2,
            "linecolor": "rgb(36,36,36)",
            "showbackground": true,
            "showgrid": false,
            "showline": true,
            "ticks": "outside",
            "zeroline": false,
            "zerolinecolor": "rgb(36,36,36)"
           },
           "yaxis": {
            "backgroundcolor": "white",
            "gridcolor": "rgb(232,232,232)",
            "gridwidth": 2,
            "linecolor": "rgb(36,36,36)",
            "showbackground": true,
            "showgrid": false,
            "showline": true,
            "ticks": "outside",
            "zeroline": false,
            "zerolinecolor": "rgb(36,36,36)"
           },
           "zaxis": {
            "backgroundcolor": "white",
            "gridcolor": "rgb(232,232,232)",
            "gridwidth": 2,
            "linecolor": "rgb(36,36,36)",
            "showbackground": true,
            "showgrid": false,
            "showline": true,
            "ticks": "outside",
            "zeroline": false,
            "zerolinecolor": "rgb(36,36,36)"
           }
          },
          "shapedefaults": {
           "fillcolor": "black",
           "line": {
            "width": 0
           },
           "opacity": 0.3
          },
          "ternary": {
           "aaxis": {
            "gridcolor": "rgb(232,232,232)",
            "linecolor": "rgb(36,36,36)",
            "showgrid": false,
            "showline": true,
            "ticks": "outside"
           },
           "baxis": {
            "gridcolor": "rgb(232,232,232)",
            "linecolor": "rgb(36,36,36)",
            "showgrid": false,
            "showline": true,
            "ticks": "outside"
           },
           "bgcolor": "white",
           "caxis": {
            "gridcolor": "rgb(232,232,232)",
            "linecolor": "rgb(36,36,36)",
            "showgrid": false,
            "showline": true,
            "ticks": "outside"
           }
          },
          "title": {
           "x": 0.05
          },
          "xaxis": {
           "automargin": true,
           "gridcolor": "rgb(232,232,232)",
           "linecolor": "rgb(36,36,36)",
           "showgrid": false,
           "showline": true,
           "ticks": "outside",
           "title": {
            "standoff": 15
           },
           "zeroline": false,
           "zerolinecolor": "rgb(36,36,36)"
          },
          "yaxis": {
           "automargin": true,
           "gridcolor": "rgb(232,232,232)",
           "linecolor": "rgb(36,36,36)",
           "showgrid": false,
           "showline": true,
           "ticks": "outside",
           "title": {
            "standoff": 15
           },
           "zeroline": false,
           "zerolinecolor": "rgb(36,36,36)"
          }
         }
        },
        "title": {
         "text": "Percentage of Products with Sales （有销售量的产品的百分比）"
        },
        "xaxis": {
         "title": {
          "text": "Product Name"
         }
        },
        "yaxis": {
         "title": {
          "text": "Percentage of Products with Sales (%)"
         }
        }
       }
      }
     },
     "metadata": {},
     "output_type": "display_data"
    }
   ],
   "source": [
    "# Number of unique product URLs by product\n",
    "fig1 = plot_bar_chart_plotly(\n",
    "    all_product_data.groupby(\"product_name_chinese_name\")[\"Product URL\"]\n",
    "    .nunique()\n",
    "    .reset_index(),\n",
    "    x=\"product_name_chinese_name\",\n",
    "    y=\"Product URL\",\n",
    "    title=\"Number of Unique Products （产品数目）\",\n",
    "    x_label=\"Product Name\",\n",
    "    y_label=\"Number of Unique Products\",\n",
    ")\n",
    "\n",
    "# With sales\n",
    "fig2 = plot_bar_chart_plotly(\n",
    "    all_product_data[all_product_data[\"has_sales\"] == True]\n",
    "    .groupby(\"product_name_chinese_name\")[\"Product URL\"]\n",
    "    .nunique()\n",
    "    .reset_index(),\n",
    "    x=\"product_name_chinese_name\",\n",
    "    y=\"Product URL\",\n",
    "    title=\"Number of Unique Products (With Sales) （有销售量的产品的数量）\",\n",
    "    x_label=\"Product Name\",\n",
    "    y_label=\"Number of Unique Products\",\n",
    ")\n",
    "\n",
    "\n",
    "# Plot Percentage of products with sales per product\n",
    "fig3 = plot_bar_chart_plotly(\n",
    "    all_product_data.groupby(\"product_name_chinese_name\")[\"has_sales\"]\n",
    "    .mean()\n",
    "    .reset_index(),\n",
    "    x=\"product_name_chinese_name\",\n",
    "    y=\"has_sales\",\n",
    "    title=\"Percentage of Products with Sales （有销售量的产品的百分比）\",\n",
    "    x_label=\"Product Name\",\n",
    "    y_label=\"Percentage of Products with Sales (%)\",\n",
    ")\n",
    "\n",
    "fig1.show()\n",
    "fig2.show()\n",
    "fig3.show()"
   ]
  },
  {
   "cell_type": "code",
   "execution_count": 14,
   "metadata": {},
   "outputs": [
    {
     "data": {
      "application/vnd.plotly.v1+json": {
       "config": {
        "plotlyServerURL": "https://plot.ly"
       },
       "data": [
        {
         "name": "Store Name",
         "text": [
          370,
          123,
          123,
          94,
          86,
          73,
          63,
          61,
          58,
          43,
          39,
          19,
          18
         ],
         "textposition": "auto",
         "texttemplate": "%{text:.2f}",
         "type": "bar",
         "x": [
          "calligraphy prints (书法印刷品)",
          "chinese pottery (中国陶器)",
          "paper lanterns (纸灯笼)",
          "bead bracelets and necklaces (珠子手链和项链)",
          "name seals (印章)",
          "chinese art stickers (中国艺术贴纸)",
          "brushes and calligraphy tools (笔和书法工具)",
          "chinese magnets (中国冰箱贴)",
          "chinese washi tape (中国和纸胶带)",
          "chinese bookmarks (中国书签)",
          "chinese incense (中国香)",
          "chinese bamboo art (中国竹艺)",
          "chinese mid autumn gift sets (中秋节礼品套装)"
         ],
         "y": [
          370,
          123,
          123,
          94,
          86,
          73,
          63,
          61,
          58,
          43,
          39,
          19,
          18
         ]
        }
       ],
       "layout": {
        "template": {
         "data": {
          "bar": [
           {
            "error_x": {
             "color": "rgb(36,36,36)"
            },
            "error_y": {
             "color": "rgb(36,36,36)"
            },
            "marker": {
             "line": {
              "color": "white",
              "width": 0.5
             },
             "pattern": {
              "fillmode": "overlay",
              "size": 10,
              "solidity": 0.2
             }
            },
            "type": "bar"
           }
          ],
          "barpolar": [
           {
            "marker": {
             "line": {
              "color": "white",
              "width": 0.5
             },
             "pattern": {
              "fillmode": "overlay",
              "size": 10,
              "solidity": 0.2
             }
            },
            "type": "barpolar"
           }
          ],
          "carpet": [
           {
            "aaxis": {
             "endlinecolor": "rgb(36,36,36)",
             "gridcolor": "white",
             "linecolor": "white",
             "minorgridcolor": "white",
             "startlinecolor": "rgb(36,36,36)"
            },
            "baxis": {
             "endlinecolor": "rgb(36,36,36)",
             "gridcolor": "white",
             "linecolor": "white",
             "minorgridcolor": "white",
             "startlinecolor": "rgb(36,36,36)"
            },
            "type": "carpet"
           }
          ],
          "choropleth": [
           {
            "colorbar": {
             "outlinewidth": 1,
             "tickcolor": "rgb(36,36,36)",
             "ticks": "outside"
            },
            "type": "choropleth"
           }
          ],
          "contour": [
           {
            "colorbar": {
             "outlinewidth": 1,
             "tickcolor": "rgb(36,36,36)",
             "ticks": "outside"
            },
            "colorscale": [
             [
              0,
              "#440154"
             ],
             [
              0.1111111111111111,
              "#482878"
             ],
             [
              0.2222222222222222,
              "#3e4989"
             ],
             [
              0.3333333333333333,
              "#31688e"
             ],
             [
              0.4444444444444444,
              "#26828e"
             ],
             [
              0.5555555555555556,
              "#1f9e89"
             ],
             [
              0.6666666666666666,
              "#35b779"
             ],
             [
              0.7777777777777778,
              "#6ece58"
             ],
             [
              0.8888888888888888,
              "#b5de2b"
             ],
             [
              1,
              "#fde725"
             ]
            ],
            "type": "contour"
           }
          ],
          "contourcarpet": [
           {
            "colorbar": {
             "outlinewidth": 1,
             "tickcolor": "rgb(36,36,36)",
             "ticks": "outside"
            },
            "type": "contourcarpet"
           }
          ],
          "heatmap": [
           {
            "colorbar": {
             "outlinewidth": 1,
             "tickcolor": "rgb(36,36,36)",
             "ticks": "outside"
            },
            "colorscale": [
             [
              0,
              "#440154"
             ],
             [
              0.1111111111111111,
              "#482878"
             ],
             [
              0.2222222222222222,
              "#3e4989"
             ],
             [
              0.3333333333333333,
              "#31688e"
             ],
             [
              0.4444444444444444,
              "#26828e"
             ],
             [
              0.5555555555555556,
              "#1f9e89"
             ],
             [
              0.6666666666666666,
              "#35b779"
             ],
             [
              0.7777777777777778,
              "#6ece58"
             ],
             [
              0.8888888888888888,
              "#b5de2b"
             ],
             [
              1,
              "#fde725"
             ]
            ],
            "type": "heatmap"
           }
          ],
          "heatmapgl": [
           {
            "colorbar": {
             "outlinewidth": 1,
             "tickcolor": "rgb(36,36,36)",
             "ticks": "outside"
            },
            "colorscale": [
             [
              0,
              "#440154"
             ],
             [
              0.1111111111111111,
              "#482878"
             ],
             [
              0.2222222222222222,
              "#3e4989"
             ],
             [
              0.3333333333333333,
              "#31688e"
             ],
             [
              0.4444444444444444,
              "#26828e"
             ],
             [
              0.5555555555555556,
              "#1f9e89"
             ],
             [
              0.6666666666666666,
              "#35b779"
             ],
             [
              0.7777777777777778,
              "#6ece58"
             ],
             [
              0.8888888888888888,
              "#b5de2b"
             ],
             [
              1,
              "#fde725"
             ]
            ],
            "type": "heatmapgl"
           }
          ],
          "histogram": [
           {
            "marker": {
             "line": {
              "color": "white",
              "width": 0.6
             }
            },
            "type": "histogram"
           }
          ],
          "histogram2d": [
           {
            "colorbar": {
             "outlinewidth": 1,
             "tickcolor": "rgb(36,36,36)",
             "ticks": "outside"
            },
            "colorscale": [
             [
              0,
              "#440154"
             ],
             [
              0.1111111111111111,
              "#482878"
             ],
             [
              0.2222222222222222,
              "#3e4989"
             ],
             [
              0.3333333333333333,
              "#31688e"
             ],
             [
              0.4444444444444444,
              "#26828e"
             ],
             [
              0.5555555555555556,
              "#1f9e89"
             ],
             [
              0.6666666666666666,
              "#35b779"
             ],
             [
              0.7777777777777778,
              "#6ece58"
             ],
             [
              0.8888888888888888,
              "#b5de2b"
             ],
             [
              1,
              "#fde725"
             ]
            ],
            "type": "histogram2d"
           }
          ],
          "histogram2dcontour": [
           {
            "colorbar": {
             "outlinewidth": 1,
             "tickcolor": "rgb(36,36,36)",
             "ticks": "outside"
            },
            "colorscale": [
             [
              0,
              "#440154"
             ],
             [
              0.1111111111111111,
              "#482878"
             ],
             [
              0.2222222222222222,
              "#3e4989"
             ],
             [
              0.3333333333333333,
              "#31688e"
             ],
             [
              0.4444444444444444,
              "#26828e"
             ],
             [
              0.5555555555555556,
              "#1f9e89"
             ],
             [
              0.6666666666666666,
              "#35b779"
             ],
             [
              0.7777777777777778,
              "#6ece58"
             ],
             [
              0.8888888888888888,
              "#b5de2b"
             ],
             [
              1,
              "#fde725"
             ]
            ],
            "type": "histogram2dcontour"
           }
          ],
          "mesh3d": [
           {
            "colorbar": {
             "outlinewidth": 1,
             "tickcolor": "rgb(36,36,36)",
             "ticks": "outside"
            },
            "type": "mesh3d"
           }
          ],
          "parcoords": [
           {
            "line": {
             "colorbar": {
              "outlinewidth": 1,
              "tickcolor": "rgb(36,36,36)",
              "ticks": "outside"
             }
            },
            "type": "parcoords"
           }
          ],
          "pie": [
           {
            "automargin": true,
            "type": "pie"
           }
          ],
          "scatter": [
           {
            "fillpattern": {
             "fillmode": "overlay",
             "size": 10,
             "solidity": 0.2
            },
            "type": "scatter"
           }
          ],
          "scatter3d": [
           {
            "line": {
             "colorbar": {
              "outlinewidth": 1,
              "tickcolor": "rgb(36,36,36)",
              "ticks": "outside"
             }
            },
            "marker": {
             "colorbar": {
              "outlinewidth": 1,
              "tickcolor": "rgb(36,36,36)",
              "ticks": "outside"
             }
            },
            "type": "scatter3d"
           }
          ],
          "scattercarpet": [
           {
            "marker": {
             "colorbar": {
              "outlinewidth": 1,
              "tickcolor": "rgb(36,36,36)",
              "ticks": "outside"
             }
            },
            "type": "scattercarpet"
           }
          ],
          "scattergeo": [
           {
            "marker": {
             "colorbar": {
              "outlinewidth": 1,
              "tickcolor": "rgb(36,36,36)",
              "ticks": "outside"
             }
            },
            "type": "scattergeo"
           }
          ],
          "scattergl": [
           {
            "marker": {
             "colorbar": {
              "outlinewidth": 1,
              "tickcolor": "rgb(36,36,36)",
              "ticks": "outside"
             }
            },
            "type": "scattergl"
           }
          ],
          "scattermapbox": [
           {
            "marker": {
             "colorbar": {
              "outlinewidth": 1,
              "tickcolor": "rgb(36,36,36)",
              "ticks": "outside"
             }
            },
            "type": "scattermapbox"
           }
          ],
          "scatterpolar": [
           {
            "marker": {
             "colorbar": {
              "outlinewidth": 1,
              "tickcolor": "rgb(36,36,36)",
              "ticks": "outside"
             }
            },
            "type": "scatterpolar"
           }
          ],
          "scatterpolargl": [
           {
            "marker": {
             "colorbar": {
              "outlinewidth": 1,
              "tickcolor": "rgb(36,36,36)",
              "ticks": "outside"
             }
            },
            "type": "scatterpolargl"
           }
          ],
          "scatterternary": [
           {
            "marker": {
             "colorbar": {
              "outlinewidth": 1,
              "tickcolor": "rgb(36,36,36)",
              "ticks": "outside"
             }
            },
            "type": "scatterternary"
           }
          ],
          "surface": [
           {
            "colorbar": {
             "outlinewidth": 1,
             "tickcolor": "rgb(36,36,36)",
             "ticks": "outside"
            },
            "colorscale": [
             [
              0,
              "#440154"
             ],
             [
              0.1111111111111111,
              "#482878"
             ],
             [
              0.2222222222222222,
              "#3e4989"
             ],
             [
              0.3333333333333333,
              "#31688e"
             ],
             [
              0.4444444444444444,
              "#26828e"
             ],
             [
              0.5555555555555556,
              "#1f9e89"
             ],
             [
              0.6666666666666666,
              "#35b779"
             ],
             [
              0.7777777777777778,
              "#6ece58"
             ],
             [
              0.8888888888888888,
              "#b5de2b"
             ],
             [
              1,
              "#fde725"
             ]
            ],
            "type": "surface"
           }
          ],
          "table": [
           {
            "cells": {
             "fill": {
              "color": "rgb(237,237,237)"
             },
             "line": {
              "color": "white"
             }
            },
            "header": {
             "fill": {
              "color": "rgb(217,217,217)"
             },
             "line": {
              "color": "white"
             }
            },
            "type": "table"
           }
          ]
         },
         "layout": {
          "annotationdefaults": {
           "arrowhead": 0,
           "arrowwidth": 1
          },
          "autotypenumbers": "strict",
          "coloraxis": {
           "colorbar": {
            "outlinewidth": 1,
            "tickcolor": "rgb(36,36,36)",
            "ticks": "outside"
           }
          },
          "colorscale": {
           "diverging": [
            [
             0,
             "rgb(103,0,31)"
            ],
            [
             0.1,
             "rgb(178,24,43)"
            ],
            [
             0.2,
             "rgb(214,96,77)"
            ],
            [
             0.3,
             "rgb(244,165,130)"
            ],
            [
             0.4,
             "rgb(253,219,199)"
            ],
            [
             0.5,
             "rgb(247,247,247)"
            ],
            [
             0.6,
             "rgb(209,229,240)"
            ],
            [
             0.7,
             "rgb(146,197,222)"
            ],
            [
             0.8,
             "rgb(67,147,195)"
            ],
            [
             0.9,
             "rgb(33,102,172)"
            ],
            [
             1,
             "rgb(5,48,97)"
            ]
           ],
           "sequential": [
            [
             0,
             "#440154"
            ],
            [
             0.1111111111111111,
             "#482878"
            ],
            [
             0.2222222222222222,
             "#3e4989"
            ],
            [
             0.3333333333333333,
             "#31688e"
            ],
            [
             0.4444444444444444,
             "#26828e"
            ],
            [
             0.5555555555555556,
             "#1f9e89"
            ],
            [
             0.6666666666666666,
             "#35b779"
            ],
            [
             0.7777777777777778,
             "#6ece58"
            ],
            [
             0.8888888888888888,
             "#b5de2b"
            ],
            [
             1,
             "#fde725"
            ]
           ],
           "sequentialminus": [
            [
             0,
             "#440154"
            ],
            [
             0.1111111111111111,
             "#482878"
            ],
            [
             0.2222222222222222,
             "#3e4989"
            ],
            [
             0.3333333333333333,
             "#31688e"
            ],
            [
             0.4444444444444444,
             "#26828e"
            ],
            [
             0.5555555555555556,
             "#1f9e89"
            ],
            [
             0.6666666666666666,
             "#35b779"
            ],
            [
             0.7777777777777778,
             "#6ece58"
            ],
            [
             0.8888888888888888,
             "#b5de2b"
            ],
            [
             1,
             "#fde725"
            ]
           ]
          },
          "colorway": [
           "#1F77B4",
           "#FF7F0E",
           "#2CA02C",
           "#D62728",
           "#9467BD",
           "#8C564B",
           "#E377C2",
           "#7F7F7F",
           "#BCBD22",
           "#17BECF"
          ],
          "font": {
           "color": "rgb(36,36,36)"
          },
          "geo": {
           "bgcolor": "white",
           "lakecolor": "white",
           "landcolor": "white",
           "showlakes": true,
           "showland": true,
           "subunitcolor": "white"
          },
          "hoverlabel": {
           "align": "left"
          },
          "hovermode": "closest",
          "mapbox": {
           "style": "light"
          },
          "paper_bgcolor": "white",
          "plot_bgcolor": "white",
          "polar": {
           "angularaxis": {
            "gridcolor": "rgb(232,232,232)",
            "linecolor": "rgb(36,36,36)",
            "showgrid": false,
            "showline": true,
            "ticks": "outside"
           },
           "bgcolor": "white",
           "radialaxis": {
            "gridcolor": "rgb(232,232,232)",
            "linecolor": "rgb(36,36,36)",
            "showgrid": false,
            "showline": true,
            "ticks": "outside"
           }
          },
          "scene": {
           "xaxis": {
            "backgroundcolor": "white",
            "gridcolor": "rgb(232,232,232)",
            "gridwidth": 2,
            "linecolor": "rgb(36,36,36)",
            "showbackground": true,
            "showgrid": false,
            "showline": true,
            "ticks": "outside",
            "zeroline": false,
            "zerolinecolor": "rgb(36,36,36)"
           },
           "yaxis": {
            "backgroundcolor": "white",
            "gridcolor": "rgb(232,232,232)",
            "gridwidth": 2,
            "linecolor": "rgb(36,36,36)",
            "showbackground": true,
            "showgrid": false,
            "showline": true,
            "ticks": "outside",
            "zeroline": false,
            "zerolinecolor": "rgb(36,36,36)"
           },
           "zaxis": {
            "backgroundcolor": "white",
            "gridcolor": "rgb(232,232,232)",
            "gridwidth": 2,
            "linecolor": "rgb(36,36,36)",
            "showbackground": true,
            "showgrid": false,
            "showline": true,
            "ticks": "outside",
            "zeroline": false,
            "zerolinecolor": "rgb(36,36,36)"
           }
          },
          "shapedefaults": {
           "fillcolor": "black",
           "line": {
            "width": 0
           },
           "opacity": 0.3
          },
          "ternary": {
           "aaxis": {
            "gridcolor": "rgb(232,232,232)",
            "linecolor": "rgb(36,36,36)",
            "showgrid": false,
            "showline": true,
            "ticks": "outside"
           },
           "baxis": {
            "gridcolor": "rgb(232,232,232)",
            "linecolor": "rgb(36,36,36)",
            "showgrid": false,
            "showline": true,
            "ticks": "outside"
           },
           "bgcolor": "white",
           "caxis": {
            "gridcolor": "rgb(232,232,232)",
            "linecolor": "rgb(36,36,36)",
            "showgrid": false,
            "showline": true,
            "ticks": "outside"
           }
          },
          "title": {
           "x": 0.05
          },
          "xaxis": {
           "automargin": true,
           "gridcolor": "rgb(232,232,232)",
           "linecolor": "rgb(36,36,36)",
           "showgrid": false,
           "showline": true,
           "ticks": "outside",
           "title": {
            "standoff": 15
           },
           "zeroline": false,
           "zerolinecolor": "rgb(36,36,36)"
          },
          "yaxis": {
           "automargin": true,
           "gridcolor": "rgb(232,232,232)",
           "linecolor": "rgb(36,36,36)",
           "showgrid": false,
           "showline": true,
           "ticks": "outside",
           "title": {
            "standoff": 15
           },
           "zeroline": false,
           "zerolinecolor": "rgb(36,36,36)"
          }
         }
        },
        "title": {
         "text": "Number of Unique Stores by Product （商店的数量）"
        },
        "xaxis": {
         "title": {
          "text": "Product Name"
         }
        },
        "yaxis": {
         "title": {
          "text": "Number of Unique Stores"
         }
        }
       }
      }
     },
     "metadata": {},
     "output_type": "display_data"
    },
    {
     "data": {
      "application/vnd.plotly.v1+json": {
       "config": {
        "plotlyServerURL": "https://plot.ly"
       },
       "data": [
        {
         "name": "Store Name",
         "text": [
          185,
          64,
          52,
          50,
          49,
          49,
          47,
          42,
          40,
          25,
          15,
          12,
          7
         ],
         "textposition": "auto",
         "texttemplate": "%{text:.2f}",
         "type": "bar",
         "x": [
          "calligraphy prints (书法印刷品)",
          "paper lanterns (纸灯笼)",
          "bead bracelets and necklaces (珠子手链和项链)",
          "name seals (印章)",
          "chinese pottery (中国陶器)",
          "chinese washi tape (中国和纸胶带)",
          "chinese art stickers (中国艺术贴纸)",
          "chinese magnets (中国冰箱贴)",
          "brushes and calligraphy tools (笔和书法工具)",
          "chinese bookmarks (中国书签)",
          "chinese incense (中国香)",
          "chinese mid autumn gift sets (中秋节礼品套装)",
          "chinese bamboo art (中国竹艺)"
         ],
         "y": [
          185,
          64,
          52,
          50,
          49,
          49,
          47,
          42,
          40,
          25,
          15,
          12,
          7
         ]
        }
       ],
       "layout": {
        "template": {
         "data": {
          "bar": [
           {
            "error_x": {
             "color": "rgb(36,36,36)"
            },
            "error_y": {
             "color": "rgb(36,36,36)"
            },
            "marker": {
             "line": {
              "color": "white",
              "width": 0.5
             },
             "pattern": {
              "fillmode": "overlay",
              "size": 10,
              "solidity": 0.2
             }
            },
            "type": "bar"
           }
          ],
          "barpolar": [
           {
            "marker": {
             "line": {
              "color": "white",
              "width": 0.5
             },
             "pattern": {
              "fillmode": "overlay",
              "size": 10,
              "solidity": 0.2
             }
            },
            "type": "barpolar"
           }
          ],
          "carpet": [
           {
            "aaxis": {
             "endlinecolor": "rgb(36,36,36)",
             "gridcolor": "white",
             "linecolor": "white",
             "minorgridcolor": "white",
             "startlinecolor": "rgb(36,36,36)"
            },
            "baxis": {
             "endlinecolor": "rgb(36,36,36)",
             "gridcolor": "white",
             "linecolor": "white",
             "minorgridcolor": "white",
             "startlinecolor": "rgb(36,36,36)"
            },
            "type": "carpet"
           }
          ],
          "choropleth": [
           {
            "colorbar": {
             "outlinewidth": 1,
             "tickcolor": "rgb(36,36,36)",
             "ticks": "outside"
            },
            "type": "choropleth"
           }
          ],
          "contour": [
           {
            "colorbar": {
             "outlinewidth": 1,
             "tickcolor": "rgb(36,36,36)",
             "ticks": "outside"
            },
            "colorscale": [
             [
              0,
              "#440154"
             ],
             [
              0.1111111111111111,
              "#482878"
             ],
             [
              0.2222222222222222,
              "#3e4989"
             ],
             [
              0.3333333333333333,
              "#31688e"
             ],
             [
              0.4444444444444444,
              "#26828e"
             ],
             [
              0.5555555555555556,
              "#1f9e89"
             ],
             [
              0.6666666666666666,
              "#35b779"
             ],
             [
              0.7777777777777778,
              "#6ece58"
             ],
             [
              0.8888888888888888,
              "#b5de2b"
             ],
             [
              1,
              "#fde725"
             ]
            ],
            "type": "contour"
           }
          ],
          "contourcarpet": [
           {
            "colorbar": {
             "outlinewidth": 1,
             "tickcolor": "rgb(36,36,36)",
             "ticks": "outside"
            },
            "type": "contourcarpet"
           }
          ],
          "heatmap": [
           {
            "colorbar": {
             "outlinewidth": 1,
             "tickcolor": "rgb(36,36,36)",
             "ticks": "outside"
            },
            "colorscale": [
             [
              0,
              "#440154"
             ],
             [
              0.1111111111111111,
              "#482878"
             ],
             [
              0.2222222222222222,
              "#3e4989"
             ],
             [
              0.3333333333333333,
              "#31688e"
             ],
             [
              0.4444444444444444,
              "#26828e"
             ],
             [
              0.5555555555555556,
              "#1f9e89"
             ],
             [
              0.6666666666666666,
              "#35b779"
             ],
             [
              0.7777777777777778,
              "#6ece58"
             ],
             [
              0.8888888888888888,
              "#b5de2b"
             ],
             [
              1,
              "#fde725"
             ]
            ],
            "type": "heatmap"
           }
          ],
          "heatmapgl": [
           {
            "colorbar": {
             "outlinewidth": 1,
             "tickcolor": "rgb(36,36,36)",
             "ticks": "outside"
            },
            "colorscale": [
             [
              0,
              "#440154"
             ],
             [
              0.1111111111111111,
              "#482878"
             ],
             [
              0.2222222222222222,
              "#3e4989"
             ],
             [
              0.3333333333333333,
              "#31688e"
             ],
             [
              0.4444444444444444,
              "#26828e"
             ],
             [
              0.5555555555555556,
              "#1f9e89"
             ],
             [
              0.6666666666666666,
              "#35b779"
             ],
             [
              0.7777777777777778,
              "#6ece58"
             ],
             [
              0.8888888888888888,
              "#b5de2b"
             ],
             [
              1,
              "#fde725"
             ]
            ],
            "type": "heatmapgl"
           }
          ],
          "histogram": [
           {
            "marker": {
             "line": {
              "color": "white",
              "width": 0.6
             }
            },
            "type": "histogram"
           }
          ],
          "histogram2d": [
           {
            "colorbar": {
             "outlinewidth": 1,
             "tickcolor": "rgb(36,36,36)",
             "ticks": "outside"
            },
            "colorscale": [
             [
              0,
              "#440154"
             ],
             [
              0.1111111111111111,
              "#482878"
             ],
             [
              0.2222222222222222,
              "#3e4989"
             ],
             [
              0.3333333333333333,
              "#31688e"
             ],
             [
              0.4444444444444444,
              "#26828e"
             ],
             [
              0.5555555555555556,
              "#1f9e89"
             ],
             [
              0.6666666666666666,
              "#35b779"
             ],
             [
              0.7777777777777778,
              "#6ece58"
             ],
             [
              0.8888888888888888,
              "#b5de2b"
             ],
             [
              1,
              "#fde725"
             ]
            ],
            "type": "histogram2d"
           }
          ],
          "histogram2dcontour": [
           {
            "colorbar": {
             "outlinewidth": 1,
             "tickcolor": "rgb(36,36,36)",
             "ticks": "outside"
            },
            "colorscale": [
             [
              0,
              "#440154"
             ],
             [
              0.1111111111111111,
              "#482878"
             ],
             [
              0.2222222222222222,
              "#3e4989"
             ],
             [
              0.3333333333333333,
              "#31688e"
             ],
             [
              0.4444444444444444,
              "#26828e"
             ],
             [
              0.5555555555555556,
              "#1f9e89"
             ],
             [
              0.6666666666666666,
              "#35b779"
             ],
             [
              0.7777777777777778,
              "#6ece58"
             ],
             [
              0.8888888888888888,
              "#b5de2b"
             ],
             [
              1,
              "#fde725"
             ]
            ],
            "type": "histogram2dcontour"
           }
          ],
          "mesh3d": [
           {
            "colorbar": {
             "outlinewidth": 1,
             "tickcolor": "rgb(36,36,36)",
             "ticks": "outside"
            },
            "type": "mesh3d"
           }
          ],
          "parcoords": [
           {
            "line": {
             "colorbar": {
              "outlinewidth": 1,
              "tickcolor": "rgb(36,36,36)",
              "ticks": "outside"
             }
            },
            "type": "parcoords"
           }
          ],
          "pie": [
           {
            "automargin": true,
            "type": "pie"
           }
          ],
          "scatter": [
           {
            "fillpattern": {
             "fillmode": "overlay",
             "size": 10,
             "solidity": 0.2
            },
            "type": "scatter"
           }
          ],
          "scatter3d": [
           {
            "line": {
             "colorbar": {
              "outlinewidth": 1,
              "tickcolor": "rgb(36,36,36)",
              "ticks": "outside"
             }
            },
            "marker": {
             "colorbar": {
              "outlinewidth": 1,
              "tickcolor": "rgb(36,36,36)",
              "ticks": "outside"
             }
            },
            "type": "scatter3d"
           }
          ],
          "scattercarpet": [
           {
            "marker": {
             "colorbar": {
              "outlinewidth": 1,
              "tickcolor": "rgb(36,36,36)",
              "ticks": "outside"
             }
            },
            "type": "scattercarpet"
           }
          ],
          "scattergeo": [
           {
            "marker": {
             "colorbar": {
              "outlinewidth": 1,
              "tickcolor": "rgb(36,36,36)",
              "ticks": "outside"
             }
            },
            "type": "scattergeo"
           }
          ],
          "scattergl": [
           {
            "marker": {
             "colorbar": {
              "outlinewidth": 1,
              "tickcolor": "rgb(36,36,36)",
              "ticks": "outside"
             }
            },
            "type": "scattergl"
           }
          ],
          "scattermapbox": [
           {
            "marker": {
             "colorbar": {
              "outlinewidth": 1,
              "tickcolor": "rgb(36,36,36)",
              "ticks": "outside"
             }
            },
            "type": "scattermapbox"
           }
          ],
          "scatterpolar": [
           {
            "marker": {
             "colorbar": {
              "outlinewidth": 1,
              "tickcolor": "rgb(36,36,36)",
              "ticks": "outside"
             }
            },
            "type": "scatterpolar"
           }
          ],
          "scatterpolargl": [
           {
            "marker": {
             "colorbar": {
              "outlinewidth": 1,
              "tickcolor": "rgb(36,36,36)",
              "ticks": "outside"
             }
            },
            "type": "scatterpolargl"
           }
          ],
          "scatterternary": [
           {
            "marker": {
             "colorbar": {
              "outlinewidth": 1,
              "tickcolor": "rgb(36,36,36)",
              "ticks": "outside"
             }
            },
            "type": "scatterternary"
           }
          ],
          "surface": [
           {
            "colorbar": {
             "outlinewidth": 1,
             "tickcolor": "rgb(36,36,36)",
             "ticks": "outside"
            },
            "colorscale": [
             [
              0,
              "#440154"
             ],
             [
              0.1111111111111111,
              "#482878"
             ],
             [
              0.2222222222222222,
              "#3e4989"
             ],
             [
              0.3333333333333333,
              "#31688e"
             ],
             [
              0.4444444444444444,
              "#26828e"
             ],
             [
              0.5555555555555556,
              "#1f9e89"
             ],
             [
              0.6666666666666666,
              "#35b779"
             ],
             [
              0.7777777777777778,
              "#6ece58"
             ],
             [
              0.8888888888888888,
              "#b5de2b"
             ],
             [
              1,
              "#fde725"
             ]
            ],
            "type": "surface"
           }
          ],
          "table": [
           {
            "cells": {
             "fill": {
              "color": "rgb(237,237,237)"
             },
             "line": {
              "color": "white"
             }
            },
            "header": {
             "fill": {
              "color": "rgb(217,217,217)"
             },
             "line": {
              "color": "white"
             }
            },
            "type": "table"
           }
          ]
         },
         "layout": {
          "annotationdefaults": {
           "arrowhead": 0,
           "arrowwidth": 1
          },
          "autotypenumbers": "strict",
          "coloraxis": {
           "colorbar": {
            "outlinewidth": 1,
            "tickcolor": "rgb(36,36,36)",
            "ticks": "outside"
           }
          },
          "colorscale": {
           "diverging": [
            [
             0,
             "rgb(103,0,31)"
            ],
            [
             0.1,
             "rgb(178,24,43)"
            ],
            [
             0.2,
             "rgb(214,96,77)"
            ],
            [
             0.3,
             "rgb(244,165,130)"
            ],
            [
             0.4,
             "rgb(253,219,199)"
            ],
            [
             0.5,
             "rgb(247,247,247)"
            ],
            [
             0.6,
             "rgb(209,229,240)"
            ],
            [
             0.7,
             "rgb(146,197,222)"
            ],
            [
             0.8,
             "rgb(67,147,195)"
            ],
            [
             0.9,
             "rgb(33,102,172)"
            ],
            [
             1,
             "rgb(5,48,97)"
            ]
           ],
           "sequential": [
            [
             0,
             "#440154"
            ],
            [
             0.1111111111111111,
             "#482878"
            ],
            [
             0.2222222222222222,
             "#3e4989"
            ],
            [
             0.3333333333333333,
             "#31688e"
            ],
            [
             0.4444444444444444,
             "#26828e"
            ],
            [
             0.5555555555555556,
             "#1f9e89"
            ],
            [
             0.6666666666666666,
             "#35b779"
            ],
            [
             0.7777777777777778,
             "#6ece58"
            ],
            [
             0.8888888888888888,
             "#b5de2b"
            ],
            [
             1,
             "#fde725"
            ]
           ],
           "sequentialminus": [
            [
             0,
             "#440154"
            ],
            [
             0.1111111111111111,
             "#482878"
            ],
            [
             0.2222222222222222,
             "#3e4989"
            ],
            [
             0.3333333333333333,
             "#31688e"
            ],
            [
             0.4444444444444444,
             "#26828e"
            ],
            [
             0.5555555555555556,
             "#1f9e89"
            ],
            [
             0.6666666666666666,
             "#35b779"
            ],
            [
             0.7777777777777778,
             "#6ece58"
            ],
            [
             0.8888888888888888,
             "#b5de2b"
            ],
            [
             1,
             "#fde725"
            ]
           ]
          },
          "colorway": [
           "#1F77B4",
           "#FF7F0E",
           "#2CA02C",
           "#D62728",
           "#9467BD",
           "#8C564B",
           "#E377C2",
           "#7F7F7F",
           "#BCBD22",
           "#17BECF"
          ],
          "font": {
           "color": "rgb(36,36,36)"
          },
          "geo": {
           "bgcolor": "white",
           "lakecolor": "white",
           "landcolor": "white",
           "showlakes": true,
           "showland": true,
           "subunitcolor": "white"
          },
          "hoverlabel": {
           "align": "left"
          },
          "hovermode": "closest",
          "mapbox": {
           "style": "light"
          },
          "paper_bgcolor": "white",
          "plot_bgcolor": "white",
          "polar": {
           "angularaxis": {
            "gridcolor": "rgb(232,232,232)",
            "linecolor": "rgb(36,36,36)",
            "showgrid": false,
            "showline": true,
            "ticks": "outside"
           },
           "bgcolor": "white",
           "radialaxis": {
            "gridcolor": "rgb(232,232,232)",
            "linecolor": "rgb(36,36,36)",
            "showgrid": false,
            "showline": true,
            "ticks": "outside"
           }
          },
          "scene": {
           "xaxis": {
            "backgroundcolor": "white",
            "gridcolor": "rgb(232,232,232)",
            "gridwidth": 2,
            "linecolor": "rgb(36,36,36)",
            "showbackground": true,
            "showgrid": false,
            "showline": true,
            "ticks": "outside",
            "zeroline": false,
            "zerolinecolor": "rgb(36,36,36)"
           },
           "yaxis": {
            "backgroundcolor": "white",
            "gridcolor": "rgb(232,232,232)",
            "gridwidth": 2,
            "linecolor": "rgb(36,36,36)",
            "showbackground": true,
            "showgrid": false,
            "showline": true,
            "ticks": "outside",
            "zeroline": false,
            "zerolinecolor": "rgb(36,36,36)"
           },
           "zaxis": {
            "backgroundcolor": "white",
            "gridcolor": "rgb(232,232,232)",
            "gridwidth": 2,
            "linecolor": "rgb(36,36,36)",
            "showbackground": true,
            "showgrid": false,
            "showline": true,
            "ticks": "outside",
            "zeroline": false,
            "zerolinecolor": "rgb(36,36,36)"
           }
          },
          "shapedefaults": {
           "fillcolor": "black",
           "line": {
            "width": 0
           },
           "opacity": 0.3
          },
          "ternary": {
           "aaxis": {
            "gridcolor": "rgb(232,232,232)",
            "linecolor": "rgb(36,36,36)",
            "showgrid": false,
            "showline": true,
            "ticks": "outside"
           },
           "baxis": {
            "gridcolor": "rgb(232,232,232)",
            "linecolor": "rgb(36,36,36)",
            "showgrid": false,
            "showline": true,
            "ticks": "outside"
           },
           "bgcolor": "white",
           "caxis": {
            "gridcolor": "rgb(232,232,232)",
            "linecolor": "rgb(36,36,36)",
            "showgrid": false,
            "showline": true,
            "ticks": "outside"
           }
          },
          "title": {
           "x": 0.05
          },
          "xaxis": {
           "automargin": true,
           "gridcolor": "rgb(232,232,232)",
           "linecolor": "rgb(36,36,36)",
           "showgrid": false,
           "showline": true,
           "ticks": "outside",
           "title": {
            "standoff": 15
           },
           "zeroline": false,
           "zerolinecolor": "rgb(36,36,36)"
          },
          "yaxis": {
           "automargin": true,
           "gridcolor": "rgb(232,232,232)",
           "linecolor": "rgb(36,36,36)",
           "showgrid": false,
           "showline": true,
           "ticks": "outside",
           "title": {
            "standoff": 15
           },
           "zeroline": false,
           "zerolinecolor": "rgb(36,36,36)"
          }
         }
        },
        "title": {
         "text": "Number of Unique Stores by Product (With Sales) （有销售量的商店的数量）"
        },
        "xaxis": {
         "title": {
          "text": "Product Name"
         }
        },
        "yaxis": {
         "title": {
          "text": "Number of Unique Stores"
         }
        }
       }
      }
     },
     "metadata": {},
     "output_type": "display_data"
    },
    {
     "data": {
      "application/vnd.plotly.v1+json": {
       "config": {
        "plotlyServerURL": "https://plot.ly"
       },
       "data": [
        {
         "name": "Percentage",
         "text": [
          0.8448275862068966,
          0.6885245901639344,
          0.6666666666666666,
          0.6438356164383562,
          0.6349206349206349,
          0.5813953488372093,
          0.5813953488372093,
          0.5531914893617021,
          0.5203252032520326,
          0.5,
          0.3983739837398374,
          0.38461538461538464,
          0.3684210526315789
         ],
         "textposition": "auto",
         "texttemplate": "%{text:.2f}",
         "type": "bar",
         "x": [
          "chinese washi tape (中国和纸胶带)",
          "chinese magnets (中国冰箱贴)",
          "chinese mid autumn gift sets (中秋节礼品套装)",
          "chinese art stickers (中国艺术贴纸)",
          "brushes and calligraphy tools (笔和书法工具)",
          "chinese bookmarks (中国书签)",
          "name seals (印章)",
          "bead bracelets and necklaces (珠子手链和项链)",
          "paper lanterns (纸灯笼)",
          "calligraphy prints (书法印刷品)",
          "chinese pottery (中国陶器)",
          "chinese incense (中国香)",
          "chinese bamboo art (中国竹艺)"
         ],
         "y": [
          0.8448275862068966,
          0.6885245901639344,
          0.6666666666666666,
          0.6438356164383562,
          0.6349206349206349,
          0.5813953488372093,
          0.5813953488372093,
          0.5531914893617021,
          0.5203252032520326,
          0.5,
          0.3983739837398374,
          0.38461538461538464,
          0.3684210526315789
         ]
        }
       ],
       "layout": {
        "template": {
         "data": {
          "bar": [
           {
            "error_x": {
             "color": "rgb(36,36,36)"
            },
            "error_y": {
             "color": "rgb(36,36,36)"
            },
            "marker": {
             "line": {
              "color": "white",
              "width": 0.5
             },
             "pattern": {
              "fillmode": "overlay",
              "size": 10,
              "solidity": 0.2
             }
            },
            "type": "bar"
           }
          ],
          "barpolar": [
           {
            "marker": {
             "line": {
              "color": "white",
              "width": 0.5
             },
             "pattern": {
              "fillmode": "overlay",
              "size": 10,
              "solidity": 0.2
             }
            },
            "type": "barpolar"
           }
          ],
          "carpet": [
           {
            "aaxis": {
             "endlinecolor": "rgb(36,36,36)",
             "gridcolor": "white",
             "linecolor": "white",
             "minorgridcolor": "white",
             "startlinecolor": "rgb(36,36,36)"
            },
            "baxis": {
             "endlinecolor": "rgb(36,36,36)",
             "gridcolor": "white",
             "linecolor": "white",
             "minorgridcolor": "white",
             "startlinecolor": "rgb(36,36,36)"
            },
            "type": "carpet"
           }
          ],
          "choropleth": [
           {
            "colorbar": {
             "outlinewidth": 1,
             "tickcolor": "rgb(36,36,36)",
             "ticks": "outside"
            },
            "type": "choropleth"
           }
          ],
          "contour": [
           {
            "colorbar": {
             "outlinewidth": 1,
             "tickcolor": "rgb(36,36,36)",
             "ticks": "outside"
            },
            "colorscale": [
             [
              0,
              "#440154"
             ],
             [
              0.1111111111111111,
              "#482878"
             ],
             [
              0.2222222222222222,
              "#3e4989"
             ],
             [
              0.3333333333333333,
              "#31688e"
             ],
             [
              0.4444444444444444,
              "#26828e"
             ],
             [
              0.5555555555555556,
              "#1f9e89"
             ],
             [
              0.6666666666666666,
              "#35b779"
             ],
             [
              0.7777777777777778,
              "#6ece58"
             ],
             [
              0.8888888888888888,
              "#b5de2b"
             ],
             [
              1,
              "#fde725"
             ]
            ],
            "type": "contour"
           }
          ],
          "contourcarpet": [
           {
            "colorbar": {
             "outlinewidth": 1,
             "tickcolor": "rgb(36,36,36)",
             "ticks": "outside"
            },
            "type": "contourcarpet"
           }
          ],
          "heatmap": [
           {
            "colorbar": {
             "outlinewidth": 1,
             "tickcolor": "rgb(36,36,36)",
             "ticks": "outside"
            },
            "colorscale": [
             [
              0,
              "#440154"
             ],
             [
              0.1111111111111111,
              "#482878"
             ],
             [
              0.2222222222222222,
              "#3e4989"
             ],
             [
              0.3333333333333333,
              "#31688e"
             ],
             [
              0.4444444444444444,
              "#26828e"
             ],
             [
              0.5555555555555556,
              "#1f9e89"
             ],
             [
              0.6666666666666666,
              "#35b779"
             ],
             [
              0.7777777777777778,
              "#6ece58"
             ],
             [
              0.8888888888888888,
              "#b5de2b"
             ],
             [
              1,
              "#fde725"
             ]
            ],
            "type": "heatmap"
           }
          ],
          "heatmapgl": [
           {
            "colorbar": {
             "outlinewidth": 1,
             "tickcolor": "rgb(36,36,36)",
             "ticks": "outside"
            },
            "colorscale": [
             [
              0,
              "#440154"
             ],
             [
              0.1111111111111111,
              "#482878"
             ],
             [
              0.2222222222222222,
              "#3e4989"
             ],
             [
              0.3333333333333333,
              "#31688e"
             ],
             [
              0.4444444444444444,
              "#26828e"
             ],
             [
              0.5555555555555556,
              "#1f9e89"
             ],
             [
              0.6666666666666666,
              "#35b779"
             ],
             [
              0.7777777777777778,
              "#6ece58"
             ],
             [
              0.8888888888888888,
              "#b5de2b"
             ],
             [
              1,
              "#fde725"
             ]
            ],
            "type": "heatmapgl"
           }
          ],
          "histogram": [
           {
            "marker": {
             "line": {
              "color": "white",
              "width": 0.6
             }
            },
            "type": "histogram"
           }
          ],
          "histogram2d": [
           {
            "colorbar": {
             "outlinewidth": 1,
             "tickcolor": "rgb(36,36,36)",
             "ticks": "outside"
            },
            "colorscale": [
             [
              0,
              "#440154"
             ],
             [
              0.1111111111111111,
              "#482878"
             ],
             [
              0.2222222222222222,
              "#3e4989"
             ],
             [
              0.3333333333333333,
              "#31688e"
             ],
             [
              0.4444444444444444,
              "#26828e"
             ],
             [
              0.5555555555555556,
              "#1f9e89"
             ],
             [
              0.6666666666666666,
              "#35b779"
             ],
             [
              0.7777777777777778,
              "#6ece58"
             ],
             [
              0.8888888888888888,
              "#b5de2b"
             ],
             [
              1,
              "#fde725"
             ]
            ],
            "type": "histogram2d"
           }
          ],
          "histogram2dcontour": [
           {
            "colorbar": {
             "outlinewidth": 1,
             "tickcolor": "rgb(36,36,36)",
             "ticks": "outside"
            },
            "colorscale": [
             [
              0,
              "#440154"
             ],
             [
              0.1111111111111111,
              "#482878"
             ],
             [
              0.2222222222222222,
              "#3e4989"
             ],
             [
              0.3333333333333333,
              "#31688e"
             ],
             [
              0.4444444444444444,
              "#26828e"
             ],
             [
              0.5555555555555556,
              "#1f9e89"
             ],
             [
              0.6666666666666666,
              "#35b779"
             ],
             [
              0.7777777777777778,
              "#6ece58"
             ],
             [
              0.8888888888888888,
              "#b5de2b"
             ],
             [
              1,
              "#fde725"
             ]
            ],
            "type": "histogram2dcontour"
           }
          ],
          "mesh3d": [
           {
            "colorbar": {
             "outlinewidth": 1,
             "tickcolor": "rgb(36,36,36)",
             "ticks": "outside"
            },
            "type": "mesh3d"
           }
          ],
          "parcoords": [
           {
            "line": {
             "colorbar": {
              "outlinewidth": 1,
              "tickcolor": "rgb(36,36,36)",
              "ticks": "outside"
             }
            },
            "type": "parcoords"
           }
          ],
          "pie": [
           {
            "automargin": true,
            "type": "pie"
           }
          ],
          "scatter": [
           {
            "fillpattern": {
             "fillmode": "overlay",
             "size": 10,
             "solidity": 0.2
            },
            "type": "scatter"
           }
          ],
          "scatter3d": [
           {
            "line": {
             "colorbar": {
              "outlinewidth": 1,
              "tickcolor": "rgb(36,36,36)",
              "ticks": "outside"
             }
            },
            "marker": {
             "colorbar": {
              "outlinewidth": 1,
              "tickcolor": "rgb(36,36,36)",
              "ticks": "outside"
             }
            },
            "type": "scatter3d"
           }
          ],
          "scattercarpet": [
           {
            "marker": {
             "colorbar": {
              "outlinewidth": 1,
              "tickcolor": "rgb(36,36,36)",
              "ticks": "outside"
             }
            },
            "type": "scattercarpet"
           }
          ],
          "scattergeo": [
           {
            "marker": {
             "colorbar": {
              "outlinewidth": 1,
              "tickcolor": "rgb(36,36,36)",
              "ticks": "outside"
             }
            },
            "type": "scattergeo"
           }
          ],
          "scattergl": [
           {
            "marker": {
             "colorbar": {
              "outlinewidth": 1,
              "tickcolor": "rgb(36,36,36)",
              "ticks": "outside"
             }
            },
            "type": "scattergl"
           }
          ],
          "scattermapbox": [
           {
            "marker": {
             "colorbar": {
              "outlinewidth": 1,
              "tickcolor": "rgb(36,36,36)",
              "ticks": "outside"
             }
            },
            "type": "scattermapbox"
           }
          ],
          "scatterpolar": [
           {
            "marker": {
             "colorbar": {
              "outlinewidth": 1,
              "tickcolor": "rgb(36,36,36)",
              "ticks": "outside"
             }
            },
            "type": "scatterpolar"
           }
          ],
          "scatterpolargl": [
           {
            "marker": {
             "colorbar": {
              "outlinewidth": 1,
              "tickcolor": "rgb(36,36,36)",
              "ticks": "outside"
             }
            },
            "type": "scatterpolargl"
           }
          ],
          "scatterternary": [
           {
            "marker": {
             "colorbar": {
              "outlinewidth": 1,
              "tickcolor": "rgb(36,36,36)",
              "ticks": "outside"
             }
            },
            "type": "scatterternary"
           }
          ],
          "surface": [
           {
            "colorbar": {
             "outlinewidth": 1,
             "tickcolor": "rgb(36,36,36)",
             "ticks": "outside"
            },
            "colorscale": [
             [
              0,
              "#440154"
             ],
             [
              0.1111111111111111,
              "#482878"
             ],
             [
              0.2222222222222222,
              "#3e4989"
             ],
             [
              0.3333333333333333,
              "#31688e"
             ],
             [
              0.4444444444444444,
              "#26828e"
             ],
             [
              0.5555555555555556,
              "#1f9e89"
             ],
             [
              0.6666666666666666,
              "#35b779"
             ],
             [
              0.7777777777777778,
              "#6ece58"
             ],
             [
              0.8888888888888888,
              "#b5de2b"
             ],
             [
              1,
              "#fde725"
             ]
            ],
            "type": "surface"
           }
          ],
          "table": [
           {
            "cells": {
             "fill": {
              "color": "rgb(237,237,237)"
             },
             "line": {
              "color": "white"
             }
            },
            "header": {
             "fill": {
              "color": "rgb(217,217,217)"
             },
             "line": {
              "color": "white"
             }
            },
            "type": "table"
           }
          ]
         },
         "layout": {
          "annotationdefaults": {
           "arrowhead": 0,
           "arrowwidth": 1
          },
          "autotypenumbers": "strict",
          "coloraxis": {
           "colorbar": {
            "outlinewidth": 1,
            "tickcolor": "rgb(36,36,36)",
            "ticks": "outside"
           }
          },
          "colorscale": {
           "diverging": [
            [
             0,
             "rgb(103,0,31)"
            ],
            [
             0.1,
             "rgb(178,24,43)"
            ],
            [
             0.2,
             "rgb(214,96,77)"
            ],
            [
             0.3,
             "rgb(244,165,130)"
            ],
            [
             0.4,
             "rgb(253,219,199)"
            ],
            [
             0.5,
             "rgb(247,247,247)"
            ],
            [
             0.6,
             "rgb(209,229,240)"
            ],
            [
             0.7,
             "rgb(146,197,222)"
            ],
            [
             0.8,
             "rgb(67,147,195)"
            ],
            [
             0.9,
             "rgb(33,102,172)"
            ],
            [
             1,
             "rgb(5,48,97)"
            ]
           ],
           "sequential": [
            [
             0,
             "#440154"
            ],
            [
             0.1111111111111111,
             "#482878"
            ],
            [
             0.2222222222222222,
             "#3e4989"
            ],
            [
             0.3333333333333333,
             "#31688e"
            ],
            [
             0.4444444444444444,
             "#26828e"
            ],
            [
             0.5555555555555556,
             "#1f9e89"
            ],
            [
             0.6666666666666666,
             "#35b779"
            ],
            [
             0.7777777777777778,
             "#6ece58"
            ],
            [
             0.8888888888888888,
             "#b5de2b"
            ],
            [
             1,
             "#fde725"
            ]
           ],
           "sequentialminus": [
            [
             0,
             "#440154"
            ],
            [
             0.1111111111111111,
             "#482878"
            ],
            [
             0.2222222222222222,
             "#3e4989"
            ],
            [
             0.3333333333333333,
             "#31688e"
            ],
            [
             0.4444444444444444,
             "#26828e"
            ],
            [
             0.5555555555555556,
             "#1f9e89"
            ],
            [
             0.6666666666666666,
             "#35b779"
            ],
            [
             0.7777777777777778,
             "#6ece58"
            ],
            [
             0.8888888888888888,
             "#b5de2b"
            ],
            [
             1,
             "#fde725"
            ]
           ]
          },
          "colorway": [
           "#1F77B4",
           "#FF7F0E",
           "#2CA02C",
           "#D62728",
           "#9467BD",
           "#8C564B",
           "#E377C2",
           "#7F7F7F",
           "#BCBD22",
           "#17BECF"
          ],
          "font": {
           "color": "rgb(36,36,36)"
          },
          "geo": {
           "bgcolor": "white",
           "lakecolor": "white",
           "landcolor": "white",
           "showlakes": true,
           "showland": true,
           "subunitcolor": "white"
          },
          "hoverlabel": {
           "align": "left"
          },
          "hovermode": "closest",
          "mapbox": {
           "style": "light"
          },
          "paper_bgcolor": "white",
          "plot_bgcolor": "white",
          "polar": {
           "angularaxis": {
            "gridcolor": "rgb(232,232,232)",
            "linecolor": "rgb(36,36,36)",
            "showgrid": false,
            "showline": true,
            "ticks": "outside"
           },
           "bgcolor": "white",
           "radialaxis": {
            "gridcolor": "rgb(232,232,232)",
            "linecolor": "rgb(36,36,36)",
            "showgrid": false,
            "showline": true,
            "ticks": "outside"
           }
          },
          "scene": {
           "xaxis": {
            "backgroundcolor": "white",
            "gridcolor": "rgb(232,232,232)",
            "gridwidth": 2,
            "linecolor": "rgb(36,36,36)",
            "showbackground": true,
            "showgrid": false,
            "showline": true,
            "ticks": "outside",
            "zeroline": false,
            "zerolinecolor": "rgb(36,36,36)"
           },
           "yaxis": {
            "backgroundcolor": "white",
            "gridcolor": "rgb(232,232,232)",
            "gridwidth": 2,
            "linecolor": "rgb(36,36,36)",
            "showbackground": true,
            "showgrid": false,
            "showline": true,
            "ticks": "outside",
            "zeroline": false,
            "zerolinecolor": "rgb(36,36,36)"
           },
           "zaxis": {
            "backgroundcolor": "white",
            "gridcolor": "rgb(232,232,232)",
            "gridwidth": 2,
            "linecolor": "rgb(36,36,36)",
            "showbackground": true,
            "showgrid": false,
            "showline": true,
            "ticks": "outside",
            "zeroline": false,
            "zerolinecolor": "rgb(36,36,36)"
           }
          },
          "shapedefaults": {
           "fillcolor": "black",
           "line": {
            "width": 0
           },
           "opacity": 0.3
          },
          "ternary": {
           "aaxis": {
            "gridcolor": "rgb(232,232,232)",
            "linecolor": "rgb(36,36,36)",
            "showgrid": false,
            "showline": true,
            "ticks": "outside"
           },
           "baxis": {
            "gridcolor": "rgb(232,232,232)",
            "linecolor": "rgb(36,36,36)",
            "showgrid": false,
            "showline": true,
            "ticks": "outside"
           },
           "bgcolor": "white",
           "caxis": {
            "gridcolor": "rgb(232,232,232)",
            "linecolor": "rgb(36,36,36)",
            "showgrid": false,
            "showline": true,
            "ticks": "outside"
           }
          },
          "title": {
           "x": 0.05
          },
          "xaxis": {
           "automargin": true,
           "gridcolor": "rgb(232,232,232)",
           "linecolor": "rgb(36,36,36)",
           "showgrid": false,
           "showline": true,
           "ticks": "outside",
           "title": {
            "standoff": 15
           },
           "zeroline": false,
           "zerolinecolor": "rgb(36,36,36)"
          },
          "yaxis": {
           "automargin": true,
           "gridcolor": "rgb(232,232,232)",
           "linecolor": "rgb(36,36,36)",
           "showgrid": false,
           "showline": true,
           "ticks": "outside",
           "title": {
            "standoff": 15
           },
           "zeroline": false,
           "zerolinecolor": "rgb(36,36,36)"
          }
         }
        },
        "title": {
         "text": "Percentage of Stores with Sales by Product (有销售量的商店的百分比)"
        },
        "xaxis": {
         "title": {
          "text": "Product Name"
         }
        },
        "yaxis": {
         "title": {
          "text": "Percentage of Stores with Sales (%)"
         }
        }
       }
      }
     },
     "metadata": {},
     "output_type": "display_data"
    }
   ],
   "source": [
    "# Number of unique stores by product\n",
    "fig1 = plot_bar_chart_plotly(\n",
    "    all_product_data.groupby(\"product_name_chinese_name\")[\"Store Name\"]\n",
    "    .nunique()\n",
    "    .reset_index(),\n",
    "    x=\"product_name_chinese_name\",\n",
    "    y=\"Store Name\",\n",
    "    title=\"Number of Unique Stores by Product （商店的数量）\",\n",
    "    x_label=\"Product Name\",\n",
    "    y_label=\"Number of Unique Stores\",\n",
    ")\n",
    "\n",
    "# Number of unique stores by product with sales\n",
    "fig2 = plot_bar_chart_plotly(\n",
    "    all_product_data[all_product_data[\"has_sales\"] == True]\n",
    "    .groupby(\"product_name_chinese_name\")[\"Store Name\"]\n",
    "    .nunique()\n",
    "    .reset_index(),\n",
    "    x=\"product_name_chinese_name\",\n",
    "    y=\"Store Name\",\n",
    "    title=\"Number of Unique Stores by Product (With Sales) （有销售量的商店的数量）\",\n",
    "    x_label=\"Product Name\",\n",
    "    y_label=\"Number of Unique Stores\",\n",
    ")\n",
    "\n",
    "# Percentage of stores with sales by product\n",
    "# This should basically be the division of the two previous plots\n",
    "stores_with_sales = (\n",
    "    all_product_data[all_product_data[\"has_sales\"] == True]\n",
    "    .groupby(\"product_name_chinese_name\")[\"Store Name\"]\n",
    "    .nunique()\n",
    "    .reset_index()\n",
    ")\n",
    "stores = (\n",
    "    all_product_data.groupby(\"product_name_chinese_name\")[\"Store Name\"]\n",
    "    .nunique()\n",
    "    .reset_index()\n",
    ")\n",
    "stores_with_sales = stores_with_sales.merge(stores, on=\"product_name_chinese_name\")\n",
    "stores_with_sales[\"percentage\"] = (\n",
    "    stores_with_sales[\"Store Name_x\"] / stores_with_sales[\"Store Name_y\"]\n",
    ")\n",
    "fig3 = plot_bar_chart_plotly(\n",
    "    stores_with_sales,\n",
    "    x=\"product_name_chinese_name\",\n",
    "    y=\"percentage\",\n",
    "    title=\"Percentage of Stores with Sales by Product (有销售量的商店的百分比)\",\n",
    "    x_label=\"Product Name\",\n",
    "    y_label=\"Percentage of Stores with Sales (%)\",\n",
    ")\n",
    "\n",
    "fig1.show()\n",
    "fig2.show()\n",
    "fig3.show()"
   ]
  },
  {
   "cell_type": "code",
   "execution_count": 15,
   "metadata": {},
   "outputs": [],
   "source": [
    "def plot_heatmap_plotly(\n",
    "    data, x, y, z, title=None, x_label=None, y_label=None, log_scale=False\n",
    "):\n",
    "    if log_scale:\n",
    "        data[z] = np.log(data[z] + 1)\n",
    "    fig = go.Figure(\n",
    "        data=go.Heatmap(\n",
    "            x=data[x], y=data[y], z=data[z], colorscale=\"blues\", hoverongaps=False\n",
    "        )\n",
    "    )\n",
    "\n",
    "    fig.update_layout(\n",
    "        title=title,\n",
    "        xaxis_title=x_label,\n",
    "        yaxis_title=y_label,\n",
    "        template=\"simple_white\",\n",
    "        width=1000,\n",
    "        height=1000,\n",
    "    )\n",
    "\n",
    "    return fig"
   ]
  },
  {
   "cell_type": "code",
   "execution_count": 16,
   "metadata": {},
   "outputs": [
    {
     "data": {
      "application/vnd.plotly.v1+json": {
       "config": {
        "plotlyServerURL": "https://plot.ly"
       },
       "data": [
        {
         "colorscale": [
          [
           0,
           "rgb(247,251,255)"
          ],
          [
           0.125,
           "rgb(222,235,247)"
          ],
          [
           0.25,
           "rgb(198,219,239)"
          ],
          [
           0.375,
           "rgb(158,202,225)"
          ],
          [
           0.5,
           "rgb(107,174,214)"
          ],
          [
           0.625,
           "rgb(66,146,198)"
          ],
          [
           0.75,
           "rgb(33,113,181)"
          ],
          [
           0.875,
           "rgb(8,81,156)"
          ],
          [
           1,
           "rgb(8,48,107)"
          ]
         ],
         "hoverongaps": false,
         "type": "heatmap",
         "x": [
          "bead bracelets and necklaces (珠子手链和项链)",
          "bead bracelets and necklaces (珠子手链和项链)",
          "bead bracelets and necklaces (珠子手链和项链)",
          "bead bracelets and necklaces (珠子手链和项链)",
          "bead bracelets and necklaces (珠子手链和项链)",
          "bead bracelets and necklaces (珠子手链和项链)",
          "bead bracelets and necklaces (珠子手链和项链)",
          "bead bracelets and necklaces (珠子手链和项链)",
          "bead bracelets and necklaces (珠子手链和项链)",
          "bead bracelets and necklaces (珠子手链和项链)",
          "bead bracelets and necklaces (珠子手链和项链)",
          "bead bracelets and necklaces (珠子手链和项链)",
          "bead bracelets and necklaces (珠子手链和项链)",
          "bead bracelets and necklaces (珠子手链和项链)",
          "bead bracelets and necklaces (珠子手链和项链)",
          "bead bracelets and necklaces (珠子手链和项链)",
          "bead bracelets and necklaces (珠子手链和项链)",
          "bead bracelets and necklaces (珠子手链和项链)",
          "bead bracelets and necklaces (珠子手链和项链)",
          "bead bracelets and necklaces (珠子手链和项链)",
          "bead bracelets and necklaces (珠子手链和项链)",
          "bead bracelets and necklaces (珠子手链和项链)",
          "bead bracelets and necklaces (珠子手链和项链)",
          "bead bracelets and necklaces (珠子手链和项链)",
          "bead bracelets and necklaces (珠子手链和项链)",
          "bead bracelets and necklaces (珠子手链和项链)",
          "bead bracelets and necklaces (珠子手链和项链)",
          "bead bracelets and necklaces (珠子手链和项链)",
          "bead bracelets and necklaces (珠子手链和项链)",
          "bead bracelets and necklaces (珠子手链和项链)",
          "bead bracelets and necklaces (珠子手链和项链)",
          "bead bracelets and necklaces (珠子手链和项链)",
          "bead bracelets and necklaces (珠子手链和项链)",
          "bead bracelets and necklaces (珠子手链和项链)",
          "bead bracelets and necklaces (珠子手链和项链)",
          "bead bracelets and necklaces (珠子手链和项链)",
          "bead bracelets and necklaces (珠子手链和项链)",
          "bead bracelets and necklaces (珠子手链和项链)",
          "bead bracelets and necklaces (珠子手链和项链)",
          "bead bracelets and necklaces (珠子手链和项链)",
          "bead bracelets and necklaces (珠子手链和项链)",
          "bead bracelets and necklaces (珠子手链和项链)",
          "bead bracelets and necklaces (珠子手链和项链)",
          "bead bracelets and necklaces (珠子手链和项链)",
          "bead bracelets and necklaces (珠子手链和项链)",
          "bead bracelets and necklaces (珠子手链和项链)",
          "bead bracelets and necklaces (珠子手链和项链)",
          "bead bracelets and necklaces (珠子手链和项链)",
          "bead bracelets and necklaces (珠子手链和项链)",
          "bead bracelets and necklaces (珠子手链和项链)",
          "bead bracelets and necklaces (珠子手链和项链)",
          "bead bracelets and necklaces (珠子手链和项链)",
          "brushes and calligraphy tools (笔和书法工具)",
          "brushes and calligraphy tools (笔和书法工具)",
          "brushes and calligraphy tools (笔和书法工具)",
          "brushes and calligraphy tools (笔和书法工具)",
          "brushes and calligraphy tools (笔和书法工具)",
          "brushes and calligraphy tools (笔和书法工具)",
          "brushes and calligraphy tools (笔和书法工具)",
          "brushes and calligraphy tools (笔和书法工具)",
          "brushes and calligraphy tools (笔和书法工具)",
          "brushes and calligraphy tools (笔和书法工具)",
          "brushes and calligraphy tools (笔和书法工具)",
          "brushes and calligraphy tools (笔和书法工具)",
          "brushes and calligraphy tools (笔和书法工具)",
          "brushes and calligraphy tools (笔和书法工具)",
          "brushes and calligraphy tools (笔和书法工具)",
          "brushes and calligraphy tools (笔和书法工具)",
          "brushes and calligraphy tools (笔和书法工具)",
          "brushes and calligraphy tools (笔和书法工具)",
          "brushes and calligraphy tools (笔和书法工具)",
          "brushes and calligraphy tools (笔和书法工具)",
          "brushes and calligraphy tools (笔和书法工具)",
          "brushes and calligraphy tools (笔和书法工具)",
          "brushes and calligraphy tools (笔和书法工具)",
          "brushes and calligraphy tools (笔和书法工具)",
          "brushes and calligraphy tools (笔和书法工具)",
          "brushes and calligraphy tools (笔和书法工具)",
          "brushes and calligraphy tools (笔和书法工具)",
          "brushes and calligraphy tools (笔和书法工具)",
          "brushes and calligraphy tools (笔和书法工具)",
          "brushes and calligraphy tools (笔和书法工具)",
          "brushes and calligraphy tools (笔和书法工具)",
          "brushes and calligraphy tools (笔和书法工具)",
          "brushes and calligraphy tools (笔和书法工具)",
          "brushes and calligraphy tools (笔和书法工具)",
          "brushes and calligraphy tools (笔和书法工具)",
          "brushes and calligraphy tools (笔和书法工具)",
          "brushes and calligraphy tools (笔和书法工具)",
          "brushes and calligraphy tools (笔和书法工具)",
          "brushes and calligraphy tools (笔和书法工具)",
          "brushes and calligraphy tools (笔和书法工具)",
          "calligraphy prints (书法印刷品)",
          "calligraphy prints (书法印刷品)",
          "calligraphy prints (书法印刷品)",
          "calligraphy prints (书法印刷品)",
          "calligraphy prints (书法印刷品)",
          "calligraphy prints (书法印刷品)",
          "calligraphy prints (书法印刷品)",
          "calligraphy prints (书法印刷品)",
          "calligraphy prints (书法印刷品)",
          "calligraphy prints (书法印刷品)",
          "calligraphy prints (书法印刷品)",
          "calligraphy prints (书法印刷品)",
          "calligraphy prints (书法印刷品)",
          "calligraphy prints (书法印刷品)",
          "calligraphy prints (书法印刷品)",
          "calligraphy prints (书法印刷品)",
          "calligraphy prints (书法印刷品)",
          "calligraphy prints (书法印刷品)",
          "calligraphy prints (书法印刷品)",
          "calligraphy prints (书法印刷品)",
          "calligraphy prints (书法印刷品)",
          "calligraphy prints (书法印刷品)",
          "calligraphy prints (书法印刷品)",
          "calligraphy prints (书法印刷品)",
          "calligraphy prints (书法印刷品)",
          "calligraphy prints (书法印刷品)",
          "calligraphy prints (书法印刷品)",
          "calligraphy prints (书法印刷品)",
          "calligraphy prints (书法印刷品)",
          "calligraphy prints (书法印刷品)",
          "calligraphy prints (书法印刷品)",
          "calligraphy prints (书法印刷品)",
          "calligraphy prints (书法印刷品)",
          "calligraphy prints (书法印刷品)",
          "calligraphy prints (书法印刷品)",
          "calligraphy prints (书法印刷品)",
          "calligraphy prints (书法印刷品)",
          "calligraphy prints (书法印刷品)",
          "calligraphy prints (书法印刷品)",
          "calligraphy prints (书法印刷品)",
          "calligraphy prints (书法印刷品)",
          "calligraphy prints (书法印刷品)",
          "calligraphy prints (书法印刷品)",
          "calligraphy prints (书法印刷品)",
          "calligraphy prints (书法印刷品)",
          "calligraphy prints (书法印刷品)",
          "calligraphy prints (书法印刷品)",
          "calligraphy prints (书法印刷品)",
          "calligraphy prints (书法印刷品)",
          "calligraphy prints (书法印刷品)",
          "calligraphy prints (书法印刷品)",
          "calligraphy prints (书法印刷品)",
          "calligraphy prints (书法印刷品)",
          "calligraphy prints (书法印刷品)",
          "calligraphy prints (书法印刷品)",
          "calligraphy prints (书法印刷品)",
          "calligraphy prints (书法印刷品)",
          "calligraphy prints (书法印刷品)",
          "calligraphy prints (书法印刷品)",
          "calligraphy prints (书法印刷品)",
          "calligraphy prints (书法印刷品)",
          "calligraphy prints (书法印刷品)",
          "calligraphy prints (书法印刷品)",
          "calligraphy prints (书法印刷品)",
          "calligraphy prints (书法印刷品)",
          "calligraphy prints (书法印刷品)",
          "calligraphy prints (书法印刷品)",
          "calligraphy prints (书法印刷品)",
          "calligraphy prints (书法印刷品)",
          "calligraphy prints (书法印刷品)",
          "calligraphy prints (书法印刷品)",
          "calligraphy prints (书法印刷品)",
          "calligraphy prints (书法印刷品)",
          "calligraphy prints (书法印刷品)",
          "calligraphy prints (书法印刷品)",
          "calligraphy prints (书法印刷品)",
          "calligraphy prints (书法印刷品)",
          "calligraphy prints (书法印刷品)",
          "calligraphy prints (书法印刷品)",
          "calligraphy prints (书法印刷品)",
          "calligraphy prints (书法印刷品)",
          "calligraphy prints (书法印刷品)",
          "calligraphy prints (书法印刷品)",
          "calligraphy prints (书法印刷品)",
          "calligraphy prints (书法印刷品)",
          "calligraphy prints (书法印刷品)",
          "calligraphy prints (书法印刷品)",
          "calligraphy prints (书法印刷品)",
          "calligraphy prints (书法印刷品)",
          "calligraphy prints (书法印刷品)",
          "calligraphy prints (书法印刷品)",
          "calligraphy prints (书法印刷品)",
          "calligraphy prints (书法印刷品)",
          "calligraphy prints (书法印刷品)",
          "calligraphy prints (书法印刷品)",
          "calligraphy prints (书法印刷品)",
          "calligraphy prints (书法印刷品)",
          "calligraphy prints (书法印刷品)",
          "calligraphy prints (书法印刷品)",
          "calligraphy prints (书法印刷品)",
          "calligraphy prints (书法印刷品)",
          "calligraphy prints (书法印刷品)",
          "calligraphy prints (书法印刷品)",
          "calligraphy prints (书法印刷品)",
          "calligraphy prints (书法印刷品)",
          "calligraphy prints (书法印刷品)",
          "calligraphy prints (书法印刷品)",
          "calligraphy prints (书法印刷品)",
          "calligraphy prints (书法印刷品)",
          "calligraphy prints (书法印刷品)",
          "calligraphy prints (书法印刷品)",
          "calligraphy prints (书法印刷品)",
          "calligraphy prints (书法印刷品)",
          "calligraphy prints (书法印刷品)",
          "calligraphy prints (书法印刷品)",
          "calligraphy prints (书法印刷品)",
          "calligraphy prints (书法印刷品)",
          "calligraphy prints (书法印刷品)",
          "calligraphy prints (书法印刷品)",
          "calligraphy prints (书法印刷品)",
          "calligraphy prints (书法印刷品)",
          "calligraphy prints (书法印刷品)",
          "calligraphy prints (书法印刷品)",
          "calligraphy prints (书法印刷品)",
          "calligraphy prints (书法印刷品)",
          "calligraphy prints (书法印刷品)",
          "calligraphy prints (书法印刷品)",
          "calligraphy prints (书法印刷品)",
          "calligraphy prints (书法印刷品)",
          "calligraphy prints (书法印刷品)",
          "calligraphy prints (书法印刷品)",
          "calligraphy prints (书法印刷品)",
          "calligraphy prints (书法印刷品)",
          "calligraphy prints (书法印刷品)",
          "calligraphy prints (书法印刷品)",
          "calligraphy prints (书法印刷品)",
          "calligraphy prints (书法印刷品)",
          "calligraphy prints (书法印刷品)",
          "calligraphy prints (书法印刷品)",
          "calligraphy prints (书法印刷品)",
          "calligraphy prints (书法印刷品)",
          "calligraphy prints (书法印刷品)",
          "calligraphy prints (书法印刷品)",
          "calligraphy prints (书法印刷品)",
          "calligraphy prints (书法印刷品)",
          "calligraphy prints (书法印刷品)",
          "calligraphy prints (书法印刷品)",
          "calligraphy prints (书法印刷品)",
          "calligraphy prints (书法印刷品)",
          "calligraphy prints (书法印刷品)",
          "calligraphy prints (书法印刷品)",
          "calligraphy prints (书法印刷品)",
          "calligraphy prints (书法印刷品)",
          "calligraphy prints (书法印刷品)",
          "calligraphy prints (书法印刷品)",
          "calligraphy prints (书法印刷品)",
          "calligraphy prints (书法印刷品)",
          "calligraphy prints (书法印刷品)",
          "calligraphy prints (书法印刷品)",
          "calligraphy prints (书法印刷品)",
          "calligraphy prints (书法印刷品)",
          "calligraphy prints (书法印刷品)",
          "calligraphy prints (书法印刷品)",
          "calligraphy prints (书法印刷品)",
          "calligraphy prints (书法印刷品)",
          "calligraphy prints (书法印刷品)",
          "calligraphy prints (书法印刷品)",
          "calligraphy prints (书法印刷品)",
          "calligraphy prints (书法印刷品)",
          "calligraphy prints (书法印刷品)",
          "calligraphy prints (书法印刷品)",
          "calligraphy prints (书法印刷品)",
          "calligraphy prints (书法印刷品)",
          "calligraphy prints (书法印刷品)",
          "calligraphy prints (书法印刷品)",
          "calligraphy prints (书法印刷品)",
          "calligraphy prints (书法印刷品)",
          "calligraphy prints (书法印刷品)",
          "calligraphy prints (书法印刷品)",
          "calligraphy prints (书法印刷品)",
          "calligraphy prints (书法印刷品)",
          "calligraphy prints (书法印刷品)",
          "calligraphy prints (书法印刷品)",
          "calligraphy prints (书法印刷品)",
          "calligraphy prints (书法印刷品)",
          "chinese art stickers (中国艺术贴纸)",
          "chinese art stickers (中国艺术贴纸)",
          "chinese art stickers (中国艺术贴纸)",
          "chinese art stickers (中国艺术贴纸)",
          "chinese art stickers (中国艺术贴纸)",
          "chinese art stickers (中国艺术贴纸)",
          "chinese art stickers (中国艺术贴纸)",
          "chinese art stickers (中国艺术贴纸)",
          "chinese art stickers (中国艺术贴纸)",
          "chinese art stickers (中国艺术贴纸)",
          "chinese art stickers (中国艺术贴纸)",
          "chinese art stickers (中国艺术贴纸)",
          "chinese art stickers (中国艺术贴纸)",
          "chinese art stickers (中国艺术贴纸)",
          "chinese art stickers (中国艺术贴纸)",
          "chinese art stickers (中国艺术贴纸)",
          "chinese art stickers (中国艺术贴纸)",
          "chinese art stickers (中国艺术贴纸)",
          "chinese art stickers (中国艺术贴纸)",
          "chinese art stickers (中国艺术贴纸)",
          "chinese art stickers (中国艺术贴纸)",
          "chinese art stickers (中国艺术贴纸)",
          "chinese art stickers (中国艺术贴纸)",
          "chinese art stickers (中国艺术贴纸)",
          "chinese art stickers (中国艺术贴纸)",
          "chinese art stickers (中国艺术贴纸)",
          "chinese art stickers (中国艺术贴纸)",
          "chinese art stickers (中国艺术贴纸)",
          "chinese art stickers (中国艺术贴纸)",
          "chinese art stickers (中国艺术贴纸)",
          "chinese art stickers (中国艺术贴纸)",
          "chinese art stickers (中国艺术贴纸)",
          "chinese art stickers (中国艺术贴纸)",
          "chinese art stickers (中国艺术贴纸)",
          "chinese art stickers (中国艺术贴纸)",
          "chinese art stickers (中国艺术贴纸)",
          "chinese art stickers (中国艺术贴纸)",
          "chinese art stickers (中国艺术贴纸)",
          "chinese art stickers (中国艺术贴纸)",
          "chinese art stickers (中国艺术贴纸)",
          "chinese art stickers (中国艺术贴纸)",
          "chinese art stickers (中国艺术贴纸)",
          "chinese art stickers (中国艺术贴纸)",
          "chinese art stickers (中国艺术贴纸)",
          "chinese art stickers (中国艺术贴纸)",
          "chinese art stickers (中国艺术贴纸)",
          "chinese art stickers (中国艺术贴纸)",
          "chinese bamboo art (中国竹艺)",
          "chinese bamboo art (中国竹艺)",
          "chinese bamboo art (中国竹艺)",
          "chinese bamboo art (中国竹艺)",
          "chinese bamboo art (中国竹艺)",
          "chinese bamboo art (中国竹艺)",
          "chinese bamboo art (中国竹艺)",
          "chinese bookmarks (中国书签)",
          "chinese bookmarks (中国书签)",
          "chinese bookmarks (中国书签)",
          "chinese bookmarks (中国书签)",
          "chinese bookmarks (中国书签)",
          "chinese bookmarks (中国书签)",
          "chinese bookmarks (中国书签)",
          "chinese bookmarks (中国书签)",
          "chinese bookmarks (中国书签)",
          "chinese bookmarks (中国书签)",
          "chinese bookmarks (中国书签)",
          "chinese bookmarks (中国书签)",
          "chinese bookmarks (中国书签)",
          "chinese bookmarks (中国书签)",
          "chinese bookmarks (中国书签)",
          "chinese bookmarks (中国书签)",
          "chinese bookmarks (中国书签)",
          "chinese bookmarks (中国书签)",
          "chinese bookmarks (中国书签)",
          "chinese bookmarks (中国书签)",
          "chinese bookmarks (中国书签)",
          "chinese bookmarks (中国书签)",
          "chinese bookmarks (中国书签)",
          "chinese bookmarks (中国书签)",
          "chinese bookmarks (中国书签)",
          "chinese incense (中国香)",
          "chinese incense (中国香)",
          "chinese incense (中国香)",
          "chinese incense (中国香)",
          "chinese incense (中国香)",
          "chinese incense (中国香)",
          "chinese incense (中国香)",
          "chinese incense (中国香)",
          "chinese incense (中国香)",
          "chinese incense (中国香)",
          "chinese incense (中国香)",
          "chinese incense (中国香)",
          "chinese incense (中国香)",
          "chinese incense (中国香)",
          "chinese incense (中国香)",
          "chinese magnets (中国冰箱贴)",
          "chinese magnets (中国冰箱贴)",
          "chinese magnets (中国冰箱贴)",
          "chinese magnets (中国冰箱贴)",
          "chinese magnets (中国冰箱贴)",
          "chinese magnets (中国冰箱贴)",
          "chinese magnets (中国冰箱贴)",
          "chinese magnets (中国冰箱贴)",
          "chinese magnets (中国冰箱贴)",
          "chinese magnets (中国冰箱贴)",
          "chinese magnets (中国冰箱贴)",
          "chinese magnets (中国冰箱贴)",
          "chinese magnets (中国冰箱贴)",
          "chinese magnets (中国冰箱贴)",
          "chinese magnets (中国冰箱贴)",
          "chinese magnets (中国冰箱贴)",
          "chinese magnets (中国冰箱贴)",
          "chinese magnets (中国冰箱贴)",
          "chinese magnets (中国冰箱贴)",
          "chinese magnets (中国冰箱贴)",
          "chinese magnets (中国冰箱贴)",
          "chinese magnets (中国冰箱贴)",
          "chinese magnets (中国冰箱贴)",
          "chinese magnets (中国冰箱贴)",
          "chinese magnets (中国冰箱贴)",
          "chinese magnets (中国冰箱贴)",
          "chinese magnets (中国冰箱贴)",
          "chinese magnets (中国冰箱贴)",
          "chinese magnets (中国冰箱贴)",
          "chinese magnets (中国冰箱贴)",
          "chinese magnets (中国冰箱贴)",
          "chinese magnets (中国冰箱贴)",
          "chinese magnets (中国冰箱贴)",
          "chinese magnets (中国冰箱贴)",
          "chinese magnets (中国冰箱贴)",
          "chinese magnets (中国冰箱贴)",
          "chinese magnets (中国冰箱贴)",
          "chinese magnets (中国冰箱贴)",
          "chinese magnets (中国冰箱贴)",
          "chinese magnets (中国冰箱贴)",
          "chinese magnets (中国冰箱贴)",
          "chinese magnets (中国冰箱贴)",
          "chinese mid autumn gift sets (中秋节礼品套装)",
          "chinese mid autumn gift sets (中秋节礼品套装)",
          "chinese mid autumn gift sets (中秋节礼品套装)",
          "chinese mid autumn gift sets (中秋节礼品套装)",
          "chinese mid autumn gift sets (中秋节礼品套装)",
          "chinese mid autumn gift sets (中秋节礼品套装)",
          "chinese mid autumn gift sets (中秋节礼品套装)",
          "chinese mid autumn gift sets (中秋节礼品套装)",
          "chinese mid autumn gift sets (中秋节礼品套装)",
          "chinese mid autumn gift sets (中秋节礼品套装)",
          "chinese mid autumn gift sets (中秋节礼品套装)",
          "chinese mid autumn gift sets (中秋节礼品套装)",
          "chinese pottery (中国陶器)",
          "chinese pottery (中国陶器)",
          "chinese pottery (中国陶器)",
          "chinese pottery (中国陶器)",
          "chinese pottery (中国陶器)",
          "chinese pottery (中国陶器)",
          "chinese pottery (中国陶器)",
          "chinese pottery (中国陶器)",
          "chinese pottery (中国陶器)",
          "chinese pottery (中国陶器)",
          "chinese pottery (中国陶器)",
          "chinese pottery (中国陶器)",
          "chinese pottery (中国陶器)",
          "chinese pottery (中国陶器)",
          "chinese pottery (中国陶器)",
          "chinese pottery (中国陶器)",
          "chinese pottery (中国陶器)",
          "chinese pottery (中国陶器)",
          "chinese pottery (中国陶器)",
          "chinese pottery (中国陶器)",
          "chinese pottery (中国陶器)",
          "chinese pottery (中国陶器)",
          "chinese pottery (中国陶器)",
          "chinese pottery (中国陶器)",
          "chinese pottery (中国陶器)",
          "chinese pottery (中国陶器)",
          "chinese pottery (中国陶器)",
          "chinese pottery (中国陶器)",
          "chinese pottery (中国陶器)",
          "chinese pottery (中国陶器)",
          "chinese pottery (中国陶器)",
          "chinese pottery (中国陶器)",
          "chinese pottery (中国陶器)",
          "chinese pottery (中国陶器)",
          "chinese pottery (中国陶器)",
          "chinese pottery (中国陶器)",
          "chinese pottery (中国陶器)",
          "chinese pottery (中国陶器)",
          "chinese pottery (中国陶器)",
          "chinese pottery (中国陶器)",
          "chinese pottery (中国陶器)",
          "chinese pottery (中国陶器)",
          "chinese pottery (中国陶器)",
          "chinese pottery (中国陶器)",
          "chinese pottery (中国陶器)",
          "chinese pottery (中国陶器)",
          "chinese pottery (中国陶器)",
          "chinese pottery (中国陶器)",
          "chinese pottery (中国陶器)",
          "chinese washi tape (中国和纸胶带)",
          "chinese washi tape (中国和纸胶带)",
          "chinese washi tape (中国和纸胶带)",
          "chinese washi tape (中国和纸胶带)",
          "chinese washi tape (中国和纸胶带)",
          "chinese washi tape (中国和纸胶带)",
          "chinese washi tape (中国和纸胶带)",
          "chinese washi tape (中国和纸胶带)",
          "chinese washi tape (中国和纸胶带)",
          "chinese washi tape (中国和纸胶带)",
          "chinese washi tape (中国和纸胶带)",
          "chinese washi tape (中国和纸胶带)",
          "chinese washi tape (中国和纸胶带)",
          "chinese washi tape (中国和纸胶带)",
          "chinese washi tape (中国和纸胶带)",
          "chinese washi tape (中国和纸胶带)",
          "chinese washi tape (中国和纸胶带)",
          "chinese washi tape (中国和纸胶带)",
          "chinese washi tape (中国和纸胶带)",
          "chinese washi tape (中国和纸胶带)",
          "chinese washi tape (中国和纸胶带)",
          "chinese washi tape (中国和纸胶带)",
          "chinese washi tape (中国和纸胶带)",
          "chinese washi tape (中国和纸胶带)",
          "chinese washi tape (中国和纸胶带)",
          "chinese washi tape (中国和纸胶带)",
          "chinese washi tape (中国和纸胶带)",
          "chinese washi tape (中国和纸胶带)",
          "chinese washi tape (中国和纸胶带)",
          "chinese washi tape (中国和纸胶带)",
          "chinese washi tape (中国和纸胶带)",
          "chinese washi tape (中国和纸胶带)",
          "chinese washi tape (中国和纸胶带)",
          "chinese washi tape (中国和纸胶带)",
          "chinese washi tape (中国和纸胶带)",
          "chinese washi tape (中国和纸胶带)",
          "chinese washi tape (中国和纸胶带)",
          "chinese washi tape (中国和纸胶带)",
          "chinese washi tape (中国和纸胶带)",
          "chinese washi tape (中国和纸胶带)",
          "chinese washi tape (中国和纸胶带)",
          "chinese washi tape (中国和纸胶带)",
          "chinese washi tape (中国和纸胶带)",
          "chinese washi tape (中国和纸胶带)",
          "chinese washi tape (中国和纸胶带)",
          "chinese washi tape (中国和纸胶带)",
          "chinese washi tape (中国和纸胶带)",
          "chinese washi tape (中国和纸胶带)",
          "chinese washi tape (中国和纸胶带)",
          "name seals (印章)",
          "name seals (印章)",
          "name seals (印章)",
          "name seals (印章)",
          "name seals (印章)",
          "name seals (印章)",
          "name seals (印章)",
          "name seals (印章)",
          "name seals (印章)",
          "name seals (印章)",
          "name seals (印章)",
          "name seals (印章)",
          "name seals (印章)",
          "name seals (印章)",
          "name seals (印章)",
          "name seals (印章)",
          "name seals (印章)",
          "name seals (印章)",
          "name seals (印章)",
          "name seals (印章)",
          "name seals (印章)",
          "name seals (印章)",
          "name seals (印章)",
          "name seals (印章)",
          "name seals (印章)",
          "name seals (印章)",
          "name seals (印章)",
          "name seals (印章)",
          "name seals (印章)",
          "name seals (印章)",
          "name seals (印章)",
          "name seals (印章)",
          "name seals (印章)",
          "name seals (印章)",
          "name seals (印章)",
          "name seals (印章)",
          "name seals (印章)",
          "name seals (印章)",
          "name seals (印章)",
          "name seals (印章)",
          "name seals (印章)",
          "name seals (印章)",
          "name seals (印章)",
          "name seals (印章)",
          "name seals (印章)",
          "name seals (印章)",
          "name seals (印章)",
          "name seals (印章)",
          "name seals (印章)",
          "name seals (印章)",
          "paper lanterns (纸灯笼)",
          "paper lanterns (纸灯笼)",
          "paper lanterns (纸灯笼)",
          "paper lanterns (纸灯笼)",
          "paper lanterns (纸灯笼)",
          "paper lanterns (纸灯笼)",
          "paper lanterns (纸灯笼)",
          "paper lanterns (纸灯笼)",
          "paper lanterns (纸灯笼)",
          "paper lanterns (纸灯笼)",
          "paper lanterns (纸灯笼)",
          "paper lanterns (纸灯笼)",
          "paper lanterns (纸灯笼)",
          "paper lanterns (纸灯笼)",
          "paper lanterns (纸灯笼)",
          "paper lanterns (纸灯笼)",
          "paper lanterns (纸灯笼)",
          "paper lanterns (纸灯笼)",
          "paper lanterns (纸灯笼)",
          "paper lanterns (纸灯笼)",
          "paper lanterns (纸灯笼)",
          "paper lanterns (纸灯笼)",
          "paper lanterns (纸灯笼)",
          "paper lanterns (纸灯笼)",
          "paper lanterns (纸灯笼)",
          "paper lanterns (纸灯笼)",
          "paper lanterns (纸灯笼)",
          "paper lanterns (纸灯笼)",
          "paper lanterns (纸灯笼)",
          "paper lanterns (纸灯笼)",
          "paper lanterns (纸灯笼)",
          "paper lanterns (纸灯笼)",
          "paper lanterns (纸灯笼)",
          "paper lanterns (纸灯笼)",
          "paper lanterns (纸灯笼)",
          "paper lanterns (纸灯笼)",
          "paper lanterns (纸灯笼)",
          "paper lanterns (纸灯笼)",
          "paper lanterns (纸灯笼)",
          "paper lanterns (纸灯笼)",
          "paper lanterns (纸灯笼)",
          "paper lanterns (纸灯笼)",
          "paper lanterns (纸灯笼)",
          "paper lanterns (纸灯笼)",
          "paper lanterns (纸灯笼)",
          "paper lanterns (纸灯笼)",
          "paper lanterns (纸灯笼)",
          "paper lanterns (纸灯笼)",
          "paper lanterns (纸灯笼)",
          "paper lanterns (纸灯笼)",
          "paper lanterns (纸灯笼)",
          "paper lanterns (纸灯笼)",
          "paper lanterns (纸灯笼)",
          "paper lanterns (纸灯笼)",
          "paper lanterns (纸灯笼)",
          "paper lanterns (纸灯笼)",
          "paper lanterns (纸灯笼)",
          "paper lanterns (纸灯笼)",
          "paper lanterns (纸灯笼)",
          "paper lanterns (纸灯笼)",
          "paper lanterns (纸灯笼)",
          "paper lanterns (纸灯笼)",
          "paper lanterns (纸灯笼)",
          "paper lanterns (纸灯笼)"
         ],
         "y": [
          "AlchemyByManon",
          "Andyscollection",
          "AnnieCoJewelry",
          "AshleyJaneMilan",
          "Balastone",
          "BellevueRareCoins",
          "ByjjJewelry",
          "CGBeadesSupplies",
          "CharmByCoral",
          "DIYbeads888",
          "DansShopGiftsx",
          "DietzJewels",
          "DiyNotion",
          "FDLJewels",
          "Fernhomeandfashion",
          "FlyinJewelry",
          "GREENDEERbymui",
          "GemsbyShaan",
          "GemstoneCrystalsShop",
          "GypsyRoadStudio",
          "HowOriginalStore",
          "Jadehappy",
          "JadeiteRoom",
          "JadeousJade",
          "JessieBeverlyDesigns",
          "KhorasanRug",
          "MJadeite",
          "Micharzoee",
          "MoonMonstersCave",
          "NeedANeedle",
          "NemaliJewelry",
          "NownowCrafts",
          "OrientalSecretGarden",
          "PetiteLinks",
          "PoshGemz",
          "SBGEMSInd",
          "ShaanFashionz",
          "ShinyBead",
          "ShopTGSglass",
          "TheJadeMerchant",
          "ThrowinStones",
          "UptownPatina",
          "YunBoutique",
          "artrici",
          "blackbeaded",
          "bodhiaccessories",
          "carolbarrettjewelry",
          "diygem",
          "latelierdandrea",
          "myhandcrfs",
          "swampYankee",
          "thisbeadsforyou",
          "AlainTourneurBois",
          "AlyssaVanderPloeg",
          "COWdigitalART",
          "CalligraphyforGod",
          "ChineseLearning",
          "CopingGifts",
          "CrescentMoonCatShop",
          "Elimluv",
          "ExoticMerchantCrafts",
          "Funkystuff13",
          "GoodGoodTools",
          "GoodOldTimeArt",
          "HappyDealz",
          "HubDigital",
          "INKSTON",
          "INKtroduction",
          "Interstateblue",
          "IvandCoDesigns",
          "JackmansArtMaterials",
          "KristaMcCurdyArt",
          "LeadTin",
          "LoriksArtShop",
          "MeeLiaDigital",
          "MetaphoriaDesign",
          "MiniTrezoDesign",
          "MyLittleHand",
          "Orientalartmaterial",
          "Pimpmychair",
          "PuffPrints",
          "SealCuttingArts",
          "SemliCalligraphy",
          "SindyJoyiArts",
          "THYFshop",
          "TOLhandmade",
          "The1608shop",
          "TheGoodLifeVibes",
          "YenzArtHaut",
          "lkfarnsworth",
          "toolsforwriting",
          "yanghaiying",
          "267khuba",
          "88AsianAntiques",
          "AMDigitalPrints",
          "APrints",
          "Acrylicartbyrick",
          "AestheticWallDecor",
          "AgnesSzafranska",
          "AnaisHomeDecor",
          "AnnaVladiArt",
          "AnnaisticArtGiftic",
          "Art4OursCo",
          "ArtPink",
          "ArtforHeartUK",
          "Artworkoria",
          "AsianArtistry",
          "AsianHeritagePrints",
          "AutumnFlowersStudio",
          "BeepArtsAndCrafts",
          "BellissiCasa",
          "BlkInkArt",
          "BmeGallery",
          "BrushmanStudio",
          "BunneePrintFactory",
          "Burgerisad",
          "CHINOISERIEHOMECO",
          "CalligraphyRoom",
          "CalligraphyforGod",
          "ChalmersFantasy",
          "ChiGardensInc",
          "ClassicAntiquePrints",
          "CleanArchives",
          "Colinbrush",
          "ColorfullWorlds",
          "ColoroftheElf",
          "ColorsofSami",
          "CottagelandCo",
          "CouleursDuNil",
          "CuriouslyCreatives",
          "DRIVADE",
          "DaiistStyleArt",
          "DarkSwanArtDesign",
          "DealioHound",
          "DenshoDE",
          "DigitalPrintCharm",
          "DigitalStudio33",
          "DragonDesignn",
          "DschiniBean",
          "EpicArtAcrylic",
          "FightersPosterShop",
          "FilipArtLaboratory",
          "FineArtelier",
          "FineTreeDigitals",
          "FlashBimojiArt",
          "FlowWithTheBrush",
          "FunctionalSculpture",
          "GcafeStudio",
          "GemofArt",
          "GinCreatives",
          "GlendaleGardens",
          "GoodOldTimeArt",
          "GraphickS6250",
          "GreenLifePrints",
          "HeavenlyBrush",
          "HelgeJPG",
          "IGyotaku",
          "IndioPage",
          "InkBrushArt",
          "IslamicartByJaveria",
          "JKSuperstore",
          "JapanCrossBridge",
          "JayDeenPrint",
          "JayLamArt",
          "JemCityStudio",
          "JongiShop",
          "JoyfulArtPrint",
          "JunInspirations",
          "JwxweiPhotography",
          "KRWORLDDESIGN",
          "KoreanArtCalligraphy",
          "KoreanCalligraphyArt",
          "KoreanScribbles",
          "LFyDesignCo",
          "LaPlumeReveuseArt",
          "LanDanGallery",
          "LaylaLumiere",
          "LeafHouseUK",
          "Leechees",
          "LeremyStickFigures",
          "LifeLoLo",
          "LittleGiraffePrints",
          "LuvCreationsDesigns",
          "LyArtCanada",
          "LynxXiaoStudio",
          "MaggieTurnerArts",
          "MakersPrintArt",
          "MannaPrints",
          "MaplePrintables",
          "MariamArabicWallArt",
          "MariusSzmerdt",
          "MateuszOlbrychtART",
          "MediciArtPrints",
          "MetaBooth",
          "MingsDigitalStudio",
          "MiniTrezoDesign",
          "MorningMobi",
          "MsLeechee",
          "NACOandHOOPER",
          "NeoArtEvolution",
          "NeptuneArtPrints",
          "Nourartsy",
          "OkurimonoStudio",
          "OmniLightArtPrint",
          "OpenInkStand",
          "OrientalOutpost",
          "PAINTmatters",
          "PBJournal",
          "PODAThoughts",
          "POEMDesignCo",
          "PanoramaCanvas",
          "PeachyBabyArt",
          "PistisArtStore",
          "PlanetDigitalArt",
          "PurrfectCity",
          "RainbowCanary",
          "RichKoesterArt",
          "RichTeaArt",
          "Ringmasterxred",
          "RobbieBurrito",
          "RosewoodPeony",
          "SUZUYA",
          "SandyHeCube",
          "SasaNatalyaArt",
          "SaturdaySchoolClub",
          "SeasonsSerenity",
          "SewellGraphicArts",
          "ShiriLanzerArt",
          "ShuoArtStudio",
          "SindyJoyiArts",
          "SmittenPaperProps",
          "StickersKingdom",
          "StixDesigns",
          "StrandClothing",
          "StudioPrintly",
          "StudioWuDesign",
          "SuaveDesign",
          "SunnyAndRainyArtShop",
          "SuziGordonDesigns",
          "SweetZenStore",
          "SynthetikSpectra",
          "TDNprintables",
          "TT40Art",
          "The25thPrints",
          "TheBilingualNursery",
          "TheMercuryGallery",
          "TigerHouseArt",
          "TracingGraceArts",
          "TristinaDietzArt",
          "TruthsImages",
          "Tulipions",
          "VeronicaPrints",
          "Vintagecollection888",
          "WabiSabiEssential",
          "WallflowerArtCompany",
          "WayToSamadhi",
          "WestJunkTravelCo",
          "WillaHeart",
          "WonderwiseArt",
          "YiMian",
          "YogaPaper",
          "YourHomeDesignStore",
          "YsssStudio",
          "ZWQArtzen",
          "ZenArtCalligraphy",
          "ZenBrush",
          "ZenDigitalJAPAN",
          "aDazzlingArtBoutique",
          "ataraxiadesignsart",
          "konichiwaprints",
          "kozachekart",
          "matatanARTprints",
          "minouette",
          "printsByChaos",
          "tarantra",
          "theleftyletters",
          "zakkalover",
          "ApsaraLabels",
          "BakaDreams",
          "BloomaMind",
          "BlossomArtAvenue",
          "BlueEggAdventures",
          "BraaunNails",
          "CharmCityCrabs",
          "CoraCreaCrafts",
          "DesignKR",
          "DienamicDecals",
          "DiwataCraft",
          "DreamKidsDecal",
          "FunDesignByMe",
          "GomisGoodies",
          "GrAttitudeGifts",
          "Illustrace",
          "IndiWolfOnline",
          "JaylaPastels",
          "JencArtsy",
          "JoogiStudio",
          "LIVINGOAC",
          "LoveMeetDesignStudio",
          "LovelyStickersArts",
          "MoonApeTees",
          "MyLittleStudioAU",
          "N1MH",
          "NailBeautyLandUSA",
          "OtoroCat",
          "RebeccaWangArt",
          "RyansCritterArt",
          "SeemazArtCollection",
          "SingleStoneStudios",
          "Starcovedesign",
          "StickersKingdom",
          "SupersSkinUA",
          "SwiftlyCrafts",
          "TinySupplyShop",
          "WaWaStationery",
          "WallARTime",
          "WildBeautyGraphics",
          "amrmjp",
          "booktokbookshelf",
          "chuvardina",
          "didistickers",
          "fuchsiascribbles",
          "sentinelsupply",
          "shopkitschykawaii",
          "ArtuoDesigns",
          "AsianArtGifts",
          "Crazitchek",
          "FloatYourBoatDesignz",
          "PiecefulDesign",
          "SuzTreasureHouse",
          "YYShopGoods",
          "AsianArtGifts",
          "BeadCharmJewelry",
          "CarmenLamArt",
          "Culdsiaharisquant",
          "Excited4stickernmore",
          "JupiterMoonJewellery",
          "KanMandlandshop",
          "LiliSeeds",
          "LingPitts",
          "OrientalInc",
          "Ostaranda",
          "PrairiePixelLove",
          "QueenofMirth",
          "Rosenart",
          "Sandakala",
          "ScintillareBySunidhi",
          "SealCuttingArts",
          "Seodaemoon",
          "ShopDerekShop",
          "TT40Art",
          "TheFancyScribbler",
          "jingsbeadingworld",
          "memoriesemporium",
          "misspinkrobin",
          "vintagekosmima",
          "DePlagePhoto",
          "ImperialIncense",
          "IncenseCeremony",
          "IncenseofAsia",
          "JasmineApothecary",
          "KarmaSyndikat",
          "MaragCeltic",
          "Realnaturepure",
          "TreasureHouseNo1",
          "VoltageVintageFinds",
          "YYShopGoods",
          "calumscuriosities",
          "feelingcollections",
          "good1369",
          "vintagiodesign",
          "100daysco",
          "AnyaShopStudio",
          "AvEwerkz",
          "BabyShop77",
          "CarveitArtWorkshop",
          "CraftologistCass",
          "DOMEDBAZAAR",
          "DeniseClemenco",
          "DimensionalDiversion",
          "EvArtesShop",
          "GiftArtByMike",
          "Gifts2Engrave",
          "GiftsBStore",
          "GothamDecor",
          "GuijiLuo",
          "Homepartdepot",
          "HundredHearts",
          "InkShopGifts",
          "JuliasMysticalShop",
          "KBeadsIt",
          "KeinMaker",
          "LigneNoireArt",
          "LilCrocsCustoms",
          "LisaJanesGifts",
          "LucinaK",
          "LydiaJeanArt",
          "Malachikittybijoux",
          "ModPawsUS",
          "NanasPrettyGirls",
          "NihonDesign",
          "ObnoxiouslyMagnetic",
          "PetPartyCo",
          "PickledStamps",
          "RKNGStudio",
          "SCCustomDecalDesigns",
          "ThreeMemoryVivid",
          "TramaiCeramics",
          "VintageOutlookShop",
          "WildernessInsider",
          "WyrmwoodMarket",
          "byHaquil",
          "emycatdesign",
          "BestjadeStudio",
          "BlushingHoneyCo",
          "CuddlesAndLearn",
          "GraceCakeUS",
          "GraceYuArtStudio",
          "Linai",
          "LuckyCatTreasure",
          "MyLittleHand",
          "PrintGoGo",
          "SweetsunByJessica",
          "YYfairyland",
          "YingmartShop",
          "33YellowClouds",
          "AlpineStore",
          "ArtsCollectionShop",
          "BlueWhiteCustom",
          "Calibonsai",
          "CalligraphyforGod",
          "ChameiTeaHouse",
          "Chinabluetotnes",
          "CreationM",
          "DayJahView",
          "DelightGemsCreations",
          "DownEastCollectibles",
          "ElysianEarwear",
          "EnikoKovacsDesign",
          "FrammDesign",
          "FrenchAlley",
          "GCHeStore",
          "GaryGermer",
          "GoodiesAndCrafties",
          "Grandchildattic",
          "HalcyonGalleryCo",
          "Ildikoscollection",
          "InkHeartPottery",
          "JewelCreekAntiques",
          "KingTeaMall",
          "LuckiestDuck2",
          "Luckychangantiques",
          "LunaTeaware",
          "MSSCrafts",
          "MellowBreez",
          "MemoryPlus",
          "MtPearlsCollectibles",
          "MusicAndMuse",
          "MyPeriodHomeUK",
          "OrnamentCollection",
          "Peaceofartshongkong",
          "QuirkyAntiquesStore",
          "ReginaGB",
          "SapphireLounge",
          "SecretBelladonna",
          "SirensPotteryTools",
          "StampDesignGifts",
          "Statuesquo",
          "TeaQuarter",
          "TpotsOriental",
          "diyhandicrafts",
          "janetsjewelgarden",
          "ladymariaworld",
          "waterforart",
          "AnyaShopStudio",
          "AvEwerkz",
          "BabyShop77",
          "BeakersWorld",
          "BeeCreativeShop",
          "BloomaMind",
          "BrendasPaperParty",
          "CraftSupprise",
          "CraftologistCass",
          "CraftsmileShop",
          "DIYPaperandwoodcraft",
          "DOMEDBAZAAR",
          "DiwataCraft",
          "Duosel",
          "Etudiaire",
          "FabricCenterArt",
          "Floralbombcollection",
          "FluxCraftsUK",
          "GiftArtByMike",
          "Gifts2Engrave",
          "GiftsBStore",
          "GloriaHomeFurnishing",
          "HundredHearts",
          "InkShopGifts",
          "Journalland",
          "JuliasMysticalShop",
          "KeinMaker",
          "LilLv",
          "Maskingtapelover",
          "MeloncholyCo",
          "ModPawsUS",
          "MoshiMoshiUK",
          "NanasPrettyGirls",
          "OktoberTreasures",
          "PetPartyCo",
          "PickledStamps",
          "PurochensArtshop",
          "SCCustomDecalDesigns",
          "Simonaspretties",
          "SingleSploot",
          "SolaliaCreations",
          "TapesKingdom",
          "ThreeMemoryVivid",
          "TramaiCeramics",
          "WintertimeCrafts",
          "WyrmwoodMarket",
          "dailystargaze",
          "linguine",
          "zakkalover",
          "1000dou",
          "AnnaVladiArt",
          "AzamiPress",
          "BeachFleaMarket",
          "BlueEyedJewelsTX",
          "CalligraphyforGod",
          "CollectWhb",
          "CollectedInvitations",
          "CopingGifts",
          "CynthiasAttic",
          "DancingLionsBar",
          "ExoticMerchantCrafts",
          "FeistudioArt",
          "HechoDeCorazon",
          "JamielalalaPrint",
          "JapanVintageAntique",
          "JapaneseRubberStamps",
          "JayLamArt",
          "Kraftille",
          "LAHUCHA",
          "LaddStamps",
          "LuckyFlowerShop",
          "LuvjasmineShop",
          "MoreUnusualTheBetter",
          "My40YearCollection",
          "MyLittleHand",
          "NineColorHAN",
          "OBDstudio",
          "OlivaDesignCrafts",
          "Orientalartmaterial",
          "PaperPineTree",
          "PaulsJunkCloset",
          "Pimpmychair",
          "PinkPandaStamps",
          "Purana",
          "RainingParties",
          "RechercheReStore",
          "SalonUber",
          "SealCuttingArts",
          "SemliCalligraphy",
          "SindyJoyiArts",
          "SoSylvie",
          "SomedaySomeplace",
          "TreVincentShop",
          "VintageVarietyStudio",
          "WestsidePrints",
          "WorldofBacara",
          "XustomizedDesign",
          "franklyScarlett",
          "salientstone",
          "33imports",
          "BALIGOOD",
          "BaerDesignStudio",
          "BambooMN",
          "BigDotOfHappiness",
          "BohemiansStudio",
          "CCarterWatercolors",
          "CaliQuiltCo",
          "Chaiv",
          "ChinaTownGiftShop",
          "CpandoShop",
          "CraftedInUSAbyVB",
          "CubicCraftCreations",
          "DECOPOMPOMS",
          "DecoYourParty",
          "Dkjewels",
          "EightStrandsStudio",
          "ElegantSparrows",
          "EpicAIArt",
          "ErikordSupplies",
          "FuntastikPrintables",
          "GinetteBrosseau",
          "HandicraftsUnionCN",
          "HappyPartySupply",
          "InnerUnion",
          "JSEventsAU",
          "JayLamArt",
          "JoyEvents",
          "KecklerDesign",
          "KoelschArtLab",
          "LavenderBeeCreations",
          "LightningBugs",
          "LilLv",
          "LisaMarkleSparkles",
          "LittleStarCraftShop",
          "NoTreesHarmedPrints",
          "PaperlovecraftHK",
          "Pimpmychair",
          "RAcollectives",
          "RoadWorkingGifts",
          "ShreesaikripBoutique",
          "SilkscapeDesign",
          "SpoonflowerHome",
          "SunandSeaSVGs",
          "TIGPEEK",
          "TapesKingdom",
          "TheHouseofHarlequin",
          "TimelessNotion",
          "ToscasBungalow",
          "UniqoooShop",
          "UpUpGraphics",
          "VIWEI",
          "VanillaBlueCreation",
          "Vindeedlamps",
          "YYfairyland",
          "ZendaDesigns",
          "brownskylight",
          "iFavor123",
          "kitschpandastore",
          "macynvintage",
          "mypinkeraser",
          "pinkultra",
          "studiostebbylee",
          "thesilhouettequeenUS"
         ],
         "z": [
          34,
          5,
          22,
          1,
          14,
          1,
          2,
          2,
          217,
          37,
          3,
          1,
          2,
          1,
          4,
          10,
          1,
          1,
          1,
          1,
          7,
          1,
          7,
          79,
          74,
          1,
          2,
          1,
          2,
          5,
          7,
          93,
          26,
          7,
          1,
          1,
          5,
          77,
          2,
          2,
          23,
          5,
          5,
          1,
          1,
          2,
          2,
          78,
          4,
          1,
          1,
          2,
          1,
          6,
          218,
          133,
          8,
          14,
          14,
          8,
          11,
          12,
          1,
          5,
          90,
          7,
          6,
          1,
          6,
          17,
          9,
          19,
          16,
          3,
          17,
          13,
          4,
          235,
          47,
          120,
          81,
          4,
          253,
          342,
          7,
          1,
          2,
          2,
          7,
          1,
          2,
          9,
          4,
          1,
          1,
          9,
          1,
          119,
          29,
          115,
          56,
          3,
          6,
          375,
          7,
          3,
          13,
          2,
          26,
          8,
          122,
          1,
          3,
          3,
          2,
          6,
          7,
          2,
          663,
          297,
          1,
          166,
          34,
          80,
          173,
          3,
          2,
          1,
          10,
          1,
          4,
          1,
          2,
          2,
          1,
          2,
          4,
          2,
          1,
          5,
          18,
          1,
          1,
          4,
          6,
          2,
          22,
          19,
          9,
          7,
          1,
          2,
          5,
          253,
          1,
          5,
          9,
          92,
          16,
          1,
          2,
          50,
          2,
          63,
          7,
          6,
          109,
          26,
          5,
          3,
          10,
          14,
          24,
          7,
          24,
          2,
          2,
          190,
          65,
          6,
          4,
          2,
          2,
          8,
          2,
          2,
          1,
          3,
          475,
          179,
          2,
          8,
          1,
          17,
          2,
          4,
          24,
          29,
          4,
          20,
          131,
          1,
          72,
          25,
          10,
          1,
          26,
          97,
          11,
          125,
          45,
          147,
          4,
          9,
          3,
          57,
          3,
          3,
          4,
          9,
          2,
          2,
          21,
          1,
          21,
          3,
          18,
          155,
          15,
          32,
          35,
          9,
          19,
          157,
          10,
          1,
          3,
          5,
          10,
          4,
          2,
          4,
          1,
          5,
          12,
          14,
          26,
          3,
          4,
          17,
          5,
          11,
          4,
          1,
          51,
          11,
          1,
          13,
          3,
          6,
          4,
          5,
          2,
          85,
          117,
          109,
          16,
          3,
          6,
          21,
          2,
          4,
          3,
          101,
          12,
          1,
          26,
          13,
          10,
          92,
          2,
          4,
          5,
          14,
          20,
          18,
          2,
          30,
          12,
          3,
          227,
          3,
          4,
          12,
          7,
          1,
          11,
          2,
          10,
          2,
          4,
          9,
          1,
          8,
          5,
          10,
          159,
          16,
          70,
          10,
          298,
          1,
          4,
          7,
          14,
          22,
          9,
          1,
          1,
          5,
          53,
          4,
          109,
          4,
          37,
          4,
          12,
          2,
          27,
          1,
          1,
          22,
          9,
          26,
          80,
          14,
          3,
          81,
          77,
          2,
          1,
          14,
          4,
          11,
          4,
          4,
          54,
          25,
          1,
          11,
          2,
          4,
          74,
          82,
          47,
          9,
          2,
          1,
          8,
          10,
          3,
          17,
          2,
          204,
          14,
          1,
          12,
          3,
          5,
          1,
          3,
          3,
          28890,
          29397,
          7452,
          289,
          1144,
          1242,
          8,
          269,
          2,
          13112,
          24358,
          15888,
          2,
          41,
          7,
          10288,
          11427,
          2528,
          74,
          5462,
          1,
          3,
          7,
          4,
          48,
          11,
          22146,
          801,
          3,
          15,
          14474,
          51135,
          6,
          2632,
          5425,
          1402,
          3,
          1,
          1202,
          37,
          26,
          22,
          5,
          3,
          897,
          8,
          40,
          6,
          7,
          10,
          438,
          146,
          13,
          1,
          8,
          2,
          4,
          435,
          3,
          1,
          68,
          246,
          14,
          23,
          3,
          359,
          44,
          7,
          8,
          1,
          2,
          3,
          17,
          2,
          1,
          2,
          5,
          21,
          3,
          38,
          41,
          2,
          1,
          107,
          3,
          1,
          1,
          1,
          1,
          4,
          50,
          1,
          1,
          9,
          36,
          44,
          125,
          5,
          2,
          59,
          2,
          68,
          28890,
          29397,
          7452,
          22,
          10,
          20,
          10,
          198,
          1144,
          77,
          1,
          1242,
          28,
          153,
          9,
          3,
          15,
          36,
          13112,
          24358,
          15888,
          38,
          10288,
          11427,
          9,
          2528,
          5462,
          13,
          36,
          3,
          22146,
          26,
          801,
          38,
          14474,
          51135,
          14,
          2632,
          1,
          2,
          11,
          121,
          5425,
          1402,
          85,
          1202,
          3,
          98,
          77,
          426,
          6,
          315,
          29,
          46,
          2604,
          10,
          8,
          9,
          10,
          499,
          428,
          3,
          3,
          115,
          10,
          86,
          136,
          43,
          4,
          1,
          1,
          1,
          12,
          13,
          211,
          2,
          5,
          55,
          695,
          7,
          17,
          40,
          6,
          4,
          11,
          1,
          2,
          333,
          3495,
          3182,
          1,
          22,
          151,
          3,
          1,
          90,
          20,
          3,
          22,
          6,
          10,
          56,
          15,
          7,
          16,
          3,
          17,
          86,
          24,
          7,
          8,
          88,
          66,
          1274,
          3,
          1,
          3,
          1,
          41,
          127,
          7,
          32,
          274,
          4,
          6,
          3,
          11,
          1,
          23,
          5,
          17,
          6,
          3,
          1,
          3,
          24,
          12,
          2,
          3,
          3,
          1,
          26,
          12,
          28,
          114,
          3,
          3,
          1,
          1,
          8,
          10,
          2,
          202,
          1,
          1,
          1,
          6,
          101,
          14,
          11,
          2,
          3,
          3
         ]
        }
       ],
       "layout": {
        "height": 1000,
        "template": {
         "data": {
          "bar": [
           {
            "error_x": {
             "color": "rgb(36,36,36)"
            },
            "error_y": {
             "color": "rgb(36,36,36)"
            },
            "marker": {
             "line": {
              "color": "white",
              "width": 0.5
             },
             "pattern": {
              "fillmode": "overlay",
              "size": 10,
              "solidity": 0.2
             }
            },
            "type": "bar"
           }
          ],
          "barpolar": [
           {
            "marker": {
             "line": {
              "color": "white",
              "width": 0.5
             },
             "pattern": {
              "fillmode": "overlay",
              "size": 10,
              "solidity": 0.2
             }
            },
            "type": "barpolar"
           }
          ],
          "carpet": [
           {
            "aaxis": {
             "endlinecolor": "rgb(36,36,36)",
             "gridcolor": "white",
             "linecolor": "white",
             "minorgridcolor": "white",
             "startlinecolor": "rgb(36,36,36)"
            },
            "baxis": {
             "endlinecolor": "rgb(36,36,36)",
             "gridcolor": "white",
             "linecolor": "white",
             "minorgridcolor": "white",
             "startlinecolor": "rgb(36,36,36)"
            },
            "type": "carpet"
           }
          ],
          "choropleth": [
           {
            "colorbar": {
             "outlinewidth": 1,
             "tickcolor": "rgb(36,36,36)",
             "ticks": "outside"
            },
            "type": "choropleth"
           }
          ],
          "contour": [
           {
            "colorbar": {
             "outlinewidth": 1,
             "tickcolor": "rgb(36,36,36)",
             "ticks": "outside"
            },
            "colorscale": [
             [
              0,
              "#440154"
             ],
             [
              0.1111111111111111,
              "#482878"
             ],
             [
              0.2222222222222222,
              "#3e4989"
             ],
             [
              0.3333333333333333,
              "#31688e"
             ],
             [
              0.4444444444444444,
              "#26828e"
             ],
             [
              0.5555555555555556,
              "#1f9e89"
             ],
             [
              0.6666666666666666,
              "#35b779"
             ],
             [
              0.7777777777777778,
              "#6ece58"
             ],
             [
              0.8888888888888888,
              "#b5de2b"
             ],
             [
              1,
              "#fde725"
             ]
            ],
            "type": "contour"
           }
          ],
          "contourcarpet": [
           {
            "colorbar": {
             "outlinewidth": 1,
             "tickcolor": "rgb(36,36,36)",
             "ticks": "outside"
            },
            "type": "contourcarpet"
           }
          ],
          "heatmap": [
           {
            "colorbar": {
             "outlinewidth": 1,
             "tickcolor": "rgb(36,36,36)",
             "ticks": "outside"
            },
            "colorscale": [
             [
              0,
              "#440154"
             ],
             [
              0.1111111111111111,
              "#482878"
             ],
             [
              0.2222222222222222,
              "#3e4989"
             ],
             [
              0.3333333333333333,
              "#31688e"
             ],
             [
              0.4444444444444444,
              "#26828e"
             ],
             [
              0.5555555555555556,
              "#1f9e89"
             ],
             [
              0.6666666666666666,
              "#35b779"
             ],
             [
              0.7777777777777778,
              "#6ece58"
             ],
             [
              0.8888888888888888,
              "#b5de2b"
             ],
             [
              1,
              "#fde725"
             ]
            ],
            "type": "heatmap"
           }
          ],
          "heatmapgl": [
           {
            "colorbar": {
             "outlinewidth": 1,
             "tickcolor": "rgb(36,36,36)",
             "ticks": "outside"
            },
            "colorscale": [
             [
              0,
              "#440154"
             ],
             [
              0.1111111111111111,
              "#482878"
             ],
             [
              0.2222222222222222,
              "#3e4989"
             ],
             [
              0.3333333333333333,
              "#31688e"
             ],
             [
              0.4444444444444444,
              "#26828e"
             ],
             [
              0.5555555555555556,
              "#1f9e89"
             ],
             [
              0.6666666666666666,
              "#35b779"
             ],
             [
              0.7777777777777778,
              "#6ece58"
             ],
             [
              0.8888888888888888,
              "#b5de2b"
             ],
             [
              1,
              "#fde725"
             ]
            ],
            "type": "heatmapgl"
           }
          ],
          "histogram": [
           {
            "marker": {
             "line": {
              "color": "white",
              "width": 0.6
             }
            },
            "type": "histogram"
           }
          ],
          "histogram2d": [
           {
            "colorbar": {
             "outlinewidth": 1,
             "tickcolor": "rgb(36,36,36)",
             "ticks": "outside"
            },
            "colorscale": [
             [
              0,
              "#440154"
             ],
             [
              0.1111111111111111,
              "#482878"
             ],
             [
              0.2222222222222222,
              "#3e4989"
             ],
             [
              0.3333333333333333,
              "#31688e"
             ],
             [
              0.4444444444444444,
              "#26828e"
             ],
             [
              0.5555555555555556,
              "#1f9e89"
             ],
             [
              0.6666666666666666,
              "#35b779"
             ],
             [
              0.7777777777777778,
              "#6ece58"
             ],
             [
              0.8888888888888888,
              "#b5de2b"
             ],
             [
              1,
              "#fde725"
             ]
            ],
            "type": "histogram2d"
           }
          ],
          "histogram2dcontour": [
           {
            "colorbar": {
             "outlinewidth": 1,
             "tickcolor": "rgb(36,36,36)",
             "ticks": "outside"
            },
            "colorscale": [
             [
              0,
              "#440154"
             ],
             [
              0.1111111111111111,
              "#482878"
             ],
             [
              0.2222222222222222,
              "#3e4989"
             ],
             [
              0.3333333333333333,
              "#31688e"
             ],
             [
              0.4444444444444444,
              "#26828e"
             ],
             [
              0.5555555555555556,
              "#1f9e89"
             ],
             [
              0.6666666666666666,
              "#35b779"
             ],
             [
              0.7777777777777778,
              "#6ece58"
             ],
             [
              0.8888888888888888,
              "#b5de2b"
             ],
             [
              1,
              "#fde725"
             ]
            ],
            "type": "histogram2dcontour"
           }
          ],
          "mesh3d": [
           {
            "colorbar": {
             "outlinewidth": 1,
             "tickcolor": "rgb(36,36,36)",
             "ticks": "outside"
            },
            "type": "mesh3d"
           }
          ],
          "parcoords": [
           {
            "line": {
             "colorbar": {
              "outlinewidth": 1,
              "tickcolor": "rgb(36,36,36)",
              "ticks": "outside"
             }
            },
            "type": "parcoords"
           }
          ],
          "pie": [
           {
            "automargin": true,
            "type": "pie"
           }
          ],
          "scatter": [
           {
            "fillpattern": {
             "fillmode": "overlay",
             "size": 10,
             "solidity": 0.2
            },
            "type": "scatter"
           }
          ],
          "scatter3d": [
           {
            "line": {
             "colorbar": {
              "outlinewidth": 1,
              "tickcolor": "rgb(36,36,36)",
              "ticks": "outside"
             }
            },
            "marker": {
             "colorbar": {
              "outlinewidth": 1,
              "tickcolor": "rgb(36,36,36)",
              "ticks": "outside"
             }
            },
            "type": "scatter3d"
           }
          ],
          "scattercarpet": [
           {
            "marker": {
             "colorbar": {
              "outlinewidth": 1,
              "tickcolor": "rgb(36,36,36)",
              "ticks": "outside"
             }
            },
            "type": "scattercarpet"
           }
          ],
          "scattergeo": [
           {
            "marker": {
             "colorbar": {
              "outlinewidth": 1,
              "tickcolor": "rgb(36,36,36)",
              "ticks": "outside"
             }
            },
            "type": "scattergeo"
           }
          ],
          "scattergl": [
           {
            "marker": {
             "colorbar": {
              "outlinewidth": 1,
              "tickcolor": "rgb(36,36,36)",
              "ticks": "outside"
             }
            },
            "type": "scattergl"
           }
          ],
          "scattermapbox": [
           {
            "marker": {
             "colorbar": {
              "outlinewidth": 1,
              "tickcolor": "rgb(36,36,36)",
              "ticks": "outside"
             }
            },
            "type": "scattermapbox"
           }
          ],
          "scatterpolar": [
           {
            "marker": {
             "colorbar": {
              "outlinewidth": 1,
              "tickcolor": "rgb(36,36,36)",
              "ticks": "outside"
             }
            },
            "type": "scatterpolar"
           }
          ],
          "scatterpolargl": [
           {
            "marker": {
             "colorbar": {
              "outlinewidth": 1,
              "tickcolor": "rgb(36,36,36)",
              "ticks": "outside"
             }
            },
            "type": "scatterpolargl"
           }
          ],
          "scatterternary": [
           {
            "marker": {
             "colorbar": {
              "outlinewidth": 1,
              "tickcolor": "rgb(36,36,36)",
              "ticks": "outside"
             }
            },
            "type": "scatterternary"
           }
          ],
          "surface": [
           {
            "colorbar": {
             "outlinewidth": 1,
             "tickcolor": "rgb(36,36,36)",
             "ticks": "outside"
            },
            "colorscale": [
             [
              0,
              "#440154"
             ],
             [
              0.1111111111111111,
              "#482878"
             ],
             [
              0.2222222222222222,
              "#3e4989"
             ],
             [
              0.3333333333333333,
              "#31688e"
             ],
             [
              0.4444444444444444,
              "#26828e"
             ],
             [
              0.5555555555555556,
              "#1f9e89"
             ],
             [
              0.6666666666666666,
              "#35b779"
             ],
             [
              0.7777777777777778,
              "#6ece58"
             ],
             [
              0.8888888888888888,
              "#b5de2b"
             ],
             [
              1,
              "#fde725"
             ]
            ],
            "type": "surface"
           }
          ],
          "table": [
           {
            "cells": {
             "fill": {
              "color": "rgb(237,237,237)"
             },
             "line": {
              "color": "white"
             }
            },
            "header": {
             "fill": {
              "color": "rgb(217,217,217)"
             },
             "line": {
              "color": "white"
             }
            },
            "type": "table"
           }
          ]
         },
         "layout": {
          "annotationdefaults": {
           "arrowhead": 0,
           "arrowwidth": 1
          },
          "autotypenumbers": "strict",
          "coloraxis": {
           "colorbar": {
            "outlinewidth": 1,
            "tickcolor": "rgb(36,36,36)",
            "ticks": "outside"
           }
          },
          "colorscale": {
           "diverging": [
            [
             0,
             "rgb(103,0,31)"
            ],
            [
             0.1,
             "rgb(178,24,43)"
            ],
            [
             0.2,
             "rgb(214,96,77)"
            ],
            [
             0.3,
             "rgb(244,165,130)"
            ],
            [
             0.4,
             "rgb(253,219,199)"
            ],
            [
             0.5,
             "rgb(247,247,247)"
            ],
            [
             0.6,
             "rgb(209,229,240)"
            ],
            [
             0.7,
             "rgb(146,197,222)"
            ],
            [
             0.8,
             "rgb(67,147,195)"
            ],
            [
             0.9,
             "rgb(33,102,172)"
            ],
            [
             1,
             "rgb(5,48,97)"
            ]
           ],
           "sequential": [
            [
             0,
             "#440154"
            ],
            [
             0.1111111111111111,
             "#482878"
            ],
            [
             0.2222222222222222,
             "#3e4989"
            ],
            [
             0.3333333333333333,
             "#31688e"
            ],
            [
             0.4444444444444444,
             "#26828e"
            ],
            [
             0.5555555555555556,
             "#1f9e89"
            ],
            [
             0.6666666666666666,
             "#35b779"
            ],
            [
             0.7777777777777778,
             "#6ece58"
            ],
            [
             0.8888888888888888,
             "#b5de2b"
            ],
            [
             1,
             "#fde725"
            ]
           ],
           "sequentialminus": [
            [
             0,
             "#440154"
            ],
            [
             0.1111111111111111,
             "#482878"
            ],
            [
             0.2222222222222222,
             "#3e4989"
            ],
            [
             0.3333333333333333,
             "#31688e"
            ],
            [
             0.4444444444444444,
             "#26828e"
            ],
            [
             0.5555555555555556,
             "#1f9e89"
            ],
            [
             0.6666666666666666,
             "#35b779"
            ],
            [
             0.7777777777777778,
             "#6ece58"
            ],
            [
             0.8888888888888888,
             "#b5de2b"
            ],
            [
             1,
             "#fde725"
            ]
           ]
          },
          "colorway": [
           "#1F77B4",
           "#FF7F0E",
           "#2CA02C",
           "#D62728",
           "#9467BD",
           "#8C564B",
           "#E377C2",
           "#7F7F7F",
           "#BCBD22",
           "#17BECF"
          ],
          "font": {
           "color": "rgb(36,36,36)"
          },
          "geo": {
           "bgcolor": "white",
           "lakecolor": "white",
           "landcolor": "white",
           "showlakes": true,
           "showland": true,
           "subunitcolor": "white"
          },
          "hoverlabel": {
           "align": "left"
          },
          "hovermode": "closest",
          "mapbox": {
           "style": "light"
          },
          "paper_bgcolor": "white",
          "plot_bgcolor": "white",
          "polar": {
           "angularaxis": {
            "gridcolor": "rgb(232,232,232)",
            "linecolor": "rgb(36,36,36)",
            "showgrid": false,
            "showline": true,
            "ticks": "outside"
           },
           "bgcolor": "white",
           "radialaxis": {
            "gridcolor": "rgb(232,232,232)",
            "linecolor": "rgb(36,36,36)",
            "showgrid": false,
            "showline": true,
            "ticks": "outside"
           }
          },
          "scene": {
           "xaxis": {
            "backgroundcolor": "white",
            "gridcolor": "rgb(232,232,232)",
            "gridwidth": 2,
            "linecolor": "rgb(36,36,36)",
            "showbackground": true,
            "showgrid": false,
            "showline": true,
            "ticks": "outside",
            "zeroline": false,
            "zerolinecolor": "rgb(36,36,36)"
           },
           "yaxis": {
            "backgroundcolor": "white",
            "gridcolor": "rgb(232,232,232)",
            "gridwidth": 2,
            "linecolor": "rgb(36,36,36)",
            "showbackground": true,
            "showgrid": false,
            "showline": true,
            "ticks": "outside",
            "zeroline": false,
            "zerolinecolor": "rgb(36,36,36)"
           },
           "zaxis": {
            "backgroundcolor": "white",
            "gridcolor": "rgb(232,232,232)",
            "gridwidth": 2,
            "linecolor": "rgb(36,36,36)",
            "showbackground": true,
            "showgrid": false,
            "showline": true,
            "ticks": "outside",
            "zeroline": false,
            "zerolinecolor": "rgb(36,36,36)"
           }
          },
          "shapedefaults": {
           "fillcolor": "black",
           "line": {
            "width": 0
           },
           "opacity": 0.3
          },
          "ternary": {
           "aaxis": {
            "gridcolor": "rgb(232,232,232)",
            "linecolor": "rgb(36,36,36)",
            "showgrid": false,
            "showline": true,
            "ticks": "outside"
           },
           "baxis": {
            "gridcolor": "rgb(232,232,232)",
            "linecolor": "rgb(36,36,36)",
            "showgrid": false,
            "showline": true,
            "ticks": "outside"
           },
           "bgcolor": "white",
           "caxis": {
            "gridcolor": "rgb(232,232,232)",
            "linecolor": "rgb(36,36,36)",
            "showgrid": false,
            "showline": true,
            "ticks": "outside"
           }
          },
          "title": {
           "x": 0.05
          },
          "xaxis": {
           "automargin": true,
           "gridcolor": "rgb(232,232,232)",
           "linecolor": "rgb(36,36,36)",
           "showgrid": false,
           "showline": true,
           "ticks": "outside",
           "title": {
            "standoff": 15
           },
           "zeroline": false,
           "zerolinecolor": "rgb(36,36,36)"
          },
          "yaxis": {
           "automargin": true,
           "gridcolor": "rgb(232,232,232)",
           "linecolor": "rgb(36,36,36)",
           "showgrid": false,
           "showline": true,
           "ticks": "outside",
           "title": {
            "standoff": 15
           },
           "zeroline": false,
           "zerolinecolor": "rgb(36,36,36)"
          }
         }
        },
        "title": {
         "text": "Total Sales by Product and Store (With Sales)"
        },
        "width": 1000,
        "xaxis": {
         "title": {
          "text": "Product Name"
         }
        },
        "yaxis": {
         "title": {
          "text": "Store Name"
         }
        }
       }
      }
     },
     "metadata": {},
     "output_type": "display_data"
    }
   ],
   "source": [
    "product_store_sales = (\n",
    "    all_product_data[all_product_data[\"has_sales\"] == True]\n",
    "    .groupby([\"product_name_chinese_name\", \"Store Name\"])[\"Total Sales\"]\n",
    "    .sum()\n",
    "    .reset_index()\n",
    ")\n",
    "\n",
    "fig = plot_heatmap_plotly(\n",
    "    data=product_store_sales,\n",
    "    x=\"product_name_chinese_name\",\n",
    "    y=\"Store Name\",\n",
    "    z=\"Total Sales\",\n",
    "    title=\"Total Sales by Product and Store (With Sales)\",\n",
    "    x_label=\"Product Name\",\n",
    "    y_label=\"Store Name\",\n",
    ")\n",
    "\n",
    "fig.show()"
   ]
  },
  {
   "cell_type": "code",
   "execution_count": null,
   "metadata": {},
   "outputs": [],
   "source": []
  }
 ],
 "metadata": {
  "kernelspec": {
   "display_name": "venv",
   "language": "python",
   "name": "python3"
  },
  "language_info": {
   "codemirror_mode": {
    "name": "ipython",
    "version": 3
   },
   "file_extension": ".py",
   "mimetype": "text/x-python",
   "name": "python",
   "nbconvert_exporter": "python",
   "pygments_lexer": "ipython3",
   "version": "3.12.0"
  }
 },
 "nbformat": 4,
 "nbformat_minor": 2
}
