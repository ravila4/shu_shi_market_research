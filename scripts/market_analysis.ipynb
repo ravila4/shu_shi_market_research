{
 "cells": [
  {
   "cell_type": "code",
   "execution_count": 1,
   "metadata": {},
   "outputs": [],
   "source": [
    "import glob\n",
    "import os\n",
    "from typing import Dict, List\n",
    "\n",
    "import matplotlib.pyplot as plt\n",
    "import numpy as np\n",
    "import pandas as pd\n",
    "import plotly.graph_objects as go\n",
    "import seaborn\n",
    "from IPython.display import Image\n",
    "from plotly.io import to_image\n",
    "from plotly.offline import plot\n",
    "from plotly.subplots import make_subplots"
   ]
  },
  {
   "cell_type": "code",
   "execution_count": 2,
   "metadata": {},
   "outputs": [],
   "source": [
    "config = {\n",
    "    \"data_folder\": \"../data/products/\",\n",
    "    \"output_folder\": \"../output/\",\n",
    "}"
   ]
  },
  {
   "cell_type": "code",
   "execution_count": 3,
   "metadata": {},
   "outputs": [],
   "source": [
    "def get_product_names():\n",
    "    \"\"\"Get the product names from the folders in the data folder.\"\"\"\n",
    "    folders = glob.glob(config[\"data_folder\"] + \"*/\")\n",
    "    product_names = [\n",
    "        (folder, \" \".join(folder.rstrip(\"/\").split(\"_\")[1:])) for folder in folders\n",
    "    ]\n",
    "    return product_names"
   ]
  },
  {
   "cell_type": "code",
   "execution_count": 4,
   "metadata": {},
   "outputs": [
    {
     "name": "stdout",
     "output_type": "stream",
     "text": [
      "[('../data/products/03_bead_bracelets_and_necklaces/', 'bead bracelets and necklaces'), ('../data/products/08_chinese_mid_autumn_gift_sets/', 'chinese mid autumn gift sets'), ('../data/products/12_chinese_pottery/', 'chinese pottery'), ('../data/products/07_chinese_incense/', 'chinese incense'), ('../data/products/13_chinese_magnets/', 'chinese magnets'), ('../data/products/04_paper_lanterns/', 'paper lanterns'), ('../data/products/06_chinese_bamboo_art/', 'chinese bamboo art'), ('../data/products/11_chinese_washi_tape/', 'chinese washi tape'), ('../data/products/10_chinese_art_stickers/', 'chinese art stickers'), ('../data/products/05_brushes_and_calligraphy_tools/', 'brushes and calligraphy tools'), ('../data/products/01_calligraphy_prints/', 'calligraphy prints'), ('../data/products/09_chinese_bookmarks/', 'chinese bookmarks'), ('../data/products/02_name_seals/', 'name seals')]\n"
     ]
    }
   ],
   "source": [
    "products = get_product_names()\n",
    "print(products)"
   ]
  },
  {
   "cell_type": "code",
   "execution_count": 5,
   "metadata": {},
   "outputs": [],
   "source": [
    "chinese_translations = {\n",
    "    \"bead bracelets and necklaces\": \"珠子手链和项链\",\n",
    "    \"chinese mid autumn gift sets\": \"中秋节礼品套装\",\n",
    "    \"chinese pottery\": \"中国陶器\",\n",
    "    \"chinese incense\": \"中国香\",\n",
    "    \"chinese magnets\": \"中国冰箱贴\",\n",
    "    \"paper lanterns\": \"纸灯笼\",\n",
    "    \"chinese bamboo art\": \"中国竹艺\",\n",
    "    \"chinese washi tape\": \"中国和纸胶带\",\n",
    "    \"chinese art stickers\": \"中国艺术贴纸\",\n",
    "    \"brushes and calligraphy tools\": \"笔和书法工具\",\n",
    "    \"calligraphy prints\": \"书法印刷品\",\n",
    "    \"chinese bookmarks\": \"中国书签\",\n",
    "    \"name seals\": \"印章\",\n",
    "}"
   ]
  },
  {
   "cell_type": "code",
   "execution_count": 6,
   "metadata": {},
   "outputs": [],
   "source": [
    "def get_search_term_from_file_name(file_name: str) -> str:\n",
    "    \"\"\"Get the search term from the file name.\"\"\"\n",
    "    return file_name.replace(\"_product_detail.csv\", \"\").replace(\"_\", \" \")\n",
    "\n",
    "\n",
    "def get_product_data(data_folder: str, product_name: str) -> pd.DataFrame:\n",
    "    \"\"\"Get the data for a product, loaded into a Polars DataFrame.\"\"\"\n",
    "    files = glob.glob(data_folder + \"/*.csv\")\n",
    "    dataframes = []\n",
    "    for file in files:\n",
    "        df = pd.read_csv(file)\n",
    "        # Add the search term and product name to the dataframe\n",
    "        df[\"search_term\"] = get_search_term_from_file_name(os.path.basename(file))\n",
    "        df[\"product_name\"] = product_name\n",
    "        df[\"Tags\"] = df[\"Tags\"].apply(lambda x: x.split(\",\"))\n",
    "        df['Price(\"$\")'] = df['Price(\"$\")'].astype(str)\n",
    "        df[\"price\"] = df['Price(\"$\")'].str.replace(\",\", \"\").astype(float)\n",
    "        df[\"has_sales\"] = df[\"Total Sales\"] > 0\n",
    "        df[\"product_name_chinese_name\"] = (\n",
    "            df[\"product_name\"]\n",
    "            + \" (\"\n",
    "            + df[\"product_name\"].map(chinese_translations)\n",
    "            + \")\"\n",
    "        )\n",
    "        dataframes.append(df)\n",
    "\n",
    "    # Concatenate the dataframes\n",
    "    joined_df = pd.concat(dataframes)\n",
    "    # Drop duplicates by URL\n",
    "    joined_df = joined_df.drop_duplicates(subset=[\"Product URL\"])\n",
    "    return joined_df\n",
    "\n",
    "\n",
    "def get_all_product_data(products: List[str]) -> pd.DataFrame:\n",
    "    \"\"\"Get all the product data for a list of products.\"\"\"\n",
    "    dataframes = []\n",
    "    for product in products:\n",
    "        dataframes.append(get_product_data(product[0], product[1]))\n",
    "    return pd.concat(dataframes)"
   ]
  },
  {
   "cell_type": "code",
   "execution_count": 7,
   "metadata": {},
   "outputs": [],
   "source": [
    "all_product_data = get_all_product_data(products)"
   ]
  },
  {
   "cell_type": "code",
   "execution_count": 8,
   "metadata": {},
   "outputs": [
    {
     "data": {
      "text/html": [
       "<div>\n",
       "<style scoped>\n",
       "    .dataframe tbody tr th:only-of-type {\n",
       "        vertical-align: middle;\n",
       "    }\n",
       "\n",
       "    .dataframe tbody tr th {\n",
       "        vertical-align: top;\n",
       "    }\n",
       "\n",
       "    .dataframe thead th {\n",
       "        text-align: right;\n",
       "    }\n",
       "</style>\n",
       "<table border=\"1\" class=\"dataframe\">\n",
       "  <thead>\n",
       "    <tr style=\"text-align: right;\">\n",
       "      <th></th>\n",
       "      <th>Title</th>\n",
       "      <th>Category</th>\n",
       "      <th>Price(\"$\")</th>\n",
       "      <th>7-day sales</th>\n",
       "      <th>Total Sales</th>\n",
       "      <th>Total Reviews</th>\n",
       "      <th>7-day Reviews</th>\n",
       "      <th>Total Favorites</th>\n",
       "      <th>7-day Favorites</th>\n",
       "      <th>Tags</th>\n",
       "      <th>...</th>\n",
       "      <th>Etsy Pick</th>\n",
       "      <th>Raving</th>\n",
       "      <th>Store Name</th>\n",
       "      <th>Product URL</th>\n",
       "      <th>Image URL</th>\n",
       "      <th>search_term</th>\n",
       "      <th>product_name</th>\n",
       "      <th>price</th>\n",
       "      <th>has_sales</th>\n",
       "      <th>product_name_chinese_name</th>\n",
       "    </tr>\n",
       "  </thead>\n",
       "  <tbody>\n",
       "    <tr>\n",
       "      <th>0</th>\n",
       "      <td>Jade Plate, Type A Genuine Jade, Customizable ...</td>\n",
       "      <td>Craft Supplies &amp; Tools</td>\n",
       "      <td>176.12</td>\n",
       "      <td>0</td>\n",
       "      <td>0</td>\n",
       "      <td>0</td>\n",
       "      <td>0</td>\n",
       "      <td>0</td>\n",
       "      <td>0</td>\n",
       "      <td>[Jade, Handmade, Traditional, Loose Stone, Loo...</td>\n",
       "      <td>...</td>\n",
       "      <td>False</td>\n",
       "      <td>False</td>\n",
       "      <td>GranskyJewellery</td>\n",
       "      <td>https://www.etsy.com/listing/1632492895/jade-p...</td>\n",
       "      <td>Upgrade Pro to Unlock</td>\n",
       "      <td>traditional stone bead jewelry</td>\n",
       "      <td>bead bracelets and necklaces</td>\n",
       "      <td>176.12</td>\n",
       "      <td>False</td>\n",
       "      <td>bead bracelets and necklaces (珠子手链和项链)</td>\n",
       "    </tr>\n",
       "    <tr>\n",
       "      <th>1</th>\n",
       "      <td>Green/Pink Bangle set, 22k Gold Plated, White ...</td>\n",
       "      <td>Jewelry &gt; Bracelets &gt; Bangles</td>\n",
       "      <td>59.0</td>\n",
       "      <td>0</td>\n",
       "      <td>7</td>\n",
       "      <td>0</td>\n",
       "      <td>0</td>\n",
       "      <td>16</td>\n",
       "      <td>0</td>\n",
       "      <td>[Bangles Set, Indian Bangles, Traditional Bang...</td>\n",
       "      <td>...</td>\n",
       "      <td>False</td>\n",
       "      <td>False</td>\n",
       "      <td>NemaliJewelry</td>\n",
       "      <td>https://www.etsy.com/listing/762738828/greenpi...</td>\n",
       "      <td>Upgrade Pro to Unlock</td>\n",
       "      <td>traditional stone bead jewelry</td>\n",
       "      <td>bead bracelets and necklaces</td>\n",
       "      <td>59.00</td>\n",
       "      <td>True</td>\n",
       "      <td>bead bracelets and necklaces (珠子手链和项链)</td>\n",
       "    </tr>\n",
       "    <tr>\n",
       "      <th>2</th>\n",
       "      <td>Catholic Rosary Beads. Semi Precious Turquoise...</td>\n",
       "      <td>Home &amp; Living &gt; Spirituality &amp; Religion &gt; Pray...</td>\n",
       "      <td>59.99</td>\n",
       "      <td>0</td>\n",
       "      <td>0</td>\n",
       "      <td>0</td>\n",
       "      <td>0</td>\n",
       "      <td>44</td>\n",
       "      <td>0</td>\n",
       "      <td>[Miraculous Mary, Womans Rosary, Catholic Gift...</td>\n",
       "      <td>...</td>\n",
       "      <td>False</td>\n",
       "      <td>False</td>\n",
       "      <td>RosariesByHeidi</td>\n",
       "      <td>https://www.etsy.com/listing/587645665/catholi...</td>\n",
       "      <td>Upgrade Pro to Unlock</td>\n",
       "      <td>traditional stone bead jewelry</td>\n",
       "      <td>bead bracelets and necklaces</td>\n",
       "      <td>59.99</td>\n",
       "      <td>False</td>\n",
       "      <td>bead bracelets and necklaces (珠子手链和项链)</td>\n",
       "    </tr>\n",
       "    <tr>\n",
       "      <th>3</th>\n",
       "      <td>Seed Bead Stitching - Creative Variations On T...</td>\n",
       "      <td>Craft Supplies &amp; Tools</td>\n",
       "      <td>8.75</td>\n",
       "      <td>0</td>\n",
       "      <td>5</td>\n",
       "      <td>0</td>\n",
       "      <td>0</td>\n",
       "      <td>4</td>\n",
       "      <td>0</td>\n",
       "      <td>[Beading Book, Beaded Necklace, Making Jewelry...</td>\n",
       "      <td>...</td>\n",
       "      <td>False</td>\n",
       "      <td>False</td>\n",
       "      <td>NeedANeedle</td>\n",
       "      <td>https://www.etsy.com/listing/1024845656/seed-b...</td>\n",
       "      <td>Upgrade Pro to Unlock</td>\n",
       "      <td>traditional stone bead jewelry</td>\n",
       "      <td>bead bracelets and necklaces</td>\n",
       "      <td>8.75</td>\n",
       "      <td>True</td>\n",
       "      <td>bead bracelets and necklaces (珠子手链和项链)</td>\n",
       "    </tr>\n",
       "    <tr>\n",
       "      <th>4</th>\n",
       "      <td>Jade Plate, Type A Genuine Jade, Customizable ...</td>\n",
       "      <td>Jewelry &gt; Necklaces &gt; Charm Necklaces</td>\n",
       "      <td>251.88</td>\n",
       "      <td>0</td>\n",
       "      <td>0</td>\n",
       "      <td>0</td>\n",
       "      <td>0</td>\n",
       "      <td>3</td>\n",
       "      <td>0</td>\n",
       "      <td>[Jade, Handmade, Traditional, Gemstones, Loose...</td>\n",
       "      <td>...</td>\n",
       "      <td>False</td>\n",
       "      <td>False</td>\n",
       "      <td>GranskyJewellery</td>\n",
       "      <td>https://www.etsy.com/listing/1475770717/jade-p...</td>\n",
       "      <td>Upgrade Pro to Unlock</td>\n",
       "      <td>traditional stone bead jewelry</td>\n",
       "      <td>bead bracelets and necklaces</td>\n",
       "      <td>251.88</td>\n",
       "      <td>False</td>\n",
       "      <td>bead bracelets and necklaces (珠子手链和项链)</td>\n",
       "    </tr>\n",
       "    <tr>\n",
       "      <th>...</th>\n",
       "      <td>...</td>\n",
       "      <td>...</td>\n",
       "      <td>...</td>\n",
       "      <td>...</td>\n",
       "      <td>...</td>\n",
       "      <td>...</td>\n",
       "      <td>...</td>\n",
       "      <td>...</td>\n",
       "      <td>...</td>\n",
       "      <td>...</td>\n",
       "      <td>...</td>\n",
       "      <td>...</td>\n",
       "      <td>...</td>\n",
       "      <td>...</td>\n",
       "      <td>...</td>\n",
       "      <td>...</td>\n",
       "      <td>...</td>\n",
       "      <td>...</td>\n",
       "      <td>...</td>\n",
       "      <td>...</td>\n",
       "      <td>...</td>\n",
       "    </tr>\n",
       "    <tr>\n",
       "      <th>93</th>\n",
       "      <td>Vintage Boxed Pair of Chinese Stone Chop Seals...</td>\n",
       "      <td>Home &amp; Living &gt; Home Decor &gt; Ornaments &amp; Accen...</td>\n",
       "      <td>63.27</td>\n",
       "      <td>0</td>\n",
       "      <td>3</td>\n",
       "      <td>0</td>\n",
       "      <td>0</td>\n",
       "      <td>12</td>\n",
       "      <td>0</td>\n",
       "      <td>[False]</td>\n",
       "      <td>...</td>\n",
       "      <td>False</td>\n",
       "      <td>False</td>\n",
       "      <td>VintageVarietyStudio</td>\n",
       "      <td>https://www.etsy.com/listing/1292904295/vintag...</td>\n",
       "      <td>Upgrade Pro to Unlock</td>\n",
       "      <td>chinese calligraphy seals</td>\n",
       "      <td>name seals</td>\n",
       "      <td>63.27</td>\n",
       "      <td>True</td>\n",
       "      <td>name seals (印章)</td>\n",
       "    </tr>\n",
       "    <tr>\n",
       "      <th>94</th>\n",
       "      <td>Craft Chinese Chop Cinnabar Stamp Ink Pad</td>\n",
       "      <td>Craft Supplies &amp; Tools</td>\n",
       "      <td>9.0</td>\n",
       "      <td>0</td>\n",
       "      <td>0</td>\n",
       "      <td>0</td>\n",
       "      <td>0</td>\n",
       "      <td>0</td>\n",
       "      <td>0</td>\n",
       "      <td>[Craft Supplies &amp; Tools, Stamps &amp; Seals, Stamp...</td>\n",
       "      <td>...</td>\n",
       "      <td>False</td>\n",
       "      <td>False</td>\n",
       "      <td>WorldofBacara</td>\n",
       "      <td>https://www.etsy.com/listing/1533034599/craft-...</td>\n",
       "      <td>Upgrade Pro to Unlock</td>\n",
       "      <td>chinese calligraphy seals</td>\n",
       "      <td>name seals</td>\n",
       "      <td>9.00</td>\n",
       "      <td>False</td>\n",
       "      <td>name seals (印章)</td>\n",
       "    </tr>\n",
       "    <tr>\n",
       "      <th>43</th>\n",
       "      <td>Personalized Korean Name Stamp Dojang Customiz...</td>\n",
       "      <td>Craft Supplies &amp; Tools</td>\n",
       "      <td>45.99</td>\n",
       "      <td>0</td>\n",
       "      <td>16</td>\n",
       "      <td>0</td>\n",
       "      <td>0</td>\n",
       "      <td>65</td>\n",
       "      <td>0</td>\n",
       "      <td>[Square, Korean Name Stamp, Dojang, Korean Sta...</td>\n",
       "      <td>...</td>\n",
       "      <td>False</td>\n",
       "      <td>False</td>\n",
       "      <td>SemliCalligraphy</td>\n",
       "      <td>https://www.etsy.com/listing/703128950/persona...</td>\n",
       "      <td>Upgrade Pro to Unlock</td>\n",
       "      <td>chinese name stamps</td>\n",
       "      <td>name seals</td>\n",
       "      <td>45.99</td>\n",
       "      <td>True</td>\n",
       "      <td>name seals (印章)</td>\n",
       "    </tr>\n",
       "    <tr>\n",
       "      <th>215</th>\n",
       "      <td>Customized Chinese name stone seal (Oval)/ Chi...</td>\n",
       "      <td>Craft Supplies &amp; Tools</td>\n",
       "      <td>53.21</td>\n",
       "      <td>0</td>\n",
       "      <td>0</td>\n",
       "      <td>4</td>\n",
       "      <td>0</td>\n",
       "      <td>94</td>\n",
       "      <td>0</td>\n",
       "      <td>[Stone Seal, Seal, Stamps, Chinese, Oriental, ...</td>\n",
       "      <td>...</td>\n",
       "      <td>False</td>\n",
       "      <td>False</td>\n",
       "      <td>Baisimu</td>\n",
       "      <td>https://www.etsy.com/listing/603844244/customi...</td>\n",
       "      <td>Upgrade Pro to Unlock</td>\n",
       "      <td>chinese name stamps</td>\n",
       "      <td>name seals</td>\n",
       "      <td>53.21</td>\n",
       "      <td>False</td>\n",
       "      <td>name seals (印章)</td>\n",
       "    </tr>\n",
       "    <tr>\n",
       "      <th>227</th>\n",
       "      <td>Personal Name Seal / Seal Carving / Stone Seal...</td>\n",
       "      <td>Art &amp; Collectibles</td>\n",
       "      <td>25.95</td>\n",
       "      <td>0</td>\n",
       "      <td>0</td>\n",
       "      <td>25</td>\n",
       "      <td>0</td>\n",
       "      <td>408</td>\n",
       "      <td>0</td>\n",
       "      <td>[Chinese Seal, Personal Seal, Name Seal, Seal ...</td>\n",
       "      <td>...</td>\n",
       "      <td>False</td>\n",
       "      <td>False</td>\n",
       "      <td>CalligraphyforGod</td>\n",
       "      <td>https://www.etsy.com/listing/623856696/persona...</td>\n",
       "      <td>Upgrade Pro to Unlock</td>\n",
       "      <td>chinese name stamps</td>\n",
       "      <td>name seals</td>\n",
       "      <td>25.95</td>\n",
       "      <td>False</td>\n",
       "      <td>name seals (印章)</td>\n",
       "    </tr>\n",
       "  </tbody>\n",
       "</table>\n",
       "<p>3647 rows × 23 columns</p>\n",
       "</div>"
      ],
      "text/plain": [
       "                                                 Title  \\\n",
       "0    Jade Plate, Type A Genuine Jade, Customizable ...   \n",
       "1    Green/Pink Bangle set, 22k Gold Plated, White ...   \n",
       "2    Catholic Rosary Beads. Semi Precious Turquoise...   \n",
       "3    Seed Bead Stitching - Creative Variations On T...   \n",
       "4    Jade Plate, Type A Genuine Jade, Customizable ...   \n",
       "..                                                 ...   \n",
       "93   Vintage Boxed Pair of Chinese Stone Chop Seals...   \n",
       "94          Craft Chinese Chop Cinnabar Stamp Ink Pad    \n",
       "43   Personalized Korean Name Stamp Dojang Customiz...   \n",
       "215  Customized Chinese name stone seal (Oval)/ Chi...   \n",
       "227  Personal Name Seal / Seal Carving / Stone Seal...   \n",
       "\n",
       "                                              Category Price(\"$\")  \\\n",
       "0                               Craft Supplies & Tools     176.12   \n",
       "1                        Jewelry > Bracelets > Bangles       59.0   \n",
       "2    Home & Living > Spirituality & Religion > Pray...      59.99   \n",
       "3                               Craft Supplies & Tools       8.75   \n",
       "4                Jewelry > Necklaces > Charm Necklaces     251.88   \n",
       "..                                                 ...        ...   \n",
       "93   Home & Living > Home Decor > Ornaments & Accen...      63.27   \n",
       "94                              Craft Supplies & Tools        9.0   \n",
       "43                              Craft Supplies & Tools      45.99   \n",
       "215                             Craft Supplies & Tools      53.21   \n",
       "227                                 Art & Collectibles      25.95   \n",
       "\n",
       "     7-day sales  Total Sales  Total Reviews  7-day Reviews  Total Favorites  \\\n",
       "0              0            0              0              0                0   \n",
       "1              0            7              0              0               16   \n",
       "2              0            0              0              0               44   \n",
       "3              0            5              0              0                4   \n",
       "4              0            0              0              0                3   \n",
       "..           ...          ...            ...            ...              ...   \n",
       "93             0            3              0              0               12   \n",
       "94             0            0              0              0                0   \n",
       "43             0           16              0              0               65   \n",
       "215            0            0              4              0               94   \n",
       "227            0            0             25              0              408   \n",
       "\n",
       "     7-day Favorites                                               Tags  ...  \\\n",
       "0                  0  [Jade, Handmade, Traditional, Loose Stone, Loo...  ...   \n",
       "1                  0  [Bangles Set, Indian Bangles, Traditional Bang...  ...   \n",
       "2                  0  [Miraculous Mary, Womans Rosary, Catholic Gift...  ...   \n",
       "3                  0  [Beading Book, Beaded Necklace, Making Jewelry...  ...   \n",
       "4                  0  [Jade, Handmade, Traditional, Gemstones, Loose...  ...   \n",
       "..               ...                                                ...  ...   \n",
       "93                 0                                            [False]  ...   \n",
       "94                 0  [Craft Supplies & Tools, Stamps & Seals, Stamp...  ...   \n",
       "43                 0  [Square, Korean Name Stamp, Dojang, Korean Sta...  ...   \n",
       "215                0  [Stone Seal, Seal, Stamps, Chinese, Oriental, ...  ...   \n",
       "227                0  [Chinese Seal, Personal Seal, Name Seal, Seal ...  ...   \n",
       "\n",
       "    Etsy Pick Raving            Store Name  \\\n",
       "0       False  False      GranskyJewellery   \n",
       "1       False  False         NemaliJewelry   \n",
       "2       False  False       RosariesByHeidi   \n",
       "3       False  False           NeedANeedle   \n",
       "4       False  False      GranskyJewellery   \n",
       "..        ...    ...                   ...   \n",
       "93      False  False  VintageVarietyStudio   \n",
       "94      False  False         WorldofBacara   \n",
       "43      False  False      SemliCalligraphy   \n",
       "215     False  False               Baisimu   \n",
       "227     False  False     CalligraphyforGod   \n",
       "\n",
       "                                           Product URL              Image URL  \\\n",
       "0    https://www.etsy.com/listing/1632492895/jade-p...  Upgrade Pro to Unlock   \n",
       "1    https://www.etsy.com/listing/762738828/greenpi...  Upgrade Pro to Unlock   \n",
       "2    https://www.etsy.com/listing/587645665/catholi...  Upgrade Pro to Unlock   \n",
       "3    https://www.etsy.com/listing/1024845656/seed-b...  Upgrade Pro to Unlock   \n",
       "4    https://www.etsy.com/listing/1475770717/jade-p...  Upgrade Pro to Unlock   \n",
       "..                                                 ...                    ...   \n",
       "93   https://www.etsy.com/listing/1292904295/vintag...  Upgrade Pro to Unlock   \n",
       "94   https://www.etsy.com/listing/1533034599/craft-...  Upgrade Pro to Unlock   \n",
       "43   https://www.etsy.com/listing/703128950/persona...  Upgrade Pro to Unlock   \n",
       "215  https://www.etsy.com/listing/603844244/customi...  Upgrade Pro to Unlock   \n",
       "227  https://www.etsy.com/listing/623856696/persona...  Upgrade Pro to Unlock   \n",
       "\n",
       "                        search_term                  product_name   price  \\\n",
       "0    traditional stone bead jewelry  bead bracelets and necklaces  176.12   \n",
       "1    traditional stone bead jewelry  bead bracelets and necklaces   59.00   \n",
       "2    traditional stone bead jewelry  bead bracelets and necklaces   59.99   \n",
       "3    traditional stone bead jewelry  bead bracelets and necklaces    8.75   \n",
       "4    traditional stone bead jewelry  bead bracelets and necklaces  251.88   \n",
       "..                              ...                           ...     ...   \n",
       "93        chinese calligraphy seals                    name seals   63.27   \n",
       "94        chinese calligraphy seals                    name seals    9.00   \n",
       "43              chinese name stamps                    name seals   45.99   \n",
       "215             chinese name stamps                    name seals   53.21   \n",
       "227             chinese name stamps                    name seals   25.95   \n",
       "\n",
       "    has_sales               product_name_chinese_name  \n",
       "0       False  bead bracelets and necklaces (珠子手链和项链)  \n",
       "1        True  bead bracelets and necklaces (珠子手链和项链)  \n",
       "2       False  bead bracelets and necklaces (珠子手链和项链)  \n",
       "3        True  bead bracelets and necklaces (珠子手链和项链)  \n",
       "4       False  bead bracelets and necklaces (珠子手链和项链)  \n",
       "..        ...                                     ...  \n",
       "93       True                         name seals (印章)  \n",
       "94      False                         name seals (印章)  \n",
       "43       True                         name seals (印章)  \n",
       "215     False                         name seals (印章)  \n",
       "227     False                         name seals (印章)  \n",
       "\n",
       "[3647 rows x 23 columns]"
      ]
     },
     "execution_count": 8,
     "metadata": {},
     "output_type": "execute_result"
    }
   ],
   "source": [
    "all_product_data"
   ]
  },
  {
   "cell_type": "code",
   "execution_count": 9,
   "metadata": {},
   "outputs": [],
   "source": [
    "# Output the data to a CSV file\n",
    "all_product_data.to_csv(config[\"output_folder\"] + \"all_product_data.csv\", index=False)"
   ]
  },
  {
   "cell_type": "code",
   "execution_count": 10,
   "metadata": {},
   "outputs": [],
   "source": [
    "def to_html(fig, file_name: str):\n",
    "    \"\"\"Save a Plotly figure to an HTML file.\"\"\"\n",
    "    plot(fig, filename=file_name)\n",
    "\n",
    "\n",
    "def format_col_for_title(col: str) -> str:\n",
    "    \"\"\"Format a column name for a title.\"\"\"\n",
    "    return \" \".join(col.split(\"_\")).title()\n",
    "\n",
    "\n",
    "def plot_violin_plotly(data, x, y, remove_outliers=False):\n",
    "    if remove_outliers:\n",
    "        # Calculate the 1st and 3rd quartiles\n",
    "        q1 = data[x].quantile(0.25)\n",
    "        q3 = data[x].quantile(0.75)\n",
    "\n",
    "        # Calculate the interquartile range (IQR)\n",
    "        iqr = q3 - q1\n",
    "\n",
    "        # Define the lower and upper bounds for outliers\n",
    "        lower_bound = q1 - 1.5 * iqr\n",
    "        upper_bound = q3 + 1.5 * iqr\n",
    "\n",
    "        # Filter the data to remove outliers\n",
    "        data = data[(data[x] >= lower_bound) & (data[x] <= upper_bound)]\n",
    "\n",
    "    fig = go.Figure(\n",
    "        data=go.Violin(\n",
    "            x=data[x],\n",
    "            y=data[y],\n",
    "            orientation=\"h\",\n",
    "            box_visible=True,\n",
    "            meanline_visible=True,\n",
    "            points=None,\n",
    "            spanmode=\"hard\",\n",
    "        )\n",
    "    )\n",
    "\n",
    "    x_label = format_col_for_title(x)\n",
    "    y_label = format_col_for_title(y)\n",
    "\n",
    "    fig.update_layout(\n",
    "        title=f\"Violin Plot of {x_label} by {y_label}\",\n",
    "        xaxis_title=x_label,\n",
    "        yaxis_title=y_label,\n",
    "        template=\"simple_white\",\n",
    "    )\n",
    "\n",
    "    return fig\n",
    "\n",
    "\n",
    "def plot_bar_chart_plotly(\n",
    "    data, x, y, sorted=True, title=None, x_label=None, y_label=None\n",
    "):\n",
    "    if sorted:\n",
    "        data = data.sort_values(by=y, ascending=False)\n",
    "    fig = go.Figure(\n",
    "        go.Bar(\n",
    "            x=data[x],\n",
    "            y=data[y],\n",
    "            name=format_col_for_title(y),\n",
    "            text=data[y],\n",
    "            textposition=\"auto\",\n",
    "        )\n",
    "    )\n",
    "    fig.update_layout(\n",
    "        title=f\"Bar Chart of {format_col_for_title(y)} by {format_col_for_title(x)}\",\n",
    "        xaxis_title=format_col_for_title(x) if x_label is None else x_label,\n",
    "        yaxis_title=format_col_for_title(y) if y_label is None else y_label,\n",
    "        template=\"simple_white\",\n",
    "    )\n",
    "    if title:\n",
    "        fig.update_layout(title=title)\n",
    "\n",
    "    fig.update_traces(texttemplate=\"%{text:.2f}\")\n",
    "    return fig"
   ]
  },
  {
   "cell_type": "code",
   "execution_count": 11,
   "metadata": {},
   "outputs": [
    {
     "data": {
      "application/vnd.plotly.v1+json": {
       "config": {
        "plotlyServerURL": "https://plot.ly"
       },
       "data": [
        {
         "name": "Price",
         "text": [
          52.25,
          38,
          31.99,
          31.82,
          29.75,
          27.47,
          21.52,
          21.29,
          21.25,
          15.235,
          11,
          4.72,
          4.5
         ],
         "textposition": "auto",
         "texttemplate": "%{text:.2f}",
         "type": "bar",
         "x": [
          "chinese pottery (中国陶器)",
          "bead bracelets and necklaces (珠子手链和项链)",
          "name seals (印章)",
          "calligraphy prints (书法印刷品)",
          "chinese incense (中国香)",
          "brushes and calligraphy tools (笔和书法工具)",
          "chinese mid autumn gift sets (中秋节礼品套装)",
          "paper lanterns (纸灯笼)",
          "chinese bamboo art (中国竹艺)",
          "chinese bookmarks (中国书签)",
          "chinese magnets (中国冰箱贴)",
          "chinese art stickers (中国艺术贴纸)",
          "chinese washi tape (中国和纸胶带)"
         ],
         "y": [
          52.25,
          38,
          31.99,
          31.82,
          29.75,
          27.47,
          21.52,
          21.29,
          21.25,
          15.235,
          11,
          4.72,
          4.5
         ]
        }
       ],
       "layout": {
        "template": {
         "data": {
          "bar": [
           {
            "error_x": {
             "color": "rgb(36,36,36)"
            },
            "error_y": {
             "color": "rgb(36,36,36)"
            },
            "marker": {
             "line": {
              "color": "white",
              "width": 0.5
             },
             "pattern": {
              "fillmode": "overlay",
              "size": 10,
              "solidity": 0.2
             }
            },
            "type": "bar"
           }
          ],
          "barpolar": [
           {
            "marker": {
             "line": {
              "color": "white",
              "width": 0.5
             },
             "pattern": {
              "fillmode": "overlay",
              "size": 10,
              "solidity": 0.2
             }
            },
            "type": "barpolar"
           }
          ],
          "carpet": [
           {
            "aaxis": {
             "endlinecolor": "rgb(36,36,36)",
             "gridcolor": "white",
             "linecolor": "white",
             "minorgridcolor": "white",
             "startlinecolor": "rgb(36,36,36)"
            },
            "baxis": {
             "endlinecolor": "rgb(36,36,36)",
             "gridcolor": "white",
             "linecolor": "white",
             "minorgridcolor": "white",
             "startlinecolor": "rgb(36,36,36)"
            },
            "type": "carpet"
           }
          ],
          "choropleth": [
           {
            "colorbar": {
             "outlinewidth": 1,
             "tickcolor": "rgb(36,36,36)",
             "ticks": "outside"
            },
            "type": "choropleth"
           }
          ],
          "contour": [
           {
            "colorbar": {
             "outlinewidth": 1,
             "tickcolor": "rgb(36,36,36)",
             "ticks": "outside"
            },
            "colorscale": [
             [
              0,
              "#440154"
             ],
             [
              0.1111111111111111,
              "#482878"
             ],
             [
              0.2222222222222222,
              "#3e4989"
             ],
             [
              0.3333333333333333,
              "#31688e"
             ],
             [
              0.4444444444444444,
              "#26828e"
             ],
             [
              0.5555555555555556,
              "#1f9e89"
             ],
             [
              0.6666666666666666,
              "#35b779"
             ],
             [
              0.7777777777777778,
              "#6ece58"
             ],
             [
              0.8888888888888888,
              "#b5de2b"
             ],
             [
              1,
              "#fde725"
             ]
            ],
            "type": "contour"
           }
          ],
          "contourcarpet": [
           {
            "colorbar": {
             "outlinewidth": 1,
             "tickcolor": "rgb(36,36,36)",
             "ticks": "outside"
            },
            "type": "contourcarpet"
           }
          ],
          "heatmap": [
           {
            "colorbar": {
             "outlinewidth": 1,
             "tickcolor": "rgb(36,36,36)",
             "ticks": "outside"
            },
            "colorscale": [
             [
              0,
              "#440154"
             ],
             [
              0.1111111111111111,
              "#482878"
             ],
             [
              0.2222222222222222,
              "#3e4989"
             ],
             [
              0.3333333333333333,
              "#31688e"
             ],
             [
              0.4444444444444444,
              "#26828e"
             ],
             [
              0.5555555555555556,
              "#1f9e89"
             ],
             [
              0.6666666666666666,
              "#35b779"
             ],
             [
              0.7777777777777778,
              "#6ece58"
             ],
             [
              0.8888888888888888,
              "#b5de2b"
             ],
             [
              1,
              "#fde725"
             ]
            ],
            "type": "heatmap"
           }
          ],
          "heatmapgl": [
           {
            "colorbar": {
             "outlinewidth": 1,
             "tickcolor": "rgb(36,36,36)",
             "ticks": "outside"
            },
            "colorscale": [
             [
              0,
              "#440154"
             ],
             [
              0.1111111111111111,
              "#482878"
             ],
             [
              0.2222222222222222,
              "#3e4989"
             ],
             [
              0.3333333333333333,
              "#31688e"
             ],
             [
              0.4444444444444444,
              "#26828e"
             ],
             [
              0.5555555555555556,
              "#1f9e89"
             ],
             [
              0.6666666666666666,
              "#35b779"
             ],
             [
              0.7777777777777778,
              "#6ece58"
             ],
             [
              0.8888888888888888,
              "#b5de2b"
             ],
             [
              1,
              "#fde725"
             ]
            ],
            "type": "heatmapgl"
           }
          ],
          "histogram": [
           {
            "marker": {
             "line": {
              "color": "white",
              "width": 0.6
             }
            },
            "type": "histogram"
           }
          ],
          "histogram2d": [
           {
            "colorbar": {
             "outlinewidth": 1,
             "tickcolor": "rgb(36,36,36)",
             "ticks": "outside"
            },
            "colorscale": [
             [
              0,
              "#440154"
             ],
             [
              0.1111111111111111,
              "#482878"
             ],
             [
              0.2222222222222222,
              "#3e4989"
             ],
             [
              0.3333333333333333,
              "#31688e"
             ],
             [
              0.4444444444444444,
              "#26828e"
             ],
             [
              0.5555555555555556,
              "#1f9e89"
             ],
             [
              0.6666666666666666,
              "#35b779"
             ],
             [
              0.7777777777777778,
              "#6ece58"
             ],
             [
              0.8888888888888888,
              "#b5de2b"
             ],
             [
              1,
              "#fde725"
             ]
            ],
            "type": "histogram2d"
           }
          ],
          "histogram2dcontour": [
           {
            "colorbar": {
             "outlinewidth": 1,
             "tickcolor": "rgb(36,36,36)",
             "ticks": "outside"
            },
            "colorscale": [
             [
              0,
              "#440154"
             ],
             [
              0.1111111111111111,
              "#482878"
             ],
             [
              0.2222222222222222,
              "#3e4989"
             ],
             [
              0.3333333333333333,
              "#31688e"
             ],
             [
              0.4444444444444444,
              "#26828e"
             ],
             [
              0.5555555555555556,
              "#1f9e89"
             ],
             [
              0.6666666666666666,
              "#35b779"
             ],
             [
              0.7777777777777778,
              "#6ece58"
             ],
             [
              0.8888888888888888,
              "#b5de2b"
             ],
             [
              1,
              "#fde725"
             ]
            ],
            "type": "histogram2dcontour"
           }
          ],
          "mesh3d": [
           {
            "colorbar": {
             "outlinewidth": 1,
             "tickcolor": "rgb(36,36,36)",
             "ticks": "outside"
            },
            "type": "mesh3d"
           }
          ],
          "parcoords": [
           {
            "line": {
             "colorbar": {
              "outlinewidth": 1,
              "tickcolor": "rgb(36,36,36)",
              "ticks": "outside"
             }
            },
            "type": "parcoords"
           }
          ],
          "pie": [
           {
            "automargin": true,
            "type": "pie"
           }
          ],
          "scatter": [
           {
            "fillpattern": {
             "fillmode": "overlay",
             "size": 10,
             "solidity": 0.2
            },
            "type": "scatter"
           }
          ],
          "scatter3d": [
           {
            "line": {
             "colorbar": {
              "outlinewidth": 1,
              "tickcolor": "rgb(36,36,36)",
              "ticks": "outside"
             }
            },
            "marker": {
             "colorbar": {
              "outlinewidth": 1,
              "tickcolor": "rgb(36,36,36)",
              "ticks": "outside"
             }
            },
            "type": "scatter3d"
           }
          ],
          "scattercarpet": [
           {
            "marker": {
             "colorbar": {
              "outlinewidth": 1,
              "tickcolor": "rgb(36,36,36)",
              "ticks": "outside"
             }
            },
            "type": "scattercarpet"
           }
          ],
          "scattergeo": [
           {
            "marker": {
             "colorbar": {
              "outlinewidth": 1,
              "tickcolor": "rgb(36,36,36)",
              "ticks": "outside"
             }
            },
            "type": "scattergeo"
           }
          ],
          "scattergl": [
           {
            "marker": {
             "colorbar": {
              "outlinewidth": 1,
              "tickcolor": "rgb(36,36,36)",
              "ticks": "outside"
             }
            },
            "type": "scattergl"
           }
          ],
          "scattermapbox": [
           {
            "marker": {
             "colorbar": {
              "outlinewidth": 1,
              "tickcolor": "rgb(36,36,36)",
              "ticks": "outside"
             }
            },
            "type": "scattermapbox"
           }
          ],
          "scatterpolar": [
           {
            "marker": {
             "colorbar": {
              "outlinewidth": 1,
              "tickcolor": "rgb(36,36,36)",
              "ticks": "outside"
             }
            },
            "type": "scatterpolar"
           }
          ],
          "scatterpolargl": [
           {
            "marker": {
             "colorbar": {
              "outlinewidth": 1,
              "tickcolor": "rgb(36,36,36)",
              "ticks": "outside"
             }
            },
            "type": "scatterpolargl"
           }
          ],
          "scatterternary": [
           {
            "marker": {
             "colorbar": {
              "outlinewidth": 1,
              "tickcolor": "rgb(36,36,36)",
              "ticks": "outside"
             }
            },
            "type": "scatterternary"
           }
          ],
          "surface": [
           {
            "colorbar": {
             "outlinewidth": 1,
             "tickcolor": "rgb(36,36,36)",
             "ticks": "outside"
            },
            "colorscale": [
             [
              0,
              "#440154"
             ],
             [
              0.1111111111111111,
              "#482878"
             ],
             [
              0.2222222222222222,
              "#3e4989"
             ],
             [
              0.3333333333333333,
              "#31688e"
             ],
             [
              0.4444444444444444,
              "#26828e"
             ],
             [
              0.5555555555555556,
              "#1f9e89"
             ],
             [
              0.6666666666666666,
              "#35b779"
             ],
             [
              0.7777777777777778,
              "#6ece58"
             ],
             [
              0.8888888888888888,
              "#b5de2b"
             ],
             [
              1,
              "#fde725"
             ]
            ],
            "type": "surface"
           }
          ],
          "table": [
           {
            "cells": {
             "fill": {
              "color": "rgb(237,237,237)"
             },
             "line": {
              "color": "white"
             }
            },
            "header": {
             "fill": {
              "color": "rgb(217,217,217)"
             },
             "line": {
              "color": "white"
             }
            },
            "type": "table"
           }
          ]
         },
         "layout": {
          "annotationdefaults": {
           "arrowhead": 0,
           "arrowwidth": 1
          },
          "autotypenumbers": "strict",
          "coloraxis": {
           "colorbar": {
            "outlinewidth": 1,
            "tickcolor": "rgb(36,36,36)",
            "ticks": "outside"
           }
          },
          "colorscale": {
           "diverging": [
            [
             0,
             "rgb(103,0,31)"
            ],
            [
             0.1,
             "rgb(178,24,43)"
            ],
            [
             0.2,
             "rgb(214,96,77)"
            ],
            [
             0.3,
             "rgb(244,165,130)"
            ],
            [
             0.4,
             "rgb(253,219,199)"
            ],
            [
             0.5,
             "rgb(247,247,247)"
            ],
            [
             0.6,
             "rgb(209,229,240)"
            ],
            [
             0.7,
             "rgb(146,197,222)"
            ],
            [
             0.8,
             "rgb(67,147,195)"
            ],
            [
             0.9,
             "rgb(33,102,172)"
            ],
            [
             1,
             "rgb(5,48,97)"
            ]
           ],
           "sequential": [
            [
             0,
             "#440154"
            ],
            [
             0.1111111111111111,
             "#482878"
            ],
            [
             0.2222222222222222,
             "#3e4989"
            ],
            [
             0.3333333333333333,
             "#31688e"
            ],
            [
             0.4444444444444444,
             "#26828e"
            ],
            [
             0.5555555555555556,
             "#1f9e89"
            ],
            [
             0.6666666666666666,
             "#35b779"
            ],
            [
             0.7777777777777778,
             "#6ece58"
            ],
            [
             0.8888888888888888,
             "#b5de2b"
            ],
            [
             1,
             "#fde725"
            ]
           ],
           "sequentialminus": [
            [
             0,
             "#440154"
            ],
            [
             0.1111111111111111,
             "#482878"
            ],
            [
             0.2222222222222222,
             "#3e4989"
            ],
            [
             0.3333333333333333,
             "#31688e"
            ],
            [
             0.4444444444444444,
             "#26828e"
            ],
            [
             0.5555555555555556,
             "#1f9e89"
            ],
            [
             0.6666666666666666,
             "#35b779"
            ],
            [
             0.7777777777777778,
             "#6ece58"
            ],
            [
             0.8888888888888888,
             "#b5de2b"
            ],
            [
             1,
             "#fde725"
            ]
           ]
          },
          "colorway": [
           "#1F77B4",
           "#FF7F0E",
           "#2CA02C",
           "#D62728",
           "#9467BD",
           "#8C564B",
           "#E377C2",
           "#7F7F7F",
           "#BCBD22",
           "#17BECF"
          ],
          "font": {
           "color": "rgb(36,36,36)"
          },
          "geo": {
           "bgcolor": "white",
           "lakecolor": "white",
           "landcolor": "white",
           "showlakes": true,
           "showland": true,
           "subunitcolor": "white"
          },
          "hoverlabel": {
           "align": "left"
          },
          "hovermode": "closest",
          "mapbox": {
           "style": "light"
          },
          "paper_bgcolor": "white",
          "plot_bgcolor": "white",
          "polar": {
           "angularaxis": {
            "gridcolor": "rgb(232,232,232)",
            "linecolor": "rgb(36,36,36)",
            "showgrid": false,
            "showline": true,
            "ticks": "outside"
           },
           "bgcolor": "white",
           "radialaxis": {
            "gridcolor": "rgb(232,232,232)",
            "linecolor": "rgb(36,36,36)",
            "showgrid": false,
            "showline": true,
            "ticks": "outside"
           }
          },
          "scene": {
           "xaxis": {
            "backgroundcolor": "white",
            "gridcolor": "rgb(232,232,232)",
            "gridwidth": 2,
            "linecolor": "rgb(36,36,36)",
            "showbackground": true,
            "showgrid": false,
            "showline": true,
            "ticks": "outside",
            "zeroline": false,
            "zerolinecolor": "rgb(36,36,36)"
           },
           "yaxis": {
            "backgroundcolor": "white",
            "gridcolor": "rgb(232,232,232)",
            "gridwidth": 2,
            "linecolor": "rgb(36,36,36)",
            "showbackground": true,
            "showgrid": false,
            "showline": true,
            "ticks": "outside",
            "zeroline": false,
            "zerolinecolor": "rgb(36,36,36)"
           },
           "zaxis": {
            "backgroundcolor": "white",
            "gridcolor": "rgb(232,232,232)",
            "gridwidth": 2,
            "linecolor": "rgb(36,36,36)",
            "showbackground": true,
            "showgrid": false,
            "showline": true,
            "ticks": "outside",
            "zeroline": false,
            "zerolinecolor": "rgb(36,36,36)"
           }
          },
          "shapedefaults": {
           "fillcolor": "black",
           "line": {
            "width": 0
           },
           "opacity": 0.3
          },
          "ternary": {
           "aaxis": {
            "gridcolor": "rgb(232,232,232)",
            "linecolor": "rgb(36,36,36)",
            "showgrid": false,
            "showline": true,
            "ticks": "outside"
           },
           "baxis": {
            "gridcolor": "rgb(232,232,232)",
            "linecolor": "rgb(36,36,36)",
            "showgrid": false,
            "showline": true,
            "ticks": "outside"
           },
           "bgcolor": "white",
           "caxis": {
            "gridcolor": "rgb(232,232,232)",
            "linecolor": "rgb(36,36,36)",
            "showgrid": false,
            "showline": true,
            "ticks": "outside"
           }
          },
          "title": {
           "x": 0.05
          },
          "xaxis": {
           "automargin": true,
           "gridcolor": "rgb(232,232,232)",
           "linecolor": "rgb(36,36,36)",
           "showgrid": false,
           "showline": true,
           "ticks": "outside",
           "title": {
            "standoff": 15
           },
           "zeroline": false,
           "zerolinecolor": "rgb(36,36,36)"
          },
          "yaxis": {
           "automargin": true,
           "gridcolor": "rgb(232,232,232)",
           "linecolor": "rgb(36,36,36)",
           "showgrid": false,
           "showline": true,
           "ticks": "outside",
           "title": {
            "standoff": 15
           },
           "zeroline": false,
           "zerolinecolor": "rgb(36,36,36)"
          }
         }
        },
        "title": {
         "text": "Median Price by Product （产品价格中位数）"
        },
        "xaxis": {
         "title": {
          "text": "Product Name"
         }
        },
        "yaxis": {
         "title": {
          "text": "Median Price ($)"
         }
        }
       }
      }
     },
     "metadata": {},
     "output_type": "display_data"
    }
   ],
   "source": [
    "# Median price by product\n",
    "fig = plot_bar_chart_plotly(\n",
    "    all_product_data.groupby(\"product_name_chinese_name\")\n",
    "    .agg({\"price\": \"median\"})\n",
    "    .reset_index(),\n",
    "    x=\"product_name_chinese_name\",\n",
    "    y=\"price\",\n",
    "    title=\"Median Price by Product （产品价格中位数）\",\n",
    "    x_label=\"Product Name\",\n",
    "    y_label=\"Median Price ($)\",\n",
    ")\n",
    "\n",
    "fig.show()"
   ]
  },
  {
   "cell_type": "code",
   "execution_count": 12,
   "metadata": {},
   "outputs": [
    {
     "data": {
      "application/vnd.plotly.v1+json": {
       "config": {
        "plotlyServerURL": "https://plot.ly"
       },
       "data": [
        {
         "name": "Total Sales",
         "text": [
          9,
          7,
          3,
          2,
          1.5,
          1,
          1,
          0,
          0,
          0,
          0,
          0,
          0
         ],
         "textposition": "auto",
         "texttemplate": "%{text:.2f}",
         "type": "bar",
         "x": [
          "chinese washi tape (中国和纸胶带)",
          "chinese magnets (中国冰箱贴)",
          "chinese mid autumn gift sets (中秋节礼品套装)",
          "chinese art stickers (中国艺术贴纸)",
          "chinese bookmarks (中国书签)",
          "brushes and calligraphy tools (笔和书法工具)",
          "name seals (印章)",
          "bead bracelets and necklaces (珠子手链和项链)",
          "calligraphy prints (书法印刷品)",
          "chinese bamboo art (中国竹艺)",
          "chinese incense (中国香)",
          "chinese pottery (中国陶器)",
          "paper lanterns (纸灯笼)"
         ],
         "y": [
          9,
          7,
          3,
          2,
          1.5,
          1,
          1,
          0,
          0,
          0,
          0,
          0,
          0
         ]
        }
       ],
       "layout": {
        "template": {
         "data": {
          "bar": [
           {
            "error_x": {
             "color": "rgb(36,36,36)"
            },
            "error_y": {
             "color": "rgb(36,36,36)"
            },
            "marker": {
             "line": {
              "color": "white",
              "width": 0.5
             },
             "pattern": {
              "fillmode": "overlay",
              "size": 10,
              "solidity": 0.2
             }
            },
            "type": "bar"
           }
          ],
          "barpolar": [
           {
            "marker": {
             "line": {
              "color": "white",
              "width": 0.5
             },
             "pattern": {
              "fillmode": "overlay",
              "size": 10,
              "solidity": 0.2
             }
            },
            "type": "barpolar"
           }
          ],
          "carpet": [
           {
            "aaxis": {
             "endlinecolor": "rgb(36,36,36)",
             "gridcolor": "white",
             "linecolor": "white",
             "minorgridcolor": "white",
             "startlinecolor": "rgb(36,36,36)"
            },
            "baxis": {
             "endlinecolor": "rgb(36,36,36)",
             "gridcolor": "white",
             "linecolor": "white",
             "minorgridcolor": "white",
             "startlinecolor": "rgb(36,36,36)"
            },
            "type": "carpet"
           }
          ],
          "choropleth": [
           {
            "colorbar": {
             "outlinewidth": 1,
             "tickcolor": "rgb(36,36,36)",
             "ticks": "outside"
            },
            "type": "choropleth"
           }
          ],
          "contour": [
           {
            "colorbar": {
             "outlinewidth": 1,
             "tickcolor": "rgb(36,36,36)",
             "ticks": "outside"
            },
            "colorscale": [
             [
              0,
              "#440154"
             ],
             [
              0.1111111111111111,
              "#482878"
             ],
             [
              0.2222222222222222,
              "#3e4989"
             ],
             [
              0.3333333333333333,
              "#31688e"
             ],
             [
              0.4444444444444444,
              "#26828e"
             ],
             [
              0.5555555555555556,
              "#1f9e89"
             ],
             [
              0.6666666666666666,
              "#35b779"
             ],
             [
              0.7777777777777778,
              "#6ece58"
             ],
             [
              0.8888888888888888,
              "#b5de2b"
             ],
             [
              1,
              "#fde725"
             ]
            ],
            "type": "contour"
           }
          ],
          "contourcarpet": [
           {
            "colorbar": {
             "outlinewidth": 1,
             "tickcolor": "rgb(36,36,36)",
             "ticks": "outside"
            },
            "type": "contourcarpet"
           }
          ],
          "heatmap": [
           {
            "colorbar": {
             "outlinewidth": 1,
             "tickcolor": "rgb(36,36,36)",
             "ticks": "outside"
            },
            "colorscale": [
             [
              0,
              "#440154"
             ],
             [
              0.1111111111111111,
              "#482878"
             ],
             [
              0.2222222222222222,
              "#3e4989"
             ],
             [
              0.3333333333333333,
              "#31688e"
             ],
             [
              0.4444444444444444,
              "#26828e"
             ],
             [
              0.5555555555555556,
              "#1f9e89"
             ],
             [
              0.6666666666666666,
              "#35b779"
             ],
             [
              0.7777777777777778,
              "#6ece58"
             ],
             [
              0.8888888888888888,
              "#b5de2b"
             ],
             [
              1,
              "#fde725"
             ]
            ],
            "type": "heatmap"
           }
          ],
          "heatmapgl": [
           {
            "colorbar": {
             "outlinewidth": 1,
             "tickcolor": "rgb(36,36,36)",
             "ticks": "outside"
            },
            "colorscale": [
             [
              0,
              "#440154"
             ],
             [
              0.1111111111111111,
              "#482878"
             ],
             [
              0.2222222222222222,
              "#3e4989"
             ],
             [
              0.3333333333333333,
              "#31688e"
             ],
             [
              0.4444444444444444,
              "#26828e"
             ],
             [
              0.5555555555555556,
              "#1f9e89"
             ],
             [
              0.6666666666666666,
              "#35b779"
             ],
             [
              0.7777777777777778,
              "#6ece58"
             ],
             [
              0.8888888888888888,
              "#b5de2b"
             ],
             [
              1,
              "#fde725"
             ]
            ],
            "type": "heatmapgl"
           }
          ],
          "histogram": [
           {
            "marker": {
             "line": {
              "color": "white",
              "width": 0.6
             }
            },
            "type": "histogram"
           }
          ],
          "histogram2d": [
           {
            "colorbar": {
             "outlinewidth": 1,
             "tickcolor": "rgb(36,36,36)",
             "ticks": "outside"
            },
            "colorscale": [
             [
              0,
              "#440154"
             ],
             [
              0.1111111111111111,
              "#482878"
             ],
             [
              0.2222222222222222,
              "#3e4989"
             ],
             [
              0.3333333333333333,
              "#31688e"
             ],
             [
              0.4444444444444444,
              "#26828e"
             ],
             [
              0.5555555555555556,
              "#1f9e89"
             ],
             [
              0.6666666666666666,
              "#35b779"
             ],
             [
              0.7777777777777778,
              "#6ece58"
             ],
             [
              0.8888888888888888,
              "#b5de2b"
             ],
             [
              1,
              "#fde725"
             ]
            ],
            "type": "histogram2d"
           }
          ],
          "histogram2dcontour": [
           {
            "colorbar": {
             "outlinewidth": 1,
             "tickcolor": "rgb(36,36,36)",
             "ticks": "outside"
            },
            "colorscale": [
             [
              0,
              "#440154"
             ],
             [
              0.1111111111111111,
              "#482878"
             ],
             [
              0.2222222222222222,
              "#3e4989"
             ],
             [
              0.3333333333333333,
              "#31688e"
             ],
             [
              0.4444444444444444,
              "#26828e"
             ],
             [
              0.5555555555555556,
              "#1f9e89"
             ],
             [
              0.6666666666666666,
              "#35b779"
             ],
             [
              0.7777777777777778,
              "#6ece58"
             ],
             [
              0.8888888888888888,
              "#b5de2b"
             ],
             [
              1,
              "#fde725"
             ]
            ],
            "type": "histogram2dcontour"
           }
          ],
          "mesh3d": [
           {
            "colorbar": {
             "outlinewidth": 1,
             "tickcolor": "rgb(36,36,36)",
             "ticks": "outside"
            },
            "type": "mesh3d"
           }
          ],
          "parcoords": [
           {
            "line": {
             "colorbar": {
              "outlinewidth": 1,
              "tickcolor": "rgb(36,36,36)",
              "ticks": "outside"
             }
            },
            "type": "parcoords"
           }
          ],
          "pie": [
           {
            "automargin": true,
            "type": "pie"
           }
          ],
          "scatter": [
           {
            "fillpattern": {
             "fillmode": "overlay",
             "size": 10,
             "solidity": 0.2
            },
            "type": "scatter"
           }
          ],
          "scatter3d": [
           {
            "line": {
             "colorbar": {
              "outlinewidth": 1,
              "tickcolor": "rgb(36,36,36)",
              "ticks": "outside"
             }
            },
            "marker": {
             "colorbar": {
              "outlinewidth": 1,
              "tickcolor": "rgb(36,36,36)",
              "ticks": "outside"
             }
            },
            "type": "scatter3d"
           }
          ],
          "scattercarpet": [
           {
            "marker": {
             "colorbar": {
              "outlinewidth": 1,
              "tickcolor": "rgb(36,36,36)",
              "ticks": "outside"
             }
            },
            "type": "scattercarpet"
           }
          ],
          "scattergeo": [
           {
            "marker": {
             "colorbar": {
              "outlinewidth": 1,
              "tickcolor": "rgb(36,36,36)",
              "ticks": "outside"
             }
            },
            "type": "scattergeo"
           }
          ],
          "scattergl": [
           {
            "marker": {
             "colorbar": {
              "outlinewidth": 1,
              "tickcolor": "rgb(36,36,36)",
              "ticks": "outside"
             }
            },
            "type": "scattergl"
           }
          ],
          "scattermapbox": [
           {
            "marker": {
             "colorbar": {
              "outlinewidth": 1,
              "tickcolor": "rgb(36,36,36)",
              "ticks": "outside"
             }
            },
            "type": "scattermapbox"
           }
          ],
          "scatterpolar": [
           {
            "marker": {
             "colorbar": {
              "outlinewidth": 1,
              "tickcolor": "rgb(36,36,36)",
              "ticks": "outside"
             }
            },
            "type": "scatterpolar"
           }
          ],
          "scatterpolargl": [
           {
            "marker": {
             "colorbar": {
              "outlinewidth": 1,
              "tickcolor": "rgb(36,36,36)",
              "ticks": "outside"
             }
            },
            "type": "scatterpolargl"
           }
          ],
          "scatterternary": [
           {
            "marker": {
             "colorbar": {
              "outlinewidth": 1,
              "tickcolor": "rgb(36,36,36)",
              "ticks": "outside"
             }
            },
            "type": "scatterternary"
           }
          ],
          "surface": [
           {
            "colorbar": {
             "outlinewidth": 1,
             "tickcolor": "rgb(36,36,36)",
             "ticks": "outside"
            },
            "colorscale": [
             [
              0,
              "#440154"
             ],
             [
              0.1111111111111111,
              "#482878"
             ],
             [
              0.2222222222222222,
              "#3e4989"
             ],
             [
              0.3333333333333333,
              "#31688e"
             ],
             [
              0.4444444444444444,
              "#26828e"
             ],
             [
              0.5555555555555556,
              "#1f9e89"
             ],
             [
              0.6666666666666666,
              "#35b779"
             ],
             [
              0.7777777777777778,
              "#6ece58"
             ],
             [
              0.8888888888888888,
              "#b5de2b"
             ],
             [
              1,
              "#fde725"
             ]
            ],
            "type": "surface"
           }
          ],
          "table": [
           {
            "cells": {
             "fill": {
              "color": "rgb(237,237,237)"
             },
             "line": {
              "color": "white"
             }
            },
            "header": {
             "fill": {
              "color": "rgb(217,217,217)"
             },
             "line": {
              "color": "white"
             }
            },
            "type": "table"
           }
          ]
         },
         "layout": {
          "annotationdefaults": {
           "arrowhead": 0,
           "arrowwidth": 1
          },
          "autotypenumbers": "strict",
          "coloraxis": {
           "colorbar": {
            "outlinewidth": 1,
            "tickcolor": "rgb(36,36,36)",
            "ticks": "outside"
           }
          },
          "colorscale": {
           "diverging": [
            [
             0,
             "rgb(103,0,31)"
            ],
            [
             0.1,
             "rgb(178,24,43)"
            ],
            [
             0.2,
             "rgb(214,96,77)"
            ],
            [
             0.3,
             "rgb(244,165,130)"
            ],
            [
             0.4,
             "rgb(253,219,199)"
            ],
            [
             0.5,
             "rgb(247,247,247)"
            ],
            [
             0.6,
             "rgb(209,229,240)"
            ],
            [
             0.7,
             "rgb(146,197,222)"
            ],
            [
             0.8,
             "rgb(67,147,195)"
            ],
            [
             0.9,
             "rgb(33,102,172)"
            ],
            [
             1,
             "rgb(5,48,97)"
            ]
           ],
           "sequential": [
            [
             0,
             "#440154"
            ],
            [
             0.1111111111111111,
             "#482878"
            ],
            [
             0.2222222222222222,
             "#3e4989"
            ],
            [
             0.3333333333333333,
             "#31688e"
            ],
            [
             0.4444444444444444,
             "#26828e"
            ],
            [
             0.5555555555555556,
             "#1f9e89"
            ],
            [
             0.6666666666666666,
             "#35b779"
            ],
            [
             0.7777777777777778,
             "#6ece58"
            ],
            [
             0.8888888888888888,
             "#b5de2b"
            ],
            [
             1,
             "#fde725"
            ]
           ],
           "sequentialminus": [
            [
             0,
             "#440154"
            ],
            [
             0.1111111111111111,
             "#482878"
            ],
            [
             0.2222222222222222,
             "#3e4989"
            ],
            [
             0.3333333333333333,
             "#31688e"
            ],
            [
             0.4444444444444444,
             "#26828e"
            ],
            [
             0.5555555555555556,
             "#1f9e89"
            ],
            [
             0.6666666666666666,
             "#35b779"
            ],
            [
             0.7777777777777778,
             "#6ece58"
            ],
            [
             0.8888888888888888,
             "#b5de2b"
            ],
            [
             1,
             "#fde725"
            ]
           ]
          },
          "colorway": [
           "#1F77B4",
           "#FF7F0E",
           "#2CA02C",
           "#D62728",
           "#9467BD",
           "#8C564B",
           "#E377C2",
           "#7F7F7F",
           "#BCBD22",
           "#17BECF"
          ],
          "font": {
           "color": "rgb(36,36,36)"
          },
          "geo": {
           "bgcolor": "white",
           "lakecolor": "white",
           "landcolor": "white",
           "showlakes": true,
           "showland": true,
           "subunitcolor": "white"
          },
          "hoverlabel": {
           "align": "left"
          },
          "hovermode": "closest",
          "mapbox": {
           "style": "light"
          },
          "paper_bgcolor": "white",
          "plot_bgcolor": "white",
          "polar": {
           "angularaxis": {
            "gridcolor": "rgb(232,232,232)",
            "linecolor": "rgb(36,36,36)",
            "showgrid": false,
            "showline": true,
            "ticks": "outside"
           },
           "bgcolor": "white",
           "radialaxis": {
            "gridcolor": "rgb(232,232,232)",
            "linecolor": "rgb(36,36,36)",
            "showgrid": false,
            "showline": true,
            "ticks": "outside"
           }
          },
          "scene": {
           "xaxis": {
            "backgroundcolor": "white",
            "gridcolor": "rgb(232,232,232)",
            "gridwidth": 2,
            "linecolor": "rgb(36,36,36)",
            "showbackground": true,
            "showgrid": false,
            "showline": true,
            "ticks": "outside",
            "zeroline": false,
            "zerolinecolor": "rgb(36,36,36)"
           },
           "yaxis": {
            "backgroundcolor": "white",
            "gridcolor": "rgb(232,232,232)",
            "gridwidth": 2,
            "linecolor": "rgb(36,36,36)",
            "showbackground": true,
            "showgrid": false,
            "showline": true,
            "ticks": "outside",
            "zeroline": false,
            "zerolinecolor": "rgb(36,36,36)"
           },
           "zaxis": {
            "backgroundcolor": "white",
            "gridcolor": "rgb(232,232,232)",
            "gridwidth": 2,
            "linecolor": "rgb(36,36,36)",
            "showbackground": true,
            "showgrid": false,
            "showline": true,
            "ticks": "outside",
            "zeroline": false,
            "zerolinecolor": "rgb(36,36,36)"
           }
          },
          "shapedefaults": {
           "fillcolor": "black",
           "line": {
            "width": 0
           },
           "opacity": 0.3
          },
          "ternary": {
           "aaxis": {
            "gridcolor": "rgb(232,232,232)",
            "linecolor": "rgb(36,36,36)",
            "showgrid": false,
            "showline": true,
            "ticks": "outside"
           },
           "baxis": {
            "gridcolor": "rgb(232,232,232)",
            "linecolor": "rgb(36,36,36)",
            "showgrid": false,
            "showline": true,
            "ticks": "outside"
           },
           "bgcolor": "white",
           "caxis": {
            "gridcolor": "rgb(232,232,232)",
            "linecolor": "rgb(36,36,36)",
            "showgrid": false,
            "showline": true,
            "ticks": "outside"
           }
          },
          "title": {
           "x": 0.05
          },
          "xaxis": {
           "automargin": true,
           "gridcolor": "rgb(232,232,232)",
           "linecolor": "rgb(36,36,36)",
           "showgrid": false,
           "showline": true,
           "ticks": "outside",
           "title": {
            "standoff": 15
           },
           "zeroline": false,
           "zerolinecolor": "rgb(36,36,36)"
          },
          "yaxis": {
           "automargin": true,
           "gridcolor": "rgb(232,232,232)",
           "linecolor": "rgb(36,36,36)",
           "showgrid": false,
           "showline": true,
           "ticks": "outside",
           "title": {
            "standoff": 15
           },
           "zeroline": false,
           "zerolinecolor": "rgb(36,36,36)"
          }
         }
        },
        "title": {
         "text": "Median Total Sales by Product（产品平均销售量）"
        },
        "xaxis": {
         "title": {
          "text": "Product Name"
         }
        },
        "yaxis": {
         "title": {
          "text": "Median Total Sales"
         }
        }
       }
      }
     },
     "metadata": {},
     "output_type": "display_data"
    },
    {
     "data": {
      "application/vnd.plotly.v1+json": {
       "config": {
        "plotlyServerURL": "https://plot.ly"
       },
       "data": [
        {
         "name": "Total Sales",
         "text": [
          269,
          30,
          7,
          6.5,
          6,
          6,
          5,
          5,
          4,
          4,
          4,
          3,
          2
         ],
         "textposition": "auto",
         "texttemplate": "%{text:.2f}",
         "type": "bar",
         "x": [
          "chinese magnets (中国冰箱贴)",
          "chinese washi tape (中国和纸胶带)",
          "chinese mid autumn gift sets (中秋节礼品套装)",
          "chinese art stickers (中国艺术贴纸)",
          "brushes and calligraphy tools (笔和书法工具)",
          "name seals (印章)",
          "chinese bookmarks (中国书签)",
          "paper lanterns (纸灯笼)",
          "calligraphy prints (书法印刷品)",
          "chinese incense (中国香)",
          "chinese pottery (中国陶器)",
          "chinese bamboo art (中国竹艺)",
          "bead bracelets and necklaces (珠子手链和项链)"
         ],
         "y": [
          269,
          30,
          7,
          6.5,
          6,
          6,
          5,
          5,
          4,
          4,
          4,
          3,
          2
         ]
        }
       ],
       "layout": {
        "template": {
         "data": {
          "bar": [
           {
            "error_x": {
             "color": "rgb(36,36,36)"
            },
            "error_y": {
             "color": "rgb(36,36,36)"
            },
            "marker": {
             "line": {
              "color": "white",
              "width": 0.5
             },
             "pattern": {
              "fillmode": "overlay",
              "size": 10,
              "solidity": 0.2
             }
            },
            "type": "bar"
           }
          ],
          "barpolar": [
           {
            "marker": {
             "line": {
              "color": "white",
              "width": 0.5
             },
             "pattern": {
              "fillmode": "overlay",
              "size": 10,
              "solidity": 0.2
             }
            },
            "type": "barpolar"
           }
          ],
          "carpet": [
           {
            "aaxis": {
             "endlinecolor": "rgb(36,36,36)",
             "gridcolor": "white",
             "linecolor": "white",
             "minorgridcolor": "white",
             "startlinecolor": "rgb(36,36,36)"
            },
            "baxis": {
             "endlinecolor": "rgb(36,36,36)",
             "gridcolor": "white",
             "linecolor": "white",
             "minorgridcolor": "white",
             "startlinecolor": "rgb(36,36,36)"
            },
            "type": "carpet"
           }
          ],
          "choropleth": [
           {
            "colorbar": {
             "outlinewidth": 1,
             "tickcolor": "rgb(36,36,36)",
             "ticks": "outside"
            },
            "type": "choropleth"
           }
          ],
          "contour": [
           {
            "colorbar": {
             "outlinewidth": 1,
             "tickcolor": "rgb(36,36,36)",
             "ticks": "outside"
            },
            "colorscale": [
             [
              0,
              "#440154"
             ],
             [
              0.1111111111111111,
              "#482878"
             ],
             [
              0.2222222222222222,
              "#3e4989"
             ],
             [
              0.3333333333333333,
              "#31688e"
             ],
             [
              0.4444444444444444,
              "#26828e"
             ],
             [
              0.5555555555555556,
              "#1f9e89"
             ],
             [
              0.6666666666666666,
              "#35b779"
             ],
             [
              0.7777777777777778,
              "#6ece58"
             ],
             [
              0.8888888888888888,
              "#b5de2b"
             ],
             [
              1,
              "#fde725"
             ]
            ],
            "type": "contour"
           }
          ],
          "contourcarpet": [
           {
            "colorbar": {
             "outlinewidth": 1,
             "tickcolor": "rgb(36,36,36)",
             "ticks": "outside"
            },
            "type": "contourcarpet"
           }
          ],
          "heatmap": [
           {
            "colorbar": {
             "outlinewidth": 1,
             "tickcolor": "rgb(36,36,36)",
             "ticks": "outside"
            },
            "colorscale": [
             [
              0,
              "#440154"
             ],
             [
              0.1111111111111111,
              "#482878"
             ],
             [
              0.2222222222222222,
              "#3e4989"
             ],
             [
              0.3333333333333333,
              "#31688e"
             ],
             [
              0.4444444444444444,
              "#26828e"
             ],
             [
              0.5555555555555556,
              "#1f9e89"
             ],
             [
              0.6666666666666666,
              "#35b779"
             ],
             [
              0.7777777777777778,
              "#6ece58"
             ],
             [
              0.8888888888888888,
              "#b5de2b"
             ],
             [
              1,
              "#fde725"
             ]
            ],
            "type": "heatmap"
           }
          ],
          "heatmapgl": [
           {
            "colorbar": {
             "outlinewidth": 1,
             "tickcolor": "rgb(36,36,36)",
             "ticks": "outside"
            },
            "colorscale": [
             [
              0,
              "#440154"
             ],
             [
              0.1111111111111111,
              "#482878"
             ],
             [
              0.2222222222222222,
              "#3e4989"
             ],
             [
              0.3333333333333333,
              "#31688e"
             ],
             [
              0.4444444444444444,
              "#26828e"
             ],
             [
              0.5555555555555556,
              "#1f9e89"
             ],
             [
              0.6666666666666666,
              "#35b779"
             ],
             [
              0.7777777777777778,
              "#6ece58"
             ],
             [
              0.8888888888888888,
              "#b5de2b"
             ],
             [
              1,
              "#fde725"
             ]
            ],
            "type": "heatmapgl"
           }
          ],
          "histogram": [
           {
            "marker": {
             "line": {
              "color": "white",
              "width": 0.6
             }
            },
            "type": "histogram"
           }
          ],
          "histogram2d": [
           {
            "colorbar": {
             "outlinewidth": 1,
             "tickcolor": "rgb(36,36,36)",
             "ticks": "outside"
            },
            "colorscale": [
             [
              0,
              "#440154"
             ],
             [
              0.1111111111111111,
              "#482878"
             ],
             [
              0.2222222222222222,
              "#3e4989"
             ],
             [
              0.3333333333333333,
              "#31688e"
             ],
             [
              0.4444444444444444,
              "#26828e"
             ],
             [
              0.5555555555555556,
              "#1f9e89"
             ],
             [
              0.6666666666666666,
              "#35b779"
             ],
             [
              0.7777777777777778,
              "#6ece58"
             ],
             [
              0.8888888888888888,
              "#b5de2b"
             ],
             [
              1,
              "#fde725"
             ]
            ],
            "type": "histogram2d"
           }
          ],
          "histogram2dcontour": [
           {
            "colorbar": {
             "outlinewidth": 1,
             "tickcolor": "rgb(36,36,36)",
             "ticks": "outside"
            },
            "colorscale": [
             [
              0,
              "#440154"
             ],
             [
              0.1111111111111111,
              "#482878"
             ],
             [
              0.2222222222222222,
              "#3e4989"
             ],
             [
              0.3333333333333333,
              "#31688e"
             ],
             [
              0.4444444444444444,
              "#26828e"
             ],
             [
              0.5555555555555556,
              "#1f9e89"
             ],
             [
              0.6666666666666666,
              "#35b779"
             ],
             [
              0.7777777777777778,
              "#6ece58"
             ],
             [
              0.8888888888888888,
              "#b5de2b"
             ],
             [
              1,
              "#fde725"
             ]
            ],
            "type": "histogram2dcontour"
           }
          ],
          "mesh3d": [
           {
            "colorbar": {
             "outlinewidth": 1,
             "tickcolor": "rgb(36,36,36)",
             "ticks": "outside"
            },
            "type": "mesh3d"
           }
          ],
          "parcoords": [
           {
            "line": {
             "colorbar": {
              "outlinewidth": 1,
              "tickcolor": "rgb(36,36,36)",
              "ticks": "outside"
             }
            },
            "type": "parcoords"
           }
          ],
          "pie": [
           {
            "automargin": true,
            "type": "pie"
           }
          ],
          "scatter": [
           {
            "fillpattern": {
             "fillmode": "overlay",
             "size": 10,
             "solidity": 0.2
            },
            "type": "scatter"
           }
          ],
          "scatter3d": [
           {
            "line": {
             "colorbar": {
              "outlinewidth": 1,
              "tickcolor": "rgb(36,36,36)",
              "ticks": "outside"
             }
            },
            "marker": {
             "colorbar": {
              "outlinewidth": 1,
              "tickcolor": "rgb(36,36,36)",
              "ticks": "outside"
             }
            },
            "type": "scatter3d"
           }
          ],
          "scattercarpet": [
           {
            "marker": {
             "colorbar": {
              "outlinewidth": 1,
              "tickcolor": "rgb(36,36,36)",
              "ticks": "outside"
             }
            },
            "type": "scattercarpet"
           }
          ],
          "scattergeo": [
           {
            "marker": {
             "colorbar": {
              "outlinewidth": 1,
              "tickcolor": "rgb(36,36,36)",
              "ticks": "outside"
             }
            },
            "type": "scattergeo"
           }
          ],
          "scattergl": [
           {
            "marker": {
             "colorbar": {
              "outlinewidth": 1,
              "tickcolor": "rgb(36,36,36)",
              "ticks": "outside"
             }
            },
            "type": "scattergl"
           }
          ],
          "scattermapbox": [
           {
            "marker": {
             "colorbar": {
              "outlinewidth": 1,
              "tickcolor": "rgb(36,36,36)",
              "ticks": "outside"
             }
            },
            "type": "scattermapbox"
           }
          ],
          "scatterpolar": [
           {
            "marker": {
             "colorbar": {
              "outlinewidth": 1,
              "tickcolor": "rgb(36,36,36)",
              "ticks": "outside"
             }
            },
            "type": "scatterpolar"
           }
          ],
          "scatterpolargl": [
           {
            "marker": {
             "colorbar": {
              "outlinewidth": 1,
              "tickcolor": "rgb(36,36,36)",
              "ticks": "outside"
             }
            },
            "type": "scatterpolargl"
           }
          ],
          "scatterternary": [
           {
            "marker": {
             "colorbar": {
              "outlinewidth": 1,
              "tickcolor": "rgb(36,36,36)",
              "ticks": "outside"
             }
            },
            "type": "scatterternary"
           }
          ],
          "surface": [
           {
            "colorbar": {
             "outlinewidth": 1,
             "tickcolor": "rgb(36,36,36)",
             "ticks": "outside"
            },
            "colorscale": [
             [
              0,
              "#440154"
             ],
             [
              0.1111111111111111,
              "#482878"
             ],
             [
              0.2222222222222222,
              "#3e4989"
             ],
             [
              0.3333333333333333,
              "#31688e"
             ],
             [
              0.4444444444444444,
              "#26828e"
             ],
             [
              0.5555555555555556,
              "#1f9e89"
             ],
             [
              0.6666666666666666,
              "#35b779"
             ],
             [
              0.7777777777777778,
              "#6ece58"
             ],
             [
              0.8888888888888888,
              "#b5de2b"
             ],
             [
              1,
              "#fde725"
             ]
            ],
            "type": "surface"
           }
          ],
          "table": [
           {
            "cells": {
             "fill": {
              "color": "rgb(237,237,237)"
             },
             "line": {
              "color": "white"
             }
            },
            "header": {
             "fill": {
              "color": "rgb(217,217,217)"
             },
             "line": {
              "color": "white"
             }
            },
            "type": "table"
           }
          ]
         },
         "layout": {
          "annotationdefaults": {
           "arrowhead": 0,
           "arrowwidth": 1
          },
          "autotypenumbers": "strict",
          "coloraxis": {
           "colorbar": {
            "outlinewidth": 1,
            "tickcolor": "rgb(36,36,36)",
            "ticks": "outside"
           }
          },
          "colorscale": {
           "diverging": [
            [
             0,
             "rgb(103,0,31)"
            ],
            [
             0.1,
             "rgb(178,24,43)"
            ],
            [
             0.2,
             "rgb(214,96,77)"
            ],
            [
             0.3,
             "rgb(244,165,130)"
            ],
            [
             0.4,
             "rgb(253,219,199)"
            ],
            [
             0.5,
             "rgb(247,247,247)"
            ],
            [
             0.6,
             "rgb(209,229,240)"
            ],
            [
             0.7,
             "rgb(146,197,222)"
            ],
            [
             0.8,
             "rgb(67,147,195)"
            ],
            [
             0.9,
             "rgb(33,102,172)"
            ],
            [
             1,
             "rgb(5,48,97)"
            ]
           ],
           "sequential": [
            [
             0,
             "#440154"
            ],
            [
             0.1111111111111111,
             "#482878"
            ],
            [
             0.2222222222222222,
             "#3e4989"
            ],
            [
             0.3333333333333333,
             "#31688e"
            ],
            [
             0.4444444444444444,
             "#26828e"
            ],
            [
             0.5555555555555556,
             "#1f9e89"
            ],
            [
             0.6666666666666666,
             "#35b779"
            ],
            [
             0.7777777777777778,
             "#6ece58"
            ],
            [
             0.8888888888888888,
             "#b5de2b"
            ],
            [
             1,
             "#fde725"
            ]
           ],
           "sequentialminus": [
            [
             0,
             "#440154"
            ],
            [
             0.1111111111111111,
             "#482878"
            ],
            [
             0.2222222222222222,
             "#3e4989"
            ],
            [
             0.3333333333333333,
             "#31688e"
            ],
            [
             0.4444444444444444,
             "#26828e"
            ],
            [
             0.5555555555555556,
             "#1f9e89"
            ],
            [
             0.6666666666666666,
             "#35b779"
            ],
            [
             0.7777777777777778,
             "#6ece58"
            ],
            [
             0.8888888888888888,
             "#b5de2b"
            ],
            [
             1,
             "#fde725"
            ]
           ]
          },
          "colorway": [
           "#1F77B4",
           "#FF7F0E",
           "#2CA02C",
           "#D62728",
           "#9467BD",
           "#8C564B",
           "#E377C2",
           "#7F7F7F",
           "#BCBD22",
           "#17BECF"
          ],
          "font": {
           "color": "rgb(36,36,36)"
          },
          "geo": {
           "bgcolor": "white",
           "lakecolor": "white",
           "landcolor": "white",
           "showlakes": true,
           "showland": true,
           "subunitcolor": "white"
          },
          "hoverlabel": {
           "align": "left"
          },
          "hovermode": "closest",
          "mapbox": {
           "style": "light"
          },
          "paper_bgcolor": "white",
          "plot_bgcolor": "white",
          "polar": {
           "angularaxis": {
            "gridcolor": "rgb(232,232,232)",
            "linecolor": "rgb(36,36,36)",
            "showgrid": false,
            "showline": true,
            "ticks": "outside"
           },
           "bgcolor": "white",
           "radialaxis": {
            "gridcolor": "rgb(232,232,232)",
            "linecolor": "rgb(36,36,36)",
            "showgrid": false,
            "showline": true,
            "ticks": "outside"
           }
          },
          "scene": {
           "xaxis": {
            "backgroundcolor": "white",
            "gridcolor": "rgb(232,232,232)",
            "gridwidth": 2,
            "linecolor": "rgb(36,36,36)",
            "showbackground": true,
            "showgrid": false,
            "showline": true,
            "ticks": "outside",
            "zeroline": false,
            "zerolinecolor": "rgb(36,36,36)"
           },
           "yaxis": {
            "backgroundcolor": "white",
            "gridcolor": "rgb(232,232,232)",
            "gridwidth": 2,
            "linecolor": "rgb(36,36,36)",
            "showbackground": true,
            "showgrid": false,
            "showline": true,
            "ticks": "outside",
            "zeroline": false,
            "zerolinecolor": "rgb(36,36,36)"
           },
           "zaxis": {
            "backgroundcolor": "white",
            "gridcolor": "rgb(232,232,232)",
            "gridwidth": 2,
            "linecolor": "rgb(36,36,36)",
            "showbackground": true,
            "showgrid": false,
            "showline": true,
            "ticks": "outside",
            "zeroline": false,
            "zerolinecolor": "rgb(36,36,36)"
           }
          },
          "shapedefaults": {
           "fillcolor": "black",
           "line": {
            "width": 0
           },
           "opacity": 0.3
          },
          "ternary": {
           "aaxis": {
            "gridcolor": "rgb(232,232,232)",
            "linecolor": "rgb(36,36,36)",
            "showgrid": false,
            "showline": true,
            "ticks": "outside"
           },
           "baxis": {
            "gridcolor": "rgb(232,232,232)",
            "linecolor": "rgb(36,36,36)",
            "showgrid": false,
            "showline": true,
            "ticks": "outside"
           },
           "bgcolor": "white",
           "caxis": {
            "gridcolor": "rgb(232,232,232)",
            "linecolor": "rgb(36,36,36)",
            "showgrid": false,
            "showline": true,
            "ticks": "outside"
           }
          },
          "title": {
           "x": 0.05
          },
          "xaxis": {
           "automargin": true,
           "gridcolor": "rgb(232,232,232)",
           "linecolor": "rgb(36,36,36)",
           "showgrid": false,
           "showline": true,
           "ticks": "outside",
           "title": {
            "standoff": 15
           },
           "zeroline": false,
           "zerolinecolor": "rgb(36,36,36)"
          },
          "yaxis": {
           "automargin": true,
           "gridcolor": "rgb(232,232,232)",
           "linecolor": "rgb(36,36,36)",
           "showgrid": false,
           "showline": true,
           "ticks": "outside",
           "title": {
            "standoff": 15
           },
           "zeroline": false,
           "zerolinecolor": "rgb(36,36,36)"
          }
         }
        },
        "title": {
         "text": "Median Total Sales by Product (With Sales) （有销售的产品）"
        },
        "xaxis": {
         "title": {
          "text": "Product Name"
         }
        },
        "yaxis": {
         "title": {
          "text": "Median Total Sales"
         }
        }
       }
      }
     },
     "metadata": {},
     "output_type": "display_data"
    }
   ],
   "source": [
    "# Median total sales by product\n",
    "fig1 = plot_bar_chart_plotly(\n",
    "    all_product_data.groupby(\"product_name_chinese_name\")[\"Total Sales\"]\n",
    "    .median()\n",
    "    .reset_index(),\n",
    "    x=\"product_name_chinese_name\",\n",
    "    y=\"Total Sales\",\n",
    "    title=\"Median Total Sales by Product（产品平均销售量）\",\n",
    "    x_label=\"Product Name\",\n",
    "    y_label=\"Median Total Sales\",\n",
    ")\n",
    "\n",
    "# Median total sales by product with sales\n",
    "fig2 = plot_bar_chart_plotly(\n",
    "    all_product_data[all_product_data[\"has_sales\"] == True]\n",
    "    .groupby(\"product_name_chinese_name\")[\"Total Sales\"]\n",
    "    .median()\n",
    "    .reset_index(),\n",
    "    x=\"product_name_chinese_name\",\n",
    "    y=\"Total Sales\",\n",
    "    title=\"Median Total Sales by Product (With Sales) （有销售的产品）\",\n",
    "    x_label=\"Product Name\",\n",
    "    y_label=\"Median Total Sales\",\n",
    ")\n",
    "\n",
    "fig1.show()\n",
    "fig2.show()"
   ]
  },
  {
   "cell_type": "code",
   "execution_count": 13,
   "metadata": {},
   "outputs": [
    {
     "data": {
      "application/vnd.plotly.v1+json": {
       "config": {
        "plotlyServerURL": "https://plot.ly"
       },
       "data": [
        {
         "name": "Product Url",
         "text": [
          1445,
          1027,
          190,
          187,
          162,
          137,
          117,
          96,
          84,
          65,
          57,
          50,
          30
         ],
         "textposition": "auto",
         "texttemplate": "%{text:.2f}",
         "type": "bar",
         "x": [
          "calligraphy prints (书法印刷品)",
          "name seals (印章)",
          "chinese pottery (中国陶器)",
          "paper lanterns (纸灯笼)",
          "brushes and calligraphy tools (笔和书法工具)",
          "bead bracelets and necklaces (珠子手链和项链)",
          "chinese art stickers (中国艺术贴纸)",
          "chinese washi tape (中国和纸胶带)",
          "chinese bookmarks (中国书签)",
          "chinese magnets (中国冰箱贴)",
          "chinese incense (中国香)",
          "chinese bamboo art (中国竹艺)",
          "chinese mid autumn gift sets (中秋节礼品套装)"
         ],
         "y": [
          1445,
          1027,
          190,
          187,
          162,
          137,
          117,
          96,
          84,
          65,
          57,
          50,
          30
         ]
        }
       ],
       "layout": {
        "template": {
         "data": {
          "bar": [
           {
            "error_x": {
             "color": "rgb(36,36,36)"
            },
            "error_y": {
             "color": "rgb(36,36,36)"
            },
            "marker": {
             "line": {
              "color": "white",
              "width": 0.5
             },
             "pattern": {
              "fillmode": "overlay",
              "size": 10,
              "solidity": 0.2
             }
            },
            "type": "bar"
           }
          ],
          "barpolar": [
           {
            "marker": {
             "line": {
              "color": "white",
              "width": 0.5
             },
             "pattern": {
              "fillmode": "overlay",
              "size": 10,
              "solidity": 0.2
             }
            },
            "type": "barpolar"
           }
          ],
          "carpet": [
           {
            "aaxis": {
             "endlinecolor": "rgb(36,36,36)",
             "gridcolor": "white",
             "linecolor": "white",
             "minorgridcolor": "white",
             "startlinecolor": "rgb(36,36,36)"
            },
            "baxis": {
             "endlinecolor": "rgb(36,36,36)",
             "gridcolor": "white",
             "linecolor": "white",
             "minorgridcolor": "white",
             "startlinecolor": "rgb(36,36,36)"
            },
            "type": "carpet"
           }
          ],
          "choropleth": [
           {
            "colorbar": {
             "outlinewidth": 1,
             "tickcolor": "rgb(36,36,36)",
             "ticks": "outside"
            },
            "type": "choropleth"
           }
          ],
          "contour": [
           {
            "colorbar": {
             "outlinewidth": 1,
             "tickcolor": "rgb(36,36,36)",
             "ticks": "outside"
            },
            "colorscale": [
             [
              0,
              "#440154"
             ],
             [
              0.1111111111111111,
              "#482878"
             ],
             [
              0.2222222222222222,
              "#3e4989"
             ],
             [
              0.3333333333333333,
              "#31688e"
             ],
             [
              0.4444444444444444,
              "#26828e"
             ],
             [
              0.5555555555555556,
              "#1f9e89"
             ],
             [
              0.6666666666666666,
              "#35b779"
             ],
             [
              0.7777777777777778,
              "#6ece58"
             ],
             [
              0.8888888888888888,
              "#b5de2b"
             ],
             [
              1,
              "#fde725"
             ]
            ],
            "type": "contour"
           }
          ],
          "contourcarpet": [
           {
            "colorbar": {
             "outlinewidth": 1,
             "tickcolor": "rgb(36,36,36)",
             "ticks": "outside"
            },
            "type": "contourcarpet"
           }
          ],
          "heatmap": [
           {
            "colorbar": {
             "outlinewidth": 1,
             "tickcolor": "rgb(36,36,36)",
             "ticks": "outside"
            },
            "colorscale": [
             [
              0,
              "#440154"
             ],
             [
              0.1111111111111111,
              "#482878"
             ],
             [
              0.2222222222222222,
              "#3e4989"
             ],
             [
              0.3333333333333333,
              "#31688e"
             ],
             [
              0.4444444444444444,
              "#26828e"
             ],
             [
              0.5555555555555556,
              "#1f9e89"
             ],
             [
              0.6666666666666666,
              "#35b779"
             ],
             [
              0.7777777777777778,
              "#6ece58"
             ],
             [
              0.8888888888888888,
              "#b5de2b"
             ],
             [
              1,
              "#fde725"
             ]
            ],
            "type": "heatmap"
           }
          ],
          "heatmapgl": [
           {
            "colorbar": {
             "outlinewidth": 1,
             "tickcolor": "rgb(36,36,36)",
             "ticks": "outside"
            },
            "colorscale": [
             [
              0,
              "#440154"
             ],
             [
              0.1111111111111111,
              "#482878"
             ],
             [
              0.2222222222222222,
              "#3e4989"
             ],
             [
              0.3333333333333333,
              "#31688e"
             ],
             [
              0.4444444444444444,
              "#26828e"
             ],
             [
              0.5555555555555556,
              "#1f9e89"
             ],
             [
              0.6666666666666666,
              "#35b779"
             ],
             [
              0.7777777777777778,
              "#6ece58"
             ],
             [
              0.8888888888888888,
              "#b5de2b"
             ],
             [
              1,
              "#fde725"
             ]
            ],
            "type": "heatmapgl"
           }
          ],
          "histogram": [
           {
            "marker": {
             "line": {
              "color": "white",
              "width": 0.6
             }
            },
            "type": "histogram"
           }
          ],
          "histogram2d": [
           {
            "colorbar": {
             "outlinewidth": 1,
             "tickcolor": "rgb(36,36,36)",
             "ticks": "outside"
            },
            "colorscale": [
             [
              0,
              "#440154"
             ],
             [
              0.1111111111111111,
              "#482878"
             ],
             [
              0.2222222222222222,
              "#3e4989"
             ],
             [
              0.3333333333333333,
              "#31688e"
             ],
             [
              0.4444444444444444,
              "#26828e"
             ],
             [
              0.5555555555555556,
              "#1f9e89"
             ],
             [
              0.6666666666666666,
              "#35b779"
             ],
             [
              0.7777777777777778,
              "#6ece58"
             ],
             [
              0.8888888888888888,
              "#b5de2b"
             ],
             [
              1,
              "#fde725"
             ]
            ],
            "type": "histogram2d"
           }
          ],
          "histogram2dcontour": [
           {
            "colorbar": {
             "outlinewidth": 1,
             "tickcolor": "rgb(36,36,36)",
             "ticks": "outside"
            },
            "colorscale": [
             [
              0,
              "#440154"
             ],
             [
              0.1111111111111111,
              "#482878"
             ],
             [
              0.2222222222222222,
              "#3e4989"
             ],
             [
              0.3333333333333333,
              "#31688e"
             ],
             [
              0.4444444444444444,
              "#26828e"
             ],
             [
              0.5555555555555556,
              "#1f9e89"
             ],
             [
              0.6666666666666666,
              "#35b779"
             ],
             [
              0.7777777777777778,
              "#6ece58"
             ],
             [
              0.8888888888888888,
              "#b5de2b"
             ],
             [
              1,
              "#fde725"
             ]
            ],
            "type": "histogram2dcontour"
           }
          ],
          "mesh3d": [
           {
            "colorbar": {
             "outlinewidth": 1,
             "tickcolor": "rgb(36,36,36)",
             "ticks": "outside"
            },
            "type": "mesh3d"
           }
          ],
          "parcoords": [
           {
            "line": {
             "colorbar": {
              "outlinewidth": 1,
              "tickcolor": "rgb(36,36,36)",
              "ticks": "outside"
             }
            },
            "type": "parcoords"
           }
          ],
          "pie": [
           {
            "automargin": true,
            "type": "pie"
           }
          ],
          "scatter": [
           {
            "fillpattern": {
             "fillmode": "overlay",
             "size": 10,
             "solidity": 0.2
            },
            "type": "scatter"
           }
          ],
          "scatter3d": [
           {
            "line": {
             "colorbar": {
              "outlinewidth": 1,
              "tickcolor": "rgb(36,36,36)",
              "ticks": "outside"
             }
            },
            "marker": {
             "colorbar": {
              "outlinewidth": 1,
              "tickcolor": "rgb(36,36,36)",
              "ticks": "outside"
             }
            },
            "type": "scatter3d"
           }
          ],
          "scattercarpet": [
           {
            "marker": {
             "colorbar": {
              "outlinewidth": 1,
              "tickcolor": "rgb(36,36,36)",
              "ticks": "outside"
             }
            },
            "type": "scattercarpet"
           }
          ],
          "scattergeo": [
           {
            "marker": {
             "colorbar": {
              "outlinewidth": 1,
              "tickcolor": "rgb(36,36,36)",
              "ticks": "outside"
             }
            },
            "type": "scattergeo"
           }
          ],
          "scattergl": [
           {
            "marker": {
             "colorbar": {
              "outlinewidth": 1,
              "tickcolor": "rgb(36,36,36)",
              "ticks": "outside"
             }
            },
            "type": "scattergl"
           }
          ],
          "scattermapbox": [
           {
            "marker": {
             "colorbar": {
              "outlinewidth": 1,
              "tickcolor": "rgb(36,36,36)",
              "ticks": "outside"
             }
            },
            "type": "scattermapbox"
           }
          ],
          "scatterpolar": [
           {
            "marker": {
             "colorbar": {
              "outlinewidth": 1,
              "tickcolor": "rgb(36,36,36)",
              "ticks": "outside"
             }
            },
            "type": "scatterpolar"
           }
          ],
          "scatterpolargl": [
           {
            "marker": {
             "colorbar": {
              "outlinewidth": 1,
              "tickcolor": "rgb(36,36,36)",
              "ticks": "outside"
             }
            },
            "type": "scatterpolargl"
           }
          ],
          "scatterternary": [
           {
            "marker": {
             "colorbar": {
              "outlinewidth": 1,
              "tickcolor": "rgb(36,36,36)",
              "ticks": "outside"
             }
            },
            "type": "scatterternary"
           }
          ],
          "surface": [
           {
            "colorbar": {
             "outlinewidth": 1,
             "tickcolor": "rgb(36,36,36)",
             "ticks": "outside"
            },
            "colorscale": [
             [
              0,
              "#440154"
             ],
             [
              0.1111111111111111,
              "#482878"
             ],
             [
              0.2222222222222222,
              "#3e4989"
             ],
             [
              0.3333333333333333,
              "#31688e"
             ],
             [
              0.4444444444444444,
              "#26828e"
             ],
             [
              0.5555555555555556,
              "#1f9e89"
             ],
             [
              0.6666666666666666,
              "#35b779"
             ],
             [
              0.7777777777777778,
              "#6ece58"
             ],
             [
              0.8888888888888888,
              "#b5de2b"
             ],
             [
              1,
              "#fde725"
             ]
            ],
            "type": "surface"
           }
          ],
          "table": [
           {
            "cells": {
             "fill": {
              "color": "rgb(237,237,237)"
             },
             "line": {
              "color": "white"
             }
            },
            "header": {
             "fill": {
              "color": "rgb(217,217,217)"
             },
             "line": {
              "color": "white"
             }
            },
            "type": "table"
           }
          ]
         },
         "layout": {
          "annotationdefaults": {
           "arrowhead": 0,
           "arrowwidth": 1
          },
          "autotypenumbers": "strict",
          "coloraxis": {
           "colorbar": {
            "outlinewidth": 1,
            "tickcolor": "rgb(36,36,36)",
            "ticks": "outside"
           }
          },
          "colorscale": {
           "diverging": [
            [
             0,
             "rgb(103,0,31)"
            ],
            [
             0.1,
             "rgb(178,24,43)"
            ],
            [
             0.2,
             "rgb(214,96,77)"
            ],
            [
             0.3,
             "rgb(244,165,130)"
            ],
            [
             0.4,
             "rgb(253,219,199)"
            ],
            [
             0.5,
             "rgb(247,247,247)"
            ],
            [
             0.6,
             "rgb(209,229,240)"
            ],
            [
             0.7,
             "rgb(146,197,222)"
            ],
            [
             0.8,
             "rgb(67,147,195)"
            ],
            [
             0.9,
             "rgb(33,102,172)"
            ],
            [
             1,
             "rgb(5,48,97)"
            ]
           ],
           "sequential": [
            [
             0,
             "#440154"
            ],
            [
             0.1111111111111111,
             "#482878"
            ],
            [
             0.2222222222222222,
             "#3e4989"
            ],
            [
             0.3333333333333333,
             "#31688e"
            ],
            [
             0.4444444444444444,
             "#26828e"
            ],
            [
             0.5555555555555556,
             "#1f9e89"
            ],
            [
             0.6666666666666666,
             "#35b779"
            ],
            [
             0.7777777777777778,
             "#6ece58"
            ],
            [
             0.8888888888888888,
             "#b5de2b"
            ],
            [
             1,
             "#fde725"
            ]
           ],
           "sequentialminus": [
            [
             0,
             "#440154"
            ],
            [
             0.1111111111111111,
             "#482878"
            ],
            [
             0.2222222222222222,
             "#3e4989"
            ],
            [
             0.3333333333333333,
             "#31688e"
            ],
            [
             0.4444444444444444,
             "#26828e"
            ],
            [
             0.5555555555555556,
             "#1f9e89"
            ],
            [
             0.6666666666666666,
             "#35b779"
            ],
            [
             0.7777777777777778,
             "#6ece58"
            ],
            [
             0.8888888888888888,
             "#b5de2b"
            ],
            [
             1,
             "#fde725"
            ]
           ]
          },
          "colorway": [
           "#1F77B4",
           "#FF7F0E",
           "#2CA02C",
           "#D62728",
           "#9467BD",
           "#8C564B",
           "#E377C2",
           "#7F7F7F",
           "#BCBD22",
           "#17BECF"
          ],
          "font": {
           "color": "rgb(36,36,36)"
          },
          "geo": {
           "bgcolor": "white",
           "lakecolor": "white",
           "landcolor": "white",
           "showlakes": true,
           "showland": true,
           "subunitcolor": "white"
          },
          "hoverlabel": {
           "align": "left"
          },
          "hovermode": "closest",
          "mapbox": {
           "style": "light"
          },
          "paper_bgcolor": "white",
          "plot_bgcolor": "white",
          "polar": {
           "angularaxis": {
            "gridcolor": "rgb(232,232,232)",
            "linecolor": "rgb(36,36,36)",
            "showgrid": false,
            "showline": true,
            "ticks": "outside"
           },
           "bgcolor": "white",
           "radialaxis": {
            "gridcolor": "rgb(232,232,232)",
            "linecolor": "rgb(36,36,36)",
            "showgrid": false,
            "showline": true,
            "ticks": "outside"
           }
          },
          "scene": {
           "xaxis": {
            "backgroundcolor": "white",
            "gridcolor": "rgb(232,232,232)",
            "gridwidth": 2,
            "linecolor": "rgb(36,36,36)",
            "showbackground": true,
            "showgrid": false,
            "showline": true,
            "ticks": "outside",
            "zeroline": false,
            "zerolinecolor": "rgb(36,36,36)"
           },
           "yaxis": {
            "backgroundcolor": "white",
            "gridcolor": "rgb(232,232,232)",
            "gridwidth": 2,
            "linecolor": "rgb(36,36,36)",
            "showbackground": true,
            "showgrid": false,
            "showline": true,
            "ticks": "outside",
            "zeroline": false,
            "zerolinecolor": "rgb(36,36,36)"
           },
           "zaxis": {
            "backgroundcolor": "white",
            "gridcolor": "rgb(232,232,232)",
            "gridwidth": 2,
            "linecolor": "rgb(36,36,36)",
            "showbackground": true,
            "showgrid": false,
            "showline": true,
            "ticks": "outside",
            "zeroline": false,
            "zerolinecolor": "rgb(36,36,36)"
           }
          },
          "shapedefaults": {
           "fillcolor": "black",
           "line": {
            "width": 0
           },
           "opacity": 0.3
          },
          "ternary": {
           "aaxis": {
            "gridcolor": "rgb(232,232,232)",
            "linecolor": "rgb(36,36,36)",
            "showgrid": false,
            "showline": true,
            "ticks": "outside"
           },
           "baxis": {
            "gridcolor": "rgb(232,232,232)",
            "linecolor": "rgb(36,36,36)",
            "showgrid": false,
            "showline": true,
            "ticks": "outside"
           },
           "bgcolor": "white",
           "caxis": {
            "gridcolor": "rgb(232,232,232)",
            "linecolor": "rgb(36,36,36)",
            "showgrid": false,
            "showline": true,
            "ticks": "outside"
           }
          },
          "title": {
           "x": 0.05
          },
          "xaxis": {
           "automargin": true,
           "gridcolor": "rgb(232,232,232)",
           "linecolor": "rgb(36,36,36)",
           "showgrid": false,
           "showline": true,
           "ticks": "outside",
           "title": {
            "standoff": 15
           },
           "zeroline": false,
           "zerolinecolor": "rgb(36,36,36)"
          },
          "yaxis": {
           "automargin": true,
           "gridcolor": "rgb(232,232,232)",
           "linecolor": "rgb(36,36,36)",
           "showgrid": false,
           "showline": true,
           "ticks": "outside",
           "title": {
            "standoff": 15
           },
           "zeroline": false,
           "zerolinecolor": "rgb(36,36,36)"
          }
         }
        },
        "title": {
         "text": "Number of Unique Products （产品数目）"
        },
        "xaxis": {
         "title": {
          "text": "Product Name"
         }
        },
        "yaxis": {
         "title": {
          "text": "Number of Unique Products"
         }
        }
       }
      }
     },
     "metadata": {},
     "output_type": "display_data"
    },
    {
     "data": {
      "application/vnd.plotly.v1+json": {
       "config": {
        "plotlyServerURL": "https://plot.ly"
       },
       "data": [
        {
         "name": "Product Url",
         "text": [
          616,
          568,
          89,
          88,
          68,
          68,
          66,
          65,
          44,
          43,
          21,
          19,
          10
         ],
         "textposition": "auto",
         "texttemplate": "%{text:.2f}",
         "type": "bar",
         "x": [
          "name seals (印章)",
          "calligraphy prints (书法印刷品)",
          "brushes and calligraphy tools (笔和书法工具)",
          "paper lanterns (纸灯笼)",
          "chinese pottery (中国陶器)",
          "chinese washi tape (中国和纸胶带)",
          "chinese art stickers (中国艺术贴纸)",
          "bead bracelets and necklaces (珠子手链和项链)",
          "chinese bookmarks (中国书签)",
          "chinese magnets (中国冰箱贴)",
          "chinese incense (中国香)",
          "chinese mid autumn gift sets (中秋节礼品套装)",
          "chinese bamboo art (中国竹艺)"
         ],
         "y": [
          616,
          568,
          89,
          88,
          68,
          68,
          66,
          65,
          44,
          43,
          21,
          19,
          10
         ]
        }
       ],
       "layout": {
        "template": {
         "data": {
          "bar": [
           {
            "error_x": {
             "color": "rgb(36,36,36)"
            },
            "error_y": {
             "color": "rgb(36,36,36)"
            },
            "marker": {
             "line": {
              "color": "white",
              "width": 0.5
             },
             "pattern": {
              "fillmode": "overlay",
              "size": 10,
              "solidity": 0.2
             }
            },
            "type": "bar"
           }
          ],
          "barpolar": [
           {
            "marker": {
             "line": {
              "color": "white",
              "width": 0.5
             },
             "pattern": {
              "fillmode": "overlay",
              "size": 10,
              "solidity": 0.2
             }
            },
            "type": "barpolar"
           }
          ],
          "carpet": [
           {
            "aaxis": {
             "endlinecolor": "rgb(36,36,36)",
             "gridcolor": "white",
             "linecolor": "white",
             "minorgridcolor": "white",
             "startlinecolor": "rgb(36,36,36)"
            },
            "baxis": {
             "endlinecolor": "rgb(36,36,36)",
             "gridcolor": "white",
             "linecolor": "white",
             "minorgridcolor": "white",
             "startlinecolor": "rgb(36,36,36)"
            },
            "type": "carpet"
           }
          ],
          "choropleth": [
           {
            "colorbar": {
             "outlinewidth": 1,
             "tickcolor": "rgb(36,36,36)",
             "ticks": "outside"
            },
            "type": "choropleth"
           }
          ],
          "contour": [
           {
            "colorbar": {
             "outlinewidth": 1,
             "tickcolor": "rgb(36,36,36)",
             "ticks": "outside"
            },
            "colorscale": [
             [
              0,
              "#440154"
             ],
             [
              0.1111111111111111,
              "#482878"
             ],
             [
              0.2222222222222222,
              "#3e4989"
             ],
             [
              0.3333333333333333,
              "#31688e"
             ],
             [
              0.4444444444444444,
              "#26828e"
             ],
             [
              0.5555555555555556,
              "#1f9e89"
             ],
             [
              0.6666666666666666,
              "#35b779"
             ],
             [
              0.7777777777777778,
              "#6ece58"
             ],
             [
              0.8888888888888888,
              "#b5de2b"
             ],
             [
              1,
              "#fde725"
             ]
            ],
            "type": "contour"
           }
          ],
          "contourcarpet": [
           {
            "colorbar": {
             "outlinewidth": 1,
             "tickcolor": "rgb(36,36,36)",
             "ticks": "outside"
            },
            "type": "contourcarpet"
           }
          ],
          "heatmap": [
           {
            "colorbar": {
             "outlinewidth": 1,
             "tickcolor": "rgb(36,36,36)",
             "ticks": "outside"
            },
            "colorscale": [
             [
              0,
              "#440154"
             ],
             [
              0.1111111111111111,
              "#482878"
             ],
             [
              0.2222222222222222,
              "#3e4989"
             ],
             [
              0.3333333333333333,
              "#31688e"
             ],
             [
              0.4444444444444444,
              "#26828e"
             ],
             [
              0.5555555555555556,
              "#1f9e89"
             ],
             [
              0.6666666666666666,
              "#35b779"
             ],
             [
              0.7777777777777778,
              "#6ece58"
             ],
             [
              0.8888888888888888,
              "#b5de2b"
             ],
             [
              1,
              "#fde725"
             ]
            ],
            "type": "heatmap"
           }
          ],
          "heatmapgl": [
           {
            "colorbar": {
             "outlinewidth": 1,
             "tickcolor": "rgb(36,36,36)",
             "ticks": "outside"
            },
            "colorscale": [
             [
              0,
              "#440154"
             ],
             [
              0.1111111111111111,
              "#482878"
             ],
             [
              0.2222222222222222,
              "#3e4989"
             ],
             [
              0.3333333333333333,
              "#31688e"
             ],
             [
              0.4444444444444444,
              "#26828e"
             ],
             [
              0.5555555555555556,
              "#1f9e89"
             ],
             [
              0.6666666666666666,
              "#35b779"
             ],
             [
              0.7777777777777778,
              "#6ece58"
             ],
             [
              0.8888888888888888,
              "#b5de2b"
             ],
             [
              1,
              "#fde725"
             ]
            ],
            "type": "heatmapgl"
           }
          ],
          "histogram": [
           {
            "marker": {
             "line": {
              "color": "white",
              "width": 0.6
             }
            },
            "type": "histogram"
           }
          ],
          "histogram2d": [
           {
            "colorbar": {
             "outlinewidth": 1,
             "tickcolor": "rgb(36,36,36)",
             "ticks": "outside"
            },
            "colorscale": [
             [
              0,
              "#440154"
             ],
             [
              0.1111111111111111,
              "#482878"
             ],
             [
              0.2222222222222222,
              "#3e4989"
             ],
             [
              0.3333333333333333,
              "#31688e"
             ],
             [
              0.4444444444444444,
              "#26828e"
             ],
             [
              0.5555555555555556,
              "#1f9e89"
             ],
             [
              0.6666666666666666,
              "#35b779"
             ],
             [
              0.7777777777777778,
              "#6ece58"
             ],
             [
              0.8888888888888888,
              "#b5de2b"
             ],
             [
              1,
              "#fde725"
             ]
            ],
            "type": "histogram2d"
           }
          ],
          "histogram2dcontour": [
           {
            "colorbar": {
             "outlinewidth": 1,
             "tickcolor": "rgb(36,36,36)",
             "ticks": "outside"
            },
            "colorscale": [
             [
              0,
              "#440154"
             ],
             [
              0.1111111111111111,
              "#482878"
             ],
             [
              0.2222222222222222,
              "#3e4989"
             ],
             [
              0.3333333333333333,
              "#31688e"
             ],
             [
              0.4444444444444444,
              "#26828e"
             ],
             [
              0.5555555555555556,
              "#1f9e89"
             ],
             [
              0.6666666666666666,
              "#35b779"
             ],
             [
              0.7777777777777778,
              "#6ece58"
             ],
             [
              0.8888888888888888,
              "#b5de2b"
             ],
             [
              1,
              "#fde725"
             ]
            ],
            "type": "histogram2dcontour"
           }
          ],
          "mesh3d": [
           {
            "colorbar": {
             "outlinewidth": 1,
             "tickcolor": "rgb(36,36,36)",
             "ticks": "outside"
            },
            "type": "mesh3d"
           }
          ],
          "parcoords": [
           {
            "line": {
             "colorbar": {
              "outlinewidth": 1,
              "tickcolor": "rgb(36,36,36)",
              "ticks": "outside"
             }
            },
            "type": "parcoords"
           }
          ],
          "pie": [
           {
            "automargin": true,
            "type": "pie"
           }
          ],
          "scatter": [
           {
            "fillpattern": {
             "fillmode": "overlay",
             "size": 10,
             "solidity": 0.2
            },
            "type": "scatter"
           }
          ],
          "scatter3d": [
           {
            "line": {
             "colorbar": {
              "outlinewidth": 1,
              "tickcolor": "rgb(36,36,36)",
              "ticks": "outside"
             }
            },
            "marker": {
             "colorbar": {
              "outlinewidth": 1,
              "tickcolor": "rgb(36,36,36)",
              "ticks": "outside"
             }
            },
            "type": "scatter3d"
           }
          ],
          "scattercarpet": [
           {
            "marker": {
             "colorbar": {
              "outlinewidth": 1,
              "tickcolor": "rgb(36,36,36)",
              "ticks": "outside"
             }
            },
            "type": "scattercarpet"
           }
          ],
          "scattergeo": [
           {
            "marker": {
             "colorbar": {
              "outlinewidth": 1,
              "tickcolor": "rgb(36,36,36)",
              "ticks": "outside"
             }
            },
            "type": "scattergeo"
           }
          ],
          "scattergl": [
           {
            "marker": {
             "colorbar": {
              "outlinewidth": 1,
              "tickcolor": "rgb(36,36,36)",
              "ticks": "outside"
             }
            },
            "type": "scattergl"
           }
          ],
          "scattermapbox": [
           {
            "marker": {
             "colorbar": {
              "outlinewidth": 1,
              "tickcolor": "rgb(36,36,36)",
              "ticks": "outside"
             }
            },
            "type": "scattermapbox"
           }
          ],
          "scatterpolar": [
           {
            "marker": {
             "colorbar": {
              "outlinewidth": 1,
              "tickcolor": "rgb(36,36,36)",
              "ticks": "outside"
             }
            },
            "type": "scatterpolar"
           }
          ],
          "scatterpolargl": [
           {
            "marker": {
             "colorbar": {
              "outlinewidth": 1,
              "tickcolor": "rgb(36,36,36)",
              "ticks": "outside"
             }
            },
            "type": "scatterpolargl"
           }
          ],
          "scatterternary": [
           {
            "marker": {
             "colorbar": {
              "outlinewidth": 1,
              "tickcolor": "rgb(36,36,36)",
              "ticks": "outside"
             }
            },
            "type": "scatterternary"
           }
          ],
          "surface": [
           {
            "colorbar": {
             "outlinewidth": 1,
             "tickcolor": "rgb(36,36,36)",
             "ticks": "outside"
            },
            "colorscale": [
             [
              0,
              "#440154"
             ],
             [
              0.1111111111111111,
              "#482878"
             ],
             [
              0.2222222222222222,
              "#3e4989"
             ],
             [
              0.3333333333333333,
              "#31688e"
             ],
             [
              0.4444444444444444,
              "#26828e"
             ],
             [
              0.5555555555555556,
              "#1f9e89"
             ],
             [
              0.6666666666666666,
              "#35b779"
             ],
             [
              0.7777777777777778,
              "#6ece58"
             ],
             [
              0.8888888888888888,
              "#b5de2b"
             ],
             [
              1,
              "#fde725"
             ]
            ],
            "type": "surface"
           }
          ],
          "table": [
           {
            "cells": {
             "fill": {
              "color": "rgb(237,237,237)"
             },
             "line": {
              "color": "white"
             }
            },
            "header": {
             "fill": {
              "color": "rgb(217,217,217)"
             },
             "line": {
              "color": "white"
             }
            },
            "type": "table"
           }
          ]
         },
         "layout": {
          "annotationdefaults": {
           "arrowhead": 0,
           "arrowwidth": 1
          },
          "autotypenumbers": "strict",
          "coloraxis": {
           "colorbar": {
            "outlinewidth": 1,
            "tickcolor": "rgb(36,36,36)",
            "ticks": "outside"
           }
          },
          "colorscale": {
           "diverging": [
            [
             0,
             "rgb(103,0,31)"
            ],
            [
             0.1,
             "rgb(178,24,43)"
            ],
            [
             0.2,
             "rgb(214,96,77)"
            ],
            [
             0.3,
             "rgb(244,165,130)"
            ],
            [
             0.4,
             "rgb(253,219,199)"
            ],
            [
             0.5,
             "rgb(247,247,247)"
            ],
            [
             0.6,
             "rgb(209,229,240)"
            ],
            [
             0.7,
             "rgb(146,197,222)"
            ],
            [
             0.8,
             "rgb(67,147,195)"
            ],
            [
             0.9,
             "rgb(33,102,172)"
            ],
            [
             1,
             "rgb(5,48,97)"
            ]
           ],
           "sequential": [
            [
             0,
             "#440154"
            ],
            [
             0.1111111111111111,
             "#482878"
            ],
            [
             0.2222222222222222,
             "#3e4989"
            ],
            [
             0.3333333333333333,
             "#31688e"
            ],
            [
             0.4444444444444444,
             "#26828e"
            ],
            [
             0.5555555555555556,
             "#1f9e89"
            ],
            [
             0.6666666666666666,
             "#35b779"
            ],
            [
             0.7777777777777778,
             "#6ece58"
            ],
            [
             0.8888888888888888,
             "#b5de2b"
            ],
            [
             1,
             "#fde725"
            ]
           ],
           "sequentialminus": [
            [
             0,
             "#440154"
            ],
            [
             0.1111111111111111,
             "#482878"
            ],
            [
             0.2222222222222222,
             "#3e4989"
            ],
            [
             0.3333333333333333,
             "#31688e"
            ],
            [
             0.4444444444444444,
             "#26828e"
            ],
            [
             0.5555555555555556,
             "#1f9e89"
            ],
            [
             0.6666666666666666,
             "#35b779"
            ],
            [
             0.7777777777777778,
             "#6ece58"
            ],
            [
             0.8888888888888888,
             "#b5de2b"
            ],
            [
             1,
             "#fde725"
            ]
           ]
          },
          "colorway": [
           "#1F77B4",
           "#FF7F0E",
           "#2CA02C",
           "#D62728",
           "#9467BD",
           "#8C564B",
           "#E377C2",
           "#7F7F7F",
           "#BCBD22",
           "#17BECF"
          ],
          "font": {
           "color": "rgb(36,36,36)"
          },
          "geo": {
           "bgcolor": "white",
           "lakecolor": "white",
           "landcolor": "white",
           "showlakes": true,
           "showland": true,
           "subunitcolor": "white"
          },
          "hoverlabel": {
           "align": "left"
          },
          "hovermode": "closest",
          "mapbox": {
           "style": "light"
          },
          "paper_bgcolor": "white",
          "plot_bgcolor": "white",
          "polar": {
           "angularaxis": {
            "gridcolor": "rgb(232,232,232)",
            "linecolor": "rgb(36,36,36)",
            "showgrid": false,
            "showline": true,
            "ticks": "outside"
           },
           "bgcolor": "white",
           "radialaxis": {
            "gridcolor": "rgb(232,232,232)",
            "linecolor": "rgb(36,36,36)",
            "showgrid": false,
            "showline": true,
            "ticks": "outside"
           }
          },
          "scene": {
           "xaxis": {
            "backgroundcolor": "white",
            "gridcolor": "rgb(232,232,232)",
            "gridwidth": 2,
            "linecolor": "rgb(36,36,36)",
            "showbackground": true,
            "showgrid": false,
            "showline": true,
            "ticks": "outside",
            "zeroline": false,
            "zerolinecolor": "rgb(36,36,36)"
           },
           "yaxis": {
            "backgroundcolor": "white",
            "gridcolor": "rgb(232,232,232)",
            "gridwidth": 2,
            "linecolor": "rgb(36,36,36)",
            "showbackground": true,
            "showgrid": false,
            "showline": true,
            "ticks": "outside",
            "zeroline": false,
            "zerolinecolor": "rgb(36,36,36)"
           },
           "zaxis": {
            "backgroundcolor": "white",
            "gridcolor": "rgb(232,232,232)",
            "gridwidth": 2,
            "linecolor": "rgb(36,36,36)",
            "showbackground": true,
            "showgrid": false,
            "showline": true,
            "ticks": "outside",
            "zeroline": false,
            "zerolinecolor": "rgb(36,36,36)"
           }
          },
          "shapedefaults": {
           "fillcolor": "black",
           "line": {
            "width": 0
           },
           "opacity": 0.3
          },
          "ternary": {
           "aaxis": {
            "gridcolor": "rgb(232,232,232)",
            "linecolor": "rgb(36,36,36)",
            "showgrid": false,
            "showline": true,
            "ticks": "outside"
           },
           "baxis": {
            "gridcolor": "rgb(232,232,232)",
            "linecolor": "rgb(36,36,36)",
            "showgrid": false,
            "showline": true,
            "ticks": "outside"
           },
           "bgcolor": "white",
           "caxis": {
            "gridcolor": "rgb(232,232,232)",
            "linecolor": "rgb(36,36,36)",
            "showgrid": false,
            "showline": true,
            "ticks": "outside"
           }
          },
          "title": {
           "x": 0.05
          },
          "xaxis": {
           "automargin": true,
           "gridcolor": "rgb(232,232,232)",
           "linecolor": "rgb(36,36,36)",
           "showgrid": false,
           "showline": true,
           "ticks": "outside",
           "title": {
            "standoff": 15
           },
           "zeroline": false,
           "zerolinecolor": "rgb(36,36,36)"
          },
          "yaxis": {
           "automargin": true,
           "gridcolor": "rgb(232,232,232)",
           "linecolor": "rgb(36,36,36)",
           "showgrid": false,
           "showline": true,
           "ticks": "outside",
           "title": {
            "standoff": 15
           },
           "zeroline": false,
           "zerolinecolor": "rgb(36,36,36)"
          }
         }
        },
        "title": {
         "text": "Number of Unique Products (With Sales) （有销售量的产品的数量）"
        },
        "xaxis": {
         "title": {
          "text": "Product Name"
         }
        },
        "yaxis": {
         "title": {
          "text": "Number of Unique Products"
         }
        }
       }
      }
     },
     "metadata": {},
     "output_type": "display_data"
    },
    {
     "data": {
      "application/vnd.plotly.v1+json": {
       "config": {
        "plotlyServerURL": "https://plot.ly"
       },
       "data": [
        {
         "name": "Has Sales",
         "text": [
          0.7083333333333334,
          0.6615384615384615,
          0.6333333333333333,
          0.5998052580331061,
          0.5641025641025641,
          0.5493827160493827,
          0.5238095238095238,
          0.4744525547445255,
          0.47058823529411764,
          0.39307958477508653,
          0.3684210526315789,
          0.35789473684210527,
          0.2
         ],
         "textposition": "auto",
         "texttemplate": "%{text:.2f}",
         "type": "bar",
         "x": [
          "chinese washi tape (中国和纸胶带)",
          "chinese magnets (中国冰箱贴)",
          "chinese mid autumn gift sets (中秋节礼品套装)",
          "name seals (印章)",
          "chinese art stickers (中国艺术贴纸)",
          "brushes and calligraphy tools (笔和书法工具)",
          "chinese bookmarks (中国书签)",
          "bead bracelets and necklaces (珠子手链和项链)",
          "paper lanterns (纸灯笼)",
          "calligraphy prints (书法印刷品)",
          "chinese incense (中国香)",
          "chinese pottery (中国陶器)",
          "chinese bamboo art (中国竹艺)"
         ],
         "y": [
          0.7083333333333334,
          0.6615384615384615,
          0.6333333333333333,
          0.5998052580331061,
          0.5641025641025641,
          0.5493827160493827,
          0.5238095238095238,
          0.4744525547445255,
          0.47058823529411764,
          0.39307958477508653,
          0.3684210526315789,
          0.35789473684210527,
          0.2
         ]
        }
       ],
       "layout": {
        "template": {
         "data": {
          "bar": [
           {
            "error_x": {
             "color": "rgb(36,36,36)"
            },
            "error_y": {
             "color": "rgb(36,36,36)"
            },
            "marker": {
             "line": {
              "color": "white",
              "width": 0.5
             },
             "pattern": {
              "fillmode": "overlay",
              "size": 10,
              "solidity": 0.2
             }
            },
            "type": "bar"
           }
          ],
          "barpolar": [
           {
            "marker": {
             "line": {
              "color": "white",
              "width": 0.5
             },
             "pattern": {
              "fillmode": "overlay",
              "size": 10,
              "solidity": 0.2
             }
            },
            "type": "barpolar"
           }
          ],
          "carpet": [
           {
            "aaxis": {
             "endlinecolor": "rgb(36,36,36)",
             "gridcolor": "white",
             "linecolor": "white",
             "minorgridcolor": "white",
             "startlinecolor": "rgb(36,36,36)"
            },
            "baxis": {
             "endlinecolor": "rgb(36,36,36)",
             "gridcolor": "white",
             "linecolor": "white",
             "minorgridcolor": "white",
             "startlinecolor": "rgb(36,36,36)"
            },
            "type": "carpet"
           }
          ],
          "choropleth": [
           {
            "colorbar": {
             "outlinewidth": 1,
             "tickcolor": "rgb(36,36,36)",
             "ticks": "outside"
            },
            "type": "choropleth"
           }
          ],
          "contour": [
           {
            "colorbar": {
             "outlinewidth": 1,
             "tickcolor": "rgb(36,36,36)",
             "ticks": "outside"
            },
            "colorscale": [
             [
              0,
              "#440154"
             ],
             [
              0.1111111111111111,
              "#482878"
             ],
             [
              0.2222222222222222,
              "#3e4989"
             ],
             [
              0.3333333333333333,
              "#31688e"
             ],
             [
              0.4444444444444444,
              "#26828e"
             ],
             [
              0.5555555555555556,
              "#1f9e89"
             ],
             [
              0.6666666666666666,
              "#35b779"
             ],
             [
              0.7777777777777778,
              "#6ece58"
             ],
             [
              0.8888888888888888,
              "#b5de2b"
             ],
             [
              1,
              "#fde725"
             ]
            ],
            "type": "contour"
           }
          ],
          "contourcarpet": [
           {
            "colorbar": {
             "outlinewidth": 1,
             "tickcolor": "rgb(36,36,36)",
             "ticks": "outside"
            },
            "type": "contourcarpet"
           }
          ],
          "heatmap": [
           {
            "colorbar": {
             "outlinewidth": 1,
             "tickcolor": "rgb(36,36,36)",
             "ticks": "outside"
            },
            "colorscale": [
             [
              0,
              "#440154"
             ],
             [
              0.1111111111111111,
              "#482878"
             ],
             [
              0.2222222222222222,
              "#3e4989"
             ],
             [
              0.3333333333333333,
              "#31688e"
             ],
             [
              0.4444444444444444,
              "#26828e"
             ],
             [
              0.5555555555555556,
              "#1f9e89"
             ],
             [
              0.6666666666666666,
              "#35b779"
             ],
             [
              0.7777777777777778,
              "#6ece58"
             ],
             [
              0.8888888888888888,
              "#b5de2b"
             ],
             [
              1,
              "#fde725"
             ]
            ],
            "type": "heatmap"
           }
          ],
          "heatmapgl": [
           {
            "colorbar": {
             "outlinewidth": 1,
             "tickcolor": "rgb(36,36,36)",
             "ticks": "outside"
            },
            "colorscale": [
             [
              0,
              "#440154"
             ],
             [
              0.1111111111111111,
              "#482878"
             ],
             [
              0.2222222222222222,
              "#3e4989"
             ],
             [
              0.3333333333333333,
              "#31688e"
             ],
             [
              0.4444444444444444,
              "#26828e"
             ],
             [
              0.5555555555555556,
              "#1f9e89"
             ],
             [
              0.6666666666666666,
              "#35b779"
             ],
             [
              0.7777777777777778,
              "#6ece58"
             ],
             [
              0.8888888888888888,
              "#b5de2b"
             ],
             [
              1,
              "#fde725"
             ]
            ],
            "type": "heatmapgl"
           }
          ],
          "histogram": [
           {
            "marker": {
             "line": {
              "color": "white",
              "width": 0.6
             }
            },
            "type": "histogram"
           }
          ],
          "histogram2d": [
           {
            "colorbar": {
             "outlinewidth": 1,
             "tickcolor": "rgb(36,36,36)",
             "ticks": "outside"
            },
            "colorscale": [
             [
              0,
              "#440154"
             ],
             [
              0.1111111111111111,
              "#482878"
             ],
             [
              0.2222222222222222,
              "#3e4989"
             ],
             [
              0.3333333333333333,
              "#31688e"
             ],
             [
              0.4444444444444444,
              "#26828e"
             ],
             [
              0.5555555555555556,
              "#1f9e89"
             ],
             [
              0.6666666666666666,
              "#35b779"
             ],
             [
              0.7777777777777778,
              "#6ece58"
             ],
             [
              0.8888888888888888,
              "#b5de2b"
             ],
             [
              1,
              "#fde725"
             ]
            ],
            "type": "histogram2d"
           }
          ],
          "histogram2dcontour": [
           {
            "colorbar": {
             "outlinewidth": 1,
             "tickcolor": "rgb(36,36,36)",
             "ticks": "outside"
            },
            "colorscale": [
             [
              0,
              "#440154"
             ],
             [
              0.1111111111111111,
              "#482878"
             ],
             [
              0.2222222222222222,
              "#3e4989"
             ],
             [
              0.3333333333333333,
              "#31688e"
             ],
             [
              0.4444444444444444,
              "#26828e"
             ],
             [
              0.5555555555555556,
              "#1f9e89"
             ],
             [
              0.6666666666666666,
              "#35b779"
             ],
             [
              0.7777777777777778,
              "#6ece58"
             ],
             [
              0.8888888888888888,
              "#b5de2b"
             ],
             [
              1,
              "#fde725"
             ]
            ],
            "type": "histogram2dcontour"
           }
          ],
          "mesh3d": [
           {
            "colorbar": {
             "outlinewidth": 1,
             "tickcolor": "rgb(36,36,36)",
             "ticks": "outside"
            },
            "type": "mesh3d"
           }
          ],
          "parcoords": [
           {
            "line": {
             "colorbar": {
              "outlinewidth": 1,
              "tickcolor": "rgb(36,36,36)",
              "ticks": "outside"
             }
            },
            "type": "parcoords"
           }
          ],
          "pie": [
           {
            "automargin": true,
            "type": "pie"
           }
          ],
          "scatter": [
           {
            "fillpattern": {
             "fillmode": "overlay",
             "size": 10,
             "solidity": 0.2
            },
            "type": "scatter"
           }
          ],
          "scatter3d": [
           {
            "line": {
             "colorbar": {
              "outlinewidth": 1,
              "tickcolor": "rgb(36,36,36)",
              "ticks": "outside"
             }
            },
            "marker": {
             "colorbar": {
              "outlinewidth": 1,
              "tickcolor": "rgb(36,36,36)",
              "ticks": "outside"
             }
            },
            "type": "scatter3d"
           }
          ],
          "scattercarpet": [
           {
            "marker": {
             "colorbar": {
              "outlinewidth": 1,
              "tickcolor": "rgb(36,36,36)",
              "ticks": "outside"
             }
            },
            "type": "scattercarpet"
           }
          ],
          "scattergeo": [
           {
            "marker": {
             "colorbar": {
              "outlinewidth": 1,
              "tickcolor": "rgb(36,36,36)",
              "ticks": "outside"
             }
            },
            "type": "scattergeo"
           }
          ],
          "scattergl": [
           {
            "marker": {
             "colorbar": {
              "outlinewidth": 1,
              "tickcolor": "rgb(36,36,36)",
              "ticks": "outside"
             }
            },
            "type": "scattergl"
           }
          ],
          "scattermapbox": [
           {
            "marker": {
             "colorbar": {
              "outlinewidth": 1,
              "tickcolor": "rgb(36,36,36)",
              "ticks": "outside"
             }
            },
            "type": "scattermapbox"
           }
          ],
          "scatterpolar": [
           {
            "marker": {
             "colorbar": {
              "outlinewidth": 1,
              "tickcolor": "rgb(36,36,36)",
              "ticks": "outside"
             }
            },
            "type": "scatterpolar"
           }
          ],
          "scatterpolargl": [
           {
            "marker": {
             "colorbar": {
              "outlinewidth": 1,
              "tickcolor": "rgb(36,36,36)",
              "ticks": "outside"
             }
            },
            "type": "scatterpolargl"
           }
          ],
          "scatterternary": [
           {
            "marker": {
             "colorbar": {
              "outlinewidth": 1,
              "tickcolor": "rgb(36,36,36)",
              "ticks": "outside"
             }
            },
            "type": "scatterternary"
           }
          ],
          "surface": [
           {
            "colorbar": {
             "outlinewidth": 1,
             "tickcolor": "rgb(36,36,36)",
             "ticks": "outside"
            },
            "colorscale": [
             [
              0,
              "#440154"
             ],
             [
              0.1111111111111111,
              "#482878"
             ],
             [
              0.2222222222222222,
              "#3e4989"
             ],
             [
              0.3333333333333333,
              "#31688e"
             ],
             [
              0.4444444444444444,
              "#26828e"
             ],
             [
              0.5555555555555556,
              "#1f9e89"
             ],
             [
              0.6666666666666666,
              "#35b779"
             ],
             [
              0.7777777777777778,
              "#6ece58"
             ],
             [
              0.8888888888888888,
              "#b5de2b"
             ],
             [
              1,
              "#fde725"
             ]
            ],
            "type": "surface"
           }
          ],
          "table": [
           {
            "cells": {
             "fill": {
              "color": "rgb(237,237,237)"
             },
             "line": {
              "color": "white"
             }
            },
            "header": {
             "fill": {
              "color": "rgb(217,217,217)"
             },
             "line": {
              "color": "white"
             }
            },
            "type": "table"
           }
          ]
         },
         "layout": {
          "annotationdefaults": {
           "arrowhead": 0,
           "arrowwidth": 1
          },
          "autotypenumbers": "strict",
          "coloraxis": {
           "colorbar": {
            "outlinewidth": 1,
            "tickcolor": "rgb(36,36,36)",
            "ticks": "outside"
           }
          },
          "colorscale": {
           "diverging": [
            [
             0,
             "rgb(103,0,31)"
            ],
            [
             0.1,
             "rgb(178,24,43)"
            ],
            [
             0.2,
             "rgb(214,96,77)"
            ],
            [
             0.3,
             "rgb(244,165,130)"
            ],
            [
             0.4,
             "rgb(253,219,199)"
            ],
            [
             0.5,
             "rgb(247,247,247)"
            ],
            [
             0.6,
             "rgb(209,229,240)"
            ],
            [
             0.7,
             "rgb(146,197,222)"
            ],
            [
             0.8,
             "rgb(67,147,195)"
            ],
            [
             0.9,
             "rgb(33,102,172)"
            ],
            [
             1,
             "rgb(5,48,97)"
            ]
           ],
           "sequential": [
            [
             0,
             "#440154"
            ],
            [
             0.1111111111111111,
             "#482878"
            ],
            [
             0.2222222222222222,
             "#3e4989"
            ],
            [
             0.3333333333333333,
             "#31688e"
            ],
            [
             0.4444444444444444,
             "#26828e"
            ],
            [
             0.5555555555555556,
             "#1f9e89"
            ],
            [
             0.6666666666666666,
             "#35b779"
            ],
            [
             0.7777777777777778,
             "#6ece58"
            ],
            [
             0.8888888888888888,
             "#b5de2b"
            ],
            [
             1,
             "#fde725"
            ]
           ],
           "sequentialminus": [
            [
             0,
             "#440154"
            ],
            [
             0.1111111111111111,
             "#482878"
            ],
            [
             0.2222222222222222,
             "#3e4989"
            ],
            [
             0.3333333333333333,
             "#31688e"
            ],
            [
             0.4444444444444444,
             "#26828e"
            ],
            [
             0.5555555555555556,
             "#1f9e89"
            ],
            [
             0.6666666666666666,
             "#35b779"
            ],
            [
             0.7777777777777778,
             "#6ece58"
            ],
            [
             0.8888888888888888,
             "#b5de2b"
            ],
            [
             1,
             "#fde725"
            ]
           ]
          },
          "colorway": [
           "#1F77B4",
           "#FF7F0E",
           "#2CA02C",
           "#D62728",
           "#9467BD",
           "#8C564B",
           "#E377C2",
           "#7F7F7F",
           "#BCBD22",
           "#17BECF"
          ],
          "font": {
           "color": "rgb(36,36,36)"
          },
          "geo": {
           "bgcolor": "white",
           "lakecolor": "white",
           "landcolor": "white",
           "showlakes": true,
           "showland": true,
           "subunitcolor": "white"
          },
          "hoverlabel": {
           "align": "left"
          },
          "hovermode": "closest",
          "mapbox": {
           "style": "light"
          },
          "paper_bgcolor": "white",
          "plot_bgcolor": "white",
          "polar": {
           "angularaxis": {
            "gridcolor": "rgb(232,232,232)",
            "linecolor": "rgb(36,36,36)",
            "showgrid": false,
            "showline": true,
            "ticks": "outside"
           },
           "bgcolor": "white",
           "radialaxis": {
            "gridcolor": "rgb(232,232,232)",
            "linecolor": "rgb(36,36,36)",
            "showgrid": false,
            "showline": true,
            "ticks": "outside"
           }
          },
          "scene": {
           "xaxis": {
            "backgroundcolor": "white",
            "gridcolor": "rgb(232,232,232)",
            "gridwidth": 2,
            "linecolor": "rgb(36,36,36)",
            "showbackground": true,
            "showgrid": false,
            "showline": true,
            "ticks": "outside",
            "zeroline": false,
            "zerolinecolor": "rgb(36,36,36)"
           },
           "yaxis": {
            "backgroundcolor": "white",
            "gridcolor": "rgb(232,232,232)",
            "gridwidth": 2,
            "linecolor": "rgb(36,36,36)",
            "showbackground": true,
            "showgrid": false,
            "showline": true,
            "ticks": "outside",
            "zeroline": false,
            "zerolinecolor": "rgb(36,36,36)"
           },
           "zaxis": {
            "backgroundcolor": "white",
            "gridcolor": "rgb(232,232,232)",
            "gridwidth": 2,
            "linecolor": "rgb(36,36,36)",
            "showbackground": true,
            "showgrid": false,
            "showline": true,
            "ticks": "outside",
            "zeroline": false,
            "zerolinecolor": "rgb(36,36,36)"
           }
          },
          "shapedefaults": {
           "fillcolor": "black",
           "line": {
            "width": 0
           },
           "opacity": 0.3
          },
          "ternary": {
           "aaxis": {
            "gridcolor": "rgb(232,232,232)",
            "linecolor": "rgb(36,36,36)",
            "showgrid": false,
            "showline": true,
            "ticks": "outside"
           },
           "baxis": {
            "gridcolor": "rgb(232,232,232)",
            "linecolor": "rgb(36,36,36)",
            "showgrid": false,
            "showline": true,
            "ticks": "outside"
           },
           "bgcolor": "white",
           "caxis": {
            "gridcolor": "rgb(232,232,232)",
            "linecolor": "rgb(36,36,36)",
            "showgrid": false,
            "showline": true,
            "ticks": "outside"
           }
          },
          "title": {
           "x": 0.05
          },
          "xaxis": {
           "automargin": true,
           "gridcolor": "rgb(232,232,232)",
           "linecolor": "rgb(36,36,36)",
           "showgrid": false,
           "showline": true,
           "ticks": "outside",
           "title": {
            "standoff": 15
           },
           "zeroline": false,
           "zerolinecolor": "rgb(36,36,36)"
          },
          "yaxis": {
           "automargin": true,
           "gridcolor": "rgb(232,232,232)",
           "linecolor": "rgb(36,36,36)",
           "showgrid": false,
           "showline": true,
           "ticks": "outside",
           "title": {
            "standoff": 15
           },
           "zeroline": false,
           "zerolinecolor": "rgb(36,36,36)"
          }
         }
        },
        "title": {
         "text": "Percentage of Products with Sales （有销售量的产品的百分比）"
        },
        "xaxis": {
         "title": {
          "text": "Product Name"
         }
        },
        "yaxis": {
         "title": {
          "text": "Percentage of Products with Sales (%)"
         }
        }
       }
      }
     },
     "metadata": {},
     "output_type": "display_data"
    }
   ],
   "source": [
    "# Number of unique product URLs by product\n",
    "fig1 = plot_bar_chart_plotly(\n",
    "    all_product_data.groupby(\"product_name_chinese_name\")[\"Product URL\"]\n",
    "    .nunique()\n",
    "    .reset_index(),\n",
    "    x=\"product_name_chinese_name\",\n",
    "    y=\"Product URL\",\n",
    "    title=\"Number of Unique Products （产品数目）\",\n",
    "    x_label=\"Product Name\",\n",
    "    y_label=\"Number of Unique Products\",\n",
    ")\n",
    "\n",
    "# With sales\n",
    "fig2 = plot_bar_chart_plotly(\n",
    "    all_product_data[all_product_data[\"has_sales\"] == True]\n",
    "    .groupby(\"product_name_chinese_name\")[\"Product URL\"]\n",
    "    .nunique()\n",
    "    .reset_index(),\n",
    "    x=\"product_name_chinese_name\",\n",
    "    y=\"Product URL\",\n",
    "    title=\"Number of Unique Products (With Sales) （有销售量的产品的数量）\",\n",
    "    x_label=\"Product Name\",\n",
    "    y_label=\"Number of Unique Products\",\n",
    ")\n",
    "\n",
    "\n",
    "# Plot Percentage of products with sales per product\n",
    "fig3 = plot_bar_chart_plotly(\n",
    "    all_product_data.groupby(\"product_name_chinese_name\")[\"has_sales\"]\n",
    "    .mean()\n",
    "    .reset_index(),\n",
    "    x=\"product_name_chinese_name\",\n",
    "    y=\"has_sales\",\n",
    "    title=\"Percentage of Products with Sales （有销售量的产品的百分比）\",\n",
    "    x_label=\"Product Name\",\n",
    "    y_label=\"Percentage of Products with Sales (%)\",\n",
    ")\n",
    "\n",
    "fig1.show()\n",
    "fig2.show()\n",
    "fig3.show()"
   ]
  },
  {
   "cell_type": "code",
   "execution_count": 14,
   "metadata": {},
   "outputs": [
    {
     "data": {
      "application/vnd.plotly.v1+json": {
       "config": {
        "plotlyServerURL": "https://plot.ly"
       },
       "data": [
        {
         "name": "Store Name",
         "text": [
          370,
          123,
          123,
          94,
          86,
          73,
          63,
          61,
          58,
          43,
          39,
          19,
          18
         ],
         "textposition": "auto",
         "texttemplate": "%{text:.2f}",
         "type": "bar",
         "x": [
          "calligraphy prints (书法印刷品)",
          "chinese pottery (中国陶器)",
          "paper lanterns (纸灯笼)",
          "bead bracelets and necklaces (珠子手链和项链)",
          "name seals (印章)",
          "chinese art stickers (中国艺术贴纸)",
          "brushes and calligraphy tools (笔和书法工具)",
          "chinese magnets (中国冰箱贴)",
          "chinese washi tape (中国和纸胶带)",
          "chinese bookmarks (中国书签)",
          "chinese incense (中国香)",
          "chinese bamboo art (中国竹艺)",
          "chinese mid autumn gift sets (中秋节礼品套装)"
         ],
         "y": [
          370,
          123,
          123,
          94,
          86,
          73,
          63,
          61,
          58,
          43,
          39,
          19,
          18
         ]
        }
       ],
       "layout": {
        "template": {
         "data": {
          "bar": [
           {
            "error_x": {
             "color": "rgb(36,36,36)"
            },
            "error_y": {
             "color": "rgb(36,36,36)"
            },
            "marker": {
             "line": {
              "color": "white",
              "width": 0.5
             },
             "pattern": {
              "fillmode": "overlay",
              "size": 10,
              "solidity": 0.2
             }
            },
            "type": "bar"
           }
          ],
          "barpolar": [
           {
            "marker": {
             "line": {
              "color": "white",
              "width": 0.5
             },
             "pattern": {
              "fillmode": "overlay",
              "size": 10,
              "solidity": 0.2
             }
            },
            "type": "barpolar"
           }
          ],
          "carpet": [
           {
            "aaxis": {
             "endlinecolor": "rgb(36,36,36)",
             "gridcolor": "white",
             "linecolor": "white",
             "minorgridcolor": "white",
             "startlinecolor": "rgb(36,36,36)"
            },
            "baxis": {
             "endlinecolor": "rgb(36,36,36)",
             "gridcolor": "white",
             "linecolor": "white",
             "minorgridcolor": "white",
             "startlinecolor": "rgb(36,36,36)"
            },
            "type": "carpet"
           }
          ],
          "choropleth": [
           {
            "colorbar": {
             "outlinewidth": 1,
             "tickcolor": "rgb(36,36,36)",
             "ticks": "outside"
            },
            "type": "choropleth"
           }
          ],
          "contour": [
           {
            "colorbar": {
             "outlinewidth": 1,
             "tickcolor": "rgb(36,36,36)",
             "ticks": "outside"
            },
            "colorscale": [
             [
              0,
              "#440154"
             ],
             [
              0.1111111111111111,
              "#482878"
             ],
             [
              0.2222222222222222,
              "#3e4989"
             ],
             [
              0.3333333333333333,
              "#31688e"
             ],
             [
              0.4444444444444444,
              "#26828e"
             ],
             [
              0.5555555555555556,
              "#1f9e89"
             ],
             [
              0.6666666666666666,
              "#35b779"
             ],
             [
              0.7777777777777778,
              "#6ece58"
             ],
             [
              0.8888888888888888,
              "#b5de2b"
             ],
             [
              1,
              "#fde725"
             ]
            ],
            "type": "contour"
           }
          ],
          "contourcarpet": [
           {
            "colorbar": {
             "outlinewidth": 1,
             "tickcolor": "rgb(36,36,36)",
             "ticks": "outside"
            },
            "type": "contourcarpet"
           }
          ],
          "heatmap": [
           {
            "colorbar": {
             "outlinewidth": 1,
             "tickcolor": "rgb(36,36,36)",
             "ticks": "outside"
            },
            "colorscale": [
             [
              0,
              "#440154"
             ],
             [
              0.1111111111111111,
              "#482878"
             ],
             [
              0.2222222222222222,
              "#3e4989"
             ],
             [
              0.3333333333333333,
              "#31688e"
             ],
             [
              0.4444444444444444,
              "#26828e"
             ],
             [
              0.5555555555555556,
              "#1f9e89"
             ],
             [
              0.6666666666666666,
              "#35b779"
             ],
             [
              0.7777777777777778,
              "#6ece58"
             ],
             [
              0.8888888888888888,
              "#b5de2b"
             ],
             [
              1,
              "#fde725"
             ]
            ],
            "type": "heatmap"
           }
          ],
          "heatmapgl": [
           {
            "colorbar": {
             "outlinewidth": 1,
             "tickcolor": "rgb(36,36,36)",
             "ticks": "outside"
            },
            "colorscale": [
             [
              0,
              "#440154"
             ],
             [
              0.1111111111111111,
              "#482878"
             ],
             [
              0.2222222222222222,
              "#3e4989"
             ],
             [
              0.3333333333333333,
              "#31688e"
             ],
             [
              0.4444444444444444,
              "#26828e"
             ],
             [
              0.5555555555555556,
              "#1f9e89"
             ],
             [
              0.6666666666666666,
              "#35b779"
             ],
             [
              0.7777777777777778,
              "#6ece58"
             ],
             [
              0.8888888888888888,
              "#b5de2b"
             ],
             [
              1,
              "#fde725"
             ]
            ],
            "type": "heatmapgl"
           }
          ],
          "histogram": [
           {
            "marker": {
             "line": {
              "color": "white",
              "width": 0.6
             }
            },
            "type": "histogram"
           }
          ],
          "histogram2d": [
           {
            "colorbar": {
             "outlinewidth": 1,
             "tickcolor": "rgb(36,36,36)",
             "ticks": "outside"
            },
            "colorscale": [
             [
              0,
              "#440154"
             ],
             [
              0.1111111111111111,
              "#482878"
             ],
             [
              0.2222222222222222,
              "#3e4989"
             ],
             [
              0.3333333333333333,
              "#31688e"
             ],
             [
              0.4444444444444444,
              "#26828e"
             ],
             [
              0.5555555555555556,
              "#1f9e89"
             ],
             [
              0.6666666666666666,
              "#35b779"
             ],
             [
              0.7777777777777778,
              "#6ece58"
             ],
             [
              0.8888888888888888,
              "#b5de2b"
             ],
             [
              1,
              "#fde725"
             ]
            ],
            "type": "histogram2d"
           }
          ],
          "histogram2dcontour": [
           {
            "colorbar": {
             "outlinewidth": 1,
             "tickcolor": "rgb(36,36,36)",
             "ticks": "outside"
            },
            "colorscale": [
             [
              0,
              "#440154"
             ],
             [
              0.1111111111111111,
              "#482878"
             ],
             [
              0.2222222222222222,
              "#3e4989"
             ],
             [
              0.3333333333333333,
              "#31688e"
             ],
             [
              0.4444444444444444,
              "#26828e"
             ],
             [
              0.5555555555555556,
              "#1f9e89"
             ],
             [
              0.6666666666666666,
              "#35b779"
             ],
             [
              0.7777777777777778,
              "#6ece58"
             ],
             [
              0.8888888888888888,
              "#b5de2b"
             ],
             [
              1,
              "#fde725"
             ]
            ],
            "type": "histogram2dcontour"
           }
          ],
          "mesh3d": [
           {
            "colorbar": {
             "outlinewidth": 1,
             "tickcolor": "rgb(36,36,36)",
             "ticks": "outside"
            },
            "type": "mesh3d"
           }
          ],
          "parcoords": [
           {
            "line": {
             "colorbar": {
              "outlinewidth": 1,
              "tickcolor": "rgb(36,36,36)",
              "ticks": "outside"
             }
            },
            "type": "parcoords"
           }
          ],
          "pie": [
           {
            "automargin": true,
            "type": "pie"
           }
          ],
          "scatter": [
           {
            "fillpattern": {
             "fillmode": "overlay",
             "size": 10,
             "solidity": 0.2
            },
            "type": "scatter"
           }
          ],
          "scatter3d": [
           {
            "line": {
             "colorbar": {
              "outlinewidth": 1,
              "tickcolor": "rgb(36,36,36)",
              "ticks": "outside"
             }
            },
            "marker": {
             "colorbar": {
              "outlinewidth": 1,
              "tickcolor": "rgb(36,36,36)",
              "ticks": "outside"
             }
            },
            "type": "scatter3d"
           }
          ],
          "scattercarpet": [
           {
            "marker": {
             "colorbar": {
              "outlinewidth": 1,
              "tickcolor": "rgb(36,36,36)",
              "ticks": "outside"
             }
            },
            "type": "scattercarpet"
           }
          ],
          "scattergeo": [
           {
            "marker": {
             "colorbar": {
              "outlinewidth": 1,
              "tickcolor": "rgb(36,36,36)",
              "ticks": "outside"
             }
            },
            "type": "scattergeo"
           }
          ],
          "scattergl": [
           {
            "marker": {
             "colorbar": {
              "outlinewidth": 1,
              "tickcolor": "rgb(36,36,36)",
              "ticks": "outside"
             }
            },
            "type": "scattergl"
           }
          ],
          "scattermapbox": [
           {
            "marker": {
             "colorbar": {
              "outlinewidth": 1,
              "tickcolor": "rgb(36,36,36)",
              "ticks": "outside"
             }
            },
            "type": "scattermapbox"
           }
          ],
          "scatterpolar": [
           {
            "marker": {
             "colorbar": {
              "outlinewidth": 1,
              "tickcolor": "rgb(36,36,36)",
              "ticks": "outside"
             }
            },
            "type": "scatterpolar"
           }
          ],
          "scatterpolargl": [
           {
            "marker": {
             "colorbar": {
              "outlinewidth": 1,
              "tickcolor": "rgb(36,36,36)",
              "ticks": "outside"
             }
            },
            "type": "scatterpolargl"
           }
          ],
          "scatterternary": [
           {
            "marker": {
             "colorbar": {
              "outlinewidth": 1,
              "tickcolor": "rgb(36,36,36)",
              "ticks": "outside"
             }
            },
            "type": "scatterternary"
           }
          ],
          "surface": [
           {
            "colorbar": {
             "outlinewidth": 1,
             "tickcolor": "rgb(36,36,36)",
             "ticks": "outside"
            },
            "colorscale": [
             [
              0,
              "#440154"
             ],
             [
              0.1111111111111111,
              "#482878"
             ],
             [
              0.2222222222222222,
              "#3e4989"
             ],
             [
              0.3333333333333333,
              "#31688e"
             ],
             [
              0.4444444444444444,
              "#26828e"
             ],
             [
              0.5555555555555556,
              "#1f9e89"
             ],
             [
              0.6666666666666666,
              "#35b779"
             ],
             [
              0.7777777777777778,
              "#6ece58"
             ],
             [
              0.8888888888888888,
              "#b5de2b"
             ],
             [
              1,
              "#fde725"
             ]
            ],
            "type": "surface"
           }
          ],
          "table": [
           {
            "cells": {
             "fill": {
              "color": "rgb(237,237,237)"
             },
             "line": {
              "color": "white"
             }
            },
            "header": {
             "fill": {
              "color": "rgb(217,217,217)"
             },
             "line": {
              "color": "white"
             }
            },
            "type": "table"
           }
          ]
         },
         "layout": {
          "annotationdefaults": {
           "arrowhead": 0,
           "arrowwidth": 1
          },
          "autotypenumbers": "strict",
          "coloraxis": {
           "colorbar": {
            "outlinewidth": 1,
            "tickcolor": "rgb(36,36,36)",
            "ticks": "outside"
           }
          },
          "colorscale": {
           "diverging": [
            [
             0,
             "rgb(103,0,31)"
            ],
            [
             0.1,
             "rgb(178,24,43)"
            ],
            [
             0.2,
             "rgb(214,96,77)"
            ],
            [
             0.3,
             "rgb(244,165,130)"
            ],
            [
             0.4,
             "rgb(253,219,199)"
            ],
            [
             0.5,
             "rgb(247,247,247)"
            ],
            [
             0.6,
             "rgb(209,229,240)"
            ],
            [
             0.7,
             "rgb(146,197,222)"
            ],
            [
             0.8,
             "rgb(67,147,195)"
            ],
            [
             0.9,
             "rgb(33,102,172)"
            ],
            [
             1,
             "rgb(5,48,97)"
            ]
           ],
           "sequential": [
            [
             0,
             "#440154"
            ],
            [
             0.1111111111111111,
             "#482878"
            ],
            [
             0.2222222222222222,
             "#3e4989"
            ],
            [
             0.3333333333333333,
             "#31688e"
            ],
            [
             0.4444444444444444,
             "#26828e"
            ],
            [
             0.5555555555555556,
             "#1f9e89"
            ],
            [
             0.6666666666666666,
             "#35b779"
            ],
            [
             0.7777777777777778,
             "#6ece58"
            ],
            [
             0.8888888888888888,
             "#b5de2b"
            ],
            [
             1,
             "#fde725"
            ]
           ],
           "sequentialminus": [
            [
             0,
             "#440154"
            ],
            [
             0.1111111111111111,
             "#482878"
            ],
            [
             0.2222222222222222,
             "#3e4989"
            ],
            [
             0.3333333333333333,
             "#31688e"
            ],
            [
             0.4444444444444444,
             "#26828e"
            ],
            [
             0.5555555555555556,
             "#1f9e89"
            ],
            [
             0.6666666666666666,
             "#35b779"
            ],
            [
             0.7777777777777778,
             "#6ece58"
            ],
            [
             0.8888888888888888,
             "#b5de2b"
            ],
            [
             1,
             "#fde725"
            ]
           ]
          },
          "colorway": [
           "#1F77B4",
           "#FF7F0E",
           "#2CA02C",
           "#D62728",
           "#9467BD",
           "#8C564B",
           "#E377C2",
           "#7F7F7F",
           "#BCBD22",
           "#17BECF"
          ],
          "font": {
           "color": "rgb(36,36,36)"
          },
          "geo": {
           "bgcolor": "white",
           "lakecolor": "white",
           "landcolor": "white",
           "showlakes": true,
           "showland": true,
           "subunitcolor": "white"
          },
          "hoverlabel": {
           "align": "left"
          },
          "hovermode": "closest",
          "mapbox": {
           "style": "light"
          },
          "paper_bgcolor": "white",
          "plot_bgcolor": "white",
          "polar": {
           "angularaxis": {
            "gridcolor": "rgb(232,232,232)",
            "linecolor": "rgb(36,36,36)",
            "showgrid": false,
            "showline": true,
            "ticks": "outside"
           },
           "bgcolor": "white",
           "radialaxis": {
            "gridcolor": "rgb(232,232,232)",
            "linecolor": "rgb(36,36,36)",
            "showgrid": false,
            "showline": true,
            "ticks": "outside"
           }
          },
          "scene": {
           "xaxis": {
            "backgroundcolor": "white",
            "gridcolor": "rgb(232,232,232)",
            "gridwidth": 2,
            "linecolor": "rgb(36,36,36)",
            "showbackground": true,
            "showgrid": false,
            "showline": true,
            "ticks": "outside",
            "zeroline": false,
            "zerolinecolor": "rgb(36,36,36)"
           },
           "yaxis": {
            "backgroundcolor": "white",
            "gridcolor": "rgb(232,232,232)",
            "gridwidth": 2,
            "linecolor": "rgb(36,36,36)",
            "showbackground": true,
            "showgrid": false,
            "showline": true,
            "ticks": "outside",
            "zeroline": false,
            "zerolinecolor": "rgb(36,36,36)"
           },
           "zaxis": {
            "backgroundcolor": "white",
            "gridcolor": "rgb(232,232,232)",
            "gridwidth": 2,
            "linecolor": "rgb(36,36,36)",
            "showbackground": true,
            "showgrid": false,
            "showline": true,
            "ticks": "outside",
            "zeroline": false,
            "zerolinecolor": "rgb(36,36,36)"
           }
          },
          "shapedefaults": {
           "fillcolor": "black",
           "line": {
            "width": 0
           },
           "opacity": 0.3
          },
          "ternary": {
           "aaxis": {
            "gridcolor": "rgb(232,232,232)",
            "linecolor": "rgb(36,36,36)",
            "showgrid": false,
            "showline": true,
            "ticks": "outside"
           },
           "baxis": {
            "gridcolor": "rgb(232,232,232)",
            "linecolor": "rgb(36,36,36)",
            "showgrid": false,
            "showline": true,
            "ticks": "outside"
           },
           "bgcolor": "white",
           "caxis": {
            "gridcolor": "rgb(232,232,232)",
            "linecolor": "rgb(36,36,36)",
            "showgrid": false,
            "showline": true,
            "ticks": "outside"
           }
          },
          "title": {
           "x": 0.05
          },
          "xaxis": {
           "automargin": true,
           "gridcolor": "rgb(232,232,232)",
           "linecolor": "rgb(36,36,36)",
           "showgrid": false,
           "showline": true,
           "ticks": "outside",
           "title": {
            "standoff": 15
           },
           "zeroline": false,
           "zerolinecolor": "rgb(36,36,36)"
          },
          "yaxis": {
           "automargin": true,
           "gridcolor": "rgb(232,232,232)",
           "linecolor": "rgb(36,36,36)",
           "showgrid": false,
           "showline": true,
           "ticks": "outside",
           "title": {
            "standoff": 15
           },
           "zeroline": false,
           "zerolinecolor": "rgb(36,36,36)"
          }
         }
        },
        "title": {
         "text": "Number of Unique Stores by Product （商店的数量）"
        },
        "xaxis": {
         "title": {
          "text": "Product Name"
         }
        },
        "yaxis": {
         "title": {
          "text": "Number of Unique Stores"
         }
        }
       }
      }
     },
     "metadata": {},
     "output_type": "display_data"
    },
    {
     "data": {
      "application/vnd.plotly.v1+json": {
       "config": {
        "plotlyServerURL": "https://plot.ly"
       },
       "data": [
        {
         "name": "Store Name",
         "text": [
          185,
          64,
          52,
          50,
          49,
          49,
          47,
          42,
          40,
          25,
          15,
          12,
          7
         ],
         "textposition": "auto",
         "texttemplate": "%{text:.2f}",
         "type": "bar",
         "x": [
          "calligraphy prints (书法印刷品)",
          "paper lanterns (纸灯笼)",
          "bead bracelets and necklaces (珠子手链和项链)",
          "name seals (印章)",
          "chinese pottery (中国陶器)",
          "chinese washi tape (中国和纸胶带)",
          "chinese art stickers (中国艺术贴纸)",
          "chinese magnets (中国冰箱贴)",
          "brushes and calligraphy tools (笔和书法工具)",
          "chinese bookmarks (中国书签)",
          "chinese incense (中国香)",
          "chinese mid autumn gift sets (中秋节礼品套装)",
          "chinese bamboo art (中国竹艺)"
         ],
         "y": [
          185,
          64,
          52,
          50,
          49,
          49,
          47,
          42,
          40,
          25,
          15,
          12,
          7
         ]
        }
       ],
       "layout": {
        "template": {
         "data": {
          "bar": [
           {
            "error_x": {
             "color": "rgb(36,36,36)"
            },
            "error_y": {
             "color": "rgb(36,36,36)"
            },
            "marker": {
             "line": {
              "color": "white",
              "width": 0.5
             },
             "pattern": {
              "fillmode": "overlay",
              "size": 10,
              "solidity": 0.2
             }
            },
            "type": "bar"
           }
          ],
          "barpolar": [
           {
            "marker": {
             "line": {
              "color": "white",
              "width": 0.5
             },
             "pattern": {
              "fillmode": "overlay",
              "size": 10,
              "solidity": 0.2
             }
            },
            "type": "barpolar"
           }
          ],
          "carpet": [
           {
            "aaxis": {
             "endlinecolor": "rgb(36,36,36)",
             "gridcolor": "white",
             "linecolor": "white",
             "minorgridcolor": "white",
             "startlinecolor": "rgb(36,36,36)"
            },
            "baxis": {
             "endlinecolor": "rgb(36,36,36)",
             "gridcolor": "white",
             "linecolor": "white",
             "minorgridcolor": "white",
             "startlinecolor": "rgb(36,36,36)"
            },
            "type": "carpet"
           }
          ],
          "choropleth": [
           {
            "colorbar": {
             "outlinewidth": 1,
             "tickcolor": "rgb(36,36,36)",
             "ticks": "outside"
            },
            "type": "choropleth"
           }
          ],
          "contour": [
           {
            "colorbar": {
             "outlinewidth": 1,
             "tickcolor": "rgb(36,36,36)",
             "ticks": "outside"
            },
            "colorscale": [
             [
              0,
              "#440154"
             ],
             [
              0.1111111111111111,
              "#482878"
             ],
             [
              0.2222222222222222,
              "#3e4989"
             ],
             [
              0.3333333333333333,
              "#31688e"
             ],
             [
              0.4444444444444444,
              "#26828e"
             ],
             [
              0.5555555555555556,
              "#1f9e89"
             ],
             [
              0.6666666666666666,
              "#35b779"
             ],
             [
              0.7777777777777778,
              "#6ece58"
             ],
             [
              0.8888888888888888,
              "#b5de2b"
             ],
             [
              1,
              "#fde725"
             ]
            ],
            "type": "contour"
           }
          ],
          "contourcarpet": [
           {
            "colorbar": {
             "outlinewidth": 1,
             "tickcolor": "rgb(36,36,36)",
             "ticks": "outside"
            },
            "type": "contourcarpet"
           }
          ],
          "heatmap": [
           {
            "colorbar": {
             "outlinewidth": 1,
             "tickcolor": "rgb(36,36,36)",
             "ticks": "outside"
            },
            "colorscale": [
             [
              0,
              "#440154"
             ],
             [
              0.1111111111111111,
              "#482878"
             ],
             [
              0.2222222222222222,
              "#3e4989"
             ],
             [
              0.3333333333333333,
              "#31688e"
             ],
             [
              0.4444444444444444,
              "#26828e"
             ],
             [
              0.5555555555555556,
              "#1f9e89"
             ],
             [
              0.6666666666666666,
              "#35b779"
             ],
             [
              0.7777777777777778,
              "#6ece58"
             ],
             [
              0.8888888888888888,
              "#b5de2b"
             ],
             [
              1,
              "#fde725"
             ]
            ],
            "type": "heatmap"
           }
          ],
          "heatmapgl": [
           {
            "colorbar": {
             "outlinewidth": 1,
             "tickcolor": "rgb(36,36,36)",
             "ticks": "outside"
            },
            "colorscale": [
             [
              0,
              "#440154"
             ],
             [
              0.1111111111111111,
              "#482878"
             ],
             [
              0.2222222222222222,
              "#3e4989"
             ],
             [
              0.3333333333333333,
              "#31688e"
             ],
             [
              0.4444444444444444,
              "#26828e"
             ],
             [
              0.5555555555555556,
              "#1f9e89"
             ],
             [
              0.6666666666666666,
              "#35b779"
             ],
             [
              0.7777777777777778,
              "#6ece58"
             ],
             [
              0.8888888888888888,
              "#b5de2b"
             ],
             [
              1,
              "#fde725"
             ]
            ],
            "type": "heatmapgl"
           }
          ],
          "histogram": [
           {
            "marker": {
             "line": {
              "color": "white",
              "width": 0.6
             }
            },
            "type": "histogram"
           }
          ],
          "histogram2d": [
           {
            "colorbar": {
             "outlinewidth": 1,
             "tickcolor": "rgb(36,36,36)",
             "ticks": "outside"
            },
            "colorscale": [
             [
              0,
              "#440154"
             ],
             [
              0.1111111111111111,
              "#482878"
             ],
             [
              0.2222222222222222,
              "#3e4989"
             ],
             [
              0.3333333333333333,
              "#31688e"
             ],
             [
              0.4444444444444444,
              "#26828e"
             ],
             [
              0.5555555555555556,
              "#1f9e89"
             ],
             [
              0.6666666666666666,
              "#35b779"
             ],
             [
              0.7777777777777778,
              "#6ece58"
             ],
             [
              0.8888888888888888,
              "#b5de2b"
             ],
             [
              1,
              "#fde725"
             ]
            ],
            "type": "histogram2d"
           }
          ],
          "histogram2dcontour": [
           {
            "colorbar": {
             "outlinewidth": 1,
             "tickcolor": "rgb(36,36,36)",
             "ticks": "outside"
            },
            "colorscale": [
             [
              0,
              "#440154"
             ],
             [
              0.1111111111111111,
              "#482878"
             ],
             [
              0.2222222222222222,
              "#3e4989"
             ],
             [
              0.3333333333333333,
              "#31688e"
             ],
             [
              0.4444444444444444,
              "#26828e"
             ],
             [
              0.5555555555555556,
              "#1f9e89"
             ],
             [
              0.6666666666666666,
              "#35b779"
             ],
             [
              0.7777777777777778,
              "#6ece58"
             ],
             [
              0.8888888888888888,
              "#b5de2b"
             ],
             [
              1,
              "#fde725"
             ]
            ],
            "type": "histogram2dcontour"
           }
          ],
          "mesh3d": [
           {
            "colorbar": {
             "outlinewidth": 1,
             "tickcolor": "rgb(36,36,36)",
             "ticks": "outside"
            },
            "type": "mesh3d"
           }
          ],
          "parcoords": [
           {
            "line": {
             "colorbar": {
              "outlinewidth": 1,
              "tickcolor": "rgb(36,36,36)",
              "ticks": "outside"
             }
            },
            "type": "parcoords"
           }
          ],
          "pie": [
           {
            "automargin": true,
            "type": "pie"
           }
          ],
          "scatter": [
           {
            "fillpattern": {
             "fillmode": "overlay",
             "size": 10,
             "solidity": 0.2
            },
            "type": "scatter"
           }
          ],
          "scatter3d": [
           {
            "line": {
             "colorbar": {
              "outlinewidth": 1,
              "tickcolor": "rgb(36,36,36)",
              "ticks": "outside"
             }
            },
            "marker": {
             "colorbar": {
              "outlinewidth": 1,
              "tickcolor": "rgb(36,36,36)",
              "ticks": "outside"
             }
            },
            "type": "scatter3d"
           }
          ],
          "scattercarpet": [
           {
            "marker": {
             "colorbar": {
              "outlinewidth": 1,
              "tickcolor": "rgb(36,36,36)",
              "ticks": "outside"
             }
            },
            "type": "scattercarpet"
           }
          ],
          "scattergeo": [
           {
            "marker": {
             "colorbar": {
              "outlinewidth": 1,
              "tickcolor": "rgb(36,36,36)",
              "ticks": "outside"
             }
            },
            "type": "scattergeo"
           }
          ],
          "scattergl": [
           {
            "marker": {
             "colorbar": {
              "outlinewidth": 1,
              "tickcolor": "rgb(36,36,36)",
              "ticks": "outside"
             }
            },
            "type": "scattergl"
           }
          ],
          "scattermapbox": [
           {
            "marker": {
             "colorbar": {
              "outlinewidth": 1,
              "tickcolor": "rgb(36,36,36)",
              "ticks": "outside"
             }
            },
            "type": "scattermapbox"
           }
          ],
          "scatterpolar": [
           {
            "marker": {
             "colorbar": {
              "outlinewidth": 1,
              "tickcolor": "rgb(36,36,36)",
              "ticks": "outside"
             }
            },
            "type": "scatterpolar"
           }
          ],
          "scatterpolargl": [
           {
            "marker": {
             "colorbar": {
              "outlinewidth": 1,
              "tickcolor": "rgb(36,36,36)",
              "ticks": "outside"
             }
            },
            "type": "scatterpolargl"
           }
          ],
          "scatterternary": [
           {
            "marker": {
             "colorbar": {
              "outlinewidth": 1,
              "tickcolor": "rgb(36,36,36)",
              "ticks": "outside"
             }
            },
            "type": "scatterternary"
           }
          ],
          "surface": [
           {
            "colorbar": {
             "outlinewidth": 1,
             "tickcolor": "rgb(36,36,36)",
             "ticks": "outside"
            },
            "colorscale": [
             [
              0,
              "#440154"
             ],
             [
              0.1111111111111111,
              "#482878"
             ],
             [
              0.2222222222222222,
              "#3e4989"
             ],
             [
              0.3333333333333333,
              "#31688e"
             ],
             [
              0.4444444444444444,
              "#26828e"
             ],
             [
              0.5555555555555556,
              "#1f9e89"
             ],
             [
              0.6666666666666666,
              "#35b779"
             ],
             [
              0.7777777777777778,
              "#6ece58"
             ],
             [
              0.8888888888888888,
              "#b5de2b"
             ],
             [
              1,
              "#fde725"
             ]
            ],
            "type": "surface"
           }
          ],
          "table": [
           {
            "cells": {
             "fill": {
              "color": "rgb(237,237,237)"
             },
             "line": {
              "color": "white"
             }
            },
            "header": {
             "fill": {
              "color": "rgb(217,217,217)"
             },
             "line": {
              "color": "white"
             }
            },
            "type": "table"
           }
          ]
         },
         "layout": {
          "annotationdefaults": {
           "arrowhead": 0,
           "arrowwidth": 1
          },
          "autotypenumbers": "strict",
          "coloraxis": {
           "colorbar": {
            "outlinewidth": 1,
            "tickcolor": "rgb(36,36,36)",
            "ticks": "outside"
           }
          },
          "colorscale": {
           "diverging": [
            [
             0,
             "rgb(103,0,31)"
            ],
            [
             0.1,
             "rgb(178,24,43)"
            ],
            [
             0.2,
             "rgb(214,96,77)"
            ],
            [
             0.3,
             "rgb(244,165,130)"
            ],
            [
             0.4,
             "rgb(253,219,199)"
            ],
            [
             0.5,
             "rgb(247,247,247)"
            ],
            [
             0.6,
             "rgb(209,229,240)"
            ],
            [
             0.7,
             "rgb(146,197,222)"
            ],
            [
             0.8,
             "rgb(67,147,195)"
            ],
            [
             0.9,
             "rgb(33,102,172)"
            ],
            [
             1,
             "rgb(5,48,97)"
            ]
           ],
           "sequential": [
            [
             0,
             "#440154"
            ],
            [
             0.1111111111111111,
             "#482878"
            ],
            [
             0.2222222222222222,
             "#3e4989"
            ],
            [
             0.3333333333333333,
             "#31688e"
            ],
            [
             0.4444444444444444,
             "#26828e"
            ],
            [
             0.5555555555555556,
             "#1f9e89"
            ],
            [
             0.6666666666666666,
             "#35b779"
            ],
            [
             0.7777777777777778,
             "#6ece58"
            ],
            [
             0.8888888888888888,
             "#b5de2b"
            ],
            [
             1,
             "#fde725"
            ]
           ],
           "sequentialminus": [
            [
             0,
             "#440154"
            ],
            [
             0.1111111111111111,
             "#482878"
            ],
            [
             0.2222222222222222,
             "#3e4989"
            ],
            [
             0.3333333333333333,
             "#31688e"
            ],
            [
             0.4444444444444444,
             "#26828e"
            ],
            [
             0.5555555555555556,
             "#1f9e89"
            ],
            [
             0.6666666666666666,
             "#35b779"
            ],
            [
             0.7777777777777778,
             "#6ece58"
            ],
            [
             0.8888888888888888,
             "#b5de2b"
            ],
            [
             1,
             "#fde725"
            ]
           ]
          },
          "colorway": [
           "#1F77B4",
           "#FF7F0E",
           "#2CA02C",
           "#D62728",
           "#9467BD",
           "#8C564B",
           "#E377C2",
           "#7F7F7F",
           "#BCBD22",
           "#17BECF"
          ],
          "font": {
           "color": "rgb(36,36,36)"
          },
          "geo": {
           "bgcolor": "white",
           "lakecolor": "white",
           "landcolor": "white",
           "showlakes": true,
           "showland": true,
           "subunitcolor": "white"
          },
          "hoverlabel": {
           "align": "left"
          },
          "hovermode": "closest",
          "mapbox": {
           "style": "light"
          },
          "paper_bgcolor": "white",
          "plot_bgcolor": "white",
          "polar": {
           "angularaxis": {
            "gridcolor": "rgb(232,232,232)",
            "linecolor": "rgb(36,36,36)",
            "showgrid": false,
            "showline": true,
            "ticks": "outside"
           },
           "bgcolor": "white",
           "radialaxis": {
            "gridcolor": "rgb(232,232,232)",
            "linecolor": "rgb(36,36,36)",
            "showgrid": false,
            "showline": true,
            "ticks": "outside"
           }
          },
          "scene": {
           "xaxis": {
            "backgroundcolor": "white",
            "gridcolor": "rgb(232,232,232)",
            "gridwidth": 2,
            "linecolor": "rgb(36,36,36)",
            "showbackground": true,
            "showgrid": false,
            "showline": true,
            "ticks": "outside",
            "zeroline": false,
            "zerolinecolor": "rgb(36,36,36)"
           },
           "yaxis": {
            "backgroundcolor": "white",
            "gridcolor": "rgb(232,232,232)",
            "gridwidth": 2,
            "linecolor": "rgb(36,36,36)",
            "showbackground": true,
            "showgrid": false,
            "showline": true,
            "ticks": "outside",
            "zeroline": false,
            "zerolinecolor": "rgb(36,36,36)"
           },
           "zaxis": {
            "backgroundcolor": "white",
            "gridcolor": "rgb(232,232,232)",
            "gridwidth": 2,
            "linecolor": "rgb(36,36,36)",
            "showbackground": true,
            "showgrid": false,
            "showline": true,
            "ticks": "outside",
            "zeroline": false,
            "zerolinecolor": "rgb(36,36,36)"
           }
          },
          "shapedefaults": {
           "fillcolor": "black",
           "line": {
            "width": 0
           },
           "opacity": 0.3
          },
          "ternary": {
           "aaxis": {
            "gridcolor": "rgb(232,232,232)",
            "linecolor": "rgb(36,36,36)",
            "showgrid": false,
            "showline": true,
            "ticks": "outside"
           },
           "baxis": {
            "gridcolor": "rgb(232,232,232)",
            "linecolor": "rgb(36,36,36)",
            "showgrid": false,
            "showline": true,
            "ticks": "outside"
           },
           "bgcolor": "white",
           "caxis": {
            "gridcolor": "rgb(232,232,232)",
            "linecolor": "rgb(36,36,36)",
            "showgrid": false,
            "showline": true,
            "ticks": "outside"
           }
          },
          "title": {
           "x": 0.05
          },
          "xaxis": {
           "automargin": true,
           "gridcolor": "rgb(232,232,232)",
           "linecolor": "rgb(36,36,36)",
           "showgrid": false,
           "showline": true,
           "ticks": "outside",
           "title": {
            "standoff": 15
           },
           "zeroline": false,
           "zerolinecolor": "rgb(36,36,36)"
          },
          "yaxis": {
           "automargin": true,
           "gridcolor": "rgb(232,232,232)",
           "linecolor": "rgb(36,36,36)",
           "showgrid": false,
           "showline": true,
           "ticks": "outside",
           "title": {
            "standoff": 15
           },
           "zeroline": false,
           "zerolinecolor": "rgb(36,36,36)"
          }
         }
        },
        "title": {
         "text": "Number of Unique Stores by Product (With Sales) （有销售量的商店的数量）"
        },
        "xaxis": {
         "title": {
          "text": "Product Name"
         }
        },
        "yaxis": {
         "title": {
          "text": "Number of Unique Stores"
         }
        }
       }
      }
     },
     "metadata": {},
     "output_type": "display_data"
    },
    {
     "data": {
      "application/vnd.plotly.v1+json": {
       "config": {
        "plotlyServerURL": "https://plot.ly"
       },
       "data": [
        {
         "name": "Percentage",
         "text": [
          0.8448275862068966,
          0.6885245901639344,
          0.6666666666666666,
          0.6438356164383562,
          0.6349206349206349,
          0.5813953488372093,
          0.5813953488372093,
          0.5531914893617021,
          0.5203252032520326,
          0.5,
          0.3983739837398374,
          0.38461538461538464,
          0.3684210526315789
         ],
         "textposition": "auto",
         "texttemplate": "%{text:.2f}",
         "type": "bar",
         "x": [
          "chinese washi tape (中国和纸胶带)",
          "chinese magnets (中国冰箱贴)",
          "chinese mid autumn gift sets (中秋节礼品套装)",
          "chinese art stickers (中国艺术贴纸)",
          "brushes and calligraphy tools (笔和书法工具)",
          "chinese bookmarks (中国书签)",
          "name seals (印章)",
          "bead bracelets and necklaces (珠子手链和项链)",
          "paper lanterns (纸灯笼)",
          "calligraphy prints (书法印刷品)",
          "chinese pottery (中国陶器)",
          "chinese incense (中国香)",
          "chinese bamboo art (中国竹艺)"
         ],
         "y": [
          0.8448275862068966,
          0.6885245901639344,
          0.6666666666666666,
          0.6438356164383562,
          0.6349206349206349,
          0.5813953488372093,
          0.5813953488372093,
          0.5531914893617021,
          0.5203252032520326,
          0.5,
          0.3983739837398374,
          0.38461538461538464,
          0.3684210526315789
         ]
        }
       ],
       "layout": {
        "template": {
         "data": {
          "bar": [
           {
            "error_x": {
             "color": "rgb(36,36,36)"
            },
            "error_y": {
             "color": "rgb(36,36,36)"
            },
            "marker": {
             "line": {
              "color": "white",
              "width": 0.5
             },
             "pattern": {
              "fillmode": "overlay",
              "size": 10,
              "solidity": 0.2
             }
            },
            "type": "bar"
           }
          ],
          "barpolar": [
           {
            "marker": {
             "line": {
              "color": "white",
              "width": 0.5
             },
             "pattern": {
              "fillmode": "overlay",
              "size": 10,
              "solidity": 0.2
             }
            },
            "type": "barpolar"
           }
          ],
          "carpet": [
           {
            "aaxis": {
             "endlinecolor": "rgb(36,36,36)",
             "gridcolor": "white",
             "linecolor": "white",
             "minorgridcolor": "white",
             "startlinecolor": "rgb(36,36,36)"
            },
            "baxis": {
             "endlinecolor": "rgb(36,36,36)",
             "gridcolor": "white",
             "linecolor": "white",
             "minorgridcolor": "white",
             "startlinecolor": "rgb(36,36,36)"
            },
            "type": "carpet"
           }
          ],
          "choropleth": [
           {
            "colorbar": {
             "outlinewidth": 1,
             "tickcolor": "rgb(36,36,36)",
             "ticks": "outside"
            },
            "type": "choropleth"
           }
          ],
          "contour": [
           {
            "colorbar": {
             "outlinewidth": 1,
             "tickcolor": "rgb(36,36,36)",
             "ticks": "outside"
            },
            "colorscale": [
             [
              0,
              "#440154"
             ],
             [
              0.1111111111111111,
              "#482878"
             ],
             [
              0.2222222222222222,
              "#3e4989"
             ],
             [
              0.3333333333333333,
              "#31688e"
             ],
             [
              0.4444444444444444,
              "#26828e"
             ],
             [
              0.5555555555555556,
              "#1f9e89"
             ],
             [
              0.6666666666666666,
              "#35b779"
             ],
             [
              0.7777777777777778,
              "#6ece58"
             ],
             [
              0.8888888888888888,
              "#b5de2b"
             ],
             [
              1,
              "#fde725"
             ]
            ],
            "type": "contour"
           }
          ],
          "contourcarpet": [
           {
            "colorbar": {
             "outlinewidth": 1,
             "tickcolor": "rgb(36,36,36)",
             "ticks": "outside"
            },
            "type": "contourcarpet"
           }
          ],
          "heatmap": [
           {
            "colorbar": {
             "outlinewidth": 1,
             "tickcolor": "rgb(36,36,36)",
             "ticks": "outside"
            },
            "colorscale": [
             [
              0,
              "#440154"
             ],
             [
              0.1111111111111111,
              "#482878"
             ],
             [
              0.2222222222222222,
              "#3e4989"
             ],
             [
              0.3333333333333333,
              "#31688e"
             ],
             [
              0.4444444444444444,
              "#26828e"
             ],
             [
              0.5555555555555556,
              "#1f9e89"
             ],
             [
              0.6666666666666666,
              "#35b779"
             ],
             [
              0.7777777777777778,
              "#6ece58"
             ],
             [
              0.8888888888888888,
              "#b5de2b"
             ],
             [
              1,
              "#fde725"
             ]
            ],
            "type": "heatmap"
           }
          ],
          "heatmapgl": [
           {
            "colorbar": {
             "outlinewidth": 1,
             "tickcolor": "rgb(36,36,36)",
             "ticks": "outside"
            },
            "colorscale": [
             [
              0,
              "#440154"
             ],
             [
              0.1111111111111111,
              "#482878"
             ],
             [
              0.2222222222222222,
              "#3e4989"
             ],
             [
              0.3333333333333333,
              "#31688e"
             ],
             [
              0.4444444444444444,
              "#26828e"
             ],
             [
              0.5555555555555556,
              "#1f9e89"
             ],
             [
              0.6666666666666666,
              "#35b779"
             ],
             [
              0.7777777777777778,
              "#6ece58"
             ],
             [
              0.8888888888888888,
              "#b5de2b"
             ],
             [
              1,
              "#fde725"
             ]
            ],
            "type": "heatmapgl"
           }
          ],
          "histogram": [
           {
            "marker": {
             "line": {
              "color": "white",
              "width": 0.6
             }
            },
            "type": "histogram"
           }
          ],
          "histogram2d": [
           {
            "colorbar": {
             "outlinewidth": 1,
             "tickcolor": "rgb(36,36,36)",
             "ticks": "outside"
            },
            "colorscale": [
             [
              0,
              "#440154"
             ],
             [
              0.1111111111111111,
              "#482878"
             ],
             [
              0.2222222222222222,
              "#3e4989"
             ],
             [
              0.3333333333333333,
              "#31688e"
             ],
             [
              0.4444444444444444,
              "#26828e"
             ],
             [
              0.5555555555555556,
              "#1f9e89"
             ],
             [
              0.6666666666666666,
              "#35b779"
             ],
             [
              0.7777777777777778,
              "#6ece58"
             ],
             [
              0.8888888888888888,
              "#b5de2b"
             ],
             [
              1,
              "#fde725"
             ]
            ],
            "type": "histogram2d"
           }
          ],
          "histogram2dcontour": [
           {
            "colorbar": {
             "outlinewidth": 1,
             "tickcolor": "rgb(36,36,36)",
             "ticks": "outside"
            },
            "colorscale": [
             [
              0,
              "#440154"
             ],
             [
              0.1111111111111111,
              "#482878"
             ],
             [
              0.2222222222222222,
              "#3e4989"
             ],
             [
              0.3333333333333333,
              "#31688e"
             ],
             [
              0.4444444444444444,
              "#26828e"
             ],
             [
              0.5555555555555556,
              "#1f9e89"
             ],
             [
              0.6666666666666666,
              "#35b779"
             ],
             [
              0.7777777777777778,
              "#6ece58"
             ],
             [
              0.8888888888888888,
              "#b5de2b"
             ],
             [
              1,
              "#fde725"
             ]
            ],
            "type": "histogram2dcontour"
           }
          ],
          "mesh3d": [
           {
            "colorbar": {
             "outlinewidth": 1,
             "tickcolor": "rgb(36,36,36)",
             "ticks": "outside"
            },
            "type": "mesh3d"
           }
          ],
          "parcoords": [
           {
            "line": {
             "colorbar": {
              "outlinewidth": 1,
              "tickcolor": "rgb(36,36,36)",
              "ticks": "outside"
             }
            },
            "type": "parcoords"
           }
          ],
          "pie": [
           {
            "automargin": true,
            "type": "pie"
           }
          ],
          "scatter": [
           {
            "fillpattern": {
             "fillmode": "overlay",
             "size": 10,
             "solidity": 0.2
            },
            "type": "scatter"
           }
          ],
          "scatter3d": [
           {
            "line": {
             "colorbar": {
              "outlinewidth": 1,
              "tickcolor": "rgb(36,36,36)",
              "ticks": "outside"
             }
            },
            "marker": {
             "colorbar": {
              "outlinewidth": 1,
              "tickcolor": "rgb(36,36,36)",
              "ticks": "outside"
             }
            },
            "type": "scatter3d"
           }
          ],
          "scattercarpet": [
           {
            "marker": {
             "colorbar": {
              "outlinewidth": 1,
              "tickcolor": "rgb(36,36,36)",
              "ticks": "outside"
             }
            },
            "type": "scattercarpet"
           }
          ],
          "scattergeo": [
           {
            "marker": {
             "colorbar": {
              "outlinewidth": 1,
              "tickcolor": "rgb(36,36,36)",
              "ticks": "outside"
             }
            },
            "type": "scattergeo"
           }
          ],
          "scattergl": [
           {
            "marker": {
             "colorbar": {
              "outlinewidth": 1,
              "tickcolor": "rgb(36,36,36)",
              "ticks": "outside"
             }
            },
            "type": "scattergl"
           }
          ],
          "scattermapbox": [
           {
            "marker": {
             "colorbar": {
              "outlinewidth": 1,
              "tickcolor": "rgb(36,36,36)",
              "ticks": "outside"
             }
            },
            "type": "scattermapbox"
           }
          ],
          "scatterpolar": [
           {
            "marker": {
             "colorbar": {
              "outlinewidth": 1,
              "tickcolor": "rgb(36,36,36)",
              "ticks": "outside"
             }
            },
            "type": "scatterpolar"
           }
          ],
          "scatterpolargl": [
           {
            "marker": {
             "colorbar": {
              "outlinewidth": 1,
              "tickcolor": "rgb(36,36,36)",
              "ticks": "outside"
             }
            },
            "type": "scatterpolargl"
           }
          ],
          "scatterternary": [
           {
            "marker": {
             "colorbar": {
              "outlinewidth": 1,
              "tickcolor": "rgb(36,36,36)",
              "ticks": "outside"
             }
            },
            "type": "scatterternary"
           }
          ],
          "surface": [
           {
            "colorbar": {
             "outlinewidth": 1,
             "tickcolor": "rgb(36,36,36)",
             "ticks": "outside"
            },
            "colorscale": [
             [
              0,
              "#440154"
             ],
             [
              0.1111111111111111,
              "#482878"
             ],
             [
              0.2222222222222222,
              "#3e4989"
             ],
             [
              0.3333333333333333,
              "#31688e"
             ],
             [
              0.4444444444444444,
              "#26828e"
             ],
             [
              0.5555555555555556,
              "#1f9e89"
             ],
             [
              0.6666666666666666,
              "#35b779"
             ],
             [
              0.7777777777777778,
              "#6ece58"
             ],
             [
              0.8888888888888888,
              "#b5de2b"
             ],
             [
              1,
              "#fde725"
             ]
            ],
            "type": "surface"
           }
          ],
          "table": [
           {
            "cells": {
             "fill": {
              "color": "rgb(237,237,237)"
             },
             "line": {
              "color": "white"
             }
            },
            "header": {
             "fill": {
              "color": "rgb(217,217,217)"
             },
             "line": {
              "color": "white"
             }
            },
            "type": "table"
           }
          ]
         },
         "layout": {
          "annotationdefaults": {
           "arrowhead": 0,
           "arrowwidth": 1
          },
          "autotypenumbers": "strict",
          "coloraxis": {
           "colorbar": {
            "outlinewidth": 1,
            "tickcolor": "rgb(36,36,36)",
            "ticks": "outside"
           }
          },
          "colorscale": {
           "diverging": [
            [
             0,
             "rgb(103,0,31)"
            ],
            [
             0.1,
             "rgb(178,24,43)"
            ],
            [
             0.2,
             "rgb(214,96,77)"
            ],
            [
             0.3,
             "rgb(244,165,130)"
            ],
            [
             0.4,
             "rgb(253,219,199)"
            ],
            [
             0.5,
             "rgb(247,247,247)"
            ],
            [
             0.6,
             "rgb(209,229,240)"
            ],
            [
             0.7,
             "rgb(146,197,222)"
            ],
            [
             0.8,
             "rgb(67,147,195)"
            ],
            [
             0.9,
             "rgb(33,102,172)"
            ],
            [
             1,
             "rgb(5,48,97)"
            ]
           ],
           "sequential": [
            [
             0,
             "#440154"
            ],
            [
             0.1111111111111111,
             "#482878"
            ],
            [
             0.2222222222222222,
             "#3e4989"
            ],
            [
             0.3333333333333333,
             "#31688e"
            ],
            [
             0.4444444444444444,
             "#26828e"
            ],
            [
             0.5555555555555556,
             "#1f9e89"
            ],
            [
             0.6666666666666666,
             "#35b779"
            ],
            [
             0.7777777777777778,
             "#6ece58"
            ],
            [
             0.8888888888888888,
             "#b5de2b"
            ],
            [
             1,
             "#fde725"
            ]
           ],
           "sequentialminus": [
            [
             0,
             "#440154"
            ],
            [
             0.1111111111111111,
             "#482878"
            ],
            [
             0.2222222222222222,
             "#3e4989"
            ],
            [
             0.3333333333333333,
             "#31688e"
            ],
            [
             0.4444444444444444,
             "#26828e"
            ],
            [
             0.5555555555555556,
             "#1f9e89"
            ],
            [
             0.6666666666666666,
             "#35b779"
            ],
            [
             0.7777777777777778,
             "#6ece58"
            ],
            [
             0.8888888888888888,
             "#b5de2b"
            ],
            [
             1,
             "#fde725"
            ]
           ]
          },
          "colorway": [
           "#1F77B4",
           "#FF7F0E",
           "#2CA02C",
           "#D62728",
           "#9467BD",
           "#8C564B",
           "#E377C2",
           "#7F7F7F",
           "#BCBD22",
           "#17BECF"
          ],
          "font": {
           "color": "rgb(36,36,36)"
          },
          "geo": {
           "bgcolor": "white",
           "lakecolor": "white",
           "landcolor": "white",
           "showlakes": true,
           "showland": true,
           "subunitcolor": "white"
          },
          "hoverlabel": {
           "align": "left"
          },
          "hovermode": "closest",
          "mapbox": {
           "style": "light"
          },
          "paper_bgcolor": "white",
          "plot_bgcolor": "white",
          "polar": {
           "angularaxis": {
            "gridcolor": "rgb(232,232,232)",
            "linecolor": "rgb(36,36,36)",
            "showgrid": false,
            "showline": true,
            "ticks": "outside"
           },
           "bgcolor": "white",
           "radialaxis": {
            "gridcolor": "rgb(232,232,232)",
            "linecolor": "rgb(36,36,36)",
            "showgrid": false,
            "showline": true,
            "ticks": "outside"
           }
          },
          "scene": {
           "xaxis": {
            "backgroundcolor": "white",
            "gridcolor": "rgb(232,232,232)",
            "gridwidth": 2,
            "linecolor": "rgb(36,36,36)",
            "showbackground": true,
            "showgrid": false,
            "showline": true,
            "ticks": "outside",
            "zeroline": false,
            "zerolinecolor": "rgb(36,36,36)"
           },
           "yaxis": {
            "backgroundcolor": "white",
            "gridcolor": "rgb(232,232,232)",
            "gridwidth": 2,
            "linecolor": "rgb(36,36,36)",
            "showbackground": true,
            "showgrid": false,
            "showline": true,
            "ticks": "outside",
            "zeroline": false,
            "zerolinecolor": "rgb(36,36,36)"
           },
           "zaxis": {
            "backgroundcolor": "white",
            "gridcolor": "rgb(232,232,232)",
            "gridwidth": 2,
            "linecolor": "rgb(36,36,36)",
            "showbackground": true,
            "showgrid": false,
            "showline": true,
            "ticks": "outside",
            "zeroline": false,
            "zerolinecolor": "rgb(36,36,36)"
           }
          },
          "shapedefaults": {
           "fillcolor": "black",
           "line": {
            "width": 0
           },
           "opacity": 0.3
          },
          "ternary": {
           "aaxis": {
            "gridcolor": "rgb(232,232,232)",
            "linecolor": "rgb(36,36,36)",
            "showgrid": false,
            "showline": true,
            "ticks": "outside"
           },
           "baxis": {
            "gridcolor": "rgb(232,232,232)",
            "linecolor": "rgb(36,36,36)",
            "showgrid": false,
            "showline": true,
            "ticks": "outside"
           },
           "bgcolor": "white",
           "caxis": {
            "gridcolor": "rgb(232,232,232)",
            "linecolor": "rgb(36,36,36)",
            "showgrid": false,
            "showline": true,
            "ticks": "outside"
           }
          },
          "title": {
           "x": 0.05
          },
          "xaxis": {
           "automargin": true,
           "gridcolor": "rgb(232,232,232)",
           "linecolor": "rgb(36,36,36)",
           "showgrid": false,
           "showline": true,
           "ticks": "outside",
           "title": {
            "standoff": 15
           },
           "zeroline": false,
           "zerolinecolor": "rgb(36,36,36)"
          },
          "yaxis": {
           "automargin": true,
           "gridcolor": "rgb(232,232,232)",
           "linecolor": "rgb(36,36,36)",
           "showgrid": false,
           "showline": true,
           "ticks": "outside",
           "title": {
            "standoff": 15
           },
           "zeroline": false,
           "zerolinecolor": "rgb(36,36,36)"
          }
         }
        },
        "title": {
         "text": "Percentage of Stores with Sales by Product (有销售量的商店的百分比)"
        },
        "xaxis": {
         "title": {
          "text": "Product Name"
         }
        },
        "yaxis": {
         "title": {
          "text": "Percentage of Stores with Sales (%)"
         }
        }
       }
      }
     },
     "metadata": {},
     "output_type": "display_data"
    }
   ],
   "source": [
    "# Number of unique stores by product\n",
    "fig1 = plot_bar_chart_plotly(\n",
    "    all_product_data.groupby(\"product_name_chinese_name\")[\"Store Name\"]\n",
    "    .nunique()\n",
    "    .reset_index(),\n",
    "    x=\"product_name_chinese_name\",\n",
    "    y=\"Store Name\",\n",
    "    title=\"Number of Unique Stores by Product （商店的数量）\",\n",
    "    x_label=\"Product Name\",\n",
    "    y_label=\"Number of Unique Stores\",\n",
    ")\n",
    "\n",
    "# Number of unique stores by product with sales\n",
    "fig2 = plot_bar_chart_plotly(\n",
    "    all_product_data[all_product_data[\"has_sales\"] == True]\n",
    "    .groupby(\"product_name_chinese_name\")[\"Store Name\"]\n",
    "    .nunique()\n",
    "    .reset_index(),\n",
    "    x=\"product_name_chinese_name\",\n",
    "    y=\"Store Name\",\n",
    "    title=\"Number of Unique Stores by Product (With Sales) （有销售量的商店的数量）\",\n",
    "    x_label=\"Product Name\",\n",
    "    y_label=\"Number of Unique Stores\",\n",
    ")\n",
    "\n",
    "# Percentage of stores with sales by product\n",
    "# This should basically be the division of the two previous plots\n",
    "stores_with_sales = (\n",
    "    all_product_data[all_product_data[\"has_sales\"] == True]\n",
    "    .groupby(\"product_name_chinese_name\")[\"Store Name\"]\n",
    "    .nunique()\n",
    "    .reset_index()\n",
    ")\n",
    "stores = (\n",
    "    all_product_data.groupby(\"product_name_chinese_name\")[\"Store Name\"]\n",
    "    .nunique()\n",
    "    .reset_index()\n",
    ")\n",
    "stores_with_sales = stores_with_sales.merge(stores, on=\"product_name_chinese_name\")\n",
    "stores_with_sales[\"percentage\"] = (\n",
    "    stores_with_sales[\"Store Name_x\"] / stores_with_sales[\"Store Name_y\"]\n",
    ")\n",
    "fig3 = plot_bar_chart_plotly(\n",
    "    stores_with_sales,\n",
    "    x=\"product_name_chinese_name\",\n",
    "    y=\"percentage\",\n",
    "    title=\"Percentage of Stores with Sales by Product (有销售量的商店的百分比)\",\n",
    "    x_label=\"Product Name\",\n",
    "    y_label=\"Percentage of Stores with Sales (%)\",\n",
    ")\n",
    "\n",
    "fig1.show()\n",
    "fig2.show()\n",
    "fig3.show()"
   ]
  },
  {
   "cell_type": "code",
   "execution_count": 47,
   "metadata": {},
   "outputs": [],
   "source": [
    "def plot_heatmap_plotly(\n",
    "    data,\n",
    "    x,\n",
    "    y,\n",
    "    z,\n",
    "    title=None,\n",
    "    x_label=None,\n",
    "    y_label=None,\n",
    "    log_scale=False,\n",
    "    colorbar_title=None,\n",
    "):\n",
    "    if log_scale:\n",
    "        data[z] = np.log(data[z] + 1)\n",
    "    fig = go.Figure(\n",
    "        data=go.Heatmap(\n",
    "            x=data[x],\n",
    "            y=data[y],\n",
    "            z=data[z],\n",
    "            colorscale=\"blues_r\",\n",
    "            hoverongaps=False,\n",
    "            colorbar_title=colorbar_title,\n",
    "        )\n",
    "    )\n",
    "\n",
    "    fig.update_layout(\n",
    "        title=title,\n",
    "        xaxis_title=x_label,\n",
    "        yaxis_title=y_label,\n",
    "        template=\"plotly_dark\",\n",
    "        width=1000,\n",
    "        height=1000,\n",
    "    )\n",
    "\n",
    "    return fig"
   ]
  },
  {
   "cell_type": "code",
   "execution_count": 48,
   "metadata": {},
   "outputs": [
    {
     "data": {
      "application/vnd.plotly.v1+json": {
       "config": {
        "plotlyServerURL": "https://plot.ly"
       },
       "data": [
        {
         "colorbar": {
          "title": {
           "text": "%"
          }
         },
         "colorscale": [
          [
           0,
           "rgb(8,48,107)"
          ],
          [
           0.125,
           "rgb(8,81,156)"
          ],
          [
           0.25,
           "rgb(33,113,181)"
          ],
          [
           0.375,
           "rgb(66,146,198)"
          ],
          [
           0.5,
           "rgb(107,174,214)"
          ],
          [
           0.625,
           "rgb(158,202,225)"
          ],
          [
           0.75,
           "rgb(198,219,239)"
          ],
          [
           0.875,
           "rgb(222,235,247)"
          ],
          [
           1,
           "rgb(247,251,255)"
          ]
         ],
         "hoverongaps": false,
         "type": "heatmap",
         "x": [
          "bead bracelets and necklaces (珠子手链和项链)",
          "bead bracelets and necklaces (珠子手链和项链)",
          "bead bracelets and necklaces (珠子手链和项链)",
          "bead bracelets and necklaces (珠子手链和项链)",
          "bead bracelets and necklaces (珠子手链和项链)",
          "bead bracelets and necklaces (珠子手链和项链)",
          "bead bracelets and necklaces (珠子手链和项链)",
          "bead bracelets and necklaces (珠子手链和项链)",
          "bead bracelets and necklaces (珠子手链和项链)",
          "bead bracelets and necklaces (珠子手链和项链)",
          "bead bracelets and necklaces (珠子手链和项链)",
          "bead bracelets and necklaces (珠子手链和项链)",
          "bead bracelets and necklaces (珠子手链和项链)",
          "bead bracelets and necklaces (珠子手链和项链)",
          "bead bracelets and necklaces (珠子手链和项链)",
          "bead bracelets and necklaces (珠子手链和项链)",
          "bead bracelets and necklaces (珠子手链和项链)",
          "bead bracelets and necklaces (珠子手链和项链)",
          "bead bracelets and necklaces (珠子手链和项链)",
          "bead bracelets and necklaces (珠子手链和项链)",
          "bead bracelets and necklaces (珠子手链和项链)",
          "bead bracelets and necklaces (珠子手链和项链)",
          "bead bracelets and necklaces (珠子手链和项链)",
          "bead bracelets and necklaces (珠子手链和项链)",
          "bead bracelets and necklaces (珠子手链和项链)",
          "bead bracelets and necklaces (珠子手链和项链)",
          "bead bracelets and necklaces (珠子手链和项链)",
          "bead bracelets and necklaces (珠子手链和项链)",
          "bead bracelets and necklaces (珠子手链和项链)",
          "bead bracelets and necklaces (珠子手链和项链)",
          "bead bracelets and necklaces (珠子手链和项链)",
          "bead bracelets and necklaces (珠子手链和项链)",
          "bead bracelets and necklaces (珠子手链和项链)",
          "bead bracelets and necklaces (珠子手链和项链)",
          "bead bracelets and necklaces (珠子手链和项链)",
          "bead bracelets and necklaces (珠子手链和项链)",
          "bead bracelets and necklaces (珠子手链和项链)",
          "bead bracelets and necklaces (珠子手链和项链)",
          "bead bracelets and necklaces (珠子手链和项链)",
          "bead bracelets and necklaces (珠子手链和项链)",
          "bead bracelets and necklaces (珠子手链和项链)",
          "bead bracelets and necklaces (珠子手链和项链)",
          "bead bracelets and necklaces (珠子手链和项链)",
          "bead bracelets and necklaces (珠子手链和项链)",
          "bead bracelets and necklaces (珠子手链和项链)",
          "bead bracelets and necklaces (珠子手链和项链)",
          "bead bracelets and necklaces (珠子手链和项链)",
          "bead bracelets and necklaces (珠子手链和项链)",
          "bead bracelets and necklaces (珠子手链和项链)",
          "bead bracelets and necklaces (珠子手链和项链)",
          "bead bracelets and necklaces (珠子手链和项链)",
          "bead bracelets and necklaces (珠子手链和项链)",
          "brushes and calligraphy tools (笔和书法工具)",
          "brushes and calligraphy tools (笔和书法工具)",
          "brushes and calligraphy tools (笔和书法工具)",
          "brushes and calligraphy tools (笔和书法工具)",
          "brushes and calligraphy tools (笔和书法工具)",
          "brushes and calligraphy tools (笔和书法工具)",
          "brushes and calligraphy tools (笔和书法工具)",
          "brushes and calligraphy tools (笔和书法工具)",
          "brushes and calligraphy tools (笔和书法工具)",
          "brushes and calligraphy tools (笔和书法工具)",
          "brushes and calligraphy tools (笔和书法工具)",
          "brushes and calligraphy tools (笔和书法工具)",
          "brushes and calligraphy tools (笔和书法工具)",
          "brushes and calligraphy tools (笔和书法工具)",
          "brushes and calligraphy tools (笔和书法工具)",
          "brushes and calligraphy tools (笔和书法工具)",
          "brushes and calligraphy tools (笔和书法工具)",
          "brushes and calligraphy tools (笔和书法工具)",
          "brushes and calligraphy tools (笔和书法工具)",
          "brushes and calligraphy tools (笔和书法工具)",
          "brushes and calligraphy tools (笔和书法工具)",
          "brushes and calligraphy tools (笔和书法工具)",
          "brushes and calligraphy tools (笔和书法工具)",
          "brushes and calligraphy tools (笔和书法工具)",
          "brushes and calligraphy tools (笔和书法工具)",
          "brushes and calligraphy tools (笔和书法工具)",
          "brushes and calligraphy tools (笔和书法工具)",
          "brushes and calligraphy tools (笔和书法工具)",
          "brushes and calligraphy tools (笔和书法工具)",
          "brushes and calligraphy tools (笔和书法工具)",
          "brushes and calligraphy tools (笔和书法工具)",
          "brushes and calligraphy tools (笔和书法工具)",
          "brushes and calligraphy tools (笔和书法工具)",
          "brushes and calligraphy tools (笔和书法工具)",
          "brushes and calligraphy tools (笔和书法工具)",
          "brushes and calligraphy tools (笔和书法工具)",
          "brushes and calligraphy tools (笔和书法工具)",
          "brushes and calligraphy tools (笔和书法工具)",
          "brushes and calligraphy tools (笔和书法工具)",
          "brushes and calligraphy tools (笔和书法工具)",
          "calligraphy prints (书法印刷品)",
          "calligraphy prints (书法印刷品)",
          "calligraphy prints (书法印刷品)",
          "calligraphy prints (书法印刷品)",
          "calligraphy prints (书法印刷品)",
          "calligraphy prints (书法印刷品)",
          "calligraphy prints (书法印刷品)",
          "calligraphy prints (书法印刷品)",
          "calligraphy prints (书法印刷品)",
          "calligraphy prints (书法印刷品)",
          "calligraphy prints (书法印刷品)",
          "calligraphy prints (书法印刷品)",
          "calligraphy prints (书法印刷品)",
          "calligraphy prints (书法印刷品)",
          "calligraphy prints (书法印刷品)",
          "calligraphy prints (书法印刷品)",
          "calligraphy prints (书法印刷品)",
          "calligraphy prints (书法印刷品)",
          "calligraphy prints (书法印刷品)",
          "calligraphy prints (书法印刷品)",
          "calligraphy prints (书法印刷品)",
          "calligraphy prints (书法印刷品)",
          "calligraphy prints (书法印刷品)",
          "calligraphy prints (书法印刷品)",
          "calligraphy prints (书法印刷品)",
          "calligraphy prints (书法印刷品)",
          "calligraphy prints (书法印刷品)",
          "calligraphy prints (书法印刷品)",
          "calligraphy prints (书法印刷品)",
          "calligraphy prints (书法印刷品)",
          "calligraphy prints (书法印刷品)",
          "calligraphy prints (书法印刷品)",
          "calligraphy prints (书法印刷品)",
          "calligraphy prints (书法印刷品)",
          "calligraphy prints (书法印刷品)",
          "calligraphy prints (书法印刷品)",
          "calligraphy prints (书法印刷品)",
          "calligraphy prints (书法印刷品)",
          "calligraphy prints (书法印刷品)",
          "calligraphy prints (书法印刷品)",
          "calligraphy prints (书法印刷品)",
          "calligraphy prints (书法印刷品)",
          "calligraphy prints (书法印刷品)",
          "calligraphy prints (书法印刷品)",
          "calligraphy prints (书法印刷品)",
          "calligraphy prints (书法印刷品)",
          "calligraphy prints (书法印刷品)",
          "calligraphy prints (书法印刷品)",
          "calligraphy prints (书法印刷品)",
          "calligraphy prints (书法印刷品)",
          "calligraphy prints (书法印刷品)",
          "calligraphy prints (书法印刷品)",
          "calligraphy prints (书法印刷品)",
          "calligraphy prints (书法印刷品)",
          "calligraphy prints (书法印刷品)",
          "calligraphy prints (书法印刷品)",
          "calligraphy prints (书法印刷品)",
          "calligraphy prints (书法印刷品)",
          "calligraphy prints (书法印刷品)",
          "calligraphy prints (书法印刷品)",
          "calligraphy prints (书法印刷品)",
          "calligraphy prints (书法印刷品)",
          "calligraphy prints (书法印刷品)",
          "calligraphy prints (书法印刷品)",
          "calligraphy prints (书法印刷品)",
          "calligraphy prints (书法印刷品)",
          "calligraphy prints (书法印刷品)",
          "calligraphy prints (书法印刷品)",
          "calligraphy prints (书法印刷品)",
          "calligraphy prints (书法印刷品)",
          "calligraphy prints (书法印刷品)",
          "calligraphy prints (书法印刷品)",
          "calligraphy prints (书法印刷品)",
          "calligraphy prints (书法印刷品)",
          "calligraphy prints (书法印刷品)",
          "calligraphy prints (书法印刷品)",
          "calligraphy prints (书法印刷品)",
          "calligraphy prints (书法印刷品)",
          "calligraphy prints (书法印刷品)",
          "calligraphy prints (书法印刷品)",
          "calligraphy prints (书法印刷品)",
          "calligraphy prints (书法印刷品)",
          "calligraphy prints (书法印刷品)",
          "calligraphy prints (书法印刷品)",
          "calligraphy prints (书法印刷品)",
          "calligraphy prints (书法印刷品)",
          "calligraphy prints (书法印刷品)",
          "calligraphy prints (书法印刷品)",
          "calligraphy prints (书法印刷品)",
          "calligraphy prints (书法印刷品)",
          "calligraphy prints (书法印刷品)",
          "calligraphy prints (书法印刷品)",
          "calligraphy prints (书法印刷品)",
          "calligraphy prints (书法印刷品)",
          "calligraphy prints (书法印刷品)",
          "calligraphy prints (书法印刷品)",
          "calligraphy prints (书法印刷品)",
          "calligraphy prints (书法印刷品)",
          "calligraphy prints (书法印刷品)",
          "calligraphy prints (书法印刷品)",
          "calligraphy prints (书法印刷品)",
          "calligraphy prints (书法印刷品)",
          "calligraphy prints (书法印刷品)",
          "calligraphy prints (书法印刷品)",
          "calligraphy prints (书法印刷品)",
          "calligraphy prints (书法印刷品)",
          "calligraphy prints (书法印刷品)",
          "calligraphy prints (书法印刷品)",
          "calligraphy prints (书法印刷品)",
          "calligraphy prints (书法印刷品)",
          "calligraphy prints (书法印刷品)",
          "calligraphy prints (书法印刷品)",
          "calligraphy prints (书法印刷品)",
          "calligraphy prints (书法印刷品)",
          "calligraphy prints (书法印刷品)",
          "calligraphy prints (书法印刷品)",
          "calligraphy prints (书法印刷品)",
          "calligraphy prints (书法印刷品)",
          "calligraphy prints (书法印刷品)",
          "calligraphy prints (书法印刷品)",
          "calligraphy prints (书法印刷品)",
          "calligraphy prints (书法印刷品)",
          "calligraphy prints (书法印刷品)",
          "calligraphy prints (书法印刷品)",
          "calligraphy prints (书法印刷品)",
          "calligraphy prints (书法印刷品)",
          "calligraphy prints (书法印刷品)",
          "calligraphy prints (书法印刷品)",
          "calligraphy prints (书法印刷品)",
          "calligraphy prints (书法印刷品)",
          "calligraphy prints (书法印刷品)",
          "calligraphy prints (书法印刷品)",
          "calligraphy prints (书法印刷品)",
          "calligraphy prints (书法印刷品)",
          "calligraphy prints (书法印刷品)",
          "calligraphy prints (书法印刷品)",
          "calligraphy prints (书法印刷品)",
          "calligraphy prints (书法印刷品)",
          "calligraphy prints (书法印刷品)",
          "calligraphy prints (书法印刷品)",
          "calligraphy prints (书法印刷品)",
          "calligraphy prints (书法印刷品)",
          "calligraphy prints (书法印刷品)",
          "calligraphy prints (书法印刷品)",
          "calligraphy prints (书法印刷品)",
          "calligraphy prints (书法印刷品)",
          "calligraphy prints (书法印刷品)",
          "calligraphy prints (书法印刷品)",
          "calligraphy prints (书法印刷品)",
          "calligraphy prints (书法印刷品)",
          "calligraphy prints (书法印刷品)",
          "calligraphy prints (书法印刷品)",
          "calligraphy prints (书法印刷品)",
          "calligraphy prints (书法印刷品)",
          "calligraphy prints (书法印刷品)",
          "calligraphy prints (书法印刷品)",
          "calligraphy prints (书法印刷品)",
          "calligraphy prints (书法印刷品)",
          "calligraphy prints (书法印刷品)",
          "calligraphy prints (书法印刷品)",
          "calligraphy prints (书法印刷品)",
          "calligraphy prints (书法印刷品)",
          "calligraphy prints (书法印刷品)",
          "calligraphy prints (书法印刷品)",
          "calligraphy prints (书法印刷品)",
          "calligraphy prints (书法印刷品)",
          "calligraphy prints (书法印刷品)",
          "calligraphy prints (书法印刷品)",
          "calligraphy prints (书法印刷品)",
          "calligraphy prints (书法印刷品)",
          "calligraphy prints (书法印刷品)",
          "calligraphy prints (书法印刷品)",
          "calligraphy prints (书法印刷品)",
          "calligraphy prints (书法印刷品)",
          "calligraphy prints (书法印刷品)",
          "calligraphy prints (书法印刷品)",
          "calligraphy prints (书法印刷品)",
          "calligraphy prints (书法印刷品)",
          "calligraphy prints (书法印刷品)",
          "calligraphy prints (书法印刷品)",
          "calligraphy prints (书法印刷品)",
          "calligraphy prints (书法印刷品)",
          "calligraphy prints (书法印刷品)",
          "calligraphy prints (书法印刷品)",
          "calligraphy prints (书法印刷品)",
          "chinese art stickers (中国艺术贴纸)",
          "chinese art stickers (中国艺术贴纸)",
          "chinese art stickers (中国艺术贴纸)",
          "chinese art stickers (中国艺术贴纸)",
          "chinese art stickers (中国艺术贴纸)",
          "chinese art stickers (中国艺术贴纸)",
          "chinese art stickers (中国艺术贴纸)",
          "chinese art stickers (中国艺术贴纸)",
          "chinese art stickers (中国艺术贴纸)",
          "chinese art stickers (中国艺术贴纸)",
          "chinese art stickers (中国艺术贴纸)",
          "chinese art stickers (中国艺术贴纸)",
          "chinese art stickers (中国艺术贴纸)",
          "chinese art stickers (中国艺术贴纸)",
          "chinese art stickers (中国艺术贴纸)",
          "chinese art stickers (中国艺术贴纸)",
          "chinese art stickers (中国艺术贴纸)",
          "chinese art stickers (中国艺术贴纸)",
          "chinese art stickers (中国艺术贴纸)",
          "chinese art stickers (中国艺术贴纸)",
          "chinese art stickers (中国艺术贴纸)",
          "chinese art stickers (中国艺术贴纸)",
          "chinese art stickers (中国艺术贴纸)",
          "chinese art stickers (中国艺术贴纸)",
          "chinese art stickers (中国艺术贴纸)",
          "chinese art stickers (中国艺术贴纸)",
          "chinese art stickers (中国艺术贴纸)",
          "chinese art stickers (中国艺术贴纸)",
          "chinese art stickers (中国艺术贴纸)",
          "chinese art stickers (中国艺术贴纸)",
          "chinese art stickers (中国艺术贴纸)",
          "chinese art stickers (中国艺术贴纸)",
          "chinese art stickers (中国艺术贴纸)",
          "chinese art stickers (中国艺术贴纸)",
          "chinese art stickers (中国艺术贴纸)",
          "chinese art stickers (中国艺术贴纸)",
          "chinese art stickers (中国艺术贴纸)",
          "chinese art stickers (中国艺术贴纸)",
          "chinese art stickers (中国艺术贴纸)",
          "chinese art stickers (中国艺术贴纸)",
          "chinese art stickers (中国艺术贴纸)",
          "chinese art stickers (中国艺术贴纸)",
          "chinese art stickers (中国艺术贴纸)",
          "chinese art stickers (中国艺术贴纸)",
          "chinese art stickers (中国艺术贴纸)",
          "chinese art stickers (中国艺术贴纸)",
          "chinese art stickers (中国艺术贴纸)",
          "chinese bamboo art (中国竹艺)",
          "chinese bamboo art (中国竹艺)",
          "chinese bamboo art (中国竹艺)",
          "chinese bamboo art (中国竹艺)",
          "chinese bamboo art (中国竹艺)",
          "chinese bamboo art (中国竹艺)",
          "chinese bamboo art (中国竹艺)",
          "chinese bookmarks (中国书签)",
          "chinese bookmarks (中国书签)",
          "chinese bookmarks (中国书签)",
          "chinese bookmarks (中国书签)",
          "chinese bookmarks (中国书签)",
          "chinese bookmarks (中国书签)",
          "chinese bookmarks (中国书签)",
          "chinese bookmarks (中国书签)",
          "chinese bookmarks (中国书签)",
          "chinese bookmarks (中国书签)",
          "chinese bookmarks (中国书签)",
          "chinese bookmarks (中国书签)",
          "chinese bookmarks (中国书签)",
          "chinese bookmarks (中国书签)",
          "chinese bookmarks (中国书签)",
          "chinese bookmarks (中国书签)",
          "chinese bookmarks (中国书签)",
          "chinese bookmarks (中国书签)",
          "chinese bookmarks (中国书签)",
          "chinese bookmarks (中国书签)",
          "chinese bookmarks (中国书签)",
          "chinese bookmarks (中国书签)",
          "chinese bookmarks (中国书签)",
          "chinese bookmarks (中国书签)",
          "chinese bookmarks (中国书签)",
          "chinese incense (中国香)",
          "chinese incense (中国香)",
          "chinese incense (中国香)",
          "chinese incense (中国香)",
          "chinese incense (中国香)",
          "chinese incense (中国香)",
          "chinese incense (中国香)",
          "chinese incense (中国香)",
          "chinese incense (中国香)",
          "chinese incense (中国香)",
          "chinese incense (中国香)",
          "chinese incense (中国香)",
          "chinese incense (中国香)",
          "chinese incense (中国香)",
          "chinese incense (中国香)",
          "chinese magnets (中国冰箱贴)",
          "chinese magnets (中国冰箱贴)",
          "chinese magnets (中国冰箱贴)",
          "chinese magnets (中国冰箱贴)",
          "chinese magnets (中国冰箱贴)",
          "chinese magnets (中国冰箱贴)",
          "chinese magnets (中国冰箱贴)",
          "chinese magnets (中国冰箱贴)",
          "chinese magnets (中国冰箱贴)",
          "chinese magnets (中国冰箱贴)",
          "chinese magnets (中国冰箱贴)",
          "chinese magnets (中国冰箱贴)",
          "chinese magnets (中国冰箱贴)",
          "chinese magnets (中国冰箱贴)",
          "chinese magnets (中国冰箱贴)",
          "chinese magnets (中国冰箱贴)",
          "chinese magnets (中国冰箱贴)",
          "chinese magnets (中国冰箱贴)",
          "chinese magnets (中国冰箱贴)",
          "chinese magnets (中国冰箱贴)",
          "chinese magnets (中国冰箱贴)",
          "chinese magnets (中国冰箱贴)",
          "chinese magnets (中国冰箱贴)",
          "chinese magnets (中国冰箱贴)",
          "chinese magnets (中国冰箱贴)",
          "chinese magnets (中国冰箱贴)",
          "chinese magnets (中国冰箱贴)",
          "chinese magnets (中国冰箱贴)",
          "chinese magnets (中国冰箱贴)",
          "chinese magnets (中国冰箱贴)",
          "chinese magnets (中国冰箱贴)",
          "chinese magnets (中国冰箱贴)",
          "chinese magnets (中国冰箱贴)",
          "chinese magnets (中国冰箱贴)",
          "chinese magnets (中国冰箱贴)",
          "chinese magnets (中国冰箱贴)",
          "chinese magnets (中国冰箱贴)",
          "chinese magnets (中国冰箱贴)",
          "chinese magnets (中国冰箱贴)",
          "chinese magnets (中国冰箱贴)",
          "chinese magnets (中国冰箱贴)",
          "chinese magnets (中国冰箱贴)",
          "chinese mid autumn gift sets (中秋节礼品套装)",
          "chinese mid autumn gift sets (中秋节礼品套装)",
          "chinese mid autumn gift sets (中秋节礼品套装)",
          "chinese mid autumn gift sets (中秋节礼品套装)",
          "chinese mid autumn gift sets (中秋节礼品套装)",
          "chinese mid autumn gift sets (中秋节礼品套装)",
          "chinese mid autumn gift sets (中秋节礼品套装)",
          "chinese mid autumn gift sets (中秋节礼品套装)",
          "chinese mid autumn gift sets (中秋节礼品套装)",
          "chinese mid autumn gift sets (中秋节礼品套装)",
          "chinese mid autumn gift sets (中秋节礼品套装)",
          "chinese mid autumn gift sets (中秋节礼品套装)",
          "chinese pottery (中国陶器)",
          "chinese pottery (中国陶器)",
          "chinese pottery (中国陶器)",
          "chinese pottery (中国陶器)",
          "chinese pottery (中国陶器)",
          "chinese pottery (中国陶器)",
          "chinese pottery (中国陶器)",
          "chinese pottery (中国陶器)",
          "chinese pottery (中国陶器)",
          "chinese pottery (中国陶器)",
          "chinese pottery (中国陶器)",
          "chinese pottery (中国陶器)",
          "chinese pottery (中国陶器)",
          "chinese pottery (中国陶器)",
          "chinese pottery (中国陶器)",
          "chinese pottery (中国陶器)",
          "chinese pottery (中国陶器)",
          "chinese pottery (中国陶器)",
          "chinese pottery (中国陶器)",
          "chinese pottery (中国陶器)",
          "chinese pottery (中国陶器)",
          "chinese pottery (中国陶器)",
          "chinese pottery (中国陶器)",
          "chinese pottery (中国陶器)",
          "chinese pottery (中国陶器)",
          "chinese pottery (中国陶器)",
          "chinese pottery (中国陶器)",
          "chinese pottery (中国陶器)",
          "chinese pottery (中国陶器)",
          "chinese pottery (中国陶器)",
          "chinese pottery (中国陶器)",
          "chinese pottery (中国陶器)",
          "chinese pottery (中国陶器)",
          "chinese pottery (中国陶器)",
          "chinese pottery (中国陶器)",
          "chinese pottery (中国陶器)",
          "chinese pottery (中国陶器)",
          "chinese pottery (中国陶器)",
          "chinese pottery (中国陶器)",
          "chinese pottery (中国陶器)",
          "chinese pottery (中国陶器)",
          "chinese pottery (中国陶器)",
          "chinese pottery (中国陶器)",
          "chinese pottery (中国陶器)",
          "chinese pottery (中国陶器)",
          "chinese pottery (中国陶器)",
          "chinese pottery (中国陶器)",
          "chinese pottery (中国陶器)",
          "chinese pottery (中国陶器)",
          "chinese washi tape (中国和纸胶带)",
          "chinese washi tape (中国和纸胶带)",
          "chinese washi tape (中国和纸胶带)",
          "chinese washi tape (中国和纸胶带)",
          "chinese washi tape (中国和纸胶带)",
          "chinese washi tape (中国和纸胶带)",
          "chinese washi tape (中国和纸胶带)",
          "chinese washi tape (中国和纸胶带)",
          "chinese washi tape (中国和纸胶带)",
          "chinese washi tape (中国和纸胶带)",
          "chinese washi tape (中国和纸胶带)",
          "chinese washi tape (中国和纸胶带)",
          "chinese washi tape (中国和纸胶带)",
          "chinese washi tape (中国和纸胶带)",
          "chinese washi tape (中国和纸胶带)",
          "chinese washi tape (中国和纸胶带)",
          "chinese washi tape (中国和纸胶带)",
          "chinese washi tape (中国和纸胶带)",
          "chinese washi tape (中国和纸胶带)",
          "chinese washi tape (中国和纸胶带)",
          "chinese washi tape (中国和纸胶带)",
          "chinese washi tape (中国和纸胶带)",
          "chinese washi tape (中国和纸胶带)",
          "chinese washi tape (中国和纸胶带)",
          "chinese washi tape (中国和纸胶带)",
          "chinese washi tape (中国和纸胶带)",
          "chinese washi tape (中国和纸胶带)",
          "chinese washi tape (中国和纸胶带)",
          "chinese washi tape (中国和纸胶带)",
          "chinese washi tape (中国和纸胶带)",
          "chinese washi tape (中国和纸胶带)",
          "chinese washi tape (中国和纸胶带)",
          "chinese washi tape (中国和纸胶带)",
          "chinese washi tape (中国和纸胶带)",
          "chinese washi tape (中国和纸胶带)",
          "chinese washi tape (中国和纸胶带)",
          "chinese washi tape (中国和纸胶带)",
          "chinese washi tape (中国和纸胶带)",
          "chinese washi tape (中国和纸胶带)",
          "chinese washi tape (中国和纸胶带)",
          "chinese washi tape (中国和纸胶带)",
          "chinese washi tape (中国和纸胶带)",
          "chinese washi tape (中国和纸胶带)",
          "chinese washi tape (中国和纸胶带)",
          "chinese washi tape (中国和纸胶带)",
          "chinese washi tape (中国和纸胶带)",
          "chinese washi tape (中国和纸胶带)",
          "chinese washi tape (中国和纸胶带)",
          "chinese washi tape (中国和纸胶带)",
          "name seals (印章)",
          "name seals (印章)",
          "name seals (印章)",
          "name seals (印章)",
          "name seals (印章)",
          "name seals (印章)",
          "name seals (印章)",
          "name seals (印章)",
          "name seals (印章)",
          "name seals (印章)",
          "name seals (印章)",
          "name seals (印章)",
          "name seals (印章)",
          "name seals (印章)",
          "name seals (印章)",
          "name seals (印章)",
          "name seals (印章)",
          "name seals (印章)",
          "name seals (印章)",
          "name seals (印章)",
          "name seals (印章)",
          "name seals (印章)",
          "name seals (印章)",
          "name seals (印章)",
          "name seals (印章)",
          "name seals (印章)",
          "name seals (印章)",
          "name seals (印章)",
          "name seals (印章)",
          "name seals (印章)",
          "name seals (印章)",
          "name seals (印章)",
          "name seals (印章)",
          "name seals (印章)",
          "name seals (印章)",
          "name seals (印章)",
          "name seals (印章)",
          "name seals (印章)",
          "name seals (印章)",
          "name seals (印章)",
          "name seals (印章)",
          "name seals (印章)",
          "name seals (印章)",
          "name seals (印章)",
          "name seals (印章)",
          "name seals (印章)",
          "name seals (印章)",
          "name seals (印章)",
          "name seals (印章)",
          "name seals (印章)",
          "paper lanterns (纸灯笼)",
          "paper lanterns (纸灯笼)",
          "paper lanterns (纸灯笼)",
          "paper lanterns (纸灯笼)",
          "paper lanterns (纸灯笼)",
          "paper lanterns (纸灯笼)",
          "paper lanterns (纸灯笼)",
          "paper lanterns (纸灯笼)",
          "paper lanterns (纸灯笼)",
          "paper lanterns (纸灯笼)",
          "paper lanterns (纸灯笼)",
          "paper lanterns (纸灯笼)",
          "paper lanterns (纸灯笼)",
          "paper lanterns (纸灯笼)",
          "paper lanterns (纸灯笼)",
          "paper lanterns (纸灯笼)",
          "paper lanterns (纸灯笼)",
          "paper lanterns (纸灯笼)",
          "paper lanterns (纸灯笼)",
          "paper lanterns (纸灯笼)",
          "paper lanterns (纸灯笼)",
          "paper lanterns (纸灯笼)",
          "paper lanterns (纸灯笼)",
          "paper lanterns (纸灯笼)",
          "paper lanterns (纸灯笼)",
          "paper lanterns (纸灯笼)",
          "paper lanterns (纸灯笼)",
          "paper lanterns (纸灯笼)",
          "paper lanterns (纸灯笼)",
          "paper lanterns (纸灯笼)",
          "paper lanterns (纸灯笼)",
          "paper lanterns (纸灯笼)",
          "paper lanterns (纸灯笼)",
          "paper lanterns (纸灯笼)",
          "paper lanterns (纸灯笼)",
          "paper lanterns (纸灯笼)",
          "paper lanterns (纸灯笼)",
          "paper lanterns (纸灯笼)",
          "paper lanterns (纸灯笼)",
          "paper lanterns (纸灯笼)",
          "paper lanterns (纸灯笼)",
          "paper lanterns (纸灯笼)",
          "paper lanterns (纸灯笼)",
          "paper lanterns (纸灯笼)",
          "paper lanterns (纸灯笼)",
          "paper lanterns (纸灯笼)",
          "paper lanterns (纸灯笼)",
          "paper lanterns (纸灯笼)",
          "paper lanterns (纸灯笼)",
          "paper lanterns (纸灯笼)",
          "paper lanterns (纸灯笼)",
          "paper lanterns (纸灯笼)",
          "paper lanterns (纸灯笼)",
          "paper lanterns (纸灯笼)",
          "paper lanterns (纸灯笼)",
          "paper lanterns (纸灯笼)",
          "paper lanterns (纸灯笼)",
          "paper lanterns (纸灯笼)",
          "paper lanterns (纸灯笼)",
          "paper lanterns (纸灯笼)",
          "paper lanterns (纸灯笼)",
          "paper lanterns (纸灯笼)",
          "paper lanterns (纸灯笼)",
          "paper lanterns (纸灯笼)"
         ],
         "y": [
          "AlchemyByManon",
          "Andyscollection",
          "AnnieCoJewelry",
          "AshleyJaneMilan",
          "Balastone",
          "BellevueRareCoins",
          "ByjjJewelry",
          "CGBeadesSupplies",
          "CharmByCoral",
          "DIYbeads888",
          "DansShopGiftsx",
          "DietzJewels",
          "DiyNotion",
          "FDLJewels",
          "Fernhomeandfashion",
          "FlyinJewelry",
          "GREENDEERbymui",
          "GemsbyShaan",
          "GemstoneCrystalsShop",
          "GypsyRoadStudio",
          "HowOriginalStore",
          "Jadehappy",
          "JadeiteRoom",
          "JadeousJade",
          "JessieBeverlyDesigns",
          "KhorasanRug",
          "MJadeite",
          "Micharzoee",
          "MoonMonstersCave",
          "NeedANeedle",
          "NemaliJewelry",
          "NownowCrafts",
          "OrientalSecretGarden",
          "PetiteLinks",
          "PoshGemz",
          "SBGEMSInd",
          "ShaanFashionz",
          "ShinyBead",
          "ShopTGSglass",
          "TheJadeMerchant",
          "ThrowinStones",
          "UptownPatina",
          "YunBoutique",
          "artrici",
          "blackbeaded",
          "bodhiaccessories",
          "carolbarrettjewelry",
          "diygem",
          "latelierdandrea",
          "myhandcrfs",
          "swampYankee",
          "thisbeadsforyou",
          "AlainTourneurBois",
          "AlyssaVanderPloeg",
          "COWdigitalART",
          "CalligraphyforGod",
          "ChineseLearning",
          "CopingGifts",
          "CrescentMoonCatShop",
          "Elimluv",
          "ExoticMerchantCrafts",
          "Funkystuff13",
          "GoodGoodTools",
          "GoodOldTimeArt",
          "HappyDealz",
          "HubDigital",
          "INKSTON",
          "INKtroduction",
          "Interstateblue",
          "IvandCoDesigns",
          "JackmansArtMaterials",
          "KristaMcCurdyArt",
          "LeadTin",
          "LoriksArtShop",
          "MeeLiaDigital",
          "MetaphoriaDesign",
          "MiniTrezoDesign",
          "MyLittleHand",
          "Orientalartmaterial",
          "Pimpmychair",
          "PuffPrints",
          "SealCuttingArts",
          "SemliCalligraphy",
          "SindyJoyiArts",
          "THYFshop",
          "TOLhandmade",
          "The1608shop",
          "TheGoodLifeVibes",
          "YenzArtHaut",
          "lkfarnsworth",
          "toolsforwriting",
          "yanghaiying",
          "267khuba",
          "88AsianAntiques",
          "AMDigitalPrints",
          "APrints",
          "Acrylicartbyrick",
          "AestheticWallDecor",
          "AgnesSzafranska",
          "AnaisHomeDecor",
          "AnnaVladiArt",
          "AnnaisticArtGiftic",
          "Art4OursCo",
          "ArtPink",
          "ArtforHeartUK",
          "Artworkoria",
          "AsianArtistry",
          "AsianHeritagePrints",
          "AutumnFlowersStudio",
          "BeepArtsAndCrafts",
          "BellissiCasa",
          "BlkInkArt",
          "BmeGallery",
          "BrushmanStudio",
          "BunneePrintFactory",
          "Burgerisad",
          "CHINOISERIEHOMECO",
          "CalligraphyRoom",
          "CalligraphyforGod",
          "ChalmersFantasy",
          "ChiGardensInc",
          "ClassicAntiquePrints",
          "CleanArchives",
          "Colinbrush",
          "ColorfullWorlds",
          "ColoroftheElf",
          "ColorsofSami",
          "CottagelandCo",
          "CouleursDuNil",
          "CuriouslyCreatives",
          "DRIVADE",
          "DaiistStyleArt",
          "DarkSwanArtDesign",
          "DealioHound",
          "DenshoDE",
          "DigitalPrintCharm",
          "DigitalStudio33",
          "DragonDesignn",
          "DschiniBean",
          "EpicArtAcrylic",
          "FightersPosterShop",
          "FilipArtLaboratory",
          "FineArtelier",
          "FineTreeDigitals",
          "FlashBimojiArt",
          "FlowWithTheBrush",
          "FunctionalSculpture",
          "GcafeStudio",
          "GemofArt",
          "GinCreatives",
          "GlendaleGardens",
          "GoodOldTimeArt",
          "GraphickS6250",
          "GreenLifePrints",
          "HeavenlyBrush",
          "HelgeJPG",
          "IGyotaku",
          "IndioPage",
          "InkBrushArt",
          "IslamicartByJaveria",
          "JKSuperstore",
          "JapanCrossBridge",
          "JayDeenPrint",
          "JayLamArt",
          "JemCityStudio",
          "JongiShop",
          "JoyfulArtPrint",
          "JunInspirations",
          "JwxweiPhotography",
          "KRWORLDDESIGN",
          "KoreanArtCalligraphy",
          "KoreanCalligraphyArt",
          "KoreanScribbles",
          "LFyDesignCo",
          "LaPlumeReveuseArt",
          "LanDanGallery",
          "LaylaLumiere",
          "LeafHouseUK",
          "Leechees",
          "LeremyStickFigures",
          "LifeLoLo",
          "LittleGiraffePrints",
          "LuvCreationsDesigns",
          "LyArtCanada",
          "LynxXiaoStudio",
          "MaggieTurnerArts",
          "MakersPrintArt",
          "MannaPrints",
          "MaplePrintables",
          "MariamArabicWallArt",
          "MariusSzmerdt",
          "MateuszOlbrychtART",
          "MediciArtPrints",
          "MetaBooth",
          "MingsDigitalStudio",
          "MiniTrezoDesign",
          "MorningMobi",
          "MsLeechee",
          "NACOandHOOPER",
          "NeoArtEvolution",
          "NeptuneArtPrints",
          "Nourartsy",
          "OkurimonoStudio",
          "OmniLightArtPrint",
          "OpenInkStand",
          "OrientalOutpost",
          "PAINTmatters",
          "PBJournal",
          "PODAThoughts",
          "POEMDesignCo",
          "PanoramaCanvas",
          "PeachyBabyArt",
          "PistisArtStore",
          "PlanetDigitalArt",
          "PurrfectCity",
          "RainbowCanary",
          "RichKoesterArt",
          "RichTeaArt",
          "Ringmasterxred",
          "RobbieBurrito",
          "RosewoodPeony",
          "SUZUYA",
          "SandyHeCube",
          "SasaNatalyaArt",
          "SaturdaySchoolClub",
          "SeasonsSerenity",
          "SewellGraphicArts",
          "ShiriLanzerArt",
          "ShuoArtStudio",
          "SindyJoyiArts",
          "SmittenPaperProps",
          "StickersKingdom",
          "StixDesigns",
          "StrandClothing",
          "StudioPrintly",
          "StudioWuDesign",
          "SuaveDesign",
          "SunnyAndRainyArtShop",
          "SuziGordonDesigns",
          "SweetZenStore",
          "SynthetikSpectra",
          "TDNprintables",
          "TT40Art",
          "The25thPrints",
          "TheBilingualNursery",
          "TheMercuryGallery",
          "TigerHouseArt",
          "TracingGraceArts",
          "TristinaDietzArt",
          "TruthsImages",
          "Tulipions",
          "VeronicaPrints",
          "Vintagecollection888",
          "WabiSabiEssential",
          "WallflowerArtCompany",
          "WayToSamadhi",
          "WestJunkTravelCo",
          "WillaHeart",
          "WonderwiseArt",
          "YiMian",
          "YogaPaper",
          "YourHomeDesignStore",
          "YsssStudio",
          "ZWQArtzen",
          "ZenArtCalligraphy",
          "ZenBrush",
          "ZenDigitalJAPAN",
          "aDazzlingArtBoutique",
          "ataraxiadesignsart",
          "konichiwaprints",
          "kozachekart",
          "matatanARTprints",
          "minouette",
          "printsByChaos",
          "tarantra",
          "theleftyletters",
          "zakkalover",
          "ApsaraLabels",
          "BakaDreams",
          "BloomaMind",
          "BlossomArtAvenue",
          "BlueEggAdventures",
          "BraaunNails",
          "CharmCityCrabs",
          "CoraCreaCrafts",
          "DesignKR",
          "DienamicDecals",
          "DiwataCraft",
          "DreamKidsDecal",
          "FunDesignByMe",
          "GomisGoodies",
          "GrAttitudeGifts",
          "Illustrace",
          "IndiWolfOnline",
          "JaylaPastels",
          "JencArtsy",
          "JoogiStudio",
          "LIVINGOAC",
          "LoveMeetDesignStudio",
          "LovelyStickersArts",
          "MoonApeTees",
          "MyLittleStudioAU",
          "N1MH",
          "NailBeautyLandUSA",
          "OtoroCat",
          "RebeccaWangArt",
          "RyansCritterArt",
          "SeemazArtCollection",
          "SingleStoneStudios",
          "Starcovedesign",
          "StickersKingdom",
          "SupersSkinUA",
          "SwiftlyCrafts",
          "TinySupplyShop",
          "WaWaStationery",
          "WallARTime",
          "WildBeautyGraphics",
          "amrmjp",
          "booktokbookshelf",
          "chuvardina",
          "didistickers",
          "fuchsiascribbles",
          "sentinelsupply",
          "shopkitschykawaii",
          "ArtuoDesigns",
          "AsianArtGifts",
          "Crazitchek",
          "FloatYourBoatDesignz",
          "PiecefulDesign",
          "SuzTreasureHouse",
          "YYShopGoods",
          "AsianArtGifts",
          "BeadCharmJewelry",
          "CarmenLamArt",
          "Culdsiaharisquant",
          "Excited4stickernmore",
          "JupiterMoonJewellery",
          "KanMandlandshop",
          "LiliSeeds",
          "LingPitts",
          "OrientalInc",
          "Ostaranda",
          "PrairiePixelLove",
          "QueenofMirth",
          "Rosenart",
          "Sandakala",
          "ScintillareBySunidhi",
          "SealCuttingArts",
          "Seodaemoon",
          "ShopDerekShop",
          "TT40Art",
          "TheFancyScribbler",
          "jingsbeadingworld",
          "memoriesemporium",
          "misspinkrobin",
          "vintagekosmima",
          "DePlagePhoto",
          "ImperialIncense",
          "IncenseCeremony",
          "IncenseofAsia",
          "JasmineApothecary",
          "KarmaSyndikat",
          "MaragCeltic",
          "Realnaturepure",
          "TreasureHouseNo1",
          "VoltageVintageFinds",
          "YYShopGoods",
          "calumscuriosities",
          "feelingcollections",
          "good1369",
          "vintagiodesign",
          "100daysco",
          "AnyaShopStudio",
          "AvEwerkz",
          "BabyShop77",
          "CarveitArtWorkshop",
          "CraftologistCass",
          "DOMEDBAZAAR",
          "DeniseClemenco",
          "DimensionalDiversion",
          "EvArtesShop",
          "GiftArtByMike",
          "Gifts2Engrave",
          "GiftsBStore",
          "GothamDecor",
          "GuijiLuo",
          "Homepartdepot",
          "HundredHearts",
          "InkShopGifts",
          "JuliasMysticalShop",
          "KBeadsIt",
          "KeinMaker",
          "LigneNoireArt",
          "LilCrocsCustoms",
          "LisaJanesGifts",
          "LucinaK",
          "LydiaJeanArt",
          "Malachikittybijoux",
          "ModPawsUS",
          "NanasPrettyGirls",
          "NihonDesign",
          "ObnoxiouslyMagnetic",
          "PetPartyCo",
          "PickledStamps",
          "RKNGStudio",
          "SCCustomDecalDesigns",
          "ThreeMemoryVivid",
          "TramaiCeramics",
          "VintageOutlookShop",
          "WildernessInsider",
          "WyrmwoodMarket",
          "byHaquil",
          "emycatdesign",
          "BestjadeStudio",
          "BlushingHoneyCo",
          "CuddlesAndLearn",
          "GraceCakeUS",
          "GraceYuArtStudio",
          "Linai",
          "LuckyCatTreasure",
          "MyLittleHand",
          "PrintGoGo",
          "SweetsunByJessica",
          "YYfairyland",
          "YingmartShop",
          "33YellowClouds",
          "AlpineStore",
          "ArtsCollectionShop",
          "BlueWhiteCustom",
          "Calibonsai",
          "CalligraphyforGod",
          "ChameiTeaHouse",
          "Chinabluetotnes",
          "CreationM",
          "DayJahView",
          "DelightGemsCreations",
          "DownEastCollectibles",
          "ElysianEarwear",
          "EnikoKovacsDesign",
          "FrammDesign",
          "FrenchAlley",
          "GCHeStore",
          "GaryGermer",
          "GoodiesAndCrafties",
          "Grandchildattic",
          "HalcyonGalleryCo",
          "Ildikoscollection",
          "InkHeartPottery",
          "JewelCreekAntiques",
          "KingTeaMall",
          "LuckiestDuck2",
          "Luckychangantiques",
          "LunaTeaware",
          "MSSCrafts",
          "MellowBreez",
          "MemoryPlus",
          "MtPearlsCollectibles",
          "MusicAndMuse",
          "MyPeriodHomeUK",
          "OrnamentCollection",
          "Peaceofartshongkong",
          "QuirkyAntiquesStore",
          "ReginaGB",
          "SapphireLounge",
          "SecretBelladonna",
          "SirensPotteryTools",
          "StampDesignGifts",
          "Statuesquo",
          "TeaQuarter",
          "TpotsOriental",
          "diyhandicrafts",
          "janetsjewelgarden",
          "ladymariaworld",
          "waterforart",
          "AnyaShopStudio",
          "AvEwerkz",
          "BabyShop77",
          "BeakersWorld",
          "BeeCreativeShop",
          "BloomaMind",
          "BrendasPaperParty",
          "CraftSupprise",
          "CraftologistCass",
          "CraftsmileShop",
          "DIYPaperandwoodcraft",
          "DOMEDBAZAAR",
          "DiwataCraft",
          "Duosel",
          "Etudiaire",
          "FabricCenterArt",
          "Floralbombcollection",
          "FluxCraftsUK",
          "GiftArtByMike",
          "Gifts2Engrave",
          "GiftsBStore",
          "GloriaHomeFurnishing",
          "HundredHearts",
          "InkShopGifts",
          "Journalland",
          "JuliasMysticalShop",
          "KeinMaker",
          "LilLv",
          "Maskingtapelover",
          "MeloncholyCo",
          "ModPawsUS",
          "MoshiMoshiUK",
          "NanasPrettyGirls",
          "OktoberTreasures",
          "PetPartyCo",
          "PickledStamps",
          "PurochensArtshop",
          "SCCustomDecalDesigns",
          "Simonaspretties",
          "SingleSploot",
          "SolaliaCreations",
          "TapesKingdom",
          "ThreeMemoryVivid",
          "TramaiCeramics",
          "WintertimeCrafts",
          "WyrmwoodMarket",
          "dailystargaze",
          "linguine",
          "zakkalover",
          "1000dou",
          "AnnaVladiArt",
          "AzamiPress",
          "BeachFleaMarket",
          "BlueEyedJewelsTX",
          "CalligraphyforGod",
          "CollectWhb",
          "CollectedInvitations",
          "CopingGifts",
          "CynthiasAttic",
          "DancingLionsBar",
          "ExoticMerchantCrafts",
          "FeistudioArt",
          "HechoDeCorazon",
          "JamielalalaPrint",
          "JapanVintageAntique",
          "JapaneseRubberStamps",
          "JayLamArt",
          "Kraftille",
          "LAHUCHA",
          "LaddStamps",
          "LuckyFlowerShop",
          "LuvjasmineShop",
          "MoreUnusualTheBetter",
          "My40YearCollection",
          "MyLittleHand",
          "NineColorHAN",
          "OBDstudio",
          "OlivaDesignCrafts",
          "Orientalartmaterial",
          "PaperPineTree",
          "PaulsJunkCloset",
          "Pimpmychair",
          "PinkPandaStamps",
          "Purana",
          "RainingParties",
          "RechercheReStore",
          "SalonUber",
          "SealCuttingArts",
          "SemliCalligraphy",
          "SindyJoyiArts",
          "SoSylvie",
          "SomedaySomeplace",
          "TreVincentShop",
          "VintageVarietyStudio",
          "WestsidePrints",
          "WorldofBacara",
          "XustomizedDesign",
          "franklyScarlett",
          "salientstone",
          "33imports",
          "BALIGOOD",
          "BaerDesignStudio",
          "BambooMN",
          "BigDotOfHappiness",
          "BohemiansStudio",
          "CCarterWatercolors",
          "CaliQuiltCo",
          "Chaiv",
          "ChinaTownGiftShop",
          "CpandoShop",
          "CraftedInUSAbyVB",
          "CubicCraftCreations",
          "DECOPOMPOMS",
          "DecoYourParty",
          "Dkjewels",
          "EightStrandsStudio",
          "ElegantSparrows",
          "EpicAIArt",
          "ErikordSupplies",
          "FuntastikPrintables",
          "GinetteBrosseau",
          "HandicraftsUnionCN",
          "HappyPartySupply",
          "InnerUnion",
          "JSEventsAU",
          "JayLamArt",
          "JoyEvents",
          "KecklerDesign",
          "KoelschArtLab",
          "LavenderBeeCreations",
          "LightningBugs",
          "LilLv",
          "LisaMarkleSparkles",
          "LittleStarCraftShop",
          "NoTreesHarmedPrints",
          "PaperlovecraftHK",
          "Pimpmychair",
          "RAcollectives",
          "RoadWorkingGifts",
          "ShreesaikripBoutique",
          "SilkscapeDesign",
          "SpoonflowerHome",
          "SunandSeaSVGs",
          "TIGPEEK",
          "TapesKingdom",
          "TheHouseofHarlequin",
          "TimelessNotion",
          "ToscasBungalow",
          "UniqoooShop",
          "UpUpGraphics",
          "VIWEI",
          "VanillaBlueCreation",
          "Vindeedlamps",
          "YYfairyland",
          "ZendaDesigns",
          "brownskylight",
          "iFavor123",
          "kitschpandastore",
          "macynvintage",
          "mypinkeraser",
          "pinkultra",
          "studiostebbylee",
          "thesilhouettequeenUS"
         ],
         "z": [
          0.0384180790960452,
          0.005649717514124294,
          0.024858757062146894,
          0.0011299435028248588,
          0.015819209039548022,
          0.0011299435028248588,
          0.0022598870056497176,
          0.0022598870056497176,
          0.24519774011299436,
          0.04180790960451977,
          0.003389830508474576,
          0.0011299435028248588,
          0.0022598870056497176,
          0.0011299435028248588,
          0.004519774011299435,
          0.011299435028248588,
          0.0011299435028248588,
          0.0011299435028248588,
          0.0011299435028248588,
          0.0011299435028248588,
          0.007909604519774011,
          0.0011299435028248588,
          0.007909604519774011,
          0.08926553672316384,
          0.08361581920903954,
          0.0011299435028248588,
          0.0022598870056497176,
          0.0011299435028248588,
          0.0022598870056497176,
          0.005649717514124294,
          0.007909604519774011,
          0.10508474576271186,
          0.02937853107344633,
          0.007909604519774011,
          0.0011299435028248588,
          0.0011299435028248588,
          0.005649717514124294,
          0.08700564971751412,
          0.0022598870056497176,
          0.0022598870056497176,
          0.02598870056497175,
          0.005649717514124294,
          0.005649717514124294,
          0.0011299435028248588,
          0.0011299435028248588,
          0.0022598870056497176,
          0.0022598870056497176,
          0.08813559322033898,
          0.004519774011299435,
          0.0011299435028248588,
          0.0011299435028248588,
          0.0022598870056497176,
          0.0005707762557077625,
          0.003424657534246575,
          0.12442922374429223,
          0.07591324200913242,
          0.0045662100456621,
          0.007990867579908675,
          0.007990867579908675,
          0.0045662100456621,
          0.006278538812785388,
          0.00684931506849315,
          0.0005707762557077625,
          0.0028538812785388126,
          0.05136986301369863,
          0.003995433789954338,
          0.003424657534246575,
          0.0005707762557077625,
          0.003424657534246575,
          0.009703196347031963,
          0.005136986301369863,
          0.010844748858447488,
          0.0091324200913242,
          0.0017123287671232876,
          0.009703196347031963,
          0.007420091324200913,
          0.00228310502283105,
          0.1341324200913242,
          0.02682648401826484,
          0.0684931506849315,
          0.046232876712328765,
          0.00228310502283105,
          0.14440639269406394,
          0.1952054794520548,
          0.003995433789954338,
          0.0005707762557077625,
          0.001141552511415525,
          0.001141552511415525,
          0.003995433789954338,
          0.0005707762557077625,
          0.001141552511415525,
          0.005136986301369863,
          0.0006373486297004461,
          0.00015933715742511153,
          0.00015933715742511153,
          0.0014340344168260039,
          0.00015933715742511153,
          0.018961121733588274,
          0.004620777565328234,
          0.018323773103887827,
          0.008922880815806247,
          0.0004780114722753346,
          0.0009560229445506692,
          0.05975143403441682,
          0.0011153601019757808,
          0.0004780114722753346,
          0.00207138304652645,
          0.00031867431485022306,
          0.0041427660930529,
          0.0012746972594008922,
          0.019439133205863608,
          0.00015933715742511153,
          0.0004780114722753346,
          0.0004780114722753346,
          0.00031867431485022306,
          0.0009560229445506692,
          0.0011153601019757808,
          0.00031867431485022306,
          0.10564053537284895,
          0.04732313575525813,
          0.00015933715742511153,
          0.026449968132568516,
          0.005417463352453792,
          0.012746972594008922,
          0.027565328234544297,
          0.0004780114722753346,
          0.00031867431485022306,
          0.00015933715742511153,
          0.0015933715742511153,
          0.00015933715742511153,
          0.0006373486297004461,
          0.00015933715742511153,
          0.00031867431485022306,
          0.00031867431485022306,
          0.00015933715742511153,
          0.00031867431485022306,
          0.0006373486297004461,
          0.00031867431485022306,
          0.00015933715742511153,
          0.0007966857871255577,
          0.0028680688336520078,
          0.00015933715742511153,
          0.00015933715742511153,
          0.0006373486297004461,
          0.0009560229445506692,
          0.00031867431485022306,
          0.003505417463352454,
          0.003027405991077119,
          0.0014340344168260039,
          0.0011153601019757808,
          0.00015933715742511153,
          0.00031867431485022306,
          0.0007966857871255577,
          0.04031230082855322,
          0.00015933715742511153,
          0.0007966857871255577,
          0.0014340344168260039,
          0.014659018483110261,
          0.0025493945188017845,
          0.00015933715742511153,
          0.00031867431485022306,
          0.007966857871255577,
          0.00031867431485022306,
          0.010038240917782026,
          0.0011153601019757808,
          0.0009560229445506692,
          0.017367750159337156,
          0.0041427660930529,
          0.0007966857871255577,
          0.0004780114722753346,
          0.0015933715742511153,
          0.0022307202039515616,
          0.0038240917782026767,
          0.0011153601019757808,
          0.0038240917782026767,
          0.00031867431485022306,
          0.00031867431485022306,
          0.030274059910771194,
          0.01035691523263225,
          0.0009560229445506692,
          0.0006373486297004461,
          0.00031867431485022306,
          0.00031867431485022306,
          0.0012746972594008922,
          0.00031867431485022306,
          0.00031867431485022306,
          0.00015933715742511153,
          0.0004780114722753346,
          0.07568514977692797,
          0.028521351179094965,
          0.00031867431485022306,
          0.0012746972594008922,
          0.00015933715742511153,
          0.002708731676226896,
          0.00031867431485022306,
          0.0006373486297004461,
          0.0038240917782026767,
          0.004620777565328234,
          0.0006373486297004461,
          0.0031867431485022306,
          0.02087316762268961,
          0.00015933715742511153,
          0.011472275334608031,
          0.003983428935627789,
          0.0015933715742511153,
          0.00015933715742511153,
          0.0041427660930529,
          0.015455704270235819,
          0.001752708731676227,
          0.019917144678138942,
          0.007170172084130019,
          0.023422562141491396,
          0.0006373486297004461,
          0.0014340344168260039,
          0.0004780114722753346,
          0.009082217973231358,
          0.0004780114722753346,
          0.0004780114722753346,
          0.0006373486297004461,
          0.0014340344168260039,
          0.00031867431485022306,
          0.00031867431485022306,
          0.0033460803059273425,
          0.00015933715742511153,
          0.0033460803059273425,
          0.0004780114722753346,
          0.0028680688336520078,
          0.024697259400892287,
          0.002390057361376673,
          0.005098789037603569,
          0.005576800509878904,
          0.0014340344168260039,
          0.003027405991077119,
          0.02501593371574251,
          0.0015933715742511153,
          0.00015933715742511153,
          0.0004780114722753346,
          0.0007966857871255577,
          0.0015933715742511153,
          0.0006373486297004461,
          0.00031867431485022306,
          0.0006373486297004461,
          0.00015933715742511153,
          0.0007966857871255577,
          0.0019120458891013384,
          0.0022307202039515616,
          0.0041427660930529,
          0.0004780114722753346,
          0.0006373486297004461,
          0.002708731676226896,
          0.0007966857871255577,
          0.001752708731676227,
          0.0006373486297004461,
          0.00015933715742511153,
          0.008126195028680689,
          0.001752708731676227,
          0.00015933715742511153,
          0.00207138304652645,
          0.0004780114722753346,
          0.0009560229445506692,
          0.0006373486297004461,
          0.0007966857871255577,
          0.00031867431485022306,
          0.01354365838113448,
          0.01864244741873805,
          0.017367750159337156,
          0.0025493945188017845,
          0.0004780114722753346,
          0.0009560229445506692,
          0.0033460803059273425,
          0.00031867431485022306,
          0.0006373486297004461,
          0.0004780114722753346,
          0.016093052899936264,
          0.0019120458891013384,
          0.00015933715742511153,
          0.0041427660930529,
          0.009789156626506024,
          0.007530120481927711,
          0.06927710843373494,
          0.0015060240963855422,
          0.0030120481927710845,
          0.0037650602409638554,
          0.010542168674698794,
          0.015060240963855422,
          0.01355421686746988,
          0.0015060240963855422,
          0.022590361445783132,
          0.009036144578313253,
          0.002259036144578313,
          0.17093373493975902,
          0.002259036144578313,
          0.0030120481927710845,
          0.009036144578313253,
          0.005271084337349397,
          0.0007530120481927711,
          0.008283132530120483,
          0.0015060240963855422,
          0.007530120481927711,
          0.0015060240963855422,
          0.0030120481927710845,
          0.00677710843373494,
          0.0007530120481927711,
          0.006024096385542169,
          0.0037650602409638554,
          0.007530120481927711,
          0.1197289156626506,
          0.012048192771084338,
          0.05271084337349398,
          0.007530120481927711,
          0.22439759036144577,
          0.0007530120481927711,
          0.0030120481927710845,
          0.005271084337349397,
          0.010542168674698794,
          0.016566265060240965,
          0.00677710843373494,
          0.0007530120481927711,
          0.0007530120481927711,
          0.0037650602409638554,
          0.039909638554216864,
          0.0030120481927710845,
          0.08207831325301204,
          0.0030120481927710845,
          0.44047619047619047,
          0.047619047619047616,
          0.14285714285714285,
          0.023809523809523808,
          0.32142857142857145,
          0.011904761904761904,
          0.011904761904761904,
          0.03328290468986384,
          0.01361573373676248,
          0.039334341906202726,
          0.12102874432677761,
          0.02118003025718608,
          0.0045385779122541605,
          0.12254160363086233,
          0.11649016641452345,
          0.0030257186081694403,
          0.0015128593040847202,
          0.02118003025718608,
          0.006051437216338881,
          0.01664145234493192,
          0.006051437216338881,
          0.006051437216338881,
          0.08169440242057488,
          0.037821482602118005,
          0.0015128593040847202,
          0.01664145234493192,
          0.0030257186081694403,
          0.006051437216338881,
          0.11195158850226929,
          0.12405446293494705,
          0.07110438729198185,
          0.01361573373676248,
          0.006993006993006993,
          0.0034965034965034965,
          0.027972027972027972,
          0.03496503496503497,
          0.01048951048951049,
          0.05944055944055944,
          0.006993006993006993,
          0.7132867132867133,
          0.04895104895104895,
          0.0034965034965034965,
          0.04195804195804196,
          0.01048951048951049,
          0.017482517482517484,
          0.0034965034965034965,
          0.01048951048951049,
          0.000011939585696376336,
          0.11497821025610411,
          0.11699600023879171,
          0.02965793086979882,
          0.0011501800887509202,
          0.004552962012218176,
          0.004942988478299803,
          0.00003183889519033689,
          0.001070582850775078,
          0.000007959723797584223,
          0.05218394921696217,
          0.09694147613077826,
          0.06323204584800908,
          0.000007959723797584223,
          0.00016317433785047658,
          0.000027859033291544782,
          0.04094481921477325,
          0.045477881917497465,
          0.01006109088014646,
          0.0002945097805106163,
          0.021738005691202517,
          0.000003979861898792112,
          0.000011939585696376336,
          0.000027859033291544782,
          0.000015919447595168446,
          0.00019103337114202137,
          0.00004377848088671323,
          0.08813802161065011,
          0.0031878693809324816,
          0.000011939585696376336,
          0.00005969792848188168,
          0.05760452112311703,
          0.20351023819473466,
          0.00002387917139275267,
          0.010474996517620839,
          0.021590750800947207,
          0.005579766382106541,
          0.000011939585696376336,
          0.000003979861898792112,
          0.004783794002348118,
          0.00014725489025530815,
          0.00010347640936859491,
          0.013793103448275862,
          0.003134796238244514,
          0.0018808777429467085,
          0.5623824451410658,
          0.005015673981191223,
          0.025078369905956112,
          0.003761755485893417,
          0.00438871473354232,
          0.006269592476489028,
          0.2746081504702194,
          0.09153605015673981,
          0.008150470219435737,
          0.0005305039787798408,
          0.004244031830238726,
          0.0010610079575596816,
          0.002122015915119363,
          0.23076923076923078,
          0.0015915119363395225,
          0.0005305039787798408,
          0.03607427055702918,
          0.13050397877984085,
          0.007427055702917772,
          0.01220159151193634,
          0.0015915119363395225,
          0.19045092838196287,
          0.023342175066312996,
          0.003713527851458886,
          0.004244031830238726,
          0.0005305039787798408,
          0.0010610079575596816,
          0.0015915119363395225,
          0.009018567639257295,
          0.0010610079575596816,
          0.0005305039787798408,
          0.0010610079575596816,
          0.002652519893899204,
          0.011140583554376658,
          0.0015915119363395225,
          0.020159151193633953,
          0.021750663129973476,
          0.0010610079575596816,
          0.0005305039787798408,
          0.05676392572944297,
          0.0015915119363395225,
          0.0005305039787798408,
          0.0005305039787798408,
          0.0005305039787798408,
          0.0005305039787798408,
          0.002122015915119363,
          0.026525198938992044,
          0.0005305039787798408,
          0.0005305039787798408,
          0.004774535809018567,
          0.01909814323607427,
          0.023342175066312996,
          0.06631299734748011,
          0.002652519893899204,
          0.0010610079575596816,
          0.03129973474801061,
          0.0010610079575596816,
          0.03607427055702918,
          0.11484246428315882,
          0.11685787201564624,
          0.02962291602070265,
          0.00008745358996986826,
          0.00003975163180448557,
          0.00007950326360897115,
          0.00003975163180448557,
          0.0007870823097288144,
          0.00454758667843315,
          0.00030608756489453894,
          0.000003975163180448558,
          0.004937152670117109,
          0.00011130456905255961,
          0.0006081999666086293,
          0.000035776468624037014,
          0.000011925489541345673,
          0.00005962744770672836,
          0.00014310587449614806,
          0.052122339622041484,
          0.09682702474936596,
          0.06315739261096669,
          0.0001510562008570452,
          0.04089647880045476,
          0.04542418966298566,
          0.000035776468624037014,
          0.010049212520173953,
          0.02171234129161002,
          0.000051677121345831244,
          0.00014310587449614806,
          0.000011925489541345673,
          0.08803396379421376,
          0.00010335424269166249,
          0.0031841057075392945,
          0.0001510562008570452,
          0.05753651187381242,
          0.20326996923223697,
          0.000055652284526279804,
          0.010462629490940603,
          0.000003975163180448558,
          0.000007950326360897115,
          0.00004372679498493413,
          0.00048099474483427547,
          0.021565260253933426,
          0.0055731787789888776,
          0.00033788887033812736,
          0.004778146142899166,
          0.000011925489541345673,
          0.0003895659916839586,
          0.00030608756489453894,
          0.032280063650829735,
          0.0004546487838145033,
          0.023869061150261422,
          0.0021974691217700993,
          0.003485640675911192,
          0.19731757217549442,
          0.0007577479730241721,
          0.0006061983784193377,
          0.000681973175721755,
          0.0007577479730241721,
          0.03781162385390619,
          0.032431613245434567,
          0.00022732439190725165,
          0.00022732439190725165,
          0.00871410168977798,
          0.0007577479730241721,
          0.006516632568007881,
          0.010305372433128741,
          0.0032583162840039404,
          0.00030309918920966885,
          0.00007577479730241721,
          0.00007577479730241721,
          0.00007577479730241721,
          0.0009092975676290066,
          0.0009850723649314239,
          0.015988482230810033,
          0.00015154959460483443,
          0.00037887398651208605,
          0.004167613851632947,
          0.05266348412517997,
          0.0005304235811169206,
          0.0012881715541410927,
          0.0030309918920966884,
          0.0004546487838145033,
          0.00030309918920966885,
          0.0008335227703265894,
          0.00007577479730241721,
          0.00015154959460483443,
          0.025233007501704933,
          0.2648329165719482,
          0.24111540501629158,
          0.00007577479730241721,
          0.0016670455406531787,
          0.011441994392665,
          0.00022732439190725165,
          0.00007577479730241721,
          0.00681973175721755,
          0.0015154959460483442,
          0.00022732439190725165,
          0.0016670455406531787,
          0.002103049421661409,
          0.0035050823694356818,
          0.01962846126883982,
          0.005257623554153523,
          0.0024535576586049773,
          0.005608131791097091,
          0.0010515247108307045,
          0.005958640028040659,
          0.030143708377146864,
          0.008412197686645636,
          0.0024535576586049773,
          0.0028040658955485456,
          0.030844724851034,
          0.023133543638275498,
          0.44654749386610587,
          0.0010515247108307045,
          0.0003505082369435682,
          0.0010515247108307045,
          0.0003505082369435682,
          0.014370837714686295,
          0.04451454609183316,
          0.0024535576586049773,
          0.011216263582194182,
          0.09603925692253767,
          0.0014020329477742728,
          0.002103049421661409,
          0.0010515247108307045,
          0.00385559060637925,
          0.0003505082369435682,
          0.008061689449702068,
          0.0017525411847178409,
          0.005958640028040659,
          0.002103049421661409,
          0.0010515247108307045,
          0.0003505082369435682,
          0.0010515247108307045,
          0.008412197686645636,
          0.004206098843322818,
          0.0007010164738871364,
          0.0010515247108307045,
          0.0010515247108307045,
          0.0003505082369435682,
          0.009113214160532773,
          0.004206098843322818,
          0.00981423063441991,
          0.03995793901156677,
          0.0010515247108307045,
          0.0010515247108307045,
          0.0003505082369435682,
          0.0003505082369435682,
          0.0028040658955485456,
          0.0035050823694356818,
          0.0007010164738871364,
          0.07080266386260077,
          0.0003505082369435682,
          0.0003505082369435682,
          0.0003505082369435682,
          0.002103049421661409,
          0.035401331931300385,
          0.004907115317209955,
          0.00385559060637925,
          0.0007010164738871364,
          0.0010515247108307045,
          0.0010515247108307045
         ]
        }
       ],
       "layout": {
        "height": 1000,
        "template": {
         "data": {
          "bar": [
           {
            "error_x": {
             "color": "#f2f5fa"
            },
            "error_y": {
             "color": "#f2f5fa"
            },
            "marker": {
             "line": {
              "color": "rgb(17,17,17)",
              "width": 0.5
             },
             "pattern": {
              "fillmode": "overlay",
              "size": 10,
              "solidity": 0.2
             }
            },
            "type": "bar"
           }
          ],
          "barpolar": [
           {
            "marker": {
             "line": {
              "color": "rgb(17,17,17)",
              "width": 0.5
             },
             "pattern": {
              "fillmode": "overlay",
              "size": 10,
              "solidity": 0.2
             }
            },
            "type": "barpolar"
           }
          ],
          "carpet": [
           {
            "aaxis": {
             "endlinecolor": "#A2B1C6",
             "gridcolor": "#506784",
             "linecolor": "#506784",
             "minorgridcolor": "#506784",
             "startlinecolor": "#A2B1C6"
            },
            "baxis": {
             "endlinecolor": "#A2B1C6",
             "gridcolor": "#506784",
             "linecolor": "#506784",
             "minorgridcolor": "#506784",
             "startlinecolor": "#A2B1C6"
            },
            "type": "carpet"
           }
          ],
          "choropleth": [
           {
            "colorbar": {
             "outlinewidth": 0,
             "ticks": ""
            },
            "type": "choropleth"
           }
          ],
          "contour": [
           {
            "colorbar": {
             "outlinewidth": 0,
             "ticks": ""
            },
            "colorscale": [
             [
              0,
              "#0d0887"
             ],
             [
              0.1111111111111111,
              "#46039f"
             ],
             [
              0.2222222222222222,
              "#7201a8"
             ],
             [
              0.3333333333333333,
              "#9c179e"
             ],
             [
              0.4444444444444444,
              "#bd3786"
             ],
             [
              0.5555555555555556,
              "#d8576b"
             ],
             [
              0.6666666666666666,
              "#ed7953"
             ],
             [
              0.7777777777777778,
              "#fb9f3a"
             ],
             [
              0.8888888888888888,
              "#fdca26"
             ],
             [
              1,
              "#f0f921"
             ]
            ],
            "type": "contour"
           }
          ],
          "contourcarpet": [
           {
            "colorbar": {
             "outlinewidth": 0,
             "ticks": ""
            },
            "type": "contourcarpet"
           }
          ],
          "heatmap": [
           {
            "colorbar": {
             "outlinewidth": 0,
             "ticks": ""
            },
            "colorscale": [
             [
              0,
              "#0d0887"
             ],
             [
              0.1111111111111111,
              "#46039f"
             ],
             [
              0.2222222222222222,
              "#7201a8"
             ],
             [
              0.3333333333333333,
              "#9c179e"
             ],
             [
              0.4444444444444444,
              "#bd3786"
             ],
             [
              0.5555555555555556,
              "#d8576b"
             ],
             [
              0.6666666666666666,
              "#ed7953"
             ],
             [
              0.7777777777777778,
              "#fb9f3a"
             ],
             [
              0.8888888888888888,
              "#fdca26"
             ],
             [
              1,
              "#f0f921"
             ]
            ],
            "type": "heatmap"
           }
          ],
          "heatmapgl": [
           {
            "colorbar": {
             "outlinewidth": 0,
             "ticks": ""
            },
            "colorscale": [
             [
              0,
              "#0d0887"
             ],
             [
              0.1111111111111111,
              "#46039f"
             ],
             [
              0.2222222222222222,
              "#7201a8"
             ],
             [
              0.3333333333333333,
              "#9c179e"
             ],
             [
              0.4444444444444444,
              "#bd3786"
             ],
             [
              0.5555555555555556,
              "#d8576b"
             ],
             [
              0.6666666666666666,
              "#ed7953"
             ],
             [
              0.7777777777777778,
              "#fb9f3a"
             ],
             [
              0.8888888888888888,
              "#fdca26"
             ],
             [
              1,
              "#f0f921"
             ]
            ],
            "type": "heatmapgl"
           }
          ],
          "histogram": [
           {
            "marker": {
             "pattern": {
              "fillmode": "overlay",
              "size": 10,
              "solidity": 0.2
             }
            },
            "type": "histogram"
           }
          ],
          "histogram2d": [
           {
            "colorbar": {
             "outlinewidth": 0,
             "ticks": ""
            },
            "colorscale": [
             [
              0,
              "#0d0887"
             ],
             [
              0.1111111111111111,
              "#46039f"
             ],
             [
              0.2222222222222222,
              "#7201a8"
             ],
             [
              0.3333333333333333,
              "#9c179e"
             ],
             [
              0.4444444444444444,
              "#bd3786"
             ],
             [
              0.5555555555555556,
              "#d8576b"
             ],
             [
              0.6666666666666666,
              "#ed7953"
             ],
             [
              0.7777777777777778,
              "#fb9f3a"
             ],
             [
              0.8888888888888888,
              "#fdca26"
             ],
             [
              1,
              "#f0f921"
             ]
            ],
            "type": "histogram2d"
           }
          ],
          "histogram2dcontour": [
           {
            "colorbar": {
             "outlinewidth": 0,
             "ticks": ""
            },
            "colorscale": [
             [
              0,
              "#0d0887"
             ],
             [
              0.1111111111111111,
              "#46039f"
             ],
             [
              0.2222222222222222,
              "#7201a8"
             ],
             [
              0.3333333333333333,
              "#9c179e"
             ],
             [
              0.4444444444444444,
              "#bd3786"
             ],
             [
              0.5555555555555556,
              "#d8576b"
             ],
             [
              0.6666666666666666,
              "#ed7953"
             ],
             [
              0.7777777777777778,
              "#fb9f3a"
             ],
             [
              0.8888888888888888,
              "#fdca26"
             ],
             [
              1,
              "#f0f921"
             ]
            ],
            "type": "histogram2dcontour"
           }
          ],
          "mesh3d": [
           {
            "colorbar": {
             "outlinewidth": 0,
             "ticks": ""
            },
            "type": "mesh3d"
           }
          ],
          "parcoords": [
           {
            "line": {
             "colorbar": {
              "outlinewidth": 0,
              "ticks": ""
             }
            },
            "type": "parcoords"
           }
          ],
          "pie": [
           {
            "automargin": true,
            "type": "pie"
           }
          ],
          "scatter": [
           {
            "marker": {
             "line": {
              "color": "#283442"
             }
            },
            "type": "scatter"
           }
          ],
          "scatter3d": [
           {
            "line": {
             "colorbar": {
              "outlinewidth": 0,
              "ticks": ""
             }
            },
            "marker": {
             "colorbar": {
              "outlinewidth": 0,
              "ticks": ""
             }
            },
            "type": "scatter3d"
           }
          ],
          "scattercarpet": [
           {
            "marker": {
             "colorbar": {
              "outlinewidth": 0,
              "ticks": ""
             }
            },
            "type": "scattercarpet"
           }
          ],
          "scattergeo": [
           {
            "marker": {
             "colorbar": {
              "outlinewidth": 0,
              "ticks": ""
             }
            },
            "type": "scattergeo"
           }
          ],
          "scattergl": [
           {
            "marker": {
             "line": {
              "color": "#283442"
             }
            },
            "type": "scattergl"
           }
          ],
          "scattermapbox": [
           {
            "marker": {
             "colorbar": {
              "outlinewidth": 0,
              "ticks": ""
             }
            },
            "type": "scattermapbox"
           }
          ],
          "scatterpolar": [
           {
            "marker": {
             "colorbar": {
              "outlinewidth": 0,
              "ticks": ""
             }
            },
            "type": "scatterpolar"
           }
          ],
          "scatterpolargl": [
           {
            "marker": {
             "colorbar": {
              "outlinewidth": 0,
              "ticks": ""
             }
            },
            "type": "scatterpolargl"
           }
          ],
          "scatterternary": [
           {
            "marker": {
             "colorbar": {
              "outlinewidth": 0,
              "ticks": ""
             }
            },
            "type": "scatterternary"
           }
          ],
          "surface": [
           {
            "colorbar": {
             "outlinewidth": 0,
             "ticks": ""
            },
            "colorscale": [
             [
              0,
              "#0d0887"
             ],
             [
              0.1111111111111111,
              "#46039f"
             ],
             [
              0.2222222222222222,
              "#7201a8"
             ],
             [
              0.3333333333333333,
              "#9c179e"
             ],
             [
              0.4444444444444444,
              "#bd3786"
             ],
             [
              0.5555555555555556,
              "#d8576b"
             ],
             [
              0.6666666666666666,
              "#ed7953"
             ],
             [
              0.7777777777777778,
              "#fb9f3a"
             ],
             [
              0.8888888888888888,
              "#fdca26"
             ],
             [
              1,
              "#f0f921"
             ]
            ],
            "type": "surface"
           }
          ],
          "table": [
           {
            "cells": {
             "fill": {
              "color": "#506784"
             },
             "line": {
              "color": "rgb(17,17,17)"
             }
            },
            "header": {
             "fill": {
              "color": "#2a3f5f"
             },
             "line": {
              "color": "rgb(17,17,17)"
             }
            },
            "type": "table"
           }
          ]
         },
         "layout": {
          "annotationdefaults": {
           "arrowcolor": "#f2f5fa",
           "arrowhead": 0,
           "arrowwidth": 1
          },
          "autotypenumbers": "strict",
          "coloraxis": {
           "colorbar": {
            "outlinewidth": 0,
            "ticks": ""
           }
          },
          "colorscale": {
           "diverging": [
            [
             0,
             "#8e0152"
            ],
            [
             0.1,
             "#c51b7d"
            ],
            [
             0.2,
             "#de77ae"
            ],
            [
             0.3,
             "#f1b6da"
            ],
            [
             0.4,
             "#fde0ef"
            ],
            [
             0.5,
             "#f7f7f7"
            ],
            [
             0.6,
             "#e6f5d0"
            ],
            [
             0.7,
             "#b8e186"
            ],
            [
             0.8,
             "#7fbc41"
            ],
            [
             0.9,
             "#4d9221"
            ],
            [
             1,
             "#276419"
            ]
           ],
           "sequential": [
            [
             0,
             "#0d0887"
            ],
            [
             0.1111111111111111,
             "#46039f"
            ],
            [
             0.2222222222222222,
             "#7201a8"
            ],
            [
             0.3333333333333333,
             "#9c179e"
            ],
            [
             0.4444444444444444,
             "#bd3786"
            ],
            [
             0.5555555555555556,
             "#d8576b"
            ],
            [
             0.6666666666666666,
             "#ed7953"
            ],
            [
             0.7777777777777778,
             "#fb9f3a"
            ],
            [
             0.8888888888888888,
             "#fdca26"
            ],
            [
             1,
             "#f0f921"
            ]
           ],
           "sequentialminus": [
            [
             0,
             "#0d0887"
            ],
            [
             0.1111111111111111,
             "#46039f"
            ],
            [
             0.2222222222222222,
             "#7201a8"
            ],
            [
             0.3333333333333333,
             "#9c179e"
            ],
            [
             0.4444444444444444,
             "#bd3786"
            ],
            [
             0.5555555555555556,
             "#d8576b"
            ],
            [
             0.6666666666666666,
             "#ed7953"
            ],
            [
             0.7777777777777778,
             "#fb9f3a"
            ],
            [
             0.8888888888888888,
             "#fdca26"
            ],
            [
             1,
             "#f0f921"
            ]
           ]
          },
          "colorway": [
           "#636efa",
           "#EF553B",
           "#00cc96",
           "#ab63fa",
           "#FFA15A",
           "#19d3f3",
           "#FF6692",
           "#B6E880",
           "#FF97FF",
           "#FECB52"
          ],
          "font": {
           "color": "#f2f5fa"
          },
          "geo": {
           "bgcolor": "rgb(17,17,17)",
           "lakecolor": "rgb(17,17,17)",
           "landcolor": "rgb(17,17,17)",
           "showlakes": true,
           "showland": true,
           "subunitcolor": "#506784"
          },
          "hoverlabel": {
           "align": "left"
          },
          "hovermode": "closest",
          "mapbox": {
           "style": "dark"
          },
          "paper_bgcolor": "rgb(17,17,17)",
          "plot_bgcolor": "rgb(17,17,17)",
          "polar": {
           "angularaxis": {
            "gridcolor": "#506784",
            "linecolor": "#506784",
            "ticks": ""
           },
           "bgcolor": "rgb(17,17,17)",
           "radialaxis": {
            "gridcolor": "#506784",
            "linecolor": "#506784",
            "ticks": ""
           }
          },
          "scene": {
           "xaxis": {
            "backgroundcolor": "rgb(17,17,17)",
            "gridcolor": "#506784",
            "gridwidth": 2,
            "linecolor": "#506784",
            "showbackground": true,
            "ticks": "",
            "zerolinecolor": "#C8D4E3"
           },
           "yaxis": {
            "backgroundcolor": "rgb(17,17,17)",
            "gridcolor": "#506784",
            "gridwidth": 2,
            "linecolor": "#506784",
            "showbackground": true,
            "ticks": "",
            "zerolinecolor": "#C8D4E3"
           },
           "zaxis": {
            "backgroundcolor": "rgb(17,17,17)",
            "gridcolor": "#506784",
            "gridwidth": 2,
            "linecolor": "#506784",
            "showbackground": true,
            "ticks": "",
            "zerolinecolor": "#C8D4E3"
           }
          },
          "shapedefaults": {
           "line": {
            "color": "#f2f5fa"
           }
          },
          "sliderdefaults": {
           "bgcolor": "#C8D4E3",
           "bordercolor": "rgb(17,17,17)",
           "borderwidth": 1,
           "tickwidth": 0
          },
          "ternary": {
           "aaxis": {
            "gridcolor": "#506784",
            "linecolor": "#506784",
            "ticks": ""
           },
           "baxis": {
            "gridcolor": "#506784",
            "linecolor": "#506784",
            "ticks": ""
           },
           "bgcolor": "rgb(17,17,17)",
           "caxis": {
            "gridcolor": "#506784",
            "linecolor": "#506784",
            "ticks": ""
           }
          },
          "title": {
           "x": 0.05
          },
          "updatemenudefaults": {
           "bgcolor": "#506784",
           "borderwidth": 0
          },
          "xaxis": {
           "automargin": true,
           "gridcolor": "#283442",
           "linecolor": "#506784",
           "ticks": "",
           "title": {
            "standoff": 15
           },
           "zerolinecolor": "#283442",
           "zerolinewidth": 2
          },
          "yaxis": {
           "automargin": true,
           "gridcolor": "#283442",
           "linecolor": "#506784",
           "ticks": "",
           "title": {
            "standoff": 15
           },
           "zerolinecolor": "#283442",
           "zerolinewidth": 2
          }
         }
        },
        "title": {
         "text": "Percentage of Total Sales by Product and Store (With Sales)"
        },
        "width": 1000,
        "xaxis": {
         "title": {
          "text": "Product Name"
         }
        },
        "yaxis": {
         "title": {
          "text": "Store Name"
         }
        }
       }
      }
     },
     "metadata": {},
     "output_type": "display_data"
    }
   ],
   "source": [
    "product_store_sales = (\n",
    "    all_product_data[all_product_data[\"has_sales\"] == True]\n",
    "    .groupby([\"product_name_chinese_name\", \"Store Name\"])[\"Total Sales\"]\n",
    "    .sum()\n",
    "    .reset_index()\n",
    ")\n",
    "\n",
    "# Calculate the total sales for each product\n",
    "product_total_sales = (\n",
    "    all_product_data[all_product_data[\"has_sales\"] == True]\n",
    "    .groupby(\"product_name_chinese_name\")[\"Total Sales\"]\n",
    "    .sum()\n",
    ")\n",
    "\n",
    "# Calculate the percentage of total sales for each product in each store\n",
    "product_store_sales[\"Percentage of Total Sales\"] = product_store_sales.apply(\n",
    "    lambda row: row[\"Total Sales\"]\n",
    "    / product_total_sales[row[\"product_name_chinese_name\"]],\n",
    "    axis=1,\n",
    ")\n",
    "\n",
    "# Create the heatmap\n",
    "fig = plot_heatmap_plotly(\n",
    "    data=product_store_sales,\n",
    "    x=\"product_name_chinese_name\",\n",
    "    y=\"Store Name\",\n",
    "    z=\"Percentage of Total Sales\",\n",
    "    title=\"Percentage of Total Sales by Product and Store (With Sales)\",\n",
    "    x_label=\"Product Name\",\n",
    "    y_label=\"Store Name\",\n",
    "    colorbar_title=\"%\",\n",
    ")\n",
    "\n",
    "fig.show()"
   ]
  },
  {
   "cell_type": "code",
   "execution_count": null,
   "metadata": {},
   "outputs": [],
   "source": []
  }
 ],
 "metadata": {
  "kernelspec": {
   "display_name": "venv",
   "language": "python",
   "name": "python3"
  },
  "language_info": {
   "codemirror_mode": {
    "name": "ipython",
    "version": 3
   },
   "file_extension": ".py",
   "mimetype": "text/x-python",
   "name": "python",
   "nbconvert_exporter": "python",
   "pygments_lexer": "ipython3",
   "version": "3.12.0"
  }
 },
 "nbformat": 4,
 "nbformat_minor": 2
}
